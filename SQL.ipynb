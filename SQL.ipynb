{
 "cells": [
  {
   "cell_type": "markdown",
   "metadata": {},
   "source": [
    "<div class=\"alert alert-success\">\n",
    "<b>Reviewer's comment V2</b>\n",
    "\n",
    "The project is accepted! Good luck on the next sprint!\n",
    "\n",
    "</div>"
   ]
  },
  {
   "cell_type": "markdown",
   "metadata": {},
   "source": [
    "**Review**\n",
    "\n",
    "Hi, my name is Dmitry and I will be reviewing your project.\n",
    "  \n",
    "You can find my comments in colored markdown cells:\n",
    "  \n",
    "<div class=\"alert alert-success\">\n",
    "  If everything is done successfully.\n",
    "</div>\n",
    "  \n",
    "<div class=\"alert alert-warning\">\n",
    "  If I have some (optional) suggestions, or questions to think about, or general comments.\n",
    "</div>\n",
    "  \n",
    "<div class=\"alert alert-danger\">\n",
    "  If a section requires some corrections. Work can't be accepted with red comments.\n",
    "</div>\n",
    "  \n",
    "Please don't remove my comments, as it will make further review iterations much harder for me.\n",
    "  \n",
    "Feel free to reply to my comments or ask questions using the following template:\n",
    "  \n",
    "<div class=\"alert alert-info\">\n",
    "  For your comments and questions.\n",
    "</div>\n",
    "  \n",
    "First of all, thank you for turning in the project! Unfortunately it seems that the hypothesis testing is missing (maybe the project didn't save correctly?)"
   ]
  },
  {
   "cell_type": "code",
   "execution_count": 2,
   "metadata": {},
   "outputs": [],
   "source": [
    "import pandas as pd\n",
    "import matplotlib as plt\n",
    "import matplotlib.pyplot as plt\n",
    "import matplotlib as mpl\n",
    "from scipy import stats as st\n",
    "import numpy as np"
   ]
  },
  {
   "cell_type": "code",
   "execution_count": 3,
   "metadata": {},
   "outputs": [],
   "source": [
    "company_trips=pd.read_csv('/datasets/project_sql_result_01.csv')"
   ]
  },
  {
   "cell_type": "code",
   "execution_count": 4,
   "metadata": {},
   "outputs": [],
   "source": [
    "neighborhood_trips=pd.read_csv('/datasets/project_sql_result_04.csv')"
   ]
  },
  {
   "cell_type": "code",
   "execution_count": 5,
   "metadata": {
    "scrolled": true
   },
   "outputs": [
    {
     "data": {
      "text/html": [
       "<div>\n",
       "<style scoped>\n",
       "    .dataframe tbody tr th:only-of-type {\n",
       "        vertical-align: middle;\n",
       "    }\n",
       "\n",
       "    .dataframe tbody tr th {\n",
       "        vertical-align: top;\n",
       "    }\n",
       "\n",
       "    .dataframe thead th {\n",
       "        text-align: right;\n",
       "    }\n",
       "</style>\n",
       "<table border=\"1\" class=\"dataframe\">\n",
       "  <thead>\n",
       "    <tr style=\"text-align: right;\">\n",
       "      <th></th>\n",
       "      <th>company_name</th>\n",
       "      <th>trips_amount</th>\n",
       "    </tr>\n",
       "  </thead>\n",
       "  <tbody>\n",
       "    <tr>\n",
       "      <th>0</th>\n",
       "      <td>Flash Cab</td>\n",
       "      <td>19558</td>\n",
       "    </tr>\n",
       "    <tr>\n",
       "      <th>1</th>\n",
       "      <td>Taxi Affiliation Services</td>\n",
       "      <td>11422</td>\n",
       "    </tr>\n",
       "    <tr>\n",
       "      <th>2</th>\n",
       "      <td>Medallion Leasing</td>\n",
       "      <td>10367</td>\n",
       "    </tr>\n",
       "    <tr>\n",
       "      <th>3</th>\n",
       "      <td>Yellow Cab</td>\n",
       "      <td>9888</td>\n",
       "    </tr>\n",
       "    <tr>\n",
       "      <th>4</th>\n",
       "      <td>Taxi Affiliation Service Yellow</td>\n",
       "      <td>9299</td>\n",
       "    </tr>\n",
       "  </tbody>\n",
       "</table>\n",
       "</div>"
      ],
      "text/plain": [
       "                      company_name  trips_amount\n",
       "0                        Flash Cab         19558\n",
       "1        Taxi Affiliation Services         11422\n",
       "2                Medallion Leasing         10367\n",
       "3                       Yellow Cab          9888\n",
       "4  Taxi Affiliation Service Yellow          9299"
      ]
     },
     "execution_count": 5,
     "metadata": {},
     "output_type": "execute_result"
    }
   ],
   "source": [
    "company_trips.head()"
   ]
  },
  {
   "cell_type": "code",
   "execution_count": 6,
   "metadata": {
    "scrolled": true
   },
   "outputs": [
    {
     "name": "stdout",
     "output_type": "stream",
     "text": [
      "<class 'pandas.core.frame.DataFrame'>\n",
      "RangeIndex: 64 entries, 0 to 63\n",
      "Data columns (total 2 columns):\n",
      " #   Column        Non-Null Count  Dtype \n",
      "---  ------        --------------  ----- \n",
      " 0   company_name  64 non-null     object\n",
      " 1   trips_amount  64 non-null     int64 \n",
      "dtypes: int64(1), object(1)\n",
      "memory usage: 1.1+ KB\n"
     ]
    }
   ],
   "source": [
    "company_trips.info()"
   ]
  },
  {
   "cell_type": "code",
   "execution_count": 7,
   "metadata": {},
   "outputs": [
    {
     "data": {
      "text/plain": [
       "0"
      ]
     },
     "execution_count": 7,
     "metadata": {},
     "output_type": "execute_result"
    }
   ],
   "source": [
    "company_trips.duplicated().sum()"
   ]
  },
  {
   "cell_type": "code",
   "execution_count": 8,
   "metadata": {},
   "outputs": [
    {
     "data": {
      "text/html": [
       "<div>\n",
       "<style scoped>\n",
       "    .dataframe tbody tr th:only-of-type {\n",
       "        vertical-align: middle;\n",
       "    }\n",
       "\n",
       "    .dataframe tbody tr th {\n",
       "        vertical-align: top;\n",
       "    }\n",
       "\n",
       "    .dataframe thead th {\n",
       "        text-align: right;\n",
       "    }\n",
       "</style>\n",
       "<table border=\"1\" class=\"dataframe\">\n",
       "  <thead>\n",
       "    <tr style=\"text-align: right;\">\n",
       "      <th></th>\n",
       "      <th>dropoff_location_name</th>\n",
       "      <th>average_trips</th>\n",
       "    </tr>\n",
       "  </thead>\n",
       "  <tbody>\n",
       "    <tr>\n",
       "      <th>0</th>\n",
       "      <td>Loop</td>\n",
       "      <td>10727.466667</td>\n",
       "    </tr>\n",
       "    <tr>\n",
       "      <th>1</th>\n",
       "      <td>River North</td>\n",
       "      <td>9523.666667</td>\n",
       "    </tr>\n",
       "    <tr>\n",
       "      <th>2</th>\n",
       "      <td>Streeterville</td>\n",
       "      <td>6664.666667</td>\n",
       "    </tr>\n",
       "    <tr>\n",
       "      <th>3</th>\n",
       "      <td>West Loop</td>\n",
       "      <td>5163.666667</td>\n",
       "    </tr>\n",
       "    <tr>\n",
       "      <th>4</th>\n",
       "      <td>O'Hare</td>\n",
       "      <td>2546.900000</td>\n",
       "    </tr>\n",
       "  </tbody>\n",
       "</table>\n",
       "</div>"
      ],
      "text/plain": [
       "  dropoff_location_name  average_trips\n",
       "0                  Loop   10727.466667\n",
       "1           River North    9523.666667\n",
       "2         Streeterville    6664.666667\n",
       "3             West Loop    5163.666667\n",
       "4                O'Hare    2546.900000"
      ]
     },
     "execution_count": 8,
     "metadata": {},
     "output_type": "execute_result"
    }
   ],
   "source": [
    "neighborhood_trips.head()\n"
   ]
  },
  {
   "cell_type": "code",
   "execution_count": 9,
   "metadata": {},
   "outputs": [
    {
     "name": "stdout",
     "output_type": "stream",
     "text": [
      "<class 'pandas.core.frame.DataFrame'>\n",
      "RangeIndex: 94 entries, 0 to 93\n",
      "Data columns (total 2 columns):\n",
      " #   Column                 Non-Null Count  Dtype  \n",
      "---  ------                 --------------  -----  \n",
      " 0   dropoff_location_name  94 non-null     object \n",
      " 1   average_trips          94 non-null     float64\n",
      "dtypes: float64(1), object(1)\n",
      "memory usage: 1.6+ KB\n"
     ]
    }
   ],
   "source": [
    "neighborhood_trips.info()"
   ]
  },
  {
   "cell_type": "code",
   "execution_count": 10,
   "metadata": {},
   "outputs": [
    {
     "data": {
      "text/plain": [
       "0"
      ]
     },
     "execution_count": 10,
     "metadata": {},
     "output_type": "execute_result"
    }
   ],
   "source": [
    "neighborhood_trips.duplicated().sum()"
   ]
  },
  {
   "cell_type": "markdown",
   "metadata": {},
   "source": [
    "<div class=\"alert alert-success\">\n",
    "<b>Reviewer's comment</b>\n",
    "\n",
    "Alright, the data was loaded and inspected!\n",
    "\n",
    "</div>"
   ]
  },
  {
   "cell_type": "code",
   "execution_count": 11,
   "metadata": {},
   "outputs": [],
   "source": [
    "neighborhood_trips.sort_values(by='average_trips',ascending=False,inplace=True)"
   ]
  },
  {
   "cell_type": "code",
   "execution_count": 12,
   "metadata": {},
   "outputs": [],
   "source": [
    "neighborhood_trips=neighborhood_trips[0:10]"
   ]
  },
  {
   "cell_type": "code",
   "execution_count": 13,
   "metadata": {},
   "outputs": [
    {
     "data": {
      "image/png": "[encoded data removed]",
      "text/plain": [
       "<Figure size 432x288 with 1 Axes>"
      ]
     },
     "metadata": {
      "needs_background": "light"
     },
     "output_type": "display_data"
    }
   ],
   "source": [
    "plt.bar(neighborhood_trips['dropoff_location_name'],neighborhood_trips['average_trips'])\n",
    "plt.xticks(rotation=90)\n",
    "plt.title('Average number of rides that ended in each neighborhood in November 2017.')\n",
    "plt.ylabel('Average number of rides')\n",
    "plt.xlabel('Neighborhood index')\n",
    "plt.legend(['dropoff_location_name'])\n",
    "plt.show;"
   ]
  },
  {
   "cell_type": "code",
   "execution_count": 14,
   "metadata": {},
   "outputs": [
    {
     "data": {
      "text/html": [
       "<div>\n",
       "<style scoped>\n",
       "    .dataframe tbody tr th:only-of-type {\n",
       "        vertical-align: middle;\n",
       "    }\n",
       "\n",
       "    .dataframe tbody tr th {\n",
       "        vertical-align: top;\n",
       "    }\n",
       "\n",
       "    .dataframe thead th {\n",
       "        text-align: right;\n",
       "    }\n",
       "</style>\n",
       "<table border=\"1\" class=\"dataframe\">\n",
       "  <thead>\n",
       "    <tr style=\"text-align: right;\">\n",
       "      <th></th>\n",
       "      <th>average_trips</th>\n",
       "    </tr>\n",
       "    <tr>\n",
       "      <th>dropoff_location_name</th>\n",
       "      <th></th>\n",
       "    </tr>\n",
       "  </thead>\n",
       "  <tbody>\n",
       "    <tr>\n",
       "      <th>Loop</th>\n",
       "      <td>10727.466667</td>\n",
       "    </tr>\n",
       "    <tr>\n",
       "      <th>River North</th>\n",
       "      <td>9523.666667</td>\n",
       "    </tr>\n",
       "    <tr>\n",
       "      <th>Streeterville</th>\n",
       "      <td>6664.666667</td>\n",
       "    </tr>\n",
       "    <tr>\n",
       "      <th>West Loop</th>\n",
       "      <td>5163.666667</td>\n",
       "    </tr>\n",
       "    <tr>\n",
       "      <th>O'Hare</th>\n",
       "      <td>2546.900000</td>\n",
       "    </tr>\n",
       "    <tr>\n",
       "      <th>Lake View</th>\n",
       "      <td>2420.966667</td>\n",
       "    </tr>\n",
       "    <tr>\n",
       "      <th>Grant Park</th>\n",
       "      <td>2068.533333</td>\n",
       "    </tr>\n",
       "    <tr>\n",
       "      <th>Museum Campus</th>\n",
       "      <td>1510.000000</td>\n",
       "    </tr>\n",
       "    <tr>\n",
       "      <th>Gold Coast</th>\n",
       "      <td>1364.233333</td>\n",
       "    </tr>\n",
       "    <tr>\n",
       "      <th>Sheffield &amp; DePaul</th>\n",
       "      <td>1259.766667</td>\n",
       "    </tr>\n",
       "    <tr>\n",
       "      <th>Other</th>\n",
       "      <td>0.000000</td>\n",
       "    </tr>\n",
       "  </tbody>\n",
       "</table>\n",
       "</div>"
      ],
      "text/plain": [
       "                       average_trips\n",
       "dropoff_location_name               \n",
       "Loop                    10727.466667\n",
       "River North              9523.666667\n",
       "Streeterville            6664.666667\n",
       "West Loop                5163.666667\n",
       "O'Hare                   2546.900000\n",
       "Lake View                2420.966667\n",
       "Grant Park               2068.533333\n",
       "Museum Campus            1510.000000\n",
       "Gold Coast               1364.233333\n",
       "Sheffield & DePaul       1259.766667\n",
       "Other                       0.000000"
      ]
     },
     "execution_count": 14,
     "metadata": {},
     "output_type": "execute_result"
    }
   ],
   "source": [
    "# grouping together all the rows under 1200 average_trips as \"Other\":  \n",
    "indices = neighborhood_trips[neighborhood_trips.average_trips < 1200].index\n",
    "sum_av_of_trips = neighborhood_trips.loc[indices].average_trips.sum()\n",
    "neighborhood_trips.drop(indices,axis=0,inplace=True)\n",
    "\n",
    "temp_df = pd.DataFrame([['Other',sum_av_of_trips]],columns=neighborhood_trips.columns)\n",
    "neighborhood_trips = pd.concat([neighborhood_trips,temp_df]).set_index('dropoff_location_name')\n",
    "neighborhood_trips"
   ]
  },
  {
   "cell_type": "code",
   "execution_count": 15,
   "metadata": {},
   "outputs": [
    {
     "data": {
      "image/png": "[encoded data removed]",
      "text/plain": [
       "<Figure size 1080x864 with 1 Axes>"
      ]
     },
     "metadata": {},
     "output_type": "display_data"
    }
   ],
   "source": [
    "# pie plot of neighborhoods market share of average number of rides (drop-offs): \n",
    "neighborhood_trips.plot(kind='pie', y='average_trips', autopct='%1.1f%%', figsize=(15, 12))\n",
    "plt.title('Neighborhoods market share of average number of rides (dropp-offs) in November 2017')\n",
    "plt.legend(loc = 'lower right')\n",
    "plt.show() "
   ]
  },
  {
   "cell_type": "markdown",
   "metadata": {},
   "source": [
    "**Conclusion**-Average number of rides that ended in each neighborhood in November 2017:\n",
    "\n",
    "1) **Loop** neighborhood is the most popular neighborhood as the drop-off location. \n",
    "\n",
    "2) The 4 most dominent Neighborhoods as a drop-offs location are **Loop, River-north,Streererville, west loop** they count for almost 75% of all the drop offs in november 2017.  \n"
   ]
  },
  {
   "cell_type": "code",
   "execution_count": 16,
   "metadata": {},
   "outputs": [],
   "source": [
    "company_trips.sort_values(by='trips_amount',ascending=False,inplace=True)"
   ]
  },
  {
   "cell_type": "code",
   "execution_count": 17,
   "metadata": {},
   "outputs": [],
   "source": [
    "company_trips=company_trips[0:10]"
   ]
  },
  {
   "cell_type": "code",
   "execution_count": 18,
   "metadata": {},
   "outputs": [
    {
     "data": {
      "image/png": "[encoded data removed]",
      "text/plain": [
       "<Figure size 432x288 with 1 Axes>"
      ]
     },
     "metadata": {
      "needs_background": "light"
     },
     "output_type": "display_data"
    }
   ],
   "source": [
    "plt.bar(company_trips['company_name'],company_trips['trips_amount'])\n",
    "plt.xticks(rotation=90)\n",
    "plt.title('Number of rides for each taxi company on November 15-16, 2017.')\n",
    "plt.ylabel('Number of rides')\n",
    "plt.xlabel('Taxi company')\n",
    "plt.legend(['trips_amount'])\n",
    "plt.show;"
   ]
  },
  {
   "cell_type": "code",
   "execution_count": 19,
   "metadata": {},
   "outputs": [
    {
     "data": {
      "text/html": [
       "<div>\n",
       "<style scoped>\n",
       "    .dataframe tbody tr th:only-of-type {\n",
       "        vertical-align: middle;\n",
       "    }\n",
       "\n",
       "    .dataframe tbody tr th {\n",
       "        vertical-align: top;\n",
       "    }\n",
       "\n",
       "    .dataframe thead th {\n",
       "        text-align: right;\n",
       "    }\n",
       "</style>\n",
       "<table border=\"1\" class=\"dataframe\">\n",
       "  <thead>\n",
       "    <tr style=\"text-align: right;\">\n",
       "      <th></th>\n",
       "      <th>trips_amount</th>\n",
       "    </tr>\n",
       "    <tr>\n",
       "      <th>company_name</th>\n",
       "      <th></th>\n",
       "    </tr>\n",
       "  </thead>\n",
       "  <tbody>\n",
       "    <tr>\n",
       "      <th>Flash Cab</th>\n",
       "      <td>19558</td>\n",
       "    </tr>\n",
       "    <tr>\n",
       "      <th>Taxi Affiliation Services</th>\n",
       "      <td>11422</td>\n",
       "    </tr>\n",
       "    <tr>\n",
       "      <th>Medallion Leasing</th>\n",
       "      <td>10367</td>\n",
       "    </tr>\n",
       "    <tr>\n",
       "      <th>Yellow Cab</th>\n",
       "      <td>9888</td>\n",
       "    </tr>\n",
       "    <tr>\n",
       "      <th>Taxi Affiliation Service Yellow</th>\n",
       "      <td>9299</td>\n",
       "    </tr>\n",
       "    <tr>\n",
       "      <th>Chicago Carriage Cab Corp</th>\n",
       "      <td>9181</td>\n",
       "    </tr>\n",
       "    <tr>\n",
       "      <th>City Service</th>\n",
       "      <td>8448</td>\n",
       "    </tr>\n",
       "    <tr>\n",
       "      <th>Sun Taxi</th>\n",
       "      <td>7701</td>\n",
       "    </tr>\n",
       "    <tr>\n",
       "      <th>Star North Management LLC</th>\n",
       "      <td>7455</td>\n",
       "    </tr>\n",
       "    <tr>\n",
       "      <th>Blue Ribbon Taxi Association Inc.</th>\n",
       "      <td>5953</td>\n",
       "    </tr>\n",
       "    <tr>\n",
       "      <th>Other</th>\n",
       "      <td>0</td>\n",
       "    </tr>\n",
       "  </tbody>\n",
       "</table>\n",
       "</div>"
      ],
      "text/plain": [
       "                                   trips_amount\n",
       "company_name                                   \n",
       "Flash Cab                                 19558\n",
       "Taxi Affiliation Services                 11422\n",
       "Medallion Leasing                         10367\n",
       "Yellow Cab                                 9888\n",
       "Taxi Affiliation Service Yellow            9299\n",
       "Chicago Carriage Cab Corp                  9181\n",
       "City Service                               8448\n",
       "Sun Taxi                                   7701\n",
       "Star North Management LLC                  7455\n",
       "Blue Ribbon Taxi Association Inc.          5953\n",
       "Other                                         0"
      ]
     },
     "execution_count": 19,
     "metadata": {},
     "output_type": "execute_result"
    }
   ],
   "source": [
    "# grouping together all the rows under 1200 average_trips as \"Other\":  \n",
    "indices = company_trips[company_trips.trips_amount < 1200].index\n",
    "sum_av_of_trips = company_trips.loc[indices].trips_amount.sum()\n",
    "company_trips.drop(indices,axis=0,inplace=True)\n",
    "\n",
    "temp_df = pd.DataFrame([['Other',sum_av_of_trips]],columns=company_trips.columns)\n",
    "company_trips = pd.concat([company_trips,temp_df]).set_index('company_name')\n",
    "company_trips "
   ]
  },
  {
   "cell_type": "code",
   "execution_count": 20,
   "metadata": {},
   "outputs": [
    {
     "data": {
      "image/png": "[encoded data removed]",
      "text/plain": [
       "<Figure size 1080x864 with 1 Axes>"
      ]
     },
     "metadata": {},
     "output_type": "display_data"
    }
   ],
   "source": [
    "# pie plot of neighborhoods market share of average number of rides (drop-offs): \n",
    "company_trips.plot(kind='pie', y='trips_amount', autopct='%1.1f%%', figsize=(15, 12))\n",
    "plt.title('market share of trip amounts for each taxi company on November 15-16, 2017')\n",
    "plt.legend(loc = 'lower right')\n",
    "plt.show() "
   ]
  },
  {
   "cell_type": "markdown",
   "metadata": {},
   "source": [
    "**Conclusion**-Number of rides for each taxi company on November 15-16, 2017:\n",
    "\n",
    "1) **Flash cab**  is the most popular cab company. \n",
    "\n",
    "2) 4 cabs companies hold nearly half of the market trips in that period of time "
   ]
  },
  {
   "cell_type": "markdown",
   "metadata": {},
   "source": [
    "<div class=\"alert alert-success\">\n",
    "<b>Reviewer's comment</b>\n",
    "\n",
    "Top taxi companies and dropoff locations were identified successfully! Visualizations look good\n",
    "\n",
    "</div>"
   ]
  },
  {
   "cell_type": "markdown",
   "metadata": {},
   "source": [
    "# Testing hypotheses"
   ]
  },
  {
   "cell_type": "markdown",
   "metadata": {},
   "source": [
    "<div class=\"alert alert-danger\">\n",
    "<s><b>Reviewer's comment</b>\n",
    "\n",
    "The hypothesis testing is missing, could you take another look at the task?\n",
    "\n",
    "</div>"
   ]
  },
  {
   "cell_type": "code",
   "execution_count": 22,
   "metadata": {},
   "outputs": [],
   "source": [
    "results_last=pd.read_csv('/datasets/project_sql_result_07.csv')"
   ]
  },
  {
   "cell_type": "code",
   "execution_count": 26,
   "metadata": {
    "scrolled": true
   },
   "outputs": [
    {
     "data": {
      "text/html": [
       "<div>\n",
       "<style scoped>\n",
       "    .dataframe tbody tr th:only-of-type {\n",
       "        vertical-align: middle;\n",
       "    }\n",
       "\n",
       "    .dataframe tbody tr th {\n",
       "        vertical-align: top;\n",
       "    }\n",
       "\n",
       "    .dataframe thead th {\n",
       "        text-align: right;\n",
       "    }\n",
       "</style>\n",
       "<table border=\"1\" class=\"dataframe\">\n",
       "  <thead>\n",
       "    <tr style=\"text-align: right;\">\n",
       "      <th></th>\n",
       "      <th>start_ts</th>\n",
       "      <th>weather_conditions</th>\n",
       "      <th>duration_seconds</th>\n",
       "    </tr>\n",
       "  </thead>\n",
       "  <tbody>\n",
       "    <tr>\n",
       "      <th>0</th>\n",
       "      <td>2017-11-25 16:00:00</td>\n",
       "      <td>Good</td>\n",
       "      <td>2410.0</td>\n",
       "    </tr>\n",
       "    <tr>\n",
       "      <th>1</th>\n",
       "      <td>2017-11-25 14:00:00</td>\n",
       "      <td>Good</td>\n",
       "      <td>1920.0</td>\n",
       "    </tr>\n",
       "    <tr>\n",
       "      <th>2</th>\n",
       "      <td>2017-11-25 12:00:00</td>\n",
       "      <td>Good</td>\n",
       "      <td>1543.0</td>\n",
       "    </tr>\n",
       "    <tr>\n",
       "      <th>3</th>\n",
       "      <td>2017-11-04 10:00:00</td>\n",
       "      <td>Good</td>\n",
       "      <td>2512.0</td>\n",
       "    </tr>\n",
       "    <tr>\n",
       "      <th>4</th>\n",
       "      <td>2017-11-11 07:00:00</td>\n",
       "      <td>Good</td>\n",
       "      <td>1440.0</td>\n",
       "    </tr>\n",
       "  </tbody>\n",
       "</table>\n",
       "</div>"
      ],
      "text/plain": [
       "              start_ts weather_conditions  duration_seconds\n",
       "0  2017-11-25 16:00:00               Good            2410.0\n",
       "1  2017-11-25 14:00:00               Good            1920.0\n",
       "2  2017-11-25 12:00:00               Good            1543.0\n",
       "3  2017-11-04 10:00:00               Good            2512.0\n",
       "4  2017-11-11 07:00:00               Good            1440.0"
      ]
     },
     "execution_count": 26,
     "metadata": {},
     "output_type": "execute_result"
    }
   ],
   "source": [
    "results_last.head()"
   ]
  },
  {
   "cell_type": "code",
   "execution_count": 32,
   "metadata": {},
   "outputs": [],
   "source": [
    "not_rainy_duration=results_last[results_last['weather_conditions']=='Good']['duration_seconds']\n",
    "not_rainy_duration=not_rainy_duration.tolist()"
   ]
  },
  {
   "cell_type": "code",
   "execution_count": 35,
   "metadata": {},
   "outputs": [],
   "source": [
    "rainy_duration=rainy_duration.tolist()"
   ]
  },
  {
   "cell_type": "markdown",
   "metadata": {},
   "source": [
    "**Test the hypothesis:** \"The average duration of rides from the Loop to O'Hare International Airport changes on rainy Saturdays.\"\n",
    "\n",
    "**Null hypothesis**- The average duration of rides from the Loop to O'Hare International Airport is similar on rainy and not rainy saterdays\"\n"
   ]
  },
  {
   "cell_type": "code",
   "execution_count": 38,
   "metadata": {},
   "outputs": [
    {
     "name": "stdout",
     "output_type": "stream",
     "text": [
      "p-value: 6.738994326108734e-12\n"
     ]
    }
   ],
   "source": [
    "alpha =0.05\n",
    "results = st.ttest_ind(not_rainy_duration, rainy_duration, equal_var = False)\n",
    "print('p-value:',results.pvalue)"
   ]
  },
  {
   "cell_type": "code",
   "execution_count": 39,
   "metadata": {},
   "outputs": [
    {
     "name": "stdout",
     "output_type": "stream",
     "text": [
      "We reject the null hypothesis\n"
     ]
    }
   ],
   "source": [
    "if results.pvalue < alpha:\n",
    "    print(\"We reject the null hypothesis\")\n",
    "else:\n",
    "    print(\"We can't reject the null hypothesis\")"
   ]
  },
  {
   "cell_type": "markdown",
   "metadata": {},
   "source": [
    "**I rejectected the null hypothesis based on the alpha I defined, which means that we can accept the test hypothesis abovementioned**"
   ]
  },
  {
   "cell_type": "markdown",
   "metadata": {},
   "source": [
    "<div class=\"alert alert-success\">\n",
    "<b>Reviewer's comment V2</b>\n",
    "\n",
    "Great, an appropriate test was used, and the conclusion is consistent with test results\n",
    "\n",
    "</div>"
   ]
  },
  {
   "cell_type": "code",
   "execution_count": null,
   "metadata": {},
   "outputs": [],
   "source": []
  }
 ],
 "metadata": {
  "ExecuteTimeLog": [
   {
    "duration": 637,
    "start_time": "2022-03-10T16:08:33.479Z"
   },
   {
    "duration": 46,
    "start_time": "2022-03-10T16:21:23.277Z"
   },
   {
    "duration": 16,
    "start_time": "2022-03-10T16:22:37.212Z"
   },
   {
    "duration": 12,
    "start_time": "2022-03-10T16:22:48.874Z"
   },
   {
    "duration": 6,
    "start_time": "2022-03-10T16:22:55.200Z"
   },
   {
    "duration": 7,
    "start_time": "2022-03-10T16:23:05.860Z"
   },
   {
    "duration": 5,
    "start_time": "2022-03-10T17:42:16.131Z"
   },
   {
    "duration": 6,
    "start_time": "2022-03-10T17:42:19.318Z"
   },
   {
    "duration": 6,
    "start_time": "2022-03-10T17:49:11.594Z"
   },
   {
    "duration": 5,
    "start_time": "2022-03-10T17:49:34.031Z"
   },
   {
    "duration": 5,
    "start_time": "2022-03-10T17:49:38.847Z"
   },
   {
    "duration": 6,
    "start_time": "2022-03-10T17:49:49.108Z"
   },
   {
    "duration": 6,
    "start_time": "2022-03-10T17:49:54.347Z"
   },
   {
    "duration": 6,
    "start_time": "2022-03-10T17:49:57.256Z"
   },
   {
    "duration": 6,
    "start_time": "2022-03-10T17:50:09.215Z"
   },
   {
    "duration": 6,
    "start_time": "2022-03-10T17:50:58.797Z"
   },
   {
    "duration": 5,
    "start_time": "2022-03-10T17:51:04.263Z"
   },
   {
    "duration": 5,
    "start_time": "2022-03-10T17:52:00.090Z"
   },
   {
    "duration": 5,
    "start_time": "2022-03-10T17:52:05.048Z"
   },
   {
    "duration": 338,
    "start_time": "2022-03-10T17:53:57.769Z"
   },
   {
    "duration": 13,
    "start_time": "2022-03-10T17:54:23.946Z"
   },
   {
    "duration": 9,
    "start_time": "2022-03-10T17:55:23.995Z"
   },
   {
    "duration": 3,
    "start_time": "2022-03-10T18:01:34.651Z"
   },
   {
    "duration": 1313,
    "start_time": "2022-03-10T18:16:06.134Z"
   },
   {
    "duration": 107,
    "start_time": "2022-03-10T18:17:25.025Z"
   },
   {
    "duration": 2,
    "start_time": "2022-03-10T18:17:33.481Z"
   },
   {
    "duration": 2,
    "start_time": "2022-03-10T18:17:39.043Z"
   },
   {
    "duration": 18,
    "start_time": "2022-03-10T18:17:39.047Z"
   },
   {
    "duration": 17,
    "start_time": "2022-03-10T18:17:39.067Z"
   },
   {
    "duration": 6,
    "start_time": "2022-03-10T18:17:39.086Z"
   },
   {
    "duration": 5,
    "start_time": "2022-03-10T18:17:39.116Z"
   },
   {
    "duration": 6,
    "start_time": "2022-03-10T18:17:39.123Z"
   },
   {
    "duration": 6,
    "start_time": "2022-03-10T18:17:39.131Z"
   },
   {
    "duration": 6,
    "start_time": "2022-03-10T18:17:39.138Z"
   },
   {
    "duration": 6,
    "start_time": "2022-03-10T18:17:39.145Z"
   },
   {
    "duration": 4,
    "start_time": "2022-03-10T18:17:39.152Z"
   },
   {
    "duration": 1402,
    "start_time": "2022-03-10T18:17:39.157Z"
   },
   {
    "duration": 2,
    "start_time": "2022-03-10T18:19:30.453Z"
   },
   {
    "duration": 2,
    "start_time": "2022-03-10T18:19:35.049Z"
   },
   {
    "duration": 16,
    "start_time": "2022-03-10T18:19:35.056Z"
   },
   {
    "duration": 18,
    "start_time": "2022-03-10T18:19:35.074Z"
   },
   {
    "duration": 6,
    "start_time": "2022-03-10T18:19:35.094Z"
   },
   {
    "duration": 6,
    "start_time": "2022-03-10T18:19:35.101Z"
   },
   {
    "duration": 6,
    "start_time": "2022-03-10T18:19:35.108Z"
   },
   {
    "duration": 7,
    "start_time": "2022-03-10T18:19:35.115Z"
   },
   {
    "duration": 7,
    "start_time": "2022-03-10T18:19:35.124Z"
   },
   {
    "duration": 9,
    "start_time": "2022-03-10T18:19:35.132Z"
   },
   {
    "duration": 7,
    "start_time": "2022-03-10T18:19:35.143Z"
   },
   {
    "duration": 977,
    "start_time": "2022-03-10T18:19:35.151Z"
   },
   {
    "duration": 949,
    "start_time": "2022-03-10T18:20:12.509Z"
   },
   {
    "duration": 1037,
    "start_time": "2022-03-10T18:20:24.920Z"
   },
   {
    "duration": 1040,
    "start_time": "2022-03-10T18:20:35.037Z"
   },
   {
    "duration": 964,
    "start_time": "2022-03-10T18:21:09.780Z"
   },
   {
    "duration": 7375,
    "start_time": "2022-03-10T19:08:50.417Z"
   },
   {
    "duration": 7364,
    "start_time": "2022-03-10T19:09:18.842Z"
   },
   {
    "duration": 3,
    "start_time": "2022-03-10T19:09:30.164Z"
   },
   {
    "duration": 20,
    "start_time": "2022-03-10T19:09:30.172Z"
   },
   {
    "duration": 24,
    "start_time": "2022-03-10T19:09:30.194Z"
   },
   {
    "duration": 12,
    "start_time": "2022-03-10T19:09:30.220Z"
   },
   {
    "duration": 8,
    "start_time": "2022-03-10T19:09:30.235Z"
   },
   {
    "duration": 9,
    "start_time": "2022-03-10T19:09:30.245Z"
   },
   {
    "duration": 11,
    "start_time": "2022-03-10T19:09:30.255Z"
   },
   {
    "duration": 6,
    "start_time": "2022-03-10T19:09:30.268Z"
   },
   {
    "duration": 13,
    "start_time": "2022-03-10T19:09:30.276Z"
   },
   {
    "duration": 46,
    "start_time": "2022-03-10T19:09:30.291Z"
   },
   {
    "duration": 7525,
    "start_time": "2022-03-10T19:09:30.339Z"
   },
   {
    "duration": 80,
    "start_time": "2022-03-10T19:09:37.786Z"
   },
   {
    "duration": 5,
    "start_time": "2022-03-10T19:09:51.948Z"
   },
   {
    "duration": 7699,
    "start_time": "2022-03-10T19:10:04.441Z"
   },
   {
    "duration": 7620,
    "start_time": "2022-03-10T19:10:28.252Z"
   },
   {
    "duration": 7,
    "start_time": "2022-03-10T19:11:07.002Z"
   },
   {
    "duration": 8,
    "start_time": "2022-03-10T19:11:12.058Z"
   },
   {
    "duration": 7,
    "start_time": "2022-03-10T19:11:49.888Z"
   },
   {
    "duration": 7,
    "start_time": "2022-03-10T19:11:58.757Z"
   },
   {
    "duration": 3,
    "start_time": "2022-03-10T19:12:18.000Z"
   },
   {
    "duration": 290,
    "start_time": "2022-03-10T19:12:35.757Z"
   },
   {
    "duration": 422,
    "start_time": "2022-03-10T19:38:03.000Z"
   },
   {
    "duration": 470,
    "start_time": "2022-03-10T19:38:26.078Z"
   },
   {
    "duration": 266,
    "start_time": "2022-03-10T19:38:37.829Z"
   },
   {
    "duration": 48,
    "start_time": "2022-03-23T21:00:55.137Z"
   },
   {
    "duration": 8,
    "start_time": "2022-03-23T21:02:07.765Z"
   },
   {
    "duration": 8,
    "start_time": "2022-03-23T21:02:08.527Z"
   },
   {
    "duration": 788,
    "start_time": "2022-03-23T21:02:20.943Z"
   },
   {
    "duration": 27,
    "start_time": "2022-03-23T21:02:21.734Z"
   },
   {
    "duration": 30,
    "start_time": "2022-03-23T21:02:21.762Z"
   },
   {
    "duration": 11,
    "start_time": "2022-03-23T21:02:21.794Z"
   },
   {
    "duration": 12,
    "start_time": "2022-03-23T21:02:21.806Z"
   },
   {
    "duration": 6,
    "start_time": "2022-03-23T21:02:21.820Z"
   },
   {
    "duration": 10,
    "start_time": "2022-03-23T21:02:21.828Z"
   },
   {
    "duration": 17,
    "start_time": "2022-03-23T21:02:21.840Z"
   },
   {
    "duration": 7,
    "start_time": "2022-03-23T21:02:21.859Z"
   },
   {
    "duration": 4,
    "start_time": "2022-03-23T21:02:21.868Z"
   },
   {
    "duration": 5,
    "start_time": "2022-03-23T21:02:21.874Z"
   },
   {
    "duration": 210,
    "start_time": "2022-03-23T21:02:21.880Z"
   },
   {
    "duration": 43,
    "start_time": "2022-03-23T21:02:22.091Z"
   },
   {
    "duration": 0,
    "start_time": "2022-03-23T21:02:22.136Z"
   },
   {
    "duration": 254,
    "start_time": "2022-03-23T21:03:41.252Z"
   },
   {
    "duration": 10,
    "start_time": "2022-03-23T21:04:25.089Z"
   },
   {
    "duration": 11,
    "start_time": "2022-03-23T21:05:25.927Z"
   },
   {
    "duration": 16,
    "start_time": "2022-03-23T21:06:14.031Z"
   },
   {
    "duration": 2,
    "start_time": "2022-03-23T21:06:23.489Z"
   },
   {
    "duration": 10,
    "start_time": "2022-03-23T21:06:23.560Z"
   },
   {
    "duration": 10,
    "start_time": "2022-03-23T21:06:23.573Z"
   },
   {
    "duration": 9,
    "start_time": "2022-03-23T21:06:23.584Z"
   },
   {
    "duration": 13,
    "start_time": "2022-03-23T21:06:23.594Z"
   },
   {
    "duration": 5,
    "start_time": "2022-03-23T21:06:23.609Z"
   },
   {
    "duration": 8,
    "start_time": "2022-03-23T21:06:23.616Z"
   },
   {
    "duration": 11,
    "start_time": "2022-03-23T21:06:23.626Z"
   },
   {
    "duration": 8,
    "start_time": "2022-03-23T21:06:23.638Z"
   },
   {
    "duration": 3,
    "start_time": "2022-03-23T21:06:23.648Z"
   },
   {
    "duration": 5,
    "start_time": "2022-03-23T21:06:23.652Z"
   },
   {
    "duration": 206,
    "start_time": "2022-03-23T21:06:23.658Z"
   },
   {
    "duration": 12,
    "start_time": "2022-03-23T21:06:23.865Z"
   },
   {
    "duration": 358,
    "start_time": "2022-03-23T21:06:23.879Z"
   },
   {
    "duration": 3,
    "start_time": "2022-03-23T21:44:49.077Z"
   },
   {
    "duration": 3,
    "start_time": "2022-03-23T21:46:31.527Z"
   },
   {
    "duration": 202,
    "start_time": "2022-03-23T21:48:18.151Z"
   },
   {
    "duration": 190,
    "start_time": "2022-03-23T21:48:49.047Z"
   },
   {
    "duration": 174,
    "start_time": "2022-03-23T21:49:55.600Z"
   },
   {
    "duration": 197,
    "start_time": "2022-03-23T21:50:14.886Z"
   },
   {
    "duration": 190,
    "start_time": "2022-03-23T21:50:47.594Z"
   },
   {
    "duration": 971,
    "start_time": "2022-03-23T21:52:47.388Z"
   },
   {
    "duration": 1046,
    "start_time": "2022-03-23T21:53:02.151Z"
   },
   {
    "duration": 3,
    "start_time": "2022-03-23T21:53:52.612Z"
   },
   {
    "duration": 13,
    "start_time": "2022-03-23T21:53:52.617Z"
   },
   {
    "duration": 10,
    "start_time": "2022-03-23T21:53:52.631Z"
   },
   {
    "duration": 7,
    "start_time": "2022-03-23T21:53:52.642Z"
   },
   {
    "duration": 13,
    "start_time": "2022-03-23T21:53:52.650Z"
   },
   {
    "duration": 6,
    "start_time": "2022-03-23T21:53:52.665Z"
   },
   {
    "duration": 7,
    "start_time": "2022-03-23T21:53:52.672Z"
   },
   {
    "duration": 32,
    "start_time": "2022-03-23T21:53:52.681Z"
   },
   {
    "duration": 5,
    "start_time": "2022-03-23T21:53:52.716Z"
   },
   {
    "duration": 4,
    "start_time": "2022-03-23T21:53:52.723Z"
   },
   {
    "duration": 4,
    "start_time": "2022-03-23T21:53:52.729Z"
   },
   {
    "duration": 194,
    "start_time": "2022-03-23T21:53:52.735Z"
   },
   {
    "duration": 12,
    "start_time": "2022-03-23T21:53:52.931Z"
   },
   {
    "duration": 294,
    "start_time": "2022-03-23T21:53:52.944Z"
   },
   {
    "duration": 4,
    "start_time": "2022-03-23T21:53:53.239Z"
   },
   {
    "duration": 5,
    "start_time": "2022-03-23T21:53:53.244Z"
   },
   {
    "duration": 196,
    "start_time": "2022-03-23T21:53:53.251Z"
   },
   {
    "duration": 942,
    "start_time": "2022-03-23T21:54:24.327Z"
   },
   {
    "duration": 3,
    "start_time": "2022-03-23T21:54:30.251Z"
   },
   {
    "duration": 12,
    "start_time": "2022-03-23T21:54:30.257Z"
   },
   {
    "duration": 9,
    "start_time": "2022-03-23T21:54:30.271Z"
   },
   {
    "duration": 6,
    "start_time": "2022-03-23T21:54:30.281Z"
   },
   {
    "duration": 15,
    "start_time": "2022-03-23T21:54:30.289Z"
   },
   {
    "duration": 9,
    "start_time": "2022-03-23T21:54:30.306Z"
   },
   {
    "duration": 12,
    "start_time": "2022-03-23T21:54:30.317Z"
   },
   {
    "duration": 15,
    "start_time": "2022-03-23T21:54:30.331Z"
   },
   {
    "duration": 12,
    "start_time": "2022-03-23T21:54:30.348Z"
   },
   {
    "duration": 5,
    "start_time": "2022-03-23T21:54:30.361Z"
   },
   {
    "duration": 8,
    "start_time": "2022-03-23T21:54:30.368Z"
   },
   {
    "duration": 159,
    "start_time": "2022-03-23T21:54:30.377Z"
   },
   {
    "duration": 0,
    "start_time": "2022-03-23T21:54:30.538Z"
   },
   {
    "duration": 0,
    "start_time": "2022-03-23T21:54:30.539Z"
   },
   {
    "duration": 0,
    "start_time": "2022-03-23T21:54:30.540Z"
   },
   {
    "duration": 0,
    "start_time": "2022-03-23T21:54:30.541Z"
   },
   {
    "duration": 0,
    "start_time": "2022-03-23T21:54:30.542Z"
   },
   {
    "duration": 175,
    "start_time": "2022-03-23T21:58:13.417Z"
   },
   {
    "duration": 3,
    "start_time": "2022-03-23T21:58:38.623Z"
   },
   {
    "duration": 12,
    "start_time": "2022-03-23T21:58:38.628Z"
   },
   {
    "duration": 10,
    "start_time": "2022-03-23T21:58:38.641Z"
   },
   {
    "duration": 6,
    "start_time": "2022-03-23T21:58:38.653Z"
   },
   {
    "duration": 12,
    "start_time": "2022-03-23T21:58:38.660Z"
   },
   {
    "duration": 6,
    "start_time": "2022-03-23T21:58:38.674Z"
   },
   {
    "duration": 8,
    "start_time": "2022-03-23T21:58:38.681Z"
   },
   {
    "duration": 28,
    "start_time": "2022-03-23T21:58:38.691Z"
   },
   {
    "duration": 5,
    "start_time": "2022-03-23T21:58:38.721Z"
   },
   {
    "duration": 5,
    "start_time": "2022-03-23T21:58:38.728Z"
   },
   {
    "duration": 4,
    "start_time": "2022-03-23T21:58:38.734Z"
   },
   {
    "duration": 253,
    "start_time": "2022-03-23T21:58:38.740Z"
   },
   {
    "duration": 16,
    "start_time": "2022-03-23T21:58:38.995Z"
   },
   {
    "duration": 286,
    "start_time": "2022-03-23T21:58:39.013Z"
   },
   {
    "duration": 3,
    "start_time": "2022-03-23T21:58:39.300Z"
   },
   {
    "duration": 7,
    "start_time": "2022-03-23T21:58:39.305Z"
   },
   {
    "duration": 175,
    "start_time": "2022-03-23T21:58:39.314Z"
   },
   {
    "duration": 195,
    "start_time": "2022-03-23T21:58:51.544Z"
   },
   {
    "duration": 12,
    "start_time": "2022-03-23T22:22:09.750Z"
   },
   {
    "duration": 302,
    "start_time": "2022-03-23T22:28:37.111Z"
   },
   {
    "duration": 303,
    "start_time": "2022-03-23T22:32:55.280Z"
   },
   {
    "duration": 2,
    "start_time": "2022-03-23T22:47:38.236Z"
   },
   {
    "duration": 52,
    "start_time": "2022-03-25T10:19:50.708Z"
   },
   {
    "duration": 1200,
    "start_time": "2022-03-25T10:19:57.101Z"
   },
   {
    "duration": 26,
    "start_time": "2022-03-25T10:19:58.303Z"
   },
   {
    "duration": 15,
    "start_time": "2022-03-25T10:19:58.331Z"
   },
   {
    "duration": 10,
    "start_time": "2022-03-25T10:19:58.348Z"
   },
   {
    "duration": 12,
    "start_time": "2022-03-25T10:19:58.359Z"
   },
   {
    "duration": 7,
    "start_time": "2022-03-25T10:19:58.372Z"
   },
   {
    "duration": 9,
    "start_time": "2022-03-25T10:19:58.380Z"
   },
   {
    "duration": 12,
    "start_time": "2022-03-25T10:19:58.391Z"
   },
   {
    "duration": 7,
    "start_time": "2022-03-25T10:19:58.405Z"
   },
   {
    "duration": 4,
    "start_time": "2022-03-25T10:19:58.415Z"
   },
   {
    "duration": 5,
    "start_time": "2022-03-25T10:19:58.421Z"
   },
   {
    "duration": 202,
    "start_time": "2022-03-25T10:19:58.427Z"
   },
   {
    "duration": 55,
    "start_time": "2022-03-25T10:19:58.631Z"
   },
   {
    "duration": 274,
    "start_time": "2022-03-25T10:19:58.689Z"
   },
   {
    "duration": 4,
    "start_time": "2022-03-25T10:19:58.964Z"
   },
   {
    "duration": 8,
    "start_time": "2022-03-25T10:19:58.970Z"
   },
   {
    "duration": 187,
    "start_time": "2022-03-25T10:19:58.979Z"
   },
   {
    "duration": 13,
    "start_time": "2022-03-25T10:19:59.168Z"
   },
   {
    "duration": 297,
    "start_time": "2022-03-25T10:19:59.183Z"
   },
   {
    "duration": 68,
    "start_time": "2022-03-25T10:19:59.481Z"
   },
   {
    "duration": 21,
    "start_time": "2022-03-25T10:20:31.590Z"
   },
   {
    "duration": 8,
    "start_time": "2022-03-25T10:28:07.116Z"
   },
   {
    "duration": 10,
    "start_time": "2022-03-25T10:29:31.870Z"
   },
   {
    "duration": 11,
    "start_time": "2022-03-25T10:29:40.467Z"
   },
   {
    "duration": 10,
    "start_time": "2022-03-25T10:30:22.727Z"
   },
   {
    "duration": 4,
    "start_time": "2022-03-25T10:33:19.339Z"
   },
   {
    "duration": 7,
    "start_time": "2022-03-25T10:33:31.227Z"
   },
   {
    "duration": 10,
    "start_time": "2022-03-25T10:33:53.889Z"
   },
   {
    "duration": 9,
    "start_time": "2022-03-25T10:33:58.993Z"
   },
   {
    "duration": 11,
    "start_time": "2022-03-25T10:34:10.914Z"
   },
   {
    "duration": 5,
    "start_time": "2022-03-25T10:34:23.060Z"
   },
   {
    "duration": 4,
    "start_time": "2022-03-25T10:34:58.573Z"
   },
   {
    "duration": 8,
    "start_time": "2022-03-25T10:35:16.648Z"
   },
   {
    "duration": 2,
    "start_time": "2022-03-25T10:35:18.131Z"
   },
   {
    "duration": 4,
    "start_time": "2022-03-25T10:35:35.043Z"
   },
   {
    "duration": 4,
    "start_time": "2022-03-25T10:36:47.761Z"
   },
   {
    "duration": 3,
    "start_time": "2022-03-25T10:41:36.986Z"
   },
   {
    "duration": 4,
    "start_time": "2022-03-25T10:43:38.590Z"
   }
  ],
  "kernelspec": {
   "display_name": "Python 3 (ipykernel)",
   "language": "python",
   "name": "python3"
  },
  "language_info": {
   "codemirror_mode": {
    "name": "ipython",
    "version": 3
   },
   "file_extension": ".py",
   "mimetype": "text/x-python",
   "name": "python",
   "nbconvert_exporter": "python",
   "pygments_lexer": "ipython3",
   "version": "3.9.5"
  },
  "toc": {
   "base_numbering": 1,
   "nav_menu": {},
   "number_sections": true,
   "sideBar": true,
   "skip_h1_title": true,
   "title_cell": "Table of Contents",
   "title_sidebar": "Contents",
   "toc_cell": false,
   "toc_position": {},
   "toc_section_display": true,
   "toc_window_display": false
  }
 },
 "nbformat": 4,
 "nbformat_minor": 2
}
