{
 "cells": [
  {
   "cell_type": "markdown",
   "metadata": {},
   "source": [
    "<div class=\"alert alert-success\">\n",
    "<b>Reviewer's comment V2</b>\n",
    "\n",
    "The project is accepted! Keep up the good work on the next sprint! :)\n",
    "\n",
    "</div>"
   ]
  },
  {
   "cell_type": "markdown",
   "metadata": {},
   "source": [
    "**Review**\n",
    "\n",
    "Hi, my name is Dmitry and I will be reviewing your project.\n",
    "  \n",
    "You can find my comments in colored markdown cells:\n",
    "  \n",
    "<div class=\"alert alert-success\">\n",
    "  If everything is done successfully.\n",
    "</div>\n",
    "  \n",
    "<div class=\"alert alert-warning\">\n",
    "  If I have some (optional) suggestions, or questions to think about, or general comments.\n",
    "</div>\n",
    "  \n",
    "<div class=\"alert alert-danger\">\n",
    "  If a section requires some corrections. Work can't be accepted with red comments.\n",
    "</div>\n",
    "  \n",
    "Please don't remove my comments, as it will make further review iterations much harder for me.\n",
    "  \n",
    "Feel free to reply to my comments or ask questions using the following template:\n",
    "  \n",
    "<div class=\"alert alert-info\">\n",
    "  For your comments and questions.\n",
    "</div>\n",
    "  \n",
    "First of all, thank you for turning in the project! You did a great job! There are just a couple of tiny problems, that, I'm sure, will be straightforward to fix. Let me know if you have any questions!"
   ]
  },
  {
   "cell_type": "markdown",
   "metadata": {},
   "source": [
    "# Project description"
   ]
  },
  {
   "cell_type": "markdown",
   "metadata": {},
   "source": [
    "Beta Bank customers are leaving: little by little, chipping away every month. The bankers figured out it’s cheaper to save the existing customers rather than to attract new ones. We need to predict whether a customer will leave the bank soon. We have the data on clients’ past behavior and termination of contracts with the bank.\n",
    "\n",
    "Our mission: Build a model with the maximum possible F1 score. To pass the project, you need an F1 score of at least 0.59. Check the F1 for the test set.\n",
    "\n",
    "Additionally, measure the AUC-ROC metric and compare it with the F1.\n",
    "\n",
    "**Type of problem** Classification"
   ]
  },
  {
   "cell_type": "markdown",
   "metadata": {},
   "source": [
    "# Data description"
   ]
  },
  {
   "cell_type": "markdown",
   "metadata": {},
   "source": [
    "**Features**\n",
    "- **RowNumber** -data string index\n",
    "- **CustomerId** - unique customer identifier\n",
    "- **Surname** - surname\n",
    "- **CreditScore** - credit score\n",
    "- **Geography** - country of residence\n",
    "- **Gender** - gender\n",
    "- **Age** - age\n",
    "- **Tenure** - period of maturation for a customer’s fixed deposit (years)\n",
    "- **Balance** - account balance\n",
    "- **NumOfProducts** - number of banking products used by the customer\n",
    "- **HasCrCard** - customer has a credit card\n",
    "- **IsActiveMember** - customer’s activeness\n",
    "- **EstimatedSalary** - estimated salary"
   ]
  },
  {
   "cell_type": "markdown",
   "metadata": {},
   "source": [
    "**Target**\n",
    "- **Exited** - сustomer has left"
   ]
  },
  {
   "cell_type": "markdown",
   "metadata": {},
   "source": [
    "# import libraries"
   ]
  },
  {
   "cell_type": "code",
   "execution_count": 2,
   "metadata": {},
   "outputs": [
    {
     "name": "stdout",
     "output_type": "stream",
     "text": [
      "\u001b[31mERROR: Invalid requirement: '-'\u001b[0m\n",
      "\u001b[31mERROR: Invalid requirement: '-'\u001b[0m\n"
     ]
    }
   ],
   "source": [
    "# update libraries\n",
    "!pip install pandas - U\n",
    "!pip install scikit-learn - U"
   ]
  },
  {
   "cell_type": "code",
   "execution_count": 3,
   "metadata": {},
   "outputs": [],
   "source": [
    "# import libraries\n",
    "import numpy as np\n",
    "import pandas as pd\n",
    "import matplotlib.pyplot as plt\n",
    "from sklearn.tree import DecisionTreeClassifier\n",
    "from sklearn.ensemble import RandomForestClassifier\n",
    "from sklearn.linear_model import LogisticRegression\n",
    "from sklearn.metrics import accuracy_score\n",
    "from sklearn.model_selection import train_test_split\n",
    "from sklearn.metrics import plot_confusion_matrix\n",
    "\n",
    "from sklearn.preprocessing import OrdinalEncoder\n",
    "from sklearn.preprocessing import StandardScaler\n",
    "from sklearn.metrics import plot_confusion_matrix\n",
    "from sklearn.metrics import f1_score\n",
    "from sklearn.metrics import precision_score, recall_score\n",
    "from sklearn.metrics import roc_curve\n",
    "from sklearn.metrics import roc_auc_score\n",
    "from sklearn.dummy import DummyClassifier\n",
    "from sklearn.utils import shuffle"
   ]
  },
  {
   "cell_type": "code",
   "execution_count": 4,
   "metadata": {},
   "outputs": [],
   "source": [
    "# definitions\n",
    "pd.options.display.float_format = '{:,.2f}'.format"
   ]
  },
  {
   "cell_type": "code",
   "execution_count": 5,
   "metadata": {},
   "outputs": [],
   "source": [
    "# delete error messages\n",
    "import sys\n",
    "import warnings\n",
    "if not sys.warnoptions:\n",
    "    warnings.simplefilter(\"ignore\")"
   ]
  },
  {
   "cell_type": "markdown",
   "metadata": {},
   "source": [
    "# Open the data file and study the general information."
   ]
  },
  {
   "cell_type": "markdown",
   "metadata": {},
   "source": [
    "# Read the data"
   ]
  },
  {
   "cell_type": "code",
   "execution_count": 6,
   "metadata": {},
   "outputs": [],
   "source": [
    "df = pd.read_csv(\"/datasets/Churn.csv\", sep=\",\")"
   ]
  },
  {
   "cell_type": "markdown",
   "metadata": {},
   "source": [
    "# Check the data"
   ]
  },
  {
   "cell_type": "code",
   "execution_count": 7,
   "metadata": {},
   "outputs": [
    {
     "data": {
      "text/html": [
       "<div>\n",
       "<style scoped>\n",
       "    .dataframe tbody tr th:only-of-type {\n",
       "        vertical-align: middle;\n",
       "    }\n",
       "\n",
       "    .dataframe tbody tr th {\n",
       "        vertical-align: top;\n",
       "    }\n",
       "\n",
       "    .dataframe thead th {\n",
       "        text-align: right;\n",
       "    }\n",
       "</style>\n",
       "<table border=\"1\" class=\"dataframe\">\n",
       "  <thead>\n",
       "    <tr style=\"text-align: right;\">\n",
       "      <th></th>\n",
       "      <th>RowNumber</th>\n",
       "      <th>CustomerId</th>\n",
       "      <th>Surname</th>\n",
       "      <th>CreditScore</th>\n",
       "      <th>Geography</th>\n",
       "      <th>Gender</th>\n",
       "      <th>Age</th>\n",
       "      <th>Tenure</th>\n",
       "      <th>Balance</th>\n",
       "      <th>NumOfProducts</th>\n",
       "      <th>HasCrCard</th>\n",
       "      <th>IsActiveMember</th>\n",
       "      <th>EstimatedSalary</th>\n",
       "      <th>Exited</th>\n",
       "    </tr>\n",
       "  </thead>\n",
       "  <tbody>\n",
       "    <tr>\n",
       "      <th>0</th>\n",
       "      <td>1</td>\n",
       "      <td>15634602</td>\n",
       "      <td>Hargrave</td>\n",
       "      <td>619</td>\n",
       "      <td>France</td>\n",
       "      <td>Female</td>\n",
       "      <td>42</td>\n",
       "      <td>2.00</td>\n",
       "      <td>0.00</td>\n",
       "      <td>1</td>\n",
       "      <td>1</td>\n",
       "      <td>1</td>\n",
       "      <td>101,348.88</td>\n",
       "      <td>1</td>\n",
       "    </tr>\n",
       "    <tr>\n",
       "      <th>1</th>\n",
       "      <td>2</td>\n",
       "      <td>15647311</td>\n",
       "      <td>Hill</td>\n",
       "      <td>608</td>\n",
       "      <td>Spain</td>\n",
       "      <td>Female</td>\n",
       "      <td>41</td>\n",
       "      <td>1.00</td>\n",
       "      <td>83,807.86</td>\n",
       "      <td>1</td>\n",
       "      <td>0</td>\n",
       "      <td>1</td>\n",
       "      <td>112,542.58</td>\n",
       "      <td>0</td>\n",
       "    </tr>\n",
       "    <tr>\n",
       "      <th>2</th>\n",
       "      <td>3</td>\n",
       "      <td>15619304</td>\n",
       "      <td>Onio</td>\n",
       "      <td>502</td>\n",
       "      <td>France</td>\n",
       "      <td>Female</td>\n",
       "      <td>42</td>\n",
       "      <td>8.00</td>\n",
       "      <td>159,660.80</td>\n",
       "      <td>3</td>\n",
       "      <td>1</td>\n",
       "      <td>0</td>\n",
       "      <td>113,931.57</td>\n",
       "      <td>1</td>\n",
       "    </tr>\n",
       "    <tr>\n",
       "      <th>3</th>\n",
       "      <td>4</td>\n",
       "      <td>15701354</td>\n",
       "      <td>Boni</td>\n",
       "      <td>699</td>\n",
       "      <td>France</td>\n",
       "      <td>Female</td>\n",
       "      <td>39</td>\n",
       "      <td>1.00</td>\n",
       "      <td>0.00</td>\n",
       "      <td>2</td>\n",
       "      <td>0</td>\n",
       "      <td>0</td>\n",
       "      <td>93,826.63</td>\n",
       "      <td>0</td>\n",
       "    </tr>\n",
       "    <tr>\n",
       "      <th>4</th>\n",
       "      <td>5</td>\n",
       "      <td>15737888</td>\n",
       "      <td>Mitchell</td>\n",
       "      <td>850</td>\n",
       "      <td>Spain</td>\n",
       "      <td>Female</td>\n",
       "      <td>43</td>\n",
       "      <td>2.00</td>\n",
       "      <td>125,510.82</td>\n",
       "      <td>1</td>\n",
       "      <td>1</td>\n",
       "      <td>1</td>\n",
       "      <td>79,084.10</td>\n",
       "      <td>0</td>\n",
       "    </tr>\n",
       "  </tbody>\n",
       "</table>\n",
       "</div>"
      ],
      "text/plain": [
       "   RowNumber  CustomerId   Surname  CreditScore Geography  Gender  Age  \\\n",
       "0          1    15634602  Hargrave          619    France  Female   42   \n",
       "1          2    15647311      Hill          608     Spain  Female   41   \n",
       "2          3    15619304      Onio          502    France  Female   42   \n",
       "3          4    15701354      Boni          699    France  Female   39   \n",
       "4          5    15737888  Mitchell          850     Spain  Female   43   \n",
       "\n",
       "   Tenure    Balance  NumOfProducts  HasCrCard  IsActiveMember  \\\n",
       "0    2.00       0.00              1          1               1   \n",
       "1    1.00  83,807.86              1          0               1   \n",
       "2    8.00 159,660.80              3          1               0   \n",
       "3    1.00       0.00              2          0               0   \n",
       "4    2.00 125,510.82              1          1               1   \n",
       "\n",
       "   EstimatedSalary  Exited  \n",
       "0       101,348.88       1  \n",
       "1       112,542.58       0  \n",
       "2       113,931.57       1  \n",
       "3        93,826.63       0  \n",
       "4        79,084.10       0  "
      ]
     },
     "execution_count": 7,
     "metadata": {},
     "output_type": "execute_result"
    }
   ],
   "source": [
    "df.head()"
   ]
  },
  {
   "cell_type": "code",
   "execution_count": 8,
   "metadata": {},
   "outputs": [
    {
     "name": "stdout",
     "output_type": "stream",
     "text": [
      "<class 'pandas.core.frame.DataFrame'>\n",
      "RangeIndex: 10000 entries, 0 to 9999\n",
      "Data columns (total 14 columns):\n",
      " #   Column           Non-Null Count  Dtype  \n",
      "---  ------           --------------  -----  \n",
      " 0   RowNumber        10000 non-null  int64  \n",
      " 1   CustomerId       10000 non-null  int64  \n",
      " 2   Surname          10000 non-null  object \n",
      " 3   CreditScore      10000 non-null  int64  \n",
      " 4   Geography        10000 non-null  object \n",
      " 5   Gender           10000 non-null  object \n",
      " 6   Age              10000 non-null  int64  \n",
      " 7   Tenure           9091 non-null   float64\n",
      " 8   Balance          10000 non-null  float64\n",
      " 9   NumOfProducts    10000 non-null  int64  \n",
      " 10  HasCrCard        10000 non-null  int64  \n",
      " 11  IsActiveMember   10000 non-null  int64  \n",
      " 12  EstimatedSalary  10000 non-null  float64\n",
      " 13  Exited           10000 non-null  int64  \n",
      "dtypes: float64(3), int64(8), object(3)\n",
      "memory usage: 1.1+ MB\n"
     ]
    }
   ],
   "source": [
    "df.info()"
   ]
  },
  {
   "cell_type": "markdown",
   "metadata": {},
   "source": [
    "The Data Frame has 10,000 rows and 14 columns. Except column 'Tenure' there is no missing values"
   ]
  },
  {
   "cell_type": "markdown",
   "metadata": {},
   "source": [
    "<div class=\"alert alert-success\">\n",
    "<b>Reviewer's comment</b>\n",
    "\n",
    "The data was loaded and inspected\n",
    "\n",
    "</div>"
   ]
  },
  {
   "cell_type": "markdown",
   "metadata": {},
   "source": [
    "# Check the data frame for missing values and duplicates"
   ]
  },
  {
   "cell_type": "markdown",
   "metadata": {},
   "source": [
    "**checking for missing values**"
   ]
  },
  {
   "cell_type": "code",
   "execution_count": 9,
   "metadata": {},
   "outputs": [
    {
     "data": {
      "text/html": [
       "<div>\n",
       "<style scoped>\n",
       "    .dataframe tbody tr th:only-of-type {\n",
       "        vertical-align: middle;\n",
       "    }\n",
       "\n",
       "    .dataframe tbody tr th {\n",
       "        vertical-align: top;\n",
       "    }\n",
       "\n",
       "    .dataframe thead th {\n",
       "        text-align: right;\n",
       "    }\n",
       "</style>\n",
       "<table border=\"1\" class=\"dataframe\">\n",
       "  <thead>\n",
       "    <tr style=\"text-align: right;\">\n",
       "      <th></th>\n",
       "      <th>missing_values</th>\n",
       "      <th>%_of_total</th>\n",
       "    </tr>\n",
       "  </thead>\n",
       "  <tbody>\n",
       "    <tr>\n",
       "      <th>Tenure</th>\n",
       "      <td>909</td>\n",
       "      <td>9.09</td>\n",
       "    </tr>\n",
       "    <tr>\n",
       "      <th>RowNumber</th>\n",
       "      <td>0</td>\n",
       "      <td>0.00</td>\n",
       "    </tr>\n",
       "    <tr>\n",
       "      <th>CustomerId</th>\n",
       "      <td>0</td>\n",
       "      <td>0.00</td>\n",
       "    </tr>\n",
       "    <tr>\n",
       "      <th>Surname</th>\n",
       "      <td>0</td>\n",
       "      <td>0.00</td>\n",
       "    </tr>\n",
       "    <tr>\n",
       "      <th>CreditScore</th>\n",
       "      <td>0</td>\n",
       "      <td>0.00</td>\n",
       "    </tr>\n",
       "    <tr>\n",
       "      <th>Geography</th>\n",
       "      <td>0</td>\n",
       "      <td>0.00</td>\n",
       "    </tr>\n",
       "    <tr>\n",
       "      <th>Gender</th>\n",
       "      <td>0</td>\n",
       "      <td>0.00</td>\n",
       "    </tr>\n",
       "    <tr>\n",
       "      <th>Age</th>\n",
       "      <td>0</td>\n",
       "      <td>0.00</td>\n",
       "    </tr>\n",
       "    <tr>\n",
       "      <th>Balance</th>\n",
       "      <td>0</td>\n",
       "      <td>0.00</td>\n",
       "    </tr>\n",
       "    <tr>\n",
       "      <th>NumOfProducts</th>\n",
       "      <td>0</td>\n",
       "      <td>0.00</td>\n",
       "    </tr>\n",
       "    <tr>\n",
       "      <th>HasCrCard</th>\n",
       "      <td>0</td>\n",
       "      <td>0.00</td>\n",
       "    </tr>\n",
       "    <tr>\n",
       "      <th>IsActiveMember</th>\n",
       "      <td>0</td>\n",
       "      <td>0.00</td>\n",
       "    </tr>\n",
       "    <tr>\n",
       "      <th>EstimatedSalary</th>\n",
       "      <td>0</td>\n",
       "      <td>0.00</td>\n",
       "    </tr>\n",
       "    <tr>\n",
       "      <th>Exited</th>\n",
       "      <td>0</td>\n",
       "      <td>0.00</td>\n",
       "    </tr>\n",
       "  </tbody>\n",
       "</table>\n",
       "</div>"
      ],
      "text/plain": [
       "                 missing_values  %_of_total\n",
       "Tenure                      909        9.09\n",
       "RowNumber                     0        0.00\n",
       "CustomerId                    0        0.00\n",
       "Surname                       0        0.00\n",
       "CreditScore                   0        0.00\n",
       "Geography                     0        0.00\n",
       "Gender                        0        0.00\n",
       "Age                           0        0.00\n",
       "Balance                       0        0.00\n",
       "NumOfProducts                 0        0.00\n",
       "HasCrCard                     0        0.00\n",
       "IsActiveMember                0        0.00\n",
       "EstimatedSalary               0        0.00\n",
       "Exited                        0        0.00"
      ]
     },
     "execution_count": 9,
     "metadata": {},
     "output_type": "execute_result"
    }
   ],
   "source": [
    "# list of all missing values in the Dataset - in total and %\n",
    "report = df.isna().sum().to_frame()\n",
    "report = report.rename(columns={0: \"missing_values\"})\n",
    "report[\"%_of_total\"] = (report[\"missing_values\"] / df.shape[0] * 100).round(2)\n",
    "report.sort_values(by=\"missing_values\", ascending=False)"
   ]
  },
  {
   "cell_type": "markdown",
   "metadata": {},
   "source": [
    "missing data on Tenure"
   ]
  },
  {
   "cell_type": "code",
   "execution_count": 10,
   "metadata": {},
   "outputs": [
    {
     "data": {
      "text/html": [
       "<div>\n",
       "<style scoped>\n",
       "    .dataframe tbody tr th:only-of-type {\n",
       "        vertical-align: middle;\n",
       "    }\n",
       "\n",
       "    .dataframe tbody tr th {\n",
       "        vertical-align: top;\n",
       "    }\n",
       "\n",
       "    .dataframe thead th {\n",
       "        text-align: right;\n",
       "    }\n",
       "</style>\n",
       "<table border=\"1\" class=\"dataframe\">\n",
       "  <thead>\n",
       "    <tr style=\"text-align: right;\">\n",
       "      <th></th>\n",
       "      <th>RowNumber</th>\n",
       "      <th>CustomerId</th>\n",
       "      <th>Surname</th>\n",
       "      <th>CreditScore</th>\n",
       "      <th>Geography</th>\n",
       "      <th>Gender</th>\n",
       "      <th>Age</th>\n",
       "      <th>Tenure</th>\n",
       "      <th>Balance</th>\n",
       "      <th>NumOfProducts</th>\n",
       "      <th>HasCrCard</th>\n",
       "      <th>IsActiveMember</th>\n",
       "      <th>EstimatedSalary</th>\n",
       "      <th>Exited</th>\n",
       "    </tr>\n",
       "  </thead>\n",
       "  <tbody>\n",
       "    <tr>\n",
       "      <th>30</th>\n",
       "      <td>31</td>\n",
       "      <td>15589475</td>\n",
       "      <td>Azikiwe</td>\n",
       "      <td>591</td>\n",
       "      <td>Spain</td>\n",
       "      <td>Female</td>\n",
       "      <td>39</td>\n",
       "      <td>NaN</td>\n",
       "      <td>0.00</td>\n",
       "      <td>3</td>\n",
       "      <td>1</td>\n",
       "      <td>0</td>\n",
       "      <td>140,469.38</td>\n",
       "      <td>1</td>\n",
       "    </tr>\n",
       "    <tr>\n",
       "      <th>48</th>\n",
       "      <td>49</td>\n",
       "      <td>15766205</td>\n",
       "      <td>Yin</td>\n",
       "      <td>550</td>\n",
       "      <td>Germany</td>\n",
       "      <td>Male</td>\n",
       "      <td>38</td>\n",
       "      <td>NaN</td>\n",
       "      <td>103,391.38</td>\n",
       "      <td>1</td>\n",
       "      <td>0</td>\n",
       "      <td>1</td>\n",
       "      <td>90,878.13</td>\n",
       "      <td>0</td>\n",
       "    </tr>\n",
       "    <tr>\n",
       "      <th>51</th>\n",
       "      <td>52</td>\n",
       "      <td>15768193</td>\n",
       "      <td>Trevisani</td>\n",
       "      <td>585</td>\n",
       "      <td>Germany</td>\n",
       "      <td>Male</td>\n",
       "      <td>36</td>\n",
       "      <td>NaN</td>\n",
       "      <td>146,050.97</td>\n",
       "      <td>2</td>\n",
       "      <td>0</td>\n",
       "      <td>0</td>\n",
       "      <td>86,424.57</td>\n",
       "      <td>0</td>\n",
       "    </tr>\n",
       "    <tr>\n",
       "      <th>53</th>\n",
       "      <td>54</td>\n",
       "      <td>15702298</td>\n",
       "      <td>Parkhill</td>\n",
       "      <td>655</td>\n",
       "      <td>Germany</td>\n",
       "      <td>Male</td>\n",
       "      <td>41</td>\n",
       "      <td>NaN</td>\n",
       "      <td>125,561.97</td>\n",
       "      <td>1</td>\n",
       "      <td>0</td>\n",
       "      <td>0</td>\n",
       "      <td>164,040.94</td>\n",
       "      <td>1</td>\n",
       "    </tr>\n",
       "    <tr>\n",
       "      <th>60</th>\n",
       "      <td>61</td>\n",
       "      <td>15651280</td>\n",
       "      <td>Hunter</td>\n",
       "      <td>742</td>\n",
       "      <td>Germany</td>\n",
       "      <td>Male</td>\n",
       "      <td>35</td>\n",
       "      <td>NaN</td>\n",
       "      <td>136,857.00</td>\n",
       "      <td>1</td>\n",
       "      <td>0</td>\n",
       "      <td>0</td>\n",
       "      <td>84,509.57</td>\n",
       "      <td>0</td>\n",
       "    </tr>\n",
       "    <tr>\n",
       "      <th>82</th>\n",
       "      <td>83</td>\n",
       "      <td>15641732</td>\n",
       "      <td>Mills</td>\n",
       "      <td>543</td>\n",
       "      <td>France</td>\n",
       "      <td>Female</td>\n",
       "      <td>36</td>\n",
       "      <td>NaN</td>\n",
       "      <td>0.00</td>\n",
       "      <td>2</td>\n",
       "      <td>0</td>\n",
       "      <td>0</td>\n",
       "      <td>26,019.59</td>\n",
       "      <td>0</td>\n",
       "    </tr>\n",
       "    <tr>\n",
       "      <th>85</th>\n",
       "      <td>86</td>\n",
       "      <td>15805254</td>\n",
       "      <td>Ndukaku</td>\n",
       "      <td>652</td>\n",
       "      <td>Spain</td>\n",
       "      <td>Female</td>\n",
       "      <td>75</td>\n",
       "      <td>NaN</td>\n",
       "      <td>0.00</td>\n",
       "      <td>2</td>\n",
       "      <td>1</td>\n",
       "      <td>1</td>\n",
       "      <td>114,675.75</td>\n",
       "      <td>0</td>\n",
       "    </tr>\n",
       "    <tr>\n",
       "      <th>94</th>\n",
       "      <td>95</td>\n",
       "      <td>15676966</td>\n",
       "      <td>Capon</td>\n",
       "      <td>730</td>\n",
       "      <td>Spain</td>\n",
       "      <td>Male</td>\n",
       "      <td>42</td>\n",
       "      <td>NaN</td>\n",
       "      <td>0.00</td>\n",
       "      <td>2</td>\n",
       "      <td>0</td>\n",
       "      <td>1</td>\n",
       "      <td>85,982.47</td>\n",
       "      <td>0</td>\n",
       "    </tr>\n",
       "    <tr>\n",
       "      <th>99</th>\n",
       "      <td>100</td>\n",
       "      <td>15633059</td>\n",
       "      <td>Fanucci</td>\n",
       "      <td>413</td>\n",
       "      <td>France</td>\n",
       "      <td>Male</td>\n",
       "      <td>34</td>\n",
       "      <td>NaN</td>\n",
       "      <td>0.00</td>\n",
       "      <td>2</td>\n",
       "      <td>0</td>\n",
       "      <td>0</td>\n",
       "      <td>6,534.18</td>\n",
       "      <td>0</td>\n",
       "    </tr>\n",
       "    <tr>\n",
       "      <th>111</th>\n",
       "      <td>112</td>\n",
       "      <td>15665790</td>\n",
       "      <td>Rowntree</td>\n",
       "      <td>538</td>\n",
       "      <td>Germany</td>\n",
       "      <td>Male</td>\n",
       "      <td>39</td>\n",
       "      <td>NaN</td>\n",
       "      <td>108,055.10</td>\n",
       "      <td>2</td>\n",
       "      <td>1</td>\n",
       "      <td>0</td>\n",
       "      <td>27,231.26</td>\n",
       "      <td>0</td>\n",
       "    </tr>\n",
       "  </tbody>\n",
       "</table>\n",
       "</div>"
      ],
      "text/plain": [
       "     RowNumber  CustomerId    Surname  CreditScore Geography  Gender  Age  \\\n",
       "30          31    15589475    Azikiwe          591     Spain  Female   39   \n",
       "48          49    15766205        Yin          550   Germany    Male   38   \n",
       "51          52    15768193  Trevisani          585   Germany    Male   36   \n",
       "53          54    15702298   Parkhill          655   Germany    Male   41   \n",
       "60          61    15651280     Hunter          742   Germany    Male   35   \n",
       "82          83    15641732      Mills          543    France  Female   36   \n",
       "85          86    15805254    Ndukaku          652     Spain  Female   75   \n",
       "94          95    15676966      Capon          730     Spain    Male   42   \n",
       "99         100    15633059    Fanucci          413    France    Male   34   \n",
       "111        112    15665790   Rowntree          538   Germany    Male   39   \n",
       "\n",
       "     Tenure    Balance  NumOfProducts  HasCrCard  IsActiveMember  \\\n",
       "30      NaN       0.00              3          1               0   \n",
       "48      NaN 103,391.38              1          0               1   \n",
       "51      NaN 146,050.97              2          0               0   \n",
       "53      NaN 125,561.97              1          0               0   \n",
       "60      NaN 136,857.00              1          0               0   \n",
       "82      NaN       0.00              2          0               0   \n",
       "85      NaN       0.00              2          1               1   \n",
       "94      NaN       0.00              2          0               1   \n",
       "99      NaN       0.00              2          0               0   \n",
       "111     NaN 108,055.10              2          1               0   \n",
       "\n",
       "     EstimatedSalary  Exited  \n",
       "30        140,469.38       1  \n",
       "48         90,878.13       0  \n",
       "51         86,424.57       0  \n",
       "53        164,040.94       1  \n",
       "60         84,509.57       0  \n",
       "82         26,019.59       0  \n",
       "85        114,675.75       0  \n",
       "94         85,982.47       0  \n",
       "99          6,534.18       0  \n",
       "111        27,231.26       0  "
      ]
     },
     "execution_count": 10,
     "metadata": {},
     "output_type": "execute_result"
    }
   ],
   "source": [
    "df[df['Tenure'].isna()].head(10)"
   ]
  },
  {
   "cell_type": "markdown",
   "metadata": {},
   "source": [
    "We will replace the NaN with the median of this feature"
   ]
  },
  {
   "cell_type": "code",
   "execution_count": 11,
   "metadata": {},
   "outputs": [],
   "source": [
    "Tenure_med = round(df['Tenure'].median())\n",
    "df['Tenure'].fillna(value=Tenure_med, inplace=True)"
   ]
  },
  {
   "cell_type": "markdown",
   "metadata": {},
   "source": [
    "<div class=\"alert alert-success\">\n",
    "<b>Reviewer's comment</b>\n",
    "\n",
    "Ok, that's a reasonable way to deal with missing values\n",
    "\n",
    "</div>"
   ]
  },
  {
   "cell_type": "markdown",
   "metadata": {},
   "source": [
    "**Checking for duplicates**"
   ]
  },
  {
   "cell_type": "code",
   "execution_count": 12,
   "metadata": {},
   "outputs": [
    {
     "name": "stdout",
     "output_type": "stream",
     "text": [
      "Number of duplictes is \t\t0\n"
     ]
    }
   ],
   "source": [
    "# check to see if there are exact duplicates:\n",
    "print(f\"Number of duplictes is \\t\\t{df.duplicated().sum()}\")"
   ]
  },
  {
   "cell_type": "markdown",
   "metadata": {},
   "source": [
    "no duplicates on the data"
   ]
  },
  {
   "cell_type": "markdown",
   "metadata": {},
   "source": [
    "**Removing unnecessary feature columns**"
   ]
  },
  {
   "cell_type": "markdown",
   "metadata": {},
   "source": [
    "no need for the following columns:\n",
    "\n",
    "- RowNumber\n",
    "- CustomerId\n",
    "- Surname"
   ]
  },
  {
   "cell_type": "markdown",
   "metadata": {},
   "source": [
    "<div class=\"alert alert-success\">\n",
    "<b>Reviewer's comment</b>\n",
    "\n",
    "Makes sense!\n",
    "\n",
    "</div>"
   ]
  },
  {
   "cell_type": "code",
   "execution_count": 13,
   "metadata": {},
   "outputs": [
    {
     "data": {
      "text/html": [
       "<div>\n",
       "<style scoped>\n",
       "    .dataframe tbody tr th:only-of-type {\n",
       "        vertical-align: middle;\n",
       "    }\n",
       "\n",
       "    .dataframe tbody tr th {\n",
       "        vertical-align: top;\n",
       "    }\n",
       "\n",
       "    .dataframe thead th {\n",
       "        text-align: right;\n",
       "    }\n",
       "</style>\n",
       "<table border=\"1\" class=\"dataframe\">\n",
       "  <thead>\n",
       "    <tr style=\"text-align: right;\">\n",
       "      <th></th>\n",
       "      <th>CreditScore</th>\n",
       "      <th>Geography</th>\n",
       "      <th>Gender</th>\n",
       "      <th>Age</th>\n",
       "      <th>Tenure</th>\n",
       "      <th>Balance</th>\n",
       "      <th>NumOfProducts</th>\n",
       "      <th>HasCrCard</th>\n",
       "      <th>IsActiveMember</th>\n",
       "      <th>EstimatedSalary</th>\n",
       "      <th>Exited</th>\n",
       "    </tr>\n",
       "  </thead>\n",
       "  <tbody>\n",
       "    <tr>\n",
       "      <th>0</th>\n",
       "      <td>619</td>\n",
       "      <td>France</td>\n",
       "      <td>Female</td>\n",
       "      <td>42</td>\n",
       "      <td>2.00</td>\n",
       "      <td>0.00</td>\n",
       "      <td>1</td>\n",
       "      <td>1</td>\n",
       "      <td>1</td>\n",
       "      <td>101,348.88</td>\n",
       "      <td>1</td>\n",
       "    </tr>\n",
       "    <tr>\n",
       "      <th>1</th>\n",
       "      <td>608</td>\n",
       "      <td>Spain</td>\n",
       "      <td>Female</td>\n",
       "      <td>41</td>\n",
       "      <td>1.00</td>\n",
       "      <td>83,807.86</td>\n",
       "      <td>1</td>\n",
       "      <td>0</td>\n",
       "      <td>1</td>\n",
       "      <td>112,542.58</td>\n",
       "      <td>0</td>\n",
       "    </tr>\n",
       "    <tr>\n",
       "      <th>2</th>\n",
       "      <td>502</td>\n",
       "      <td>France</td>\n",
       "      <td>Female</td>\n",
       "      <td>42</td>\n",
       "      <td>8.00</td>\n",
       "      <td>159,660.80</td>\n",
       "      <td>3</td>\n",
       "      <td>1</td>\n",
       "      <td>0</td>\n",
       "      <td>113,931.57</td>\n",
       "      <td>1</td>\n",
       "    </tr>\n",
       "    <tr>\n",
       "      <th>3</th>\n",
       "      <td>699</td>\n",
       "      <td>France</td>\n",
       "      <td>Female</td>\n",
       "      <td>39</td>\n",
       "      <td>1.00</td>\n",
       "      <td>0.00</td>\n",
       "      <td>2</td>\n",
       "      <td>0</td>\n",
       "      <td>0</td>\n",
       "      <td>93,826.63</td>\n",
       "      <td>0</td>\n",
       "    </tr>\n",
       "    <tr>\n",
       "      <th>4</th>\n",
       "      <td>850</td>\n",
       "      <td>Spain</td>\n",
       "      <td>Female</td>\n",
       "      <td>43</td>\n",
       "      <td>2.00</td>\n",
       "      <td>125,510.82</td>\n",
       "      <td>1</td>\n",
       "      <td>1</td>\n",
       "      <td>1</td>\n",
       "      <td>79,084.10</td>\n",
       "      <td>0</td>\n",
       "    </tr>\n",
       "  </tbody>\n",
       "</table>\n",
       "</div>"
      ],
      "text/plain": [
       "   CreditScore Geography  Gender  Age  Tenure    Balance  NumOfProducts  \\\n",
       "0          619    France  Female   42    2.00       0.00              1   \n",
       "1          608     Spain  Female   41    1.00  83,807.86              1   \n",
       "2          502    France  Female   42    8.00 159,660.80              3   \n",
       "3          699    France  Female   39    1.00       0.00              2   \n",
       "4          850     Spain  Female   43    2.00 125,510.82              1   \n",
       "\n",
       "   HasCrCard  IsActiveMember  EstimatedSalary  Exited  \n",
       "0          1               1       101,348.88       1  \n",
       "1          0               1       112,542.58       0  \n",
       "2          1               0       113,931.57       1  \n",
       "3          0               0        93,826.63       0  \n",
       "4          1               1        79,084.10       0  "
      ]
     },
     "execution_count": 13,
     "metadata": {},
     "output_type": "execute_result"
    }
   ],
   "source": [
    "df = df.drop(['RowNumber', 'CustomerId', 'Surname'], axis=1)\n",
    "df.head()"
   ]
  },
  {
   "cell_type": "markdown",
   "metadata": {},
   "source": [
    "# Encoding"
   ]
  },
  {
   "cell_type": "markdown",
   "metadata": {},
   "source": [
    "Two features need encoding:\n",
    "\n",
    "- **Gender** - we will use encoding by map\n",
    "- **Geography** - we will use One-Hot Encoding (OHE)"
   ]
  },
  {
   "cell_type": "markdown",
   "metadata": {},
   "source": [
    "**Encoding - Gender**"
   ]
  },
  {
   "cell_type": "code",
   "execution_count": 14,
   "metadata": {},
   "outputs": [
    {
     "data": {
      "text/plain": [
       "<AxesSubplot:>"
      ]
     },
     "execution_count": 14,
     "metadata": {},
     "output_type": "execute_result"
    },
    {
     "data": {
      "image/png": "[encoded data removed]",
      "text/plain": [
       "<Figure size 432x288 with 1 Axes>"
      ]
     },
     "metadata": {
      "needs_background": "light"
     },
     "output_type": "display_data"
    }
   ],
   "source": [
    "# checking the content of the feature\n",
    "df['Gender'].value_counts().plot(kind='bar')"
   ]
  },
  {
   "cell_type": "code",
   "execution_count": 15,
   "metadata": {},
   "outputs": [
    {
     "data": {
      "text/html": [
       "<div>\n",
       "<style scoped>\n",
       "    .dataframe tbody tr th:only-of-type {\n",
       "        vertical-align: middle;\n",
       "    }\n",
       "\n",
       "    .dataframe tbody tr th {\n",
       "        vertical-align: top;\n",
       "    }\n",
       "\n",
       "    .dataframe thead th {\n",
       "        text-align: right;\n",
       "    }\n",
       "</style>\n",
       "<table border=\"1\" class=\"dataframe\">\n",
       "  <thead>\n",
       "    <tr style=\"text-align: right;\">\n",
       "      <th></th>\n",
       "      <th>CreditScore</th>\n",
       "      <th>Geography</th>\n",
       "      <th>Gender</th>\n",
       "      <th>Age</th>\n",
       "      <th>Tenure</th>\n",
       "      <th>Balance</th>\n",
       "      <th>NumOfProducts</th>\n",
       "      <th>HasCrCard</th>\n",
       "      <th>IsActiveMember</th>\n",
       "      <th>EstimatedSalary</th>\n",
       "      <th>Exited</th>\n",
       "    </tr>\n",
       "  </thead>\n",
       "  <tbody>\n",
       "    <tr>\n",
       "      <th>0</th>\n",
       "      <td>619</td>\n",
       "      <td>France</td>\n",
       "      <td>1</td>\n",
       "      <td>42</td>\n",
       "      <td>2.00</td>\n",
       "      <td>0.00</td>\n",
       "      <td>1</td>\n",
       "      <td>1</td>\n",
       "      <td>1</td>\n",
       "      <td>101,348.88</td>\n",
       "      <td>1</td>\n",
       "    </tr>\n",
       "    <tr>\n",
       "      <th>1</th>\n",
       "      <td>608</td>\n",
       "      <td>Spain</td>\n",
       "      <td>1</td>\n",
       "      <td>41</td>\n",
       "      <td>1.00</td>\n",
       "      <td>83,807.86</td>\n",
       "      <td>1</td>\n",
       "      <td>0</td>\n",
       "      <td>1</td>\n",
       "      <td>112,542.58</td>\n",
       "      <td>0</td>\n",
       "    </tr>\n",
       "    <tr>\n",
       "      <th>2</th>\n",
       "      <td>502</td>\n",
       "      <td>France</td>\n",
       "      <td>1</td>\n",
       "      <td>42</td>\n",
       "      <td>8.00</td>\n",
       "      <td>159,660.80</td>\n",
       "      <td>3</td>\n",
       "      <td>1</td>\n",
       "      <td>0</td>\n",
       "      <td>113,931.57</td>\n",
       "      <td>1</td>\n",
       "    </tr>\n",
       "    <tr>\n",
       "      <th>3</th>\n",
       "      <td>699</td>\n",
       "      <td>France</td>\n",
       "      <td>1</td>\n",
       "      <td>39</td>\n",
       "      <td>1.00</td>\n",
       "      <td>0.00</td>\n",
       "      <td>2</td>\n",
       "      <td>0</td>\n",
       "      <td>0</td>\n",
       "      <td>93,826.63</td>\n",
       "      <td>0</td>\n",
       "    </tr>\n",
       "    <tr>\n",
       "      <th>4</th>\n",
       "      <td>850</td>\n",
       "      <td>Spain</td>\n",
       "      <td>1</td>\n",
       "      <td>43</td>\n",
       "      <td>2.00</td>\n",
       "      <td>125,510.82</td>\n",
       "      <td>1</td>\n",
       "      <td>1</td>\n",
       "      <td>1</td>\n",
       "      <td>79,084.10</td>\n",
       "      <td>0</td>\n",
       "    </tr>\n",
       "  </tbody>\n",
       "</table>\n",
       "</div>"
      ],
      "text/plain": [
       "   CreditScore Geography  Gender  Age  Tenure    Balance  NumOfProducts  \\\n",
       "0          619    France       1   42    2.00       0.00              1   \n",
       "1          608     Spain       1   41    1.00  83,807.86              1   \n",
       "2          502    France       1   42    8.00 159,660.80              3   \n",
       "3          699    France       1   39    1.00       0.00              2   \n",
       "4          850     Spain       1   43    2.00 125,510.82              1   \n",
       "\n",
       "   HasCrCard  IsActiveMember  EstimatedSalary  Exited  \n",
       "0          1               1       101,348.88       1  \n",
       "1          0               1       112,542.58       0  \n",
       "2          1               0       113,931.57       1  \n",
       "3          0               0        93,826.63       0  \n",
       "4          1               1        79,084.10       0  "
      ]
     },
     "execution_count": 15,
     "metadata": {},
     "output_type": "execute_result"
    }
   ],
   "source": [
    "# only two option\n",
    "gender_dict = {'Male': 0, 'Female': 1}\n",
    "df['Gender'] = df['Gender'].map(gender_dict)\n",
    "df.head()"
   ]
  },
  {
   "cell_type": "markdown",
   "metadata": {},
   "source": [
    "<div class=\"alert alert-warning\">\n",
    "<b>Reviewer's comment</b>\n",
    "\n",
    "Note that `get_dummies` works with binary features as well :)\n",
    "\n",
    "</div>"
   ]
  },
  {
   "cell_type": "markdown",
   "metadata": {},
   "source": [
    "**OHE - Geography**"
   ]
  },
  {
   "cell_type": "code",
   "execution_count": 16,
   "metadata": {},
   "outputs": [
    {
     "data": {
      "text/plain": [
       "<AxesSubplot:>"
      ]
     },
     "execution_count": 16,
     "metadata": {},
     "output_type": "execute_result"
    },
    {
     "data": {
      "image/png": "[encoded data removed]",
      "text/plain": [
       "<Figure size 432x288 with 1 Axes>"
      ]
     },
     "metadata": {
      "needs_background": "light"
     },
     "output_type": "display_data"
    }
   ],
   "source": [
    "# checking the content of the feature\n",
    "df['Geography'].value_counts().plot(kind='bar')"
   ]
  },
  {
   "cell_type": "code",
   "execution_count": 17,
   "metadata": {},
   "outputs": [
    {
     "data": {
      "text/html": [
       "<div>\n",
       "<style scoped>\n",
       "    .dataframe tbody tr th:only-of-type {\n",
       "        vertical-align: middle;\n",
       "    }\n",
       "\n",
       "    .dataframe tbody tr th {\n",
       "        vertical-align: top;\n",
       "    }\n",
       "\n",
       "    .dataframe thead th {\n",
       "        text-align: right;\n",
       "    }\n",
       "</style>\n",
       "<table border=\"1\" class=\"dataframe\">\n",
       "  <thead>\n",
       "    <tr style=\"text-align: right;\">\n",
       "      <th></th>\n",
       "      <th>CreditScore</th>\n",
       "      <th>Gender</th>\n",
       "      <th>Age</th>\n",
       "      <th>Tenure</th>\n",
       "      <th>Balance</th>\n",
       "      <th>NumOfProducts</th>\n",
       "      <th>HasCrCard</th>\n",
       "      <th>IsActiveMember</th>\n",
       "      <th>EstimatedSalary</th>\n",
       "      <th>Exited</th>\n",
       "      <th>Geography_Germany</th>\n",
       "      <th>Geography_Spain</th>\n",
       "    </tr>\n",
       "  </thead>\n",
       "  <tbody>\n",
       "    <tr>\n",
       "      <th>0</th>\n",
       "      <td>619</td>\n",
       "      <td>1</td>\n",
       "      <td>42</td>\n",
       "      <td>2.00</td>\n",
       "      <td>0.00</td>\n",
       "      <td>1</td>\n",
       "      <td>1</td>\n",
       "      <td>1</td>\n",
       "      <td>101,348.88</td>\n",
       "      <td>1</td>\n",
       "      <td>0</td>\n",
       "      <td>0</td>\n",
       "    </tr>\n",
       "    <tr>\n",
       "      <th>1</th>\n",
       "      <td>608</td>\n",
       "      <td>1</td>\n",
       "      <td>41</td>\n",
       "      <td>1.00</td>\n",
       "      <td>83,807.86</td>\n",
       "      <td>1</td>\n",
       "      <td>0</td>\n",
       "      <td>1</td>\n",
       "      <td>112,542.58</td>\n",
       "      <td>0</td>\n",
       "      <td>0</td>\n",
       "      <td>1</td>\n",
       "    </tr>\n",
       "    <tr>\n",
       "      <th>2</th>\n",
       "      <td>502</td>\n",
       "      <td>1</td>\n",
       "      <td>42</td>\n",
       "      <td>8.00</td>\n",
       "      <td>159,660.80</td>\n",
       "      <td>3</td>\n",
       "      <td>1</td>\n",
       "      <td>0</td>\n",
       "      <td>113,931.57</td>\n",
       "      <td>1</td>\n",
       "      <td>0</td>\n",
       "      <td>0</td>\n",
       "    </tr>\n",
       "    <tr>\n",
       "      <th>3</th>\n",
       "      <td>699</td>\n",
       "      <td>1</td>\n",
       "      <td>39</td>\n",
       "      <td>1.00</td>\n",
       "      <td>0.00</td>\n",
       "      <td>2</td>\n",
       "      <td>0</td>\n",
       "      <td>0</td>\n",
       "      <td>93,826.63</td>\n",
       "      <td>0</td>\n",
       "      <td>0</td>\n",
       "      <td>0</td>\n",
       "    </tr>\n",
       "    <tr>\n",
       "      <th>4</th>\n",
       "      <td>850</td>\n",
       "      <td>1</td>\n",
       "      <td>43</td>\n",
       "      <td>2.00</td>\n",
       "      <td>125,510.82</td>\n",
       "      <td>1</td>\n",
       "      <td>1</td>\n",
       "      <td>1</td>\n",
       "      <td>79,084.10</td>\n",
       "      <td>0</td>\n",
       "      <td>0</td>\n",
       "      <td>1</td>\n",
       "    </tr>\n",
       "  </tbody>\n",
       "</table>\n",
       "</div>"
      ],
      "text/plain": [
       "   CreditScore  Gender  Age  Tenure    Balance  NumOfProducts  HasCrCard  \\\n",
       "0          619       1   42    2.00       0.00              1          1   \n",
       "1          608       1   41    1.00  83,807.86              1          0   \n",
       "2          502       1   42    8.00 159,660.80              3          1   \n",
       "3          699       1   39    1.00       0.00              2          0   \n",
       "4          850       1   43    2.00 125,510.82              1          1   \n",
       "\n",
       "   IsActiveMember  EstimatedSalary  Exited  Geography_Germany  Geography_Spain  \n",
       "0               1       101,348.88       1                  0                0  \n",
       "1               1       112,542.58       0                  0                1  \n",
       "2               0       113,931.57       1                  0                0  \n",
       "3               0        93,826.63       0                  0                0  \n",
       "4               1        79,084.10       0                  0                1  "
      ]
     },
     "execution_count": 17,
     "metadata": {},
     "output_type": "execute_result"
    }
   ],
   "source": [
    "df = pd.get_dummies(df, drop_first=True)\n",
    "df.head()"
   ]
  },
  {
   "cell_type": "markdown",
   "metadata": {},
   "source": [
    "# Split the source data into a training set and a validation set"
   ]
  },
  {
   "cell_type": "markdown",
   "metadata": {},
   "source": [
    "features are all parameters (input) for the model. The target is the discrete class of the outcome."
   ]
  },
  {
   "cell_type": "markdown",
   "metadata": {},
   "source": [
    "**Split the data to training and validation test (3:1:1)**"
   ]
  },
  {
   "cell_type": "markdown",
   "metadata": {},
   "source": [
    "<div class=\"alert alert-warning\">\n",
    "<b>Reviewer's comment</b>\n",
    "\n",
    "> We use 75% for training and 25% for validation\n",
    "    \n",
    "That doesn't match the code :)\n",
    "\n",
    "</div>"
   ]
  },
  {
   "cell_type": "code",
   "execution_count": 18,
   "metadata": {},
   "outputs": [],
   "source": [
    "# First, we split the data to train and temp\n",
    "df_train, df_temp = train_test_split(df, test_size=0.4, random_state=12345)"
   ]
  },
  {
   "cell_type": "code",
   "execution_count": 19,
   "metadata": {},
   "outputs": [],
   "source": [
    "# Then, we split the temp to test and valid\n",
    "df_test, df_validate = train_test_split(\n",
    "    df_temp, test_size=0.5, random_state=12345)"
   ]
  },
  {
   "cell_type": "markdown",
   "metadata": {},
   "source": [
    "<div class=\"alert alert-success\">\n",
    "<b>Reviewer's comment</b>\n",
    "\n",
    "The data was split into train, validation and test. The proportions are reasonable!\n",
    "\n",
    "</div>"
   ]
  },
  {
   "cell_type": "markdown",
   "metadata": {},
   "source": [
    "**Divide the data to feature and target**"
   ]
  },
  {
   "cell_type": "code",
   "execution_count": 20,
   "metadata": {},
   "outputs": [],
   "source": [
    "# feature\n",
    "features_train = df_train.drop(['Exited'], axis=1)\n",
    "features_validate = df_validate.drop(['Exited'], axis=1)\n",
    "features_test = df_test.drop(['Exited'], axis=1)"
   ]
  },
  {
   "cell_type": "code",
   "execution_count": 21,
   "metadata": {},
   "outputs": [],
   "source": [
    "# target\n",
    "target_train = df_train['Exited']\n",
    "target_validate = df_validate['Exited']\n",
    "target_test = df_test['Exited']"
   ]
  },
  {
   "cell_type": "markdown",
   "metadata": {},
   "source": [
    "**Feature Scaling**"
   ]
  },
  {
   "cell_type": "code",
   "execution_count": 22,
   "metadata": {},
   "outputs": [],
   "source": [
    "numeric = ['CreditScore', 'Age', 'Tenure', 'Balance', 'EstimatedSalary']"
   ]
  },
  {
   "cell_type": "code",
   "execution_count": 23,
   "metadata": {},
   "outputs": [
    {
     "data": {
      "text/plain": [
       "StandardScaler()"
      ]
     },
     "execution_count": 23,
     "metadata": {},
     "output_type": "execute_result"
    }
   ],
   "source": [
    "scaler = StandardScaler()\n",
    "scaler.fit(features_train[numeric])"
   ]
  },
  {
   "cell_type": "code",
   "execution_count": 24,
   "metadata": {},
   "outputs": [],
   "source": [
    "features_train[numeric] = scaler.transform(features_train[numeric])\n",
    "features_validate[numeric] = scaler.transform(features_validate[numeric])\n",
    "features_test[numeric] = scaler.transform(features_test[numeric])"
   ]
  },
  {
   "cell_type": "markdown",
   "metadata": {},
   "source": [
    "<div class=\"alert alert-success\">\n",
    "<b>Reviewer's comment</b>\n",
    "\n",
    "Scaling is applied correctly\n",
    "\n",
    "</div>"
   ]
  },
  {
   "cell_type": "markdown",
   "metadata": {},
   "source": [
    "# Checking models"
   ]
  },
  {
   "cell_type": "markdown",
   "metadata": {},
   "source": [
    "**checking score of DecisionTreeClassifier**"
   ]
  },
  {
   "cell_type": "code",
   "execution_count": 25,
   "metadata": {},
   "outputs": [
    {
     "data": {
      "text/plain": [
       "0.814"
      ]
     },
     "execution_count": 25,
     "metadata": {},
     "output_type": "execute_result"
    }
   ],
   "source": [
    "model_dtc = DecisionTreeClassifier(random_state=12345, max_depth=11)\n",
    "model_dtc.fit(features_train, target_train)\n",
    "predicted_validate = model_dtc.predict(features_validate)\n",
    "accuracy_valid = accuracy_score(target_validate, predicted_validate)\n",
    "accuracy_valid"
   ]
  },
  {
   "cell_type": "markdown",
   "metadata": {},
   "source": [
    "**Sanity Check**"
   ]
  },
  {
   "cell_type": "markdown",
   "metadata": {},
   "source": [
    "Checking the relation between the target outcome 1 and 0"
   ]
  },
  {
   "cell_type": "code",
   "execution_count": 26,
   "metadata": {},
   "outputs": [
    {
     "data": {
      "text/plain": [
       "<AxesSubplot:>"
      ]
     },
     "execution_count": 26,
     "metadata": {},
     "output_type": "execute_result"
    },
    {
     "data": {
      "image/png": "[encoded data removed]",
      "text/plain": [
       "<Figure size 432x288 with 1 Axes>"
      ]
     },
     "metadata": {
      "needs_background": "light"
     },
     "output_type": "display_data"
    }
   ],
   "source": [
    "target_train.value_counts().plot(kind='bar')"
   ]
  },
  {
   "cell_type": "markdown",
   "metadata": {},
   "source": [
    "Most of the target is '0'"
   ]
  },
  {
   "cell_type": "code",
   "execution_count": 27,
   "metadata": {},
   "outputs": [
    {
     "data": {
      "text/plain": [
       "0.8006666666666666"
      ]
     },
     "execution_count": 27,
     "metadata": {},
     "output_type": "execute_result"
    }
   ],
   "source": [
    "target_pred_constant = pd.Series(0 for i in target_train)\n",
    "accuracy_score(target_train, target_pred_constant)\n"
   ]
  },
  {
   "cell_type": "markdown",
   "metadata": {},
   "source": [
    "dummy model that return '0' every time, get a score of 0.8"
   ]
  },
  {
   "cell_type": "code",
   "execution_count": 28,
   "metadata": {},
   "outputs": [
    {
     "data": {
      "text/plain": [
       "<sklearn.metrics._plot.confusion_matrix.ConfusionMatrixDisplay at 0x7f8517b110a0>"
      ]
     },
     "execution_count": 28,
     "metadata": {},
     "output_type": "execute_result"
    },
    {
     "data": {
      "image/png": "[encoded data removed]",
      "text/plain": [
       "<Figure size 432x288 with 2 Axes>"
      ]
     },
     "metadata": {
      "needs_background": "light"
     },
     "output_type": "display_data"
    }
   ],
   "source": [
    "#model_dt = DecisionTreeClassifier(random_state=12345, max_depth=3)\n",
    "#model_dt.fit(features_train, target_train)\n",
    "plot_confusion_matrix(estimator=model_dtc, X=features_validate, y_true=target_validate,\n",
    "                      normalize='all', cmap='Blues', display_labels=['Exited=0', 'Exited=1'])"
   ]
  },
  {
   "cell_type": "markdown",
   "metadata": {},
   "source": [
    "# Calculating F1"
   ]
  },
  {
   "cell_type": "code",
   "execution_count": 29,
   "metadata": {
    "scrolled": true
   },
   "outputs": [
    {
     "data": {
      "text/plain": [
       "0.4972972972972973"
      ]
     },
     "execution_count": 29,
     "metadata": {},
     "output_type": "execute_result"
    }
   ],
   "source": [
    "predicted_validate = model_dtc.predict(features_validate)\n",
    "f1_score(target_validate, predicted_validate)"
   ]
  },
  {
   "cell_type": "markdown",
   "metadata": {},
   "source": [
    "# Calculating ROC-AUC"
   ]
  },
  {
   "cell_type": "code",
   "execution_count": 30,
   "metadata": {
    "scrolled": true
   },
   "outputs": [
    {
     "name": "stdout",
     "output_type": "stream",
     "text": [
      "0.7161389117500236\n"
     ]
    }
   ],
   "source": [
    "probabilities_valid = model_dtc.predict_proba(features_validate)\n",
    "probabilities_one_valid = probabilities_valid[:, 1]\n",
    "auc_roc=roc_auc_score(target_validate,probabilities_one_valid)\n",
    "print(auc_roc)"
   ]
  },
  {
   "cell_type": "code",
   "execution_count": 31,
   "metadata": {},
   "outputs": [
    {
     "data": {
      "image/png": "[encoded data removed]",
      "text/plain": [
       "<Figure size 432x288 with 1 Axes>"
      ]
     },
     "metadata": {
      "needs_background": "light"
     },
     "output_type": "display_data"
    }
   ],
   "source": [
    "fpr, tpr, thresholds = roc_curve( target_validate, probabilities_one_valid) \n",
    "\n",
    "plt.figure()\n",
    "\n",
    "plt.plot(fpr, tpr)\n",
    "\n",
    "# ROC curve for random model (looks like a straight line)\n",
    "plt.plot([0, 1], [0, 1], linestyle='--')\n",
    "\n",
    "# < use the functions plt.xlim() and plt.ylim() to\n",
    "plt.xlim([0.0, 1.0])\n",
    "plt.ylim([0.0, 1.0])\n",
    "\n",
    "plt.xlabel('False Positive Rate')\n",
    "plt.ylabel('True Positive Rate')# < use the functions plt.xlabel() and plt.ylabel() to\n",
    "#   name the axes \"False Positive Rate\" and \"True Positive Rate\" >\n",
    "\n",
    "# < add the heading \"ROC curve\" with the function plt.title() >\n",
    "plt.title('ROC curve')\n",
    "\n",
    "plt.show()"
   ]
  },
  {
   "cell_type": "markdown",
   "metadata": {},
   "source": [
    "<div class=\"alert alert-danger\">\n",
    "<s><b>Reviewer's comment</b>\n",
    "\n",
    "Great, a model was trained without taking the imbalance into account first. Could you please calculate ROC-AUC and plot the ROC curve for this model as well?\n",
    "\n",
    "</div>"
   ]
  },
  {
   "cell_type": "markdown",
   "metadata": {},
   "source": [
    "<div class=\"alert alert-success\">\n",
    "<b>Reviewer's comment V2</b>\n",
    "\n",
    "Very good!\n",
    "\n",
    "</div>"
   ]
  },
  {
   "cell_type": "markdown",
   "metadata": {},
   "source": [
    "# Class imbalance"
   ]
  },
  {
   "cell_type": "markdown",
   "metadata": {},
   "source": [
    "We are checking the target to find out if the target is balance or not"
   ]
  },
  {
   "cell_type": "code",
   "execution_count": 32,
   "metadata": {},
   "outputs": [
    {
     "data": {
      "text/plain": [
       "0    7963\n",
       "1    2037\n",
       "Name: Exited, dtype: int64"
      ]
     },
     "execution_count": 32,
     "metadata": {},
     "output_type": "execute_result"
    }
   ],
   "source": [
    "df['Exited'].value_counts()"
   ]
  },
  {
   "cell_type": "markdown",
   "metadata": {},
   "source": [
    "As we can see, the imbalance ratio is almost 1:4 '0' to '1'.\n",
    "\n",
    "We need to address this imbalance."
   ]
  },
  {
   "cell_type": "markdown",
   "metadata": {},
   "source": [
    "<div class=\"alert alert-success\">\n",
    "<b>Reviewer's comment</b>\n",
    "\n",
    "Yep!\n",
    "\n",
    "</div>"
   ]
  },
  {
   "cell_type": "markdown",
   "metadata": {},
   "source": [
    "**Altering the model parameters**"
   ]
  },
  {
   "cell_type": "code",
   "execution_count": 33,
   "metadata": {},
   "outputs": [
    {
     "data": {
      "text/plain": [
       "0.5159301130524152"
      ]
     },
     "execution_count": 33,
     "metadata": {},
     "output_type": "execute_result"
    }
   ],
   "source": [
    "model_dtc_bal = DecisionTreeClassifier(\n",
    "    random_state=12345, max_depth=11, class_weight='balanced')\n",
    "model_dtc_bal.fit(features_train, target_train)\n",
    "predicted_validate = model_dtc_bal.predict(features_validate)\n",
    "f1_score(target_validate, predicted_validate)"
   ]
  },
  {
   "cell_type": "markdown",
   "metadata": {},
   "source": [
    "Using class weight in the model raise the F1 score"
   ]
  },
  {
   "cell_type": "markdown",
   "metadata": {},
   "source": [
    "<div class=\"alert alert-success\">\n",
    "<b>Reviewer's comment</b>\n",
    "\n",
    "Class weights were applied successfully\n",
    "\n",
    "</div>"
   ]
  },
  {
   "cell_type": "markdown",
   "metadata": {},
   "source": [
    "# Adjusting the threshold"
   ]
  },
  {
   "cell_type": "code",
   "execution_count": 34,
   "metadata": {
    "scrolled": true
   },
   "outputs": [
    {
     "name": "stdout",
     "output_type": "stream",
     "text": [
      "Threshold = 0.00 | Precision = 0.338, Recall = 0.723, F1 = 0.461\n",
      "Threshold = 0.04 | Precision = 0.338, Recall = 0.723, F1 = 0.461\n",
      "Threshold = 0.08 | Precision = 0.345, Recall = 0.721, F1 = 0.467\n",
      "Threshold = 0.12 | Precision = 0.358, Recall = 0.697, F1 = 0.473\n",
      "Threshold = 0.16 | Precision = 0.381, Recall = 0.683, F1 = 0.489\n",
      "Threshold = 0.20 | Precision = 0.382, Recall = 0.683, F1 = 0.490\n",
      "Threshold = 0.24 | Precision = 0.399, Recall = 0.671, F1 = 0.500\n",
      "Threshold = 0.28 | Precision = 0.408, Recall = 0.662, F1 = 0.505\n",
      "Threshold = 0.32 | Precision = 0.408, Recall = 0.662, F1 = 0.505\n",
      "Threshold = 0.36 | Precision = 0.424, Recall = 0.638, F1 = 0.509\n",
      "Threshold = 0.40 | Precision = 0.427, Recall = 0.629, F1 = 0.509\n",
      "Threshold = 0.44 | Precision = 0.445, Recall = 0.608, F1 = 0.513\n",
      "Threshold = 0.48 | Precision = 0.447, Recall = 0.605, F1 = 0.514\n",
      "Threshold = 0.52 | Precision = 0.456, Recall = 0.593, F1 = 0.516\n",
      "Threshold = 0.56 | Precision = 0.459, Recall = 0.591, F1 = 0.517\n",
      "Threshold = 0.60 | Precision = 0.461, Recall = 0.586, F1 = 0.516\n",
      "Threshold = 0.64 | Precision = 0.462, Recall = 0.579, F1 = 0.514\n",
      "Threshold = 0.68 | Precision = 0.465, Recall = 0.546, F1 = 0.502\n",
      "Threshold = 0.72 | Precision = 0.479, Recall = 0.541, F1 = 0.508\n",
      "Threshold = 0.76 | Precision = 0.546, Recall = 0.459, F1 = 0.499\n",
      "Threshold = 0.80 | Precision = 0.555, Recall = 0.454, F1 = 0.499\n",
      "Threshold = 0.84 | Precision = 0.567, Recall = 0.440, F1 = 0.495\n",
      "Threshold = 0.88 | Precision = 0.591, Recall = 0.407, F1 = 0.482\n",
      "Threshold = 0.92 | Precision = 0.613, Recall = 0.378, F1 = 0.468\n"
     ]
    }
   ],
   "source": [
    "model_dtc_bal = DecisionTreeClassifier(\n",
    "    random_state=12345, max_depth=11, class_weight='balanced')\n",
    "model_dtc_bal.fit(features_train, target_train)\n",
    "probabilities_validate = model_dtc_bal.predict_proba(features_validate)\n",
    "probabilities_one_valid = probabilities_validate[:, 1]\n",
    "\n",
    "for threshold in np.arange(0, 0.95, 0.04):\n",
    "    predicted_validate = probabilities_one_valid > threshold\n",
    "    precision = precision_score(target_validate, predicted_validate)\n",
    "    recall = recall_score(target_validate, predicted_validate)\n",
    "    f1 = f1_score(target_validate, predicted_validate)\n",
    "\n",
    "    print(\n",
    "        f'Threshold = {threshold:.2f} | Precision = {precision:.3f}, Recall = {recall:.3f}, F1 = {f1:.3f}')"
   ]
  },
  {
   "cell_type": "markdown",
   "metadata": {},
   "source": [
    "The best F1 score is in threshhold = 0.56"
   ]
  },
  {
   "cell_type": "markdown",
   "metadata": {},
   "source": [
    "<div class=\"alert alert-warning\">\n",
    "<b>Reviewer's comment</b>\n",
    "\n",
    "It's nice that you adjusted the threshold! Threshold = 0.56 has a higher F1 score though :)\n",
    "\n",
    "</div>"
   ]
  },
  {
   "cell_type": "markdown",
   "metadata": {},
   "source": [
    "# ROC curve & AUC-ROC"
   ]
  },
  {
   "cell_type": "code",
   "execution_count": 35,
   "metadata": {},
   "outputs": [
    {
     "data": {
      "text/plain": [
       "0.7362177339443627"
      ]
     },
     "execution_count": 35,
     "metadata": {},
     "output_type": "execute_result"
    }
   ],
   "source": [
    "model_dtc_bal = DecisionTreeClassifier(\n",
    "    random_state=12345, max_depth=11, class_weight='balanced')\n",
    "model_dtc_bal.fit(features_train, target_train)\n",
    "\n",
    "probabilities_validate = model_dtc_bal.predict_proba(features_validate)\n",
    "probabilities_one_validate = probabilities_validate[:, 1]\n",
    "\n",
    "auc_roc = roc_auc_score(target_validate, probabilities_one_validate)\n",
    "\n",
    "auc_roc"
   ]
  },
  {
   "cell_type": "markdown",
   "metadata": {},
   "source": [
    "# graph ROC curve"
   ]
  },
  {
   "cell_type": "code",
   "execution_count": 36,
   "metadata": {},
   "outputs": [
    {
     "data": {
      "image/png": "[encoded data removed]",
      "text/plain": [
       "<Figure size 432x288 with 1 Axes>"
      ]
     },
     "metadata": {
      "needs_background": "light"
     },
     "output_type": "display_data"
    }
   ],
   "source": [
    "fpr, tpr, thresholds = roc_curve(target_validate, probabilities_one_validate)\n",
    "\n",
    "# the graph\n",
    "plt.figure()\n",
    "plt.plot(fpr, tpr)\n",
    "\n",
    "# ROC curve for random model\n",
    "plt.plot([0, 1], [0, 1], linestyle='--')\n",
    "\n",
    "#   set the boundary for the axes from 0 to 1 >\n",
    "plt.ylim([0.0, 1.0])\n",
    "plt.xlim([0.0, 1.0])\n",
    "\n",
    "# name the axes \"False Positive Rate\" and \"True Positive Rate\"\n",
    "plt.xlabel('False Positive Rate')\n",
    "plt.ylabel('True Positive Rate')\n",
    "\n",
    "# add the heading \"ROC curve\"\n",
    "plt.title('ROC curve')\n",
    "\n",
    "plt.show()"
   ]
  },
  {
   "cell_type": "markdown",
   "metadata": {},
   "source": [
    "**conclusion:** Our model is not very helpful.\n",
    "\n",
    "We will try other models and change the hyperparameters."
   ]
  },
  {
   "cell_type": "markdown",
   "metadata": {},
   "source": [
    "**imbalance target - Upsampling**"
   ]
  },
  {
   "cell_type": "code",
   "execution_count": 37,
   "metadata": {},
   "outputs": [],
   "source": [
    "def upsample(features, target, repeat):\n",
    "    features_zeros = features[target == 0]\n",
    "    features_ones = features[target == 1]\n",
    "    target_zeros = target[target == 0]\n",
    "    target_ones = target[target == 1]\n",
    "\n",
    "    features_upsampled = pd.concat([features_zeros] + [features_ones] * repeat)\n",
    "    target_upsampled = pd.concat([target_zeros] + [target_ones] * repeat)\n",
    "\n",
    "    features_upsampled, target_upsampled = shuffle(\n",
    "        features_upsampled, target_upsampled, random_state=12345)\n",
    "\n",
    "    return features_upsampled, target_upsampled"
   ]
  },
  {
   "cell_type": "code",
   "execution_count": 38,
   "metadata": {},
   "outputs": [],
   "source": [
    "features_upsampled, target_upsampled = upsample(\n",
    "    features_train, target_train, 3)"
   ]
  },
  {
   "cell_type": "markdown",
   "metadata": {},
   "source": [
    "<div class=\"alert alert-warning\">\n",
    "<b>Reviewer's comment</b>\n",
    "\n",
    "Upsampling function looks good, and it was correctly applied only to the train set. One question: is the `repeat` value 3 the best we can do? Does it produce a balanced dataset?\n",
    "\n",
    "</div>"
   ]
  },
  {
   "cell_type": "code",
   "execution_count": 39,
   "metadata": {},
   "outputs": [
    {
     "name": "stdout",
     "output_type": "stream",
     "text": [
      "F1: 0.5321100917431193\n"
     ]
    }
   ],
   "source": [
    "model_dtc_bal_us = DecisionTreeClassifier(\n",
    "    random_state=12345, max_depth=11, class_weight='balanced')\n",
    "model_dtc_bal_us.fit(features_upsampled, target_upsampled)\n",
    "predicted_valid = model_dtc_bal_us.predict(features_validate)\n",
    "\n",
    "\n",
    "print('F1:', f1_score(target_validate, predicted_valid))"
   ]
  },
  {
   "cell_type": "markdown",
   "metadata": {},
   "source": [
    "\n",
    "\n",
    "We will replace the feature train with feature upsampled and target train with target upsampled"
   ]
  },
  {
   "cell_type": "code",
   "execution_count": 40,
   "metadata": {},
   "outputs": [],
   "source": [
    "features_train = features_upsampled\n",
    "target_train = target_upsampled"
   ]
  },
  {
   "cell_type": "markdown",
   "metadata": {},
   "source": [
    "# Investigate the quality of different models and changing hyperparameters"
   ]
  },
  {
   "cell_type": "markdown",
   "metadata": {},
   "source": [
    "# Decision Tree"
   ]
  },
  {
   "cell_type": "markdown",
   "metadata": {},
   "source": [
    "Decision Tree is one of the predictive modeling approaches used in when the predicted outcome is the class (discrete) to which the data belongs.\n",
    "\n",
    "It uses a decision tree to go from observations (features) about an item (represented in the branches) to conclusions about the item's target value (represented in the leaves).\n",
    "\n",
    "Tree models where the target variable can take a discrete set of values are called classification trees; in these tree structures, leaves represent class labels and branches represent conjunctions of features that lead to those class labels."
   ]
  },
  {
   "cell_type": "code",
   "execution_count": 41,
   "metadata": {},
   "outputs": [],
   "source": [
    "# We will start with max_depth = 3 for fast model and then we will optimize this hyper parameter\n",
    "model_dtc = DecisionTreeClassifier(\n",
    "    random_state=12345, max_depth=3, class_weight='balanced')"
   ]
  },
  {
   "cell_type": "code",
   "execution_count": 42,
   "metadata": {},
   "outputs": [
    {
     "data": {
      "text/plain": [
       "DecisionTreeClassifier(class_weight='balanced', max_depth=3, random_state=12345)"
      ]
     },
     "execution_count": 42,
     "metadata": {},
     "output_type": "execute_result"
    }
   ],
   "source": [
    "model_dtc.fit(features_train, target_train)"
   ]
  },
  {
   "cell_type": "code",
   "execution_count": 43,
   "metadata": {},
   "outputs": [
    {
     "data": {
      "text/plain": [
       "0.5129682997118156"
      ]
     },
     "execution_count": 43,
     "metadata": {},
     "output_type": "execute_result"
    }
   ],
   "source": [
    "predicted_validate = model_dtc.predict(features_validate)\n",
    "f1_score(target_validate, predicted_validate)"
   ]
  },
  {
   "cell_type": "markdown",
   "metadata": {},
   "source": [
    "conclusion: when running the model on hyperparameter max__depth = 3, the F1 score of the model is 0.513"
   ]
  },
  {
   "cell_type": "markdown",
   "metadata": {},
   "source": [
    "**optimizing hyperparameters**\n",
    "\n",
    "We will try to change the hyperparameter max_depth from 1 to 10 to find out what gives the best accuracy score of the model."
   ]
  },
  {
   "cell_type": "code",
   "execution_count": 44,
   "metadata": {},
   "outputs": [
    {
     "name": "stdout",
     "output_type": "stream",
     "text": [
      "For max_depth = 1,\t F1 is 0.48515\n",
      "For max_depth = 2,\t F1 is 0.51297\n",
      "For max_depth = 3,\t F1 is 0.51297\n",
      "For max_depth = 4,\t F1 is 0.53852\n",
      "For max_depth = 5,\t F1 is 0.58091\n",
      "For max_depth = 6,\t F1 is 0.56490\n",
      "For max_depth = 7,\t F1 is 0.56130\n",
      "For max_depth = 8,\t F1 is 0.54953\n",
      "For max_depth = 9,\t F1 is 0.54845\n",
      "For max_depth = 10,\t F1 is 0.52692\n"
     ]
    }
   ],
   "source": [
    "for i in range(1, 11):\n",
    "    model_dt = DecisionTreeClassifier(\n",
    "        random_state=12345,  max_depth=i, class_weight='balanced')\n",
    "    model_dt.fit(features_train, target_train)\n",
    "    predictions_validate = model_dt.predict(features_validate)\n",
    "    f1_dt = f1_score(target_validate, predictions_validate)\n",
    "    print(f'For max_depth = {i},\\t F1 is {f1_dt:.5f}')"
   ]
  },
  {
   "cell_type": "markdown",
   "metadata": {},
   "source": [
    "conclusion: on checking the model on the validate data, the best F1 score is max__depth = 5"
   ]
  },
  {
   "cell_type": "markdown",
   "metadata": {},
   "source": [
    "**F1**"
   ]
  },
  {
   "cell_type": "code",
   "execution_count": 45,
   "metadata": {},
   "outputs": [
    {
     "name": "stdout",
     "output_type": "stream",
     "text": [
      "For max_depth = 5 on validation data, F1 is 0.58091\n"
     ]
    }
   ],
   "source": [
    "model_dt = DecisionTreeClassifier(\n",
    "    random_state=12345, max_depth=5, class_weight='balanced')\n",
    "model_dt.fit(features_train, target_train)\n",
    "predictions_validate = model_dt.predict(features_validate)\n",
    "f1_dt = f1_score(target_validate, predictions_validate)\n",
    "print(f'For max_depth = 5 on validation data, F1 is {f1_dt:.5f}')"
   ]
  },
  {
   "cell_type": "markdown",
   "metadata": {},
   "source": [
    "**AUC-ROC**"
   ]
  },
  {
   "cell_type": "code",
   "execution_count": 46,
   "metadata": {},
   "outputs": [
    {
     "data": {
      "text/plain": [
       "0.8355347481752318"
      ]
     },
     "execution_count": 46,
     "metadata": {},
     "output_type": "execute_result"
    }
   ],
   "source": [
    "probabilities_validate = model_dt.predict_proba(features_validate)\n",
    "probabilities_one_validate = probabilities_validate[:, 1]\n",
    "\n",
    "auc_roc = roc_auc_score(target_validate, probabilities_one_validate)\n",
    "\n",
    "auc_roc"
   ]
  },
  {
   "cell_type": "markdown",
   "metadata": {},
   "source": [
    "ROC curve"
   ]
  },
  {
   "cell_type": "code",
   "execution_count": 47,
   "metadata": {},
   "outputs": [
    {
     "data": {
      "image/png": "[encoded data removed]",
      "text/plain": [
       "<Figure size 432x288 with 1 Axes>"
      ]
     },
     "metadata": {
      "needs_background": "light"
     },
     "output_type": "display_data"
    }
   ],
   "source": [
    "fpr, tpr, thresholds = roc_curve(target_validate, probabilities_one_validate)\n",
    "\n",
    "# the graph\n",
    "plt.figure()\n",
    "plt.plot(fpr, tpr)\n",
    "\n",
    "# ROC curve for random model\n",
    "plt.plot([0, 1], [0, 1], linestyle='--')\n",
    "\n",
    "#   set the boundary for the axes from 0 to 1 >\n",
    "plt.ylim([0.0, 1.0])\n",
    "plt.xlim([0.0, 1.0])\n",
    "\n",
    "# name the axes \"False Positive Rate\" and \"True Positive Rate\"\n",
    "plt.xlabel('False Positive Rate')\n",
    "plt.ylabel('True Positive Rate')\n",
    "\n",
    "# add the heading \"ROC curve\"\n",
    "plt.title('ROC curve')\n",
    "\n",
    "plt.show()"
   ]
  },
  {
   "cell_type": "markdown",
   "metadata": {},
   "source": [
    "# Random Forest"
   ]
  },
  {
   "cell_type": "markdown",
   "metadata": {},
   "source": [
    "Random forests are an ensemble learning method for classification that operates by constructing a multitude of decision trees at training time.\n",
    "\n",
    "For classification tasks, the output of the random forest is the class selected by most trees.\n",
    "\n",
    "Random decision forests correct for decision trees' habit of overfitting to their training set. \n",
    "\n",
    "Random forests generally outperform decision trees."
   ]
  },
  {
   "cell_type": "code",
   "execution_count": 48,
   "metadata": {},
   "outputs": [],
   "source": [
    "# We will start with n_estimators = 10 for fast model and then we will optimize this hyper parameter\n",
    "model_rfc = RandomForestClassifier(\n",
    "    random_state=12345, n_estimators=10, class_weight='balanced')"
   ]
  },
  {
   "cell_type": "code",
   "execution_count": 49,
   "metadata": {},
   "outputs": [
    {
     "data": {
      "text/plain": [
       "RandomForestClassifier(class_weight='balanced', n_estimators=10,\n",
       "                       random_state=12345)"
      ]
     },
     "execution_count": 49,
     "metadata": {},
     "output_type": "execute_result"
    }
   ],
   "source": [
    "model_rfc.fit(features_train, target_train)"
   ]
  },
  {
   "cell_type": "code",
   "execution_count": 50,
   "metadata": {},
   "outputs": [
    {
     "data": {
      "text/plain": [
       "0.5788751714677641"
      ]
     },
     "execution_count": 50,
     "metadata": {},
     "output_type": "execute_result"
    }
   ],
   "source": [
    "predicted_validate = model_rfc.predict(features_validate)\n",
    "f1_score(target_validate, predicted_validate)"
   ]
  },
  {
   "cell_type": "markdown",
   "metadata": {},
   "source": [
    "**optimizing hyperparameters**\n",
    "\n",
    "We will try to change the hyperparameter n_estimators from 1 to 10 to find out what gives the best accuracy score of the model."
   ]
  },
  {
   "cell_type": "code",
   "execution_count": 51,
   "metadata": {},
   "outputs": [
    {
     "name": "stdout",
     "output_type": "stream",
     "text": [
      "For n_estimators = 1,\t F1 is 0.45312\n",
      "For n_estimators = 2,\t F1 is 0.42988\n",
      "For n_estimators = 3,\t F1 is 0.52297\n",
      "For n_estimators = 4,\t F1 is 0.48580\n",
      "For n_estimators = 5,\t F1 is 0.53885\n",
      "For n_estimators = 6,\t F1 is 0.53835\n",
      "For n_estimators = 7,\t F1 is 0.55412\n",
      "For n_estimators = 8,\t F1 is 0.55878\n",
      "For n_estimators = 9,\t F1 is 0.57436\n",
      "For n_estimators = 10,\t F1 is 0.57888\n",
      "For n_estimators = 11,\t F1 is 0.57253\n",
      "For n_estimators = 12,\t F1 is 0.55586\n",
      "For n_estimators = 13,\t F1 is 0.56662\n",
      "For n_estimators = 14,\t F1 is 0.55510\n",
      "For n_estimators = 15,\t F1 is 0.58366\n",
      "For n_estimators = 16,\t F1 is 0.56599\n",
      "For n_estimators = 17,\t F1 is 0.56921\n",
      "For n_estimators = 18,\t F1 is 0.57066\n",
      "For n_estimators = 19,\t F1 is 0.58149\n",
      "For n_estimators = 20,\t F1 is 0.57337\n",
      "For n_estimators = 21,\t F1 is 0.57256\n",
      "For n_estimators = 22,\t F1 is 0.57259\n",
      "For n_estimators = 23,\t F1 is 0.58311\n",
      "For n_estimators = 24,\t F1 is 0.57412\n",
      "For n_estimators = 25,\t F1 is 0.57480\n",
      "For n_estimators = 26,\t F1 is 0.56599\n",
      "For n_estimators = 27,\t F1 is 0.57143\n",
      "For n_estimators = 28,\t F1 is 0.57337\n",
      "For n_estimators = 29,\t F1 is 0.57672\n",
      "For n_estimators = 30,\t F1 is 0.57609\n",
      "For n_estimators = 31,\t F1 is 0.57979\n",
      "For n_estimators = 32,\t F1 is 0.57143\n",
      "For n_estimators = 33,\t F1 is 0.57867\n",
      "For n_estimators = 34,\t F1 is 0.57104\n",
      "For n_estimators = 35,\t F1 is 0.57067\n",
      "For n_estimators = 36,\t F1 is 0.56563\n",
      "For n_estimators = 37,\t F1 is 0.57483\n",
      "For n_estimators = 38,\t F1 is 0.57182\n",
      "For n_estimators = 39,\t F1 is 0.56991\n",
      "For n_estimators = 40,\t F1 is 0.57337\n",
      "For n_estimators = 41,\t F1 is 0.57333\n",
      "For n_estimators = 42,\t F1 is 0.56950\n",
      "For n_estimators = 43,\t F1 is 0.57754\n",
      "For n_estimators = 44,\t F1 is 0.56988\n",
      "For n_estimators = 45,\t F1 is 0.58021\n",
      "For n_estimators = 46,\t F1 is 0.57493\n",
      "For n_estimators = 47,\t F1 is 0.58412\n",
      "For n_estimators = 48,\t F1 is 0.57802\n",
      "For n_estimators = 49,\t F1 is 0.58021\n",
      "For n_estimators = 50,\t F1 is 0.56871\n",
      "For n_estimators = 51,\t F1 is 0.58177\n",
      "For n_estimators = 52,\t F1 is 0.57297\n",
      "For n_estimators = 53,\t F1 is 0.58211\n",
      "For n_estimators = 54,\t F1 is 0.57951\n",
      "For n_estimators = 55,\t F1 is 0.58289\n",
      "For n_estimators = 56,\t F1 is 0.57682\n",
      "For n_estimators = 57,\t F1 is 0.58589\n",
      "For n_estimators = 58,\t F1 is 0.58143\n",
      "For n_estimators = 59,\t F1 is 0.58713\n",
      "For n_estimators = 60,\t F1 is 0.58143\n",
      "For n_estimators = 61,\t F1 is 0.58478\n",
      "For n_estimators = 62,\t F1 is 0.57724\n",
      "For n_estimators = 63,\t F1 is 0.58255\n",
      "For n_estimators = 64,\t F1 is 0.57802\n",
      "For n_estimators = 65,\t F1 is 0.58478\n",
      "For n_estimators = 66,\t F1 is 0.58537\n",
      "For n_estimators = 67,\t F1 is 0.58445\n",
      "For n_estimators = 68,\t F1 is 0.58491\n",
      "For n_estimators = 69,\t F1 is 0.58933\n",
      "For n_estimators = 70,\t F1 is 0.59140\n",
      "For n_estimators = 71,\t F1 is 0.58589\n",
      "For n_estimators = 72,\t F1 is 0.58792\n",
      "For n_estimators = 73,\t F1 is 0.58478\n",
      "For n_estimators = 74,\t F1 is 0.58333\n",
      "For n_estimators = 75,\t F1 is 0.58589\n",
      "For n_estimators = 76,\t F1 is 0.58445\n",
      "For n_estimators = 77,\t F1 is 0.58777\n",
      "For n_estimators = 78,\t F1 is 0.58681\n",
      "For n_estimators = 79,\t F1 is 0.58824\n",
      "For n_estimators = 80,\t F1 is 0.58602\n",
      "For n_estimators = 81,\t F1 is 0.58745\n",
      "For n_estimators = 82,\t F1 is 0.58300\n",
      "For n_estimators = 83,\t F1 is 0.58289\n",
      "For n_estimators = 84,\t F1 is 0.58378\n",
      "For n_estimators = 85,\t F1 is 0.58824\n",
      "For n_estimators = 86,\t F1 is 0.58570\n",
      "For n_estimators = 87,\t F1 is 0.58367\n",
      "For n_estimators = 88,\t F1 is 0.58143\n",
      "For n_estimators = 89,\t F1 is 0.58933\n",
      "For n_estimators = 90,\t F1 is 0.58871\n",
      "For n_estimators = 91,\t F1 is 0.58556\n",
      "For n_estimators = 92,\t F1 is 0.58602\n",
      "For n_estimators = 93,\t F1 is 0.58478\n",
      "For n_estimators = 94,\t F1 is 0.58333\n",
      "For n_estimators = 95,\t F1 is 0.58367\n",
      "For n_estimators = 96,\t F1 is 0.57873\n",
      "For n_estimators = 97,\t F1 is 0.57987\n",
      "For n_estimators = 98,\t F1 is 0.58143\n",
      "For n_estimators = 99,\t F1 is 0.58065\n",
      "For n_estimators = 100,\t F1 is 0.57838\n"
     ]
    }
   ],
   "source": [
    "list_f1 = []\n",
    "for i in range(1, 101):\n",
    "    model_rf = RandomForestClassifier(\n",
    "        random_state=12345, n_estimators=i, class_weight='balanced')\n",
    "    model_rf.fit(features_train, target_train)\n",
    "    predictions_validate = model_rf.predict(features_validate)\n",
    "    f1_rf = f1_score(target_validate, predictions_validate)\n",
    "    list_f1.append(f1_rf)\n",
    "    print(f'For n_estimators = {i},\\t F1 is {f1_rf:.5f}')"
   ]
  },
  {
   "cell_type": "code",
   "execution_count": 52,
   "metadata": {},
   "outputs": [
    {
     "name": "stdout",
     "output_type": "stream",
     "text": [
      "The max value of F1 score is 0.5914\n"
     ]
    }
   ],
   "source": [
    "print(f'The max value of F1 score is {max(list_f1):.4f}')"
   ]
  },
  {
   "cell_type": "code",
   "execution_count": 53,
   "metadata": {
    "scrolled": true
   },
   "outputs": [
    {
     "name": "stdout",
     "output_type": "stream",
     "text": [
      "The max F1 score is when n_estimators is 70\n"
     ]
    }
   ],
   "source": [
    "print(\n",
    "    f'The max F1 score is when n_estimators is {list_f1.index(max(list_f1))+1}')"
   ]
  },
  {
   "cell_type": "markdown",
   "metadata": {},
   "source": [
    "conclusion: on checking the model on the validate data, the best F1 score is n__estimators = 70"
   ]
  },
  {
   "cell_type": "markdown",
   "metadata": {},
   "source": [
    "<div class=\"alert alert-danger\">\n",
    "<s><b>Reviewer's comment</b>\n",
    "\n",
    "This is accuracy, not F1 score\n",
    "\n",
    "</div>"
   ]
  },
  {
   "cell_type": "markdown",
   "metadata": {},
   "source": [
    "<div class=\"alert alert-success\">\n",
    "<b>Reviewer's comment V2</b>\n",
    "\n",
    "Fixed!\n",
    "    \n",
    "\n",
    "</div>"
   ]
  },
  {
   "cell_type": "markdown",
   "metadata": {},
   "source": [
    "**AUC-ROC**"
   ]
  },
  {
   "cell_type": "code",
   "execution_count": 55,
   "metadata": {},
   "outputs": [
    {
     "data": {
      "text/plain": [
       "0.8440458362003445"
      ]
     },
     "execution_count": 55,
     "metadata": {},
     "output_type": "execute_result"
    }
   ],
   "source": [
    "probabilities_validate = model_rf.predict_proba(features_validate)\n",
    "probabilities_one_validate = probabilities_validate[:, 1]\n",
    "\n",
    "auc_roc = roc_auc_score(target_validate, probabilities_one_validate)\n",
    "\n",
    "auc_roc"
   ]
  },
  {
   "cell_type": "markdown",
   "metadata": {},
   "source": [
    "ROC curve"
   ]
  },
  {
   "cell_type": "code",
   "execution_count": 56,
   "metadata": {},
   "outputs": [
    {
     "data": {
      "image/png": "[encoded data removed]",
      "text/plain": [
       "<Figure size 432x288 with 1 Axes>"
      ]
     },
     "metadata": {
      "needs_background": "light"
     },
     "output_type": "display_data"
    }
   ],
   "source": [
    "fpr, tpr, thresholds = roc_curve(target_validate, probabilities_one_validate)\n",
    "\n",
    "# the graph\n",
    "plt.figure()\n",
    "plt.plot(fpr, tpr)\n",
    "\n",
    "# ROC curve for random model\n",
    "plt.plot([0, 1], [0, 1], linestyle='--')\n",
    "\n",
    "#   set the boundary for the axes from 0 to 1 >\n",
    "plt.ylim([0.0, 1.0])\n",
    "plt.xlim([0.0, 1.0])\n",
    "\n",
    "# name the axes \"False Positive Rate\" and \"True Positive Rate\"\n",
    "plt.xlabel('False Positive Rate')\n",
    "plt.ylabel('True Positive Rate')\n",
    "\n",
    "# add the heading \"ROC curve\"\n",
    "plt.title('ROC curve')\n",
    "\n",
    "plt.show()"
   ]
  },
  {
   "cell_type": "markdown",
   "metadata": {},
   "source": [
    "# Logistic Regression"
   ]
  },
  {
   "cell_type": "markdown",
   "metadata": {},
   "source": [
    "Logistic regression is a statistical model that uses a logistic function to model a binary dependent variable\n",
    "\n",
    "Logistic regression is estimating the parameters of a logistic model (a form of binary regression).\n",
    "\n",
    "Mathematically, a binary logistic model has a dependent variable with two possible values, such as pass/fail which is represented by an indicator variable (target) where the two values are labeled \"0\" and \"1\".\n",
    "\n",
    "In the logistic model, the log-odds (the logarithm of the odds) for the value labeled \"1\" is a linear combination of one or more independent variables (\"predictors\"); the independent variables can each be a binary variable (two classes, coded by an indicator variable) or a continuous variable (any real value).\n",
    "\n",
    "The corresponding probability of the value labeled \"1\" can vary between 0 (certainly the value \"0\") and 1 (certainly the value \"1\"), hence the labeling.\n",
    "\n",
    "The function that converts log-odds to probability is the sigmoid function.\n",
    "\n",
    "In a binary logistic regression model, the dependent variable (target) has two levels (categorical)."
   ]
  },
  {
   "cell_type": "code",
   "execution_count": 57,
   "metadata": {},
   "outputs": [],
   "source": [
    "model_lrc = LogisticRegression(\n",
    "    random_state=12345, solver='liblinear', max_iter=100, class_weight='balanced')"
   ]
  },
  {
   "cell_type": "code",
   "execution_count": 58,
   "metadata": {},
   "outputs": [
    {
     "data": {
      "text/plain": [
       "LogisticRegression(class_weight='balanced', random_state=12345,\n",
       "                   solver='liblinear')"
      ]
     },
     "execution_count": 58,
     "metadata": {},
     "output_type": "execute_result"
    }
   ],
   "source": [
    "model_lrc.fit(features_train, target_train)"
   ]
  },
  {
   "cell_type": "code",
   "execution_count": 59,
   "metadata": {},
   "outputs": [
    {
     "data": {
      "text/plain": [
       "0.4775086505190312"
      ]
     },
     "execution_count": 59,
     "metadata": {},
     "output_type": "execute_result"
    }
   ],
   "source": [
    "predicted_validate = model_lrc.predict(features_validate)\n",
    "f1_score(target_validate, predicted_validate)"
   ]
  },
  {
   "cell_type": "markdown",
   "metadata": {},
   "source": [
    "conclusion: when running the model on hyperparameter max__iter = 100 , the F1 score of the model is 0.4775"
   ]
  },
  {
   "cell_type": "markdown",
   "metadata": {},
   "source": [
    "**optimizing hyperparameters**\n",
    "\n",
    "We will try to change the hyperparameter solver for every option to find out what gives the best accuracy score of the model."
   ]
  },
  {
   "cell_type": "code",
   "execution_count": 60,
   "metadata": {},
   "outputs": [
    {
     "name": "stdout",
     "output_type": "stream",
     "text": [
      "For solver = newton-cg,\t F1 is 0.47751\n",
      "For solver = lbfgs,\t F1 is 0.47751\n",
      "For solver = liblinear,\t F1 is 0.47751\n",
      "For solver = sag,\t F1 is 0.47751\n",
      "For solver = saga,\t F1 is 0.47751\n"
     ]
    }
   ],
   "source": [
    "solver = ['newton-cg', 'lbfgs', 'liblinear', 'sag', 'saga']\n",
    "for i in solver:\n",
    "    model_lr = LogisticRegression(\n",
    "        random_state=12345, solver=i, class_weight='balanced')\n",
    "    model_lr.fit(features_train, target_train)\n",
    "    predictions_validate = model_lr.predict(features_validate)\n",
    "    f1_lr = f1_score(target_validate, predictions_validate)\n",
    "    print(f'For solver = {i},\\t F1 is {f1_lr:.5f}')"
   ]
  },
  {
   "cell_type": "code",
   "execution_count": 61,
   "metadata": {},
   "outputs": [
    {
     "name": "stdout",
     "output_type": "stream",
     "text": [
      "For max_iter = 1,\t F1 is 0.47619\n",
      "For max_iter = 101,\t F1 is 0.47751\n",
      "For max_iter = 201,\t F1 is 0.47751\n",
      "For max_iter = 301,\t F1 is 0.47751\n",
      "For max_iter = 401,\t F1 is 0.47751\n",
      "For max_iter = 501,\t F1 is 0.47751\n",
      "For max_iter = 601,\t F1 is 0.47751\n",
      "For max_iter = 701,\t F1 is 0.47751\n",
      "For max_iter = 801,\t F1 is 0.47751\n",
      "For max_iter = 901,\t F1 is 0.47751\n"
     ]
    }
   ],
   "source": [
    "for i in range(1, 1000, 100):\n",
    "    model_lr = LogisticRegression(\n",
    "        random_state=12345, solver='liblinear', max_iter=i, C=1, class_weight='balanced')\n",
    "    model_lr.fit(features_train, target_train)\n",
    "    predictions_validate = model_lr.predict(features_validate)\n",
    "\n",
    "    f1_lr = f1_score(target_validate, predictions_validate)\n",
    "    print(f'For max_iter = {i},\\t F1 is {f1_lr:.5f}')"
   ]
  },
  {
   "cell_type": "markdown",
   "metadata": {},
   "source": [
    "**conclusion:**"
   ]
  },
  {
   "cell_type": "markdown",
   "metadata": {},
   "source": [
    "- on checking the max_iter on the validate data, there is no change in F1 after the hyperparameter is above 10\n",
    "- on checking the model on the validate data, all the solvers got the same F1 score"
   ]
  },
  {
   "cell_type": "markdown",
   "metadata": {},
   "source": [
    "**F1**"
   ]
  },
  {
   "cell_type": "code",
   "execution_count": 62,
   "metadata": {},
   "outputs": [
    {
     "name": "stdout",
     "output_type": "stream",
     "text": [
      "For solver = \"liblinear\",\t F1 is 0.47751\n"
     ]
    }
   ],
   "source": [
    "model_lr = LogisticRegression(\n",
    "    random_state=12345, solver='liblinear', class_weight='balanced')\n",
    "model_lr.fit(features_train, target_train)\n",
    "predictions_validate = model_lr.predict(features_validate)\n",
    "f1_lr = f1_score(target_validate, predictions_validate)\n",
    "print(f'For solver = \"liblinear\",\\t F1 is {f1_lr:.5f}')"
   ]
  },
  {
   "cell_type": "markdown",
   "metadata": {},
   "source": [
    "**AUC-ROC**"
   ]
  },
  {
   "cell_type": "code",
   "execution_count": 63,
   "metadata": {},
   "outputs": [
    {
     "data": {
      "text/plain": [
       "0.741771115818256"
      ]
     },
     "execution_count": 63,
     "metadata": {},
     "output_type": "execute_result"
    }
   ],
   "source": [
    "probabilities_validate = model_lr.predict_proba(features_validate)\n",
    "probabilities_one_validate = probabilities_validate[:, 1]\n",
    "\n",
    "auc_roc = roc_auc_score(target_validate, probabilities_one_validate)\n",
    "\n",
    "auc_roc"
   ]
  },
  {
   "cell_type": "markdown",
   "metadata": {},
   "source": [
    "**ROC curve**"
   ]
  },
  {
   "cell_type": "code",
   "execution_count": 64,
   "metadata": {},
   "outputs": [
    {
     "data": {
      "image/png": "[encoded data removed]",
      "text/plain": [
       "<Figure size 432x288 with 1 Axes>"
      ]
     },
     "metadata": {
      "needs_background": "light"
     },
     "output_type": "display_data"
    }
   ],
   "source": [
    "fpr, tpr, thresholds = roc_curve(target_validate, probabilities_one_validate)\n",
    "\n",
    "# the graph\n",
    "plt.figure()\n",
    "plt.plot(fpr, tpr)\n",
    "\n",
    "# ROC curve for random model\n",
    "plt.plot([0, 1], [0, 1], linestyle='--')\n",
    "\n",
    "#   set the boundary for the axes from 0 to 1 >\n",
    "plt.ylim([0.0, 1.0])\n",
    "plt.xlim([0.0, 1.0])\n",
    "\n",
    "# name the axes \"False Positive Rate\" and \"True Positive Rate\"\n",
    "plt.xlabel('False Positive Rate')\n",
    "plt.ylabel('True Positive Rate')\n",
    "\n",
    "# add the heading \"ROC curve\"\n",
    "plt.title('ROC curve')\n",
    "\n",
    "plt.show()"
   ]
  },
  {
   "cell_type": "markdown",
   "metadata": {},
   "source": [
    "# Conclusion"
   ]
  },
  {
   "cell_type": "markdown",
   "metadata": {},
   "source": [
    "This project is about training classification model. We have 2 options on the target: '0' and '1'. For selecting the best model, we checked three options: decision tree, random forest and Logistic Regression. To prepare the date, we checked it for duplicates and missing values\n",
    "\n",
    "We split the data between train data and validate data with the ratio 25%. For every split we had feature data for the independent variables and target for the outcome. after running the model, we tried to optimize it by changing one hyperparameter and to find out what setting returns the best accurate score."
   ]
  },
  {
   "cell_type": "markdown",
   "metadata": {},
   "source": [
    "##### **The major finding**\n",
    "- The decision tree model\n",
    "    - hyperparameter: max_depth. best value = 5\n",
    "    - F1 score on test data: 0.58091\n",
    "    - auc_roc: 0.8355\n",
    "- The random forest model\n",
    "    - hyperparameter: n_estimators. best value = 70\n",
    "    - F1 score on test data: 0.5914\n",
    "    - auc_roc: 0.8440\n",
    "- The logistic regression model\n",
    "    - hyperparameter: solver. best value = liblinear\n",
    "    -F1 score on test data: 0.4775\n",
    "    -auc_roc: 0.7417\n",
    "\n",
    "The **random forest model** wins\n",
    "\n"
   ]
  },
  {
   "cell_type": "markdown",
   "metadata": {},
   "source": [
    "<div class=\"alert alert-success\">\n",
    "<b>Reviewer's comment</b>\n",
    "\n",
    "Great, you tried a couple of different models and balancing techniques and did some hyperparameter tuning!\n",
    "\n",
    "</div>"
   ]
  },
  {
   "cell_type": "markdown",
   "metadata": {},
   "source": [
    "# Test data"
   ]
  },
  {
   "cell_type": "markdown",
   "metadata": {},
   "source": [
    "**running the models on test data**"
   ]
  },
  {
   "cell_type": "markdown",
   "metadata": {},
   "source": [
    "# Random forest"
   ]
  },
  {
   "cell_type": "markdown",
   "metadata": {},
   "source": [
    "#  F1 score of the test data"
   ]
  },
  {
   "cell_type": "code",
   "execution_count": 75,
   "metadata": {},
   "outputs": [
    {
     "name": "stdout",
     "output_type": "stream",
     "text": [
      "For n_estimators = 70 on the test data, F1 is 0.60434\n"
     ]
    }
   ],
   "source": [
    "model_rf = RandomForestClassifier(\n",
    "    random_state=12345, n_estimators=70, class_weight='balanced')\n",
    "model_rf.fit(features_train, target_train)\n",
    "predictions_test = model_rf.predict(features_test)\n",
    "f1_rf = f1_score(target_test, predictions_test)\n",
    "print(f'For n_estimators = 70 on the test data, F1 is {f1_rf:.5f}')"
   ]
  },
  {
   "cell_type": "markdown",
   "metadata": {},
   "source": [
    "# AUC - ROC test data"
   ]
  },
  {
   "cell_type": "code",
   "execution_count": 78,
   "metadata": {},
   "outputs": [
    {
     "data": {
      "text/plain": [
       "0.8374914559125085"
      ]
     },
     "execution_count": 78,
     "metadata": {},
     "output_type": "execute_result"
    }
   ],
   "source": [
    "probabilities_test = model_rf.predict_proba(features_test)\n",
    "probabilities_one_test = probabilities_test[:, 1]\n",
    "\n",
    "auc_roc = roc_auc_score(target_test, probabilities_one_test)\n",
    "\n",
    "auc_roc"
   ]
  },
  {
   "cell_type": "markdown",
   "metadata": {},
   "source": [
    "# Decision Tree"
   ]
  },
  {
   "cell_type": "code",
   "execution_count": 76,
   "metadata": {},
   "outputs": [
    {
     "name": "stdout",
     "output_type": "stream",
     "text": [
      "For max_depth = 5 on validation data, F1 is 0.59638\n"
     ]
    }
   ],
   "source": [
    "model_dt = DecisionTreeClassifier(\n",
    "    random_state=12345, max_depth=5, class_weight='balanced')\n",
    "model_dt.fit(features_train, target_train)\n",
    "predictions_test = model_dt.predict(features_test)\n",
    "f1_dt = f1_score(target_test, predictions_test)\n",
    "print(f'For max_depth = 5 on validation data, F1 is {f1_dt:.5f}')"
   ]
  },
  {
   "cell_type": "markdown",
   "metadata": {},
   "source": [
    "# AUC - ROC test data"
   ]
  },
  {
   "cell_type": "code",
   "execution_count": 77,
   "metadata": {},
   "outputs": [
    {
     "data": {
      "text/plain": [
       "0.8310244134068074"
      ]
     },
     "execution_count": 77,
     "metadata": {},
     "output_type": "execute_result"
    }
   ],
   "source": [
    "probabilities_test = model_dt.predict_proba(features_test)\n",
    "probabilities_one_test = probabilities_test[:, 1]\n",
    "\n",
    "auc_roc = roc_auc_score(target_test, probabilities_one_test)\n",
    "\n",
    "auc_roc"
   ]
  },
  {
   "cell_type": "markdown",
   "metadata": {},
   "source": [
    "# Logistic Regression"
   ]
  },
  {
   "cell_type": "code",
   "execution_count": 79,
   "metadata": {},
   "outputs": [
    {
     "name": "stdout",
     "output_type": "stream",
     "text": [
      "For solver = \"liblinear\",\t F1 is 0.48885\n"
     ]
    }
   ],
   "source": [
    "model_lr = LogisticRegression(\n",
    "    random_state=12345, solver='liblinear', class_weight='balanced')\n",
    "model_lr.fit(features_train, target_train)\n",
    "predictions_test = model_lr.predict(features_test)\n",
    "f1_lr = f1_score(target_test, predictions_test)\n",
    "print(f'For solver = \"liblinear\",\\t F1 is {f1_lr:.5f}')"
   ]
  },
  {
   "cell_type": "markdown",
   "metadata": {},
   "source": [
    "# AUC - ROC test data"
   ]
  },
  {
   "cell_type": "code",
   "execution_count": 84,
   "metadata": {},
   "outputs": [
    {
     "data": {
      "text/plain": [
       "0.7636387832009629"
      ]
     },
     "execution_count": 84,
     "metadata": {},
     "output_type": "execute_result"
    }
   ],
   "source": [
    "probabilities_test = model_lr.predict_proba(features_test)\n",
    "probabilities_one_test = probabilities_test[:, 1]\n",
    "\n",
    "auc_roc = roc_auc_score(target_test, probabilities_one_test)\n",
    "\n",
    "auc_roc"
   ]
  },
  {
   "cell_type": "markdown",
   "metadata": {},
   "source": [
    "<div class=\"alert alert-danger\">\n",
    "<s><b>Reviewer's comment</b>\n",
    "\n",
    "This is also accuracy, not F1 score\n",
    "\n",
    "</div>"
   ]
  },
  {
   "cell_type": "markdown",
   "metadata": {},
   "source": [
    "<div class=\"alert alert-success\">\n",
    "<b>Reviewer's comment V2</b>\n",
    "\n",
    "Alright, now I can see both F1 score and ROC-AUC\n",
    "\n",
    "</div>"
   ]
  },
  {
   "cell_type": "markdown",
   "metadata": {},
   "source": [
    "# Confusion matrix"
   ]
  },
  {
   "cell_type": "markdown",
   "metadata": {},
   "source": [
    "**dummy classifier**"
   ]
  },
  {
   "cell_type": "markdown",
   "metadata": {},
   "source": [
    "compare the models to the dummy classifier by the confusion matrix"
   ]
  },
  {
   "cell_type": "code",
   "execution_count": 67,
   "metadata": {},
   "outputs": [],
   "source": [
    "# making the dummy classifier\n",
    "clf_dummy = DummyClassifier(random_state=12345)\n",
    "clf_dummy.fit(features_train, target_train)\n",
    "predictions_test = clf_dummy.predict(features_test)"
   ]
  },
  {
   "cell_type": "code",
   "execution_count": 68,
   "metadata": {
    "scrolled": true
   },
   "outputs": [
    {
     "data": {
      "text/plain": [
       "<sklearn.metrics._plot.confusion_matrix.ConfusionMatrixDisplay at 0x7f8517970880>"
      ]
     },
     "execution_count": 68,
     "metadata": {},
     "output_type": "execute_result"
    },
    {
     "data": {
      "image/png": "[encoded data removed]",
      "text/plain": [
       "<Figure size 432x288 with 2 Axes>"
      ]
     },
     "metadata": {
      "needs_background": "light"
     },
     "output_type": "display_data"
    }
   ],
   "source": [
    "# for the test data\n",
    "plot_confusion_matrix(estimator=clf_dummy, X=predictions_test,\n",
    "                      y_true=target_test, cmap='Blues', normalize='all')"
   ]
  },
  {
   "cell_type": "markdown",
   "metadata": {},
   "source": [
    "calculate the value_counts of the data to see the unbalanced data"
   ]
  },
  {
   "cell_type": "code",
   "execution_count": 69,
   "metadata": {},
   "outputs": [
    {
     "data": {
      "text/plain": [
       "0   0.79\n",
       "1   0.21\n",
       "Name: Exited, dtype: float64"
      ]
     },
     "execution_count": 69,
     "metadata": {},
     "output_type": "execute_result"
    }
   ],
   "source": [
    "target_test.value_counts(normalize=True)"
   ]
  },
  {
   "cell_type": "code",
   "execution_count": 70,
   "metadata": {},
   "outputs": [
    {
     "data": {
      "text/plain": [
       "<AxesSubplot:>"
      ]
     },
     "execution_count": 70,
     "metadata": {},
     "output_type": "execute_result"
    },
    {
     "data": {
      "image/png": "[encoded data removed]",
      "text/plain": [
       "<Figure size 432x288 with 1 Axes>"
      ]
     },
     "metadata": {
      "needs_background": "light"
     },
     "output_type": "display_data"
    }
   ],
   "source": [
    "target_test.value_counts(normalize=True).plot(kind='bar')"
   ]
  },
  {
   "cell_type": "markdown",
   "metadata": {},
   "source": [
    "**conclusion:** the test data is not balanced. The dummy classifier gives about 20% accuracy only because of the imbalance target data."
   ]
  },
  {
   "cell_type": "markdown",
   "metadata": {},
   "source": [
    "# ploting confusion matrix to the three models"
   ]
  },
  {
   "cell_type": "markdown",
   "metadata": {},
   "source": [
    "**Decision Tree confusion matrix** "
   ]
  },
  {
   "cell_type": "code",
   "execution_count": 71,
   "metadata": {},
   "outputs": [
    {
     "data": {
      "text/plain": [
       "<sklearn.metrics._plot.confusion_matrix.ConfusionMatrixDisplay at 0x7f850c018ca0>"
      ]
     },
     "execution_count": 71,
     "metadata": {},
     "output_type": "execute_result"
    },
    {
     "data": {
      "image/png": "[encoded data removed]",
      "text/plain": [
       "<Figure size 432x288 with 2 Axes>"
      ]
     },
     "metadata": {
      "needs_background": "light"
     },
     "output_type": "display_data"
    }
   ],
   "source": [
    "plot_confusion_matrix(estimator=model_dt, X=features_test,\n",
    "                      y_true=target_test, cmap='Blues')"
   ]
  },
  {
   "cell_type": "markdown",
   "metadata": {},
   "source": [
    "**Random Forest confusion matrix**"
   ]
  },
  {
   "cell_type": "code",
   "execution_count": 72,
   "metadata": {},
   "outputs": [
    {
     "data": {
      "text/plain": [
       "<sklearn.metrics._plot.confusion_matrix.ConfusionMatrixDisplay at 0x7f850bf80ac0>"
      ]
     },
     "execution_count": 72,
     "metadata": {},
     "output_type": "execute_result"
    },
    {
     "data": {
      "image/png": "[encoded data removed]",
      "text/plain": [
       "<Figure size 432x288 with 2 Axes>"
      ]
     },
     "metadata": {
      "needs_background": "light"
     },
     "output_type": "display_data"
    }
   ],
   "source": [
    "plot_confusion_matrix(estimator=model_rf, X=features_validate,\n",
    "                      y_true=target_validate, cmap='Blues')"
   ]
  },
  {
   "cell_type": "markdown",
   "metadata": {},
   "source": [
    "**Logistic Regression confusion matrix**"
   ]
  },
  {
   "cell_type": "code",
   "execution_count": 73,
   "metadata": {},
   "outputs": [
    {
     "data": {
      "text/plain": [
       "<sklearn.metrics._plot.confusion_matrix.ConfusionMatrixDisplay at 0x7f85178a5cd0>"
      ]
     },
     "execution_count": 73,
     "metadata": {},
     "output_type": "execute_result"
    },
    {
     "data": {
      "image/png": "[encoded data removed]",
      "text/plain": [
       "<Figure size 432x288 with 2 Axes>"
      ]
     },
     "metadata": {
      "needs_background": "light"
     },
     "output_type": "display_data"
    }
   ],
   "source": [
    "plot_confusion_matrix(estimator=model_lr, X=features_validate,\n",
    "                      y_true=target_validate, cmap='Blues')"
   ]
  },
  {
   "cell_type": "markdown",
   "metadata": {},
   "source": [
    "# The major finding"
   ]
  },
  {
   "cell_type": "markdown",
   "metadata": {},
   "source": [
    "- The decision tree model\n",
    "    - hyperparameter: max_depth. best value =5\n",
    "    - F1 score on test data: 0.5963\n",
    "    - auc_roc: 0.8310\n",
    "- The random forest model\n",
    "    - hyperparameter: n_estimators. best value = 70\n",
    "    - F1 score on test data: 0.60434\n",
    "    - auc_roc: 0.8374\n",
    "-The logistic regression model\n",
    "    - hyperparameter: solver. best value = liblinear\n",
    "    - F1 score on test data: 0.48885\n",
    "    - auc_roc: 0.7636"
   ]
  },
  {
   "cell_type": "markdown",
   "metadata": {},
   "source": [
    "The **random forest model** wins!"
   ]
  },
  {
   "cell_type": "markdown",
   "metadata": {},
   "source": [
    "<div class=\"alert alert-danger\">\n",
    "<s><b>Reviewer's comment</b>\n",
    "\n",
    "I couldn't find where the test set metrics were calculated for the decision tree and logistic regression 🤔\n",
    "\n",
    "</div>"
   ]
  },
  {
   "cell_type": "markdown",
   "metadata": {},
   "source": [
    "<div class=\"alert alert-success\">\n",
    "<b>Reviewer's comment V2</b>\n",
    "\n",
    "Excellent!\n",
    "\n",
    "</div>"
   ]
  }
 ],
 "metadata": {
  "ExecuteTimeLog": [
   {
    "duration": 12332,
    "start_time": "2022-04-04T21:19:05.368Z"
   },
   {
    "duration": 1630,
    "start_time": "2022-04-04T21:19:19.211Z"
   },
   {
    "duration": 3,
    "start_time": "2022-04-04T21:19:32.534Z"
   },
   {
    "duration": 3,
    "start_time": "2022-04-04T21:19:44.262Z"
   },
   {
    "duration": 155,
    "start_time": "2022-04-04T21:20:56.025Z"
   },
   {
    "duration": 50,
    "start_time": "2022-04-04T21:21:06.947Z"
   },
   {
    "duration": 15,
    "start_time": "2022-04-04T21:21:37.411Z"
   },
   {
    "duration": 14,
    "start_time": "2022-04-04T21:21:43.793Z"
   },
   {
    "duration": 14,
    "start_time": "2022-04-04T21:22:53.409Z"
   },
   {
    "duration": 13,
    "start_time": "2022-04-04T21:23:11.149Z"
   },
   {
    "duration": 5,
    "start_time": "2022-04-04T21:23:42.139Z"
   },
   {
    "duration": 11,
    "start_time": "2022-04-04T21:24:05.013Z"
   },
   {
    "duration": 106,
    "start_time": "2022-04-04T21:24:53.852Z"
   },
   {
    "duration": 13,
    "start_time": "2022-04-04T21:25:15.854Z"
   },
   {
    "duration": 79,
    "start_time": "2022-04-05T15:28:18.187Z"
   },
   {
    "duration": 4486,
    "start_time": "2022-04-05T15:28:29.331Z"
   },
   {
    "duration": 2508,
    "start_time": "2022-04-05T15:28:33.820Z"
   },
   {
    "duration": 3,
    "start_time": "2022-04-05T15:28:36.331Z"
   },
   {
    "duration": 6,
    "start_time": "2022-04-05T15:28:36.338Z"
   },
   {
    "duration": 60,
    "start_time": "2022-04-05T15:28:36.346Z"
   },
   {
    "duration": 28,
    "start_time": "2022-04-05T15:28:36.408Z"
   },
   {
    "duration": 31,
    "start_time": "2022-04-05T15:28:36.439Z"
   },
   {
    "duration": 8,
    "start_time": "2022-04-05T15:28:36.473Z"
   },
   {
    "duration": 21,
    "start_time": "2022-04-05T15:28:36.484Z"
   },
   {
    "duration": 7,
    "start_time": "2022-04-05T15:28:36.509Z"
   },
   {
    "duration": 39,
    "start_time": "2022-04-05T15:28:36.518Z"
   },
   {
    "duration": 21,
    "start_time": "2022-04-05T15:28:36.559Z"
   },
   {
    "duration": 10,
    "start_time": "2022-04-05T15:34:25.049Z"
   },
   {
    "duration": 11,
    "start_time": "2022-04-05T15:34:54.320Z"
   },
   {
    "duration": 13,
    "start_time": "2022-04-05T15:35:09.792Z"
   },
   {
    "duration": 8,
    "start_time": "2022-04-05T15:35:21.008Z"
   },
   {
    "duration": 10,
    "start_time": "2022-04-05T15:51:57.835Z"
   },
   {
    "duration": 21,
    "start_time": "2022-04-05T15:52:25.109Z"
   },
   {
    "duration": 175,
    "start_time": "2022-04-05T16:03:27.096Z"
   },
   {
    "duration": 17,
    "start_time": "2022-04-05T16:17:53.198Z"
   },
   {
    "duration": 204,
    "start_time": "2022-04-05T16:18:40.683Z"
   },
   {
    "duration": 163,
    "start_time": "2022-04-05T16:18:55.154Z"
   },
   {
    "duration": 24,
    "start_time": "2022-04-05T16:47:03.001Z"
   },
   {
    "duration": 9,
    "start_time": "2022-04-05T16:50:22.207Z"
   },
   {
    "duration": 6,
    "start_time": "2022-04-05T16:51:19.291Z"
   },
   {
    "duration": 8,
    "start_time": "2022-04-05T16:57:32.919Z"
   },
   {
    "duration": 5,
    "start_time": "2022-04-05T16:57:36.212Z"
   },
   {
    "duration": 4,
    "start_time": "2022-04-05T16:58:13.503Z"
   },
   {
    "duration": 12,
    "start_time": "2022-04-05T16:58:21.296Z"
   },
   {
    "duration": 35,
    "start_time": "2022-04-05T16:59:15.842Z"
   },
   {
    "duration": 48,
    "start_time": "2022-04-05T20:02:13.956Z"
   },
   {
    "duration": 160,
    "start_time": "2022-04-05T20:03:59.217Z"
   },
   {
    "duration": 6,
    "start_time": "2022-04-05T20:38:21.799Z"
   },
   {
    "duration": 16,
    "start_time": "2022-04-05T20:45:58.493Z"
   },
   {
    "duration": 13,
    "start_time": "2022-04-05T20:48:38.049Z"
   },
   {
    "duration": 9,
    "start_time": "2022-04-05T21:00:37.106Z"
   },
   {
    "duration": 16,
    "start_time": "2022-04-05T21:01:03.192Z"
   },
   {
    "duration": 259,
    "start_time": "2022-04-05T21:02:24.005Z"
   },
   {
    "duration": 12,
    "start_time": "2022-04-05T21:03:29.334Z"
   },
   {
    "duration": 10,
    "start_time": "2022-04-05T21:04:20.277Z"
   },
   {
    "duration": 51,
    "start_time": "2022-04-05T21:32:50.004Z"
   },
   {
    "duration": 192,
    "start_time": "2022-04-05T21:34:22.811Z"
   },
   {
    "duration": 47,
    "start_time": "2022-04-05T21:36:06.961Z"
   },
   {
    "duration": 190,
    "start_time": "2022-04-05T21:36:29.679Z"
   },
   {
    "duration": 8,
    "start_time": "2022-04-05T21:39:19.801Z"
   },
   {
    "duration": 22,
    "start_time": "2022-04-05T21:39:39.896Z"
   },
   {
    "duration": 61,
    "start_time": "2022-04-05T21:40:42.238Z"
   },
   {
    "duration": 4,
    "start_time": "2022-04-05T21:44:28.770Z"
   },
   {
    "duration": 4,
    "start_time": "2022-04-05T21:54:05.904Z"
   },
   {
    "duration": 24,
    "start_time": "2022-04-05T21:54:11.517Z"
   },
   {
    "duration": 12,
    "start_time": "2022-04-05T21:54:26.292Z"
   },
   {
    "duration": 334,
    "start_time": "2022-04-05T21:55:18.109Z"
   },
   {
    "duration": 39,
    "start_time": "2022-04-05T21:56:41.582Z"
   },
   {
    "duration": 12,
    "start_time": "2022-04-05T22:09:42.305Z"
   },
   {
    "duration": 273,
    "start_time": "2022-04-05T22:10:00.865Z"
   },
   {
    "duration": 4,
    "start_time": "2022-04-05T22:10:34.640Z"
   },
   {
    "duration": 136,
    "start_time": "2022-04-05T22:10:40.721Z"
   },
   {
    "duration": 18,
    "start_time": "2022-04-05T22:10:48.363Z"
   },
   {
    "duration": 67235,
    "start_time": "2022-04-05T22:12:11.476Z"
   },
   {
    "duration": 4,
    "start_time": "2022-04-05T22:13:18.714Z"
   },
   {
    "duration": 26,
    "start_time": "2022-04-05T22:13:18.721Z"
   },
   {
    "duration": 629,
    "start_time": "2022-04-05T22:15:41.043Z"
   },
   {
    "duration": 34,
    "start_time": "2022-04-05T22:16:05.099Z"
   },
   {
    "duration": 174,
    "start_time": "2022-04-05T22:16:22.538Z"
   },
   {
    "duration": 3,
    "start_time": "2022-04-05T22:16:56.175Z"
   },
   {
    "duration": 34,
    "start_time": "2022-04-05T22:17:01.188Z"
   },
   {
    "duration": 89,
    "start_time": "2022-04-05T22:17:11.866Z"
   },
   {
    "duration": 2177,
    "start_time": "2022-04-05T22:18:16.868Z"
   },
   {
    "duration": 1763,
    "start_time": "2022-04-05T22:18:23.786Z"
   },
   {
    "duration": 201,
    "start_time": "2022-04-05T22:18:56.756Z"
   },
   {
    "duration": 43,
    "start_time": "2022-04-05T22:19:07.602Z"
   },
   {
    "duration": 16,
    "start_time": "2022-04-05T22:19:53.020Z"
   },
   {
    "duration": 175,
    "start_time": "2022-04-05T22:20:17.968Z"
   },
   {
    "duration": 547,
    "start_time": "2022-04-05T22:24:23.340Z"
   },
   {
    "duration": 37,
    "start_time": "2022-04-05T22:24:46.352Z"
   },
   {
    "duration": 5,
    "start_time": "2022-04-05T22:25:51.062Z"
   },
   {
    "duration": 221,
    "start_time": "2022-04-05T22:25:56.940Z"
   },
   {
    "duration": 8,
    "start_time": "2022-04-05T22:26:04.430Z"
   },
   {
    "duration": 185,
    "start_time": "2022-04-05T22:26:16.486Z"
   },
   {
    "duration": 8,
    "start_time": "2022-04-05T22:26:17.084Z"
   },
   {
    "duration": 160,
    "start_time": "2022-04-05T22:26:34.175Z"
   },
   {
    "duration": 213,
    "start_time": "2022-04-05T22:28:55.483Z"
   },
   {
    "duration": 247,
    "start_time": "2022-04-05T22:29:03.119Z"
   },
   {
    "duration": 368,
    "start_time": "2022-04-05T22:29:51.816Z"
   },
   {
    "duration": 82,
    "start_time": "2022-04-11T21:18:49.843Z"
   },
   {
    "duration": 10,
    "start_time": "2022-04-11T21:18:50.359Z"
   },
   {
    "duration": 3500,
    "start_time": "2022-04-11T21:18:54.486Z"
   },
   {
    "duration": 2365,
    "start_time": "2022-04-11T21:18:57.990Z"
   },
   {
    "duration": 4,
    "start_time": "2022-04-11T21:19:00.358Z"
   },
   {
    "duration": 20,
    "start_time": "2022-04-11T21:19:00.364Z"
   },
   {
    "duration": 46,
    "start_time": "2022-04-11T21:19:00.389Z"
   },
   {
    "duration": 26,
    "start_time": "2022-04-11T21:19:00.437Z"
   },
   {
    "duration": 47,
    "start_time": "2022-04-11T21:19:00.465Z"
   },
   {
    "duration": 26,
    "start_time": "2022-04-11T21:19:00.515Z"
   },
   {
    "duration": 67,
    "start_time": "2022-04-11T21:19:00.544Z"
   },
   {
    "duration": 14,
    "start_time": "2022-04-11T21:19:00.613Z"
   },
   {
    "duration": 23,
    "start_time": "2022-04-11T21:19:00.630Z"
   },
   {
    "duration": 46,
    "start_time": "2022-04-11T21:19:00.656Z"
   },
   {
    "duration": 210,
    "start_time": "2022-04-11T21:19:00.705Z"
   },
   {
    "duration": 18,
    "start_time": "2022-04-11T21:19:00.923Z"
   },
   {
    "duration": 208,
    "start_time": "2022-04-11T21:19:00.943Z"
   },
   {
    "duration": 48,
    "start_time": "2022-04-11T21:19:01.153Z"
   },
   {
    "duration": 8,
    "start_time": "2022-04-11T21:19:01.204Z"
   },
   {
    "duration": 18,
    "start_time": "2022-04-11T21:19:01.214Z"
   },
   {
    "duration": 30,
    "start_time": "2022-04-11T21:19:01.234Z"
   },
   {
    "duration": 14,
    "start_time": "2022-04-11T21:19:01.266Z"
   },
   {
    "duration": 44,
    "start_time": "2022-04-11T21:19:01.283Z"
   },
   {
    "duration": 24,
    "start_time": "2022-04-11T21:19:01.330Z"
   },
   {
    "duration": 49,
    "start_time": "2022-04-11T21:19:01.356Z"
   },
   {
    "duration": 48,
    "start_time": "2022-04-11T21:19:01.408Z"
   },
   {
    "duration": 208,
    "start_time": "2022-04-11T21:19:01.458Z"
   },
   {
    "duration": 16,
    "start_time": "2022-04-11T21:19:01.668Z"
   },
   {
    "duration": 310,
    "start_time": "2022-04-11T21:19:01.686Z"
   },
   {
    "duration": 12,
    "start_time": "2022-04-11T21:19:01.999Z"
   },
   {
    "duration": 8,
    "start_time": "2022-04-11T21:19:02.014Z"
   },
   {
    "duration": 95,
    "start_time": "2022-04-11T21:19:02.025Z"
   },
   {
    "duration": 224,
    "start_time": "2022-04-11T21:19:02.122Z"
   },
   {
    "duration": 69,
    "start_time": "2022-04-11T21:19:02.348Z"
   },
   {
    "duration": 213,
    "start_time": "2022-04-11T21:19:02.420Z"
   },
   {
    "duration": 6,
    "start_time": "2022-04-11T21:19:02.636Z"
   },
   {
    "duration": 45,
    "start_time": "2022-04-11T21:19:02.644Z"
   },
   {
    "duration": 65,
    "start_time": "2022-04-11T21:19:02.692Z"
   },
   {
    "duration": 4,
    "start_time": "2022-04-11T21:19:02.759Z"
   },
   {
    "duration": 63,
    "start_time": "2022-04-11T21:19:02.765Z"
   },
   {
    "duration": 67,
    "start_time": "2022-04-11T21:19:02.830Z"
   },
   {
    "duration": 11,
    "start_time": "2022-04-11T21:19:02.900Z"
   },
   {
    "duration": 394,
    "start_time": "2022-04-11T21:19:02.919Z"
   },
   {
    "duration": 38,
    "start_time": "2022-04-11T21:19:03.315Z"
   },
   {
    "duration": 41,
    "start_time": "2022-04-11T21:19:03.356Z"
   },
   {
    "duration": 319,
    "start_time": "2022-04-11T21:19:03.401Z"
   },
   {
    "duration": 4,
    "start_time": "2022-04-11T21:19:03.723Z"
   },
   {
    "duration": 178,
    "start_time": "2022-04-11T21:19:03.730Z"
   },
   {
    "duration": 20,
    "start_time": "2022-04-11T21:19:03.911Z"
   },
   {
    "duration": 75455,
    "start_time": "2022-04-11T21:19:03.934Z"
   },
   {
    "duration": 5,
    "start_time": "2022-04-11T21:20:19.396Z"
   },
   {
    "duration": 12,
    "start_time": "2022-04-11T21:20:19.404Z"
   },
   {
    "duration": 624,
    "start_time": "2022-04-11T21:20:19.418Z"
   },
   {
    "duration": 56,
    "start_time": "2022-04-11T21:20:20.044Z"
   },
   {
    "duration": 215,
    "start_time": "2022-04-11T21:20:20.102Z"
   },
   {
    "duration": 4,
    "start_time": "2022-04-11T21:20:20.319Z"
   },
   {
    "duration": 61,
    "start_time": "2022-04-11T21:20:20.325Z"
   },
   {
    "duration": 97,
    "start_time": "2022-04-11T21:20:20.390Z"
   },
   {
    "duration": 1594,
    "start_time": "2022-04-11T21:20:20.491Z"
   },
   {
    "duration": 1919,
    "start_time": "2022-04-11T21:20:22.088Z"
   },
   {
    "duration": 200,
    "start_time": "2022-04-11T21:20:24.083Z"
   },
   {
    "duration": 116,
    "start_time": "2022-04-11T21:20:24.287Z"
   },
   {
    "duration": 289,
    "start_time": "2022-04-11T21:20:24.486Z"
   },
   {
    "duration": 615,
    "start_time": "2022-04-11T21:20:24.777Z"
   },
   {
    "duration": 37,
    "start_time": "2022-04-11T21:20:25.396Z"
   },
   {
    "duration": 7,
    "start_time": "2022-04-11T21:20:25.435Z"
   },
   {
    "duration": 291,
    "start_time": "2022-04-11T21:20:25.445Z"
   },
   {
    "duration": 8,
    "start_time": "2022-04-11T21:20:25.739Z"
   },
   {
    "duration": 229,
    "start_time": "2022-04-11T21:20:25.749Z"
   },
   {
    "duration": 252,
    "start_time": "2022-04-11T21:20:25.985Z"
   },
   {
    "duration": 289,
    "start_time": "2022-04-11T21:20:26.239Z"
   },
   {
    "duration": 378,
    "start_time": "2022-04-11T21:20:26.530Z"
   },
   {
    "duration": 79,
    "start_time": "2022-04-12T06:59:22.023Z"
   },
   {
    "duration": 3733,
    "start_time": "2022-04-12T06:59:34.337Z"
   },
   {
    "duration": 2447,
    "start_time": "2022-04-12T06:59:38.073Z"
   },
   {
    "duration": 4,
    "start_time": "2022-04-12T06:59:40.522Z"
   },
   {
    "duration": 11,
    "start_time": "2022-04-12T06:59:40.529Z"
   },
   {
    "duration": 46,
    "start_time": "2022-04-12T06:59:40.542Z"
   },
   {
    "duration": 30,
    "start_time": "2022-04-12T06:59:40.592Z"
   },
   {
    "duration": 19,
    "start_time": "2022-04-12T06:59:40.624Z"
   },
   {
    "duration": 60,
    "start_time": "2022-04-12T06:59:40.646Z"
   },
   {
    "duration": 23,
    "start_time": "2022-04-12T06:59:40.708Z"
   },
   {
    "duration": 6,
    "start_time": "2022-04-12T06:59:40.737Z"
   },
   {
    "duration": 52,
    "start_time": "2022-04-12T06:59:40.746Z"
   },
   {
    "duration": 19,
    "start_time": "2022-04-12T06:59:40.802Z"
   },
   {
    "duration": 232,
    "start_time": "2022-04-12T06:59:40.823Z"
   },
   {
    "duration": 43,
    "start_time": "2022-04-12T06:59:41.058Z"
   },
   {
    "duration": 193,
    "start_time": "2022-04-12T06:59:41.103Z"
   },
   {
    "duration": 28,
    "start_time": "2022-04-12T06:59:41.299Z"
   },
   {
    "duration": 8,
    "start_time": "2022-04-12T06:59:41.330Z"
   },
   {
    "duration": 14,
    "start_time": "2022-04-12T06:59:41.340Z"
   },
   {
    "duration": 34,
    "start_time": "2022-04-12T06:59:41.356Z"
   },
   {
    "duration": 11,
    "start_time": "2022-04-12T06:59:41.393Z"
   },
   {
    "duration": 14,
    "start_time": "2022-04-12T06:59:41.407Z"
   },
   {
    "duration": 20,
    "start_time": "2022-04-12T06:59:41.423Z"
   },
   {
    "duration": 65,
    "start_time": "2022-04-12T06:59:41.445Z"
   },
   {
    "duration": 46,
    "start_time": "2022-04-12T06:59:41.512Z"
   },
   {
    "duration": 187,
    "start_time": "2022-04-12T06:59:41.560Z"
   },
   {
    "duration": 10,
    "start_time": "2022-04-12T06:59:41.749Z"
   },
   {
    "duration": 275,
    "start_time": "2022-04-12T06:59:41.762Z"
   },
   {
    "duration": 13,
    "start_time": "2022-04-12T06:59:42.043Z"
   },
   {
    "duration": 28,
    "start_time": "2022-04-12T06:59:42.059Z"
   },
   {
    "duration": 143,
    "start_time": "2022-04-12T06:59:42.096Z"
   },
   {
    "duration": 222,
    "start_time": "2022-04-12T06:59:42.242Z"
   },
   {
    "duration": 64,
    "start_time": "2022-04-12T06:59:42.467Z"
   },
   {
    "duration": 219,
    "start_time": "2022-04-12T06:59:42.533Z"
   },
   {
    "duration": 6,
    "start_time": "2022-04-12T06:59:42.755Z"
   },
   {
    "duration": 33,
    "start_time": "2022-04-12T06:59:42.763Z"
   },
   {
    "duration": 57,
    "start_time": "2022-04-12T06:59:42.800Z"
   },
   {
    "duration": 25,
    "start_time": "2022-04-12T06:59:42.860Z"
   },
   {
    "duration": 11,
    "start_time": "2022-04-12T06:59:42.888Z"
   },
   {
    "duration": 28,
    "start_time": "2022-04-12T06:59:42.902Z"
   },
   {
    "duration": 11,
    "start_time": "2022-04-12T06:59:42.932Z"
   },
   {
    "duration": 422,
    "start_time": "2022-04-12T06:59:42.945Z"
   },
   {
    "duration": 55,
    "start_time": "2022-04-12T06:59:43.369Z"
   },
   {
    "duration": 14,
    "start_time": "2022-04-12T06:59:43.427Z"
   },
   {
    "duration": 233,
    "start_time": "2022-04-12T06:59:43.444Z"
   },
   {
    "duration": 5,
    "start_time": "2022-04-12T06:59:43.685Z"
   },
   {
    "duration": 163,
    "start_time": "2022-04-12T06:59:43.693Z"
   },
   {
    "duration": 28,
    "start_time": "2022-04-12T06:59:43.858Z"
   },
   {
    "duration": 74079,
    "start_time": "2022-04-12T06:59:43.888Z"
   },
   {
    "duration": 5,
    "start_time": "2022-04-12T07:00:57.969Z"
   },
   {
    "duration": 7,
    "start_time": "2022-04-12T07:00:57.986Z"
   },
   {
    "duration": 617,
    "start_time": "2022-04-12T07:00:57.996Z"
   },
   {
    "duration": 35,
    "start_time": "2022-04-12T07:00:58.615Z"
   },
   {
    "duration": 215,
    "start_time": "2022-04-12T07:00:58.652Z"
   },
   {
    "duration": 4,
    "start_time": "2022-04-12T07:00:58.869Z"
   },
   {
    "duration": 48,
    "start_time": "2022-04-12T07:00:58.875Z"
   },
   {
    "duration": 69,
    "start_time": "2022-04-12T07:00:58.925Z"
   },
   {
    "duration": 1901,
    "start_time": "2022-04-12T07:00:58.996Z"
   },
   {
    "duration": 1989,
    "start_time": "2022-04-12T07:01:00.901Z"
   },
   {
    "duration": 202,
    "start_time": "2022-04-12T07:01:02.893Z"
   },
   {
    "duration": 110,
    "start_time": "2022-04-12T07:01:03.098Z"
   },
   {
    "duration": 374,
    "start_time": "2022-04-12T07:01:03.210Z"
   },
   {
    "duration": 617,
    "start_time": "2022-04-12T07:01:03.587Z"
   },
   {
    "duration": 35,
    "start_time": "2022-04-12T07:01:04.206Z"
   },
   {
    "duration": 6,
    "start_time": "2022-04-12T07:01:04.243Z"
   },
   {
    "duration": 279,
    "start_time": "2022-04-12T07:01:04.252Z"
   },
   {
    "duration": 8,
    "start_time": "2022-04-12T07:01:04.533Z"
   },
   {
    "duration": 215,
    "start_time": "2022-04-12T07:01:04.543Z"
   },
   {
    "duration": 254,
    "start_time": "2022-04-12T07:01:04.761Z"
   },
   {
    "duration": 291,
    "start_time": "2022-04-12T07:01:05.017Z"
   },
   {
    "duration": 388,
    "start_time": "2022-04-12T07:01:05.310Z"
   },
   {
    "duration": 23,
    "start_time": "2022-04-12T07:01:05.704Z"
   },
   {
    "duration": 62,
    "start_time": "2022-04-12T22:25:22.899Z"
   },
   {
    "duration": 12746,
    "start_time": "2022-04-12T22:25:32.213Z"
   },
   {
    "duration": 1676,
    "start_time": "2022-04-12T22:25:44.961Z"
   },
   {
    "duration": 3,
    "start_time": "2022-04-12T22:25:46.639Z"
   },
   {
    "duration": 7,
    "start_time": "2022-04-12T22:25:46.644Z"
   },
   {
    "duration": 37,
    "start_time": "2022-04-12T22:25:46.652Z"
   },
   {
    "duration": 17,
    "start_time": "2022-04-12T22:25:46.692Z"
   },
   {
    "duration": 24,
    "start_time": "2022-04-12T22:25:46.711Z"
   },
   {
    "duration": 17,
    "start_time": "2022-04-12T22:25:46.737Z"
   },
   {
    "duration": 16,
    "start_time": "2022-04-12T22:25:46.756Z"
   },
   {
    "duration": 5,
    "start_time": "2022-04-12T22:25:46.775Z"
   },
   {
    "duration": 16,
    "start_time": "2022-04-12T22:25:46.782Z"
   },
   {
    "duration": 42,
    "start_time": "2022-04-12T22:25:46.800Z"
   },
   {
    "duration": 141,
    "start_time": "2022-04-12T22:25:46.844Z"
   },
   {
    "duration": 14,
    "start_time": "2022-04-12T22:25:46.987Z"
   },
   {
    "duration": 140,
    "start_time": "2022-04-12T22:25:47.003Z"
   },
   {
    "duration": 19,
    "start_time": "2022-04-12T22:25:47.144Z"
   },
   {
    "duration": 6,
    "start_time": "2022-04-12T22:25:47.165Z"
   },
   {
    "duration": 8,
    "start_time": "2022-04-12T22:25:47.173Z"
   },
   {
    "duration": 9,
    "start_time": "2022-04-12T22:25:47.183Z"
   },
   {
    "duration": 12,
    "start_time": "2022-04-12T22:25:47.194Z"
   },
   {
    "duration": 24,
    "start_time": "2022-04-12T22:25:47.208Z"
   },
   {
    "duration": 11,
    "start_time": "2022-04-12T22:25:47.235Z"
   },
   {
    "duration": 30,
    "start_time": "2022-04-12T22:25:47.247Z"
   },
   {
    "duration": 56,
    "start_time": "2022-04-12T22:25:47.278Z"
   },
   {
    "duration": 116,
    "start_time": "2022-04-12T22:25:47.336Z"
   },
   {
    "duration": 7,
    "start_time": "2022-04-12T22:25:47.454Z"
   },
   {
    "duration": 190,
    "start_time": "2022-04-12T22:25:47.463Z"
   },
   {
    "duration": 9,
    "start_time": "2022-04-12T22:25:47.659Z"
   },
   {
    "duration": 14,
    "start_time": "2022-04-12T22:25:47.670Z"
   },
   {
    "duration": 102,
    "start_time": "2022-04-12T22:25:47.686Z"
   },
   {
    "duration": 49,
    "start_time": "2022-04-12T22:25:47.790Z"
   },
   {
    "duration": 163,
    "start_time": "2022-04-12T22:25:47.841Z"
   },
   {
    "duration": 46,
    "start_time": "2022-04-12T22:25:48.006Z"
   },
   {
    "duration": 137,
    "start_time": "2022-04-12T22:25:48.054Z"
   },
   {
    "duration": 4,
    "start_time": "2022-04-12T22:25:48.193Z"
   },
   {
    "duration": 18,
    "start_time": "2022-04-12T22:25:48.198Z"
   },
   {
    "duration": 52,
    "start_time": "2022-04-12T22:25:48.217Z"
   },
   {
    "duration": 3,
    "start_time": "2022-04-12T22:25:48.270Z"
   },
   {
    "duration": 16,
    "start_time": "2022-04-12T22:25:48.275Z"
   },
   {
    "duration": 21,
    "start_time": "2022-04-12T22:25:48.294Z"
   },
   {
    "duration": 18,
    "start_time": "2022-04-12T22:25:48.316Z"
   },
   {
    "duration": 250,
    "start_time": "2022-04-12T22:25:48.336Z"
   },
   {
    "duration": 28,
    "start_time": "2022-04-12T22:25:48.587Z"
   },
   {
    "duration": 23,
    "start_time": "2022-04-12T22:25:48.617Z"
   },
   {
    "duration": 137,
    "start_time": "2022-04-12T22:25:48.642Z"
   },
   {
    "duration": 3,
    "start_time": "2022-04-12T22:25:48.780Z"
   },
   {
    "duration": 104,
    "start_time": "2022-04-12T22:25:48.785Z"
   },
   {
    "duration": 15,
    "start_time": "2022-04-12T22:25:48.890Z"
   },
   {
    "duration": 12689,
    "start_time": "2022-04-12T22:26:45.501Z"
   },
   {
    "duration": 5,
    "start_time": "2022-04-12T22:26:58.192Z"
   },
   {
    "duration": 8,
    "start_time": "2022-04-12T22:26:58.199Z"
   },
   {
    "duration": 5,
    "start_time": "2022-04-12T22:26:58.208Z"
   },
   {
    "duration": 35,
    "start_time": "2022-04-12T22:26:58.214Z"
   },
   {
    "duration": 13,
    "start_time": "2022-04-12T22:26:58.251Z"
   },
   {
    "duration": 17,
    "start_time": "2022-04-12T22:26:58.265Z"
   },
   {
    "duration": 14,
    "start_time": "2022-04-12T22:26:58.283Z"
   },
   {
    "duration": 15,
    "start_time": "2022-04-12T22:26:58.299Z"
   },
   {
    "duration": 5,
    "start_time": "2022-04-12T22:26:58.333Z"
   },
   {
    "duration": 12,
    "start_time": "2022-04-12T22:26:58.340Z"
   },
   {
    "duration": 12,
    "start_time": "2022-04-12T22:26:58.354Z"
   },
   {
    "duration": 133,
    "start_time": "2022-04-12T22:26:58.368Z"
   },
   {
    "duration": 13,
    "start_time": "2022-04-12T22:26:58.502Z"
   },
   {
    "duration": 130,
    "start_time": "2022-04-12T22:26:58.517Z"
   },
   {
    "duration": 17,
    "start_time": "2022-04-12T22:26:58.648Z"
   },
   {
    "duration": 5,
    "start_time": "2022-04-12T22:26:58.667Z"
   },
   {
    "duration": 7,
    "start_time": "2022-04-12T22:26:58.674Z"
   },
   {
    "duration": 7,
    "start_time": "2022-04-12T22:26:58.682Z"
   },
   {
    "duration": 3,
    "start_time": "2022-04-12T22:26:58.691Z"
   },
   {
    "duration": 6,
    "start_time": "2022-04-12T22:26:58.696Z"
   },
   {
    "duration": 35,
    "start_time": "2022-04-12T22:26:58.704Z"
   },
   {
    "duration": 25,
    "start_time": "2022-04-12T22:26:58.741Z"
   },
   {
    "duration": 34,
    "start_time": "2022-04-12T22:26:58.767Z"
   },
   {
    "duration": 232,
    "start_time": "2022-04-12T22:26:58.803Z"
   },
   {
    "duration": 8,
    "start_time": "2022-04-12T22:26:59.037Z"
   },
   {
    "duration": 176,
    "start_time": "2022-04-12T22:26:59.047Z"
   },
   {
    "duration": 14,
    "start_time": "2022-04-12T22:26:59.224Z"
   },
   {
    "duration": 9,
    "start_time": "2022-04-12T22:26:59.239Z"
   },
   {
    "duration": 9,
    "start_time": "2022-04-12T22:26:59.250Z"
   },
   {
    "duration": 36,
    "start_time": "2022-04-12T22:26:59.261Z"
   },
   {
    "duration": 168,
    "start_time": "2022-04-12T22:26:59.298Z"
   },
   {
    "duration": 34,
    "start_time": "2022-04-12T22:26:59.468Z"
   },
   {
    "duration": 139,
    "start_time": "2022-04-12T22:26:59.504Z"
   },
   {
    "duration": 5,
    "start_time": "2022-04-12T22:26:59.644Z"
   },
   {
    "duration": 16,
    "start_time": "2022-04-12T22:26:59.650Z"
   },
   {
    "duration": 41,
    "start_time": "2022-04-12T22:26:59.668Z"
   },
   {
    "duration": 22,
    "start_time": "2022-04-12T22:26:59.711Z"
   },
   {
    "duration": 3,
    "start_time": "2022-04-12T22:26:59.735Z"
   },
   {
    "duration": 21,
    "start_time": "2022-04-12T22:26:59.740Z"
   },
   {
    "duration": 8,
    "start_time": "2022-04-12T22:26:59.763Z"
   },
   {
    "duration": 270,
    "start_time": "2022-04-12T22:26:59.773Z"
   },
   {
    "duration": 28,
    "start_time": "2022-04-12T22:27:00.045Z"
   },
   {
    "duration": 9,
    "start_time": "2022-04-12T22:27:00.075Z"
   },
   {
    "duration": 143,
    "start_time": "2022-04-12T22:27:00.085Z"
   },
   {
    "duration": 3,
    "start_time": "2022-04-12T22:27:00.233Z"
   },
   {
    "duration": 105,
    "start_time": "2022-04-12T22:27:00.238Z"
   },
   {
    "duration": 15,
    "start_time": "2022-04-12T22:27:00.345Z"
   },
   {
    "duration": 49399,
    "start_time": "2022-04-12T22:27:00.362Z"
   },
   {
    "duration": 3,
    "start_time": "2022-04-12T22:27:49.763Z"
   },
   {
    "duration": 7,
    "start_time": "2022-04-12T22:27:49.768Z"
   },
   {
    "duration": 528,
    "start_time": "2022-04-12T22:27:49.777Z"
   },
   {
    "duration": 40,
    "start_time": "2022-04-12T22:27:50.307Z"
   },
   {
    "duration": 150,
    "start_time": "2022-04-12T22:27:50.350Z"
   },
   {
    "duration": 3,
    "start_time": "2022-04-12T22:27:50.502Z"
   },
   {
    "duration": 52,
    "start_time": "2022-04-12T22:27:50.508Z"
   },
   {
    "duration": 85,
    "start_time": "2022-04-12T22:27:50.563Z"
   },
   {
    "duration": 1490,
    "start_time": "2022-04-12T22:27:50.652Z"
   },
   {
    "duration": 1701,
    "start_time": "2022-04-12T22:27:52.147Z"
   },
   {
    "duration": 192,
    "start_time": "2022-04-12T22:27:53.850Z"
   },
   {
    "duration": 204,
    "start_time": "2022-04-12T22:27:54.045Z"
   },
   {
    "duration": 309,
    "start_time": "2022-04-12T22:27:54.251Z"
   },
   {
    "duration": 430,
    "start_time": "2022-04-12T22:27:54.562Z"
   },
   {
    "duration": 44,
    "start_time": "2022-04-12T22:27:54.994Z"
   },
   {
    "duration": 5,
    "start_time": "2022-04-12T22:27:55.040Z"
   },
   {
    "duration": 188,
    "start_time": "2022-04-12T22:27:55.047Z"
   },
   {
    "duration": 6,
    "start_time": "2022-04-12T22:27:55.237Z"
   },
   {
    "duration": 142,
    "start_time": "2022-04-12T22:27:55.245Z"
   },
   {
    "duration": 169,
    "start_time": "2022-04-12T22:27:55.388Z"
   },
   {
    "duration": 191,
    "start_time": "2022-04-12T22:27:55.559Z"
   },
   {
    "duration": 315,
    "start_time": "2022-04-12T22:27:55.752Z"
   },
   {
    "duration": 124,
    "start_time": "2022-04-12T22:29:55.065Z"
   },
   {
    "duration": 73,
    "start_time": "2022-04-13T20:52:44.263Z"
   },
   {
    "duration": 3932,
    "start_time": "2022-04-13T20:53:05.204Z"
   },
   {
    "duration": 3310,
    "start_time": "2022-04-13T20:53:09.141Z"
   },
   {
    "duration": 5,
    "start_time": "2022-04-13T20:53:12.455Z"
   },
   {
    "duration": 6,
    "start_time": "2022-04-13T20:53:12.464Z"
   },
   {
    "duration": 70,
    "start_time": "2022-04-13T20:53:12.473Z"
   },
   {
    "duration": 35,
    "start_time": "2022-04-13T20:53:12.546Z"
   },
   {
    "duration": 46,
    "start_time": "2022-04-13T20:53:12.584Z"
   },
   {
    "duration": 34,
    "start_time": "2022-04-13T20:53:12.633Z"
   },
   {
    "duration": 56,
    "start_time": "2022-04-13T20:53:12.670Z"
   },
   {
    "duration": 7,
    "start_time": "2022-04-13T20:53:12.730Z"
   },
   {
    "duration": 17,
    "start_time": "2022-04-13T20:53:12.739Z"
   },
   {
    "duration": 17,
    "start_time": "2022-04-13T20:53:12.758Z"
   },
   {
    "duration": 219,
    "start_time": "2022-04-13T20:53:12.777Z"
   },
   {
    "duration": 29,
    "start_time": "2022-04-13T20:53:12.998Z"
   },
   {
    "duration": 177,
    "start_time": "2022-04-13T20:53:13.029Z"
   },
   {
    "duration": 36,
    "start_time": "2022-04-13T20:53:13.208Z"
   },
   {
    "duration": 10,
    "start_time": "2022-04-13T20:53:13.247Z"
   },
   {
    "duration": 9,
    "start_time": "2022-04-13T20:53:13.259Z"
   },
   {
    "duration": 10,
    "start_time": "2022-04-13T20:53:13.270Z"
   },
   {
    "duration": 5,
    "start_time": "2022-04-13T20:53:13.326Z"
   },
   {
    "duration": 6,
    "start_time": "2022-04-13T20:53:13.334Z"
   },
   {
    "duration": 17,
    "start_time": "2022-04-13T20:53:13.342Z"
   },
   {
    "duration": 32,
    "start_time": "2022-04-13T20:53:13.361Z"
   },
   {
    "duration": 45,
    "start_time": "2022-04-13T20:53:13.425Z"
   },
   {
    "duration": 182,
    "start_time": "2022-04-13T20:53:13.473Z"
   },
   {
    "duration": 10,
    "start_time": "2022-04-13T20:53:13.657Z"
   },
   {
    "duration": 255,
    "start_time": "2022-04-13T20:53:13.669Z"
   },
   {
    "duration": 12,
    "start_time": "2022-04-13T20:53:13.930Z"
   },
   {
    "duration": 13,
    "start_time": "2022-04-13T20:53:13.945Z"
   },
   {
    "duration": 225,
    "start_time": "2022-04-13T20:53:13.960Z"
   },
   {
    "duration": 9,
    "start_time": "2022-04-13T20:53:14.188Z"
   },
   {
    "duration": 63,
    "start_time": "2022-04-13T20:53:14.199Z"
   },
   {
    "duration": 212,
    "start_time": "2022-04-13T20:53:14.264Z"
   },
   {
    "duration": 63,
    "start_time": "2022-04-13T20:53:14.478Z"
   },
   {
    "duration": 284,
    "start_time": "2022-04-13T20:53:14.543Z"
   },
   {
    "duration": 6,
    "start_time": "2022-04-13T20:53:14.829Z"
   },
   {
    "duration": 23,
    "start_time": "2022-04-13T20:53:14.837Z"
   },
   {
    "duration": 80,
    "start_time": "2022-04-13T20:53:14.862Z"
   },
   {
    "duration": 5,
    "start_time": "2022-04-13T20:53:14.945Z"
   },
   {
    "duration": 10,
    "start_time": "2022-04-13T20:53:14.952Z"
   },
   {
    "duration": 29,
    "start_time": "2022-04-13T20:53:14.964Z"
   },
   {
    "duration": 38,
    "start_time": "2022-04-13T20:53:14.996Z"
   },
   {
    "duration": 367,
    "start_time": "2022-04-13T20:53:15.036Z"
   },
   {
    "duration": 50,
    "start_time": "2022-04-13T20:53:15.405Z"
   },
   {
    "duration": 12,
    "start_time": "2022-04-13T20:53:15.457Z"
   },
   {
    "duration": 219,
    "start_time": "2022-04-13T20:53:15.471Z"
   },
   {
    "duration": 4,
    "start_time": "2022-04-13T20:53:15.692Z"
   },
   {
    "duration": 255,
    "start_time": "2022-04-13T20:53:15.698Z"
   },
   {
    "duration": 23,
    "start_time": "2022-04-13T20:53:15.956Z"
   },
   {
    "duration": 77575,
    "start_time": "2022-04-13T20:53:15.982Z"
   },
   {
    "duration": 4,
    "start_time": "2022-04-13T20:54:33.559Z"
   },
   {
    "duration": 42,
    "start_time": "2022-04-13T20:54:33.566Z"
   },
   {
    "duration": 571,
    "start_time": "2022-04-13T20:54:33.610Z"
   },
   {
    "duration": 47,
    "start_time": "2022-04-13T20:54:34.184Z"
   },
   {
    "duration": 195,
    "start_time": "2022-04-13T20:54:34.234Z"
   },
   {
    "duration": 4,
    "start_time": "2022-04-13T20:54:34.432Z"
   },
   {
    "duration": 44,
    "start_time": "2022-04-13T20:54:34.438Z"
   },
   {
    "duration": 146,
    "start_time": "2022-04-13T20:54:34.484Z"
   },
   {
    "duration": 1593,
    "start_time": "2022-04-13T20:54:34.633Z"
   },
   {
    "duration": 1993,
    "start_time": "2022-04-13T20:54:36.232Z"
   },
   {
    "duration": 139,
    "start_time": "2022-04-13T20:54:38.228Z"
   },
   {
    "duration": 110,
    "start_time": "2022-04-13T20:54:38.427Z"
   },
   {
    "duration": 286,
    "start_time": "2022-04-13T20:54:38.627Z"
   },
   {
    "duration": 571,
    "start_time": "2022-04-13T20:54:38.915Z"
   },
   {
    "duration": 52,
    "start_time": "2022-04-13T20:54:39.488Z"
   },
   {
    "duration": 6,
    "start_time": "2022-04-13T20:54:39.542Z"
   },
   {
    "duration": 254,
    "start_time": "2022-04-13T20:54:39.550Z"
   },
   {
    "duration": 18,
    "start_time": "2022-04-13T20:54:39.806Z"
   },
   {
    "duration": 210,
    "start_time": "2022-04-13T20:54:39.828Z"
   },
   {
    "duration": 375,
    "start_time": "2022-04-13T20:54:40.041Z"
   },
   {
    "duration": 266,
    "start_time": "2022-04-13T20:54:40.423Z"
   },
   {
    "duration": 395,
    "start_time": "2022-04-13T20:54:40.692Z"
   },
   {
    "duration": 574,
    "start_time": "2022-04-13T21:22:29.974Z"
   },
   {
    "duration": 1413,
    "start_time": "2022-04-13T21:36:03.386Z"
   },
   {
    "duration": 61,
    "start_time": "2022-04-13T22:03:07.654Z"
   },
   {
    "duration": 18,
    "start_time": "2022-04-13T22:05:00.816Z"
   },
   {
    "duration": 77,
    "start_time": "2022-04-13T22:05:04.788Z"
   },
   {
    "duration": 82,
    "start_time": "2022-04-13T22:18:10.555Z"
   },
   {
    "duration": 18,
    "start_time": "2022-04-13T22:20:53.430Z"
   },
   {
    "duration": 30,
    "start_time": "2022-04-13T22:21:55.411Z"
   },
   {
    "duration": 16,
    "start_time": "2022-04-13T22:22:05.882Z"
   },
   {
    "duration": 20,
    "start_time": "2022-04-13T22:23:08.420Z"
   },
   {
    "duration": 25,
    "start_time": "2022-04-13T22:23:30.945Z"
   }
  ],
  "kernelspec": {
   "display_name": "Python 3 (ipykernel)",
   "language": "python",
   "name": "python3"
  },
  "language_info": {
   "codemirror_mode": {
    "name": "ipython",
    "version": 3
   },
   "file_extension": ".py",
   "mimetype": "text/x-python",
   "name": "python",
   "nbconvert_exporter": "python",
   "pygments_lexer": "ipython3",
   "version": "3.9.5"
  },
  "toc": {
   "base_numbering": 1,
   "nav_menu": {},
   "number_sections": true,
   "sideBar": true,
   "skip_h1_title": true,
   "title_cell": "Table of Contents",
   "title_sidebar": "Contents",
   "toc_cell": false,
   "toc_position": {},
   "toc_section_display": true,
   "toc_window_display": false
  }
 },
 "nbformat": 4,
 "nbformat_minor": 2
}
