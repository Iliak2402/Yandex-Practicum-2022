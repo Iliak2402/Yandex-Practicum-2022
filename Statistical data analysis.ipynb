{
 "cells": [
  {
   "cell_type": "markdown",
   "metadata": {},
   "source": [
    "<div style=\"border:solid green 2px; padding: 20px\"> <h1 style=\"color:green; margin-bottom:20px\">Reviewer's comment v1</h1>\n",
    "\n",
    "Hello Ilia, my name is Dmitrii. Happy to review your project again! 🙌\n",
    "\n",
    "As usual you can find my comments under the heading **«Review»**. I will categorize my comments in green, blue or red boxes like this:\n",
    "\n",
    "<div class=\"alert alert-success\">\n",
    "    <b>Success:</b> if everything is done successfully\n",
    "</div>\n",
    "<div class=\"alert alert-warning\">\n",
    "    <b>Remarks:</b> if I can give some recommendations or ways to improve the project\n",
    "</div>\n",
    "<div class=\"alert alert-danger\">\n",
    "    <b>Needs fixing:</b> if the block requires some corrections. Work can't be accepted with the red comments\n",
    "</div>\n",
    "\n",
    "Please don't remove my comments :) If you have any questions don't hesitate to respond to my comments in a different section. \n",
    "\n"
   ]
  },
  {
   "cell_type": "markdown",
   "metadata": {},
   "source": [
    "<div style=\"border:solid green 2px; padding: 20px\">\n",
    "<b>Reviewer's comment v1</b>\n",
    "    \n",
    "<b>Overall Feedback</b> \n",
    "    \n",
    "Overall you submitted an outstanding project! I can see that a lot of effort has been made! Your project already looks really good and you accomplished impressive results.\n",
    "\n",
    "No critical issues are left, so your project has been accepted. Congratulations! However, I want to send it back to you in case you have any questions along the way or you want to make additional changes to the project.\n",
    "\n",
    "And of course, if you have any questions along the way, remember that you can always reach out to your tutor for any clarification.\n",
    "</div>"
   ]
  },
  {
   "cell_type": "markdown",
   "metadata": {},
   "source": [
    "<div style=\"border:solid green 2px; padding: 20px\">\n",
    "<b>Reviewer's comment v2:</b>\n",
    "    \n",
    "<b>Overall Feedback</b> \n",
    "    \n",
    "Hi Ilia, thank you for going an extra mile and improving your project/leaving comments.   \n",
    "Wish you cool projects in the next sprints! ☘️\n",
    "    \n",
    "PS: As a last thing, I can recommend cool lectures on stat analysis here: https://www.youtube.com/playlist?list=PL2SOU6wwxB0uwwH80KTQ6ht66KWxbzTIo  🙌\n",
    "\n",
    "</div>"
   ]
  },
  {
   "cell_type": "markdown",
   "metadata": {},
   "source": [
    "# Which one is a better plan?\n",
    "\n",
    "You work as an analyst for the telecom operator Megaline. The company offers its clients two prepaid plans, Surf and Ultimate. The commercial department wants to know which of the plans brings in more revenue in order to adjust the advertising budget.\n",
    "\n",
    "You are going to carry out a preliminary analysis of the plans based on a relatively small client selection. You'll have the data on 500 Megaline clients: who the clients are, where they're from, which plan they use, and the number of calls they made and text messages they sent in 2018. Your job is to analyze the clients' behavior and determine which prepaid plan brings in more revenue."
   ]
  },
  {
   "cell_type": "markdown",
   "metadata": {},
   "source": [
    "[We've provided you with some commentary to guide your thinking as you complete this project. However, make sure to remove all the bracketed comments before submitting your project.]\n",
    "\n",
    "[Before you dive into analyzing your data, explain for yourself the purpose of the project and actions you plan to take.]\n",
    "\n",
    "[Please bear in mind that studying, amending, and analyzing data is an iterative process. It is normal to return to previous steps and correct/expand them to allow for further steps.]"
   ]
  },
  {
   "cell_type": "markdown",
   "metadata": {},
   "source": [
    "<div class=\"alert alert-block alert-success\">\n",
    "<b>Reviewer's comment v1</b>\n",
    " \n",
    "Great that you added additional information about the project goal and steps."
   ]
  },
  {
   "cell_type": "markdown",
   "metadata": {},
   "source": [
    "## Initialization"
   ]
  },
  {
   "cell_type": "markdown",
   "metadata": {},
   "source": []
  },
  {
   "cell_type": "code",
   "execution_count": 2,
   "metadata": {},
   "outputs": [],
   "source": [
    "#import pandas and numpy library\n",
    "import numpy as np\n",
    "import pandas as pd\n",
    "import matplotlib.pyplot as plt\n",
    "import seaborn as sns\n",
    "import datetime\n",
    "from scipy import stats as st\n",
    "%matplotlib inline\n",
    "\n",
    "\n",
    "\n"
   ]
  },
  {
   "cell_type": "markdown",
   "metadata": {},
   "source": [
    "## Load data"
   ]
  },
  {
   "cell_type": "markdown",
   "metadata": {},
   "source": []
  },
  {
   "cell_type": "code",
   "execution_count": 3,
   "metadata": {},
   "outputs": [],
   "source": [
    "    df_calls = pd.read_csv(\"/datasets/megaline_calls.csv\", sep=\",\")\n",
    "    df_internet = pd.read_csv(\"/datasets/megaline_internet.csv\", sep=\",\")\n",
    "    df_messages = pd.read_csv(\"/datasets/megaline_messages.csv\", sep=\",\")\n",
    "    df_plans = pd.read_csv(\"/datasets/megaline_plans.csv\", sep=\",\")\n",
    "    df_users = pd.read_csv(\"/datasets/megaline_users.csv\", sep=\",\")\n"
   ]
  },
  {
   "cell_type": "markdown",
   "metadata": {},
   "source": [
    "## Prepare the data"
   ]
  },
  {
   "cell_type": "markdown",
   "metadata": {},
   "source": [
    "[The data for this project is split into several tables. Explore each one to get an initial understanding of the data. Do necessary corrections to each table if necessary.]"
   ]
  },
  {
   "cell_type": "code",
   "execution_count": 4,
   "metadata": {
    "scrolled": true
   },
   "outputs": [
    {
     "name": "stdout",
     "output_type": "stream",
     "text": [
      "For DataFrame df_calls\n",
      "<class 'pandas.core.frame.DataFrame'>\n",
      "RangeIndex: 137735 entries, 0 to 137734\n",
      "Data columns (total 4 columns):\n",
      " #   Column     Non-Null Count   Dtype  \n",
      "---  ------     --------------   -----  \n",
      " 0   id         137735 non-null  object \n",
      " 1   user_id    137735 non-null  int64  \n",
      " 2   call_date  137735 non-null  object \n",
      " 3   duration   137735 non-null  float64\n",
      "dtypes: float64(1), int64(1), object(2)\n",
      "memory usage: 4.2+ MB\n"
     ]
    },
    {
     "data": {
      "text/html": [
       "<div>\n",
       "<style scoped>\n",
       "    .dataframe tbody tr th:only-of-type {\n",
       "        vertical-align: middle;\n",
       "    }\n",
       "\n",
       "    .dataframe tbody tr th {\n",
       "        vertical-align: top;\n",
       "    }\n",
       "\n",
       "    .dataframe thead th {\n",
       "        text-align: right;\n",
       "    }\n",
       "</style>\n",
       "<table border=\"1\" class=\"dataframe\">\n",
       "  <thead>\n",
       "    <tr style=\"text-align: right;\">\n",
       "      <th></th>\n",
       "      <th>id</th>\n",
       "      <th>user_id</th>\n",
       "      <th>call_date</th>\n",
       "      <th>duration</th>\n",
       "    </tr>\n",
       "  </thead>\n",
       "  <tbody>\n",
       "    <tr>\n",
       "      <th>0</th>\n",
       "      <td>1000_93</td>\n",
       "      <td>1000</td>\n",
       "      <td>2018-12-27</td>\n",
       "      <td>8.52</td>\n",
       "    </tr>\n",
       "    <tr>\n",
       "      <th>1</th>\n",
       "      <td>1000_145</td>\n",
       "      <td>1000</td>\n",
       "      <td>2018-12-27</td>\n",
       "      <td>13.66</td>\n",
       "    </tr>\n",
       "    <tr>\n",
       "      <th>2</th>\n",
       "      <td>1000_247</td>\n",
       "      <td>1000</td>\n",
       "      <td>2018-12-27</td>\n",
       "      <td>14.48</td>\n",
       "    </tr>\n",
       "    <tr>\n",
       "      <th>3</th>\n",
       "      <td>1000_309</td>\n",
       "      <td>1000</td>\n",
       "      <td>2018-12-28</td>\n",
       "      <td>5.76</td>\n",
       "    </tr>\n",
       "    <tr>\n",
       "      <th>4</th>\n",
       "      <td>1000_380</td>\n",
       "      <td>1000</td>\n",
       "      <td>2018-12-30</td>\n",
       "      <td>4.22</td>\n",
       "    </tr>\n",
       "  </tbody>\n",
       "</table>\n",
       "</div>"
      ],
      "text/plain": [
       "         id  user_id   call_date  duration\n",
       "0   1000_93     1000  2018-12-27      8.52\n",
       "1  1000_145     1000  2018-12-27     13.66\n",
       "2  1000_247     1000  2018-12-27     14.48\n",
       "3  1000_309     1000  2018-12-28      5.76\n",
       "4  1000_380     1000  2018-12-30      4.22"
      ]
     },
     "metadata": {},
     "output_type": "display_data"
    },
    {
     "name": "stdout",
     "output_type": "stream",
     "text": [
      "The shape of the Dataframe is (137735, 4)\n",
      "\n",
      "\n",
      "For DataFrame df_internet\n",
      "<class 'pandas.core.frame.DataFrame'>\n",
      "RangeIndex: 104825 entries, 0 to 104824\n",
      "Data columns (total 4 columns):\n",
      " #   Column        Non-Null Count   Dtype  \n",
      "---  ------        --------------   -----  \n",
      " 0   id            104825 non-null  object \n",
      " 1   user_id       104825 non-null  int64  \n",
      " 2   session_date  104825 non-null  object \n",
      " 3   mb_used       104825 non-null  float64\n",
      "dtypes: float64(1), int64(1), object(2)\n",
      "memory usage: 3.2+ MB\n"
     ]
    },
    {
     "data": {
      "text/html": [
       "<div>\n",
       "<style scoped>\n",
       "    .dataframe tbody tr th:only-of-type {\n",
       "        vertical-align: middle;\n",
       "    }\n",
       "\n",
       "    .dataframe tbody tr th {\n",
       "        vertical-align: top;\n",
       "    }\n",
       "\n",
       "    .dataframe thead th {\n",
       "        text-align: right;\n",
       "    }\n",
       "</style>\n",
       "<table border=\"1\" class=\"dataframe\">\n",
       "  <thead>\n",
       "    <tr style=\"text-align: right;\">\n",
       "      <th></th>\n",
       "      <th>id</th>\n",
       "      <th>user_id</th>\n",
       "      <th>session_date</th>\n",
       "      <th>mb_used</th>\n",
       "    </tr>\n",
       "  </thead>\n",
       "  <tbody>\n",
       "    <tr>\n",
       "      <th>0</th>\n",
       "      <td>1000_13</td>\n",
       "      <td>1000</td>\n",
       "      <td>2018-12-29</td>\n",
       "      <td>89.86</td>\n",
       "    </tr>\n",
       "    <tr>\n",
       "      <th>1</th>\n",
       "      <td>1000_204</td>\n",
       "      <td>1000</td>\n",
       "      <td>2018-12-31</td>\n",
       "      <td>0.00</td>\n",
       "    </tr>\n",
       "    <tr>\n",
       "      <th>2</th>\n",
       "      <td>1000_379</td>\n",
       "      <td>1000</td>\n",
       "      <td>2018-12-28</td>\n",
       "      <td>660.40</td>\n",
       "    </tr>\n",
       "    <tr>\n",
       "      <th>3</th>\n",
       "      <td>1000_413</td>\n",
       "      <td>1000</td>\n",
       "      <td>2018-12-26</td>\n",
       "      <td>270.99</td>\n",
       "    </tr>\n",
       "    <tr>\n",
       "      <th>4</th>\n",
       "      <td>1000_442</td>\n",
       "      <td>1000</td>\n",
       "      <td>2018-12-27</td>\n",
       "      <td>880.22</td>\n",
       "    </tr>\n",
       "  </tbody>\n",
       "</table>\n",
       "</div>"
      ],
      "text/plain": [
       "         id  user_id session_date  mb_used\n",
       "0   1000_13     1000   2018-12-29    89.86\n",
       "1  1000_204     1000   2018-12-31     0.00\n",
       "2  1000_379     1000   2018-12-28   660.40\n",
       "3  1000_413     1000   2018-12-26   270.99\n",
       "4  1000_442     1000   2018-12-27   880.22"
      ]
     },
     "metadata": {},
     "output_type": "display_data"
    },
    {
     "name": "stdout",
     "output_type": "stream",
     "text": [
      "The shape of the Dataframe is (104825, 4)\n",
      "\n",
      "\n",
      "For DataFrame df_messages\n",
      "<class 'pandas.core.frame.DataFrame'>\n",
      "RangeIndex: 76051 entries, 0 to 76050\n",
      "Data columns (total 3 columns):\n",
      " #   Column        Non-Null Count  Dtype \n",
      "---  ------        --------------  ----- \n",
      " 0   id            76051 non-null  object\n",
      " 1   user_id       76051 non-null  int64 \n",
      " 2   message_date  76051 non-null  object\n",
      "dtypes: int64(1), object(2)\n",
      "memory usage: 1.7+ MB\n"
     ]
    },
    {
     "data": {
      "text/html": [
       "<div>\n",
       "<style scoped>\n",
       "    .dataframe tbody tr th:only-of-type {\n",
       "        vertical-align: middle;\n",
       "    }\n",
       "\n",
       "    .dataframe tbody tr th {\n",
       "        vertical-align: top;\n",
       "    }\n",
       "\n",
       "    .dataframe thead th {\n",
       "        text-align: right;\n",
       "    }\n",
       "</style>\n",
       "<table border=\"1\" class=\"dataframe\">\n",
       "  <thead>\n",
       "    <tr style=\"text-align: right;\">\n",
       "      <th></th>\n",
       "      <th>id</th>\n",
       "      <th>user_id</th>\n",
       "      <th>message_date</th>\n",
       "    </tr>\n",
       "  </thead>\n",
       "  <tbody>\n",
       "    <tr>\n",
       "      <th>0</th>\n",
       "      <td>1000_125</td>\n",
       "      <td>1000</td>\n",
       "      <td>2018-12-27</td>\n",
       "    </tr>\n",
       "    <tr>\n",
       "      <th>1</th>\n",
       "      <td>1000_160</td>\n",
       "      <td>1000</td>\n",
       "      <td>2018-12-31</td>\n",
       "    </tr>\n",
       "    <tr>\n",
       "      <th>2</th>\n",
       "      <td>1000_223</td>\n",
       "      <td>1000</td>\n",
       "      <td>2018-12-31</td>\n",
       "    </tr>\n",
       "    <tr>\n",
       "      <th>3</th>\n",
       "      <td>1000_251</td>\n",
       "      <td>1000</td>\n",
       "      <td>2018-12-27</td>\n",
       "    </tr>\n",
       "    <tr>\n",
       "      <th>4</th>\n",
       "      <td>1000_255</td>\n",
       "      <td>1000</td>\n",
       "      <td>2018-12-26</td>\n",
       "    </tr>\n",
       "  </tbody>\n",
       "</table>\n",
       "</div>"
      ],
      "text/plain": [
       "         id  user_id message_date\n",
       "0  1000_125     1000   2018-12-27\n",
       "1  1000_160     1000   2018-12-31\n",
       "2  1000_223     1000   2018-12-31\n",
       "3  1000_251     1000   2018-12-27\n",
       "4  1000_255     1000   2018-12-26"
      ]
     },
     "metadata": {},
     "output_type": "display_data"
    },
    {
     "name": "stdout",
     "output_type": "stream",
     "text": [
      "The shape of the Dataframe is (76051, 3)\n",
      "\n",
      "\n",
      "For DataFrame df_plans\n",
      "<class 'pandas.core.frame.DataFrame'>\n",
      "RangeIndex: 2 entries, 0 to 1\n",
      "Data columns (total 8 columns):\n",
      " #   Column                 Non-Null Count  Dtype  \n",
      "---  ------                 --------------  -----  \n",
      " 0   messages_included      2 non-null      int64  \n",
      " 1   mb_per_month_included  2 non-null      int64  \n",
      " 2   minutes_included       2 non-null      int64  \n",
      " 3   usd_monthly_pay        2 non-null      int64  \n",
      " 4   usd_per_gb             2 non-null      int64  \n",
      " 5   usd_per_message        2 non-null      float64\n",
      " 6   usd_per_minute         2 non-null      float64\n",
      " 7   plan_name              2 non-null      object \n",
      "dtypes: float64(2), int64(5), object(1)\n",
      "memory usage: 256.0+ bytes\n"
     ]
    },
    {
     "data": {
      "text/html": [
       "<div>\n",
       "<style scoped>\n",
       "    .dataframe tbody tr th:only-of-type {\n",
       "        vertical-align: middle;\n",
       "    }\n",
       "\n",
       "    .dataframe tbody tr th {\n",
       "        vertical-align: top;\n",
       "    }\n",
       "\n",
       "    .dataframe thead th {\n",
       "        text-align: right;\n",
       "    }\n",
       "</style>\n",
       "<table border=\"1\" class=\"dataframe\">\n",
       "  <thead>\n",
       "    <tr style=\"text-align: right;\">\n",
       "      <th></th>\n",
       "      <th>messages_included</th>\n",
       "      <th>mb_per_month_included</th>\n",
       "      <th>minutes_included</th>\n",
       "      <th>usd_monthly_pay</th>\n",
       "      <th>usd_per_gb</th>\n",
       "      <th>usd_per_message</th>\n",
       "      <th>usd_per_minute</th>\n",
       "      <th>plan_name</th>\n",
       "    </tr>\n",
       "  </thead>\n",
       "  <tbody>\n",
       "    <tr>\n",
       "      <th>0</th>\n",
       "      <td>50</td>\n",
       "      <td>15360</td>\n",
       "      <td>500</td>\n",
       "      <td>20</td>\n",
       "      <td>10</td>\n",
       "      <td>0.03</td>\n",
       "      <td>0.03</td>\n",
       "      <td>surf</td>\n",
       "    </tr>\n",
       "    <tr>\n",
       "      <th>1</th>\n",
       "      <td>1000</td>\n",
       "      <td>30720</td>\n",
       "      <td>3000</td>\n",
       "      <td>70</td>\n",
       "      <td>7</td>\n",
       "      <td>0.01</td>\n",
       "      <td>0.01</td>\n",
       "      <td>ultimate</td>\n",
       "    </tr>\n",
       "  </tbody>\n",
       "</table>\n",
       "</div>"
      ],
      "text/plain": [
       "   messages_included  mb_per_month_included  minutes_included  \\\n",
       "0                 50                  15360               500   \n",
       "1               1000                  30720              3000   \n",
       "\n",
       "   usd_monthly_pay  usd_per_gb  usd_per_message  usd_per_minute plan_name  \n",
       "0               20          10             0.03            0.03      surf  \n",
       "1               70           7             0.01            0.01  ultimate  "
      ]
     },
     "metadata": {},
     "output_type": "display_data"
    },
    {
     "name": "stdout",
     "output_type": "stream",
     "text": [
      "The shape of the Dataframe is (2, 8)\n",
      "\n",
      "\n",
      "For DataFrame df_users\n",
      "<class 'pandas.core.frame.DataFrame'>\n",
      "RangeIndex: 500 entries, 0 to 499\n",
      "Data columns (total 8 columns):\n",
      " #   Column      Non-Null Count  Dtype \n",
      "---  ------      --------------  ----- \n",
      " 0   user_id     500 non-null    int64 \n",
      " 1   first_name  500 non-null    object\n",
      " 2   last_name   500 non-null    object\n",
      " 3   age         500 non-null    int64 \n",
      " 4   city        500 non-null    object\n",
      " 5   reg_date    500 non-null    object\n",
      " 6   plan        500 non-null    object\n",
      " 7   churn_date  34 non-null     object\n",
      "dtypes: int64(2), object(6)\n",
      "memory usage: 31.4+ KB\n"
     ]
    },
    {
     "data": {
      "text/html": [
       "<div>\n",
       "<style scoped>\n",
       "    .dataframe tbody tr th:only-of-type {\n",
       "        vertical-align: middle;\n",
       "    }\n",
       "\n",
       "    .dataframe tbody tr th {\n",
       "        vertical-align: top;\n",
       "    }\n",
       "\n",
       "    .dataframe thead th {\n",
       "        text-align: right;\n",
       "    }\n",
       "</style>\n",
       "<table border=\"1\" class=\"dataframe\">\n",
       "  <thead>\n",
       "    <tr style=\"text-align: right;\">\n",
       "      <th></th>\n",
       "      <th>user_id</th>\n",
       "      <th>first_name</th>\n",
       "      <th>last_name</th>\n",
       "      <th>age</th>\n",
       "      <th>city</th>\n",
       "      <th>reg_date</th>\n",
       "      <th>plan</th>\n",
       "      <th>churn_date</th>\n",
       "    </tr>\n",
       "  </thead>\n",
       "  <tbody>\n",
       "    <tr>\n",
       "      <th>0</th>\n",
       "      <td>1000</td>\n",
       "      <td>Anamaria</td>\n",
       "      <td>Bauer</td>\n",
       "      <td>45</td>\n",
       "      <td>Atlanta-Sandy Springs-Roswell, GA MSA</td>\n",
       "      <td>2018-12-24</td>\n",
       "      <td>ultimate</td>\n",
       "      <td>NaN</td>\n",
       "    </tr>\n",
       "    <tr>\n",
       "      <th>1</th>\n",
       "      <td>1001</td>\n",
       "      <td>Mickey</td>\n",
       "      <td>Wilkerson</td>\n",
       "      <td>28</td>\n",
       "      <td>Seattle-Tacoma-Bellevue, WA MSA</td>\n",
       "      <td>2018-08-13</td>\n",
       "      <td>surf</td>\n",
       "      <td>NaN</td>\n",
       "    </tr>\n",
       "    <tr>\n",
       "      <th>2</th>\n",
       "      <td>1002</td>\n",
       "      <td>Carlee</td>\n",
       "      <td>Hoffman</td>\n",
       "      <td>36</td>\n",
       "      <td>Las Vegas-Henderson-Paradise, NV MSA</td>\n",
       "      <td>2018-10-21</td>\n",
       "      <td>surf</td>\n",
       "      <td>NaN</td>\n",
       "    </tr>\n",
       "    <tr>\n",
       "      <th>3</th>\n",
       "      <td>1003</td>\n",
       "      <td>Reynaldo</td>\n",
       "      <td>Jenkins</td>\n",
       "      <td>52</td>\n",
       "      <td>Tulsa, OK MSA</td>\n",
       "      <td>2018-01-28</td>\n",
       "      <td>surf</td>\n",
       "      <td>NaN</td>\n",
       "    </tr>\n",
       "    <tr>\n",
       "      <th>4</th>\n",
       "      <td>1004</td>\n",
       "      <td>Leonila</td>\n",
       "      <td>Thompson</td>\n",
       "      <td>40</td>\n",
       "      <td>Seattle-Tacoma-Bellevue, WA MSA</td>\n",
       "      <td>2018-05-23</td>\n",
       "      <td>surf</td>\n",
       "      <td>NaN</td>\n",
       "    </tr>\n",
       "  </tbody>\n",
       "</table>\n",
       "</div>"
      ],
      "text/plain": [
       "   user_id first_name  last_name  age                                   city  \\\n",
       "0     1000   Anamaria      Bauer   45  Atlanta-Sandy Springs-Roswell, GA MSA   \n",
       "1     1001     Mickey  Wilkerson   28        Seattle-Tacoma-Bellevue, WA MSA   \n",
       "2     1002     Carlee    Hoffman   36   Las Vegas-Henderson-Paradise, NV MSA   \n",
       "3     1003   Reynaldo    Jenkins   52                          Tulsa, OK MSA   \n",
       "4     1004    Leonila   Thompson   40        Seattle-Tacoma-Bellevue, WA MSA   \n",
       "\n",
       "     reg_date      plan churn_date  \n",
       "0  2018-12-24  ultimate        NaN  \n",
       "1  2018-08-13      surf        NaN  \n",
       "2  2018-10-21      surf        NaN  \n",
       "3  2018-01-28      surf        NaN  \n",
       "4  2018-05-23      surf        NaN  "
      ]
     },
     "metadata": {},
     "output_type": "display_data"
    },
    {
     "name": "stdout",
     "output_type": "stream",
     "text": [
      "The shape of the Dataframe is (500, 8)\n",
      "\n",
      "\n"
     ]
    }
   ],
   "source": [
    "# list of datasets\n",
    "df_list = [df_calls, df_internet, df_messages, df_plans, df_users]\n",
    "df_names = [\"df_calls\", \"df_internet\", \"df_messages\", \"df_plans\", \"df_users\"]\n",
    "for i in range(5):\n",
    "    print(\"For DataFrame \"+ df_names[i])\n",
    "    df_list[i].info()\n",
    "    display(df_list[i].head())\n",
    "    print(\"The shape of the Dataframe is \" +str(df_list[i].shape))\n",
    "    print(\"\\n\")\n"
   ]
  },
  {
   "cell_type": "code",
   "execution_count": null,
   "metadata": {},
   "outputs": [],
   "source": []
  },
  {
   "cell_type": "markdown",
   "metadata": {},
   "source": [
    "**Missing values in df_users[\"churn_date\"]**"
   ]
  },
  {
   "cell_type": "code",
   "execution_count": 5,
   "metadata": {},
   "outputs": [
    {
     "data": {
      "text/html": [
       "<div>\n",
       "<style scoped>\n",
       "    .dataframe tbody tr th:only-of-type {\n",
       "        vertical-align: middle;\n",
       "    }\n",
       "\n",
       "    .dataframe tbody tr th {\n",
       "        vertical-align: top;\n",
       "    }\n",
       "\n",
       "    .dataframe thead th {\n",
       "        text-align: right;\n",
       "    }\n",
       "</style>\n",
       "<table border=\"1\" class=\"dataframe\">\n",
       "  <thead>\n",
       "    <tr style=\"text-align: right;\">\n",
       "      <th></th>\n",
       "      <th>user_id</th>\n",
       "      <th>first_name</th>\n",
       "      <th>last_name</th>\n",
       "      <th>age</th>\n",
       "      <th>city</th>\n",
       "      <th>reg_date</th>\n",
       "      <th>plan</th>\n",
       "      <th>churn_date</th>\n",
       "    </tr>\n",
       "  </thead>\n",
       "  <tbody>\n",
       "    <tr>\n",
       "      <th>0</th>\n",
       "      <td>1000</td>\n",
       "      <td>Anamaria</td>\n",
       "      <td>Bauer</td>\n",
       "      <td>45</td>\n",
       "      <td>Atlanta-Sandy Springs-Roswell, GA MSA</td>\n",
       "      <td>2018-12-24</td>\n",
       "      <td>ultimate</td>\n",
       "      <td>0</td>\n",
       "    </tr>\n",
       "    <tr>\n",
       "      <th>1</th>\n",
       "      <td>1001</td>\n",
       "      <td>Mickey</td>\n",
       "      <td>Wilkerson</td>\n",
       "      <td>28</td>\n",
       "      <td>Seattle-Tacoma-Bellevue, WA MSA</td>\n",
       "      <td>2018-08-13</td>\n",
       "      <td>surf</td>\n",
       "      <td>0</td>\n",
       "    </tr>\n",
       "    <tr>\n",
       "      <th>2</th>\n",
       "      <td>1002</td>\n",
       "      <td>Carlee</td>\n",
       "      <td>Hoffman</td>\n",
       "      <td>36</td>\n",
       "      <td>Las Vegas-Henderson-Paradise, NV MSA</td>\n",
       "      <td>2018-10-21</td>\n",
       "      <td>surf</td>\n",
       "      <td>0</td>\n",
       "    </tr>\n",
       "    <tr>\n",
       "      <th>3</th>\n",
       "      <td>1003</td>\n",
       "      <td>Reynaldo</td>\n",
       "      <td>Jenkins</td>\n",
       "      <td>52</td>\n",
       "      <td>Tulsa, OK MSA</td>\n",
       "      <td>2018-01-28</td>\n",
       "      <td>surf</td>\n",
       "      <td>0</td>\n",
       "    </tr>\n",
       "    <tr>\n",
       "      <th>4</th>\n",
       "      <td>1004</td>\n",
       "      <td>Leonila</td>\n",
       "      <td>Thompson</td>\n",
       "      <td>40</td>\n",
       "      <td>Seattle-Tacoma-Bellevue, WA MSA</td>\n",
       "      <td>2018-05-23</td>\n",
       "      <td>surf</td>\n",
       "      <td>0</td>\n",
       "    </tr>\n",
       "  </tbody>\n",
       "</table>\n",
       "</div>"
      ],
      "text/plain": [
       "   user_id first_name  last_name  age                                   city  \\\n",
       "0     1000   Anamaria      Bauer   45  Atlanta-Sandy Springs-Roswell, GA MSA   \n",
       "1     1001     Mickey  Wilkerson   28        Seattle-Tacoma-Bellevue, WA MSA   \n",
       "2     1002     Carlee    Hoffman   36   Las Vegas-Henderson-Paradise, NV MSA   \n",
       "3     1003   Reynaldo    Jenkins   52                          Tulsa, OK MSA   \n",
       "4     1004    Leonila   Thompson   40        Seattle-Tacoma-Bellevue, WA MSA   \n",
       "\n",
       "     reg_date      plan churn_date  \n",
       "0  2018-12-24  ultimate          0  \n",
       "1  2018-08-13      surf          0  \n",
       "2  2018-10-21      surf          0  \n",
       "3  2018-01-28      surf          0  \n",
       "4  2018-05-23      surf          0  "
      ]
     },
     "execution_count": 5,
     "metadata": {},
     "output_type": "execute_result"
    }
   ],
   "source": [
    "#replacing the missing values of df_users[\"churn_date\"] with zero\n",
    "df_users.loc[df_users[\"churn_date\"].isnull(), \"churn_date\"] = 0\n",
    "df_users.head()\n"
   ]
  },
  {
   "cell_type": "markdown",
   "metadata": {},
   "source": [
    "<div class=\"alert alert-block alert-success\">\n",
    "<b>Reviewer's comment v1</b>\n",
    " \n",
    "Great start! Now we got a first look at the data."
   ]
  },
  {
   "cell_type": "markdown",
   "metadata": {},
   "source": [
    " "
   ]
  },
  {
   "cell_type": "markdown",
   "metadata": {},
   "source": [
    "## Fix data"
   ]
  },
  {
   "cell_type": "code",
   "execution_count": 6,
   "metadata": {},
   "outputs": [],
   "source": [
    "# changing call_date to datetime\n",
    "df_calls[\"call_date\"] = pd.to_datetime(\n",
    "    df_calls[\"call_date\"], format=\"%Y-%m-%d\")"
   ]
  },
  {
   "cell_type": "code",
   "execution_count": 7,
   "metadata": {},
   "outputs": [],
   "source": [
    "# changing session_date to datetime\n",
    "df_internet[\"session_date\"] = pd.to_datetime(\n",
    "    df_internet[\"session_date\"], format=\"%Y-%m-%d\")"
   ]
  },
  {
   "cell_type": "code",
   "execution_count": 8,
   "metadata": {},
   "outputs": [],
   "source": [
    "# changing message_date to datetime\n",
    "df_messages[\"message_date\"] = pd.to_datetime(\n",
    "    df_messages[\"message_date\"], format=\"%Y-%m-%d\")\n"
   ]
  },
  {
   "cell_type": "code",
   "execution_count": 9,
   "metadata": {},
   "outputs": [],
   "source": [
    "# changing reg_date and churn_date to datetime\n",
    "df_users[\"reg_date\"] = pd.to_datetime(df_users[\"reg_date\"], format=\"%Y-%m-%d\")\n",
    "df_users[\"churn_date\"] = pd.to_datetime(df_users[\"churn_date\"], format=\"%Y-%m-%d\")"
   ]
  },
  {
   "cell_type": "code",
   "execution_count": 10,
   "metadata": {},
   "outputs": [
    {
     "name": "stdout",
     "output_type": "stream",
     "text": [
      "The number of zero time calls is:  \t26834\n",
      "The total number of calls is:     \t137735\n"
     ]
    }
   ],
   "source": [
    "# number of zero time calls\n",
    "print(\n",
    "    f'The number of zero time calls is:  \\t{df_calls.query(\"duration == 0.0\")[\"duration\"].count()}')\n",
    "print(f'The total number of calls is:     \\t{df_calls.shape[0]}')"
   ]
  },
  {
   "cell_type": "markdown",
   "metadata": {},
   "source": [
    "**Zero time calls are not real calls. It doesnt add up to the time the users are charge and it doesnt affect the user calculation. I will delete them**"
   ]
  },
  {
   "cell_type": "code",
   "execution_count": 11,
   "metadata": {},
   "outputs": [],
   "source": [
    "df_calls = df_calls.query(\"duration != 0.0\")\n"
   ]
  },
  {
   "cell_type": "markdown",
   "metadata": {},
   "source": [
    "<div class=\"alert alert-block alert-success\">\n",
    "<b>Reviewer's comment v1</b>\n",
    " \n",
    "Good that you've added a solution for zero-based  sessions.\n",
    "\n",
    "On a real project, of course, you can always find out the reason for such zeros. But in this case, it is enough to consider the alternatives and the impact of each decision."
   ]
  },
  {
   "cell_type": "code",
   "execution_count": 12,
   "metadata": {},
   "outputs": [
    {
     "name": "stdout",
     "output_type": "stream",
     "text": [
      "the data of calls start at 2018-01-15 00:00:00 and finished at 2018-12-31 00:00:00\n"
     ]
    }
   ],
   "source": [
    "# checking the span of the dates\n",
    "print(\n",
    "    f\"the data of calls start at {df_calls['call_date'].min()} and finished at {df_calls['call_date'].max()}\")"
   ]
  },
  {
   "cell_type": "code",
   "execution_count": 13,
   "metadata": {
    "scrolled": true
   },
   "outputs": [
    {
     "name": "stdout",
     "output_type": "stream",
     "text": [
      "the data of sessions start at 2018-01-15 00:00:00 and finished at 2018-12-31 00:00:00\n"
     ]
    }
   ],
   "source": [
    "print(\n",
    "    f\"the data of sessions start at {df_internet['session_date'].min()} and finished at {df_internet['session_date'].max()}\")"
   ]
  },
  {
   "cell_type": "code",
   "execution_count": 14,
   "metadata": {
    "scrolled": true
   },
   "outputs": [
    {
     "name": "stdout",
     "output_type": "stream",
     "text": [
      "the data of messages start at 2018-01-15 00:00:00 and finished at 2018-12-31 00:00:00\n"
     ]
    }
   ],
   "source": [
    "# checking the span of the dates\n",
    "print(\n",
    "    f\"the data of messages start at {df_messages['message_date'].min()} and finished at {df_messages['message_date'].max()}\")"
   ]
  },
  {
   "cell_type": "markdown",
   "metadata": {},
   "source": [
    "**Calculating the users usage for every month.\n",
    "fixing the data as follow:**\n",
    "- every call will be rounded to the higher minute\n",
    "- every month total of Internet usage will be rounded to the higher Giga bytes**\n"
   ]
  },
  {
   "cell_type": "markdown",
   "metadata": {},
   "source": [
    "## Enrich data"
   ]
  },
  {
   "cell_type": "code",
   "execution_count": 15,
   "metadata": {},
   "outputs": [
    {
     "data": {
      "text/plain": [
       "0          8.52\n",
       "1         13.66\n",
       "2         14.48\n",
       "3          5.76\n",
       "4          4.22\n",
       "          ...  \n",
       "137730     8.72\n",
       "137731    10.89\n",
       "137732     8.12\n",
       "137733     0.37\n",
       "137734    13.86\n",
       "Name: duration, Length: 110901, dtype: float64"
      ]
     },
     "execution_count": 15,
     "metadata": {},
     "output_type": "execute_result"
    }
   ],
   "source": [
    "# every call will be rounded to the higher minute\n",
    "df_calls.head()\n",
    "df_calls[\"duration\"]"
   ]
  },
  {
   "cell_type": "code",
   "execution_count": 16,
   "metadata": {
    "scrolled": true
   },
   "outputs": [
    {
     "name": "stderr",
     "output_type": "stream",
     "text": [
      "/tmp/ipykernel_53/1086293628.py:2: SettingWithCopyWarning: \n",
      "A value is trying to be set on a copy of a slice from a DataFrame.\n",
      "Try using .loc[row_indexer,col_indexer] = value instead\n",
      "\n",
      "See the caveats in the documentation: https://pandas.pydata.org/pandas-docs/stable/user_guide/indexing.html#returning-a-view-versus-a-copy\n",
      "  df_calls[\"duration\"] = np.ceil(df_calls[\"duration\"])\n"
     ]
    }
   ],
   "source": [
    "# every call will be rounded to the higher minute\n",
    "df_calls[\"duration\"] = np.ceil(df_calls[\"duration\"])"
   ]
  },
  {
   "cell_type": "markdown",
   "metadata": {},
   "source": [
    "<div class=\"alert alert-block alert-success\">\n",
    "<b>Reviewer's comment v1:</b>\n",
    "    \n",
    "Ok, great job! Good that you did not forget about data rounding. Also, great choice of np.ceil () method :)\n"
   ]
  },
  {
   "cell_type": "code",
   "execution_count": 17,
   "metadata": {},
   "outputs": [
    {
     "name": "stderr",
     "output_type": "stream",
     "text": [
      "/tmp/ipykernel_53/126487653.py:2: SettingWithCopyWarning: \n",
      "A value is trying to be set on a copy of a slice from a DataFrame.\n",
      "Try using .loc[row_indexer,col_indexer] = value instead\n",
      "\n",
      "See the caveats in the documentation: https://pandas.pydata.org/pandas-docs/stable/user_guide/indexing.html#returning-a-view-versus-a-copy\n",
      "  df_calls[\"month\"] = df_calls[\"call_date\"].dt.month\n"
     ]
    }
   ],
   "source": [
    "# adding month to the data frame\n",
    "df_calls[\"month\"] = df_calls[\"call_date\"].dt.month\n",
    "df_messages[\"month\"] = df_messages[\"message_date\"].dt.month\n",
    "df_internet[\"month\"] = df_internet[\"session_date\"].dt.month"
   ]
  },
  {
   "cell_type": "markdown",
   "metadata": {},
   "source": [
    "<div class=\"alert alert-block alert-warning\">\n",
    "<b>Reviewer's comment v1:</b>\n",
    "    \n",
    "Everything is correct here but usually, it is always helpful to double-check whether we indeed have data within one year/time period. If not then selecting and aggregating data by the month number will cause an issue. So here it is safer to use datetime64[M] which provides a complete date. "
   ]
  },
  {
   "cell_type": "markdown",
   "metadata": {},
   "source": [
    "## Study plan conditions"
   ]
  },
  {
   "cell_type": "markdown",
   "metadata": {},
   "source": [
    "[It is critical to understand how the plans work, how users are charged based on their plan subscription. So, we suggest printing out the plan information to view their conditions once again.]"
   ]
  },
  {
   "cell_type": "code",
   "execution_count": 18,
   "metadata": {},
   "outputs": [
    {
     "data": {
      "text/html": [
       "<div>\n",
       "<style scoped>\n",
       "    .dataframe tbody tr th:only-of-type {\n",
       "        vertical-align: middle;\n",
       "    }\n",
       "\n",
       "    .dataframe tbody tr th {\n",
       "        vertical-align: top;\n",
       "    }\n",
       "\n",
       "    .dataframe thead th {\n",
       "        text-align: right;\n",
       "    }\n",
       "</style>\n",
       "<table border=\"1\" class=\"dataframe\">\n",
       "  <thead>\n",
       "    <tr style=\"text-align: right;\">\n",
       "      <th></th>\n",
       "      <th>messages_included</th>\n",
       "      <th>mb_per_month_included</th>\n",
       "      <th>minutes_included</th>\n",
       "      <th>usd_monthly_pay</th>\n",
       "      <th>usd_per_gb</th>\n",
       "      <th>usd_per_message</th>\n",
       "      <th>usd_per_minute</th>\n",
       "      <th>plan_name</th>\n",
       "    </tr>\n",
       "  </thead>\n",
       "  <tbody>\n",
       "    <tr>\n",
       "      <th>0</th>\n",
       "      <td>50</td>\n",
       "      <td>15360</td>\n",
       "      <td>500</td>\n",
       "      <td>20</td>\n",
       "      <td>10</td>\n",
       "      <td>0.03</td>\n",
       "      <td>0.03</td>\n",
       "      <td>surf</td>\n",
       "    </tr>\n",
       "    <tr>\n",
       "      <th>1</th>\n",
       "      <td>1000</td>\n",
       "      <td>30720</td>\n",
       "      <td>3000</td>\n",
       "      <td>70</td>\n",
       "      <td>7</td>\n",
       "      <td>0.01</td>\n",
       "      <td>0.01</td>\n",
       "      <td>ultimate</td>\n",
       "    </tr>\n",
       "  </tbody>\n",
       "</table>\n",
       "</div>"
      ],
      "text/plain": [
       "   messages_included  mb_per_month_included  minutes_included  \\\n",
       "0                 50                  15360               500   \n",
       "1               1000                  30720              3000   \n",
       "\n",
       "   usd_monthly_pay  usd_per_gb  usd_per_message  usd_per_minute plan_name  \n",
       "0               20          10             0.03            0.03      surf  \n",
       "1               70           7             0.01            0.01  ultimate  "
      ]
     },
     "execution_count": 18,
     "metadata": {},
     "output_type": "execute_result"
    }
   ],
   "source": [
    "df_plans.head()\n",
    "\n"
   ]
  },
  {
   "cell_type": "markdown",
   "metadata": {},
   "source": [
    "## Aggregate data per user\n",
    "\n",
    "[Now, as the data is clean, aggregate data per user per period in order to have just one record per user per period. It should ease the further analysis a lot.]"
   ]
  },
  {
   "cell_type": "code",
   "execution_count": 19,
   "metadata": {},
   "outputs": [
    {
     "data": {
      "text/html": [
       "<div>\n",
       "<style scoped>\n",
       "    .dataframe tbody tr th:only-of-type {\n",
       "        vertical-align: middle;\n",
       "    }\n",
       "\n",
       "    .dataframe tbody tr th {\n",
       "        vertical-align: top;\n",
       "    }\n",
       "\n",
       "    .dataframe thead th {\n",
       "        text-align: right;\n",
       "    }\n",
       "</style>\n",
       "<table border=\"1\" class=\"dataframe\">\n",
       "  <thead>\n",
       "    <tr style=\"text-align: right;\">\n",
       "      <th></th>\n",
       "      <th>id</th>\n",
       "      <th>user_id</th>\n",
       "      <th>call_date</th>\n",
       "      <th>duration</th>\n",
       "      <th>month</th>\n",
       "    </tr>\n",
       "  </thead>\n",
       "  <tbody>\n",
       "    <tr>\n",
       "      <th>0</th>\n",
       "      <td>1000_93</td>\n",
       "      <td>1000</td>\n",
       "      <td>2018-12-27</td>\n",
       "      <td>9.0</td>\n",
       "      <td>12</td>\n",
       "    </tr>\n",
       "    <tr>\n",
       "      <th>1</th>\n",
       "      <td>1000_145</td>\n",
       "      <td>1000</td>\n",
       "      <td>2018-12-27</td>\n",
       "      <td>14.0</td>\n",
       "      <td>12</td>\n",
       "    </tr>\n",
       "    <tr>\n",
       "      <th>2</th>\n",
       "      <td>1000_247</td>\n",
       "      <td>1000</td>\n",
       "      <td>2018-12-27</td>\n",
       "      <td>15.0</td>\n",
       "      <td>12</td>\n",
       "    </tr>\n",
       "    <tr>\n",
       "      <th>3</th>\n",
       "      <td>1000_309</td>\n",
       "      <td>1000</td>\n",
       "      <td>2018-12-28</td>\n",
       "      <td>6.0</td>\n",
       "      <td>12</td>\n",
       "    </tr>\n",
       "    <tr>\n",
       "      <th>4</th>\n",
       "      <td>1000_380</td>\n",
       "      <td>1000</td>\n",
       "      <td>2018-12-30</td>\n",
       "      <td>5.0</td>\n",
       "      <td>12</td>\n",
       "    </tr>\n",
       "  </tbody>\n",
       "</table>\n",
       "</div>"
      ],
      "text/plain": [
       "         id  user_id  call_date  duration  month\n",
       "0   1000_93     1000 2018-12-27       9.0     12\n",
       "1  1000_145     1000 2018-12-27      14.0     12\n",
       "2  1000_247     1000 2018-12-27      15.0     12\n",
       "3  1000_309     1000 2018-12-28       6.0     12\n",
       "4  1000_380     1000 2018-12-30       5.0     12"
      ]
     },
     "execution_count": 19,
     "metadata": {},
     "output_type": "execute_result"
    }
   ],
   "source": [
    "df_calls.head()"
   ]
  },
  {
   "cell_type": "code",
   "execution_count": 20,
   "metadata": {
    "scrolled": true
   },
   "outputs": [
    {
     "data": {
      "text/html": [
       "<div>\n",
       "<style scoped>\n",
       "    .dataframe tbody tr th:only-of-type {\n",
       "        vertical-align: middle;\n",
       "    }\n",
       "\n",
       "    .dataframe tbody tr th {\n",
       "        vertical-align: top;\n",
       "    }\n",
       "\n",
       "    .dataframe thead th {\n",
       "        text-align: right;\n",
       "    }\n",
       "</style>\n",
       "<table border=\"1\" class=\"dataframe\">\n",
       "  <thead>\n",
       "    <tr style=\"text-align: right;\">\n",
       "      <th></th>\n",
       "      <th>id</th>\n",
       "      <th>user_id</th>\n",
       "      <th>session_date</th>\n",
       "      <th>mb_used</th>\n",
       "      <th>month</th>\n",
       "    </tr>\n",
       "  </thead>\n",
       "  <tbody>\n",
       "    <tr>\n",
       "      <th>0</th>\n",
       "      <td>1000_13</td>\n",
       "      <td>1000</td>\n",
       "      <td>2018-12-29</td>\n",
       "      <td>89.86</td>\n",
       "      <td>12</td>\n",
       "    </tr>\n",
       "    <tr>\n",
       "      <th>1</th>\n",
       "      <td>1000_204</td>\n",
       "      <td>1000</td>\n",
       "      <td>2018-12-31</td>\n",
       "      <td>0.00</td>\n",
       "      <td>12</td>\n",
       "    </tr>\n",
       "    <tr>\n",
       "      <th>2</th>\n",
       "      <td>1000_379</td>\n",
       "      <td>1000</td>\n",
       "      <td>2018-12-28</td>\n",
       "      <td>660.40</td>\n",
       "      <td>12</td>\n",
       "    </tr>\n",
       "    <tr>\n",
       "      <th>3</th>\n",
       "      <td>1000_413</td>\n",
       "      <td>1000</td>\n",
       "      <td>2018-12-26</td>\n",
       "      <td>270.99</td>\n",
       "      <td>12</td>\n",
       "    </tr>\n",
       "    <tr>\n",
       "      <th>4</th>\n",
       "      <td>1000_442</td>\n",
       "      <td>1000</td>\n",
       "      <td>2018-12-27</td>\n",
       "      <td>880.22</td>\n",
       "      <td>12</td>\n",
       "    </tr>\n",
       "  </tbody>\n",
       "</table>\n",
       "</div>"
      ],
      "text/plain": [
       "         id  user_id session_date  mb_used  month\n",
       "0   1000_13     1000   2018-12-29    89.86     12\n",
       "1  1000_204     1000   2018-12-31     0.00     12\n",
       "2  1000_379     1000   2018-12-28   660.40     12\n",
       "3  1000_413     1000   2018-12-26   270.99     12\n",
       "4  1000_442     1000   2018-12-27   880.22     12"
      ]
     },
     "execution_count": 20,
     "metadata": {},
     "output_type": "execute_result"
    }
   ],
   "source": [
    "df_internet.head()"
   ]
  },
  {
   "cell_type": "code",
   "execution_count": 21,
   "metadata": {},
   "outputs": [
    {
     "data": {
      "text/html": [
       "<div>\n",
       "<style scoped>\n",
       "    .dataframe tbody tr th:only-of-type {\n",
       "        vertical-align: middle;\n",
       "    }\n",
       "\n",
       "    .dataframe tbody tr th {\n",
       "        vertical-align: top;\n",
       "    }\n",
       "\n",
       "    .dataframe thead th {\n",
       "        text-align: right;\n",
       "    }\n",
       "</style>\n",
       "<table border=\"1\" class=\"dataframe\">\n",
       "  <thead>\n",
       "    <tr style=\"text-align: right;\">\n",
       "      <th></th>\n",
       "      <th>id</th>\n",
       "      <th>user_id</th>\n",
       "      <th>message_date</th>\n",
       "      <th>month</th>\n",
       "    </tr>\n",
       "  </thead>\n",
       "  <tbody>\n",
       "    <tr>\n",
       "      <th>0</th>\n",
       "      <td>1000_125</td>\n",
       "      <td>1000</td>\n",
       "      <td>2018-12-27</td>\n",
       "      <td>12</td>\n",
       "    </tr>\n",
       "    <tr>\n",
       "      <th>1</th>\n",
       "      <td>1000_160</td>\n",
       "      <td>1000</td>\n",
       "      <td>2018-12-31</td>\n",
       "      <td>12</td>\n",
       "    </tr>\n",
       "    <tr>\n",
       "      <th>2</th>\n",
       "      <td>1000_223</td>\n",
       "      <td>1000</td>\n",
       "      <td>2018-12-31</td>\n",
       "      <td>12</td>\n",
       "    </tr>\n",
       "    <tr>\n",
       "      <th>3</th>\n",
       "      <td>1000_251</td>\n",
       "      <td>1000</td>\n",
       "      <td>2018-12-27</td>\n",
       "      <td>12</td>\n",
       "    </tr>\n",
       "    <tr>\n",
       "      <th>4</th>\n",
       "      <td>1000_255</td>\n",
       "      <td>1000</td>\n",
       "      <td>2018-12-26</td>\n",
       "      <td>12</td>\n",
       "    </tr>\n",
       "  </tbody>\n",
       "</table>\n",
       "</div>"
      ],
      "text/plain": [
       "         id  user_id message_date  month\n",
       "0  1000_125     1000   2018-12-27     12\n",
       "1  1000_160     1000   2018-12-31     12\n",
       "2  1000_223     1000   2018-12-31     12\n",
       "3  1000_251     1000   2018-12-27     12\n",
       "4  1000_255     1000   2018-12-26     12"
      ]
     },
     "execution_count": 21,
     "metadata": {},
     "output_type": "execute_result"
    }
   ],
   "source": [
    "df_messages.head()"
   ]
  },
  {
   "cell_type": "code",
   "execution_count": 22,
   "metadata": {},
   "outputs": [
    {
     "data": {
      "text/html": [
       "<div>\n",
       "<style scoped>\n",
       "    .dataframe tbody tr th:only-of-type {\n",
       "        vertical-align: middle;\n",
       "    }\n",
       "\n",
       "    .dataframe tbody tr th {\n",
       "        vertical-align: top;\n",
       "    }\n",
       "\n",
       "    .dataframe thead th {\n",
       "        text-align: right;\n",
       "    }\n",
       "</style>\n",
       "<table border=\"1\" class=\"dataframe\">\n",
       "  <thead>\n",
       "    <tr style=\"text-align: right;\">\n",
       "      <th></th>\n",
       "      <th></th>\n",
       "      <th>duration</th>\n",
       "    </tr>\n",
       "    <tr>\n",
       "      <th>month</th>\n",
       "      <th>user_id</th>\n",
       "      <th></th>\n",
       "    </tr>\n",
       "  </thead>\n",
       "  <tbody>\n",
       "    <tr>\n",
       "      <th rowspan=\"5\" valign=\"top\">1</th>\n",
       "      <th>1042</th>\n",
       "      <td>114.0</td>\n",
       "    </tr>\n",
       "    <tr>\n",
       "      <th>1077</th>\n",
       "      <td>290.0</td>\n",
       "    </tr>\n",
       "    <tr>\n",
       "      <th>1185</th>\n",
       "      <td>181.0</td>\n",
       "    </tr>\n",
       "    <tr>\n",
       "      <th>1196</th>\n",
       "      <td>287.0</td>\n",
       "    </tr>\n",
       "    <tr>\n",
       "      <th>1214</th>\n",
       "      <td>16.0</td>\n",
       "    </tr>\n",
       "  </tbody>\n",
       "</table>\n",
       "</div>"
      ],
      "text/plain": [
       "               duration\n",
       "month user_id          \n",
       "1     1042        114.0\n",
       "      1077        290.0\n",
       "      1185        181.0\n",
       "      1196        287.0\n",
       "      1214         16.0"
      ]
     },
     "execution_count": 22,
     "metadata": {},
     "output_type": "execute_result"
    }
   ],
   "source": [
    "# making dataframe for groupby - month and user id\n",
    "df_c = df_calls.groupby([\"month\", \"user_id\"], as_index=True).sum()\n",
    "df_c.head() "
   ]
  },
  {
   "cell_type": "code",
   "execution_count": 23,
   "metadata": {},
   "outputs": [],
   "source": [
    "# making dataframe for groupby - month and user id\n",
    "\n",
    "#df_c=df_calls.pivot_table(index=[\"month\",\"user_id\"],values='duration', aggfunc=['sum', 'count'])\n",
    "#df_c.columns = [\"minutes used\", \"call made\"]\n",
    "\n"
   ]
  },
  {
   "cell_type": "markdown",
   "metadata": {},
   "source": [
    "<div class=\"alert alert-block alert-warning\">\n",
    "<b>Reviewer's comment v1:</b>\n",
    "    \n",
    "Indeed in pivot_table or groupby it is possible to pass multiple arguments, so here, you can create an aggregated table in one go like this:\n",
    "\n",
    "```\n",
    "data_calls.groupby(['user_id','month']).agg({'duration' : ('count','sum')}).reset_index()\n",
    "```\n",
    "\n",
    "or\n",
    "\n",
    "```\n",
    "data_calls.pivot_table(index = ('user_id','month'), values = 'duration', aggfunc = ('count','sum')).reset_index()\n",
    "```"
   ]
  },
  {
   "cell_type": "code",
   "execution_count": 24,
   "metadata": {
    "scrolled": true
   },
   "outputs": [
    {
     "data": {
      "text/html": [
       "<div>\n",
       "<style scoped>\n",
       "    .dataframe tbody tr th:only-of-type {\n",
       "        vertical-align: middle;\n",
       "    }\n",
       "\n",
       "    .dataframe tbody tr th {\n",
       "        vertical-align: top;\n",
       "    }\n",
       "\n",
       "    .dataframe thead th {\n",
       "        text-align: right;\n",
       "    }\n",
       "</style>\n",
       "<table border=\"1\" class=\"dataframe\">\n",
       "  <thead>\n",
       "    <tr style=\"text-align: right;\">\n",
       "      <th></th>\n",
       "      <th></th>\n",
       "      <th>mb_used</th>\n",
       "      <th>gb_used</th>\n",
       "    </tr>\n",
       "    <tr>\n",
       "      <th>month</th>\n",
       "      <th>user_id</th>\n",
       "      <th></th>\n",
       "      <th></th>\n",
       "    </tr>\n",
       "  </thead>\n",
       "  <tbody>\n",
       "    <tr>\n",
       "      <th rowspan=\"5\" valign=\"top\">1</th>\n",
       "      <th>1042</th>\n",
       "      <td>1854.93</td>\n",
       "      <td>2.0</td>\n",
       "    </tr>\n",
       "    <tr>\n",
       "      <th>1077</th>\n",
       "      <td>10635.64</td>\n",
       "      <td>11.0</td>\n",
       "    </tr>\n",
       "    <tr>\n",
       "      <th>1185</th>\n",
       "      <td>6812.77</td>\n",
       "      <td>7.0</td>\n",
       "    </tr>\n",
       "    <tr>\n",
       "      <th>1196</th>\n",
       "      <td>8908.61</td>\n",
       "      <td>9.0</td>\n",
       "    </tr>\n",
       "    <tr>\n",
       "      <th>1214</th>\n",
       "      <td>1315.35</td>\n",
       "      <td>2.0</td>\n",
       "    </tr>\n",
       "  </tbody>\n",
       "</table>\n",
       "</div>"
      ],
      "text/plain": [
       "                mb_used  gb_used\n",
       "month user_id                   \n",
       "1     1042      1854.93      2.0\n",
       "      1077     10635.64     11.0\n",
       "      1185      6812.77      7.0\n",
       "      1196      8908.61      9.0\n",
       "      1214      1315.35      2.0"
      ]
     },
     "execution_count": 24,
     "metadata": {},
     "output_type": "execute_result"
    }
   ],
   "source": [
    "# every user in every month will be rounded to the higher GB\n",
    "df_gb = df_internet.groupby([\"month\", \"user_id\"], as_index=True).sum()\n",
    "df_gb.loc[:, \"gb_used\"] =np.ceil((df_gb[\"mb_used\"] / 1024))\n",
    "df_gb.head()"
   ]
  },
  {
   "cell_type": "markdown",
   "metadata": {},
   "source": [
    "<div class=\"alert alert-block alert-success\">\n",
    "<b>Reviewer's comment v1</b>\n",
    " \n",
    "Here, also everything is correct."
   ]
  },
  {
   "cell_type": "code",
   "execution_count": 25,
   "metadata": {},
   "outputs": [],
   "source": [
    "# making dataframe for groupby - month and user id\n",
    "df_m = df_messages.groupby([\"month\", \"user_id\"], as_index=True).count()\n"
   ]
  },
  {
   "cell_type": "code",
   "execution_count": 26,
   "metadata": {
    "scrolled": true
   },
   "outputs": [
    {
     "data": {
      "text/html": [
       "<div>\n",
       "<style scoped>\n",
       "    .dataframe tbody tr th:only-of-type {\n",
       "        vertical-align: middle;\n",
       "    }\n",
       "\n",
       "    .dataframe tbody tr th {\n",
       "        vertical-align: top;\n",
       "    }\n",
       "\n",
       "    .dataframe thead th {\n",
       "        text-align: right;\n",
       "    }\n",
       "</style>\n",
       "<table border=\"1\" class=\"dataframe\">\n",
       "  <thead>\n",
       "    <tr style=\"text-align: right;\">\n",
       "      <th></th>\n",
       "      <th></th>\n",
       "      <th>id</th>\n",
       "      <th>message_date</th>\n",
       "    </tr>\n",
       "    <tr>\n",
       "      <th>month</th>\n",
       "      <th>user_id</th>\n",
       "      <th></th>\n",
       "      <th></th>\n",
       "    </tr>\n",
       "  </thead>\n",
       "  <tbody>\n",
       "    <tr>\n",
       "      <th rowspan=\"4\" valign=\"top\">1</th>\n",
       "      <th>1077</th>\n",
       "      <td>37</td>\n",
       "      <td>37</td>\n",
       "    </tr>\n",
       "    <tr>\n",
       "      <th>1196</th>\n",
       "      <td>23</td>\n",
       "      <td>23</td>\n",
       "    </tr>\n",
       "    <tr>\n",
       "      <th>1214</th>\n",
       "      <td>2</td>\n",
       "      <td>2</td>\n",
       "    </tr>\n",
       "    <tr>\n",
       "      <th>1362</th>\n",
       "      <td>21</td>\n",
       "      <td>21</td>\n",
       "    </tr>\n",
       "    <tr>\n",
       "      <th>2</th>\n",
       "      <th>1028</th>\n",
       "      <td>12</td>\n",
       "      <td>12</td>\n",
       "    </tr>\n",
       "  </tbody>\n",
       "</table>\n",
       "</div>"
      ],
      "text/plain": [
       "               id  message_date\n",
       "month user_id                  \n",
       "1     1077     37            37\n",
       "      1196     23            23\n",
       "      1214      2             2\n",
       "      1362     21            21\n",
       "2     1028     12            12"
      ]
     },
     "execution_count": 26,
     "metadata": {},
     "output_type": "execute_result"
    }
   ],
   "source": [
    "df_m.head()"
   ]
  },
  {
   "cell_type": "code",
   "execution_count": 27,
   "metadata": {
    "scrolled": true
   },
   "outputs": [
    {
     "data": {
      "text/html": [
       "<div>\n",
       "<style scoped>\n",
       "    .dataframe tbody tr th:only-of-type {\n",
       "        vertical-align: middle;\n",
       "    }\n",
       "\n",
       "    .dataframe tbody tr th {\n",
       "        vertical-align: top;\n",
       "    }\n",
       "\n",
       "    .dataframe thead th {\n",
       "        text-align: right;\n",
       "    }\n",
       "</style>\n",
       "<table border=\"1\" class=\"dataframe\">\n",
       "  <thead>\n",
       "    <tr style=\"text-align: right;\">\n",
       "      <th></th>\n",
       "      <th></th>\n",
       "      <th>duration</th>\n",
       "    </tr>\n",
       "    <tr>\n",
       "      <th>month</th>\n",
       "      <th>user_id</th>\n",
       "      <th></th>\n",
       "    </tr>\n",
       "  </thead>\n",
       "  <tbody>\n",
       "    <tr>\n",
       "      <th rowspan=\"5\" valign=\"top\">1</th>\n",
       "      <th>1042</th>\n",
       "      <td>114.0</td>\n",
       "    </tr>\n",
       "    <tr>\n",
       "      <th>1077</th>\n",
       "      <td>290.0</td>\n",
       "    </tr>\n",
       "    <tr>\n",
       "      <th>1185</th>\n",
       "      <td>181.0</td>\n",
       "    </tr>\n",
       "    <tr>\n",
       "      <th>1196</th>\n",
       "      <td>287.0</td>\n",
       "    </tr>\n",
       "    <tr>\n",
       "      <th>1214</th>\n",
       "      <td>16.0</td>\n",
       "    </tr>\n",
       "  </tbody>\n",
       "</table>\n",
       "</div>"
      ],
      "text/plain": [
       "               duration\n",
       "month user_id          \n",
       "1     1042        114.0\n",
       "      1077        290.0\n",
       "      1185        181.0\n",
       "      1196        287.0\n",
       "      1214         16.0"
      ]
     },
     "execution_count": 27,
     "metadata": {},
     "output_type": "execute_result"
    }
   ],
   "source": [
    "df_c.head()"
   ]
  },
  {
   "cell_type": "code",
   "execution_count": 28,
   "metadata": {},
   "outputs": [
    {
     "data": {
      "text/html": [
       "<div>\n",
       "<style scoped>\n",
       "    .dataframe tbody tr th:only-of-type {\n",
       "        vertical-align: middle;\n",
       "    }\n",
       "\n",
       "    .dataframe tbody tr th {\n",
       "        vertical-align: top;\n",
       "    }\n",
       "\n",
       "    .dataframe thead th {\n",
       "        text-align: right;\n",
       "    }\n",
       "</style>\n",
       "<table border=\"1\" class=\"dataframe\">\n",
       "  <thead>\n",
       "    <tr style=\"text-align: right;\">\n",
       "      <th></th>\n",
       "      <th>user_id</th>\n",
       "      <th>first_name</th>\n",
       "      <th>last_name</th>\n",
       "      <th>age</th>\n",
       "      <th>city</th>\n",
       "      <th>reg_date</th>\n",
       "      <th>plan</th>\n",
       "      <th>churn_date</th>\n",
       "    </tr>\n",
       "  </thead>\n",
       "  <tbody>\n",
       "    <tr>\n",
       "      <th>0</th>\n",
       "      <td>1000</td>\n",
       "      <td>Anamaria</td>\n",
       "      <td>Bauer</td>\n",
       "      <td>45</td>\n",
       "      <td>Atlanta-Sandy Springs-Roswell, GA MSA</td>\n",
       "      <td>2018-12-24</td>\n",
       "      <td>ultimate</td>\n",
       "      <td>1970-01-01</td>\n",
       "    </tr>\n",
       "    <tr>\n",
       "      <th>1</th>\n",
       "      <td>1001</td>\n",
       "      <td>Mickey</td>\n",
       "      <td>Wilkerson</td>\n",
       "      <td>28</td>\n",
       "      <td>Seattle-Tacoma-Bellevue, WA MSA</td>\n",
       "      <td>2018-08-13</td>\n",
       "      <td>surf</td>\n",
       "      <td>1970-01-01</td>\n",
       "    </tr>\n",
       "    <tr>\n",
       "      <th>2</th>\n",
       "      <td>1002</td>\n",
       "      <td>Carlee</td>\n",
       "      <td>Hoffman</td>\n",
       "      <td>36</td>\n",
       "      <td>Las Vegas-Henderson-Paradise, NV MSA</td>\n",
       "      <td>2018-10-21</td>\n",
       "      <td>surf</td>\n",
       "      <td>1970-01-01</td>\n",
       "    </tr>\n",
       "    <tr>\n",
       "      <th>3</th>\n",
       "      <td>1003</td>\n",
       "      <td>Reynaldo</td>\n",
       "      <td>Jenkins</td>\n",
       "      <td>52</td>\n",
       "      <td>Tulsa, OK MSA</td>\n",
       "      <td>2018-01-28</td>\n",
       "      <td>surf</td>\n",
       "      <td>1970-01-01</td>\n",
       "    </tr>\n",
       "    <tr>\n",
       "      <th>4</th>\n",
       "      <td>1004</td>\n",
       "      <td>Leonila</td>\n",
       "      <td>Thompson</td>\n",
       "      <td>40</td>\n",
       "      <td>Seattle-Tacoma-Bellevue, WA MSA</td>\n",
       "      <td>2018-05-23</td>\n",
       "      <td>surf</td>\n",
       "      <td>1970-01-01</td>\n",
       "    </tr>\n",
       "  </tbody>\n",
       "</table>\n",
       "</div>"
      ],
      "text/plain": [
       "   user_id first_name  last_name  age                                   city  \\\n",
       "0     1000   Anamaria      Bauer   45  Atlanta-Sandy Springs-Roswell, GA MSA   \n",
       "1     1001     Mickey  Wilkerson   28        Seattle-Tacoma-Bellevue, WA MSA   \n",
       "2     1002     Carlee    Hoffman   36   Las Vegas-Henderson-Paradise, NV MSA   \n",
       "3     1003   Reynaldo    Jenkins   52                          Tulsa, OK MSA   \n",
       "4     1004    Leonila   Thompson   40        Seattle-Tacoma-Bellevue, WA MSA   \n",
       "\n",
       "    reg_date      plan churn_date  \n",
       "0 2018-12-24  ultimate 1970-01-01  \n",
       "1 2018-08-13      surf 1970-01-01  \n",
       "2 2018-10-21      surf 1970-01-01  \n",
       "3 2018-01-28      surf 1970-01-01  \n",
       "4 2018-05-23      surf 1970-01-01  "
      ]
     },
     "execution_count": 28,
     "metadata": {},
     "output_type": "execute_result"
    }
   ],
   "source": [
    "df_users.head()"
   ]
  },
  {
   "cell_type": "markdown",
   "metadata": {},
   "source": [
    "**calculating the cost each user charged**\n",
    "- The data is divided to five data frames\n",
    "\n",
    "\n",
    "There are 3 parameters to charge the costumer\n",
    "- calls duration\n",
    "- number of messages\n",
    "- Gb used\n",
    "\n",
    "**the calculation is made every month, Ill make table that will include the data**"
   ]
  },
  {
   "cell_type": "code",
   "execution_count": 29,
   "metadata": {},
   "outputs": [
    {
     "data": {
      "text/html": [
       "<div>\n",
       "<style scoped>\n",
       "    .dataframe tbody tr th:only-of-type {\n",
       "        vertical-align: middle;\n",
       "    }\n",
       "\n",
       "    .dataframe tbody tr th {\n",
       "        vertical-align: top;\n",
       "    }\n",
       "\n",
       "    .dataframe thead th {\n",
       "        text-align: right;\n",
       "    }\n",
       "</style>\n",
       "<table border=\"1\" class=\"dataframe\">\n",
       "  <thead>\n",
       "    <tr style=\"text-align: right;\">\n",
       "      <th></th>\n",
       "      <th></th>\n",
       "      <th>duration</th>\n",
       "      <th>id</th>\n",
       "      <th>message_date</th>\n",
       "      <th>mb_used</th>\n",
       "      <th>gb_used</th>\n",
       "    </tr>\n",
       "    <tr>\n",
       "      <th>month</th>\n",
       "      <th>user_id</th>\n",
       "      <th></th>\n",
       "      <th></th>\n",
       "      <th></th>\n",
       "      <th></th>\n",
       "      <th></th>\n",
       "    </tr>\n",
       "  </thead>\n",
       "  <tbody>\n",
       "    <tr>\n",
       "      <th rowspan=\"5\" valign=\"top\">1</th>\n",
       "      <th>1042</th>\n",
       "      <td>114.0</td>\n",
       "      <td>NaN</td>\n",
       "      <td>NaN</td>\n",
       "      <td>1854.93</td>\n",
       "      <td>2.0</td>\n",
       "    </tr>\n",
       "    <tr>\n",
       "      <th>1077</th>\n",
       "      <td>290.0</td>\n",
       "      <td>37.0</td>\n",
       "      <td>37.0</td>\n",
       "      <td>10635.64</td>\n",
       "      <td>11.0</td>\n",
       "    </tr>\n",
       "    <tr>\n",
       "      <th>1185</th>\n",
       "      <td>181.0</td>\n",
       "      <td>NaN</td>\n",
       "      <td>NaN</td>\n",
       "      <td>6812.77</td>\n",
       "      <td>7.0</td>\n",
       "    </tr>\n",
       "    <tr>\n",
       "      <th>1196</th>\n",
       "      <td>287.0</td>\n",
       "      <td>23.0</td>\n",
       "      <td>23.0</td>\n",
       "      <td>8908.61</td>\n",
       "      <td>9.0</td>\n",
       "    </tr>\n",
       "    <tr>\n",
       "      <th>1214</th>\n",
       "      <td>16.0</td>\n",
       "      <td>2.0</td>\n",
       "      <td>2.0</td>\n",
       "      <td>1315.35</td>\n",
       "      <td>2.0</td>\n",
       "    </tr>\n",
       "  </tbody>\n",
       "</table>\n",
       "</div>"
      ],
      "text/plain": [
       "               duration    id  message_date   mb_used  gb_used\n",
       "month user_id                                                 \n",
       "1     1042        114.0   NaN           NaN   1854.93      2.0\n",
       "      1077        290.0  37.0          37.0  10635.64     11.0\n",
       "      1185        181.0   NaN           NaN   6812.77      7.0\n",
       "      1196        287.0  23.0          23.0   8908.61      9.0\n",
       "      1214         16.0   2.0           2.0   1315.35      2.0"
      ]
     },
     "execution_count": 29,
     "metadata": {},
     "output_type": "execute_result"
    }
   ],
   "source": [
    "df = df_c.join([df_m, df_gb], how=\"outer\", rsuffix=\"_mss_\")\n",
    "df.head()\n"
   ]
  },
  {
   "cell_type": "markdown",
   "metadata": {},
   "source": [
    "<div class=\"alert alert-block alert-success\">\n",
    "<b>Reviewer's comment v1:</b>\n",
    "    \n",
    "Well done! `how = 'outer' can be used here to prevent data loss.\n",
    "    \n",
    "By the way, it is also possible to group 3 tables at once using reduce. You can read about it here: https://www.codegrepper.com/code-examples/python/merge+more+than+2+dataframes+in+pandas or just method concat (by default has outer)."
   ]
  },
  {
   "cell_type": "markdown",
   "metadata": {},
   "source": [
    "[Put the aggregate data together into one DataFrame so that one record in it would represent what an unique user consumed in a given month.]"
   ]
  },
  {
   "cell_type": "code",
   "execution_count": 30,
   "metadata": {
    "scrolled": true
   },
   "outputs": [
    {
     "data": {
      "text/html": [
       "<div>\n",
       "<style scoped>\n",
       "    .dataframe tbody tr th:only-of-type {\n",
       "        vertical-align: middle;\n",
       "    }\n",
       "\n",
       "    .dataframe tbody tr th {\n",
       "        vertical-align: top;\n",
       "    }\n",
       "\n",
       "    .dataframe thead th {\n",
       "        text-align: right;\n",
       "    }\n",
       "</style>\n",
       "<table border=\"1\" class=\"dataframe\">\n",
       "  <thead>\n",
       "    <tr style=\"text-align: right;\">\n",
       "      <th></th>\n",
       "      <th>month</th>\n",
       "      <th>user_id</th>\n",
       "      <th>call_duration</th>\n",
       "      <th>message_number</th>\n",
       "      <th>mb_used</th>\n",
       "      <th>gb_used</th>\n",
       "      <th>plan</th>\n",
       "    </tr>\n",
       "  </thead>\n",
       "  <tbody>\n",
       "    <tr>\n",
       "      <th>0</th>\n",
       "      <td>1</td>\n",
       "      <td>1042</td>\n",
       "      <td>114.0</td>\n",
       "      <td>NaN</td>\n",
       "      <td>1854.93</td>\n",
       "      <td>2.0</td>\n",
       "      <td>surf</td>\n",
       "    </tr>\n",
       "    <tr>\n",
       "      <th>1</th>\n",
       "      <td>1</td>\n",
       "      <td>1077</td>\n",
       "      <td>290.0</td>\n",
       "      <td>37.0</td>\n",
       "      <td>10635.64</td>\n",
       "      <td>11.0</td>\n",
       "      <td>ultimate</td>\n",
       "    </tr>\n",
       "    <tr>\n",
       "      <th>2</th>\n",
       "      <td>1</td>\n",
       "      <td>1185</td>\n",
       "      <td>181.0</td>\n",
       "      <td>NaN</td>\n",
       "      <td>6812.77</td>\n",
       "      <td>7.0</td>\n",
       "      <td>ultimate</td>\n",
       "    </tr>\n",
       "    <tr>\n",
       "      <th>3</th>\n",
       "      <td>1</td>\n",
       "      <td>1196</td>\n",
       "      <td>287.0</td>\n",
       "      <td>23.0</td>\n",
       "      <td>8908.61</td>\n",
       "      <td>9.0</td>\n",
       "      <td>ultimate</td>\n",
       "    </tr>\n",
       "    <tr>\n",
       "      <th>4</th>\n",
       "      <td>1</td>\n",
       "      <td>1214</td>\n",
       "      <td>16.0</td>\n",
       "      <td>2.0</td>\n",
       "      <td>1315.35</td>\n",
       "      <td>2.0</td>\n",
       "      <td>ultimate</td>\n",
       "    </tr>\n",
       "  </tbody>\n",
       "</table>\n",
       "</div>"
      ],
      "text/plain": [
       "   month  user_id  call_duration  message_number   mb_used  gb_used      plan\n",
       "0      1     1042          114.0             NaN   1854.93      2.0      surf\n",
       "1      1     1077          290.0            37.0  10635.64     11.0  ultimate\n",
       "2      1     1185          181.0             NaN   6812.77      7.0  ultimate\n",
       "3      1     1196          287.0            23.0   8908.61      9.0  ultimate\n",
       "4      1     1214           16.0             2.0   1315.35      2.0  ultimate"
      ]
     },
     "execution_count": 30,
     "metadata": {},
     "output_type": "execute_result"
    }
   ],
   "source": [
    "df.reset_index([\"user_id\"], inplace=True)\n",
    "df.reset_index([\"month\"], inplace=True)\n",
    "df.drop(columns=[\"id\"], inplace=True)\n",
    "df_u = df_users[[\"user_id\", \"plan\"]].copy()\n",
    "df_u.set_index([\"user_id\"], inplace=True)\n",
    "df = df.join(df_u, on=[\"user_id\"], how=\"left\",\n",
    "             lsuffix=\"_left\", rsuffix=\"_right\")\n",
    "df.columns = ['month', 'user_id', 'call_duration',\n",
    "              'message_number', 'mb_used', 'gb_used', 'plan']\n",
    "df.head()"
   ]
  },
  {
   "cell_type": "markdown",
   "metadata": {},
   "source": [
    "**The new df has all the information of the users including the plan they are in. in the data frame there are some NaNs from users that didnt send message at all. I willll replace these NaNs with 0**\n",
    "**adding colums to the dataframe from the plans data frame:**"
   ]
  },
  {
   "cell_type": "code",
   "execution_count": 31,
   "metadata": {},
   "outputs": [
    {
     "data": {
      "text/html": [
       "<div>\n",
       "<style scoped>\n",
       "    .dataframe tbody tr th:only-of-type {\n",
       "        vertical-align: middle;\n",
       "    }\n",
       "\n",
       "    .dataframe tbody tr th {\n",
       "        vertical-align: top;\n",
       "    }\n",
       "\n",
       "    .dataframe thead th {\n",
       "        text-align: right;\n",
       "    }\n",
       "</style>\n",
       "<table border=\"1\" class=\"dataframe\">\n",
       "  <thead>\n",
       "    <tr style=\"text-align: right;\">\n",
       "      <th></th>\n",
       "      <th>month</th>\n",
       "      <th>user_id</th>\n",
       "      <th>call_duration</th>\n",
       "      <th>message_number</th>\n",
       "      <th>mb_used</th>\n",
       "      <th>gb_used</th>\n",
       "      <th>plan</th>\n",
       "      <th>messages_included</th>\n",
       "      <th>mb_per_month_included</th>\n",
       "      <th>minutes_included</th>\n",
       "      <th>usd_monthly_pay</th>\n",
       "      <th>usd_per_gb</th>\n",
       "      <th>usd_per_message</th>\n",
       "      <th>usd_per_minute</th>\n",
       "    </tr>\n",
       "  </thead>\n",
       "  <tbody>\n",
       "    <tr>\n",
       "      <th>0</th>\n",
       "      <td>1</td>\n",
       "      <td>1042</td>\n",
       "      <td>114.0</td>\n",
       "      <td>0.0</td>\n",
       "      <td>1854.93</td>\n",
       "      <td>2.0</td>\n",
       "      <td>surf</td>\n",
       "      <td>50</td>\n",
       "      <td>15360</td>\n",
       "      <td>500</td>\n",
       "      <td>20</td>\n",
       "      <td>10</td>\n",
       "      <td>0.03</td>\n",
       "      <td>0.03</td>\n",
       "    </tr>\n",
       "    <tr>\n",
       "      <th>1</th>\n",
       "      <td>1</td>\n",
       "      <td>1077</td>\n",
       "      <td>290.0</td>\n",
       "      <td>37.0</td>\n",
       "      <td>10635.64</td>\n",
       "      <td>11.0</td>\n",
       "      <td>ultimate</td>\n",
       "      <td>1000</td>\n",
       "      <td>30720</td>\n",
       "      <td>3000</td>\n",
       "      <td>70</td>\n",
       "      <td>7</td>\n",
       "      <td>0.01</td>\n",
       "      <td>0.01</td>\n",
       "    </tr>\n",
       "    <tr>\n",
       "      <th>2</th>\n",
       "      <td>1</td>\n",
       "      <td>1185</td>\n",
       "      <td>181.0</td>\n",
       "      <td>0.0</td>\n",
       "      <td>6812.77</td>\n",
       "      <td>7.0</td>\n",
       "      <td>ultimate</td>\n",
       "      <td>1000</td>\n",
       "      <td>30720</td>\n",
       "      <td>3000</td>\n",
       "      <td>70</td>\n",
       "      <td>7</td>\n",
       "      <td>0.01</td>\n",
       "      <td>0.01</td>\n",
       "    </tr>\n",
       "    <tr>\n",
       "      <th>3</th>\n",
       "      <td>1</td>\n",
       "      <td>1196</td>\n",
       "      <td>287.0</td>\n",
       "      <td>23.0</td>\n",
       "      <td>8908.61</td>\n",
       "      <td>9.0</td>\n",
       "      <td>ultimate</td>\n",
       "      <td>1000</td>\n",
       "      <td>30720</td>\n",
       "      <td>3000</td>\n",
       "      <td>70</td>\n",
       "      <td>7</td>\n",
       "      <td>0.01</td>\n",
       "      <td>0.01</td>\n",
       "    </tr>\n",
       "    <tr>\n",
       "      <th>4</th>\n",
       "      <td>1</td>\n",
       "      <td>1214</td>\n",
       "      <td>16.0</td>\n",
       "      <td>2.0</td>\n",
       "      <td>1315.35</td>\n",
       "      <td>2.0</td>\n",
       "      <td>ultimate</td>\n",
       "      <td>1000</td>\n",
       "      <td>30720</td>\n",
       "      <td>3000</td>\n",
       "      <td>70</td>\n",
       "      <td>7</td>\n",
       "      <td>0.01</td>\n",
       "      <td>0.01</td>\n",
       "    </tr>\n",
       "  </tbody>\n",
       "</table>\n",
       "</div>"
      ],
      "text/plain": [
       "   month  user_id  call_duration  message_number   mb_used  gb_used      plan  \\\n",
       "0      1     1042          114.0             0.0   1854.93      2.0      surf   \n",
       "1      1     1077          290.0            37.0  10635.64     11.0  ultimate   \n",
       "2      1     1185          181.0             0.0   6812.77      7.0  ultimate   \n",
       "3      1     1196          287.0            23.0   8908.61      9.0  ultimate   \n",
       "4      1     1214           16.0             2.0   1315.35      2.0  ultimate   \n",
       "\n",
       "   messages_included  mb_per_month_included  minutes_included  \\\n",
       "0                 50                  15360               500   \n",
       "1               1000                  30720              3000   \n",
       "2               1000                  30720              3000   \n",
       "3               1000                  30720              3000   \n",
       "4               1000                  30720              3000   \n",
       "\n",
       "   usd_monthly_pay  usd_per_gb  usd_per_message  usd_per_minute  \n",
       "0               20          10             0.03            0.03  \n",
       "1               70           7             0.01            0.01  \n",
       "2               70           7             0.01            0.01  \n",
       "3               70           7             0.01            0.01  \n",
       "4               70           7             0.01            0.01  "
      ]
     },
     "execution_count": 31,
     "metadata": {},
     "output_type": "execute_result"
    }
   ],
   "source": [
    "df[\"message_number\"].fillna(value=0, inplace=True)\n",
    "# adding the plan data to the main DataFrame\n",
    "df = df.merge(df_plans, left_on=[\"plan\"], right_on=[\"plan_name\"], how=\"left\")\n",
    "df.drop(columns=[\"plan_name\"], inplace=True)\n",
    "df.head()"
   ]
  },
  {
   "cell_type": "markdown",
   "metadata": {},
   "source": [
    "[Calculate the monthly revenue from each user (subtract the free package limit from the total number of calls, text messages, and data; multiply the result by the calling plan value; add the monthly charge depending on the calling plan). N.B. This might not be as trivial as just a couple of lines given the plan conditions! So, it's okay to spend some time on it.]"
   ]
  },
  {
   "cell_type": "code",
   "execution_count": 32,
   "metadata": {},
   "outputs": [],
   "source": [
    "## calculating the extra usage above the plan limits - calls\n",
    "df[\"call_xtra\"] = (df[\"call_duration\"]-df[\"minutes_included\"])\n",
    "df[\"call_xtra\"] = df[\"call_xtra\"].clip(lower=0)\n",
    "# calculating the extra usage above the plan limits - messages\n",
    "df[\"messages_xtra\"] = (df[\"message_number\"]-df[\"messages_included\"])\n",
    "df[\"messages_xtra\"] = df[\"messages_xtra\"].clip(lower=0)\n",
    "# calculating the extra usage above the plan limits - internet Gb\n",
    "df[\"gb_xtra\"] = (df[\"gb_used\"]-(df[\"mb_per_month_included\"])/1024)\n",
    "df[\"gb_xtra\"] = df[\"gb_xtra\"].clip(lower=0)\n",
    "df_cost = df.copy()\n"
   ]
  },
  {
   "cell_type": "code",
   "execution_count": 33,
   "metadata": {},
   "outputs": [],
   "source": [
    "df[\"cost\"] = df[\"usd_monthly_pay\"]+df[\"call_xtra\"]*df[\"usd_per_minute\"] + \\\n",
    "    df[\"messages_xtra\"]*df[\"usd_per_message\"]+df[\"gb_xtra\"]*df[\"usd_per_gb\"]\n"
   ]
  },
  {
   "cell_type": "markdown",
   "metadata": {},
   "source": [
    "<div class=\"alert alert-success\">\n",
    "<b>Reviewer's comment v1:</b>\n",
    "    \n",
    "Everything is correct here and very nice that you applied clip() method here.\n",
    "    \n",
    "Btw it is also possible to make the calculation of revenue a little bit differently using np.where - [https://numpy.org/doc/stable/reference/generated/numpy.where.html](https://numpy.org/doc/stable/reference/generated/numpy.where.html)\n",
    "\n",
    "```\n",
    "  np.where ('condition: if exceeding the package limit', 'multiply the difference by the price of additional services', '0')\n",
    "```\n"
   ]
  },
  {
   "cell_type": "markdown",
   "metadata": {},
   "source": [
    "**Checking the cost**"
   ]
  },
  {
   "cell_type": "code",
   "execution_count": 34,
   "metadata": {
    "scrolled": true
   },
   "outputs": [
    {
     "data": {
      "text/plain": [
       "<AxesSubplot:ylabel='Frequency'>"
      ]
     },
     "execution_count": 34,
     "metadata": {},
     "output_type": "execute_result"
    },
    {
     "data": {
      "image/png": "[encoded data removed]",
      "text/plain": [
       "<Figure size 432x288 with 1 Axes>"
      ]
     },
     "metadata": {
      "needs_background": "light"
     },
     "output_type": "display_data"
    }
   ],
   "source": [
    "df[\"cost\"].plot(kind=\"hist\", bins=25)"
   ]
  },
  {
   "cell_type": "markdown",
   "metadata": {},
   "source": [
    "<div class=\"alert alert-success\">\n",
    "<b>Reviewer's comment v1:</b>\n",
    "    \n",
    "In order not to show auxiliary python outputs like \"matplotlib.axes._subplots.AxesSubplot at 0x7f5feaf7fc90 ', you can add a semicolon or plt.show () at the end of the line."
   ]
  },
  {
   "cell_type": "markdown",
   "metadata": {},
   "source": [
    "**checking the cost of every segment - all messages and Internet:**\n"
   ]
  },
  {
   "cell_type": "code",
   "execution_count": 35,
   "metadata": {},
   "outputs": [],
   "source": [
    "df_cost[\"calls\"] = df[\"call_xtra\"]*df[\"usd_per_minute\"]"
   ]
  },
  {
   "cell_type": "code",
   "execution_count": 36,
   "metadata": {},
   "outputs": [],
   "source": [
    "df_cost[\"messages\"] = df[\"messages_xtra\"]*df[\"usd_per_message\"]"
   ]
  },
  {
   "cell_type": "code",
   "execution_count": 37,
   "metadata": {},
   "outputs": [],
   "source": [
    "df_cost[\"gb\"] = df[\"gb_xtra\"]*df[\"usd_per_gb\"]"
   ]
  },
  {
   "cell_type": "code",
   "execution_count": 38,
   "metadata": {},
   "outputs": [
    {
     "name": "stdout",
     "output_type": "stream",
     "text": [
      "The revenue from calls exceeding the plans for all the sample in 2018 is 2900.25 USD\n"
     ]
    }
   ],
   "source": [
    "print(\n",
    "    f'The revenue from calls exceeding the plans for all the sample in 2018 is {df_cost.groupby(\"month\")[\"calls\"].sum().sum()} USD')"
   ]
  },
  {
   "cell_type": "code",
   "execution_count": 39,
   "metadata": {},
   "outputs": [
    {
     "name": "stdout",
     "output_type": "stream",
     "text": [
      "The revenue from messages exceeding the plans for all the sample in 2018 is 330.92999999999995 USD\n"
     ]
    }
   ],
   "source": [
    "print(\n",
    "    f'The revenue from messages exceeding the plans for all the sample in 2018 is {df_cost.groupby(\"month\")[\"messages\"].sum().sum()} USD')"
   ]
  },
  {
   "cell_type": "code",
   "execution_count": 40,
   "metadata": {
    "scrolled": false
   },
   "outputs": [
    {
     "name": "stdout",
     "output_type": "stream",
     "text": [
      "The revenue from intrnet-Gb exceeding the plans for all the sample in 2018 is 62466.0 USD\n"
     ]
    }
   ],
   "source": [
    "print(\n",
    "    f'The revenue from intrnet-Gb exceeding the plans for all the sample in 2018 is {df_cost.groupby(\"month\")[\"gb\"].sum().sum()} USD')"
   ]
  },
  {
   "cell_type": "markdown",
   "metadata": {},
   "source": [
    "- **The company makes the biggest profit from users who are using the Internet more than the plan they have**"
   ]
  },
  {
   "cell_type": "code",
   "execution_count": 41,
   "metadata": {},
   "outputs": [
    {
     "data": {
      "text/html": [
       "<div>\n",
       "<style scoped>\n",
       "    .dataframe tbody tr th:only-of-type {\n",
       "        vertical-align: middle;\n",
       "    }\n",
       "\n",
       "    .dataframe tbody tr th {\n",
       "        vertical-align: top;\n",
       "    }\n",
       "\n",
       "    .dataframe thead th {\n",
       "        text-align: right;\n",
       "    }\n",
       "</style>\n",
       "<table border=\"1\" class=\"dataframe\">\n",
       "  <thead>\n",
       "    <tr style=\"text-align: right;\">\n",
       "      <th></th>\n",
       "      <th>user_id</th>\n",
       "      <th>first_name</th>\n",
       "      <th>last_name</th>\n",
       "      <th>age</th>\n",
       "      <th>city</th>\n",
       "      <th>reg_date</th>\n",
       "      <th>plan</th>\n",
       "      <th>churn_date</th>\n",
       "    </tr>\n",
       "  </thead>\n",
       "  <tbody>\n",
       "    <tr>\n",
       "      <th>0</th>\n",
       "      <td>1000</td>\n",
       "      <td>Anamaria</td>\n",
       "      <td>Bauer</td>\n",
       "      <td>45</td>\n",
       "      <td>Atlanta-Sandy Springs-Roswell, GA MSA</td>\n",
       "      <td>2018-12-24</td>\n",
       "      <td>ultimate</td>\n",
       "      <td>1970-01-01</td>\n",
       "    </tr>\n",
       "    <tr>\n",
       "      <th>1</th>\n",
       "      <td>1001</td>\n",
       "      <td>Mickey</td>\n",
       "      <td>Wilkerson</td>\n",
       "      <td>28</td>\n",
       "      <td>Seattle-Tacoma-Bellevue, WA MSA</td>\n",
       "      <td>2018-08-13</td>\n",
       "      <td>surf</td>\n",
       "      <td>1970-01-01</td>\n",
       "    </tr>\n",
       "    <tr>\n",
       "      <th>2</th>\n",
       "      <td>1002</td>\n",
       "      <td>Carlee</td>\n",
       "      <td>Hoffman</td>\n",
       "      <td>36</td>\n",
       "      <td>Las Vegas-Henderson-Paradise, NV MSA</td>\n",
       "      <td>2018-10-21</td>\n",
       "      <td>surf</td>\n",
       "      <td>1970-01-01</td>\n",
       "    </tr>\n",
       "    <tr>\n",
       "      <th>3</th>\n",
       "      <td>1003</td>\n",
       "      <td>Reynaldo</td>\n",
       "      <td>Jenkins</td>\n",
       "      <td>52</td>\n",
       "      <td>Tulsa, OK MSA</td>\n",
       "      <td>2018-01-28</td>\n",
       "      <td>surf</td>\n",
       "      <td>1970-01-01</td>\n",
       "    </tr>\n",
       "    <tr>\n",
       "      <th>4</th>\n",
       "      <td>1004</td>\n",
       "      <td>Leonila</td>\n",
       "      <td>Thompson</td>\n",
       "      <td>40</td>\n",
       "      <td>Seattle-Tacoma-Bellevue, WA MSA</td>\n",
       "      <td>2018-05-23</td>\n",
       "      <td>surf</td>\n",
       "      <td>1970-01-01</td>\n",
       "    </tr>\n",
       "  </tbody>\n",
       "</table>\n",
       "</div>"
      ],
      "text/plain": [
       "   user_id first_name  last_name  age                                   city  \\\n",
       "0     1000   Anamaria      Bauer   45  Atlanta-Sandy Springs-Roswell, GA MSA   \n",
       "1     1001     Mickey  Wilkerson   28        Seattle-Tacoma-Bellevue, WA MSA   \n",
       "2     1002     Carlee    Hoffman   36   Las Vegas-Henderson-Paradise, NV MSA   \n",
       "3     1003   Reynaldo    Jenkins   52                          Tulsa, OK MSA   \n",
       "4     1004    Leonila   Thompson   40        Seattle-Tacoma-Bellevue, WA MSA   \n",
       "\n",
       "    reg_date      plan churn_date  \n",
       "0 2018-12-24  ultimate 1970-01-01  \n",
       "1 2018-08-13      surf 1970-01-01  \n",
       "2 2018-10-21      surf 1970-01-01  \n",
       "3 2018-01-28      surf 1970-01-01  \n",
       "4 2018-05-23      surf 1970-01-01  "
      ]
     },
     "execution_count": 41,
     "metadata": {},
     "output_type": "execute_result"
    }
   ],
   "source": [
    "# all rows with chrun date in 2018\n",
    "d1 = datetime.datetime(2019, 1, 1)\n",
    "df_churn = df_users[df_users[\"churn_date\"] < d1]\n",
    "df_churn.head()"
   ]
  },
  {
   "cell_type": "code",
   "execution_count": 42,
   "metadata": {},
   "outputs": [],
   "source": [
    "# joining the information from the churn_data to the users activity from df\n",
    "df_churn = df_churn.join(\n",
    "    df, on=[\"user_id\"], how=\"left\", lsuffix=\"_left\", rsuffix=\"_right\")"
   ]
  },
  {
   "cell_type": "code",
   "execution_count": 43,
   "metadata": {},
   "outputs": [
    {
     "data": {
      "text/html": [
       "<div>\n",
       "<style scoped>\n",
       "    .dataframe tbody tr th:only-of-type {\n",
       "        vertical-align: middle;\n",
       "    }\n",
       "\n",
       "    .dataframe tbody tr th {\n",
       "        vertical-align: top;\n",
       "    }\n",
       "\n",
       "    .dataframe thead th {\n",
       "        text-align: right;\n",
       "    }\n",
       "</style>\n",
       "<table border=\"1\" class=\"dataframe\">\n",
       "  <thead>\n",
       "    <tr style=\"text-align: right;\">\n",
       "      <th></th>\n",
       "      <th>user_id_left</th>\n",
       "      <th>first_name</th>\n",
       "      <th>last_name</th>\n",
       "      <th>age</th>\n",
       "      <th>city</th>\n",
       "      <th>reg_date</th>\n",
       "      <th>plan_left</th>\n",
       "      <th>churn_date</th>\n",
       "      <th>month</th>\n",
       "      <th>user_id_right</th>\n",
       "      <th>...</th>\n",
       "      <th>mb_per_month_included</th>\n",
       "      <th>minutes_included</th>\n",
       "      <th>usd_monthly_pay</th>\n",
       "      <th>usd_per_gb</th>\n",
       "      <th>usd_per_message</th>\n",
       "      <th>usd_per_minute</th>\n",
       "      <th>call_xtra</th>\n",
       "      <th>messages_xtra</th>\n",
       "      <th>gb_xtra</th>\n",
       "      <th>cost</th>\n",
       "    </tr>\n",
       "  </thead>\n",
       "  <tbody>\n",
       "    <tr>\n",
       "      <th>0</th>\n",
       "      <td>1000</td>\n",
       "      <td>Anamaria</td>\n",
       "      <td>Bauer</td>\n",
       "      <td>45</td>\n",
       "      <td>Atlanta-Sandy Springs-Roswell, GA MSA</td>\n",
       "      <td>2018-12-24</td>\n",
       "      <td>ultimate</td>\n",
       "      <td>1970-01-01</td>\n",
       "      <td>9</td>\n",
       "      <td>1374</td>\n",
       "      <td>...</td>\n",
       "      <td>15360</td>\n",
       "      <td>500</td>\n",
       "      <td>20</td>\n",
       "      <td>10</td>\n",
       "      <td>0.03</td>\n",
       "      <td>0.03</td>\n",
       "      <td>0.0</td>\n",
       "      <td>11.0</td>\n",
       "      <td>7.0</td>\n",
       "      <td>90.33</td>\n",
       "    </tr>\n",
       "    <tr>\n",
       "      <th>1</th>\n",
       "      <td>1001</td>\n",
       "      <td>Mickey</td>\n",
       "      <td>Wilkerson</td>\n",
       "      <td>28</td>\n",
       "      <td>Seattle-Tacoma-Bellevue, WA MSA</td>\n",
       "      <td>2018-08-13</td>\n",
       "      <td>surf</td>\n",
       "      <td>1970-01-01</td>\n",
       "      <td>9</td>\n",
       "      <td>1377</td>\n",
       "      <td>...</td>\n",
       "      <td>15360</td>\n",
       "      <td>500</td>\n",
       "      <td>20</td>\n",
       "      <td>10</td>\n",
       "      <td>0.03</td>\n",
       "      <td>0.03</td>\n",
       "      <td>0.0</td>\n",
       "      <td>0.0</td>\n",
       "      <td>6.0</td>\n",
       "      <td>80.00</td>\n",
       "    </tr>\n",
       "    <tr>\n",
       "      <th>2</th>\n",
       "      <td>1002</td>\n",
       "      <td>Carlee</td>\n",
       "      <td>Hoffman</td>\n",
       "      <td>36</td>\n",
       "      <td>Las Vegas-Henderson-Paradise, NV MSA</td>\n",
       "      <td>2018-10-21</td>\n",
       "      <td>surf</td>\n",
       "      <td>1970-01-01</td>\n",
       "      <td>9</td>\n",
       "      <td>1380</td>\n",
       "      <td>...</td>\n",
       "      <td>30720</td>\n",
       "      <td>3000</td>\n",
       "      <td>70</td>\n",
       "      <td>7</td>\n",
       "      <td>0.01</td>\n",
       "      <td>0.01</td>\n",
       "      <td>0.0</td>\n",
       "      <td>0.0</td>\n",
       "      <td>0.0</td>\n",
       "      <td>70.00</td>\n",
       "    </tr>\n",
       "    <tr>\n",
       "      <th>3</th>\n",
       "      <td>1003</td>\n",
       "      <td>Reynaldo</td>\n",
       "      <td>Jenkins</td>\n",
       "      <td>52</td>\n",
       "      <td>Tulsa, OK MSA</td>\n",
       "      <td>2018-01-28</td>\n",
       "      <td>surf</td>\n",
       "      <td>1970-01-01</td>\n",
       "      <td>9</td>\n",
       "      <td>1381</td>\n",
       "      <td>...</td>\n",
       "      <td>15360</td>\n",
       "      <td>500</td>\n",
       "      <td>20</td>\n",
       "      <td>10</td>\n",
       "      <td>0.03</td>\n",
       "      <td>0.03</td>\n",
       "      <td>0.0</td>\n",
       "      <td>13.0</td>\n",
       "      <td>0.0</td>\n",
       "      <td>20.39</td>\n",
       "    </tr>\n",
       "    <tr>\n",
       "      <th>4</th>\n",
       "      <td>1004</td>\n",
       "      <td>Leonila</td>\n",
       "      <td>Thompson</td>\n",
       "      <td>40</td>\n",
       "      <td>Seattle-Tacoma-Bellevue, WA MSA</td>\n",
       "      <td>2018-05-23</td>\n",
       "      <td>surf</td>\n",
       "      <td>1970-01-01</td>\n",
       "      <td>9</td>\n",
       "      <td>1382</td>\n",
       "      <td>...</td>\n",
       "      <td>30720</td>\n",
       "      <td>3000</td>\n",
       "      <td>70</td>\n",
       "      <td>7</td>\n",
       "      <td>0.01</td>\n",
       "      <td>0.01</td>\n",
       "      <td>0.0</td>\n",
       "      <td>0.0</td>\n",
       "      <td>0.0</td>\n",
       "      <td>70.00</td>\n",
       "    </tr>\n",
       "  </tbody>\n",
       "</table>\n",
       "<p>5 rows × 26 columns</p>\n",
       "</div>"
      ],
      "text/plain": [
       "   user_id_left first_name  last_name  age  \\\n",
       "0          1000   Anamaria      Bauer   45   \n",
       "1          1001     Mickey  Wilkerson   28   \n",
       "2          1002     Carlee    Hoffman   36   \n",
       "3          1003   Reynaldo    Jenkins   52   \n",
       "4          1004    Leonila   Thompson   40   \n",
       "\n",
       "                                    city   reg_date plan_left churn_date  \\\n",
       "0  Atlanta-Sandy Springs-Roswell, GA MSA 2018-12-24  ultimate 1970-01-01   \n",
       "1        Seattle-Tacoma-Bellevue, WA MSA 2018-08-13      surf 1970-01-01   \n",
       "2   Las Vegas-Henderson-Paradise, NV MSA 2018-10-21      surf 1970-01-01   \n",
       "3                          Tulsa, OK MSA 2018-01-28      surf 1970-01-01   \n",
       "4        Seattle-Tacoma-Bellevue, WA MSA 2018-05-23      surf 1970-01-01   \n",
       "\n",
       "   month  user_id_right  ...  mb_per_month_included  minutes_included  \\\n",
       "0      9           1374  ...                  15360               500   \n",
       "1      9           1377  ...                  15360               500   \n",
       "2      9           1380  ...                  30720              3000   \n",
       "3      9           1381  ...                  15360               500   \n",
       "4      9           1382  ...                  30720              3000   \n",
       "\n",
       "   usd_monthly_pay  usd_per_gb usd_per_message  usd_per_minute  call_xtra  \\\n",
       "0               20          10            0.03            0.03        0.0   \n",
       "1               20          10            0.03            0.03        0.0   \n",
       "2               70           7            0.01            0.01        0.0   \n",
       "3               20          10            0.03            0.03        0.0   \n",
       "4               70           7            0.01            0.01        0.0   \n",
       "\n",
       "   messages_xtra  gb_xtra   cost  \n",
       "0           11.0      7.0  90.33  \n",
       "1            0.0      6.0  80.00  \n",
       "2            0.0      0.0  70.00  \n",
       "3           13.0      0.0  20.39  \n",
       "4            0.0      0.0  70.00  \n",
       "\n",
       "[5 rows x 26 columns]"
      ]
     },
     "execution_count": 43,
     "metadata": {},
     "output_type": "execute_result"
    }
   ],
   "source": [
    "df_churn.head()"
   ]
  },
  {
   "cell_type": "code",
   "execution_count": 44,
   "metadata": {},
   "outputs": [
    {
     "name": "stdout",
     "output_type": "stream",
     "text": [
      "Number of rows with activity after churn_date 472\n"
     ]
    }
   ],
   "source": [
    "print(\"Number of rows with activity after churn_date\",\n",
    "      len(df_churn.query(\"month > churn_date.dt.month\")))"
   ]
  },
  {
   "cell_type": "markdown",
   "metadata": {},
   "source": [
    "**The number of rows with activity after churn_dateis very small (only 6). I will ignore them**"
   ]
  },
  {
   "cell_type": "markdown",
   "metadata": {},
   "source": [
    "## Study user behaviour"
   ]
  },
  {
   "cell_type": "markdown",
   "metadata": {},
   "source": [
    "[Calculate some useful descriptive statistics for the aggregated and merged data, which typically reveal an overall picture captured by the data. Draw useful plots to help the understanding. Given that the main task is to compare the plans and decide on which one is more profitable, the statistics and the plots should be calculated on a per-plan basis.]\n",
    "\n",
    "[There are relevant hints in the comments for Calls but they are not provided for Messages and Internet though the principle of statistical study is the same for them as for Calls.]"
   ]
  },
  {
   "cell_type": "markdown",
   "metadata": {},
   "source": [
    "### Calls"
   ]
  },
  {
   "cell_type": "code",
   "execution_count": 45,
   "metadata": {
    "scrolled": true
   },
   "outputs": [
    {
     "data": {
      "text/html": [
       "<div>\n",
       "<style scoped>\n",
       "    .dataframe tbody tr th:only-of-type {\n",
       "        vertical-align: middle;\n",
       "    }\n",
       "\n",
       "    .dataframe tbody tr th {\n",
       "        vertical-align: top;\n",
       "    }\n",
       "\n",
       "    .dataframe thead th {\n",
       "        text-align: right;\n",
       "    }\n",
       "</style>\n",
       "<table border=\"1\" class=\"dataframe\">\n",
       "  <thead>\n",
       "    <tr style=\"text-align: right;\">\n",
       "      <th></th>\n",
       "      <th>month</th>\n",
       "      <th>user_id</th>\n",
       "      <th>call_duration</th>\n",
       "      <th>message_number</th>\n",
       "      <th>mb_used</th>\n",
       "      <th>gb_used</th>\n",
       "      <th>plan</th>\n",
       "      <th>messages_included</th>\n",
       "      <th>mb_per_month_included</th>\n",
       "      <th>minutes_included</th>\n",
       "      <th>usd_monthly_pay</th>\n",
       "      <th>usd_per_gb</th>\n",
       "      <th>usd_per_message</th>\n",
       "      <th>usd_per_minute</th>\n",
       "      <th>call_xtra</th>\n",
       "      <th>messages_xtra</th>\n",
       "      <th>gb_xtra</th>\n",
       "      <th>cost</th>\n",
       "    </tr>\n",
       "  </thead>\n",
       "  <tbody>\n",
       "    <tr>\n",
       "      <th>0</th>\n",
       "      <td>1</td>\n",
       "      <td>1042</td>\n",
       "      <td>114.0</td>\n",
       "      <td>0.0</td>\n",
       "      <td>1854.93</td>\n",
       "      <td>2.0</td>\n",
       "      <td>surf</td>\n",
       "      <td>50</td>\n",
       "      <td>15360</td>\n",
       "      <td>500</td>\n",
       "      <td>20</td>\n",
       "      <td>10</td>\n",
       "      <td>0.03</td>\n",
       "      <td>0.03</td>\n",
       "      <td>0.0</td>\n",
       "      <td>0.0</td>\n",
       "      <td>0.0</td>\n",
       "      <td>20.0</td>\n",
       "    </tr>\n",
       "    <tr>\n",
       "      <th>1</th>\n",
       "      <td>1</td>\n",
       "      <td>1077</td>\n",
       "      <td>290.0</td>\n",
       "      <td>37.0</td>\n",
       "      <td>10635.64</td>\n",
       "      <td>11.0</td>\n",
       "      <td>ultimate</td>\n",
       "      <td>1000</td>\n",
       "      <td>30720</td>\n",
       "      <td>3000</td>\n",
       "      <td>70</td>\n",
       "      <td>7</td>\n",
       "      <td>0.01</td>\n",
       "      <td>0.01</td>\n",
       "      <td>0.0</td>\n",
       "      <td>0.0</td>\n",
       "      <td>0.0</td>\n",
       "      <td>70.0</td>\n",
       "    </tr>\n",
       "    <tr>\n",
       "      <th>2</th>\n",
       "      <td>1</td>\n",
       "      <td>1185</td>\n",
       "      <td>181.0</td>\n",
       "      <td>0.0</td>\n",
       "      <td>6812.77</td>\n",
       "      <td>7.0</td>\n",
       "      <td>ultimate</td>\n",
       "      <td>1000</td>\n",
       "      <td>30720</td>\n",
       "      <td>3000</td>\n",
       "      <td>70</td>\n",
       "      <td>7</td>\n",
       "      <td>0.01</td>\n",
       "      <td>0.01</td>\n",
       "      <td>0.0</td>\n",
       "      <td>0.0</td>\n",
       "      <td>0.0</td>\n",
       "      <td>70.0</td>\n",
       "    </tr>\n",
       "    <tr>\n",
       "      <th>3</th>\n",
       "      <td>1</td>\n",
       "      <td>1196</td>\n",
       "      <td>287.0</td>\n",
       "      <td>23.0</td>\n",
       "      <td>8908.61</td>\n",
       "      <td>9.0</td>\n",
       "      <td>ultimate</td>\n",
       "      <td>1000</td>\n",
       "      <td>30720</td>\n",
       "      <td>3000</td>\n",
       "      <td>70</td>\n",
       "      <td>7</td>\n",
       "      <td>0.01</td>\n",
       "      <td>0.01</td>\n",
       "      <td>0.0</td>\n",
       "      <td>0.0</td>\n",
       "      <td>0.0</td>\n",
       "      <td>70.0</td>\n",
       "    </tr>\n",
       "    <tr>\n",
       "      <th>4</th>\n",
       "      <td>1</td>\n",
       "      <td>1214</td>\n",
       "      <td>16.0</td>\n",
       "      <td>2.0</td>\n",
       "      <td>1315.35</td>\n",
       "      <td>2.0</td>\n",
       "      <td>ultimate</td>\n",
       "      <td>1000</td>\n",
       "      <td>30720</td>\n",
       "      <td>3000</td>\n",
       "      <td>70</td>\n",
       "      <td>7</td>\n",
       "      <td>0.01</td>\n",
       "      <td>0.01</td>\n",
       "      <td>0.0</td>\n",
       "      <td>0.0</td>\n",
       "      <td>0.0</td>\n",
       "      <td>70.0</td>\n",
       "    </tr>\n",
       "  </tbody>\n",
       "</table>\n",
       "</div>"
      ],
      "text/plain": [
       "   month  user_id  call_duration  message_number   mb_used  gb_used      plan  \\\n",
       "0      1     1042          114.0             0.0   1854.93      2.0      surf   \n",
       "1      1     1077          290.0            37.0  10635.64     11.0  ultimate   \n",
       "2      1     1185          181.0             0.0   6812.77      7.0  ultimate   \n",
       "3      1     1196          287.0            23.0   8908.61      9.0  ultimate   \n",
       "4      1     1214           16.0             2.0   1315.35      2.0  ultimate   \n",
       "\n",
       "   messages_included  mb_per_month_included  minutes_included  \\\n",
       "0                 50                  15360               500   \n",
       "1               1000                  30720              3000   \n",
       "2               1000                  30720              3000   \n",
       "3               1000                  30720              3000   \n",
       "4               1000                  30720              3000   \n",
       "\n",
       "   usd_monthly_pay  usd_per_gb  usd_per_message  usd_per_minute  call_xtra  \\\n",
       "0               20          10             0.03            0.03        0.0   \n",
       "1               70           7             0.01            0.01        0.0   \n",
       "2               70           7             0.01            0.01        0.0   \n",
       "3               70           7             0.01            0.01        0.0   \n",
       "4               70           7             0.01            0.01        0.0   \n",
       "\n",
       "   messages_xtra  gb_xtra  cost  \n",
       "0            0.0      0.0  20.0  \n",
       "1            0.0      0.0  70.0  \n",
       "2            0.0      0.0  70.0  \n",
       "3            0.0      0.0  70.0  \n",
       "4            0.0      0.0  70.0  "
      ]
     },
     "execution_count": 45,
     "metadata": {},
     "output_type": "execute_result"
    }
   ],
   "source": [
    "df.head()"
   ]
  },
  {
   "cell_type": "code",
   "execution_count": 46,
   "metadata": {},
   "outputs": [
    {
     "data": {
      "image/png": "[encoded data removed]",
      "text/plain": [
       "<Figure size 432x288 with 1 Axes>"
      ]
     },
     "metadata": {
      "needs_background": "light"
     },
     "output_type": "display_data"
    },
    {
     "data": {
      "image/png": "[encoded data removed]",
      "text/plain": [
       "<Figure size 432x288 with 1 Axes>"
      ]
     },
     "metadata": {
      "needs_background": "light"
     },
     "output_type": "display_data"
    },
    {
     "data": {
      "image/png": "[encoded data removed]",
      "text/plain": [
       "<Figure size 432x288 with 1 Axes>"
      ]
     },
     "metadata": {
      "needs_background": "light"
     },
     "output_type": "display_data"
    },
    {
     "data": {
      "image/png": "[encoded data removed]",
      "text/plain": [
       "<Figure size 432x288 with 1 Axes>"
      ]
     },
     "metadata": {
      "needs_background": "light"
     },
     "output_type": "display_data"
    }
   ],
   "source": [
    "hist_list = [\"call_duration\", \"message_number\", \"gb_used\", \"cost\"]\n",
    "hist_list_expl = [\"call duration in minuts\", \"Number of message sent\",\n",
    "                  \"Internet use in GigaBytes\", \"Cost in US$\"]\n",
    "hist_list_x = [\"Calls minutes\", \"Message number\", \"GigaBytes\", \"US$\"]\n",
    "for tg, te, tx in zip(hist_list, hist_list_expl, hist_list_x):\n",
    "    fig, ax = plt.subplots(squeeze=False)\n",
    "    plt.hist(df[tg], bins=50)\n",
    "    plt.tight_layout()\n",
    "    plt.grid()\n",
    "    plt.title(te, fontsize=17)\n",
    "    plt.xlabel(tx, fontsize=14)\n",
    "    plt.ylabel(\"Number of Useres every month\", fontsize=14)"
   ]
  },
  {
   "cell_type": "markdown",
   "metadata": {},
   "source": [
    "- **observation from the histograms:**\n",
    "1. call duration in minutes\n",
    "\n",
    "the Distribution is T-Distribution the lower side start with 0\n",
    "\n",
    "2. Number of messages\n",
    "\n",
    "most of the user don't send messages, this is normal because there are other alternatives\n",
    "\n",
    "3. Internet usage\n",
    "\n",
    "everyone uses the Internet most uses correspond to the plans limits\n",
    "\n",
    "4. cost\n",
    "\n",
    "the minimum is the first plan fee most users don't pay more than the plan fee (don't use above the plan limits)"
   ]
  },
  {
   "cell_type": "markdown",
   "metadata": {},
   "source": [
    "**Dividing the dataset to two: each for every plan**"
   ]
  },
  {
   "cell_type": "code",
   "execution_count": 47,
   "metadata": {
    "scrolled": true
   },
   "outputs": [
    {
     "name": "stdout",
     "output_type": "stream",
     "text": [
      "number of users in plan surf: 333\n",
      "number of users in plan ultimate: 157\n"
     ]
    }
   ],
   "source": [
    "df_su = df[df[\"plan\"] == \"surf\"]\n",
    "df_ul = df[df[\"plan\"] == \"ultimate\"]\n",
    "print(f\"number of users in plan surf: {len(df_su.groupby('user_id'))}\")\n",
    "print(f\"number of users in plan ultimate: {len(df_ul.groupby('user_id'))}\")"
   ]
  },
  {
   "cell_type": "code",
   "execution_count": 48,
   "metadata": {},
   "outputs": [
    {
     "data": {
      "text/plain": [
       "Text(24.0, 0.5, 'Number of Useres')"
      ]
     },
     "execution_count": 48,
     "metadata": {},
     "output_type": "execute_result"
    },
    {
     "data": {
      "image/png": "[encoded data removed]",
      "text/plain": [
       "<Figure size 432x288 with 1 Axes>"
      ]
     },
     "metadata": {
      "needs_background": "light"
     },
     "output_type": "display_data"
    }
   ],
   "source": [
    "bar_x = [\"surf\", \"ultimate\"]\n",
    "bar_y = [len(df_su.groupby('user_id')), len(df_ul.groupby('user_id'))]\n",
    "fig, ax = plt.subplots(squeeze=False)\n",
    "plt.bar(x=bar_x, height=bar_y)\n",
    "plt.tight_layout()\n",
    "plt.title(\"Number of users in each plan\", fontsize=17)\n",
    "plt.xlabel(\"plan\", fontsize=14)\n",
    "plt.ylabel(\"Number of Useres\", fontsize=14)"
   ]
  },
  {
   "cell_type": "code",
   "execution_count": 49,
   "metadata": {},
   "outputs": [
    {
     "data": {
      "image/png": "[encoded data removed]",
      "text/plain": [
       "<Figure size 432x288 with 1 Axes>"
      ]
     },
     "metadata": {
      "needs_background": "light"
     },
     "output_type": "display_data"
    },
    {
     "data": {
      "image/png": "[encoded data removed]",
      "text/plain": [
       "<Figure size 432x288 with 1 Axes>"
      ]
     },
     "metadata": {
      "needs_background": "light"
     },
     "output_type": "display_data"
    },
    {
     "data": {
      "image/png": "[encoded data removed]",
      "text/plain": [
       "<Figure size 432x288 with 1 Axes>"
      ]
     },
     "metadata": {
      "needs_background": "light"
     },
     "output_type": "display_data"
    },
    {
     "data": {
      "image/png": "[encoded data removed]",
      "text/plain": [
       "<Figure size 432x288 with 1 Axes>"
      ]
     },
     "metadata": {
      "needs_background": "light"
     },
     "output_type": "display_data"
    }
   ],
   "source": [
    "hist_list = [\"call_duration\", \"message_number\", \"gb_used\", \"cost\"]\n",
    "hist_list_expl = [\"call duration in minuts\", \"Number of message sent\",\n",
    "                  \"Internet use in GigaBytes\", \"Cost in US$\"]\n",
    "hist_list_x = [\"Calls minuts\", \"Message number\", \"GigaBytes\", \"US$\"]\n",
    "for tg, te, tx in zip(hist_list, hist_list_expl, hist_list_x):\n",
    "    fig, ax = plt.subplots(squeeze=False)\n",
    "    plt.hist(df_su[tg], bins=50)\n",
    "    plt.tight_layout()\n",
    "    plt.grid()\n",
    "    plt.title(te + \" plan SURF\", fontsize=17)\n",
    "    plt.xlabel(tx, fontsize=14)\n",
    "    plt.ylabel(\"Number of Useres every month\", fontsize=14)"
   ]
  },
  {
   "cell_type": "markdown",
   "metadata": {},
   "source": [
    "**conclusion:**\n",
    "the call duration distribute similar to the overall distribution\n",
    "here also most users don't send messages\n",
    "Internet usage is like in the overall, maybe the users doesn't understand the limits of the plan - the company can try to sell them the ultimate plan\n",
    "most of the users dot pay more than the plan fee"
   ]
  },
  {
   "cell_type": "code",
   "execution_count": 50,
   "metadata": {},
   "outputs": [
    {
     "data": {
      "image/png": "[encoded data removed]",
      "text/plain": [
       "<Figure size 432x288 with 1 Axes>"
      ]
     },
     "metadata": {
      "needs_background": "light"
     },
     "output_type": "display_data"
    },
    {
     "data": {
      "image/png": "[encoded data removed]",
      "text/plain": [
       "<Figure size 432x288 with 1 Axes>"
      ]
     },
     "metadata": {
      "needs_background": "light"
     },
     "output_type": "display_data"
    },
    {
     "data": {
      "image/png": "[encoded data removed]",
      "text/plain": [
       "<Figure size 432x288 with 1 Axes>"
      ]
     },
     "metadata": {
      "needs_background": "light"
     },
     "output_type": "display_data"
    },
    {
     "data": {
      "image/png": "[encoded data removed]",
      "text/plain": [
       "<Figure size 432x288 with 1 Axes>"
      ]
     },
     "metadata": {
      "needs_background": "light"
     },
     "output_type": "display_data"
    }
   ],
   "source": [
    "hist_list = [\"call_duration\", \"message_number\", \"gb_used\", \"cost\"]\n",
    "hist_list_expl = [\"call duration in minuts\", \"Number of message sent\",\n",
    "                  \"Internet use in GigaBytes\", \"Cost in US$\"]\n",
    "hist_list_x = [\"Calls minuts\", \"Message number\", \"GigaBytes\", \"US$\"]\n",
    "for tg, te, tx in zip(hist_list, hist_list_expl, hist_list_x):\n",
    "    fig, ax = plt.subplots(squeeze=False)\n",
    "    plt.hist(df_ul[tg], bins=50)\n",
    "    plt.tight_layout()\n",
    "    plt.grid()\n",
    "    plt.title(te + \" plan ULTIMATE\", fontsize=17)\n",
    "    plt.xlabel(tx, fontsize=14)\n",
    "    plt.ylabel(\"Number of Useres every month\", fontsize=14)"
   ]
  },
  {
   "cell_type": "markdown",
   "metadata": {},
   "source": [
    "**conclusion:**\n",
    "the call duration distribute simmilar to the overall distribution\n",
    "here also most users don't send messages\n",
    "Internet usage is similar to normal distribution. there are gaps in several bins in the graph. the company should explain it.\n",
    "most of the users don't pay more than the plan fee"
   ]
  },
  {
   "cell_type": "code",
   "execution_count": 51,
   "metadata": {
    "scrolled": true
   },
   "outputs": [
    {
     "data": {
      "image/png": "[encoded data removed]",
      "text/plain": [
       "<Figure size 432x288 with 1 Axes>"
      ]
     },
     "metadata": {
      "needs_background": "light"
     },
     "output_type": "display_data"
    },
    {
     "data": {
      "image/png": "[encoded data removed]",
      "text/plain": [
       "<Figure size 432x288 with 1 Axes>"
      ]
     },
     "metadata": {
      "needs_background": "light"
     },
     "output_type": "display_data"
    },
    {
     "data": {
      "image/png": "[encoded data removed]",
      "text/plain": [
       "<Figure size 432x288 with 1 Axes>"
      ]
     },
     "metadata": {
      "needs_background": "light"
     },
     "output_type": "display_data"
    },
    {
     "data": {
      "image/png": "[encoded data removed]",
      "text/plain": [
       "<Figure size 432x288 with 1 Axes>"
      ]
     },
     "metadata": {
      "needs_background": "light"
     },
     "output_type": "display_data"
    }
   ],
   "source": [
    "hist_list = [\"call_duration\", \"message_number\", \"gb_used\", \"cost\"]\n",
    "hist_list_expl = [\"call duration in minuts\", \"Number of message sent\",\n",
    "                  \"Internet use in GigaBytes\", \"Cost in US$\"]\n",
    "hist_list_x = [\"Calls minuts\", \"Message number\", \"GigaBytes\", \"US$\"]\n",
    "for tg, te, tx in zip(hist_list, hist_list_expl, hist_list_x):\n",
    "    fig, ax = plt.subplots(squeeze=False)\n",
    "    plt.hist(df[tg], bins=50, label=(\"All \"+tg), alpha=0.3)\n",
    "    plt.hist(df_su[tg], bins=50, label=(\"SURF \"+tg), alpha=0.65)\n",
    "    plt.hist(df_ul[tg], bins=50, label=(\"ULTIMATE \"+tg))\n",
    "    plt.tight_layout()\n",
    "    plt.grid()\n",
    "    plt.title(te, fontsize=17)\n",
    "    plt.xlabel(tx, fontsize=14)\n",
    "    plt.ylabel(\"Number of Useres every month\", fontsize=14)\n",
    "    plt.legend()"
   ]
  },
  {
   "cell_type": "markdown",
   "metadata": {},
   "source": [
    "**observation**\n",
    "on the price, most of the users pay the plan fee without extras\n",
    "The distributions of call minutes are similar in both plans\n",
    "The distributions of Gigabyte used are similar in both plans\n",
    "Most of the cost in each plan is the base fee"
   ]
  },
  {
   "cell_type": "markdown",
   "metadata": {},
   "source": [
    "**Checking the minutes:**\n",
    "calculating pivot table for every user, the duration in minutes every month and mean"
   ]
  },
  {
   "cell_type": "code",
   "execution_count": 52,
   "metadata": {
    "scrolled": true
   },
   "outputs": [
    {
     "data": {
      "text/html": [
       "<div>\n",
       "<style scoped>\n",
       "    .dataframe tbody tr th:only-of-type {\n",
       "        vertical-align: middle;\n",
       "    }\n",
       "\n",
       "    .dataframe tbody tr th {\n",
       "        vertical-align: top;\n",
       "    }\n",
       "\n",
       "    .dataframe thead th {\n",
       "        text-align: right;\n",
       "    }\n",
       "</style>\n",
       "<table border=\"1\" class=\"dataframe\">\n",
       "  <thead>\n",
       "    <tr style=\"text-align: right;\">\n",
       "      <th></th>\n",
       "      <th>1</th>\n",
       "      <th>2</th>\n",
       "      <th>3</th>\n",
       "      <th>4</th>\n",
       "      <th>5</th>\n",
       "      <th>6</th>\n",
       "      <th>7</th>\n",
       "      <th>8</th>\n",
       "      <th>9</th>\n",
       "      <th>10</th>\n",
       "      <th>11</th>\n",
       "      <th>12</th>\n",
       "      <th>All</th>\n",
       "    </tr>\n",
       "    <tr>\n",
       "      <th>user_id</th>\n",
       "      <th></th>\n",
       "      <th></th>\n",
       "      <th></th>\n",
       "      <th></th>\n",
       "      <th></th>\n",
       "      <th></th>\n",
       "      <th></th>\n",
       "      <th></th>\n",
       "      <th></th>\n",
       "      <th></th>\n",
       "      <th></th>\n",
       "      <th></th>\n",
       "      <th></th>\n",
       "    </tr>\n",
       "  </thead>\n",
       "  <tbody>\n",
       "    <tr>\n",
       "      <th>1495</th>\n",
       "      <td>0</td>\n",
       "      <td>0</td>\n",
       "      <td>0</td>\n",
       "      <td>0.00</td>\n",
       "      <td>0.00</td>\n",
       "      <td>0.000000</td>\n",
       "      <td>0.000000</td>\n",
       "      <td>0.000000</td>\n",
       "      <td>302.000000</td>\n",
       "      <td>610.000000</td>\n",
       "      <td>361.000000</td>\n",
       "      <td>492.000000</td>\n",
       "      <td>441.250000</td>\n",
       "    </tr>\n",
       "    <tr>\n",
       "      <th>1496</th>\n",
       "      <td>0</td>\n",
       "      <td>0</td>\n",
       "      <td>0</td>\n",
       "      <td>0.00</td>\n",
       "      <td>0.00</td>\n",
       "      <td>0.000000</td>\n",
       "      <td>0.000000</td>\n",
       "      <td>122.000000</td>\n",
       "      <td>414.000000</td>\n",
       "      <td>317.000000</td>\n",
       "      <td>308.000000</td>\n",
       "      <td>294.000000</td>\n",
       "      <td>291.000000</td>\n",
       "    </tr>\n",
       "    <tr>\n",
       "      <th>1498</th>\n",
       "      <td>0</td>\n",
       "      <td>244</td>\n",
       "      <td>266</td>\n",
       "      <td>365.00</td>\n",
       "      <td>288.00</td>\n",
       "      <td>238.000000</td>\n",
       "      <td>321.000000</td>\n",
       "      <td>266.000000</td>\n",
       "      <td>363.000000</td>\n",
       "      <td>298.000000</td>\n",
       "      <td>223.000000</td>\n",
       "      <td>339.000000</td>\n",
       "      <td>291.909091</td>\n",
       "    </tr>\n",
       "    <tr>\n",
       "      <th>1499</th>\n",
       "      <td>0</td>\n",
       "      <td>0</td>\n",
       "      <td>0</td>\n",
       "      <td>0.00</td>\n",
       "      <td>0.00</td>\n",
       "      <td>0.000000</td>\n",
       "      <td>0.000000</td>\n",
       "      <td>0.000000</td>\n",
       "      <td>346.000000</td>\n",
       "      <td>385.000000</td>\n",
       "      <td>308.000000</td>\n",
       "      <td>496.000000</td>\n",
       "      <td>383.750000</td>\n",
       "    </tr>\n",
       "    <tr>\n",
       "      <th>All</th>\n",
       "      <td>203</td>\n",
       "      <td>297</td>\n",
       "      <td>330</td>\n",
       "      <td>351.54</td>\n",
       "      <td>410.24</td>\n",
       "      <td>435.791667</td>\n",
       "      <td>453.733333</td>\n",
       "      <td>417.849057</td>\n",
       "      <td>420.732984</td>\n",
       "      <td>440.891775</td>\n",
       "      <td>432.494585</td>\n",
       "      <td>484.501608</td>\n",
       "      <td>436.802461</td>\n",
       "    </tr>\n",
       "  </tbody>\n",
       "</table>\n",
       "</div>"
      ],
      "text/plain": [
       "           1    2    3       4       5           6           7           8  \\\n",
       "user_id                                                                      \n",
       "1495       0    0    0    0.00    0.00    0.000000    0.000000    0.000000   \n",
       "1496       0    0    0    0.00    0.00    0.000000    0.000000  122.000000   \n",
       "1498       0  244  266  365.00  288.00  238.000000  321.000000  266.000000   \n",
       "1499       0    0    0    0.00    0.00    0.000000    0.000000    0.000000   \n",
       "All      203  297  330  351.54  410.24  435.791667  453.733333  417.849057   \n",
       "\n",
       "                  9          10          11          12         All  \n",
       "user_id                                                              \n",
       "1495     302.000000  610.000000  361.000000  492.000000  441.250000  \n",
       "1496     414.000000  317.000000  308.000000  294.000000  291.000000  \n",
       "1498     363.000000  298.000000  223.000000  339.000000  291.909091  \n",
       "1499     346.000000  385.000000  308.000000  496.000000  383.750000  \n",
       "All      420.732984  440.891775  432.494585  484.501608  436.802461  "
      ]
     },
     "execution_count": 52,
     "metadata": {},
     "output_type": "execute_result"
    }
   ],
   "source": [
    "df_su_pivot = df_su.pivot_table(values=\"call_duration\", index=\"user_id\",\n",
    "                                columns=\"month\", fill_value=0, aggfunc=[\"mean\"], margins=True)\n",
    "df_su_pivot.columns = [1, 2, 3, 4, 5, 6, 7, 8, 9, 10, 11, 12, \"All\"]\n",
    "df_su_pivot.tail()"
   ]
  },
  {
   "cell_type": "code",
   "execution_count": 53,
   "metadata": {},
   "outputs": [
    {
     "data": {
      "text/html": [
       "<div>\n",
       "<style scoped>\n",
       "    .dataframe tbody tr th:only-of-type {\n",
       "        vertical-align: middle;\n",
       "    }\n",
       "\n",
       "    .dataframe tbody tr th {\n",
       "        vertical-align: top;\n",
       "    }\n",
       "\n",
       "    .dataframe thead th {\n",
       "        text-align: right;\n",
       "    }\n",
       "</style>\n",
       "<table border=\"1\" class=\"dataframe\">\n",
       "  <thead>\n",
       "    <tr style=\"text-align: right;\">\n",
       "      <th></th>\n",
       "      <th>All</th>\n",
       "    </tr>\n",
       "  </thead>\n",
       "  <tbody>\n",
       "    <tr>\n",
       "      <th>1</th>\n",
       "      <td>203.00</td>\n",
       "    </tr>\n",
       "    <tr>\n",
       "      <th>2</th>\n",
       "      <td>297.00</td>\n",
       "    </tr>\n",
       "    <tr>\n",
       "      <th>3</th>\n",
       "      <td>330.00</td>\n",
       "    </tr>\n",
       "    <tr>\n",
       "      <th>4</th>\n",
       "      <td>351.54</td>\n",
       "    </tr>\n",
       "    <tr>\n",
       "      <th>5</th>\n",
       "      <td>410.24</td>\n",
       "    </tr>\n",
       "  </tbody>\n",
       "</table>\n",
       "</div>"
      ],
      "text/plain": [
       "      All\n",
       "1  203.00\n",
       "2  297.00\n",
       "3  330.00\n",
       "4  351.54\n",
       "5  410.24"
      ]
     },
     "execution_count": 53,
     "metadata": {},
     "output_type": "execute_result"
    }
   ],
   "source": [
    "df_su_pivot_mean = df_su_pivot.loc[\"All\", :].to_frame()\n",
    "df_su_pivot_mean.head()"
   ]
  },
  {
   "cell_type": "code",
   "execution_count": 54,
   "metadata": {},
   "outputs": [
    {
     "data": {
      "text/html": [
       "<div>\n",
       "<style scoped>\n",
       "    .dataframe tbody tr th:only-of-type {\n",
       "        vertical-align: middle;\n",
       "    }\n",
       "\n",
       "    .dataframe tbody tr th {\n",
       "        vertical-align: top;\n",
       "    }\n",
       "\n",
       "    .dataframe thead th {\n",
       "        text-align: right;\n",
       "    }\n",
       "</style>\n",
       "<table border=\"1\" class=\"dataframe\">\n",
       "  <thead>\n",
       "    <tr style=\"text-align: right;\">\n",
       "      <th></th>\n",
       "      <th>1</th>\n",
       "      <th>2</th>\n",
       "      <th>3</th>\n",
       "      <th>4</th>\n",
       "      <th>5</th>\n",
       "      <th>6</th>\n",
       "      <th>7</th>\n",
       "      <th>8</th>\n",
       "      <th>9</th>\n",
       "      <th>10</th>\n",
       "      <th>11</th>\n",
       "      <th>12</th>\n",
       "      <th>All</th>\n",
       "    </tr>\n",
       "    <tr>\n",
       "      <th>user_id</th>\n",
       "      <th></th>\n",
       "      <th></th>\n",
       "      <th></th>\n",
       "      <th></th>\n",
       "      <th></th>\n",
       "      <th></th>\n",
       "      <th></th>\n",
       "      <th></th>\n",
       "      <th></th>\n",
       "      <th></th>\n",
       "      <th></th>\n",
       "      <th></th>\n",
       "      <th></th>\n",
       "    </tr>\n",
       "  </thead>\n",
       "  <tbody>\n",
       "    <tr>\n",
       "      <th>1487</th>\n",
       "      <td>0.0</td>\n",
       "      <td>0.000000</td>\n",
       "      <td>0.00</td>\n",
       "      <td>0.000000</td>\n",
       "      <td>0.000000</td>\n",
       "      <td>0.000000</td>\n",
       "      <td>0.000000</td>\n",
       "      <td>0.00000</td>\n",
       "      <td>0.000000</td>\n",
       "      <td>0.000000</td>\n",
       "      <td>0.00</td>\n",
       "      <td>416.000000</td>\n",
       "      <td>416.000000</td>\n",
       "    </tr>\n",
       "    <tr>\n",
       "      <th>1490</th>\n",
       "      <td>0.0</td>\n",
       "      <td>0.000000</td>\n",
       "      <td>0.00</td>\n",
       "      <td>0.000000</td>\n",
       "      <td>0.000000</td>\n",
       "      <td>0.000000</td>\n",
       "      <td>126.000000</td>\n",
       "      <td>517.00000</td>\n",
       "      <td>526.000000</td>\n",
       "      <td>253.000000</td>\n",
       "      <td>448.00</td>\n",
       "      <td>368.000000</td>\n",
       "      <td>373.000000</td>\n",
       "    </tr>\n",
       "    <tr>\n",
       "      <th>1493</th>\n",
       "      <td>0.0</td>\n",
       "      <td>0.000000</td>\n",
       "      <td>0.00</td>\n",
       "      <td>0.000000</td>\n",
       "      <td>0.000000</td>\n",
       "      <td>0.000000</td>\n",
       "      <td>0.000000</td>\n",
       "      <td>373.00000</td>\n",
       "      <td>529.000000</td>\n",
       "      <td>450.000000</td>\n",
       "      <td>500.00</td>\n",
       "      <td>473.000000</td>\n",
       "      <td>465.000000</td>\n",
       "    </tr>\n",
       "    <tr>\n",
       "      <th>1497</th>\n",
       "      <td>0.0</td>\n",
       "      <td>0.000000</td>\n",
       "      <td>0.00</td>\n",
       "      <td>0.000000</td>\n",
       "      <td>0.000000</td>\n",
       "      <td>0.000000</td>\n",
       "      <td>0.000000</td>\n",
       "      <td>0.00000</td>\n",
       "      <td>0.000000</td>\n",
       "      <td>0.000000</td>\n",
       "      <td>0.00</td>\n",
       "      <td>300.000000</td>\n",
       "      <td>300.000000</td>\n",
       "    </tr>\n",
       "    <tr>\n",
       "      <th>All</th>\n",
       "      <td>193.5</td>\n",
       "      <td>470.333333</td>\n",
       "      <td>304.25</td>\n",
       "      <td>336.857143</td>\n",
       "      <td>406.241379</td>\n",
       "      <td>387.444444</td>\n",
       "      <td>427.067797</td>\n",
       "      <td>421.43662</td>\n",
       "      <td>437.511628</td>\n",
       "      <td>455.028571</td>\n",
       "      <td>452.32</td>\n",
       "      <td>465.261745</td>\n",
       "      <td>435.286517</td>\n",
       "    </tr>\n",
       "  </tbody>\n",
       "</table>\n",
       "</div>"
      ],
      "text/plain": [
       "             1           2       3           4           5           6  \\\n",
       "user_id                                                                  \n",
       "1487       0.0    0.000000    0.00    0.000000    0.000000    0.000000   \n",
       "1490       0.0    0.000000    0.00    0.000000    0.000000    0.000000   \n",
       "1493       0.0    0.000000    0.00    0.000000    0.000000    0.000000   \n",
       "1497       0.0    0.000000    0.00    0.000000    0.000000    0.000000   \n",
       "All      193.5  470.333333  304.25  336.857143  406.241379  387.444444   \n",
       "\n",
       "                  7          8           9          10      11          12  \\\n",
       "user_id                                                                      \n",
       "1487       0.000000    0.00000    0.000000    0.000000    0.00  416.000000   \n",
       "1490     126.000000  517.00000  526.000000  253.000000  448.00  368.000000   \n",
       "1493       0.000000  373.00000  529.000000  450.000000  500.00  473.000000   \n",
       "1497       0.000000    0.00000    0.000000    0.000000    0.00  300.000000   \n",
       "All      427.067797  421.43662  437.511628  455.028571  452.32  465.261745   \n",
       "\n",
       "                All  \n",
       "user_id              \n",
       "1487     416.000000  \n",
       "1490     373.000000  \n",
       "1493     465.000000  \n",
       "1497     300.000000  \n",
       "All      435.286517  "
      ]
     },
     "execution_count": 54,
     "metadata": {},
     "output_type": "execute_result"
    }
   ],
   "source": [
    "df_ul_pivot = df_ul.pivot_table(values=\"call_duration\", index=\"user_id\",\n",
    "                                columns=\"month\", fill_value=0, aggfunc=[\"mean\"], margins=True)\n",
    "df_ul_pivot.columns = [1, 2, 3, 4, 5, 6, 7, 8, 9, 10, 11, 12, \"All\"]\n",
    "df_ul_pivot.tail()"
   ]
  },
  {
   "cell_type": "code",
   "execution_count": 55,
   "metadata": {},
   "outputs": [],
   "source": [
    "df_ul_pivot_mean = df_ul_pivot.loc[\"All\", :].to_frame()"
   ]
  },
  {
   "cell_type": "code",
   "execution_count": 56,
   "metadata": {
    "scrolled": true
   },
   "outputs": [
    {
     "name": "stdout",
     "output_type": "stream",
     "text": [
      "comparing the mean of the to plans (surf and ultimate) for every month in minutes calls\n"
     ]
    },
    {
     "data": {
      "text/html": [
       "<div>\n",
       "<style scoped>\n",
       "    .dataframe tbody tr th:only-of-type {\n",
       "        vertical-align: middle;\n",
       "    }\n",
       "\n",
       "    .dataframe tbody tr th {\n",
       "        vertical-align: top;\n",
       "    }\n",
       "\n",
       "    .dataframe thead th {\n",
       "        text-align: right;\n",
       "    }\n",
       "</style>\n",
       "<table border=\"1\" class=\"dataframe\">\n",
       "  <thead>\n",
       "    <tr style=\"text-align: right;\">\n",
       "      <th></th>\n",
       "      <th>All_surf-mean_minutes</th>\n",
       "      <th>All_ultimate-mean_minutes</th>\n",
       "    </tr>\n",
       "  </thead>\n",
       "  <tbody>\n",
       "    <tr>\n",
       "      <th>1</th>\n",
       "      <td>203.000000</td>\n",
       "      <td>193.500000</td>\n",
       "    </tr>\n",
       "    <tr>\n",
       "      <th>2</th>\n",
       "      <td>297.000000</td>\n",
       "      <td>470.333333</td>\n",
       "    </tr>\n",
       "    <tr>\n",
       "      <th>3</th>\n",
       "      <td>330.000000</td>\n",
       "      <td>304.250000</td>\n",
       "    </tr>\n",
       "    <tr>\n",
       "      <th>4</th>\n",
       "      <td>351.540000</td>\n",
       "      <td>336.857143</td>\n",
       "    </tr>\n",
       "    <tr>\n",
       "      <th>5</th>\n",
       "      <td>410.240000</td>\n",
       "      <td>406.241379</td>\n",
       "    </tr>\n",
       "    <tr>\n",
       "      <th>6</th>\n",
       "      <td>435.791667</td>\n",
       "      <td>387.444444</td>\n",
       "    </tr>\n",
       "    <tr>\n",
       "      <th>7</th>\n",
       "      <td>453.733333</td>\n",
       "      <td>427.067797</td>\n",
       "    </tr>\n",
       "    <tr>\n",
       "      <th>8</th>\n",
       "      <td>417.849057</td>\n",
       "      <td>421.436620</td>\n",
       "    </tr>\n",
       "    <tr>\n",
       "      <th>9</th>\n",
       "      <td>420.732984</td>\n",
       "      <td>437.511628</td>\n",
       "    </tr>\n",
       "    <tr>\n",
       "      <th>10</th>\n",
       "      <td>440.891775</td>\n",
       "      <td>455.028571</td>\n",
       "    </tr>\n",
       "    <tr>\n",
       "      <th>11</th>\n",
       "      <td>432.494585</td>\n",
       "      <td>452.320000</td>\n",
       "    </tr>\n",
       "    <tr>\n",
       "      <th>12</th>\n",
       "      <td>484.501608</td>\n",
       "      <td>465.261745</td>\n",
       "    </tr>\n",
       "    <tr>\n",
       "      <th>All</th>\n",
       "      <td>436.802461</td>\n",
       "      <td>435.286517</td>\n",
       "    </tr>\n",
       "  </tbody>\n",
       "</table>\n",
       "</div>"
      ],
      "text/plain": [
       "     All_surf-mean_minutes  All_ultimate-mean_minutes\n",
       "1               203.000000                 193.500000\n",
       "2               297.000000                 470.333333\n",
       "3               330.000000                 304.250000\n",
       "4               351.540000                 336.857143\n",
       "5               410.240000                 406.241379\n",
       "6               435.791667                 387.444444\n",
       "7               453.733333                 427.067797\n",
       "8               417.849057                 421.436620\n",
       "9               420.732984                 437.511628\n",
       "10              440.891775                 455.028571\n",
       "11              432.494585                 452.320000\n",
       "12              484.501608                 465.261745\n",
       "All             436.802461                 435.286517"
      ]
     },
     "execution_count": 56,
     "metadata": {},
     "output_type": "execute_result"
    }
   ],
   "source": [
    "print(\"comparing the mean of the to plans (surf and ultimate) for every month in minutes calls\")\n",
    "minute_compare = df_su_pivot_mean.join(\n",
    "    df_ul_pivot_mean, how=\"outer\", lsuffix=\"_surf-mean_minutes\", rsuffix=\"_ultimate-mean_minutes\")\n",
    "minute_compare"
   ]
  },
  {
   "cell_type": "code",
   "execution_count": 57,
   "metadata": {
    "scrolled": true
   },
   "outputs": [
    {
     "data": {
      "text/plain": [
       "<matplotlib.legend.Legend at 0x7ffb36f9cca0>"
      ]
     },
     "execution_count": 57,
     "metadata": {},
     "output_type": "execute_result"
    },
    {
     "data": {
      "image/png": "[encoded data removed]",
      "text/plain": [
       "<Figure size 864x576 with 1 Axes>"
      ]
     },
     "metadata": {
      "needs_background": "light"
     },
     "output_type": "display_data"
    }
   ],
   "source": [
    "bar_x = [\"Jan\", \"Feb\", \"Mar\", \"Apr\", \"May\", \"Jun\",\n",
    "         \"Jul\", \"Aug\", \"Sep\", \"Oct\", \"Nov\", \"Dec\", \"ALL\"]\n",
    "# set width of bar\n",
    "barWidth = 0.25\n",
    "fig = plt.subplots(figsize=(12, 8))\n",
    "\n",
    "# set height of bar\n",
    "bar_surf = minute_compare[\"All_surf-mean_minutes\"]\n",
    "bar_ultimate = minute_compare[\"All_ultimate-mean_minutes\"]\n",
    "\n",
    "# Set position of bar on X axis\n",
    "br1 = np.arange(len(bar_surf))\n",
    "br2 = [x + barWidth for x in br1]\n",
    "\n",
    "\n",
    "# Make the plot\n",
    "plt.bar(br1, bar_surf, color='r', width=barWidth,\n",
    "        edgecolor='grey', label='plan - SURF')\n",
    "plt.bar(br2, bar_ultimate, color='g', width=barWidth,\n",
    "        edgecolor='grey', label='plan - ULTIMATE')\n",
    "\n",
    "\n",
    "# Adding Xticks\n",
    "plt.xlabel('Month', fontweight='bold', fontsize=15)\n",
    "plt.ylabel(\"mean of every month in minutes calls\",\n",
    "           fontweight='bold', fontsize=15)\n",
    "plt.xticks([r + barWidth for r in range(len(bar_surf))], bar_x)\n",
    "plt.title(\"comparing the MEAN of the to plans (surf and ultimate) for every month in minutes calls\", fontsize=17)\n",
    "plt.legend()"
   ]
  },
  {
   "cell_type": "markdown",
   "metadata": {},
   "source": [
    "**Conclusion:**\n",
    "comparing the mean of minutes mean for every month, we can see:\n",
    "\n",
    "The mean of the ultimate plan is larger than the mean of the surf plan\n",
    "The mean of the ultimate plan is almost the same all year long\n",
    "The mean of the surf plan is growing from January until August and there it keep steady but below the ultimate plan\n",
    "My"
   ]
  },
  {
   "cell_type": "code",
   "execution_count": 58,
   "metadata": {},
   "outputs": [
    {
     "data": {
      "text/html": [
       "<div>\n",
       "<style scoped>\n",
       "    .dataframe tbody tr th:only-of-type {\n",
       "        vertical-align: middle;\n",
       "    }\n",
       "\n",
       "    .dataframe tbody tr th {\n",
       "        vertical-align: top;\n",
       "    }\n",
       "\n",
       "    .dataframe thead th {\n",
       "        text-align: right;\n",
       "    }\n",
       "</style>\n",
       "<table border=\"1\" class=\"dataframe\">\n",
       "  <thead>\n",
       "    <tr style=\"text-align: right;\">\n",
       "      <th></th>\n",
       "      <th>1</th>\n",
       "      <th>2</th>\n",
       "      <th>3</th>\n",
       "      <th>4</th>\n",
       "      <th>5</th>\n",
       "      <th>6</th>\n",
       "      <th>7</th>\n",
       "      <th>8</th>\n",
       "      <th>9</th>\n",
       "      <th>10</th>\n",
       "      <th>11</th>\n",
       "      <th>12</th>\n",
       "      <th>All</th>\n",
       "      <th>var</th>\n",
       "      <th>std</th>\n",
       "    </tr>\n",
       "    <tr>\n",
       "      <th>user_id</th>\n",
       "      <th></th>\n",
       "      <th></th>\n",
       "      <th></th>\n",
       "      <th></th>\n",
       "      <th></th>\n",
       "      <th></th>\n",
       "      <th></th>\n",
       "      <th></th>\n",
       "      <th></th>\n",
       "      <th></th>\n",
       "      <th></th>\n",
       "      <th></th>\n",
       "      <th></th>\n",
       "      <th></th>\n",
       "      <th></th>\n",
       "    </tr>\n",
       "  </thead>\n",
       "  <tbody>\n",
       "    <tr>\n",
       "      <th>1001</th>\n",
       "      <td>0</td>\n",
       "      <td>0</td>\n",
       "      <td>0</td>\n",
       "      <td>0.0</td>\n",
       "      <td>0.0</td>\n",
       "      <td>0.0</td>\n",
       "      <td>0.0</td>\n",
       "      <td>182.0</td>\n",
       "      <td>315.0</td>\n",
       "      <td>393.0</td>\n",
       "      <td>426.0</td>\n",
       "      <td>412.0</td>\n",
       "      <td>345.600000</td>\n",
       "      <td>35558.517436</td>\n",
       "      <td>188.569662</td>\n",
       "    </tr>\n",
       "    <tr>\n",
       "      <th>1002</th>\n",
       "      <td>0</td>\n",
       "      <td>0</td>\n",
       "      <td>0</td>\n",
       "      <td>0.0</td>\n",
       "      <td>0.0</td>\n",
       "      <td>0.0</td>\n",
       "      <td>0.0</td>\n",
       "      <td>0.0</td>\n",
       "      <td>0.0</td>\n",
       "      <td>59.0</td>\n",
       "      <td>386.0</td>\n",
       "      <td>384.0</td>\n",
       "      <td>276.333333</td>\n",
       "      <td>23525.952991</td>\n",
       "      <td>153.381723</td>\n",
       "    </tr>\n",
       "    <tr>\n",
       "      <th>1003</th>\n",
       "      <td>0</td>\n",
       "      <td>0</td>\n",
       "      <td>0</td>\n",
       "      <td>0.0</td>\n",
       "      <td>0.0</td>\n",
       "      <td>0.0</td>\n",
       "      <td>0.0</td>\n",
       "      <td>0.0</td>\n",
       "      <td>0.0</td>\n",
       "      <td>0.0</td>\n",
       "      <td>0.0</td>\n",
       "      <td>1104.0</td>\n",
       "      <td>1104.000000</td>\n",
       "      <td>171884.307692</td>\n",
       "      <td>414.589324</td>\n",
       "    </tr>\n",
       "    <tr>\n",
       "      <th>1004</th>\n",
       "      <td>0</td>\n",
       "      <td>0</td>\n",
       "      <td>0</td>\n",
       "      <td>0.0</td>\n",
       "      <td>193.0</td>\n",
       "      <td>275.0</td>\n",
       "      <td>381.0</td>\n",
       "      <td>354.0</td>\n",
       "      <td>301.0</td>\n",
       "      <td>365.0</td>\n",
       "      <td>476.0</td>\n",
       "      <td>427.0</td>\n",
       "      <td>346.500000</td>\n",
       "      <td>32338.673077</td>\n",
       "      <td>179.829567</td>\n",
       "    </tr>\n",
       "    <tr>\n",
       "      <th>1005</th>\n",
       "      <td>0</td>\n",
       "      <td>0</td>\n",
       "      <td>0</td>\n",
       "      <td>0.0</td>\n",
       "      <td>0.0</td>\n",
       "      <td>0.0</td>\n",
       "      <td>0.0</td>\n",
       "      <td>0.0</td>\n",
       "      <td>0.0</td>\n",
       "      <td>0.0</td>\n",
       "      <td>0.0</td>\n",
       "      <td>496.0</td>\n",
       "      <td>496.000000</td>\n",
       "      <td>34694.564103</td>\n",
       "      <td>186.264769</td>\n",
       "    </tr>\n",
       "  </tbody>\n",
       "</table>\n",
       "</div>"
      ],
      "text/plain": [
       "         1  2  3    4      5      6      7      8      9     10     11  \\\n",
       "user_id                                                                  \n",
       "1001     0  0  0  0.0    0.0    0.0    0.0  182.0  315.0  393.0  426.0   \n",
       "1002     0  0  0  0.0    0.0    0.0    0.0    0.0    0.0   59.0  386.0   \n",
       "1003     0  0  0  0.0    0.0    0.0    0.0    0.0    0.0    0.0    0.0   \n",
       "1004     0  0  0  0.0  193.0  275.0  381.0  354.0  301.0  365.0  476.0   \n",
       "1005     0  0  0  0.0    0.0    0.0    0.0    0.0    0.0    0.0    0.0   \n",
       "\n",
       "             12          All            var         std  \n",
       "user_id                                                  \n",
       "1001      412.0   345.600000   35558.517436  188.569662  \n",
       "1002      384.0   276.333333   23525.952991  153.381723  \n",
       "1003     1104.0  1104.000000  171884.307692  414.589324  \n",
       "1004      427.0   346.500000   32338.673077  179.829567  \n",
       "1005      496.0   496.000000   34694.564103  186.264769  "
      ]
     },
     "execution_count": 58,
     "metadata": {},
     "output_type": "execute_result"
    }
   ],
   "source": [
    "df_su_pivot[\"var\"] = df_su_pivot.var(axis=1).to_frame()\n",
    "df_su_pivot[\"std\"] = np.sqrt(df_su_pivot[\"var\"])\n",
    "df_su_pivot.head()"
   ]
  },
  {
   "cell_type": "code",
   "execution_count": 59,
   "metadata": {
    "scrolled": true
   },
   "outputs": [
    {
     "data": {
      "text/html": [
       "<div>\n",
       "<style scoped>\n",
       "    .dataframe tbody tr th:only-of-type {\n",
       "        vertical-align: middle;\n",
       "    }\n",
       "\n",
       "    .dataframe tbody tr th {\n",
       "        vertical-align: top;\n",
       "    }\n",
       "\n",
       "    .dataframe thead th {\n",
       "        text-align: right;\n",
       "    }\n",
       "</style>\n",
       "<table border=\"1\" class=\"dataframe\">\n",
       "  <thead>\n",
       "    <tr style=\"text-align: right;\">\n",
       "      <th></th>\n",
       "      <th>1</th>\n",
       "      <th>2</th>\n",
       "      <th>3</th>\n",
       "      <th>4</th>\n",
       "      <th>5</th>\n",
       "      <th>6</th>\n",
       "      <th>7</th>\n",
       "      <th>8</th>\n",
       "      <th>9</th>\n",
       "      <th>10</th>\n",
       "      <th>11</th>\n",
       "      <th>12</th>\n",
       "      <th>All</th>\n",
       "      <th>var</th>\n",
       "      <th>std</th>\n",
       "    </tr>\n",
       "    <tr>\n",
       "      <th>user_id</th>\n",
       "      <th></th>\n",
       "      <th></th>\n",
       "      <th></th>\n",
       "      <th></th>\n",
       "      <th></th>\n",
       "      <th></th>\n",
       "      <th></th>\n",
       "      <th></th>\n",
       "      <th></th>\n",
       "      <th></th>\n",
       "      <th></th>\n",
       "      <th></th>\n",
       "      <th></th>\n",
       "      <th></th>\n",
       "      <th></th>\n",
       "    </tr>\n",
       "  </thead>\n",
       "  <tbody>\n",
       "    <tr>\n",
       "      <th>1000</th>\n",
       "      <td>0.0</td>\n",
       "      <td>0.0</td>\n",
       "      <td>0.0</td>\n",
       "      <td>0.0</td>\n",
       "      <td>0.0</td>\n",
       "      <td>0.0</td>\n",
       "      <td>0.0</td>\n",
       "      <td>0.0</td>\n",
       "      <td>0.0</td>\n",
       "      <td>0.0</td>\n",
       "      <td>0.0</td>\n",
       "      <td>124.0</td>\n",
       "      <td>124.000000</td>\n",
       "      <td>2168.410256</td>\n",
       "      <td>46.566192</td>\n",
       "    </tr>\n",
       "    <tr>\n",
       "      <th>1006</th>\n",
       "      <td>0.0</td>\n",
       "      <td>0.0</td>\n",
       "      <td>0.0</td>\n",
       "      <td>0.0</td>\n",
       "      <td>0.0</td>\n",
       "      <td>0.0</td>\n",
       "      <td>0.0</td>\n",
       "      <td>0.0</td>\n",
       "      <td>0.0</td>\n",
       "      <td>0.0</td>\n",
       "      <td>10.0</td>\n",
       "      <td>59.0</td>\n",
       "      <td>34.500000</td>\n",
       "      <td>328.935897</td>\n",
       "      <td>18.136590</td>\n",
       "    </tr>\n",
       "    <tr>\n",
       "      <th>1008</th>\n",
       "      <td>0.0</td>\n",
       "      <td>0.0</td>\n",
       "      <td>0.0</td>\n",
       "      <td>0.0</td>\n",
       "      <td>0.0</td>\n",
       "      <td>0.0</td>\n",
       "      <td>0.0</td>\n",
       "      <td>0.0</td>\n",
       "      <td>0.0</td>\n",
       "      <td>476.0</td>\n",
       "      <td>446.0</td>\n",
       "      <td>634.0</td>\n",
       "      <td>518.666667</td>\n",
       "      <td>63780.632479</td>\n",
       "      <td>252.548278</td>\n",
       "    </tr>\n",
       "    <tr>\n",
       "      <th>1011</th>\n",
       "      <td>0.0</td>\n",
       "      <td>0.0</td>\n",
       "      <td>0.0</td>\n",
       "      <td>0.0</td>\n",
       "      <td>0.0</td>\n",
       "      <td>118.0</td>\n",
       "      <td>499.0</td>\n",
       "      <td>486.0</td>\n",
       "      <td>484.0</td>\n",
       "      <td>504.0</td>\n",
       "      <td>505.0</td>\n",
       "      <td>311.0</td>\n",
       "      <td>415.285714</td>\n",
       "      <td>55213.035583</td>\n",
       "      <td>234.974542</td>\n",
       "    </tr>\n",
       "    <tr>\n",
       "      <th>1013</th>\n",
       "      <td>0.0</td>\n",
       "      <td>0.0</td>\n",
       "      <td>0.0</td>\n",
       "      <td>0.0</td>\n",
       "      <td>0.0</td>\n",
       "      <td>0.0</td>\n",
       "      <td>0.0</td>\n",
       "      <td>0.0</td>\n",
       "      <td>0.0</td>\n",
       "      <td>0.0</td>\n",
       "      <td>0.0</td>\n",
       "      <td>219.0</td>\n",
       "      <td>219.000000</td>\n",
       "      <td>6763.730769</td>\n",
       "      <td>82.241904</td>\n",
       "    </tr>\n",
       "  </tbody>\n",
       "</table>\n",
       "</div>"
      ],
      "text/plain": [
       "           1    2    3    4    5      6      7      8      9     10     11  \\\n",
       "user_id                                                                      \n",
       "1000     0.0  0.0  0.0  0.0  0.0    0.0    0.0    0.0    0.0    0.0    0.0   \n",
       "1006     0.0  0.0  0.0  0.0  0.0    0.0    0.0    0.0    0.0    0.0   10.0   \n",
       "1008     0.0  0.0  0.0  0.0  0.0    0.0    0.0    0.0    0.0  476.0  446.0   \n",
       "1011     0.0  0.0  0.0  0.0  0.0  118.0  499.0  486.0  484.0  504.0  505.0   \n",
       "1013     0.0  0.0  0.0  0.0  0.0    0.0    0.0    0.0    0.0    0.0    0.0   \n",
       "\n",
       "            12         All           var         std  \n",
       "user_id                                               \n",
       "1000     124.0  124.000000   2168.410256   46.566192  \n",
       "1006      59.0   34.500000    328.935897   18.136590  \n",
       "1008     634.0  518.666667  63780.632479  252.548278  \n",
       "1011     311.0  415.285714  55213.035583  234.974542  \n",
       "1013     219.0  219.000000   6763.730769   82.241904  "
      ]
     },
     "execution_count": 59,
     "metadata": {},
     "output_type": "execute_result"
    }
   ],
   "source": [
    "df_ul_pivot[\"var\"] = df_ul_pivot.var(axis=1).to_frame()\n",
    "df_ul_pivot[\"std\"] = np.sqrt(df_ul_pivot[\"var\"])\n",
    "df_ul_pivot.head()"
   ]
  },
  {
   "cell_type": "markdown",
   "metadata": {},
   "source": [
    "**Checking the messages:**\n",
    "calculating pivot table for every user, the number of messages every month and the mean"
   ]
  },
  {
   "cell_type": "code",
   "execution_count": 60,
   "metadata": {},
   "outputs": [
    {
     "data": {
      "text/html": [
       "<div>\n",
       "<style scoped>\n",
       "    .dataframe tbody tr th:only-of-type {\n",
       "        vertical-align: middle;\n",
       "    }\n",
       "\n",
       "    .dataframe tbody tr th {\n",
       "        vertical-align: top;\n",
       "    }\n",
       "\n",
       "    .dataframe thead th {\n",
       "        text-align: right;\n",
       "    }\n",
       "</style>\n",
       "<table border=\"1\" class=\"dataframe\">\n",
       "  <thead>\n",
       "    <tr style=\"text-align: right;\">\n",
       "      <th></th>\n",
       "      <th>1</th>\n",
       "      <th>2</th>\n",
       "      <th>3</th>\n",
       "      <th>4</th>\n",
       "      <th>5</th>\n",
       "      <th>6</th>\n",
       "      <th>7</th>\n",
       "      <th>8</th>\n",
       "      <th>9</th>\n",
       "      <th>10</th>\n",
       "      <th>11</th>\n",
       "      <th>12</th>\n",
       "      <th>All</th>\n",
       "    </tr>\n",
       "    <tr>\n",
       "      <th>user_id</th>\n",
       "      <th></th>\n",
       "      <th></th>\n",
       "      <th></th>\n",
       "      <th></th>\n",
       "      <th></th>\n",
       "      <th></th>\n",
       "      <th></th>\n",
       "      <th></th>\n",
       "      <th></th>\n",
       "      <th></th>\n",
       "      <th></th>\n",
       "      <th></th>\n",
       "      <th></th>\n",
       "    </tr>\n",
       "  </thead>\n",
       "  <tbody>\n",
       "    <tr>\n",
       "      <th>1001</th>\n",
       "      <td>0.0</td>\n",
       "      <td>0</td>\n",
       "      <td>0.0</td>\n",
       "      <td>0.0</td>\n",
       "      <td>0.0</td>\n",
       "      <td>0.0</td>\n",
       "      <td>0.0</td>\n",
       "      <td>30.0</td>\n",
       "      <td>44.0</td>\n",
       "      <td>53.0</td>\n",
       "      <td>36.0</td>\n",
       "      <td>44.0</td>\n",
       "      <td>41.400000</td>\n",
       "    </tr>\n",
       "    <tr>\n",
       "      <th>1002</th>\n",
       "      <td>0.0</td>\n",
       "      <td>0</td>\n",
       "      <td>0.0</td>\n",
       "      <td>0.0</td>\n",
       "      <td>0.0</td>\n",
       "      <td>0.0</td>\n",
       "      <td>0.0</td>\n",
       "      <td>0.0</td>\n",
       "      <td>0.0</td>\n",
       "      <td>15.0</td>\n",
       "      <td>32.0</td>\n",
       "      <td>41.0</td>\n",
       "      <td>29.333333</td>\n",
       "    </tr>\n",
       "    <tr>\n",
       "      <th>1003</th>\n",
       "      <td>0.0</td>\n",
       "      <td>0</td>\n",
       "      <td>0.0</td>\n",
       "      <td>0.0</td>\n",
       "      <td>0.0</td>\n",
       "      <td>0.0</td>\n",
       "      <td>0.0</td>\n",
       "      <td>0.0</td>\n",
       "      <td>0.0</td>\n",
       "      <td>0.0</td>\n",
       "      <td>0.0</td>\n",
       "      <td>50.0</td>\n",
       "      <td>50.000000</td>\n",
       "    </tr>\n",
       "    <tr>\n",
       "      <th>1004</th>\n",
       "      <td>0.0</td>\n",
       "      <td>0</td>\n",
       "      <td>0.0</td>\n",
       "      <td>0.0</td>\n",
       "      <td>7.0</td>\n",
       "      <td>18.0</td>\n",
       "      <td>26.0</td>\n",
       "      <td>25.0</td>\n",
       "      <td>21.0</td>\n",
       "      <td>24.0</td>\n",
       "      <td>25.0</td>\n",
       "      <td>31.0</td>\n",
       "      <td>22.125000</td>\n",
       "    </tr>\n",
       "    <tr>\n",
       "      <th>1005</th>\n",
       "      <td>0.0</td>\n",
       "      <td>0</td>\n",
       "      <td>0.0</td>\n",
       "      <td>0.0</td>\n",
       "      <td>0.0</td>\n",
       "      <td>0.0</td>\n",
       "      <td>0.0</td>\n",
       "      <td>0.0</td>\n",
       "      <td>0.0</td>\n",
       "      <td>0.0</td>\n",
       "      <td>0.0</td>\n",
       "      <td>11.0</td>\n",
       "      <td>11.000000</td>\n",
       "    </tr>\n",
       "  </tbody>\n",
       "</table>\n",
       "</div>"
      ],
      "text/plain": [
       "           1  2    3    4    5     6     7     8     9    10    11    12  \\\n",
       "user_id                                                                    \n",
       "1001     0.0  0  0.0  0.0  0.0   0.0   0.0  30.0  44.0  53.0  36.0  44.0   \n",
       "1002     0.0  0  0.0  0.0  0.0   0.0   0.0   0.0   0.0  15.0  32.0  41.0   \n",
       "1003     0.0  0  0.0  0.0  0.0   0.0   0.0   0.0   0.0   0.0   0.0  50.0   \n",
       "1004     0.0  0  0.0  0.0  7.0  18.0  26.0  25.0  21.0  24.0  25.0  31.0   \n",
       "1005     0.0  0  0.0  0.0  0.0   0.0   0.0   0.0   0.0   0.0   0.0  11.0   \n",
       "\n",
       "               All  \n",
       "user_id             \n",
       "1001     41.400000  \n",
       "1002     29.333333  \n",
       "1003     50.000000  \n",
       "1004     22.125000  \n",
       "1005     11.000000  "
      ]
     },
     "execution_count": 60,
     "metadata": {},
     "output_type": "execute_result"
    }
   ],
   "source": [
    "df_su_pivot = df_su.pivot_table(values=\"message_number\", index=\"user_id\",\n",
    "                                columns=\"month\", fill_value=0, aggfunc=[\"mean\"], margins=True)\n",
    "df_su_pivot.columns = [1, 2, 3, 4, 5, 6, 7, 8, 9, 10, 11, 12, \"All\"]\n",
    "df_su_pivot.head()"
   ]
  },
  {
   "cell_type": "code",
   "execution_count": 61,
   "metadata": {},
   "outputs": [],
   "source": [
    "df_su_pivot_mean = df_su_pivot.loc[\"All\", :].to_frame()\n"
   ]
  },
  {
   "cell_type": "code",
   "execution_count": 62,
   "metadata": {
    "scrolled": true
   },
   "outputs": [
    {
     "data": {
      "text/html": [
       "<div>\n",
       "<style scoped>\n",
       "    .dataframe tbody tr th:only-of-type {\n",
       "        vertical-align: middle;\n",
       "    }\n",
       "\n",
       "    .dataframe tbody tr th {\n",
       "        vertical-align: top;\n",
       "    }\n",
       "\n",
       "    .dataframe thead th {\n",
       "        text-align: right;\n",
       "    }\n",
       "</style>\n",
       "<table border=\"1\" class=\"dataframe\">\n",
       "  <thead>\n",
       "    <tr style=\"text-align: right;\">\n",
       "      <th></th>\n",
       "      <th>1</th>\n",
       "      <th>2</th>\n",
       "      <th>3</th>\n",
       "      <th>4</th>\n",
       "      <th>5</th>\n",
       "      <th>6</th>\n",
       "      <th>7</th>\n",
       "      <th>8</th>\n",
       "      <th>9</th>\n",
       "      <th>10</th>\n",
       "      <th>11</th>\n",
       "      <th>12</th>\n",
       "      <th>All</th>\n",
       "    </tr>\n",
       "    <tr>\n",
       "      <th>user_id</th>\n",
       "      <th></th>\n",
       "      <th></th>\n",
       "      <th></th>\n",
       "      <th></th>\n",
       "      <th></th>\n",
       "      <th></th>\n",
       "      <th></th>\n",
       "      <th></th>\n",
       "      <th></th>\n",
       "      <th></th>\n",
       "      <th></th>\n",
       "      <th></th>\n",
       "      <th></th>\n",
       "    </tr>\n",
       "  </thead>\n",
       "  <tbody>\n",
       "    <tr>\n",
       "      <th>1000</th>\n",
       "      <td>0.0</td>\n",
       "      <td>0.0</td>\n",
       "      <td>0.0</td>\n",
       "      <td>0.0</td>\n",
       "      <td>0.0</td>\n",
       "      <td>0.0</td>\n",
       "      <td>0.0</td>\n",
       "      <td>0.0</td>\n",
       "      <td>0.0</td>\n",
       "      <td>0.0</td>\n",
       "      <td>0.0</td>\n",
       "      <td>11.0</td>\n",
       "      <td>11.0</td>\n",
       "    </tr>\n",
       "    <tr>\n",
       "      <th>1006</th>\n",
       "      <td>0.0</td>\n",
       "      <td>0.0</td>\n",
       "      <td>0.0</td>\n",
       "      <td>0.0</td>\n",
       "      <td>0.0</td>\n",
       "      <td>0.0</td>\n",
       "      <td>0.0</td>\n",
       "      <td>0.0</td>\n",
       "      <td>0.0</td>\n",
       "      <td>0.0</td>\n",
       "      <td>15.0</td>\n",
       "      <td>139.0</td>\n",
       "      <td>77.0</td>\n",
       "    </tr>\n",
       "    <tr>\n",
       "      <th>1008</th>\n",
       "      <td>0.0</td>\n",
       "      <td>0.0</td>\n",
       "      <td>0.0</td>\n",
       "      <td>0.0</td>\n",
       "      <td>0.0</td>\n",
       "      <td>0.0</td>\n",
       "      <td>0.0</td>\n",
       "      <td>0.0</td>\n",
       "      <td>0.0</td>\n",
       "      <td>21.0</td>\n",
       "      <td>37.0</td>\n",
       "      <td>26.0</td>\n",
       "      <td>28.0</td>\n",
       "    </tr>\n",
       "    <tr>\n",
       "      <th>1011</th>\n",
       "      <td>0.0</td>\n",
       "      <td>0.0</td>\n",
       "      <td>0.0</td>\n",
       "      <td>0.0</td>\n",
       "      <td>0.0</td>\n",
       "      <td>21.0</td>\n",
       "      <td>53.0</td>\n",
       "      <td>54.0</td>\n",
       "      <td>60.0</td>\n",
       "      <td>64.0</td>\n",
       "      <td>58.0</td>\n",
       "      <td>61.0</td>\n",
       "      <td>53.0</td>\n",
       "    </tr>\n",
       "    <tr>\n",
       "      <th>1013</th>\n",
       "      <td>0.0</td>\n",
       "      <td>0.0</td>\n",
       "      <td>0.0</td>\n",
       "      <td>0.0</td>\n",
       "      <td>0.0</td>\n",
       "      <td>0.0</td>\n",
       "      <td>0.0</td>\n",
       "      <td>0.0</td>\n",
       "      <td>0.0</td>\n",
       "      <td>0.0</td>\n",
       "      <td>0.0</td>\n",
       "      <td>16.0</td>\n",
       "      <td>16.0</td>\n",
       "    </tr>\n",
       "  </tbody>\n",
       "</table>\n",
       "</div>"
      ],
      "text/plain": [
       "           1    2    3    4    5     6     7     8     9    10    11     12  \\\n",
       "user_id                                                                       \n",
       "1000     0.0  0.0  0.0  0.0  0.0   0.0   0.0   0.0   0.0   0.0   0.0   11.0   \n",
       "1006     0.0  0.0  0.0  0.0  0.0   0.0   0.0   0.0   0.0   0.0  15.0  139.0   \n",
       "1008     0.0  0.0  0.0  0.0  0.0   0.0   0.0   0.0   0.0  21.0  37.0   26.0   \n",
       "1011     0.0  0.0  0.0  0.0  0.0  21.0  53.0  54.0  60.0  64.0  58.0   61.0   \n",
       "1013     0.0  0.0  0.0  0.0  0.0   0.0   0.0   0.0   0.0   0.0   0.0   16.0   \n",
       "\n",
       "          All  \n",
       "user_id        \n",
       "1000     11.0  \n",
       "1006     77.0  \n",
       "1008     28.0  \n",
       "1011     53.0  \n",
       "1013     16.0  "
      ]
     },
     "execution_count": 62,
     "metadata": {},
     "output_type": "execute_result"
    }
   ],
   "source": [
    "df_ul_pivot = df_ul.pivot_table(values=\"message_number\", index=\"user_id\",\n",
    "                                columns=\"month\", fill_value=0, aggfunc=[\"mean\"], margins=True)\n",
    "df_ul_pivot.columns = [1, 2, 3, 4, 5, 6, 7, 8, 9, 10, 11, 12, \"All\"]\n",
    "df_ul_pivot.head()"
   ]
  },
  {
   "cell_type": "code",
   "execution_count": 63,
   "metadata": {},
   "outputs": [],
   "source": [
    "df_ul_pivot_mean = df_ul_pivot.loc[\"All\", :].to_frame()"
   ]
  },
  {
   "cell_type": "code",
   "execution_count": 64,
   "metadata": {
    "scrolled": true
   },
   "outputs": [
    {
     "name": "stdout",
     "output_type": "stream",
     "text": [
      "comparing the mean of the to plans (surf and ultimate) for every month in number of messages\n"
     ]
    },
    {
     "data": {
      "text/html": [
       "<div>\n",
       "<style scoped>\n",
       "    .dataframe tbody tr th:only-of-type {\n",
       "        vertical-align: middle;\n",
       "    }\n",
       "\n",
       "    .dataframe tbody tr th {\n",
       "        vertical-align: top;\n",
       "    }\n",
       "\n",
       "    .dataframe thead th {\n",
       "        text-align: right;\n",
       "    }\n",
       "</style>\n",
       "<table border=\"1\" class=\"dataframe\">\n",
       "  <thead>\n",
       "    <tr style=\"text-align: right;\">\n",
       "      <th></th>\n",
       "      <th>All_surf-mean messages</th>\n",
       "      <th>All_ultimate-mean messages</th>\n",
       "    </tr>\n",
       "  </thead>\n",
       "  <tbody>\n",
       "    <tr>\n",
       "      <th>1</th>\n",
       "      <td>10.500000</td>\n",
       "      <td>15.500000</td>\n",
       "    </tr>\n",
       "    <tr>\n",
       "      <th>2</th>\n",
       "      <td>12.000000</td>\n",
       "      <td>21.571429</td>\n",
       "    </tr>\n",
       "    <tr>\n",
       "      <th>3</th>\n",
       "      <td>15.260870</td>\n",
       "      <td>20.250000</td>\n",
       "    </tr>\n",
       "    <tr>\n",
       "      <th>4</th>\n",
       "      <td>17.400000</td>\n",
       "      <td>22.047619</td>\n",
       "    </tr>\n",
       "    <tr>\n",
       "      <th>5</th>\n",
       "      <td>24.012987</td>\n",
       "      <td>32.103448</td>\n",
       "    </tr>\n",
       "    <tr>\n",
       "      <th>6</th>\n",
       "      <td>25.298969</td>\n",
       "      <td>29.340426</td>\n",
       "    </tr>\n",
       "    <tr>\n",
       "      <th>7</th>\n",
       "      <td>27.033058</td>\n",
       "      <td>32.830508</td>\n",
       "    </tr>\n",
       "    <tr>\n",
       "      <th>8</th>\n",
       "      <td>28.777778</td>\n",
       "      <td>38.478873</td>\n",
       "    </tr>\n",
       "    <tr>\n",
       "      <th>9</th>\n",
       "      <td>30.762887</td>\n",
       "      <td>37.895349</td>\n",
       "    </tr>\n",
       "    <tr>\n",
       "      <th>10</th>\n",
       "      <td>33.839662</td>\n",
       "      <td>39.443396</td>\n",
       "    </tr>\n",
       "    <tr>\n",
       "      <th>11</th>\n",
       "      <td>32.385159</td>\n",
       "      <td>38.606299</td>\n",
       "    </tr>\n",
       "    <tr>\n",
       "      <th>12</th>\n",
       "      <td>38.600629</td>\n",
       "      <td>45.006623</td>\n",
       "    </tr>\n",
       "    <tr>\n",
       "      <th>All</th>\n",
       "      <td>31.159568</td>\n",
       "      <td>37.551389</td>\n",
       "    </tr>\n",
       "  </tbody>\n",
       "</table>\n",
       "</div>"
      ],
      "text/plain": [
       "     All_surf-mean messages  All_ultimate-mean messages\n",
       "1                 10.500000                   15.500000\n",
       "2                 12.000000                   21.571429\n",
       "3                 15.260870                   20.250000\n",
       "4                 17.400000                   22.047619\n",
       "5                 24.012987                   32.103448\n",
       "6                 25.298969                   29.340426\n",
       "7                 27.033058                   32.830508\n",
       "8                 28.777778                   38.478873\n",
       "9                 30.762887                   37.895349\n",
       "10                33.839662                   39.443396\n",
       "11                32.385159                   38.606299\n",
       "12                38.600629                   45.006623\n",
       "All               31.159568                   37.551389"
      ]
     },
     "execution_count": 64,
     "metadata": {},
     "output_type": "execute_result"
    }
   ],
   "source": [
    "print(\"comparing the mean of the to plans (surf and ultimate) for every month in number of messages\")\n",
    "message_compare = df_su_pivot_mean.join(\n",
    "    df_ul_pivot_mean, how=\"outer\", lsuffix=\"_surf-mean messages\", rsuffix=\"_ultimate-mean messages\")\n",
    "message_compare"
   ]
  },
  {
   "cell_type": "code",
   "execution_count": 65,
   "metadata": {
    "scrolled": false
   },
   "outputs": [
    {
     "data": {
      "text/plain": [
       "<matplotlib.legend.Legend at 0x7ffb37010be0>"
      ]
     },
     "execution_count": 65,
     "metadata": {},
     "output_type": "execute_result"
    },
    {
     "data": {
      "image/png": "[encoded data removed]",
      "text/plain": [
       "<Figure size 864x576 with 1 Axes>"
      ]
     },
     "metadata": {
      "needs_background": "light"
     },
     "output_type": "display_data"
    }
   ],
   "source": [
    "bar_x = [\"Jan\", \"Feb\", \"Mar\", \"Apr\", \"May\", \"Jun\",\n",
    "         \"Jul\", \"Aug\", \"Sep\", \"Oct\", \"Nov\", \"Dec\", \"ALL\"]\n",
    "# set width of bar\n",
    "barWidth = 0.25\n",
    "fig = plt.subplots(figsize=(12, 8))\n",
    "\n",
    "# set height of bar\n",
    "bar_surf = message_compare[\"All_surf-mean messages\"]\n",
    "bar_ultimate = message_compare[\"All_ultimate-mean messages\"]\n",
    "\n",
    "# Set position of bar on X axis\n",
    "br1 = np.arange(len(bar_surf))\n",
    "br2 = [x + barWidth for x in br1]\n",
    "\n",
    "\n",
    "# Make the plot\n",
    "plt.bar(br1, bar_surf, color='r', width=barWidth,\n",
    "        edgecolor='grey', label='plan - SURF')\n",
    "plt.bar(br2, bar_ultimate, color='g', width=barWidth,\n",
    "        edgecolor='grey', label='plan - ULTIMATE')\n",
    "\n",
    "\n",
    "# Adding Xticks\n",
    "plt.xlabel('Month', fontweight='bold', fontsize=15)\n",
    "plt.ylabel(\"mean of every month in message sended\",\n",
    "           fontweight='bold', fontsize=15)\n",
    "plt.xticks([r + barWidth for r in range(len(bar_surf))], bar_x)\n",
    "plt.title(\"comparing the MEAN of the to plans (surf and ultimate) for every month in messages sended\", fontsize=17)\n",
    "plt.legend()"
   ]
  },
  {
   "cell_type": "markdown",
   "metadata": {},
   "source": [
    "comparing the mean of messages mean for every month, we can see in every month that the ultimate plan's mean was higher then the surf plan"
   ]
  },
  {
   "cell_type": "code",
   "execution_count": 66,
   "metadata": {
    "scrolled": true
   },
   "outputs": [
    {
     "data": {
      "text/html": [
       "<div>\n",
       "<style scoped>\n",
       "    .dataframe tbody tr th:only-of-type {\n",
       "        vertical-align: middle;\n",
       "    }\n",
       "\n",
       "    .dataframe tbody tr th {\n",
       "        vertical-align: top;\n",
       "    }\n",
       "\n",
       "    .dataframe thead th {\n",
       "        text-align: right;\n",
       "    }\n",
       "</style>\n",
       "<table border=\"1\" class=\"dataframe\">\n",
       "  <thead>\n",
       "    <tr style=\"text-align: right;\">\n",
       "      <th></th>\n",
       "      <th>1</th>\n",
       "      <th>2</th>\n",
       "      <th>3</th>\n",
       "      <th>4</th>\n",
       "      <th>5</th>\n",
       "      <th>6</th>\n",
       "      <th>7</th>\n",
       "      <th>8</th>\n",
       "      <th>9</th>\n",
       "      <th>10</th>\n",
       "      <th>11</th>\n",
       "      <th>12</th>\n",
       "      <th>All</th>\n",
       "      <th>var</th>\n",
       "      <th>std</th>\n",
       "    </tr>\n",
       "    <tr>\n",
       "      <th>user_id</th>\n",
       "      <th></th>\n",
       "      <th></th>\n",
       "      <th></th>\n",
       "      <th></th>\n",
       "      <th></th>\n",
       "      <th></th>\n",
       "      <th></th>\n",
       "      <th></th>\n",
       "      <th></th>\n",
       "      <th></th>\n",
       "      <th></th>\n",
       "      <th></th>\n",
       "      <th></th>\n",
       "      <th></th>\n",
       "      <th></th>\n",
       "    </tr>\n",
       "  </thead>\n",
       "  <tbody>\n",
       "    <tr>\n",
       "      <th>1001</th>\n",
       "      <td>0.0</td>\n",
       "      <td>0</td>\n",
       "      <td>0.0</td>\n",
       "      <td>0.0</td>\n",
       "      <td>0.0</td>\n",
       "      <td>0.0</td>\n",
       "      <td>0.0</td>\n",
       "      <td>30.0</td>\n",
       "      <td>44.0</td>\n",
       "      <td>53.0</td>\n",
       "      <td>36.0</td>\n",
       "      <td>44.0</td>\n",
       "      <td>41.400000</td>\n",
       "      <td>487.050769</td>\n",
       "      <td>22.069227</td>\n",
       "    </tr>\n",
       "    <tr>\n",
       "      <th>1002</th>\n",
       "      <td>0.0</td>\n",
       "      <td>0</td>\n",
       "      <td>0.0</td>\n",
       "      <td>0.0</td>\n",
       "      <td>0.0</td>\n",
       "      <td>0.0</td>\n",
       "      <td>0.0</td>\n",
       "      <td>0.0</td>\n",
       "      <td>0.0</td>\n",
       "      <td>15.0</td>\n",
       "      <td>32.0</td>\n",
       "      <td>41.0</td>\n",
       "      <td>29.333333</td>\n",
       "      <td>227.619658</td>\n",
       "      <td>15.087069</td>\n",
       "    </tr>\n",
       "    <tr>\n",
       "      <th>1003</th>\n",
       "      <td>0.0</td>\n",
       "      <td>0</td>\n",
       "      <td>0.0</td>\n",
       "      <td>0.0</td>\n",
       "      <td>0.0</td>\n",
       "      <td>0.0</td>\n",
       "      <td>0.0</td>\n",
       "      <td>0.0</td>\n",
       "      <td>0.0</td>\n",
       "      <td>0.0</td>\n",
       "      <td>0.0</td>\n",
       "      <td>50.0</td>\n",
       "      <td>50.000000</td>\n",
       "      <td>352.564103</td>\n",
       "      <td>18.776690</td>\n",
       "    </tr>\n",
       "    <tr>\n",
       "      <th>1004</th>\n",
       "      <td>0.0</td>\n",
       "      <td>0</td>\n",
       "      <td>0.0</td>\n",
       "      <td>0.0</td>\n",
       "      <td>7.0</td>\n",
       "      <td>18.0</td>\n",
       "      <td>26.0</td>\n",
       "      <td>25.0</td>\n",
       "      <td>21.0</td>\n",
       "      <td>24.0</td>\n",
       "      <td>25.0</td>\n",
       "      <td>31.0</td>\n",
       "      <td>22.125000</td>\n",
       "      <td>143.038061</td>\n",
       "      <td>11.959852</td>\n",
       "    </tr>\n",
       "    <tr>\n",
       "      <th>1005</th>\n",
       "      <td>0.0</td>\n",
       "      <td>0</td>\n",
       "      <td>0.0</td>\n",
       "      <td>0.0</td>\n",
       "      <td>0.0</td>\n",
       "      <td>0.0</td>\n",
       "      <td>0.0</td>\n",
       "      <td>0.0</td>\n",
       "      <td>0.0</td>\n",
       "      <td>0.0</td>\n",
       "      <td>0.0</td>\n",
       "      <td>11.0</td>\n",
       "      <td>11.000000</td>\n",
       "      <td>17.064103</td>\n",
       "      <td>4.130872</td>\n",
       "    </tr>\n",
       "  </tbody>\n",
       "</table>\n",
       "</div>"
      ],
      "text/plain": [
       "           1  2    3    4    5     6     7     8     9    10    11    12  \\\n",
       "user_id                                                                    \n",
       "1001     0.0  0  0.0  0.0  0.0   0.0   0.0  30.0  44.0  53.0  36.0  44.0   \n",
       "1002     0.0  0  0.0  0.0  0.0   0.0   0.0   0.0   0.0  15.0  32.0  41.0   \n",
       "1003     0.0  0  0.0  0.0  0.0   0.0   0.0   0.0   0.0   0.0   0.0  50.0   \n",
       "1004     0.0  0  0.0  0.0  7.0  18.0  26.0  25.0  21.0  24.0  25.0  31.0   \n",
       "1005     0.0  0  0.0  0.0  0.0   0.0   0.0   0.0   0.0   0.0   0.0  11.0   \n",
       "\n",
       "               All         var        std  \n",
       "user_id                                    \n",
       "1001     41.400000  487.050769  22.069227  \n",
       "1002     29.333333  227.619658  15.087069  \n",
       "1003     50.000000  352.564103  18.776690  \n",
       "1004     22.125000  143.038061  11.959852  \n",
       "1005     11.000000   17.064103   4.130872  "
      ]
     },
     "execution_count": 66,
     "metadata": {},
     "output_type": "execute_result"
    }
   ],
   "source": [
    "df_su_pivot[\"var\"] = df_su_pivot.var(axis=1).to_frame()\n",
    "df_su_pivot[\"std\"] = np.sqrt(df_su_pivot[\"var\"])\n",
    "df_su_pivot.head()"
   ]
  },
  {
   "cell_type": "code",
   "execution_count": 67,
   "metadata": {
    "scrolled": true
   },
   "outputs": [
    {
     "data": {
      "text/html": [
       "<div>\n",
       "<style scoped>\n",
       "    .dataframe tbody tr th:only-of-type {\n",
       "        vertical-align: middle;\n",
       "    }\n",
       "\n",
       "    .dataframe tbody tr th {\n",
       "        vertical-align: top;\n",
       "    }\n",
       "\n",
       "    .dataframe thead th {\n",
       "        text-align: right;\n",
       "    }\n",
       "</style>\n",
       "<table border=\"1\" class=\"dataframe\">\n",
       "  <thead>\n",
       "    <tr style=\"text-align: right;\">\n",
       "      <th></th>\n",
       "      <th>1</th>\n",
       "      <th>2</th>\n",
       "      <th>3</th>\n",
       "      <th>4</th>\n",
       "      <th>5</th>\n",
       "      <th>6</th>\n",
       "      <th>7</th>\n",
       "      <th>8</th>\n",
       "      <th>9</th>\n",
       "      <th>10</th>\n",
       "      <th>11</th>\n",
       "      <th>12</th>\n",
       "      <th>All</th>\n",
       "      <th>var</th>\n",
       "      <th>std</th>\n",
       "    </tr>\n",
       "    <tr>\n",
       "      <th>user_id</th>\n",
       "      <th></th>\n",
       "      <th></th>\n",
       "      <th></th>\n",
       "      <th></th>\n",
       "      <th></th>\n",
       "      <th></th>\n",
       "      <th></th>\n",
       "      <th></th>\n",
       "      <th></th>\n",
       "      <th></th>\n",
       "      <th></th>\n",
       "      <th></th>\n",
       "      <th></th>\n",
       "      <th></th>\n",
       "      <th></th>\n",
       "    </tr>\n",
       "  </thead>\n",
       "  <tbody>\n",
       "    <tr>\n",
       "      <th>1000</th>\n",
       "      <td>0.0</td>\n",
       "      <td>0.0</td>\n",
       "      <td>0.0</td>\n",
       "      <td>0.0</td>\n",
       "      <td>0.0</td>\n",
       "      <td>0.0</td>\n",
       "      <td>0.0</td>\n",
       "      <td>0.0</td>\n",
       "      <td>0.0</td>\n",
       "      <td>0.0</td>\n",
       "      <td>0.0</td>\n",
       "      <td>11.0</td>\n",
       "      <td>11.0</td>\n",
       "      <td>17.064103</td>\n",
       "      <td>4.130872</td>\n",
       "    </tr>\n",
       "    <tr>\n",
       "      <th>1006</th>\n",
       "      <td>0.0</td>\n",
       "      <td>0.0</td>\n",
       "      <td>0.0</td>\n",
       "      <td>0.0</td>\n",
       "      <td>0.0</td>\n",
       "      <td>0.0</td>\n",
       "      <td>0.0</td>\n",
       "      <td>0.0</td>\n",
       "      <td>0.0</td>\n",
       "      <td>0.0</td>\n",
       "      <td>15.0</td>\n",
       "      <td>139.0</td>\n",
       "      <td>77.0</td>\n",
       "      <td>1780.858974</td>\n",
       "      <td>42.200225</td>\n",
       "    </tr>\n",
       "    <tr>\n",
       "      <th>1008</th>\n",
       "      <td>0.0</td>\n",
       "      <td>0.0</td>\n",
       "      <td>0.0</td>\n",
       "      <td>0.0</td>\n",
       "      <td>0.0</td>\n",
       "      <td>0.0</td>\n",
       "      <td>0.0</td>\n",
       "      <td>0.0</td>\n",
       "      <td>0.0</td>\n",
       "      <td>21.0</td>\n",
       "      <td>37.0</td>\n",
       "      <td>26.0</td>\n",
       "      <td>28.0</td>\n",
       "      <td>192.089744</td>\n",
       "      <td>13.859644</td>\n",
       "    </tr>\n",
       "    <tr>\n",
       "      <th>1011</th>\n",
       "      <td>0.0</td>\n",
       "      <td>0.0</td>\n",
       "      <td>0.0</td>\n",
       "      <td>0.0</td>\n",
       "      <td>0.0</td>\n",
       "      <td>21.0</td>\n",
       "      <td>53.0</td>\n",
       "      <td>54.0</td>\n",
       "      <td>60.0</td>\n",
       "      <td>64.0</td>\n",
       "      <td>58.0</td>\n",
       "      <td>61.0</td>\n",
       "      <td>53.0</td>\n",
       "      <td>827.256410</td>\n",
       "      <td>28.762065</td>\n",
       "    </tr>\n",
       "    <tr>\n",
       "      <th>1013</th>\n",
       "      <td>0.0</td>\n",
       "      <td>0.0</td>\n",
       "      <td>0.0</td>\n",
       "      <td>0.0</td>\n",
       "      <td>0.0</td>\n",
       "      <td>0.0</td>\n",
       "      <td>0.0</td>\n",
       "      <td>0.0</td>\n",
       "      <td>0.0</td>\n",
       "      <td>0.0</td>\n",
       "      <td>0.0</td>\n",
       "      <td>16.0</td>\n",
       "      <td>16.0</td>\n",
       "      <td>36.102564</td>\n",
       "      <td>6.008541</td>\n",
       "    </tr>\n",
       "  </tbody>\n",
       "</table>\n",
       "</div>"
      ],
      "text/plain": [
       "           1    2    3    4    5     6     7     8     9    10    11     12  \\\n",
       "user_id                                                                       \n",
       "1000     0.0  0.0  0.0  0.0  0.0   0.0   0.0   0.0   0.0   0.0   0.0   11.0   \n",
       "1006     0.0  0.0  0.0  0.0  0.0   0.0   0.0   0.0   0.0   0.0  15.0  139.0   \n",
       "1008     0.0  0.0  0.0  0.0  0.0   0.0   0.0   0.0   0.0  21.0  37.0   26.0   \n",
       "1011     0.0  0.0  0.0  0.0  0.0  21.0  53.0  54.0  60.0  64.0  58.0   61.0   \n",
       "1013     0.0  0.0  0.0  0.0  0.0   0.0   0.0   0.0   0.0   0.0   0.0   16.0   \n",
       "\n",
       "          All          var        std  \n",
       "user_id                                \n",
       "1000     11.0    17.064103   4.130872  \n",
       "1006     77.0  1780.858974  42.200225  \n",
       "1008     28.0   192.089744  13.859644  \n",
       "1011     53.0   827.256410  28.762065  \n",
       "1013     16.0    36.102564   6.008541  "
      ]
     },
     "execution_count": 67,
     "metadata": {},
     "output_type": "execute_result"
    }
   ],
   "source": [
    "df_ul_pivot[\"var\"] = df_ul_pivot.var(axis=1).to_frame()\n",
    "df_ul_pivot[\"std\"] = np.sqrt(df_ul_pivot[\"var\"])\n",
    "df_ul_pivot.head()"
   ]
  },
  {
   "cell_type": "markdown",
   "metadata": {},
   "source": [
    "**Checking the internet usage:**\n",
    "calculating pivot table for every user, the number of Gb every month and the mean"
   ]
  },
  {
   "cell_type": "code",
   "execution_count": 68,
   "metadata": {
    "scrolled": true
   },
   "outputs": [
    {
     "data": {
      "text/html": [
       "<div>\n",
       "<style scoped>\n",
       "    .dataframe tbody tr th:only-of-type {\n",
       "        vertical-align: middle;\n",
       "    }\n",
       "\n",
       "    .dataframe tbody tr th {\n",
       "        vertical-align: top;\n",
       "    }\n",
       "\n",
       "    .dataframe thead th {\n",
       "        text-align: right;\n",
       "    }\n",
       "</style>\n",
       "<table border=\"1\" class=\"dataframe\">\n",
       "  <thead>\n",
       "    <tr style=\"text-align: right;\">\n",
       "      <th></th>\n",
       "      <th>1</th>\n",
       "      <th>2</th>\n",
       "      <th>3</th>\n",
       "      <th>4</th>\n",
       "      <th>5</th>\n",
       "      <th>6</th>\n",
       "      <th>7</th>\n",
       "      <th>8</th>\n",
       "      <th>9</th>\n",
       "      <th>10</th>\n",
       "      <th>11</th>\n",
       "      <th>12</th>\n",
       "      <th>All</th>\n",
       "    </tr>\n",
       "    <tr>\n",
       "      <th>user_id</th>\n",
       "      <th></th>\n",
       "      <th></th>\n",
       "      <th></th>\n",
       "      <th></th>\n",
       "      <th></th>\n",
       "      <th></th>\n",
       "      <th></th>\n",
       "      <th></th>\n",
       "      <th></th>\n",
       "      <th></th>\n",
       "      <th></th>\n",
       "      <th></th>\n",
       "      <th></th>\n",
       "    </tr>\n",
       "  </thead>\n",
       "  <tbody>\n",
       "    <tr>\n",
       "      <th>1001</th>\n",
       "      <td>0</td>\n",
       "      <td>0.0</td>\n",
       "      <td>0.0</td>\n",
       "      <td>0.0</td>\n",
       "      <td>0.0</td>\n",
       "      <td>0.0</td>\n",
       "      <td>0.0</td>\n",
       "      <td>7.0</td>\n",
       "      <td>14.0</td>\n",
       "      <td>22.0</td>\n",
       "      <td>19.0</td>\n",
       "      <td>19.0</td>\n",
       "      <td>16.200000</td>\n",
       "    </tr>\n",
       "    <tr>\n",
       "      <th>1002</th>\n",
       "      <td>0</td>\n",
       "      <td>0.0</td>\n",
       "      <td>0.0</td>\n",
       "      <td>0.0</td>\n",
       "      <td>0.0</td>\n",
       "      <td>0.0</td>\n",
       "      <td>0.0</td>\n",
       "      <td>0.0</td>\n",
       "      <td>0.0</td>\n",
       "      <td>7.0</td>\n",
       "      <td>19.0</td>\n",
       "      <td>15.0</td>\n",
       "      <td>13.666667</td>\n",
       "    </tr>\n",
       "    <tr>\n",
       "      <th>1003</th>\n",
       "      <td>0</td>\n",
       "      <td>0.0</td>\n",
       "      <td>0.0</td>\n",
       "      <td>0.0</td>\n",
       "      <td>0.0</td>\n",
       "      <td>0.0</td>\n",
       "      <td>0.0</td>\n",
       "      <td>0.0</td>\n",
       "      <td>0.0</td>\n",
       "      <td>0.0</td>\n",
       "      <td>0.0</td>\n",
       "      <td>27.0</td>\n",
       "      <td>27.000000</td>\n",
       "    </tr>\n",
       "    <tr>\n",
       "      <th>1004</th>\n",
       "      <td>0</td>\n",
       "      <td>0.0</td>\n",
       "      <td>0.0</td>\n",
       "      <td>0.0</td>\n",
       "      <td>7.0</td>\n",
       "      <td>21.0</td>\n",
       "      <td>24.0</td>\n",
       "      <td>28.0</td>\n",
       "      <td>19.0</td>\n",
       "      <td>15.0</td>\n",
       "      <td>22.0</td>\n",
       "      <td>21.0</td>\n",
       "      <td>19.625000</td>\n",
       "    </tr>\n",
       "    <tr>\n",
       "      <th>1005</th>\n",
       "      <td>0</td>\n",
       "      <td>0.0</td>\n",
       "      <td>0.0</td>\n",
       "      <td>0.0</td>\n",
       "      <td>0.0</td>\n",
       "      <td>0.0</td>\n",
       "      <td>0.0</td>\n",
       "      <td>0.0</td>\n",
       "      <td>0.0</td>\n",
       "      <td>0.0</td>\n",
       "      <td>0.0</td>\n",
       "      <td>17.0</td>\n",
       "      <td>17.000000</td>\n",
       "    </tr>\n",
       "  </tbody>\n",
       "</table>\n",
       "</div>"
      ],
      "text/plain": [
       "         1    2    3    4    5     6     7     8     9    10    11    12  \\\n",
       "user_id                                                                    \n",
       "1001     0  0.0  0.0  0.0  0.0   0.0   0.0   7.0  14.0  22.0  19.0  19.0   \n",
       "1002     0  0.0  0.0  0.0  0.0   0.0   0.0   0.0   0.0   7.0  19.0  15.0   \n",
       "1003     0  0.0  0.0  0.0  0.0   0.0   0.0   0.0   0.0   0.0   0.0  27.0   \n",
       "1004     0  0.0  0.0  0.0  7.0  21.0  24.0  28.0  19.0  15.0  22.0  21.0   \n",
       "1005     0  0.0  0.0  0.0  0.0   0.0   0.0   0.0   0.0   0.0   0.0  17.0   \n",
       "\n",
       "               All  \n",
       "user_id             \n",
       "1001     16.200000  \n",
       "1002     13.666667  \n",
       "1003     27.000000  \n",
       "1004     19.625000  \n",
       "1005     17.000000  "
      ]
     },
     "execution_count": 68,
     "metadata": {},
     "output_type": "execute_result"
    }
   ],
   "source": [
    "df_su_pivot = df_su.pivot_table(values=\"gb_used\", index=\"user_id\",\n",
    "                                columns=\"month\", fill_value=0, aggfunc=[\"mean\"], margins=True)\n",
    "df_su_pivot.columns = [1, 2, 3, 4, 5, 6, 7, 8, 9, 10, 11, 12, \"All\"]\n",
    "df_su_pivot.head()"
   ]
  },
  {
   "cell_type": "code",
   "execution_count": 69,
   "metadata": {},
   "outputs": [],
   "source": [
    "df_su_pivot_mean = df_su_pivot.loc[\"All\", :].to_frame()"
   ]
  },
  {
   "cell_type": "code",
   "execution_count": 70,
   "metadata": {},
   "outputs": [
    {
     "data": {
      "text/html": [
       "<div>\n",
       "<style scoped>\n",
       "    .dataframe tbody tr th:only-of-type {\n",
       "        vertical-align: middle;\n",
       "    }\n",
       "\n",
       "    .dataframe tbody tr th {\n",
       "        vertical-align: top;\n",
       "    }\n",
       "\n",
       "    .dataframe thead th {\n",
       "        text-align: right;\n",
       "    }\n",
       "</style>\n",
       "<table border=\"1\" class=\"dataframe\">\n",
       "  <thead>\n",
       "    <tr style=\"text-align: right;\">\n",
       "      <th></th>\n",
       "      <th>1</th>\n",
       "      <th>2</th>\n",
       "      <th>3</th>\n",
       "      <th>4</th>\n",
       "      <th>5</th>\n",
       "      <th>6</th>\n",
       "      <th>7</th>\n",
       "      <th>8</th>\n",
       "      <th>9</th>\n",
       "      <th>10</th>\n",
       "      <th>11</th>\n",
       "      <th>12</th>\n",
       "      <th>All</th>\n",
       "    </tr>\n",
       "    <tr>\n",
       "      <th>user_id</th>\n",
       "      <th></th>\n",
       "      <th></th>\n",
       "      <th></th>\n",
       "      <th></th>\n",
       "      <th></th>\n",
       "      <th></th>\n",
       "      <th></th>\n",
       "      <th></th>\n",
       "      <th></th>\n",
       "      <th></th>\n",
       "      <th></th>\n",
       "      <th></th>\n",
       "      <th></th>\n",
       "    </tr>\n",
       "  </thead>\n",
       "  <tbody>\n",
       "    <tr>\n",
       "      <th>1000</th>\n",
       "      <td>0.0</td>\n",
       "      <td>0.0</td>\n",
       "      <td>0.0</td>\n",
       "      <td>0.0</td>\n",
       "      <td>0.0</td>\n",
       "      <td>0.0</td>\n",
       "      <td>0.0</td>\n",
       "      <td>0.0</td>\n",
       "      <td>0.0</td>\n",
       "      <td>0.0</td>\n",
       "      <td>0.0</td>\n",
       "      <td>2.0</td>\n",
       "      <td>2.000000</td>\n",
       "    </tr>\n",
       "    <tr>\n",
       "      <th>1006</th>\n",
       "      <td>0.0</td>\n",
       "      <td>0.0</td>\n",
       "      <td>0.0</td>\n",
       "      <td>0.0</td>\n",
       "      <td>0.0</td>\n",
       "      <td>0.0</td>\n",
       "      <td>0.0</td>\n",
       "      <td>0.0</td>\n",
       "      <td>0.0</td>\n",
       "      <td>0.0</td>\n",
       "      <td>3.0</td>\n",
       "      <td>32.0</td>\n",
       "      <td>17.500000</td>\n",
       "    </tr>\n",
       "    <tr>\n",
       "      <th>1008</th>\n",
       "      <td>0.0</td>\n",
       "      <td>0.0</td>\n",
       "      <td>0.0</td>\n",
       "      <td>0.0</td>\n",
       "      <td>0.0</td>\n",
       "      <td>0.0</td>\n",
       "      <td>0.0</td>\n",
       "      <td>0.0</td>\n",
       "      <td>0.0</td>\n",
       "      <td>17.0</td>\n",
       "      <td>24.0</td>\n",
       "      <td>15.0</td>\n",
       "      <td>18.666667</td>\n",
       "    </tr>\n",
       "    <tr>\n",
       "      <th>1011</th>\n",
       "      <td>0.0</td>\n",
       "      <td>0.0</td>\n",
       "      <td>0.0</td>\n",
       "      <td>0.0</td>\n",
       "      <td>0.0</td>\n",
       "      <td>7.0</td>\n",
       "      <td>21.0</td>\n",
       "      <td>21.0</td>\n",
       "      <td>17.0</td>\n",
       "      <td>24.0</td>\n",
       "      <td>22.0</td>\n",
       "      <td>20.0</td>\n",
       "      <td>18.857143</td>\n",
       "    </tr>\n",
       "    <tr>\n",
       "      <th>1013</th>\n",
       "      <td>0.0</td>\n",
       "      <td>0.0</td>\n",
       "      <td>0.0</td>\n",
       "      <td>0.0</td>\n",
       "      <td>0.0</td>\n",
       "      <td>0.0</td>\n",
       "      <td>0.0</td>\n",
       "      <td>0.0</td>\n",
       "      <td>0.0</td>\n",
       "      <td>0.0</td>\n",
       "      <td>0.0</td>\n",
       "      <td>20.0</td>\n",
       "      <td>20.000000</td>\n",
       "    </tr>\n",
       "  </tbody>\n",
       "</table>\n",
       "</div>"
      ],
      "text/plain": [
       "           1    2    3    4    5    6     7     8     9    10    11    12  \\\n",
       "user_id                                                                     \n",
       "1000     0.0  0.0  0.0  0.0  0.0  0.0   0.0   0.0   0.0   0.0   0.0   2.0   \n",
       "1006     0.0  0.0  0.0  0.0  0.0  0.0   0.0   0.0   0.0   0.0   3.0  32.0   \n",
       "1008     0.0  0.0  0.0  0.0  0.0  0.0   0.0   0.0   0.0  17.0  24.0  15.0   \n",
       "1011     0.0  0.0  0.0  0.0  0.0  7.0  21.0  21.0  17.0  24.0  22.0  20.0   \n",
       "1013     0.0  0.0  0.0  0.0  0.0  0.0   0.0   0.0   0.0   0.0   0.0  20.0   \n",
       "\n",
       "               All  \n",
       "user_id             \n",
       "1000      2.000000  \n",
       "1006     17.500000  \n",
       "1008     18.666667  \n",
       "1011     18.857143  \n",
       "1013     20.000000  "
      ]
     },
     "execution_count": 70,
     "metadata": {},
     "output_type": "execute_result"
    }
   ],
   "source": [
    "df_ul_pivot = df_ul.pivot_table(values=\"gb_used\", index=\"user_id\",\n",
    "                                columns=\"month\", fill_value=0, aggfunc=[\"mean\"], margins=True)\n",
    "df_ul_pivot.columns = [1, 2, 3, 4, 5, 6, 7, 8, 9, 10, 11, 12, \"All\"]\n",
    "df_ul_pivot.head()"
   ]
  },
  {
   "cell_type": "code",
   "execution_count": 71,
   "metadata": {},
   "outputs": [],
   "source": [
    "df_ul_pivot_mean = df_ul_pivot.loc[\"All\", :].to_frame()"
   ]
  },
  {
   "cell_type": "code",
   "execution_count": 72,
   "metadata": {},
   "outputs": [
    {
     "name": "stdout",
     "output_type": "stream",
     "text": [
      "comparing the mean of the two plans (surf and ultimate) for every month in Gigabyte usage\n"
     ]
    },
    {
     "data": {
      "text/html": [
       "<div>\n",
       "<style scoped>\n",
       "    .dataframe tbody tr th:only-of-type {\n",
       "        vertical-align: middle;\n",
       "    }\n",
       "\n",
       "    .dataframe tbody tr th {\n",
       "        vertical-align: top;\n",
       "    }\n",
       "\n",
       "    .dataframe thead th {\n",
       "        text-align: right;\n",
       "    }\n",
       "</style>\n",
       "<table border=\"1\" class=\"dataframe\">\n",
       "  <thead>\n",
       "    <tr style=\"text-align: right;\">\n",
       "      <th></th>\n",
       "      <th>All_surf-mean gb_used</th>\n",
       "      <th>All_ultimate-mean gb_used</th>\n",
       "    </tr>\n",
       "  </thead>\n",
       "  <tbody>\n",
       "    <tr>\n",
       "      <th>1</th>\n",
       "      <td>5.000000</td>\n",
       "      <td>7.250000</td>\n",
       "    </tr>\n",
       "    <tr>\n",
       "      <th>2</th>\n",
       "      <td>12.222222</td>\n",
       "      <td>17.285714</td>\n",
       "    </tr>\n",
       "    <tr>\n",
       "      <th>3</th>\n",
       "      <td>13.565217</td>\n",
       "      <td>18.416667</td>\n",
       "    </tr>\n",
       "    <tr>\n",
       "      <th>4</th>\n",
       "      <td>12.469388</td>\n",
       "      <td>16.333333</td>\n",
       "    </tr>\n",
       "    <tr>\n",
       "      <th>5</th>\n",
       "      <td>14.302632</td>\n",
       "      <td>16.862069</td>\n",
       "    </tr>\n",
       "    <tr>\n",
       "      <th>6</th>\n",
       "      <td>15.810526</td>\n",
       "      <td>15.425532</td>\n",
       "    </tr>\n",
       "    <tr>\n",
       "      <th>7</th>\n",
       "      <td>17.016667</td>\n",
       "      <td>16.491525</td>\n",
       "    </tr>\n",
       "    <tr>\n",
       "      <th>8</th>\n",
       "      <td>17.201258</td>\n",
       "      <td>17.845070</td>\n",
       "    </tr>\n",
       "    <tr>\n",
       "      <th>9</th>\n",
       "      <td>16.777202</td>\n",
       "      <td>17.011628</td>\n",
       "    </tr>\n",
       "    <tr>\n",
       "      <th>10</th>\n",
       "      <td>17.632479</td>\n",
       "      <td>17.885714</td>\n",
       "    </tr>\n",
       "    <tr>\n",
       "      <th>11</th>\n",
       "      <td>16.548043</td>\n",
       "      <td>17.118110</td>\n",
       "    </tr>\n",
       "    <tr>\n",
       "      <th>12</th>\n",
       "      <td>18.296530</td>\n",
       "      <td>18.397351</td>\n",
       "    </tr>\n",
       "    <tr>\n",
       "      <th>All</th>\n",
       "      <td>16.831194</td>\n",
       "      <td>17.331015</td>\n",
       "    </tr>\n",
       "  </tbody>\n",
       "</table>\n",
       "</div>"
      ],
      "text/plain": [
       "     All_surf-mean gb_used  All_ultimate-mean gb_used\n",
       "1                 5.000000                   7.250000\n",
       "2                12.222222                  17.285714\n",
       "3                13.565217                  18.416667\n",
       "4                12.469388                  16.333333\n",
       "5                14.302632                  16.862069\n",
       "6                15.810526                  15.425532\n",
       "7                17.016667                  16.491525\n",
       "8                17.201258                  17.845070\n",
       "9                16.777202                  17.011628\n",
       "10               17.632479                  17.885714\n",
       "11               16.548043                  17.118110\n",
       "12               18.296530                  18.397351\n",
       "All              16.831194                  17.331015"
      ]
     },
     "execution_count": 72,
     "metadata": {},
     "output_type": "execute_result"
    }
   ],
   "source": [
    "print(\"comparing the mean of the two plans (surf and ultimate) for every month in Gigabyte usage\")\n",
    "gb_compare = df_su_pivot_mean.join(\n",
    "    df_ul_pivot_mean, how=\"outer\", lsuffix=\"_surf-mean gb_used\", rsuffix=\"_ultimate-mean gb_used\")\n",
    "gb_compare"
   ]
  },
  {
   "cell_type": "code",
   "execution_count": 73,
   "metadata": {
    "scrolled": true
   },
   "outputs": [
    {
     "data": {
      "text/plain": [
       "<matplotlib.legend.Legend at 0x7ffb371cb610>"
      ]
     },
     "execution_count": 73,
     "metadata": {},
     "output_type": "execute_result"
    },
    {
     "data": {
      "image/png": "[encoded data removed]",
      "text/plain": [
       "<Figure size 864x576 with 1 Axes>"
      ]
     },
     "metadata": {
      "needs_background": "light"
     },
     "output_type": "display_data"
    }
   ],
   "source": [
    "\n",
    "bar_x = [\"Jan\", \"Feb\", \"Mar\", \"Apr\", \"May\", \"Jun\",\n",
    "         \"Jul\", \"Aug\", \"Sep\", \"Oct\", \"Nov\", \"Dec\", \"ALL\"]\n",
    "# set width of bar\n",
    "barWidth = 0.25\n",
    "fig = plt.subplots(figsize=(12, 8))\n",
    "\n",
    "# set height of bar\n",
    "bar_surf = gb_compare[\"All_surf-mean gb_used\"]\n",
    "bar_ultimate = gb_compare[\"All_ultimate-mean gb_used\"]\n",
    "\n",
    "# Set position of bar on X axis\n",
    "br1 = np.arange(len(bar_surf))\n",
    "br2 = [x + barWidth for x in br1]\n",
    "\n",
    "\n",
    "# Make the plot\n",
    "plt.bar(br1, bar_surf, color='r', width=barWidth,\n",
    "        edgecolor='grey', label='plan - SURF')\n",
    "plt.bar(br2, bar_ultimate, color='g', width=barWidth,\n",
    "        edgecolor='grey', label='plan - ULTIMATE')\n",
    "\n",
    "\n",
    "# Adding Xticks\n",
    "plt.xlabel('Month', fontweight='bold', fontsize=15)\n",
    "plt.ylabel(\"mean of every month in Gigabyte used\",\n",
    "           fontweight='bold', fontsize=15)\n",
    "plt.xticks([r + barWidth for r in range(len(bar_surf))], bar_x)\n",
    "plt.title(\"comparing the MEAN of the to plans (surf and ultimate) for every month in Gigabyte used\", fontsize=17)\n",
    "plt.legend()\n",
    "\n",
    "\n",
    "\n"
   ]
  },
  {
   "cell_type": "code",
   "execution_count": 74,
   "metadata": {
    "scrolled": true
   },
   "outputs": [
    {
     "data": {
      "text/html": [
       "<div>\n",
       "<style scoped>\n",
       "    .dataframe tbody tr th:only-of-type {\n",
       "        vertical-align: middle;\n",
       "    }\n",
       "\n",
       "    .dataframe tbody tr th {\n",
       "        vertical-align: top;\n",
       "    }\n",
       "\n",
       "    .dataframe thead th {\n",
       "        text-align: right;\n",
       "    }\n",
       "</style>\n",
       "<table border=\"1\" class=\"dataframe\">\n",
       "  <thead>\n",
       "    <tr style=\"text-align: right;\">\n",
       "      <th></th>\n",
       "      <th>1</th>\n",
       "      <th>2</th>\n",
       "      <th>3</th>\n",
       "      <th>4</th>\n",
       "      <th>5</th>\n",
       "      <th>6</th>\n",
       "      <th>7</th>\n",
       "      <th>8</th>\n",
       "      <th>9</th>\n",
       "      <th>10</th>\n",
       "      <th>11</th>\n",
       "      <th>12</th>\n",
       "      <th>All</th>\n",
       "      <th>var</th>\n",
       "      <th>std</th>\n",
       "    </tr>\n",
       "    <tr>\n",
       "      <th>user_id</th>\n",
       "      <th></th>\n",
       "      <th></th>\n",
       "      <th></th>\n",
       "      <th></th>\n",
       "      <th></th>\n",
       "      <th></th>\n",
       "      <th></th>\n",
       "      <th></th>\n",
       "      <th></th>\n",
       "      <th></th>\n",
       "      <th></th>\n",
       "      <th></th>\n",
       "      <th></th>\n",
       "      <th></th>\n",
       "      <th></th>\n",
       "    </tr>\n",
       "  </thead>\n",
       "  <tbody>\n",
       "    <tr>\n",
       "      <th>1001</th>\n",
       "      <td>0</td>\n",
       "      <td>0.0</td>\n",
       "      <td>0.0</td>\n",
       "      <td>0.0</td>\n",
       "      <td>0.0</td>\n",
       "      <td>0.0</td>\n",
       "      <td>0.0</td>\n",
       "      <td>7.0</td>\n",
       "      <td>14.0</td>\n",
       "      <td>22.0</td>\n",
       "      <td>19.0</td>\n",
       "      <td>19.0</td>\n",
       "      <td>16.200000</td>\n",
       "      <td>82.223590</td>\n",
       "      <td>9.067722</td>\n",
       "    </tr>\n",
       "    <tr>\n",
       "      <th>1002</th>\n",
       "      <td>0</td>\n",
       "      <td>0.0</td>\n",
       "      <td>0.0</td>\n",
       "      <td>0.0</td>\n",
       "      <td>0.0</td>\n",
       "      <td>0.0</td>\n",
       "      <td>0.0</td>\n",
       "      <td>0.0</td>\n",
       "      <td>0.0</td>\n",
       "      <td>7.0</td>\n",
       "      <td>19.0</td>\n",
       "      <td>15.0</td>\n",
       "      <td>13.666667</td>\n",
       "      <td>49.324786</td>\n",
       "      <td>7.023161</td>\n",
       "    </tr>\n",
       "    <tr>\n",
       "      <th>1003</th>\n",
       "      <td>0</td>\n",
       "      <td>0.0</td>\n",
       "      <td>0.0</td>\n",
       "      <td>0.0</td>\n",
       "      <td>0.0</td>\n",
       "      <td>0.0</td>\n",
       "      <td>0.0</td>\n",
       "      <td>0.0</td>\n",
       "      <td>0.0</td>\n",
       "      <td>0.0</td>\n",
       "      <td>0.0</td>\n",
       "      <td>27.0</td>\n",
       "      <td>27.000000</td>\n",
       "      <td>102.807692</td>\n",
       "      <td>10.139413</td>\n",
       "    </tr>\n",
       "    <tr>\n",
       "      <th>1004</th>\n",
       "      <td>0</td>\n",
       "      <td>0.0</td>\n",
       "      <td>0.0</td>\n",
       "      <td>0.0</td>\n",
       "      <td>7.0</td>\n",
       "      <td>21.0</td>\n",
       "      <td>24.0</td>\n",
       "      <td>28.0</td>\n",
       "      <td>19.0</td>\n",
       "      <td>15.0</td>\n",
       "      <td>22.0</td>\n",
       "      <td>21.0</td>\n",
       "      <td>19.625000</td>\n",
       "      <td>112.201522</td>\n",
       "      <td>10.592522</td>\n",
       "    </tr>\n",
       "    <tr>\n",
       "      <th>1005</th>\n",
       "      <td>0</td>\n",
       "      <td>0.0</td>\n",
       "      <td>0.0</td>\n",
       "      <td>0.0</td>\n",
       "      <td>0.0</td>\n",
       "      <td>0.0</td>\n",
       "      <td>0.0</td>\n",
       "      <td>0.0</td>\n",
       "      <td>0.0</td>\n",
       "      <td>0.0</td>\n",
       "      <td>0.0</td>\n",
       "      <td>17.0</td>\n",
       "      <td>17.000000</td>\n",
       "      <td>40.756410</td>\n",
       "      <td>6.384075</td>\n",
       "    </tr>\n",
       "  </tbody>\n",
       "</table>\n",
       "</div>"
      ],
      "text/plain": [
       "         1    2    3    4    5     6     7     8     9    10    11    12  \\\n",
       "user_id                                                                    \n",
       "1001     0  0.0  0.0  0.0  0.0   0.0   0.0   7.0  14.0  22.0  19.0  19.0   \n",
       "1002     0  0.0  0.0  0.0  0.0   0.0   0.0   0.0   0.0   7.0  19.0  15.0   \n",
       "1003     0  0.0  0.0  0.0  0.0   0.0   0.0   0.0   0.0   0.0   0.0  27.0   \n",
       "1004     0  0.0  0.0  0.0  7.0  21.0  24.0  28.0  19.0  15.0  22.0  21.0   \n",
       "1005     0  0.0  0.0  0.0  0.0   0.0   0.0   0.0   0.0   0.0   0.0  17.0   \n",
       "\n",
       "               All         var        std  \n",
       "user_id                                    \n",
       "1001     16.200000   82.223590   9.067722  \n",
       "1002     13.666667   49.324786   7.023161  \n",
       "1003     27.000000  102.807692  10.139413  \n",
       "1004     19.625000  112.201522  10.592522  \n",
       "1005     17.000000   40.756410   6.384075  "
      ]
     },
     "execution_count": 74,
     "metadata": {},
     "output_type": "execute_result"
    }
   ],
   "source": [
    "df_su_pivot[\"var\"] = df_su_pivot.var(axis=1).to_frame()\n",
    "df_su_pivot[\"std\"] = np.sqrt(df_su_pivot[\"var\"])\n",
    "df_su_pivot.head()"
   ]
  },
  {
   "cell_type": "code",
   "execution_count": 75,
   "metadata": {},
   "outputs": [
    {
     "data": {
      "text/html": [
       "<div>\n",
       "<style scoped>\n",
       "    .dataframe tbody tr th:only-of-type {\n",
       "        vertical-align: middle;\n",
       "    }\n",
       "\n",
       "    .dataframe tbody tr th {\n",
       "        vertical-align: top;\n",
       "    }\n",
       "\n",
       "    .dataframe thead th {\n",
       "        text-align: right;\n",
       "    }\n",
       "</style>\n",
       "<table border=\"1\" class=\"dataframe\">\n",
       "  <thead>\n",
       "    <tr style=\"text-align: right;\">\n",
       "      <th></th>\n",
       "      <th>1</th>\n",
       "      <th>2</th>\n",
       "      <th>3</th>\n",
       "      <th>4</th>\n",
       "      <th>5</th>\n",
       "      <th>6</th>\n",
       "      <th>7</th>\n",
       "      <th>8</th>\n",
       "      <th>9</th>\n",
       "      <th>10</th>\n",
       "      <th>11</th>\n",
       "      <th>12</th>\n",
       "      <th>All</th>\n",
       "      <th>var</th>\n",
       "      <th>std</th>\n",
       "    </tr>\n",
       "    <tr>\n",
       "      <th>user_id</th>\n",
       "      <th></th>\n",
       "      <th></th>\n",
       "      <th></th>\n",
       "      <th></th>\n",
       "      <th></th>\n",
       "      <th></th>\n",
       "      <th></th>\n",
       "      <th></th>\n",
       "      <th></th>\n",
       "      <th></th>\n",
       "      <th></th>\n",
       "      <th></th>\n",
       "      <th></th>\n",
       "      <th></th>\n",
       "      <th></th>\n",
       "    </tr>\n",
       "  </thead>\n",
       "  <tbody>\n",
       "    <tr>\n",
       "      <th>1000</th>\n",
       "      <td>0.0</td>\n",
       "      <td>0.0</td>\n",
       "      <td>0.0</td>\n",
       "      <td>0.0</td>\n",
       "      <td>0.0</td>\n",
       "      <td>0.0</td>\n",
       "      <td>0.0</td>\n",
       "      <td>0.0</td>\n",
       "      <td>0.0</td>\n",
       "      <td>0.0</td>\n",
       "      <td>0.0</td>\n",
       "      <td>2.0</td>\n",
       "      <td>2.000000</td>\n",
       "      <td>0.564103</td>\n",
       "      <td>0.751068</td>\n",
       "    </tr>\n",
       "    <tr>\n",
       "      <th>1006</th>\n",
       "      <td>0.0</td>\n",
       "      <td>0.0</td>\n",
       "      <td>0.0</td>\n",
       "      <td>0.0</td>\n",
       "      <td>0.0</td>\n",
       "      <td>0.0</td>\n",
       "      <td>0.0</td>\n",
       "      <td>0.0</td>\n",
       "      <td>0.0</td>\n",
       "      <td>0.0</td>\n",
       "      <td>3.0</td>\n",
       "      <td>32.0</td>\n",
       "      <td>17.500000</td>\n",
       "      <td>93.935897</td>\n",
       "      <td>9.692053</td>\n",
       "    </tr>\n",
       "    <tr>\n",
       "      <th>1008</th>\n",
       "      <td>0.0</td>\n",
       "      <td>0.0</td>\n",
       "      <td>0.0</td>\n",
       "      <td>0.0</td>\n",
       "      <td>0.0</td>\n",
       "      <td>0.0</td>\n",
       "      <td>0.0</td>\n",
       "      <td>0.0</td>\n",
       "      <td>0.0</td>\n",
       "      <td>17.0</td>\n",
       "      <td>24.0</td>\n",
       "      <td>15.0</td>\n",
       "      <td>18.666667</td>\n",
       "      <td>84.132479</td>\n",
       "      <td>9.172376</td>\n",
       "    </tr>\n",
       "    <tr>\n",
       "      <th>1011</th>\n",
       "      <td>0.0</td>\n",
       "      <td>0.0</td>\n",
       "      <td>0.0</td>\n",
       "      <td>0.0</td>\n",
       "      <td>0.0</td>\n",
       "      <td>7.0</td>\n",
       "      <td>21.0</td>\n",
       "      <td>21.0</td>\n",
       "      <td>17.0</td>\n",
       "      <td>24.0</td>\n",
       "      <td>22.0</td>\n",
       "      <td>20.0</td>\n",
       "      <td>18.857143</td>\n",
       "      <td>107.082156</td>\n",
       "      <td>10.348051</td>\n",
       "    </tr>\n",
       "    <tr>\n",
       "      <th>1013</th>\n",
       "      <td>0.0</td>\n",
       "      <td>0.0</td>\n",
       "      <td>0.0</td>\n",
       "      <td>0.0</td>\n",
       "      <td>0.0</td>\n",
       "      <td>0.0</td>\n",
       "      <td>0.0</td>\n",
       "      <td>0.0</td>\n",
       "      <td>0.0</td>\n",
       "      <td>0.0</td>\n",
       "      <td>0.0</td>\n",
       "      <td>20.0</td>\n",
       "      <td>20.000000</td>\n",
       "      <td>56.410256</td>\n",
       "      <td>7.510676</td>\n",
       "    </tr>\n",
       "  </tbody>\n",
       "</table>\n",
       "</div>"
      ],
      "text/plain": [
       "           1    2    3    4    5    6     7     8     9    10    11    12  \\\n",
       "user_id                                                                     \n",
       "1000     0.0  0.0  0.0  0.0  0.0  0.0   0.0   0.0   0.0   0.0   0.0   2.0   \n",
       "1006     0.0  0.0  0.0  0.0  0.0  0.0   0.0   0.0   0.0   0.0   3.0  32.0   \n",
       "1008     0.0  0.0  0.0  0.0  0.0  0.0   0.0   0.0   0.0  17.0  24.0  15.0   \n",
       "1011     0.0  0.0  0.0  0.0  0.0  7.0  21.0  21.0  17.0  24.0  22.0  20.0   \n",
       "1013     0.0  0.0  0.0  0.0  0.0  0.0   0.0   0.0   0.0   0.0   0.0  20.0   \n",
       "\n",
       "               All         var        std  \n",
       "user_id                                    \n",
       "1000      2.000000    0.564103   0.751068  \n",
       "1006     17.500000   93.935897   9.692053  \n",
       "1008     18.666667   84.132479   9.172376  \n",
       "1011     18.857143  107.082156  10.348051  \n",
       "1013     20.000000   56.410256   7.510676  "
      ]
     },
     "execution_count": 75,
     "metadata": {},
     "output_type": "execute_result"
    }
   ],
   "source": [
    "df_ul_pivot[\"var\"] = df_ul_pivot.var(axis=1).to_frame()\n",
    "df_ul_pivot[\"std\"] = np.sqrt(df_ul_pivot[\"var\"])\n",
    "df_ul_pivot.head()"
   ]
  },
  {
   "cell_type": "markdown",
   "metadata": {},
   "source": [
    "<div class=\"alert alert-success\">\n",
    "<b>Reviewer's comment v1:</b>\n",
    "    \n",
    "- I will write overall thoughts about the data analysis section:\n",
    "- Very nice visualization of the data. Great that you used different graph types to check available data.\n",
    "- Also, nice that you managed to add both plans on one graph.\n",
    "- It's a matter of taste, but sometimes it is easier to analyze the data (spread, averages, etc.) for each feature using a boxplot in addition to histograms. If you have time and willing to practice, you can display two charts (histogram and a boxplot) using a two-column subplot.\n",
    "```\n",
    "    # Create one row with 2 columns\n",
    "\t  fig, axes = plt.subplots(1, 2, figsize=(16, 5))\n",
    "\n",
    "\t  # Create a histogram for the surf plan\n",
    "\t  sns.distplot(... ax=axes[0])\n",
    "\t  # Create a histogram for the second plan\n",
    "\t  sns.distplot(... ax=axes[0])\n",
    "\t\n",
    "\t  # Create a boxplot for both plans\n",
    "\t  sns.boxplot(... ax=axes[1])\n",
    "```"
   ]
  },
  {
   "cell_type": "markdown",
   "metadata": {},
   "source": [
    "**hypotheses 1**\n",
    "\n",
    "H0 =The average revenue from users of Ultimate and Surf calling plans are equal\n",
    "\n",
    "H1 =The average revenue from users of Ultimate and Surf calling plans differs alpha=0.05\n",
    "explanation of the hypotheses: are the mean of the cost in plan surf can be the same as the mean of the ultimate cost?"
   ]
  },
  {
   "cell_type": "markdown",
   "metadata": {},
   "source": [
    "**get the two samples:**"
   ]
  },
  {
   "cell_type": "code",
   "execution_count": 76,
   "metadata": {
    "scrolled": true
   },
   "outputs": [
    {
     "data": {
      "text/html": [
       "<div>\n",
       "<style scoped>\n",
       "    .dataframe tbody tr th:only-of-type {\n",
       "        vertical-align: middle;\n",
       "    }\n",
       "\n",
       "    .dataframe tbody tr th {\n",
       "        vertical-align: top;\n",
       "    }\n",
       "\n",
       "    .dataframe thead th {\n",
       "        text-align: right;\n",
       "    }\n",
       "</style>\n",
       "<table border=\"1\" class=\"dataframe\">\n",
       "  <thead>\n",
       "    <tr style=\"text-align: right;\">\n",
       "      <th></th>\n",
       "      <th>1</th>\n",
       "      <th>2</th>\n",
       "      <th>3</th>\n",
       "      <th>4</th>\n",
       "      <th>5</th>\n",
       "      <th>6</th>\n",
       "      <th>7</th>\n",
       "      <th>8</th>\n",
       "      <th>9</th>\n",
       "      <th>10</th>\n",
       "      <th>11</th>\n",
       "      <th>12</th>\n",
       "      <th>All</th>\n",
       "    </tr>\n",
       "    <tr>\n",
       "      <th>user_id</th>\n",
       "      <th></th>\n",
       "      <th></th>\n",
       "      <th></th>\n",
       "      <th></th>\n",
       "      <th></th>\n",
       "      <th></th>\n",
       "      <th></th>\n",
       "      <th></th>\n",
       "      <th></th>\n",
       "      <th></th>\n",
       "      <th></th>\n",
       "      <th></th>\n",
       "      <th></th>\n",
       "    </tr>\n",
       "  </thead>\n",
       "  <tbody>\n",
       "    <tr>\n",
       "      <th>1495</th>\n",
       "      <td>0</td>\n",
       "      <td>0.000000</td>\n",
       "      <td>0.000000</td>\n",
       "      <td>0.000000</td>\n",
       "      <td>0.000000</td>\n",
       "      <td>0.000000</td>\n",
       "      <td>0.000000</td>\n",
       "      <td>0.000000</td>\n",
       "      <td>100.000000</td>\n",
       "      <td>143.300000</td>\n",
       "      <td>120.000000</td>\n",
       "      <td>110.000000</td>\n",
       "      <td>118.325000</td>\n",
       "    </tr>\n",
       "    <tr>\n",
       "      <th>1496</th>\n",
       "      <td>0</td>\n",
       "      <td>0.000000</td>\n",
       "      <td>0.000000</td>\n",
       "      <td>0.000000</td>\n",
       "      <td>0.000000</td>\n",
       "      <td>0.000000</td>\n",
       "      <td>0.000000</td>\n",
       "      <td>20.000000</td>\n",
       "      <td>40.000000</td>\n",
       "      <td>20.000000</td>\n",
       "      <td>20.000000</td>\n",
       "      <td>40.000000</td>\n",
       "      <td>28.000000</td>\n",
       "    </tr>\n",
       "    <tr>\n",
       "      <th>1498</th>\n",
       "      <td>0</td>\n",
       "      <td>70.000000</td>\n",
       "      <td>70.000000</td>\n",
       "      <td>70.000000</td>\n",
       "      <td>90.000000</td>\n",
       "      <td>20.000000</td>\n",
       "      <td>120.000000</td>\n",
       "      <td>70.000000</td>\n",
       "      <td>100.000000</td>\n",
       "      <td>80.000000</td>\n",
       "      <td>60.000000</td>\n",
       "      <td>100.000000</td>\n",
       "      <td>77.272727</td>\n",
       "    </tr>\n",
       "    <tr>\n",
       "      <th>1499</th>\n",
       "      <td>0</td>\n",
       "      <td>0.000000</td>\n",
       "      <td>0.000000</td>\n",
       "      <td>0.000000</td>\n",
       "      <td>0.000000</td>\n",
       "      <td>0.000000</td>\n",
       "      <td>0.000000</td>\n",
       "      <td>0.000000</td>\n",
       "      <td>20.000000</td>\n",
       "      <td>70.000000</td>\n",
       "      <td>40.000000</td>\n",
       "      <td>90.000000</td>\n",
       "      <td>55.000000</td>\n",
       "    </tr>\n",
       "    <tr>\n",
       "      <th>All</th>\n",
       "      <td>20</td>\n",
       "      <td>34.396667</td>\n",
       "      <td>45.941304</td>\n",
       "      <td>41.133265</td>\n",
       "      <td>48.747838</td>\n",
       "      <td>50.163404</td>\n",
       "      <td>63.192689</td>\n",
       "      <td>65.203333</td>\n",
       "      <td>57.321421</td>\n",
       "      <td>65.567675</td>\n",
       "      <td>57.369564</td>\n",
       "      <td>69.318903</td>\n",
       "      <td>60.524585</td>\n",
       "    </tr>\n",
       "  </tbody>\n",
       "</table>\n",
       "</div>"
      ],
      "text/plain": [
       "          1          2          3          4          5          6  \\\n",
       "user_id                                                              \n",
       "1495      0   0.000000   0.000000   0.000000   0.000000   0.000000   \n",
       "1496      0   0.000000   0.000000   0.000000   0.000000   0.000000   \n",
       "1498      0  70.000000  70.000000  70.000000  90.000000  20.000000   \n",
       "1499      0   0.000000   0.000000   0.000000   0.000000   0.000000   \n",
       "All      20  34.396667  45.941304  41.133265  48.747838  50.163404   \n",
       "\n",
       "                  7          8           9          10          11  \\\n",
       "user_id                                                              \n",
       "1495       0.000000   0.000000  100.000000  143.300000  120.000000   \n",
       "1496       0.000000  20.000000   40.000000   20.000000   20.000000   \n",
       "1498     120.000000  70.000000  100.000000   80.000000   60.000000   \n",
       "1499       0.000000   0.000000   20.000000   70.000000   40.000000   \n",
       "All       63.192689  65.203333   57.321421   65.567675   57.369564   \n",
       "\n",
       "                 12         All  \n",
       "user_id                          \n",
       "1495     110.000000  118.325000  \n",
       "1496      40.000000   28.000000  \n",
       "1498     100.000000   77.272727  \n",
       "1499      90.000000   55.000000  \n",
       "All       69.318903   60.524585  "
      ]
     },
     "execution_count": 76,
     "metadata": {},
     "output_type": "execute_result"
    }
   ],
   "source": [
    "df_su_pivot = df_su.pivot_table(values=\"cost\", index=\"user_id\",\n",
    "                                columns=\"month\", fill_value=0, aggfunc=[\"mean\"], margins=True)\n",
    "df_su_pivot.columns = [1, 2, 3, 4, 5, 6, 7, 8, 9, 10, 11, 12, \"All\"]\n",
    "df_su_pivot.tail()"
   ]
  },
  {
   "cell_type": "code",
   "execution_count": 77,
   "metadata": {},
   "outputs": [],
   "source": [
    "df_su_pivot_mean = df_su_pivot.loc[\"All\", :].to_frame()"
   ]
  },
  {
   "cell_type": "code",
   "execution_count": 78,
   "metadata": {},
   "outputs": [
    {
     "data": {
      "text/html": [
       "<div>\n",
       "<style scoped>\n",
       "    .dataframe tbody tr th:only-of-type {\n",
       "        vertical-align: middle;\n",
       "    }\n",
       "\n",
       "    .dataframe tbody tr th {\n",
       "        vertical-align: top;\n",
       "    }\n",
       "\n",
       "    .dataframe thead th {\n",
       "        text-align: right;\n",
       "    }\n",
       "</style>\n",
       "<table border=\"1\" class=\"dataframe\">\n",
       "  <thead>\n",
       "    <tr style=\"text-align: right;\">\n",
       "      <th></th>\n",
       "      <th>1</th>\n",
       "      <th>2</th>\n",
       "      <th>3</th>\n",
       "      <th>4</th>\n",
       "      <th>5</th>\n",
       "      <th>6</th>\n",
       "      <th>7</th>\n",
       "      <th>8</th>\n",
       "      <th>9</th>\n",
       "      <th>10</th>\n",
       "      <th>11</th>\n",
       "      <th>12</th>\n",
       "      <th>All</th>\n",
       "    </tr>\n",
       "    <tr>\n",
       "      <th>user_id</th>\n",
       "      <th></th>\n",
       "      <th></th>\n",
       "      <th></th>\n",
       "      <th></th>\n",
       "      <th></th>\n",
       "      <th></th>\n",
       "      <th></th>\n",
       "      <th></th>\n",
       "      <th></th>\n",
       "      <th></th>\n",
       "      <th></th>\n",
       "      <th></th>\n",
       "      <th></th>\n",
       "    </tr>\n",
       "  </thead>\n",
       "  <tbody>\n",
       "    <tr>\n",
       "      <th>1487</th>\n",
       "      <td>0</td>\n",
       "      <td>0</td>\n",
       "      <td>0.000000</td>\n",
       "      <td>0</td>\n",
       "      <td>0.000000</td>\n",
       "      <td>0.000000</td>\n",
       "      <td>0.000000</td>\n",
       "      <td>0.000000</td>\n",
       "      <td>0.000000</td>\n",
       "      <td>0.000000</td>\n",
       "      <td>0.000</td>\n",
       "      <td>70.000000</td>\n",
       "      <td>70.000000</td>\n",
       "    </tr>\n",
       "    <tr>\n",
       "      <th>1490</th>\n",
       "      <td>0</td>\n",
       "      <td>0</td>\n",
       "      <td>0.000000</td>\n",
       "      <td>0</td>\n",
       "      <td>0.000000</td>\n",
       "      <td>0.000000</td>\n",
       "      <td>70.000000</td>\n",
       "      <td>133.000000</td>\n",
       "      <td>112.000000</td>\n",
       "      <td>119.000000</td>\n",
       "      <td>70.000</td>\n",
       "      <td>182.000000</td>\n",
       "      <td>114.333333</td>\n",
       "    </tr>\n",
       "    <tr>\n",
       "      <th>1493</th>\n",
       "      <td>0</td>\n",
       "      <td>0</td>\n",
       "      <td>0.000000</td>\n",
       "      <td>0</td>\n",
       "      <td>0.000000</td>\n",
       "      <td>0.000000</td>\n",
       "      <td>0.000000</td>\n",
       "      <td>70.000000</td>\n",
       "      <td>70.000000</td>\n",
       "      <td>70.000000</td>\n",
       "      <td>70.000</td>\n",
       "      <td>70.000000</td>\n",
       "      <td>70.000000</td>\n",
       "    </tr>\n",
       "    <tr>\n",
       "      <th>1497</th>\n",
       "      <td>0</td>\n",
       "      <td>0</td>\n",
       "      <td>0.000000</td>\n",
       "      <td>0</td>\n",
       "      <td>0.000000</td>\n",
       "      <td>0.000000</td>\n",
       "      <td>0.000000</td>\n",
       "      <td>0.000000</td>\n",
       "      <td>0.000000</td>\n",
       "      <td>0.000000</td>\n",
       "      <td>0.000</td>\n",
       "      <td>70.000000</td>\n",
       "      <td>70.000000</td>\n",
       "    </tr>\n",
       "    <tr>\n",
       "      <th>All</th>\n",
       "      <td>70</td>\n",
       "      <td>70</td>\n",
       "      <td>74.666667</td>\n",
       "      <td>73</td>\n",
       "      <td>70.724138</td>\n",
       "      <td>71.711111</td>\n",
       "      <td>71.898305</td>\n",
       "      <td>72.859155</td>\n",
       "      <td>72.034884</td>\n",
       "      <td>72.333333</td>\n",
       "      <td>71.736</td>\n",
       "      <td>73.053691</td>\n",
       "      <td>72.280899</td>\n",
       "    </tr>\n",
       "  </tbody>\n",
       "</table>\n",
       "</div>"
      ],
      "text/plain": [
       "          1   2          3   4          5          6          7           8  \\\n",
       "user_id                                                                       \n",
       "1487      0   0   0.000000   0   0.000000   0.000000   0.000000    0.000000   \n",
       "1490      0   0   0.000000   0   0.000000   0.000000  70.000000  133.000000   \n",
       "1493      0   0   0.000000   0   0.000000   0.000000   0.000000   70.000000   \n",
       "1497      0   0   0.000000   0   0.000000   0.000000   0.000000    0.000000   \n",
       "All      70  70  74.666667  73  70.724138  71.711111  71.898305   72.859155   \n",
       "\n",
       "                  9          10      11          12         All  \n",
       "user_id                                                          \n",
       "1487       0.000000    0.000000   0.000   70.000000   70.000000  \n",
       "1490     112.000000  119.000000  70.000  182.000000  114.333333  \n",
       "1493      70.000000   70.000000  70.000   70.000000   70.000000  \n",
       "1497       0.000000    0.000000   0.000   70.000000   70.000000  \n",
       "All       72.034884   72.333333  71.736   73.053691   72.280899  "
      ]
     },
     "execution_count": 78,
     "metadata": {},
     "output_type": "execute_result"
    }
   ],
   "source": [
    "df_ul_pivot = df_ul.pivot_table(values=\"cost\", index=\"user_id\",\n",
    "                                columns=\"month\", fill_value=0, aggfunc=[\"mean\"], margins=True)\n",
    "df_ul_pivot.columns = [1, 2, 3, 4, 5, 6, 7, 8, 9, 10, 11, 12, \"All\"]\n",
    "df_ul_pivot.tail()"
   ]
  },
  {
   "cell_type": "code",
   "execution_count": 79,
   "metadata": {},
   "outputs": [],
   "source": [
    "df_ul_pivot_mean = df_ul_pivot.loc[\"All\", :].to_frame()"
   ]
  },
  {
   "cell_type": "code",
   "execution_count": 80,
   "metadata": {},
   "outputs": [
    {
     "name": "stdout",
     "output_type": "stream",
     "text": [
      "comparing the mean of the two plans (surf and ultimate) for every month in cost\n"
     ]
    },
    {
     "data": {
      "text/html": [
       "<div>\n",
       "<style scoped>\n",
       "    .dataframe tbody tr th:only-of-type {\n",
       "        vertical-align: middle;\n",
       "    }\n",
       "\n",
       "    .dataframe tbody tr th {\n",
       "        vertical-align: top;\n",
       "    }\n",
       "\n",
       "    .dataframe thead th {\n",
       "        text-align: right;\n",
       "    }\n",
       "</style>\n",
       "<table border=\"1\" class=\"dataframe\">\n",
       "  <thead>\n",
       "    <tr style=\"text-align: right;\">\n",
       "      <th></th>\n",
       "      <th>All_surf_mean_cost</th>\n",
       "      <th>All_ultimate_mean_cost</th>\n",
       "    </tr>\n",
       "  </thead>\n",
       "  <tbody>\n",
       "    <tr>\n",
       "      <th>1</th>\n",
       "      <td>20.000000</td>\n",
       "      <td>70.000000</td>\n",
       "    </tr>\n",
       "    <tr>\n",
       "      <th>2</th>\n",
       "      <td>34.396667</td>\n",
       "      <td>70.000000</td>\n",
       "    </tr>\n",
       "    <tr>\n",
       "      <th>3</th>\n",
       "      <td>45.941304</td>\n",
       "      <td>74.666667</td>\n",
       "    </tr>\n",
       "    <tr>\n",
       "      <th>4</th>\n",
       "      <td>41.133265</td>\n",
       "      <td>73.000000</td>\n",
       "    </tr>\n",
       "    <tr>\n",
       "      <th>5</th>\n",
       "      <td>48.747838</td>\n",
       "      <td>70.724138</td>\n",
       "    </tr>\n",
       "    <tr>\n",
       "      <th>6</th>\n",
       "      <td>50.163404</td>\n",
       "      <td>71.711111</td>\n",
       "    </tr>\n",
       "    <tr>\n",
       "      <th>7</th>\n",
       "      <td>63.192689</td>\n",
       "      <td>71.898305</td>\n",
       "    </tr>\n",
       "    <tr>\n",
       "      <th>8</th>\n",
       "      <td>65.203333</td>\n",
       "      <td>72.859155</td>\n",
       "    </tr>\n",
       "    <tr>\n",
       "      <th>9</th>\n",
       "      <td>57.321421</td>\n",
       "      <td>72.034884</td>\n",
       "    </tr>\n",
       "    <tr>\n",
       "      <th>10</th>\n",
       "      <td>65.567675</td>\n",
       "      <td>72.333333</td>\n",
       "    </tr>\n",
       "    <tr>\n",
       "      <th>11</th>\n",
       "      <td>57.369564</td>\n",
       "      <td>71.736000</td>\n",
       "    </tr>\n",
       "    <tr>\n",
       "      <th>12</th>\n",
       "      <td>69.318903</td>\n",
       "      <td>73.053691</td>\n",
       "    </tr>\n",
       "    <tr>\n",
       "      <th>All</th>\n",
       "      <td>60.524585</td>\n",
       "      <td>72.280899</td>\n",
       "    </tr>\n",
       "  </tbody>\n",
       "</table>\n",
       "</div>"
      ],
      "text/plain": [
       "     All_surf_mean_cost  All_ultimate_mean_cost\n",
       "1             20.000000               70.000000\n",
       "2             34.396667               70.000000\n",
       "3             45.941304               74.666667\n",
       "4             41.133265               73.000000\n",
       "5             48.747838               70.724138\n",
       "6             50.163404               71.711111\n",
       "7             63.192689               71.898305\n",
       "8             65.203333               72.859155\n",
       "9             57.321421               72.034884\n",
       "10            65.567675               72.333333\n",
       "11            57.369564               71.736000\n",
       "12            69.318903               73.053691\n",
       "All           60.524585               72.280899"
      ]
     },
     "execution_count": 80,
     "metadata": {},
     "output_type": "execute_result"
    }
   ],
   "source": [
    "print(\"comparing the mean of the two plans (surf and ultimate) for every month in cost\")\n",
    "t_cost_compare = df_su_pivot_mean.join(\n",
    "    df_ul_pivot_mean, how=\"outer\", lsuffix=\"_surf_mean_cost\", rsuffix=\"_ultimate_mean_cost\")\n",
    "t_cost_compare"
   ]
  },
  {
   "cell_type": "code",
   "execution_count": 81,
   "metadata": {},
   "outputs": [
    {
     "data": {
      "text/plain": [
       "<matplotlib.legend.Legend at 0x7ffb36505d90>"
      ]
     },
     "execution_count": 81,
     "metadata": {},
     "output_type": "execute_result"
    },
    {
     "data": {
      "image/png": "[encoded data removed]",
      "text/plain": [
       "<Figure size 864x576 with 1 Axes>"
      ]
     },
     "metadata": {
      "needs_background": "light"
     },
     "output_type": "display_data"
    }
   ],
   "source": [
    "bar_x = [\"Jan\", \"Feb\", \"Mar\", \"Apr\", \"May\", \"Jun\",\n",
    "         \"Jul\", \"Aug\", \"Sep\", \"Oct\", \"Nov\", \"Dec\", \"ALL\"]\n",
    "# set width of bar\n",
    "barWidth = 0.25\n",
    "fig = plt.subplots(figsize=(12, 8))\n",
    "\n",
    "# set height of bar\n",
    "bar_surf = t_cost_compare[\"All_surf_mean_cost\"]\n",
    "bar_ultimate = t_cost_compare[\"All_ultimate_mean_cost\"]\n",
    "\n",
    "# Set position of bar on X axis\n",
    "br1 = np.arange(len(bar_surf))\n",
    "br2 = [x + barWidth for x in br1]\n",
    "\n",
    "\n",
    "# Make the plot\n",
    "plt.bar(br1, bar_surf, color='r', width=barWidth,\n",
    "        edgecolor='grey', label='plan - SURF')\n",
    "plt.bar(br2, bar_ultimate, color='g', width=barWidth,\n",
    "        edgecolor='grey', label='plan - ULTIMATE')\n",
    "\n",
    "\n",
    "# Adding Xticks\n",
    "plt.xlabel('Month', fontweight='bold', fontsize=15)\n",
    "plt.ylabel(\"mean of every month in mean cost\", fontweight='bold', fontsize=15)\n",
    "plt.xticks([r + barWidth for r in range(len(bar_surf))], bar_x)\n",
    "plt.title(\"comparing the MEAN of the to plans (surf and ultimate) for every month cost\", fontsize=17)\n",
    "plt.legend()"
   ]
  },
  {
   "cell_type": "code",
   "execution_count": 82,
   "metadata": {},
   "outputs": [
    {
     "name": "stdout",
     "output_type": "stream",
     "text": [
      "p-value:  [4.03662371e-05]\n",
      "I reject the null hypothesis\n"
     ]
    }
   ],
   "source": [
    "# test the hypothesis that the means of two statistical populations are equal based on samples taken from them\n",
    "\n",
    "alpha = 0.05  # critical statistical significance level\n",
    "\n",
    "# if the p-value is less than alpha, we reject the hypothesis\n",
    "results = st.ttest_ind(df_su_pivot_mean, df_ul_pivot_mean)\n",
    "\n",
    "print('p-value: ', results.pvalue)\n",
    "\n",
    "if results.pvalue < alpha:\n",
    "    print(\"I reject the null hypothesis\")\n",
    "else:\n",
    "    print(\"I can't reject the null hypothesis\")\n"
   ]
  },
  {
   "cell_type": "markdown",
   "metadata": {},
   "source": [
    "hypotheses 2\n",
    " H0=The average revenues from users in NY-NJ area are equal from that of the users from other regions.\n",
    " H1=The average revenues from users in NY-NJ area are not equal from that of the users from other regions. alpha=0.05\n",
    "explanation obf the hypotheses: are the mean of the cost in resident of NY-NJ can be the same as the mean of the cost of residents outside these states?"
   ]
  },
  {
   "cell_type": "markdown",
   "metadata": {},
   "source": [
    "**get the two samples**\n"
   ]
  },
  {
   "cell_type": "code",
   "execution_count": 83,
   "metadata": {},
   "outputs": [],
   "source": [
    "# Adding \"city\" to df\n",
    "df_u1 = df_users[[\"user_id\", \"city\"]].copy()\n",
    "df_u1.set_index([\"user_id\"], inplace=True)\n",
    "df_u1[\"city\"] = df_u1[\"city\"].str.upper()\n",
    "df = df.join(df_u1, on=[\"user_id\"], how=\"left\",\n",
    "             lsuffix=\"_left\", rsuffix=\"_right\")"
   ]
  },
  {
   "cell_type": "code",
   "execution_count": 84,
   "metadata": {},
   "outputs": [],
   "source": [
    "# making two new df\n",
    "df_ny = df.loc[df[\"city\"].str.contains(\"NY-NJ\", case=False)]\n",
    "df_nony = df.loc[~(df[\"city\"].str.contains(\"NY-NJ\", case=False))]"
   ]
  },
  {
   "cell_type": "code",
   "execution_count": 85,
   "metadata": {},
   "outputs": [
    {
     "name": "stdout",
     "output_type": "stream",
     "text": [
      "number of users in NY - NJ: 79\n",
      "number of users not in NY - NJ: 411\n"
     ]
    }
   ],
   "source": [
    "print(f\"number of users in NY - NJ: {len(df_ny.groupby('user_id'))}\")\n",
    "print(f\"number of users not in NY - NJ: {len(df_nony.groupby('user_id'))}\")"
   ]
  },
  {
   "cell_type": "code",
   "execution_count": 86,
   "metadata": {
    "scrolled": true
   },
   "outputs": [
    {
     "data": {
      "text/plain": [
       "Text(24.0, 0.5, 'Number of Useres')"
      ]
     },
     "execution_count": 86,
     "metadata": {},
     "output_type": "execute_result"
    },
    {
     "data": {
      "image/png": "[encoded data removed]",
      "text/plain": [
       "<Figure size 432x288 with 1 Axes>"
      ]
     },
     "metadata": {
      "needs_background": "light"
     },
     "output_type": "display_data"
    }
   ],
   "source": [
    "bar_x = [\"NY-NJ\", \"All exclude NY-NJ\"]\n",
    "bar_y = [len(df_ny.groupby('user_id')), len(df_nony.groupby('user_id'))]\n",
    "fig, ax = plt.subplots(squeeze=False)\n",
    "plt.bar(x=bar_x, height=bar_y)\n",
    "plt.tight_layout()\n",
    "plt.title(\"Number of users in NY-NJ and other states\", fontsize=17)\n",
    "plt.xlabel(\"states\", fontsize=14)\n",
    "plt.ylabel(\"Number of Useres\", fontsize=14)"
   ]
  },
  {
   "cell_type": "markdown",
   "metadata": {},
   "source": [
    "**build the two dataframes**"
   ]
  },
  {
   "cell_type": "code",
   "execution_count": 87,
   "metadata": {},
   "outputs": [
    {
     "data": {
      "text/html": [
       "<div>\n",
       "<style scoped>\n",
       "    .dataframe tbody tr th:only-of-type {\n",
       "        vertical-align: middle;\n",
       "    }\n",
       "\n",
       "    .dataframe tbody tr th {\n",
       "        vertical-align: top;\n",
       "    }\n",
       "\n",
       "    .dataframe thead th {\n",
       "        text-align: right;\n",
       "    }\n",
       "</style>\n",
       "<table border=\"1\" class=\"dataframe\">\n",
       "  <thead>\n",
       "    <tr style=\"text-align: right;\">\n",
       "      <th></th>\n",
       "      <th>2</th>\n",
       "      <th>3</th>\n",
       "      <th>4</th>\n",
       "      <th>5</th>\n",
       "      <th>6</th>\n",
       "      <th>7</th>\n",
       "      <th>8</th>\n",
       "      <th>9</th>\n",
       "      <th>10</th>\n",
       "      <th>11</th>\n",
       "      <th>12</th>\n",
       "      <th>All</th>\n",
       "    </tr>\n",
       "    <tr>\n",
       "      <th>user_id</th>\n",
       "      <th></th>\n",
       "      <th></th>\n",
       "      <th></th>\n",
       "      <th></th>\n",
       "      <th></th>\n",
       "      <th></th>\n",
       "      <th></th>\n",
       "      <th></th>\n",
       "      <th></th>\n",
       "      <th></th>\n",
       "      <th></th>\n",
       "      <th></th>\n",
       "    </tr>\n",
       "  </thead>\n",
       "  <tbody>\n",
       "    <tr>\n",
       "      <th>1482</th>\n",
       "      <td>0</td>\n",
       "      <td>0.00</td>\n",
       "      <td>0.000000</td>\n",
       "      <td>0.000</td>\n",
       "      <td>0.0000</td>\n",
       "      <td>0.000000</td>\n",
       "      <td>0.0000</td>\n",
       "      <td>0.000000</td>\n",
       "      <td>0.000000</td>\n",
       "      <td>70.000000</td>\n",
       "      <td>70.0000</td>\n",
       "      <td>70.000000</td>\n",
       "    </tr>\n",
       "    <tr>\n",
       "      <th>1494</th>\n",
       "      <td>0</td>\n",
       "      <td>0.00</td>\n",
       "      <td>0.000000</td>\n",
       "      <td>0.000</td>\n",
       "      <td>0.0000</td>\n",
       "      <td>20.000000</td>\n",
       "      <td>40.0000</td>\n",
       "      <td>30.000000</td>\n",
       "      <td>23.480000</td>\n",
       "      <td>50.270000</td>\n",
       "      <td>20.0000</td>\n",
       "      <td>30.625000</td>\n",
       "    </tr>\n",
       "    <tr>\n",
       "      <th>1495</th>\n",
       "      <td>0</td>\n",
       "      <td>0.00</td>\n",
       "      <td>0.000000</td>\n",
       "      <td>0.000</td>\n",
       "      <td>0.0000</td>\n",
       "      <td>0.000000</td>\n",
       "      <td>0.0000</td>\n",
       "      <td>100.000000</td>\n",
       "      <td>143.300000</td>\n",
       "      <td>120.000000</td>\n",
       "      <td>110.0000</td>\n",
       "      <td>118.325000</td>\n",
       "    </tr>\n",
       "    <tr>\n",
       "      <th>1498</th>\n",
       "      <td>70</td>\n",
       "      <td>70.00</td>\n",
       "      <td>70.000000</td>\n",
       "      <td>90.000</td>\n",
       "      <td>20.0000</td>\n",
       "      <td>120.000000</td>\n",
       "      <td>70.0000</td>\n",
       "      <td>100.000000</td>\n",
       "      <td>80.000000</td>\n",
       "      <td>60.000000</td>\n",
       "      <td>100.0000</td>\n",
       "      <td>77.272727</td>\n",
       "    </tr>\n",
       "    <tr>\n",
       "      <th>All</th>\n",
       "      <td>45</td>\n",
       "      <td>41.14</td>\n",
       "      <td>41.119286</td>\n",
       "      <td>47.965</td>\n",
       "      <td>45.9416</td>\n",
       "      <td>53.747879</td>\n",
       "      <td>57.5045</td>\n",
       "      <td>58.804783</td>\n",
       "      <td>67.106078</td>\n",
       "      <td>64.115833</td>\n",
       "      <td>63.9556</td>\n",
       "      <td>58.836027</td>\n",
       "    </tr>\n",
       "  </tbody>\n",
       "</table>\n",
       "</div>"
      ],
      "text/plain": [
       "          2      3          4       5        6           7        8  \\\n",
       "user_id                                                               \n",
       "1482      0   0.00   0.000000   0.000   0.0000    0.000000   0.0000   \n",
       "1494      0   0.00   0.000000   0.000   0.0000   20.000000  40.0000   \n",
       "1495      0   0.00   0.000000   0.000   0.0000    0.000000   0.0000   \n",
       "1498     70  70.00  70.000000  90.000  20.0000  120.000000  70.0000   \n",
       "All      45  41.14  41.119286  47.965  45.9416   53.747879  57.5045   \n",
       "\n",
       "                  9          10          11        12         All  \n",
       "user_id                                                            \n",
       "1482       0.000000    0.000000   70.000000   70.0000   70.000000  \n",
       "1494      30.000000   23.480000   50.270000   20.0000   30.625000  \n",
       "1495     100.000000  143.300000  120.000000  110.0000  118.325000  \n",
       "1498     100.000000   80.000000   60.000000  100.0000   77.272727  \n",
       "All       58.804783   67.106078   64.115833   63.9556   58.836027  "
      ]
     },
     "execution_count": 87,
     "metadata": {},
     "output_type": "execute_result"
    }
   ],
   "source": [
    "df_ny_pivot = df_ny.pivot_table(values=\"cost\", index=\"user_id\",\n",
    "                                columns=\"month\", fill_value=0, aggfunc=[\"mean\"], margins=True)\n",
    "df_ny_pivot.columns = [2, 3, 4, 5, 6, 7, 8, 9, 10, 11, 12, \"All\"]\n",
    "df_ny_pivot.tail()"
   ]
  },
  {
   "cell_type": "code",
   "execution_count": 88,
   "metadata": {},
   "outputs": [],
   "source": [
    "df_ny_pivot_mean = df_ny_pivot.loc[\"All\", :].to_frame()"
   ]
  },
  {
   "cell_type": "code",
   "execution_count": 89,
   "metadata": {},
   "outputs": [
    {
     "data": {
      "text/html": [
       "<div>\n",
       "<style scoped>\n",
       "    .dataframe tbody tr th:only-of-type {\n",
       "        vertical-align: middle;\n",
       "    }\n",
       "\n",
       "    .dataframe tbody tr th {\n",
       "        vertical-align: top;\n",
       "    }\n",
       "\n",
       "    .dataframe thead th {\n",
       "        text-align: right;\n",
       "    }\n",
       "</style>\n",
       "<table border=\"1\" class=\"dataframe\">\n",
       "  <thead>\n",
       "    <tr style=\"text-align: right;\">\n",
       "      <th></th>\n",
       "      <th>1</th>\n",
       "      <th>2</th>\n",
       "      <th>3</th>\n",
       "      <th>4</th>\n",
       "      <th>5</th>\n",
       "      <th>6</th>\n",
       "      <th>7</th>\n",
       "      <th>8</th>\n",
       "      <th>9</th>\n",
       "      <th>10</th>\n",
       "      <th>11</th>\n",
       "      <th>12</th>\n",
       "      <th>All</th>\n",
       "    </tr>\n",
       "    <tr>\n",
       "      <th>user_id</th>\n",
       "      <th></th>\n",
       "      <th></th>\n",
       "      <th></th>\n",
       "      <th></th>\n",
       "      <th></th>\n",
       "      <th></th>\n",
       "      <th></th>\n",
       "      <th></th>\n",
       "      <th></th>\n",
       "      <th></th>\n",
       "      <th></th>\n",
       "      <th></th>\n",
       "      <th></th>\n",
       "    </tr>\n",
       "  </thead>\n",
       "  <tbody>\n",
       "    <tr>\n",
       "      <th>1493</th>\n",
       "      <td>0.000000</td>\n",
       "      <td>0.000000</td>\n",
       "      <td>0.000000</td>\n",
       "      <td>0.000000</td>\n",
       "      <td>0.000000</td>\n",
       "      <td>0.000000</td>\n",
       "      <td>0.000000</td>\n",
       "      <td>70.000000</td>\n",
       "      <td>70.000000</td>\n",
       "      <td>70.000000</td>\n",
       "      <td>70.000000</td>\n",
       "      <td>70.000000</td>\n",
       "      <td>70.000000</td>\n",
       "    </tr>\n",
       "    <tr>\n",
       "      <th>1496</th>\n",
       "      <td>0.000000</td>\n",
       "      <td>0.000000</td>\n",
       "      <td>0.000000</td>\n",
       "      <td>0.000000</td>\n",
       "      <td>0.000000</td>\n",
       "      <td>0.000000</td>\n",
       "      <td>0.000000</td>\n",
       "      <td>20.000000</td>\n",
       "      <td>40.000000</td>\n",
       "      <td>20.000000</td>\n",
       "      <td>20.000000</td>\n",
       "      <td>40.000000</td>\n",
       "      <td>28.000000</td>\n",
       "    </tr>\n",
       "    <tr>\n",
       "      <th>1497</th>\n",
       "      <td>0.000000</td>\n",
       "      <td>0.000000</td>\n",
       "      <td>0.000000</td>\n",
       "      <td>0.000000</td>\n",
       "      <td>0.000000</td>\n",
       "      <td>0.000000</td>\n",
       "      <td>0.000000</td>\n",
       "      <td>0.000000</td>\n",
       "      <td>0.000000</td>\n",
       "      <td>0.000000</td>\n",
       "      <td>0.000000</td>\n",
       "      <td>70.000000</td>\n",
       "      <td>70.000000</td>\n",
       "    </tr>\n",
       "    <tr>\n",
       "      <th>1499</th>\n",
       "      <td>0.000000</td>\n",
       "      <td>0.000000</td>\n",
       "      <td>0.000000</td>\n",
       "      <td>0.000000</td>\n",
       "      <td>0.000000</td>\n",
       "      <td>0.000000</td>\n",
       "      <td>0.000000</td>\n",
       "      <td>0.000000</td>\n",
       "      <td>20.000000</td>\n",
       "      <td>70.000000</td>\n",
       "      <td>40.000000</td>\n",
       "      <td>90.000000</td>\n",
       "      <td>55.000000</td>\n",
       "    </tr>\n",
       "    <tr>\n",
       "      <th>All</th>\n",
       "      <td>53.333333</td>\n",
       "      <td>49.197692</td>\n",
       "      <td>58.821034</td>\n",
       "      <td>53.086786</td>\n",
       "      <td>56.411412</td>\n",
       "      <td>59.594912</td>\n",
       "      <td>68.884483</td>\n",
       "      <td>69.756898</td>\n",
       "      <td>62.526304</td>\n",
       "      <td>67.808582</td>\n",
       "      <td>61.460824</td>\n",
       "      <td>71.815599</td>\n",
       "      <td>65.332314</td>\n",
       "    </tr>\n",
       "  </tbody>\n",
       "</table>\n",
       "</div>"
      ],
      "text/plain": [
       "                 1          2          3          4          5          6  \\\n",
       "user_id                                                                     \n",
       "1493      0.000000   0.000000   0.000000   0.000000   0.000000   0.000000   \n",
       "1496      0.000000   0.000000   0.000000   0.000000   0.000000   0.000000   \n",
       "1497      0.000000   0.000000   0.000000   0.000000   0.000000   0.000000   \n",
       "1499      0.000000   0.000000   0.000000   0.000000   0.000000   0.000000   \n",
       "All      53.333333  49.197692  58.821034  53.086786  56.411412  59.594912   \n",
       "\n",
       "                 7          8          9         10         11         12  \\\n",
       "user_id                                                                     \n",
       "1493      0.000000  70.000000  70.000000  70.000000  70.000000  70.000000   \n",
       "1496      0.000000  20.000000  40.000000  20.000000  20.000000  40.000000   \n",
       "1497      0.000000   0.000000   0.000000   0.000000   0.000000  70.000000   \n",
       "1499      0.000000   0.000000  20.000000  70.000000  40.000000  90.000000   \n",
       "All      68.884483  69.756898  62.526304  67.808582  61.460824  71.815599   \n",
       "\n",
       "               All  \n",
       "user_id             \n",
       "1493     70.000000  \n",
       "1496     28.000000  \n",
       "1497     70.000000  \n",
       "1499     55.000000  \n",
       "All      65.332314  "
      ]
     },
     "execution_count": 89,
     "metadata": {},
     "output_type": "execute_result"
    }
   ],
   "source": [
    "df_nony_pivot = df_nony.pivot_table(\n",
    "    values=\"cost\", index=\"user_id\", columns=\"month\", fill_value=0, aggfunc=[\"mean\"], margins=True)\n",
    "df_nony_pivot.columns = [1, 2, 3, 4, 5, 6, 7, 8, 9, 10, 11, 12, \"All\"]\n",
    "df_nony_pivot.tail()"
   ]
  },
  {
   "cell_type": "code",
   "execution_count": 90,
   "metadata": {},
   "outputs": [],
   "source": [
    "df_nony_pivot_mean = df_nony_pivot.loc[\"All\", :].to_frame()"
   ]
  },
  {
   "cell_type": "code",
   "execution_count": 91,
   "metadata": {},
   "outputs": [
    {
     "name": "stdout",
     "output_type": "stream",
     "text": [
      "comparing the mean of the two geographic spots (NY-NJ and not NY-NJ) for every month in cost\n"
     ]
    },
    {
     "data": {
      "text/html": [
       "<div>\n",
       "<style scoped>\n",
       "    .dataframe tbody tr th:only-of-type {\n",
       "        vertical-align: middle;\n",
       "    }\n",
       "\n",
       "    .dataframe tbody tr th {\n",
       "        vertical-align: top;\n",
       "    }\n",
       "\n",
       "    .dataframe thead th {\n",
       "        text-align: right;\n",
       "    }\n",
       "</style>\n",
       "<table border=\"1\" class=\"dataframe\">\n",
       "  <thead>\n",
       "    <tr style=\"text-align: right;\">\n",
       "      <th></th>\n",
       "      <th>All_NY-NJ-mean</th>\n",
       "      <th>All_NOT NY-NJ-mean</th>\n",
       "    </tr>\n",
       "  </thead>\n",
       "  <tbody>\n",
       "    <tr>\n",
       "      <th>1</th>\n",
       "      <td>NaN</td>\n",
       "      <td>53.333333</td>\n",
       "    </tr>\n",
       "    <tr>\n",
       "      <th>2</th>\n",
       "      <td>45.000000</td>\n",
       "      <td>49.197692</td>\n",
       "    </tr>\n",
       "    <tr>\n",
       "      <th>3</th>\n",
       "      <td>41.140000</td>\n",
       "      <td>58.821034</td>\n",
       "    </tr>\n",
       "    <tr>\n",
       "      <th>4</th>\n",
       "      <td>41.119286</td>\n",
       "      <td>53.086786</td>\n",
       "    </tr>\n",
       "    <tr>\n",
       "      <th>5</th>\n",
       "      <td>47.965000</td>\n",
       "      <td>56.411412</td>\n",
       "    </tr>\n",
       "    <tr>\n",
       "      <th>6</th>\n",
       "      <td>45.941600</td>\n",
       "      <td>59.594912</td>\n",
       "    </tr>\n",
       "    <tr>\n",
       "      <th>7</th>\n",
       "      <td>53.747879</td>\n",
       "      <td>68.884483</td>\n",
       "    </tr>\n",
       "    <tr>\n",
       "      <th>8</th>\n",
       "      <td>57.504500</td>\n",
       "      <td>69.756898</td>\n",
       "    </tr>\n",
       "    <tr>\n",
       "      <th>9</th>\n",
       "      <td>58.804783</td>\n",
       "      <td>62.526304</td>\n",
       "    </tr>\n",
       "    <tr>\n",
       "      <th>10</th>\n",
       "      <td>67.106078</td>\n",
       "      <td>67.808582</td>\n",
       "    </tr>\n",
       "    <tr>\n",
       "      <th>11</th>\n",
       "      <td>64.115833</td>\n",
       "      <td>61.460824</td>\n",
       "    </tr>\n",
       "    <tr>\n",
       "      <th>12</th>\n",
       "      <td>63.955600</td>\n",
       "      <td>71.815599</td>\n",
       "    </tr>\n",
       "    <tr>\n",
       "      <th>All</th>\n",
       "      <td>58.836027</td>\n",
       "      <td>65.332314</td>\n",
       "    </tr>\n",
       "  </tbody>\n",
       "</table>\n",
       "</div>"
      ],
      "text/plain": [
       "     All_NY-NJ-mean  All_NOT NY-NJ-mean\n",
       "1               NaN           53.333333\n",
       "2         45.000000           49.197692\n",
       "3         41.140000           58.821034\n",
       "4         41.119286           53.086786\n",
       "5         47.965000           56.411412\n",
       "6         45.941600           59.594912\n",
       "7         53.747879           68.884483\n",
       "8         57.504500           69.756898\n",
       "9         58.804783           62.526304\n",
       "10        67.106078           67.808582\n",
       "11        64.115833           61.460824\n",
       "12        63.955600           71.815599\n",
       "All       58.836027           65.332314"
      ]
     },
     "execution_count": 91,
     "metadata": {},
     "output_type": "execute_result"
    }
   ],
   "source": [
    "print(\"comparing the mean of the two geographic spots (NY-NJ and not NY-NJ) for every month in cost\")\n",
    "city_compare = df_ny_pivot_mean.join(\n",
    "    df_nony_pivot_mean, how=\"outer\", lsuffix=\"_NY-NJ-mean\", rsuffix=\"_NOT NY-NJ-mean\")\n",
    "city_compare"
   ]
  },
  {
   "cell_type": "code",
   "execution_count": 92,
   "metadata": {},
   "outputs": [
    {
     "data": {
      "text/plain": [
       "<matplotlib.legend.Legend at 0x7ffb364021c0>"
      ]
     },
     "execution_count": 92,
     "metadata": {},
     "output_type": "execute_result"
    },
    {
     "data": {
      "image/png": "[encoded data removed]",
      "text/plain": [
       "<Figure size 864x576 with 1 Axes>"
      ]
     },
     "metadata": {
      "needs_background": "light"
     },
     "output_type": "display_data"
    }
   ],
   "source": [
    "bar_x = [\"Jan\", \"Feb\", \"Mar\", \"Apr\", \"May\", \"Jun\",\n",
    "         \"Jul\", \"Aug\", \"Sep\", \"Oct\", \"Nov\", \"Dec\", \"ALL\"]\n",
    "# set width of bar\n",
    "barWidth = 0.25\n",
    "fig = plt.subplots(figsize=(12, 8))\n",
    "\n",
    "# set height of bar\n",
    "bar_surf = city_compare[\"All_NY-NJ-mean\"]\n",
    "bar_ultimate = city_compare[\"All_NOT NY-NJ-mean\"]\n",
    "\n",
    "# Set position of bar on X axis\n",
    "br1 = np.arange(len(bar_surf))\n",
    "br2 = [x + barWidth for x in br1]\n",
    "\n",
    "\n",
    "# Make the plot\n",
    "plt.bar(br1, bar_surf, color='r', width=barWidth,\n",
    "        edgecolor='grey', label='residents of NY-NJ')\n",
    "plt.bar(br2, bar_ultimate, color='g', width=barWidth,\n",
    "        edgecolor='grey', label='residents outside of of NY-NJ')\n",
    "\n",
    "# Adding Xticks\n",
    "plt.xlabel('Month', fontweight='bold', fontsize=15)\n",
    "plt.ylabel(\"mean of every month in mean cost\", fontweight='bold', fontsize=15)\n",
    "plt.xticks([r + barWidth for r in range(len(bar_surf))], bar_x)\n",
    "plt.title(\"comparing the MEAN of the residency (NY-NJ and other) for every month cost\", fontsize=17)\n",
    "plt.legend()"
   ]
  },
  {
   "cell_type": "code",
   "execution_count": 93,
   "metadata": {},
   "outputs": [
    {
     "name": "stdout",
     "output_type": "stream",
     "text": [
      "p-value:  [0.0299454]\n",
      "I reject the null hypothesis\n"
     ]
    }
   ],
   "source": [
    "# test the hypothesis that the means of two statistical populations are equal based on samples taken from them\n",
    "\n",
    "alpha = 0.05  # critical statistical significance level\n",
    "\n",
    "# if the p-value is less than alpha, we reject the hypothesis\n",
    "results = st.ttest_ind(df_ny_pivot_mean, df_nony_pivot_mean)\n",
    "\n",
    "print('p-value: ', results.pvalue)\n",
    "\n",
    "if results.pvalue < alpha:\n",
    "    print(\"I reject the null hypothesis\")\n",
    "else:\n",
    "    print(\"I can't reject the null hypothesis\")"
   ]
  },
  {
   "cell_type": "markdown",
   "metadata": {},
   "source": [
    "\n",
    "<div class=\"alert alert-success\">\n",
    "<b>Reviewer's comment v1:</b>\n",
    "    \n",
    "- Overall great job! Hypotheses have been formulated and tested correctly. Great that you additionally checked data that has been used for the test. \n",
    "- Your conclusions based on the results are also correct.\n",
    "- Great that you additionally correctly compared the variances using tests. It is also possible to compare data sample variances using Levene test (https://docs.scipy.org/doc/scipy/reference/generated/scipy.stats.levene.html) or Bartlett’s test (https://docs.scipy.org/doc/scipy/reference/generated/scipy.stats.bartlett.html)"
   ]
  },
  {
   "cell_type": "markdown",
   "metadata": {},
   "source": [
    "## General conclusion\n",
    "\n",
    "[List your important conclusions in this final section, make sure they cover all those important decisions (assumptions) that you've made and that led you to the way you processed and analyzed the data.]"
   ]
  },
  {
   "cell_type": "markdown",
   "metadata": {},
   "source": [
    "**conclusion**\n",
    "\n",
    "In this project I checked a sample of data from telecom operator for the year 2018. The company offers two plans. I had to calculate for every user the charge every month.\n",
    "\n",
    "**the major finding in analyzing the sample are:**\n",
    "\n",
    "- The sample I got start on 15 Jan until 31 Dec\n",
    "- Out of 137.7K calls, 26.8K was of zero time. Zero time calls are not real calls. It doesn't add up to the time the users are charge and it doesn't affect the user calculation. I will delete them\n",
    "- In calculating the cost, I used the user plan as follow: Megaline rounds seconds up to minutes, and megabytes to gigabytes. For calls, each individual call is rounded up: even if the call lasted just one second, it will be counted as one minute. For web traffic, individual web sessions are not rounded up. Instead, the total for the month is rounded up. If someone uses 1025 megabytes this month, they will be charged for 2 gigabytes.\n",
    "Megaline rounds seconds up to minutes, and megabytes to gigabytes. For calls, each individual call is rounded up: even if the call lasted just one second, it will be counted as one minute. For web traffic, individual web sessions are not rounded up. Instead, the total for the month is rounded up. If someone uses 1025 megabytes this month, they will be charged for 2 gigabytes.\n",
    "\n",
    "- Most users pay the plan fee, not more. The minimum is the first plan fee\n",
    "- Most uses correspond to the plans limits\n",
    "- users by plans in the sample:\n",
    "    number of users in plan surf: 333\n",
    "    number of users in plan ultimate: 157\n",
    "- most users don't send messages\n",
    "- The distributions of call minutes are similar in both plans\n",
    "- The distributions of GigaByte used are similar in both plans\n",
    "- Comparing the mean of gb_used mean for every month, we can see in January until April that the ultimate plan's mean was higher then the surf plan. **But** from June, the Gb usage is about the same for both plans. Maybe the company can sell the ultimate plan to the surf costumers.\n",
    "- The company makes the biggest profit from users who are using the Internet more than the plan they have\n",
    "- The revenue from calls exceeding the plans for all the sample in 2018 is 2900.25 USD\n",
    "- The revenue from messages exceeding the plans for all the sample in 2018 is 330.93 USD\n",
    "- The revenue from intrnet-Gb exceeding the plans for all the sample in 2018 is 62466.0 USD\n",
    "**hypotheses**\n",
    "I checked to hypotheses:\n",
    "\n",
    "**the first hypotheses**\n",
    "Is that the average revenue from users of Ultimate and Surf calling plans are considered equal (are the mean of the cost in plan surf can be the same as the mean of the ultimate cost?). After choosing alpha = 5%, I had to reject the hypotheses. The p-value was 4.03662371e-05.\n",
    "\n",
    "- I cannot accept H0  hypothesis that the mean of the two sample group are equal, rather I must accept that probably the mean of the two sample are different (H1)\n",
    "- The mean cost of the \"surf\" plan is 60.52 and the mean cost of the \"ultimate\" plan is 72.28\n",
    "from the hypothesis rejection, the ultimate mean is probably higher then the surf in the population\n",
    "\n",
    "**The second hypotheses**\n",
    "Is that the average revenues from users resident of NY-NJ area are equal to that of the users from other regions (are the mean of the cost in resident of NY-NJ can be the same as the mean of the cost of residents outside these states?). After choosing alpha = 5%, I had to reject the hypotheses. The p-value was 0.0299454\n",
    "\n",
    "- I cannot accept H0 hypothesis that the mean of the two sample group are equal, rather I must accept that probably the mean of the two sample are different (H1)\n",
    "- The mean cost of the \"NY-NJ\" residents is 58.84 and the mean cost of the \"ultimate\" plan is 65.33\n",
    "- From the hypothesis rejection, the \"others\" mean is probably higher the the mean in the population"
   ]
  },
  {
   "cell_type": "markdown",
   "metadata": {},
   "source": [
    "<div class=\"alert alert-success\" role=\"alert\">\n",
    "<b>Reviewer's comment v1:</b>\n",
    "    \n",
    "- You conducted an outstanding research with correct interim findings, clean code and nice visualisation.\n",
    "- I also like your overall conclusion. It is very structured and provides insights and recommendations to the business."
   ]
  }
 ],
 "metadata": {
  "ExecuteTimeLog": [
   {
    "duration": 828,
    "start_time": "2021-11-16T09:21:11.304Z"
   },
   {
    "duration": 893,
    "start_time": "2021-11-16T09:21:17.728Z"
   },
   {
    "duration": 1150,
    "start_time": "2021-11-16T09:21:29.568Z"
   },
   {
    "duration": 3,
    "start_time": "2021-11-16T09:24:14.495Z"
   },
   {
    "duration": 120,
    "start_time": "2021-11-16T09:24:46.630Z"
   },
   {
    "duration": 3,
    "start_time": "2021-11-16T09:28:27.882Z"
   },
   {
    "duration": 4,
    "start_time": "2021-11-16T09:29:54.281Z"
   },
   {
    "duration": 3,
    "start_time": "2021-11-16T09:30:45.936Z"
   },
   {
    "duration": 4,
    "start_time": "2021-11-16T09:31:06.300Z"
   },
   {
    "duration": 113,
    "start_time": "2021-11-16T09:31:37.208Z"
   },
   {
    "duration": 143,
    "start_time": "2021-11-16T09:31:48.656Z"
   },
   {
    "duration": 98,
    "start_time": "2021-11-16T09:31:55.678Z"
   },
   {
    "duration": 3,
    "start_time": "2021-11-16T09:32:08.535Z"
   },
   {
    "duration": 111,
    "start_time": "2021-11-16T09:32:10.120Z"
   },
   {
    "duration": 3,
    "start_time": "2021-11-16T09:32:15.732Z"
   },
   {
    "duration": 4,
    "start_time": "2021-11-16T09:32:29.423Z"
   },
   {
    "duration": 3,
    "start_time": "2021-11-16T10:03:03.074Z"
   },
   {
    "duration": 3,
    "start_time": "2021-11-16T10:10:01.288Z"
   },
   {
    "duration": 3,
    "start_time": "2021-11-16T10:10:46.923Z"
   },
   {
    "duration": 121,
    "start_time": "2021-11-16T10:37:46.494Z"
   },
   {
    "duration": 125,
    "start_time": "2021-11-16T10:38:20.632Z"
   },
   {
    "duration": 112,
    "start_time": "2021-11-16T10:46:53.001Z"
   },
   {
    "duration": 110,
    "start_time": "2021-11-16T10:48:25.775Z"
   },
   {
    "duration": 3,
    "start_time": "2021-11-16T10:50:18.720Z"
   },
   {
    "duration": 4,
    "start_time": "2021-11-16T10:50:37.649Z"
   },
   {
    "duration": 2,
    "start_time": "2021-11-16T10:50:51.884Z"
   },
   {
    "duration": 3,
    "start_time": "2021-11-16T10:51:56.237Z"
   },
   {
    "duration": 101,
    "start_time": "2021-11-16T10:53:13.791Z"
   },
   {
    "duration": 3,
    "start_time": "2021-11-16T10:55:59.186Z"
   },
   {
    "duration": 3,
    "start_time": "2021-11-16T10:56:10.751Z"
   },
   {
    "duration": 3,
    "start_time": "2021-11-16T10:56:49.038Z"
   },
   {
    "duration": 3,
    "start_time": "2021-11-16T10:56:49.174Z"
   },
   {
    "duration": 4,
    "start_time": "2021-11-16T10:56:49.414Z"
   },
   {
    "duration": 3,
    "start_time": "2021-11-16T10:56:49.680Z"
   },
   {
    "duration": 3,
    "start_time": "2021-11-16T10:56:50.370Z"
   },
   {
    "duration": 114,
    "start_time": "2021-11-16T10:59:34.518Z"
   },
   {
    "duration": 3,
    "start_time": "2021-11-16T11:01:41.201Z"
   },
   {
    "duration": 116,
    "start_time": "2021-11-16T11:01:48.754Z"
   },
   {
    "duration": 3,
    "start_time": "2021-11-16T11:02:16.685Z"
   },
   {
    "duration": 3,
    "start_time": "2021-11-16T11:02:19.479Z"
   },
   {
    "duration": 3,
    "start_time": "2021-11-16T11:02:47.067Z"
   },
   {
    "duration": 3,
    "start_time": "2021-11-16T11:02:49.353Z"
   },
   {
    "duration": 3,
    "start_time": "2021-11-16T11:03:07.835Z"
   },
   {
    "duration": 3,
    "start_time": "2021-11-16T11:03:07.953Z"
   },
   {
    "duration": 112,
    "start_time": "2021-11-16T11:07:52.072Z"
   },
   {
    "duration": 187,
    "start_time": "2021-11-16T11:09:23.468Z"
   },
   {
    "duration": 4,
    "start_time": "2021-11-16T11:10:01.455Z"
   },
   {
    "duration": 3,
    "start_time": "2021-11-16T11:10:05.069Z"
   },
   {
    "duration": 4,
    "start_time": "2021-11-16T11:10:13.376Z"
   },
   {
    "duration": 3,
    "start_time": "2021-11-16T11:10:14.434Z"
   },
   {
    "duration": 3,
    "start_time": "2021-11-16T11:10:22.853Z"
   },
   {
    "duration": 4,
    "start_time": "2021-11-16T11:27:29.279Z"
   },
   {
    "duration": 4,
    "start_time": "2021-11-16T11:29:08.919Z"
   },
   {
    "duration": 118,
    "start_time": "2021-11-16T11:29:46.703Z"
   },
   {
    "duration": 437,
    "start_time": "2021-11-16T11:36:02.181Z"
   },
   {
    "duration": 157,
    "start_time": "2021-11-16T11:36:14.388Z"
   },
   {
    "duration": 207,
    "start_time": "2021-11-16T11:47:15.898Z"
   },
   {
    "duration": 3,
    "start_time": "2021-11-16T11:53:52.092Z"
   },
   {
    "duration": 3,
    "start_time": "2021-11-16T11:53:52.236Z"
   },
   {
    "duration": 3,
    "start_time": "2021-11-16T11:59:12.005Z"
   },
   {
    "duration": 112,
    "start_time": "2021-11-16T12:00:33.446Z"
   },
   {
    "duration": 3,
    "start_time": "2021-11-16T12:02:14.453Z"
   },
   {
    "duration": 3,
    "start_time": "2021-11-16T12:02:39.512Z"
   },
   {
    "duration": 106,
    "start_time": "2021-11-16T12:03:03.460Z"
   },
   {
    "duration": 3,
    "start_time": "2021-11-17T20:37:21.139Z"
   },
   {
    "duration": 3,
    "start_time": "2021-11-17T20:37:22.229Z"
   },
   {
    "duration": 3,
    "start_time": "2021-11-17T20:38:38.806Z"
   },
   {
    "duration": 3,
    "start_time": "2021-11-17T20:38:41.958Z"
   },
   {
    "duration": 3,
    "start_time": "2021-11-17T20:43:46.551Z"
   },
   {
    "duration": 4,
    "start_time": "2021-11-17T20:58:21.835Z"
   },
   {
    "duration": 3,
    "start_time": "2021-11-17T20:59:21.872Z"
   },
   {
    "duration": 4,
    "start_time": "2021-11-17T20:59:45.352Z"
   },
   {
    "duration": 4,
    "start_time": "2021-11-17T20:59:49.646Z"
   },
   {
    "duration": 159,
    "start_time": "2021-11-17T21:02:26.949Z"
   },
   {
    "duration": 3,
    "start_time": "2021-11-17T21:03:53.461Z"
   },
   {
    "duration": 3,
    "start_time": "2021-11-17T21:03:53.694Z"
   },
   {
    "duration": 3,
    "start_time": "2021-11-17T21:05:28.145Z"
   },
   {
    "duration": 116,
    "start_time": "2021-11-17T21:05:57.787Z"
   },
   {
    "duration": 3,
    "start_time": "2021-11-17T21:06:37.993Z"
   },
   {
    "duration": 3,
    "start_time": "2021-11-17T21:06:38.261Z"
   },
   {
    "duration": 3,
    "start_time": "2021-11-17T21:11:54.358Z"
   },
   {
    "duration": 3,
    "start_time": "2021-11-17T21:12:43.846Z"
   },
   {
    "duration": 4,
    "start_time": "2021-11-17T21:13:08.773Z"
   },
   {
    "duration": 3,
    "start_time": "2021-11-17T21:14:44.441Z"
   },
   {
    "duration": 3,
    "start_time": "2021-11-17T21:15:42.059Z"
   },
   {
    "duration": 4,
    "start_time": "2021-11-17T21:15:51.995Z"
   },
   {
    "duration": 3,
    "start_time": "2021-11-17T21:15:53.923Z"
   },
   {
    "duration": 3,
    "start_time": "2021-11-17T21:15:55.282Z"
   },
   {
    "duration": 3,
    "start_time": "2021-11-17T21:16:28.492Z"
   },
   {
    "duration": 3,
    "start_time": "2021-11-17T21:16:32.603Z"
   },
   {
    "duration": 3,
    "start_time": "2021-11-17T21:17:06.941Z"
   },
   {
    "duration": 98,
    "start_time": "2021-11-17T21:18:05.733Z"
   },
   {
    "duration": 4,
    "start_time": "2021-11-17T21:21:35.255Z"
   },
   {
    "duration": 3,
    "start_time": "2021-11-17T21:21:37.804Z"
   },
   {
    "duration": 4,
    "start_time": "2021-11-17T21:23:06.071Z"
   },
   {
    "duration": 3,
    "start_time": "2021-11-17T21:23:24.799Z"
   },
   {
    "duration": 3,
    "start_time": "2021-11-17T21:23:32.591Z"
   },
   {
    "duration": 98,
    "start_time": "2021-11-17T21:28:31.559Z"
   },
   {
    "duration": 3,
    "start_time": "2021-11-17T21:28:45.448Z"
   },
   {
    "duration": 3,
    "start_time": "2021-11-17T21:29:17.303Z"
   },
   {
    "duration": 3,
    "start_time": "2021-11-17T21:29:29.617Z"
   },
   {
    "duration": 3,
    "start_time": "2021-11-17T21:29:32.681Z"
   },
   {
    "duration": 3,
    "start_time": "2021-11-17T21:36:11.474Z"
   },
   {
    "duration": 3,
    "start_time": "2021-11-17T21:36:14.791Z"
   },
   {
    "duration": 3,
    "start_time": "2021-11-17T21:36:53.943Z"
   },
   {
    "duration": 3,
    "start_time": "2021-11-17T21:36:56.165Z"
   },
   {
    "duration": 4,
    "start_time": "2021-11-17T21:37:16.590Z"
   },
   {
    "duration": 3,
    "start_time": "2021-11-17T21:37:22.702Z"
   },
   {
    "duration": 4,
    "start_time": "2021-11-17T21:38:03.479Z"
   },
   {
    "duration": 3,
    "start_time": "2021-11-17T21:38:08.601Z"
   },
   {
    "duration": 3,
    "start_time": "2021-11-17T21:38:12.928Z"
   },
   {
    "duration": 3,
    "start_time": "2021-11-17T21:38:48.896Z"
   },
   {
    "duration": 2,
    "start_time": "2021-11-17T21:38:49.171Z"
   },
   {
    "duration": 4,
    "start_time": "2021-11-17T21:39:57.889Z"
   },
   {
    "duration": 3,
    "start_time": "2021-11-17T21:39:58.057Z"
   },
   {
    "duration": 3,
    "start_time": "2021-11-17T21:41:20.108Z"
   },
   {
    "duration": 3,
    "start_time": "2021-11-17T21:41:20.629Z"
   },
   {
    "duration": 3,
    "start_time": "2021-11-17T21:42:49.136Z"
   },
   {
    "duration": 3,
    "start_time": "2021-11-17T21:43:15.137Z"
   },
   {
    "duration": 4,
    "start_time": "2021-11-17T21:43:16.766Z"
   },
   {
    "duration": 4,
    "start_time": "2021-11-17T21:43:31.711Z"
   },
   {
    "duration": 3,
    "start_time": "2021-11-17T21:43:36.312Z"
   },
   {
    "duration": 4,
    "start_time": "2021-11-17T21:45:08.825Z"
   },
   {
    "duration": 4,
    "start_time": "2021-11-17T21:45:10.119Z"
   },
   {
    "duration": 4,
    "start_time": "2021-11-17T21:45:13.748Z"
   },
   {
    "duration": 3,
    "start_time": "2021-11-17T21:45:22.219Z"
   },
   {
    "duration": 3,
    "start_time": "2021-11-17T21:45:33.412Z"
   },
   {
    "duration": 2,
    "start_time": "2021-11-17T21:46:01.885Z"
   },
   {
    "duration": 3,
    "start_time": "2021-11-17T21:46:03.628Z"
   },
   {
    "duration": 107,
    "start_time": "2021-11-17T21:47:32.512Z"
   },
   {
    "duration": 103,
    "start_time": "2021-11-17T21:50:36.243Z"
   },
   {
    "duration": 3,
    "start_time": "2021-11-18T06:28:31.440Z"
   },
   {
    "duration": 3,
    "start_time": "2021-11-18T06:29:00.168Z"
   },
   {
    "duration": 3,
    "start_time": "2021-11-18T06:31:27.008Z"
   },
   {
    "duration": 2,
    "start_time": "2021-11-18T06:35:34.288Z"
   },
   {
    "duration": 2,
    "start_time": "2021-11-18T06:38:04.527Z"
   },
   {
    "duration": 1557,
    "start_time": "2022-01-24T21:04:37.743Z"
   },
   {
    "duration": 1379,
    "start_time": "2022-01-24T21:04:41.608Z"
   },
   {
    "duration": 4054,
    "start_time": "2022-01-24T21:05:26.102Z"
   },
   {
    "duration": 4,
    "start_time": "2022-01-24T21:06:55.613Z"
   },
   {
    "duration": 510,
    "start_time": "2022-01-24T21:43:29.274Z"
   },
   {
    "duration": 449,
    "start_time": "2022-01-24T21:43:44.407Z"
   },
   {
    "duration": 4,
    "start_time": "2022-01-24T21:45:27.250Z"
   },
   {
    "duration": 9,
    "start_time": "2022-01-24T21:46:03.661Z"
   },
   {
    "duration": 6,
    "start_time": "2022-01-24T21:46:08.420Z"
   },
   {
    "duration": 459,
    "start_time": "2022-01-24T21:46:08.429Z"
   },
   {
    "duration": 9,
    "start_time": "2022-01-24T21:46:08.892Z"
   },
   {
    "duration": 4,
    "start_time": "2022-01-24T21:46:08.904Z"
   },
   {
    "duration": 4,
    "start_time": "2022-01-24T21:46:08.911Z"
   },
   {
    "duration": 6,
    "start_time": "2022-01-24T21:46:08.917Z"
   },
   {
    "duration": 5,
    "start_time": "2022-01-24T21:46:08.925Z"
   },
   {
    "duration": 5,
    "start_time": "2022-01-24T21:46:08.932Z"
   },
   {
    "duration": 18,
    "start_time": "2022-01-24T21:46:08.941Z"
   },
   {
    "duration": 4,
    "start_time": "2022-01-24T21:46:08.963Z"
   },
   {
    "duration": 12,
    "start_time": "2022-01-24T21:46:08.970Z"
   },
   {
    "duration": 5,
    "start_time": "2022-01-24T21:46:08.985Z"
   },
   {
    "duration": 5,
    "start_time": "2022-01-24T21:46:08.992Z"
   },
   {
    "duration": 10,
    "start_time": "2022-01-24T21:46:08.999Z"
   },
   {
    "duration": 5,
    "start_time": "2022-01-24T21:46:09.011Z"
   },
   {
    "duration": 4,
    "start_time": "2022-01-24T21:46:09.018Z"
   },
   {
    "duration": 4,
    "start_time": "2022-01-24T21:46:09.060Z"
   },
   {
    "duration": 12,
    "start_time": "2022-01-24T21:46:09.067Z"
   },
   {
    "duration": 4,
    "start_time": "2022-01-24T21:46:09.082Z"
   },
   {
    "duration": 6,
    "start_time": "2022-01-24T21:46:09.088Z"
   },
   {
    "duration": 7,
    "start_time": "2022-01-24T21:46:09.096Z"
   },
   {
    "duration": 5,
    "start_time": "2022-01-24T21:46:09.105Z"
   },
   {
    "duration": 5,
    "start_time": "2022-01-24T21:46:09.112Z"
   },
   {
    "duration": 39,
    "start_time": "2022-01-24T21:46:09.120Z"
   },
   {
    "duration": 19,
    "start_time": "2022-01-24T21:46:09.162Z"
   },
   {
    "duration": 6,
    "start_time": "2022-01-24T21:46:09.184Z"
   },
   {
    "duration": 2,
    "start_time": "2022-01-24T21:46:09.195Z"
   },
   {
    "duration": 5,
    "start_time": "2022-01-24T21:46:09.200Z"
   },
   {
    "duration": 12,
    "start_time": "2022-01-24T21:46:09.207Z"
   },
   {
    "duration": 414,
    "start_time": "2022-01-24T21:46:43.402Z"
   },
   {
    "duration": 23,
    "start_time": "2022-01-24T21:47:07.620Z"
   },
   {
    "duration": 40,
    "start_time": "2022-01-24T21:51:23.885Z"
   },
   {
    "duration": 6,
    "start_time": "2022-01-24T21:52:01.675Z"
   },
   {
    "duration": 6,
    "start_time": "2022-01-24T21:52:10.008Z"
   },
   {
    "duration": 5,
    "start_time": "2022-01-24T21:52:22.959Z"
   },
   {
    "duration": 7,
    "start_time": "2022-01-24T21:52:27.663Z"
   },
   {
    "duration": 404,
    "start_time": "2022-01-24T21:52:28.852Z"
   },
   {
    "duration": 15,
    "start_time": "2022-01-24T21:52:31.292Z"
   },
   {
    "duration": 5,
    "start_time": "2022-01-24T21:52:40.246Z"
   },
   {
    "duration": 514,
    "start_time": "2022-01-24T21:52:40.254Z"
   },
   {
    "duration": 15,
    "start_time": "2022-01-24T21:52:40.772Z"
   },
   {
    "duration": 24,
    "start_time": "2022-01-24T21:53:04.362Z"
   },
   {
    "duration": 5,
    "start_time": "2022-01-24T21:53:12.747Z"
   },
   {
    "duration": 5,
    "start_time": "2022-01-24T21:53:15.165Z"
   },
   {
    "duration": 4,
    "start_time": "2022-01-24T21:53:28.289Z"
   },
   {
    "duration": 5,
    "start_time": "2022-01-24T21:53:34.496Z"
   },
   {
    "duration": 58,
    "start_time": "2022-01-24T21:53:46.441Z"
   },
   {
    "duration": 6,
    "start_time": "2022-01-24T21:54:18.787Z"
   },
   {
    "duration": 6,
    "start_time": "2022-01-24T21:54:22.070Z"
   },
   {
    "duration": 135,
    "start_time": "2022-01-24T22:04:14.176Z"
   },
   {
    "duration": 64,
    "start_time": "2022-01-24T22:04:34.843Z"
   },
   {
    "duration": 60,
    "start_time": "2022-01-24T22:04:45.861Z"
   },
   {
    "duration": 54,
    "start_time": "2022-01-24T22:04:53.881Z"
   },
   {
    "duration": 7,
    "start_time": "2022-01-24T22:05:09.728Z"
   },
   {
    "duration": 6,
    "start_time": "2022-01-24T22:05:23.594Z"
   },
   {
    "duration": 58,
    "start_time": "2022-01-24T22:05:37.113Z"
   },
   {
    "duration": 54,
    "start_time": "2022-01-24T22:06:12.411Z"
   },
   {
    "duration": 52,
    "start_time": "2022-01-24T22:06:21.957Z"
   },
   {
    "duration": 117,
    "start_time": "2022-01-24T22:09:04.857Z"
   },
   {
    "duration": 148,
    "start_time": "2022-01-24T22:09:36.019Z"
   },
   {
    "duration": 448,
    "start_time": "2022-01-24T22:14:13.075Z"
   },
   {
    "duration": 116,
    "start_time": "2022-01-24T22:14:32.764Z"
   },
   {
    "duration": 97,
    "start_time": "2022-01-24T22:14:49.931Z"
   },
   {
    "duration": 99,
    "start_time": "2022-01-24T22:15:12.021Z"
   },
   {
    "duration": 118,
    "start_time": "2022-01-24T22:16:13.678Z"
   },
   {
    "duration": 98,
    "start_time": "2022-01-24T22:16:27.507Z"
   },
   {
    "duration": 99,
    "start_time": "2022-01-24T22:16:33.802Z"
   },
   {
    "duration": 117,
    "start_time": "2022-01-24T22:16:47.172Z"
   },
   {
    "duration": 1098,
    "start_time": "2022-01-25T13:46:15.657Z"
   },
   {
    "duration": 909,
    "start_time": "2022-01-25T13:46:16.757Z"
   },
   {
    "duration": 64,
    "start_time": "2022-01-25T13:46:17.668Z"
   },
   {
    "duration": 17,
    "start_time": "2022-01-25T13:46:33.219Z"
   },
   {
    "duration": 13,
    "start_time": "2022-01-25T13:46:45.913Z"
   },
   {
    "duration": 426,
    "start_time": "2022-01-25T13:47:09.268Z"
   },
   {
    "duration": 15,
    "start_time": "2022-01-25T13:47:17.441Z"
   },
   {
    "duration": 14,
    "start_time": "2022-01-25T13:47:57.912Z"
   },
   {
    "duration": 15,
    "start_time": "2022-01-25T13:52:23.408Z"
   },
   {
    "duration": 14,
    "start_time": "2022-01-25T13:53:08.696Z"
   },
   {
    "duration": 337,
    "start_time": "2022-01-25T13:53:36.977Z"
   },
   {
    "duration": 326,
    "start_time": "2022-01-25T13:53:46.667Z"
   },
   {
    "duration": 17,
    "start_time": "2022-01-25T13:53:58.922Z"
   },
   {
    "duration": 14,
    "start_time": "2022-01-25T13:55:41.804Z"
   },
   {
    "duration": 15,
    "start_time": "2022-01-25T13:59:37.036Z"
   },
   {
    "duration": 15,
    "start_time": "2022-01-25T13:59:51.212Z"
   },
   {
    "duration": 16,
    "start_time": "2022-01-25T13:59:55.627Z"
   },
   {
    "duration": 341,
    "start_time": "2022-01-25T14:00:14.196Z"
   },
   {
    "duration": 14,
    "start_time": "2022-01-25T14:00:31.738Z"
   },
   {
    "duration": 5,
    "start_time": "2022-01-25T14:01:03.942Z"
   },
   {
    "duration": 332,
    "start_time": "2022-01-25T14:01:27.356Z"
   },
   {
    "duration": 91,
    "start_time": "2022-01-25T14:01:57.988Z"
   },
   {
    "duration": 78,
    "start_time": "2022-01-25T14:03:03.189Z"
   },
   {
    "duration": 5,
    "start_time": "2022-01-25T15:02:14.889Z"
   },
   {
    "duration": 5,
    "start_time": "2022-01-25T15:02:59.974Z"
   },
   {
    "duration": 4,
    "start_time": "2022-01-25T15:03:48.117Z"
   },
   {
    "duration": 5,
    "start_time": "2022-01-25T15:04:00.309Z"
   },
   {
    "duration": 5,
    "start_time": "2022-01-25T15:14:06.511Z"
   },
   {
    "duration": 11,
    "start_time": "2022-01-25T15:14:28.131Z"
   },
   {
    "duration": 13,
    "start_time": "2022-01-25T15:27:37.244Z"
   },
   {
    "duration": 9,
    "start_time": "2022-01-25T15:27:54.272Z"
   },
   {
    "duration": 24,
    "start_time": "2022-01-25T16:12:53.528Z"
   },
   {
    "duration": 17,
    "start_time": "2022-01-25T16:13:41.846Z"
   },
   {
    "duration": 11,
    "start_time": "2022-01-25T16:19:10.909Z"
   },
   {
    "duration": 6,
    "start_time": "2022-01-25T16:19:11.326Z"
   },
   {
    "duration": 4,
    "start_time": "2022-01-25T17:20:42.600Z"
   },
   {
    "duration": 13,
    "start_time": "2022-01-25T17:53:44.610Z"
   },
   {
    "duration": 864,
    "start_time": "2022-01-25T17:55:46.740Z"
   },
   {
    "duration": 8,
    "start_time": "2022-01-25T17:57:32.834Z"
   },
   {
    "duration": 9,
    "start_time": "2022-01-25T17:57:40.091Z"
   },
   {
    "duration": 9,
    "start_time": "2022-01-25T17:57:45.421Z"
   },
   {
    "duration": 9,
    "start_time": "2022-01-25T17:57:55.392Z"
   },
   {
    "duration": 9,
    "start_time": "2022-01-25T17:58:30.104Z"
   },
   {
    "duration": 9,
    "start_time": "2022-01-25T17:58:49.650Z"
   },
   {
    "duration": 8,
    "start_time": "2022-01-25T18:04:55.848Z"
   },
   {
    "duration": 10,
    "start_time": "2022-01-25T18:08:12.378Z"
   },
   {
    "duration": 8,
    "start_time": "2022-01-25T20:12:05.572Z"
   },
   {
    "duration": 4,
    "start_time": "2022-01-25T20:22:07.770Z"
   },
   {
    "duration": 4,
    "start_time": "2022-01-25T20:22:13.385Z"
   },
   {
    "duration": 5,
    "start_time": "2022-01-25T20:22:43.780Z"
   },
   {
    "duration": 12,
    "start_time": "2022-01-25T20:24:35.691Z"
   },
   {
    "duration": 10,
    "start_time": "2022-01-25T20:25:03.561Z"
   },
   {
    "duration": 280,
    "start_time": "2022-01-25T20:26:57.047Z"
   },
   {
    "duration": 14,
    "start_time": "2022-01-25T20:28:49.485Z"
   },
   {
    "duration": 11,
    "start_time": "2022-01-25T20:29:05.947Z"
   },
   {
    "duration": 363,
    "start_time": "2022-01-25T20:58:34.470Z"
   },
   {
    "duration": 447,
    "start_time": "2022-01-25T20:58:51.914Z"
   },
   {
    "duration": 237,
    "start_time": "2022-01-26T16:55:48.030Z"
   },
   {
    "duration": 1072,
    "start_time": "2022-01-26T16:55:57.587Z"
   },
   {
    "duration": 281,
    "start_time": "2022-01-26T16:55:58.661Z"
   },
   {
    "duration": 69,
    "start_time": "2022-01-26T16:55:58.944Z"
   },
   {
    "duration": 10,
    "start_time": "2022-01-26T16:55:59.016Z"
   },
   {
    "duration": 4,
    "start_time": "2022-01-26T16:55:59.027Z"
   },
   {
    "duration": 4,
    "start_time": "2022-01-26T16:55:59.033Z"
   },
   {
    "duration": 23,
    "start_time": "2022-01-26T16:55:59.038Z"
   },
   {
    "duration": 49,
    "start_time": "2022-01-26T16:55:59.063Z"
   },
   {
    "duration": 12,
    "start_time": "2022-01-26T16:55:59.114Z"
   },
   {
    "duration": 5,
    "start_time": "2022-01-26T16:55:59.128Z"
   },
   {
    "duration": 13,
    "start_time": "2022-01-26T16:55:59.135Z"
   },
   {
    "duration": 10,
    "start_time": "2022-01-26T16:55:59.150Z"
   },
   {
    "duration": 3,
    "start_time": "2022-01-26T16:55:59.161Z"
   },
   {
    "duration": 61,
    "start_time": "2022-01-26T17:05:43.417Z"
   },
   {
    "duration": 6,
    "start_time": "2022-01-26T17:11:19.250Z"
   },
   {
    "duration": 8,
    "start_time": "2022-01-26T17:11:49.849Z"
   },
   {
    "duration": 9,
    "start_time": "2022-01-26T17:12:26.899Z"
   },
   {
    "duration": 4,
    "start_time": "2022-01-26T17:12:34.981Z"
   },
   {
    "duration": 298,
    "start_time": "2022-01-26T17:12:34.986Z"
   },
   {
    "duration": 71,
    "start_time": "2022-01-26T17:12:35.286Z"
   },
   {
    "duration": 11,
    "start_time": "2022-01-26T17:12:35.358Z"
   },
   {
    "duration": 5,
    "start_time": "2022-01-26T17:12:35.370Z"
   },
   {
    "duration": 36,
    "start_time": "2022-01-26T17:12:35.376Z"
   },
   {
    "duration": 21,
    "start_time": "2022-01-26T17:12:35.414Z"
   },
   {
    "duration": 14,
    "start_time": "2022-01-26T17:12:35.437Z"
   },
   {
    "duration": 12,
    "start_time": "2022-01-26T17:12:35.453Z"
   },
   {
    "duration": 5,
    "start_time": "2022-01-26T17:12:35.466Z"
   },
   {
    "duration": 40,
    "start_time": "2022-01-26T17:12:35.473Z"
   },
   {
    "duration": 10,
    "start_time": "2022-01-26T17:12:35.514Z"
   },
   {
    "duration": 4,
    "start_time": "2022-01-26T17:12:35.525Z"
   },
   {
    "duration": 6,
    "start_time": "2022-01-26T17:12:35.530Z"
   },
   {
    "duration": 4,
    "start_time": "2022-01-26T17:12:35.537Z"
   },
   {
    "duration": 8,
    "start_time": "2022-01-26T17:12:35.543Z"
   },
   {
    "duration": 6,
    "start_time": "2022-01-26T17:12:35.553Z"
   },
   {
    "duration": 53,
    "start_time": "2022-01-26T17:12:35.560Z"
   },
   {
    "duration": 2,
    "start_time": "2022-01-26T17:12:35.614Z"
   },
   {
    "duration": 6,
    "start_time": "2022-01-26T17:12:35.618Z"
   },
   {
    "duration": 7,
    "start_time": "2022-01-26T17:12:35.625Z"
   },
   {
    "duration": 6,
    "start_time": "2022-01-26T17:12:35.634Z"
   },
   {
    "duration": 3,
    "start_time": "2022-01-26T17:12:35.644Z"
   },
   {
    "duration": 5,
    "start_time": "2022-01-26T17:12:35.649Z"
   },
   {
    "duration": 5,
    "start_time": "2022-01-26T17:12:35.656Z"
   },
   {
    "duration": 6,
    "start_time": "2022-01-26T17:12:35.662Z"
   },
   {
    "duration": 12,
    "start_time": "2022-01-26T17:12:35.670Z"
   },
   {
    "duration": 2,
    "start_time": "2022-01-26T17:12:35.712Z"
   },
   {
    "duration": 5,
    "start_time": "2022-01-26T17:12:35.716Z"
   },
   {
    "duration": 10,
    "start_time": "2022-01-26T17:12:35.723Z"
   },
   {
    "duration": 10,
    "start_time": "2022-01-26T17:12:35.734Z"
   },
   {
    "duration": 4,
    "start_time": "2022-01-26T17:12:35.746Z"
   },
   {
    "duration": 5,
    "start_time": "2022-01-26T17:12:35.752Z"
   },
   {
    "duration": 5,
    "start_time": "2022-01-26T17:12:35.758Z"
   },
   {
    "duration": 5,
    "start_time": "2022-01-26T17:12:35.764Z"
   },
   {
    "duration": 4,
    "start_time": "2022-01-26T17:12:35.771Z"
   },
   {
    "duration": 4,
    "start_time": "2022-01-26T17:12:35.777Z"
   },
   {
    "duration": 6,
    "start_time": "2022-01-26T17:12:35.813Z"
   },
   {
    "duration": 6,
    "start_time": "2022-01-26T17:12:35.821Z"
   },
   {
    "duration": 6,
    "start_time": "2022-01-26T17:12:35.829Z"
   },
   {
    "duration": 5,
    "start_time": "2022-01-26T17:12:35.837Z"
   },
   {
    "duration": 4,
    "start_time": "2022-01-26T17:12:35.843Z"
   },
   {
    "duration": 13,
    "start_time": "2022-01-26T17:14:32.090Z"
   },
   {
    "duration": 6,
    "start_time": "2022-01-26T17:20:38.618Z"
   },
   {
    "duration": 13,
    "start_time": "2022-01-26T17:32:33.127Z"
   },
   {
    "duration": 31,
    "start_time": "2022-01-26T19:23:45.280Z"
   },
   {
    "duration": 17,
    "start_time": "2022-01-26T19:52:04.600Z"
   },
   {
    "duration": 260,
    "start_time": "2022-01-26T19:52:10.086Z"
   },
   {
    "duration": 24,
    "start_time": "2022-01-26T19:52:13.101Z"
   },
   {
    "duration": 24,
    "start_time": "2022-01-26T19:52:38.669Z"
   },
   {
    "duration": 24,
    "start_time": "2022-01-26T19:52:48.785Z"
   },
   {
    "duration": 26,
    "start_time": "2022-01-26T19:53:07.125Z"
   },
   {
    "duration": 25,
    "start_time": "2022-01-26T19:53:18.182Z"
   },
   {
    "duration": 23,
    "start_time": "2022-01-26T19:53:35.169Z"
   },
   {
    "duration": 24,
    "start_time": "2022-01-26T19:53:42.679Z"
   },
   {
    "duration": 18,
    "start_time": "2022-01-26T19:54:12.081Z"
   },
   {
    "duration": 24,
    "start_time": "2022-01-26T19:54:18.422Z"
   },
   {
    "duration": 203,
    "start_time": "2022-01-26T19:56:51.357Z"
   },
   {
    "duration": 200,
    "start_time": "2022-01-26T19:59:15.429Z"
   },
   {
    "duration": 53,
    "start_time": "2022-01-26T20:05:12.229Z"
   },
   {
    "duration": 9,
    "start_time": "2022-01-26T20:06:19.633Z"
   },
   {
    "duration": 69,
    "start_time": "2022-01-26T20:07:23.688Z"
   },
   {
    "duration": 41,
    "start_time": "2022-01-26T20:07:32.864Z"
   },
   {
    "duration": 74,
    "start_time": "2022-01-26T20:08:24.673Z"
   },
   {
    "duration": 58,
    "start_time": "2022-01-26T20:08:30.895Z"
   },
   {
    "duration": 25,
    "start_time": "2022-01-26T20:08:46.063Z"
   },
   {
    "duration": 36,
    "start_time": "2022-01-26T20:09:03.149Z"
   },
   {
    "duration": 33,
    "start_time": "2022-01-26T20:23:23.185Z"
   },
   {
    "duration": 38,
    "start_time": "2022-01-26T20:27:14.650Z"
   },
   {
    "duration": 18,
    "start_time": "2022-01-26T21:54:08.492Z"
   },
   {
    "duration": 21,
    "start_time": "2022-01-26T22:17:57.612Z"
   },
   {
    "duration": 27,
    "start_time": "2022-01-26T22:18:07.192Z"
   },
   {
    "duration": 9,
    "start_time": "2022-01-26T22:24:17.946Z"
   },
   {
    "duration": 17,
    "start_time": "2022-01-26T22:24:18.510Z"
   },
   {
    "duration": 2,
    "start_time": "2022-01-26T22:24:19.372Z"
   },
   {
    "duration": 23,
    "start_time": "2022-01-26T22:24:19.957Z"
   },
   {
    "duration": 14,
    "start_time": "2022-01-26T22:24:20.710Z"
   },
   {
    "duration": 62,
    "start_time": "2022-01-26T22:24:21.508Z"
   },
   {
    "duration": 20,
    "start_time": "2022-01-26T22:24:35.336Z"
   },
   {
    "duration": 10,
    "start_time": "2022-01-26T22:24:37.102Z"
   },
   {
    "duration": 8,
    "start_time": "2022-01-26T22:24:37.796Z"
   },
   {
    "duration": 5887,
    "start_time": "2022-01-26T22:25:51.332Z"
   },
   {
    "duration": 13,
    "start_time": "2022-01-26T22:26:03.708Z"
   },
   {
    "duration": 5,
    "start_time": "2022-01-26T22:26:04.800Z"
   },
   {
    "duration": 234,
    "start_time": "2022-01-26T22:28:38.366Z"
   },
   {
    "duration": 4,
    "start_time": "2022-01-26T22:31:26.490Z"
   },
   {
    "duration": 5,
    "start_time": "2022-01-26T22:31:27.012Z"
   },
   {
    "duration": 79,
    "start_time": "2022-01-26T22:31:27.455Z"
   },
   {
    "duration": 5,
    "start_time": "2022-01-26T22:31:27.880Z"
   },
   {
    "duration": 4,
    "start_time": "2022-01-26T22:31:50.594Z"
   },
   {
    "duration": 5,
    "start_time": "2022-01-26T22:31:51.244Z"
   },
   {
    "duration": 5,
    "start_time": "2022-01-26T22:32:41.872Z"
   },
   {
    "duration": 5,
    "start_time": "2022-01-26T22:32:42.298Z"
   },
   {
    "duration": 12,
    "start_time": "2022-01-26T22:42:13.901Z"
   },
   {
    "duration": 6,
    "start_time": "2022-01-26T22:42:14.772Z"
   },
   {
    "duration": 20,
    "start_time": "2022-01-26T22:42:18.904Z"
   },
   {
    "duration": 7,
    "start_time": "2022-01-26T22:42:50.369Z"
   },
   {
    "duration": 4,
    "start_time": "2022-01-26T22:43:17.707Z"
   },
   {
    "duration": 282,
    "start_time": "2022-01-26T22:43:17.714Z"
   },
   {
    "duration": 72,
    "start_time": "2022-01-26T22:43:17.998Z"
   },
   {
    "duration": 12,
    "start_time": "2022-01-26T22:43:18.073Z"
   },
   {
    "duration": 28,
    "start_time": "2022-01-26T22:43:18.086Z"
   },
   {
    "duration": 6,
    "start_time": "2022-01-26T22:43:18.116Z"
   },
   {
    "duration": 23,
    "start_time": "2022-01-26T22:43:18.124Z"
   },
   {
    "duration": 16,
    "start_time": "2022-01-26T22:43:18.149Z"
   },
   {
    "duration": 13,
    "start_time": "2022-01-26T22:43:18.168Z"
   },
   {
    "duration": 35,
    "start_time": "2022-01-26T22:43:18.183Z"
   },
   {
    "duration": 12,
    "start_time": "2022-01-26T22:43:18.219Z"
   },
   {
    "duration": 10,
    "start_time": "2022-01-26T22:43:18.232Z"
   },
   {
    "duration": 3,
    "start_time": "2022-01-26T22:43:18.243Z"
   },
   {
    "duration": 4,
    "start_time": "2022-01-26T22:43:18.248Z"
   },
   {
    "duration": 4,
    "start_time": "2022-01-26T22:43:18.254Z"
   },
   {
    "duration": 6,
    "start_time": "2022-01-26T22:43:18.259Z"
   },
   {
    "duration": 3,
    "start_time": "2022-01-26T22:43:18.266Z"
   },
   {
    "duration": 72,
    "start_time": "2022-01-26T22:43:18.271Z"
   },
   {
    "duration": 2,
    "start_time": "2022-01-26T22:43:18.345Z"
   },
   {
    "duration": 5,
    "start_time": "2022-01-26T22:43:18.348Z"
   },
   {
    "duration": 13,
    "start_time": "2022-01-26T22:43:18.354Z"
   },
   {
    "duration": 13,
    "start_time": "2022-01-26T22:43:18.368Z"
   },
   {
    "duration": 12,
    "start_time": "2022-01-26T22:43:18.382Z"
   },
   {
    "duration": 2,
    "start_time": "2022-01-26T22:43:18.398Z"
   },
   {
    "duration": 3,
    "start_time": "2022-01-26T22:43:18.402Z"
   },
   {
    "duration": 5,
    "start_time": "2022-01-26T22:43:18.407Z"
   },
   {
    "duration": 12,
    "start_time": "2022-01-26T22:43:18.414Z"
   },
   {
    "duration": 12,
    "start_time": "2022-01-26T22:43:18.427Z"
   },
   {
    "duration": 24,
    "start_time": "2022-01-26T22:43:18.440Z"
   },
   {
    "duration": 3,
    "start_time": "2022-01-26T22:43:18.465Z"
   },
   {
    "duration": 24,
    "start_time": "2022-01-26T22:43:18.469Z"
   },
   {
    "duration": 31,
    "start_time": "2022-01-26T22:43:18.494Z"
   },
   {
    "duration": 68,
    "start_time": "2022-01-26T22:43:18.526Z"
   },
   {
    "duration": 26,
    "start_time": "2022-01-26T22:43:18.596Z"
   },
   {
    "duration": 9,
    "start_time": "2022-01-26T22:43:18.623Z"
   },
   {
    "duration": 11,
    "start_time": "2022-01-26T22:43:18.634Z"
   },
   {
    "duration": 5,
    "start_time": "2022-01-26T22:43:18.647Z"
   },
   {
    "duration": 262,
    "start_time": "2022-01-26T22:43:18.654Z"
   },
   {
    "duration": 4,
    "start_time": "2022-01-26T22:43:18.918Z"
   },
   {
    "duration": 7,
    "start_time": "2022-01-26T22:43:18.924Z"
   },
   {
    "duration": 6,
    "start_time": "2022-01-26T22:43:18.933Z"
   },
   {
    "duration": 12,
    "start_time": "2022-01-26T22:43:18.940Z"
   },
   {
    "duration": 12,
    "start_time": "2022-01-26T22:43:18.953Z"
   },
   {
    "duration": 11,
    "start_time": "2022-01-26T22:43:18.966Z"
   },
   {
    "duration": 15,
    "start_time": "2022-01-26T22:43:18.979Z"
   },
   {
    "duration": 13,
    "start_time": "2022-01-26T22:43:18.995Z"
   },
   {
    "duration": 23,
    "start_time": "2022-01-26T22:43:19.012Z"
   },
   {
    "duration": 7,
    "start_time": "2022-01-26T22:43:19.036Z"
   },
   {
    "duration": 15,
    "start_time": "2022-01-26T22:45:05.112Z"
   },
   {
    "duration": 1818,
    "start_time": "2022-01-26T22:45:32.616Z"
   },
   {
    "duration": 23,
    "start_time": "2022-01-26T22:45:54.883Z"
   },
   {
    "duration": 308,
    "start_time": "2022-01-26T22:46:11.360Z"
   },
   {
    "duration": 1793,
    "start_time": "2022-01-26T22:46:31.369Z"
   },
   {
    "duration": 1832,
    "start_time": "2022-01-26T22:47:09.113Z"
   },
   {
    "duration": 3079,
    "start_time": "2022-01-26T22:47:47.364Z"
   },
   {
    "duration": 51,
    "start_time": "2022-01-26T22:48:20.927Z"
   },
   {
    "duration": 4,
    "start_time": "2022-01-26T22:49:13.626Z"
   },
   {
    "duration": 7,
    "start_time": "2022-01-26T22:49:28.100Z"
   },
   {
    "duration": 5,
    "start_time": "2022-01-26T22:49:35.404Z"
   },
   {
    "duration": 3,
    "start_time": "2022-01-26T22:49:40.268Z"
   },
   {
    "duration": 51,
    "start_time": "2022-01-26T22:49:55.032Z"
   },
   {
    "duration": 3,
    "start_time": "2022-01-26T22:50:10.794Z"
   },
   {
    "duration": 10,
    "start_time": "2022-01-26T22:50:30.282Z"
   },
   {
    "duration": 354,
    "start_time": "2022-01-26T22:51:03.848Z"
   },
   {
    "duration": 14,
    "start_time": "2022-01-26T22:51:49.324Z"
   },
   {
    "duration": 14,
    "start_time": "2022-01-26T22:52:03.109Z"
   },
   {
    "duration": 53,
    "start_time": "2022-01-26T22:52:17.740Z"
   },
   {
    "duration": 4,
    "start_time": "2022-01-26T22:52:35.096Z"
   },
   {
    "duration": 48,
    "start_time": "2022-01-26T22:53:01.200Z"
   },
   {
    "duration": 5,
    "start_time": "2022-01-26T22:53:21.876Z"
   },
   {
    "duration": 9,
    "start_time": "2022-01-26T22:53:38.303Z"
   },
   {
    "duration": 353,
    "start_time": "2022-01-26T22:54:07.904Z"
   },
   {
    "duration": 13,
    "start_time": "2022-01-26T22:54:37.435Z"
   },
   {
    "duration": 14,
    "start_time": "2022-01-26T22:54:56.346Z"
   },
   {
    "duration": 52,
    "start_time": "2022-01-26T22:55:19.854Z"
   },
   {
    "duration": 3,
    "start_time": "2022-01-26T22:55:36.381Z"
   },
   {
    "duration": 50,
    "start_time": "2022-01-26T22:55:46.701Z"
   },
   {
    "duration": 4,
    "start_time": "2022-01-26T22:56:05.797Z"
   },
   {
    "duration": 443,
    "start_time": "2022-01-28T14:31:55.988Z"
   },
   {
    "duration": 1421,
    "start_time": "2022-01-28T14:32:04.168Z"
   },
   {
    "duration": 368,
    "start_time": "2022-01-28T14:32:05.591Z"
   },
   {
    "duration": 161,
    "start_time": "2022-01-28T14:32:05.963Z"
   },
   {
    "duration": 18,
    "start_time": "2022-01-28T14:32:06.127Z"
   },
   {
    "duration": 5,
    "start_time": "2022-01-28T14:32:06.147Z"
   },
   {
    "duration": 5,
    "start_time": "2022-01-28T14:32:06.154Z"
   },
   {
    "duration": 67,
    "start_time": "2022-01-28T14:32:06.161Z"
   },
   {
    "duration": 26,
    "start_time": "2022-01-28T14:32:06.232Z"
   },
   {
    "duration": 19,
    "start_time": "2022-01-28T14:32:06.261Z"
   },
   {
    "duration": 8,
    "start_time": "2022-01-28T14:32:06.283Z"
   },
   {
    "duration": 47,
    "start_time": "2022-01-28T14:32:06.293Z"
   },
   {
    "duration": 14,
    "start_time": "2022-01-28T14:32:06.342Z"
   },
   {
    "duration": 6,
    "start_time": "2022-01-28T14:32:06.358Z"
   },
   {
    "duration": 5,
    "start_time": "2022-01-28T14:32:06.367Z"
   },
   {
    "duration": 6,
    "start_time": "2022-01-28T14:32:06.374Z"
   },
   {
    "duration": 8,
    "start_time": "2022-01-28T14:32:06.424Z"
   },
   {
    "duration": 7,
    "start_time": "2022-01-28T14:32:06.435Z"
   },
   {
    "duration": 47,
    "start_time": "2022-01-28T14:32:06.445Z"
   },
   {
    "duration": 3,
    "start_time": "2022-01-28T14:32:06.524Z"
   },
   {
    "duration": 4,
    "start_time": "2022-01-28T14:32:06.530Z"
   },
   {
    "duration": 6,
    "start_time": "2022-01-28T14:32:06.537Z"
   },
   {
    "duration": 5,
    "start_time": "2022-01-28T14:32:06.545Z"
   },
   {
    "duration": 3,
    "start_time": "2022-01-28T14:32:06.560Z"
   },
   {
    "duration": 3,
    "start_time": "2022-01-28T14:32:06.568Z"
   },
   {
    "duration": 49,
    "start_time": "2022-01-28T14:32:06.574Z"
   },
   {
    "duration": 3,
    "start_time": "2022-01-28T14:32:06.626Z"
   },
   {
    "duration": 15,
    "start_time": "2022-01-28T14:32:06.631Z"
   },
   {
    "duration": 14,
    "start_time": "2022-01-28T14:32:06.648Z"
   },
   {
    "duration": 61,
    "start_time": "2022-01-28T14:32:06.664Z"
   },
   {
    "duration": 3,
    "start_time": "2022-01-28T14:32:06.727Z"
   },
   {
    "duration": 47,
    "start_time": "2022-01-28T14:32:06.732Z"
   },
   {
    "duration": 45,
    "start_time": "2022-01-28T14:32:06.782Z"
   },
   {
    "duration": 39,
    "start_time": "2022-01-28T14:32:06.830Z"
   },
   {
    "duration": 20,
    "start_time": "2022-01-28T14:32:06.872Z"
   },
   {
    "duration": 37,
    "start_time": "2022-01-28T14:32:06.895Z"
   },
   {
    "duration": 22,
    "start_time": "2022-01-28T14:32:06.935Z"
   },
   {
    "duration": 8,
    "start_time": "2022-01-28T14:32:06.960Z"
   },
   {
    "duration": 572,
    "start_time": "2022-01-28T14:32:06.970Z"
   },
   {
    "duration": 7,
    "start_time": "2022-01-28T14:32:07.545Z"
   },
   {
    "duration": 6,
    "start_time": "2022-01-28T14:32:07.555Z"
   },
   {
    "duration": 10,
    "start_time": "2022-01-28T14:32:07.564Z"
   },
   {
    "duration": 13,
    "start_time": "2022-01-28T14:32:07.577Z"
   },
   {
    "duration": 33,
    "start_time": "2022-01-28T14:32:07.592Z"
   },
   {
    "duration": 6,
    "start_time": "2022-01-28T14:32:07.628Z"
   },
   {
    "duration": 18,
    "start_time": "2022-01-28T14:32:07.637Z"
   },
   {
    "duration": 11,
    "start_time": "2022-01-28T14:32:07.657Z"
   },
   {
    "duration": 77,
    "start_time": "2022-01-28T14:32:07.671Z"
   },
   {
    "duration": 15,
    "start_time": "2022-01-28T14:32:07.751Z"
   },
   {
    "duration": 54,
    "start_time": "2022-01-28T14:32:07.769Z"
   },
   {
    "duration": 3703,
    "start_time": "2022-01-28T14:32:07.826Z"
   },
   {
    "duration": 401,
    "start_time": "2022-01-28T14:32:11.532Z"
   },
   {
    "duration": -858,
    "start_time": "2022-01-28T14:32:12.794Z"
   },
   {
    "duration": -864,
    "start_time": "2022-01-28T14:32:12.801Z"
   },
   {
    "duration": -918,
    "start_time": "2022-01-28T14:32:12.857Z"
   },
   {
    "duration": -925,
    "start_time": "2022-01-28T14:32:12.865Z"
   },
   {
    "duration": -930,
    "start_time": "2022-01-28T14:32:12.872Z"
   },
   {
    "duration": -936,
    "start_time": "2022-01-28T14:32:12.879Z"
   },
   {
    "duration": -941,
    "start_time": "2022-01-28T14:32:12.886Z"
   },
   {
    "duration": -948,
    "start_time": "2022-01-28T14:32:12.894Z"
   },
   {
    "duration": -962,
    "start_time": "2022-01-28T14:32:12.909Z"
   },
   {
    "duration": -967,
    "start_time": "2022-01-28T14:32:12.916Z"
   },
   {
    "duration": -973,
    "start_time": "2022-01-28T14:32:12.923Z"
   },
   {
    "duration": -977,
    "start_time": "2022-01-28T14:32:12.929Z"
   },
   {
    "duration": -996,
    "start_time": "2022-01-28T14:32:12.949Z"
   },
   {
    "duration": -1001,
    "start_time": "2022-01-28T14:32:12.955Z"
   },
   {
    "duration": -1008,
    "start_time": "2022-01-28T14:32:12.963Z"
   },
   {
    "duration": -1037,
    "start_time": "2022-01-28T14:32:12.994Z"
   },
   {
    "duration": -1053,
    "start_time": "2022-01-28T14:32:13.012Z"
   },
   {
    "duration": -1059,
    "start_time": "2022-01-28T14:32:13.020Z"
   },
   {
    "duration": -1066,
    "start_time": "2022-01-28T14:32:13.029Z"
   },
   {
    "duration": -1071,
    "start_time": "2022-01-28T14:32:13.036Z"
   },
   {
    "duration": -1077,
    "start_time": "2022-01-28T14:32:13.044Z"
   },
   {
    "duration": -1095,
    "start_time": "2022-01-28T14:32:13.064Z"
   },
   {
    "duration": -1100,
    "start_time": "2022-01-28T14:32:13.071Z"
   },
   {
    "duration": 6,
    "start_time": "2022-01-28T14:32:22.353Z"
   },
   {
    "duration": 380,
    "start_time": "2022-01-28T14:32:22.361Z"
   },
   {
    "duration": 178,
    "start_time": "2022-01-28T14:32:22.744Z"
   },
   {
    "duration": 21,
    "start_time": "2022-01-28T14:32:22.925Z"
   },
   {
    "duration": 7,
    "start_time": "2022-01-28T14:32:22.949Z"
   },
   {
    "duration": 6,
    "start_time": "2022-01-28T14:32:22.958Z"
   },
   {
    "duration": 67,
    "start_time": "2022-01-28T14:32:22.970Z"
   },
   {
    "duration": 33,
    "start_time": "2022-01-28T14:32:23.041Z"
   },
   {
    "duration": 54,
    "start_time": "2022-01-28T14:32:23.077Z"
   },
   {
    "duration": 11,
    "start_time": "2022-01-28T14:32:23.134Z"
   },
   {
    "duration": 16,
    "start_time": "2022-01-28T14:32:23.148Z"
   },
   {
    "duration": 13,
    "start_time": "2022-01-28T14:32:23.167Z"
   },
   {
    "duration": 42,
    "start_time": "2022-01-28T14:32:23.182Z"
   },
   {
    "duration": 5,
    "start_time": "2022-01-28T14:32:23.227Z"
   },
   {
    "duration": 5,
    "start_time": "2022-01-28T14:32:23.235Z"
   },
   {
    "duration": 11,
    "start_time": "2022-01-28T14:32:23.242Z"
   },
   {
    "duration": 6,
    "start_time": "2022-01-28T14:32:23.255Z"
   },
   {
    "duration": 98,
    "start_time": "2022-01-28T14:32:23.264Z"
   },
   {
    "duration": 3,
    "start_time": "2022-01-28T14:32:23.367Z"
   },
   {
    "duration": 5,
    "start_time": "2022-01-28T14:32:23.374Z"
   },
   {
    "duration": 10,
    "start_time": "2022-01-28T14:32:23.382Z"
   },
   {
    "duration": 28,
    "start_time": "2022-01-28T14:32:23.395Z"
   },
   {
    "duration": 4,
    "start_time": "2022-01-28T14:32:23.426Z"
   },
   {
    "duration": 4,
    "start_time": "2022-01-28T14:32:23.433Z"
   },
   {
    "duration": 5,
    "start_time": "2022-01-28T14:32:23.440Z"
   },
   {
    "duration": 5,
    "start_time": "2022-01-28T14:32:23.448Z"
   },
   {
    "duration": 15,
    "start_time": "2022-01-28T14:32:23.456Z"
   },
   {
    "duration": 60,
    "start_time": "2022-01-28T14:32:23.474Z"
   },
   {
    "duration": 29,
    "start_time": "2022-01-28T14:32:23.536Z"
   },
   {
    "duration": 3,
    "start_time": "2022-01-28T14:32:23.567Z"
   },
   {
    "duration": 53,
    "start_time": "2022-01-28T14:32:23.572Z"
   },
   {
    "duration": 20,
    "start_time": "2022-01-28T14:32:23.628Z"
   },
   {
    "duration": 28,
    "start_time": "2022-01-28T14:32:23.651Z"
   },
   {
    "duration": 45,
    "start_time": "2022-01-28T14:32:23.682Z"
   },
   {
    "duration": 12,
    "start_time": "2022-01-28T14:32:23.730Z"
   },
   {
    "duration": 19,
    "start_time": "2022-01-28T14:32:23.745Z"
   },
   {
    "duration": 9,
    "start_time": "2022-01-28T14:32:23.767Z"
   },
   {
    "duration": 436,
    "start_time": "2022-01-28T14:32:23.779Z"
   },
   {
    "duration": 5,
    "start_time": "2022-01-28T14:32:24.223Z"
   },
   {
    "duration": 8,
    "start_time": "2022-01-28T14:32:24.231Z"
   },
   {
    "duration": 10,
    "start_time": "2022-01-28T14:32:24.241Z"
   },
   {
    "duration": 9,
    "start_time": "2022-01-28T14:32:24.253Z"
   },
   {
    "duration": 6,
    "start_time": "2022-01-28T14:32:24.265Z"
   },
   {
    "duration": 8,
    "start_time": "2022-01-28T14:32:24.273Z"
   },
   {
    "duration": 63,
    "start_time": "2022-01-28T14:32:24.283Z"
   },
   {
    "duration": 11,
    "start_time": "2022-01-28T14:32:24.348Z"
   },
   {
    "duration": 66,
    "start_time": "2022-01-28T14:32:24.361Z"
   },
   {
    "duration": 12,
    "start_time": "2022-01-28T14:32:24.429Z"
   },
   {
    "duration": 26,
    "start_time": "2022-01-28T14:32:24.443Z"
   },
   {
    "duration": 2715,
    "start_time": "2022-01-28T14:32:24.471Z"
   },
   {
    "duration": 292,
    "start_time": "2022-01-28T14:32:27.188Z"
   },
   {
    "duration": -1129,
    "start_time": "2022-01-28T14:32:28.613Z"
   },
   {
    "duration": -1141,
    "start_time": "2022-01-28T14:32:28.627Z"
   },
   {
    "duration": -1163,
    "start_time": "2022-01-28T14:32:28.650Z"
   },
   {
    "duration": -1170,
    "start_time": "2022-01-28T14:32:28.659Z"
   },
   {
    "duration": -1262,
    "start_time": "2022-01-28T14:32:28.753Z"
   },
   {
    "duration": -1290,
    "start_time": "2022-01-28T14:32:28.782Z"
   },
   {
    "duration": -1354,
    "start_time": "2022-01-28T14:32:28.848Z"
   },
   {
    "duration": -1395,
    "start_time": "2022-01-28T14:32:28.890Z"
   },
   {
    "duration": -1420,
    "start_time": "2022-01-28T14:32:28.916Z"
   },
   {
    "duration": -1425,
    "start_time": "2022-01-28T14:32:28.922Z"
   },
   {
    "duration": -1433,
    "start_time": "2022-01-28T14:32:28.932Z"
   },
   {
    "duration": -1439,
    "start_time": "2022-01-28T14:32:28.939Z"
   },
   {
    "duration": -1448,
    "start_time": "2022-01-28T14:32:28.949Z"
   },
   {
    "duration": -1453,
    "start_time": "2022-01-28T14:32:28.956Z"
   },
   {
    "duration": -1461,
    "start_time": "2022-01-28T14:32:28.965Z"
   },
   {
    "duration": -1467,
    "start_time": "2022-01-28T14:32:28.972Z"
   },
   {
    "duration": -1475,
    "start_time": "2022-01-28T14:32:28.982Z"
   },
   {
    "duration": -1481,
    "start_time": "2022-01-28T14:32:28.989Z"
   },
   {
    "duration": -1488,
    "start_time": "2022-01-28T14:32:28.997Z"
   },
   {
    "duration": -1494,
    "start_time": "2022-01-28T14:32:29.004Z"
   },
   {
    "duration": -1518,
    "start_time": "2022-01-28T14:32:29.030Z"
   },
   {
    "duration": -1523,
    "start_time": "2022-01-28T14:32:29.036Z"
   },
   {
    "duration": -1530,
    "start_time": "2022-01-28T14:32:29.045Z"
   },
   {
    "duration": -1535,
    "start_time": "2022-01-28T14:32:29.051Z"
   },
   {
    "duration": -1543,
    "start_time": "2022-01-28T14:32:29.061Z"
   },
   {
    "duration": -1549,
    "start_time": "2022-01-28T14:32:29.068Z"
   },
   {
    "duration": -1558,
    "start_time": "2022-01-28T14:32:29.078Z"
   },
   {
    "duration": -1562,
    "start_time": "2022-01-28T14:32:29.084Z"
   },
   {
    "duration": -1571,
    "start_time": "2022-01-28T14:32:29.094Z"
   },
   {
    "duration": -1576,
    "start_time": "2022-01-28T14:32:29.100Z"
   },
   {
    "duration": -1583,
    "start_time": "2022-01-28T14:32:29.109Z"
   },
   {
    "duration": -1605,
    "start_time": "2022-01-28T14:32:29.132Z"
   },
   {
    "duration": -1656,
    "start_time": "2022-01-28T14:32:29.185Z"
   },
   {
    "duration": 36,
    "start_time": "2022-01-28T14:32:58.671Z"
   },
   {
    "duration": 408,
    "start_time": "2022-01-28T14:32:59.500Z"
   },
   {
    "duration": 2849,
    "start_time": "2022-01-28T14:32:59.918Z"
   },
   {
    "duration": 2818,
    "start_time": "2022-01-28T14:33:02.771Z"
   },
   {
    "duration": 5126,
    "start_time": "2022-01-28T14:33:05.592Z"
   },
   {
    "duration": 102,
    "start_time": "2022-01-28T14:33:10.723Z"
   },
   {
    "duration": 5,
    "start_time": "2022-01-28T14:33:10.827Z"
   },
   {
    "duration": 91,
    "start_time": "2022-01-28T14:33:13.935Z"
   },
   {
    "duration": 5,
    "start_time": "2022-01-28T14:33:16.017Z"
   },
   {
    "duration": 15,
    "start_time": "2022-01-28T14:33:20.458Z"
   },
   {
    "duration": 619,
    "start_time": "2022-01-28T14:33:21.783Z"
   },
   {
    "duration": 45,
    "start_time": "2022-01-28T14:33:26.524Z"
   },
   {
    "duration": 23,
    "start_time": "2022-01-28T14:33:27.348Z"
   },
   {
    "duration": 92,
    "start_time": "2022-01-28T14:33:28.341Z"
   },
   {
    "duration": 5,
    "start_time": "2022-01-28T14:33:31.509Z"
   },
   {
    "duration": 86,
    "start_time": "2022-01-28T14:33:33.892Z"
   },
   {
    "duration": 5,
    "start_time": "2022-01-28T14:33:35.016Z"
   },
   {
    "duration": 19,
    "start_time": "2022-01-28T14:33:36.763Z"
   },
   {
    "duration": 724,
    "start_time": "2022-01-28T14:33:37.554Z"
   },
   {
    "duration": 28,
    "start_time": "2022-01-28T14:33:38.443Z"
   },
   {
    "duration": 28,
    "start_time": "2022-01-28T14:33:39.224Z"
   },
   {
    "duration": 94,
    "start_time": "2022-01-28T14:33:52.778Z"
   },
   {
    "duration": 5,
    "start_time": "2022-01-28T14:33:53.649Z"
   },
   {
    "duration": 89,
    "start_time": "2022-01-28T14:33:54.991Z"
   },
   {
    "duration": 6,
    "start_time": "2022-01-28T14:33:58.211Z"
   },
   {
    "duration": 16,
    "start_time": "2022-01-28T14:34:57.147Z"
   },
   {
    "duration": 129,
    "start_time": "2022-01-28T15:48:30.621Z"
   },
   {
    "duration": 13,
    "start_time": "2022-01-28T15:49:25.904Z"
   },
   {
    "duration": 648,
    "start_time": "2022-01-28T15:51:40.746Z"
   },
   {
    "duration": 22,
    "start_time": "2022-01-28T15:52:06.815Z"
   },
   {
    "duration": 25,
    "start_time": "2022-01-28T15:52:19.515Z"
   },
   {
    "duration": 92,
    "start_time": "2022-01-28T15:52:38.799Z"
   },
   {
    "duration": 7,
    "start_time": "2022-01-28T16:42:46.129Z"
   },
   {
    "duration": 89,
    "start_time": "2022-01-28T16:43:05.892Z"
   },
   {
    "duration": 5,
    "start_time": "2022-01-28T16:43:21.009Z"
   },
   {
    "duration": 5,
    "start_time": "2022-01-28T16:43:38.787Z"
   },
   {
    "duration": 14,
    "start_time": "2022-01-28T16:43:55.585Z"
   },
   {
    "duration": 600,
    "start_time": "2022-01-28T16:44:39.053Z"
   },
   {
    "duration": 7,
    "start_time": "2022-01-28T16:45:06.010Z"
   },
   {
    "duration": 13,
    "start_time": "2022-01-28T16:45:41.156Z"
   },
   {
    "duration": 18,
    "start_time": "2022-01-28T16:46:20.816Z"
   },
   {
    "duration": 35,
    "start_time": "2022-01-28T16:46:35.793Z"
   },
   {
    "duration": 410,
    "start_time": "2022-01-28T16:46:53.591Z"
   },
   {
    "duration": 98,
    "start_time": "2022-01-28T16:47:18.701Z"
   },
   {
    "duration": 5,
    "start_time": "2022-01-28T16:47:31.330Z"
   },
   {
    "duration": 87,
    "start_time": "2022-01-28T17:43:25.700Z"
   },
   {
    "duration": 5,
    "start_time": "2022-01-28T17:43:49.316Z"
   },
   {
    "duration": 15,
    "start_time": "2022-01-28T17:44:04.444Z"
   },
   {
    "duration": 616,
    "start_time": "2022-01-28T17:44:23.732Z"
   },
   {
    "duration": 7,
    "start_time": "2022-01-28T17:46:47.136Z"
   },
   {
    "duration": 5,
    "start_time": "2022-01-28T20:26:36.026Z"
   },
   {
    "duration": 17,
    "start_time": "2022-01-28T20:29:59.212Z"
   },
   {
    "duration": 12,
    "start_time": "2022-01-28T21:02:17.967Z"
   },
   {
    "duration": 164,
    "start_time": "2022-01-28T21:08:07.976Z"
   },
   {
    "duration": 85,
    "start_time": "2022-01-28T21:14:47.002Z"
   },
   {
    "duration": 31,
    "start_time": "2022-01-28T21:18:13.384Z"
   },
   {
    "duration": 11,
    "start_time": "2022-01-28T21:34:31.274Z"
   },
   {
    "duration": 13,
    "start_time": "2022-01-28T21:34:45.802Z"
   },
   {
    "duration": 14,
    "start_time": "2022-01-28T21:37:46.427Z"
   },
   {
    "duration": 11,
    "start_time": "2022-01-28T21:39:37.120Z"
   },
   {
    "duration": 26,
    "start_time": "2022-01-28T22:30:26.613Z"
   },
   {
    "duration": 6,
    "start_time": "2022-01-28T22:31:20.385Z"
   },
   {
    "duration": 387,
    "start_time": "2022-01-28T22:31:20.395Z"
   },
   {
    "duration": 152,
    "start_time": "2022-01-28T22:31:20.785Z"
   },
   {
    "duration": 25,
    "start_time": "2022-01-28T22:31:20.941Z"
   },
   {
    "duration": 3,
    "start_time": "2022-01-28T22:31:20.968Z"
   },
   {
    "duration": 4,
    "start_time": "2022-01-28T22:31:21.024Z"
   },
   {
    "duration": 38,
    "start_time": "2022-01-28T22:31:21.030Z"
   },
   {
    "duration": 62,
    "start_time": "2022-01-28T22:31:21.072Z"
   },
   {
    "duration": 25,
    "start_time": "2022-01-28T22:31:21.137Z"
   },
   {
    "duration": 12,
    "start_time": "2022-01-28T22:31:21.165Z"
   },
   {
    "duration": 57,
    "start_time": "2022-01-28T22:31:21.180Z"
   },
   {
    "duration": 20,
    "start_time": "2022-01-28T22:31:21.240Z"
   },
   {
    "duration": 8,
    "start_time": "2022-01-28T22:31:21.262Z"
   },
   {
    "duration": 9,
    "start_time": "2022-01-28T22:31:21.273Z"
   },
   {
    "duration": 7,
    "start_time": "2022-01-28T22:31:21.324Z"
   },
   {
    "duration": 21,
    "start_time": "2022-01-28T22:31:21.334Z"
   },
   {
    "duration": 7,
    "start_time": "2022-01-28T22:31:21.358Z"
   },
   {
    "duration": 98,
    "start_time": "2022-01-28T22:31:21.367Z"
   },
   {
    "duration": 3,
    "start_time": "2022-01-28T22:31:21.468Z"
   },
   {
    "duration": 6,
    "start_time": "2022-01-28T22:31:21.474Z"
   },
   {
    "duration": 4,
    "start_time": "2022-01-28T22:31:21.484Z"
   },
   {
    "duration": 5,
    "start_time": "2022-01-28T22:31:21.490Z"
   },
   {
    "duration": 3,
    "start_time": "2022-01-28T22:31:21.528Z"
   },
   {
    "duration": 3,
    "start_time": "2022-01-28T22:31:21.536Z"
   },
   {
    "duration": 5,
    "start_time": "2022-01-28T22:31:21.542Z"
   },
   {
    "duration": 15,
    "start_time": "2022-01-28T22:31:21.550Z"
   },
   {
    "duration": 61,
    "start_time": "2022-01-28T22:31:21.568Z"
   },
   {
    "duration": 13,
    "start_time": "2022-01-28T22:31:21.632Z"
   },
   {
    "duration": 17,
    "start_time": "2022-01-28T22:31:21.648Z"
   },
   {
    "duration": 59,
    "start_time": "2022-01-28T22:31:21.667Z"
   },
   {
    "duration": 40,
    "start_time": "2022-01-28T22:31:21.729Z"
   },
   {
    "duration": 3,
    "start_time": "2022-01-28T22:31:21.771Z"
   },
   {
    "duration": 77,
    "start_time": "2022-01-28T22:31:21.776Z"
   },
   {
    "duration": 17,
    "start_time": "2022-01-28T22:31:21.856Z"
   },
   {
    "duration": 47,
    "start_time": "2022-01-28T22:31:21.876Z"
   },
   {
    "duration": 11,
    "start_time": "2022-01-28T22:31:21.926Z"
   },
   {
    "duration": 45,
    "start_time": "2022-01-28T22:31:21.939Z"
   },
   {
    "duration": 60,
    "start_time": "2022-01-28T22:31:21.987Z"
   },
   {
    "duration": 12,
    "start_time": "2022-01-28T22:31:22.050Z"
   },
   {
    "duration": 31,
    "start_time": "2022-01-28T22:31:22.065Z"
   },
   {
    "duration": 25,
    "start_time": "2022-01-28T22:31:22.124Z"
   },
   {
    "duration": 391,
    "start_time": "2022-01-28T22:31:22.151Z"
   },
   {
    "duration": 6,
    "start_time": "2022-01-28T22:31:22.544Z"
   },
   {
    "duration": 12,
    "start_time": "2022-01-28T22:31:22.552Z"
   },
   {
    "duration": 11,
    "start_time": "2022-01-28T22:31:22.566Z"
   },
   {
    "duration": 47,
    "start_time": "2022-01-28T22:31:22.580Z"
   },
   {
    "duration": 6,
    "start_time": "2022-01-28T22:31:22.630Z"
   },
   {
    "duration": 12,
    "start_time": "2022-01-28T22:31:22.638Z"
   },
   {
    "duration": 27,
    "start_time": "2022-01-28T22:31:22.653Z"
   },
   {
    "duration": 48,
    "start_time": "2022-01-28T22:31:22.682Z"
   },
   {
    "duration": 40,
    "start_time": "2022-01-28T22:31:22.733Z"
   },
   {
    "duration": 12,
    "start_time": "2022-01-28T22:31:22.776Z"
   },
   {
    "duration": 27,
    "start_time": "2022-01-28T22:31:22.824Z"
   },
   {
    "duration": 2743,
    "start_time": "2022-01-28T22:31:22.853Z"
   },
   {
    "duration": 54,
    "start_time": "2022-01-28T22:31:25.600Z"
   },
   {
    "duration": 424,
    "start_time": "2022-01-28T22:31:25.656Z"
   },
   {
    "duration": 2892,
    "start_time": "2022-01-28T22:31:26.083Z"
   },
   {
    "duration": 3088,
    "start_time": "2022-01-28T22:31:28.978Z"
   },
   {
    "duration": 5693,
    "start_time": "2022-01-28T22:31:32.068Z"
   },
   {
    "duration": 118,
    "start_time": "2022-01-28T22:31:37.764Z"
   },
   {
    "duration": 5,
    "start_time": "2022-01-28T22:31:37.884Z"
   },
   {
    "duration": 122,
    "start_time": "2022-01-28T22:31:37.891Z"
   },
   {
    "duration": 9,
    "start_time": "2022-01-28T22:31:38.015Z"
   },
   {
    "duration": 18,
    "start_time": "2022-01-28T22:31:38.027Z"
   },
   {
    "duration": 644,
    "start_time": "2022-01-28T22:31:38.048Z"
   },
   {
    "duration": 39,
    "start_time": "2022-01-28T22:31:38.695Z"
   },
   {
    "duration": 29,
    "start_time": "2022-01-28T22:31:38.737Z"
   },
   {
    "duration": 127,
    "start_time": "2022-01-28T22:31:38.778Z"
   },
   {
    "duration": 17,
    "start_time": "2022-01-28T22:31:38.908Z"
   },
   {
    "duration": 109,
    "start_time": "2022-01-28T22:31:38.928Z"
   },
   {
    "duration": 5,
    "start_time": "2022-01-28T22:31:39.039Z"
   },
   {
    "duration": 15,
    "start_time": "2022-01-28T22:31:39.046Z"
   },
   {
    "duration": 630,
    "start_time": "2022-01-28T22:31:39.064Z"
   },
   {
    "duration": 33,
    "start_time": "2022-01-28T22:31:39.697Z"
   },
   {
    "duration": 21,
    "start_time": "2022-01-28T22:31:39.733Z"
   },
   {
    "duration": 132,
    "start_time": "2022-01-28T22:31:39.757Z"
   },
   {
    "duration": 6,
    "start_time": "2022-01-28T22:31:39.892Z"
   },
   {
    "duration": 106,
    "start_time": "2022-01-28T22:31:39.901Z"
   },
   {
    "duration": 7,
    "start_time": "2022-01-28T22:31:40.023Z"
   },
   {
    "duration": 21,
    "start_time": "2022-01-28T22:31:40.032Z"
   },
   {
    "duration": 655,
    "start_time": "2022-01-28T22:31:40.056Z"
   },
   {
    "duration": 28,
    "start_time": "2022-01-28T22:31:40.714Z"
   },
   {
    "duration": 24,
    "start_time": "2022-01-28T22:31:40.744Z"
   },
   {
    "duration": 132,
    "start_time": "2022-01-28T22:31:40.771Z"
   },
   {
    "duration": 5,
    "start_time": "2022-01-28T22:31:40.906Z"
   },
   {
    "duration": 111,
    "start_time": "2022-01-28T22:31:40.913Z"
   },
   {
    "duration": 5,
    "start_time": "2022-01-28T22:31:41.026Z"
   },
   {
    "duration": 17,
    "start_time": "2022-01-28T22:31:41.033Z"
   },
   {
    "duration": 654,
    "start_time": "2022-01-28T22:31:41.053Z"
   },
   {
    "duration": 18,
    "start_time": "2022-01-28T22:31:41.710Z"
   },
   {
    "duration": 19,
    "start_time": "2022-01-28T22:31:41.731Z"
   },
   {
    "duration": 20,
    "start_time": "2022-01-28T22:31:41.753Z"
   },
   {
    "duration": 78,
    "start_time": "2022-01-28T22:31:41.775Z"
   },
   {
    "duration": 436,
    "start_time": "2022-01-28T22:31:41.857Z"
   },
   {
    "duration": 104,
    "start_time": "2022-01-28T22:31:42.295Z"
   },
   {
    "duration": 5,
    "start_time": "2022-01-28T22:31:42.401Z"
   },
   {
    "duration": 112,
    "start_time": "2022-01-28T22:31:42.426Z"
   },
   {
    "duration": 5,
    "start_time": "2022-01-28T22:31:42.540Z"
   },
   {
    "duration": 15,
    "start_time": "2022-01-28T22:31:42.548Z"
   },
   {
    "duration": 662,
    "start_time": "2022-01-28T22:31:42.566Z"
   },
   {
    "duration": 7,
    "start_time": "2022-01-28T22:31:43.230Z"
   },
   {
    "duration": 4,
    "start_time": "2022-01-28T22:31:43.239Z"
   },
   {
    "duration": 5,
    "start_time": "2022-01-28T22:31:43.246Z"
   },
   {
    "duration": 9,
    "start_time": "2022-01-28T22:31:43.253Z"
   },
   {
    "duration": 5,
    "start_time": "2022-01-28T22:31:43.264Z"
   },
   {
    "duration": 51,
    "start_time": "2022-01-28T22:31:43.272Z"
   },
   {
    "duration": 14,
    "start_time": "2022-01-28T22:31:43.327Z"
   },
   {
    "duration": 5,
    "start_time": "2022-01-28T22:31:43.344Z"
   },
   {
    "duration": 5,
    "start_time": "2022-01-28T22:31:43.352Z"
   },
   {
    "duration": 16,
    "start_time": "2022-01-28T23:05:39.619Z"
   },
   {
    "duration": 14,
    "start_time": "2022-01-28T23:11:59.064Z"
   },
   {
    "duration": 13,
    "start_time": "2022-01-28T23:16:18.313Z"
   },
   {
    "duration": 17,
    "start_time": "2022-01-28T23:16:27.515Z"
   },
   {
    "duration": 46,
    "start_time": "2022-01-28T23:21:48.297Z"
   },
   {
    "duration": 93,
    "start_time": "2022-01-28T23:35:28.945Z"
   },
   {
    "duration": 2768,
    "start_time": "2022-01-29T00:06:46.923Z"
   },
   {
    "duration": 4959,
    "start_time": "2022-01-29T00:18:05.825Z"
   },
   {
    "duration": 111,
    "start_time": "2022-01-29T00:19:24.613Z"
   },
   {
    "duration": 95,
    "start_time": "2022-01-29T00:22:08.243Z"
   },
   {
    "duration": 8,
    "start_time": "2022-01-29T00:25:58.634Z"
   },
   {
    "duration": 7,
    "start_time": "2022-01-29T00:26:55.461Z"
   },
   {
    "duration": 8,
    "start_time": "2022-01-29T00:27:02.411Z"
   },
   {
    "duration": 86,
    "start_time": "2022-01-29T00:29:02.445Z"
   },
   {
    "duration": 89,
    "start_time": "2022-01-29T00:29:13.789Z"
   },
   {
    "duration": 293,
    "start_time": "2022-01-29T00:29:22.955Z"
   },
   {
    "duration": 11,
    "start_time": "2022-01-29T00:29:31.067Z"
   },
   {
    "duration": 344,
    "start_time": "2022-01-29T00:29:54.549Z"
   },
   {
    "duration": 87,
    "start_time": "2022-01-29T00:30:01.651Z"
   },
   {
    "duration": 99,
    "start_time": "2022-01-29T00:41:08.469Z"
   },
   {
    "duration": 129,
    "start_time": "2022-01-29T00:43:35.784Z"
   },
   {
    "duration": 1566,
    "start_time": "2022-01-29T13:34:26.578Z"
   },
   {
    "duration": 363,
    "start_time": "2022-01-29T13:34:28.147Z"
   },
   {
    "duration": 103,
    "start_time": "2022-01-29T13:34:28.513Z"
   },
   {
    "duration": 46,
    "start_time": "2022-01-29T13:34:28.618Z"
   },
   {
    "duration": 5,
    "start_time": "2022-01-29T13:34:28.667Z"
   },
   {
    "duration": 5,
    "start_time": "2022-01-29T13:34:28.675Z"
   },
   {
    "duration": 30,
    "start_time": "2022-01-29T13:34:28.683Z"
   },
   {
    "duration": 55,
    "start_time": "2022-01-29T13:34:28.717Z"
   },
   {
    "duration": 17,
    "start_time": "2022-01-29T13:34:28.775Z"
   },
   {
    "duration": 9,
    "start_time": "2022-01-29T13:34:28.794Z"
   },
   {
    "duration": 24,
    "start_time": "2022-01-29T13:34:28.805Z"
   },
   {
    "duration": 35,
    "start_time": "2022-01-29T13:34:28.831Z"
   },
   {
    "duration": 5,
    "start_time": "2022-01-29T13:34:28.869Z"
   },
   {
    "duration": 6,
    "start_time": "2022-01-29T13:34:28.876Z"
   },
   {
    "duration": 5,
    "start_time": "2022-01-29T13:34:28.884Z"
   },
   {
    "duration": 8,
    "start_time": "2022-01-29T13:34:28.891Z"
   },
   {
    "duration": 6,
    "start_time": "2022-01-29T13:34:28.901Z"
   },
   {
    "duration": 47,
    "start_time": "2022-01-29T13:34:28.960Z"
   },
   {
    "duration": 3,
    "start_time": "2022-01-29T13:34:29.009Z"
   },
   {
    "duration": 5,
    "start_time": "2022-01-29T13:34:29.015Z"
   },
   {
    "duration": 36,
    "start_time": "2022-01-29T13:34:29.023Z"
   },
   {
    "duration": 4,
    "start_time": "2022-01-29T13:34:29.061Z"
   },
   {
    "duration": 3,
    "start_time": "2022-01-29T13:34:29.074Z"
   },
   {
    "duration": 2,
    "start_time": "2022-01-29T13:34:29.083Z"
   },
   {
    "duration": 3,
    "start_time": "2022-01-29T13:34:29.089Z"
   },
   {
    "duration": 5,
    "start_time": "2022-01-29T13:34:29.095Z"
   },
   {
    "duration": 64,
    "start_time": "2022-01-29T13:34:29.103Z"
   },
   {
    "duration": 16,
    "start_time": "2022-01-29T13:34:29.169Z"
   },
   {
    "duration": 14,
    "start_time": "2022-01-29T13:34:29.187Z"
   },
   {
    "duration": 11,
    "start_time": "2022-01-29T13:34:29.203Z"
   },
   {
    "duration": 73,
    "start_time": "2022-01-29T13:34:29.217Z"
   },
   {
    "duration": 2,
    "start_time": "2022-01-29T13:34:29.293Z"
   },
   {
    "duration": 63,
    "start_time": "2022-01-29T13:34:29.298Z"
   },
   {
    "duration": 23,
    "start_time": "2022-01-29T13:34:29.364Z"
   },
   {
    "duration": 12,
    "start_time": "2022-01-29T13:34:29.389Z"
   },
   {
    "duration": 18,
    "start_time": "2022-01-29T13:34:29.404Z"
   },
   {
    "duration": 51,
    "start_time": "2022-01-29T13:34:29.425Z"
   },
   {
    "duration": 41,
    "start_time": "2022-01-29T13:34:29.479Z"
   },
   {
    "duration": 55,
    "start_time": "2022-01-29T13:34:29.523Z"
   },
   {
    "duration": 29,
    "start_time": "2022-01-29T13:34:29.581Z"
   },
   {
    "duration": 49,
    "start_time": "2022-01-29T13:34:29.613Z"
   },
   {
    "duration": 9,
    "start_time": "2022-01-29T13:34:29.664Z"
   },
   {
    "duration": 413,
    "start_time": "2022-01-29T13:34:29.675Z"
   },
   {
    "duration": 5,
    "start_time": "2022-01-29T13:34:30.091Z"
   },
   {
    "duration": 13,
    "start_time": "2022-01-29T13:34:30.099Z"
   },
   {
    "duration": 16,
    "start_time": "2022-01-29T13:34:30.114Z"
   },
   {
    "duration": 16,
    "start_time": "2022-01-29T13:34:30.133Z"
   },
   {
    "duration": 13,
    "start_time": "2022-01-29T13:34:30.152Z"
   },
   {
    "duration": 19,
    "start_time": "2022-01-29T13:34:30.167Z"
   },
   {
    "duration": 30,
    "start_time": "2022-01-29T13:34:30.189Z"
   },
   {
    "duration": 21,
    "start_time": "2022-01-29T13:34:30.221Z"
   },
   {
    "duration": 40,
    "start_time": "2022-01-29T13:34:30.245Z"
   },
   {
    "duration": 12,
    "start_time": "2022-01-29T13:34:30.288Z"
   },
   {
    "duration": 40,
    "start_time": "2022-01-29T13:34:30.303Z"
   },
   {
    "duration": 2858,
    "start_time": "2022-01-29T13:34:30.345Z"
   },
   {
    "duration": 54,
    "start_time": "2022-01-29T13:34:33.206Z"
   },
   {
    "duration": 450,
    "start_time": "2022-01-29T13:34:33.263Z"
   },
   {
    "duration": 2636,
    "start_time": "2022-01-29T13:34:33.716Z"
   },
   {
    "duration": 2772,
    "start_time": "2022-01-29T13:34:36.355Z"
   },
   {
    "duration": 4836,
    "start_time": "2022-01-29T13:34:39.129Z"
   },
   {
    "duration": 105,
    "start_time": "2022-01-29T13:34:43.967Z"
   },
   {
    "duration": 10,
    "start_time": "2022-01-29T13:34:44.075Z"
   },
   {
    "duration": 108,
    "start_time": "2022-01-29T13:34:44.088Z"
   },
   {
    "duration": 4,
    "start_time": "2022-01-29T13:34:44.198Z"
   },
   {
    "duration": 16,
    "start_time": "2022-01-29T13:34:44.205Z"
   },
   {
    "duration": 628,
    "start_time": "2022-01-29T13:34:44.224Z"
   },
   {
    "duration": 24,
    "start_time": "2022-01-29T13:34:44.859Z"
   },
   {
    "duration": 22,
    "start_time": "2022-01-29T13:34:44.894Z"
   },
   {
    "duration": 123,
    "start_time": "2022-01-29T13:34:44.919Z"
   },
   {
    "duration": 17,
    "start_time": "2022-01-29T13:34:45.045Z"
   },
   {
    "duration": 100,
    "start_time": "2022-01-29T13:34:45.065Z"
   },
   {
    "duration": 5,
    "start_time": "2022-01-29T13:34:45.167Z"
   },
   {
    "duration": 15,
    "start_time": "2022-01-29T13:34:45.174Z"
   },
   {
    "duration": 598,
    "start_time": "2022-01-29T13:34:45.192Z"
   },
   {
    "duration": 23,
    "start_time": "2022-01-29T13:34:45.793Z"
   },
   {
    "duration": 55,
    "start_time": "2022-01-29T13:34:45.819Z"
   },
   {
    "duration": 100,
    "start_time": "2022-01-29T13:34:45.877Z"
   },
   {
    "duration": 6,
    "start_time": "2022-01-29T13:34:45.980Z"
   },
   {
    "duration": 117,
    "start_time": "2022-01-29T13:34:45.989Z"
   },
   {
    "duration": 6,
    "start_time": "2022-01-29T13:34:46.109Z"
   },
   {
    "duration": 41,
    "start_time": "2022-01-29T13:34:46.118Z"
   },
   {
    "duration": 632,
    "start_time": "2022-01-29T13:34:46.163Z"
   },
   {
    "duration": 24,
    "start_time": "2022-01-29T13:34:46.798Z"
   },
   {
    "duration": 45,
    "start_time": "2022-01-29T13:34:46.824Z"
   },
   {
    "duration": 196,
    "start_time": "2022-01-29T13:34:46.871Z"
   },
   {
    "duration": 5,
    "start_time": "2022-01-29T13:34:47.069Z"
   },
   {
    "duration": 107,
    "start_time": "2022-01-29T13:34:47.076Z"
   },
   {
    "duration": 4,
    "start_time": "2022-01-29T13:34:47.185Z"
   },
   {
    "duration": 15,
    "start_time": "2022-01-29T13:34:47.191Z"
   },
   {
    "duration": 622,
    "start_time": "2022-01-29T13:34:47.208Z"
   },
   {
    "duration": 8,
    "start_time": "2022-01-29T13:34:47.833Z"
   },
   {
    "duration": 25,
    "start_time": "2022-01-29T13:34:47.844Z"
   },
   {
    "duration": 14,
    "start_time": "2022-01-29T13:34:47.872Z"
   },
   {
    "duration": 36,
    "start_time": "2022-01-29T13:34:47.889Z"
   },
   {
    "duration": 481,
    "start_time": "2022-01-29T13:34:47.927Z"
   },
   {
    "duration": 96,
    "start_time": "2022-01-29T13:34:48.411Z"
   },
   {
    "duration": 4,
    "start_time": "2022-01-29T13:34:48.509Z"
   },
   {
    "duration": 101,
    "start_time": "2022-01-29T13:34:48.515Z"
   },
   {
    "duration": 7,
    "start_time": "2022-01-29T13:34:48.619Z"
   },
   {
    "duration": 42,
    "start_time": "2022-01-29T13:34:48.628Z"
   },
   {
    "duration": 624,
    "start_time": "2022-01-29T13:34:48.673Z"
   },
   {
    "duration": 8,
    "start_time": "2022-01-29T13:34:49.301Z"
   },
   {
    "duration": 6,
    "start_time": "2022-01-29T13:34:49.311Z"
   },
   {
    "duration": 4,
    "start_time": "2022-01-29T13:34:49.320Z"
   },
   {
    "duration": 34,
    "start_time": "2022-01-29T13:34:49.327Z"
   },
   {
    "duration": 3,
    "start_time": "2022-01-29T13:34:49.364Z"
   },
   {
    "duration": 4,
    "start_time": "2022-01-29T13:34:49.370Z"
   },
   {
    "duration": 3,
    "start_time": "2022-01-29T13:34:49.378Z"
   },
   {
    "duration": 5,
    "start_time": "2022-01-29T13:34:49.383Z"
   },
   {
    "duration": 40,
    "start_time": "2022-01-29T13:38:50.590Z"
   },
   {
    "duration": 31,
    "start_time": "2022-01-29T13:39:49.285Z"
   },
   {
    "duration": 309,
    "start_time": "2022-02-06T23:07:08.104Z"
   },
   {
    "duration": 1506,
    "start_time": "2022-02-06T23:07:13.475Z"
   },
   {
    "duration": 378,
    "start_time": "2022-02-06T23:07:14.983Z"
   },
   {
    "duration": 123,
    "start_time": "2022-02-06T23:07:15.364Z"
   },
   {
    "duration": 346,
    "start_time": "2022-02-06T23:07:15.490Z"
   },
   {
    "duration": -217,
    "start_time": "2022-02-06T23:07:16.059Z"
   },
   {
    "duration": -224,
    "start_time": "2022-02-06T23:07:16.068Z"
   },
   {
    "duration": -229,
    "start_time": "2022-02-06T23:07:16.074Z"
   },
   {
    "duration": -233,
    "start_time": "2022-02-06T23:07:16.080Z"
   },
   {
    "duration": -253,
    "start_time": "2022-02-06T23:07:16.101Z"
   },
   {
    "duration": -258,
    "start_time": "2022-02-06T23:07:16.108Z"
   },
   {
    "duration": -262,
    "start_time": "2022-02-06T23:07:16.113Z"
   },
   {
    "duration": -267,
    "start_time": "2022-02-06T23:07:16.120Z"
   },
   {
    "duration": -272,
    "start_time": "2022-02-06T23:07:16.126Z"
   },
   {
    "duration": -276,
    "start_time": "2022-02-06T23:07:16.132Z"
   },
   {
    "duration": -281,
    "start_time": "2022-02-06T23:07:16.138Z"
   },
   {
    "duration": -286,
    "start_time": "2022-02-06T23:07:16.145Z"
   },
   {
    "duration": -290,
    "start_time": "2022-02-06T23:07:16.150Z"
   },
   {
    "duration": -295,
    "start_time": "2022-02-06T23:07:16.156Z"
   },
   {
    "duration": -299,
    "start_time": "2022-02-06T23:07:16.162Z"
   },
   {
    "duration": -397,
    "start_time": "2022-02-06T23:07:16.261Z"
   },
   {
    "duration": -403,
    "start_time": "2022-02-06T23:07:16.268Z"
   },
   {
    "duration": -408,
    "start_time": "2022-02-06T23:07:16.275Z"
   },
   {
    "duration": -412,
    "start_time": "2022-02-06T23:07:16.280Z"
   },
   {
    "duration": -417,
    "start_time": "2022-02-06T23:07:16.286Z"
   },
   {
    "duration": -421,
    "start_time": "2022-02-06T23:07:16.291Z"
   },
   {
    "duration": -2035,
    "start_time": "2022-02-06T23:07:17.906Z"
   },
   {
    "duration": -2053,
    "start_time": "2022-02-06T23:07:17.926Z"
   },
   {
    "duration": -2060,
    "start_time": "2022-02-06T23:07:17.934Z"
   },
   {
    "duration": -2072,
    "start_time": "2022-02-06T23:07:17.947Z"
   },
   {
    "duration": -2084,
    "start_time": "2022-02-06T23:07:17.961Z"
   },
   {
    "duration": -2090,
    "start_time": "2022-02-06T23:07:17.968Z"
   },
   {
    "duration": -2102,
    "start_time": "2022-02-06T23:07:17.981Z"
   },
   {
    "duration": -2113,
    "start_time": "2022-02-06T23:07:17.993Z"
   },
   {
    "duration": -2119,
    "start_time": "2022-02-06T23:07:18.000Z"
   },
   {
    "duration": -2129,
    "start_time": "2022-02-06T23:07:18.012Z"
   },
   {
    "duration": -2141,
    "start_time": "2022-02-06T23:07:18.025Z"
   },
   {
    "duration": -2145,
    "start_time": "2022-02-06T23:07:18.030Z"
   },
   {
    "duration": -2157,
    "start_time": "2022-02-06T23:07:18.043Z"
   },
   {
    "duration": -2162,
    "start_time": "2022-02-06T23:07:18.049Z"
   },
   {
    "duration": -2173,
    "start_time": "2022-02-06T23:07:18.062Z"
   },
   {
    "duration": -2178,
    "start_time": "2022-02-06T23:07:18.068Z"
   },
   {
    "duration": -2183,
    "start_time": "2022-02-06T23:07:18.074Z"
   },
   {
    "duration": -2187,
    "start_time": "2022-02-06T23:07:18.079Z"
   },
   {
    "duration": -2205,
    "start_time": "2022-02-06T23:07:18.099Z"
   },
   {
    "duration": -2209,
    "start_time": "2022-02-06T23:07:18.104Z"
   },
   {
    "duration": -2214,
    "start_time": "2022-02-06T23:07:18.110Z"
   },
   {
    "duration": -2218,
    "start_time": "2022-02-06T23:07:18.116Z"
   },
   {
    "duration": -2230,
    "start_time": "2022-02-06T23:07:18.129Z"
   },
   {
    "duration": -2234,
    "start_time": "2022-02-06T23:07:18.134Z"
   },
   {
    "duration": -2245,
    "start_time": "2022-02-06T23:07:18.147Z"
   },
   {
    "duration": -2258,
    "start_time": "2022-02-06T23:07:18.161Z"
   },
   {
    "duration": -2264,
    "start_time": "2022-02-06T23:07:18.168Z"
   },
   {
    "duration": -2274,
    "start_time": "2022-02-06T23:07:18.180Z"
   },
   {
    "duration": -2287,
    "start_time": "2022-02-06T23:07:18.194Z"
   },
   {
    "duration": -2292,
    "start_time": "2022-02-06T23:07:18.200Z"
   },
   {
    "duration": -2244,
    "start_time": "2022-02-06T23:07:18.215Z"
   },
   {
    "duration": -2255,
    "start_time": "2022-02-06T23:07:18.228Z"
   },
   {
    "duration": -2267,
    "start_time": "2022-02-06T23:07:18.242Z"
   },
   {
    "duration": -2270,
    "start_time": "2022-02-06T23:07:18.247Z"
   },
   {
    "duration": -2281,
    "start_time": "2022-02-06T23:07:18.261Z"
   },
   {
    "duration": -2285,
    "start_time": "2022-02-06T23:07:18.267Z"
   },
   {
    "duration": -2295,
    "start_time": "2022-02-06T23:07:18.279Z"
   },
   {
    "duration": -2299,
    "start_time": "2022-02-06T23:07:18.285Z"
   },
   {
    "duration": -2310,
    "start_time": "2022-02-06T23:07:18.298Z"
   },
   {
    "duration": -2320,
    "start_time": "2022-02-06T23:07:18.310Z"
   },
   {
    "duration": -2326,
    "start_time": "2022-02-06T23:07:18.318Z"
   },
   {
    "duration": -2335,
    "start_time": "2022-02-06T23:07:18.329Z"
   },
   {
    "duration": -2347,
    "start_time": "2022-02-06T23:07:18.343Z"
   },
   {
    "duration": -2351,
    "start_time": "2022-02-06T23:07:18.349Z"
   },
   {
    "duration": -2362,
    "start_time": "2022-02-06T23:07:18.362Z"
   },
   {
    "duration": -2365,
    "start_time": "2022-02-06T23:07:18.367Z"
   },
   {
    "duration": -2370,
    "start_time": "2022-02-06T23:07:18.373Z"
   },
   {
    "duration": -2373,
    "start_time": "2022-02-06T23:07:18.378Z"
   },
   {
    "duration": -2377,
    "start_time": "2022-02-06T23:07:18.384Z"
   },
   {
    "duration": -2321,
    "start_time": "2022-02-06T23:07:18.390Z"
   },
   {
    "duration": -2339,
    "start_time": "2022-02-06T23:07:18.409Z"
   },
   {
    "duration": -2344,
    "start_time": "2022-02-06T23:07:18.416Z"
   },
   {
    "duration": -2356,
    "start_time": "2022-02-06T23:07:18.429Z"
   },
   {
    "duration": -2361,
    "start_time": "2022-02-06T23:07:18.435Z"
   },
   {
    "duration": -2374,
    "start_time": "2022-02-06T23:07:18.450Z"
   },
   {
    "duration": -2385,
    "start_time": "2022-02-06T23:07:18.462Z"
   },
   {
    "duration": -2397,
    "start_time": "2022-02-06T23:07:18.475Z"
   },
   {
    "duration": -2402,
    "start_time": "2022-02-06T23:07:18.481Z"
   },
   {
    "duration": -2415,
    "start_time": "2022-02-06T23:07:18.495Z"
   },
   {
    "duration": -2419,
    "start_time": "2022-02-06T23:07:18.501Z"
   },
   {
    "duration": -2432,
    "start_time": "2022-02-06T23:07:18.515Z"
   },
   {
    "duration": -2444,
    "start_time": "2022-02-06T23:07:18.528Z"
   },
   {
    "duration": -2451,
    "start_time": "2022-02-06T23:07:18.536Z"
   },
   {
    "duration": -2462,
    "start_time": "2022-02-06T23:07:18.549Z"
   },
   {
    "duration": -2474,
    "start_time": "2022-02-06T23:07:18.562Z"
   },
   {
    "duration": -2480,
    "start_time": "2022-02-06T23:07:18.569Z"
   },
   {
    "duration": -2500,
    "start_time": "2022-02-06T23:07:18.590Z"
   },
   {
    "duration": -2529,
    "start_time": "2022-02-06T23:07:18.621Z"
   },
   {
    "duration": 29,
    "start_time": "2022-02-06T23:07:37.833Z"
   },
   {
    "duration": 24,
    "start_time": "2022-02-06T23:08:26.461Z"
   },
   {
    "duration": 47,
    "start_time": "2022-03-25T08:14:48.296Z"
   },
   {
    "duration": 1373,
    "start_time": "2022-03-25T08:14:52.194Z"
   },
   {
    "duration": 237,
    "start_time": "2022-03-25T08:14:53.569Z"
   },
   {
    "duration": 85,
    "start_time": "2022-03-25T08:14:53.807Z"
   },
   {
    "duration": 9,
    "start_time": "2022-03-25T08:14:53.894Z"
   },
   {
    "duration": 37,
    "start_time": "2022-03-25T08:14:53.904Z"
   },
   {
    "duration": 29,
    "start_time": "2022-03-25T08:14:53.943Z"
   },
   {
    "duration": 13,
    "start_time": "2022-03-25T08:14:53.973Z"
   },
   {
    "duration": 5,
    "start_time": "2022-03-25T08:14:53.987Z"
   },
   {
    "duration": 19,
    "start_time": "2022-03-25T08:14:53.994Z"
   },
   {
    "duration": 15,
    "start_time": "2022-03-25T08:14:54.016Z"
   },
   {
    "duration": 5,
    "start_time": "2022-03-25T08:14:54.033Z"
   },
   {
    "duration": 24,
    "start_time": "2022-03-25T08:14:54.039Z"
   },
   {
    "duration": 8,
    "start_time": "2022-03-25T08:14:54.065Z"
   },
   {
    "duration": 17,
    "start_time": "2022-03-25T08:14:54.074Z"
   },
   {
    "duration": 12,
    "start_time": "2022-03-25T08:14:54.093Z"
   },
   {
    "duration": 34,
    "start_time": "2022-03-25T08:14:54.107Z"
   },
   {
    "duration": 9,
    "start_time": "2022-03-25T08:14:54.142Z"
   },
   {
    "duration": 26,
    "start_time": "2022-03-25T08:14:54.153Z"
   },
   {
    "duration": 17,
    "start_time": "2022-03-25T08:14:54.180Z"
   },
   {
    "duration": 10,
    "start_time": "2022-03-25T08:14:54.198Z"
   },
   {
    "duration": 31,
    "start_time": "2022-03-25T08:14:54.210Z"
   },
   {
    "duration": 3,
    "start_time": "2022-03-25T08:14:54.242Z"
   },
   {
    "duration": 60,
    "start_time": "2022-03-25T08:14:54.246Z"
   },
   {
    "duration": 15,
    "start_time": "2022-03-25T08:14:54.307Z"
   },
   {
    "duration": 7,
    "start_time": "2022-03-25T08:14:54.324Z"
   },
   {
    "duration": 11,
    "start_time": "2022-03-25T08:14:54.333Z"
   },
   {
    "duration": 10,
    "start_time": "2022-03-25T08:14:54.346Z"
   },
   {
    "duration": 23,
    "start_time": "2022-03-25T08:14:54.362Z"
   },
   {
    "duration": 17,
    "start_time": "2022-03-25T08:14:54.386Z"
   },
   {
    "duration": 16,
    "start_time": "2022-03-25T08:14:54.404Z"
   },
   {
    "duration": 11,
    "start_time": "2022-03-25T08:14:54.421Z"
   },
   {
    "duration": 32,
    "start_time": "2022-03-25T08:14:54.433Z"
   },
   {
    "duration": 151,
    "start_time": "2022-03-25T08:14:54.467Z"
   },
   {
    "duration": 3,
    "start_time": "2022-03-25T08:14:54.620Z"
   },
   {
    "duration": 9,
    "start_time": "2022-03-25T08:14:54.625Z"
   },
   {
    "duration": 14,
    "start_time": "2022-03-25T08:14:54.636Z"
   },
   {
    "duration": 10,
    "start_time": "2022-03-25T08:14:54.651Z"
   },
   {
    "duration": 5,
    "start_time": "2022-03-25T08:14:54.663Z"
   },
   {
    "duration": 6,
    "start_time": "2022-03-25T08:14:54.669Z"
   },
   {
    "duration": 12,
    "start_time": "2022-03-25T08:14:54.676Z"
   },
   {
    "duration": 8,
    "start_time": "2022-03-25T08:14:54.689Z"
   },
   {
    "duration": 20,
    "start_time": "2022-03-25T08:14:54.699Z"
   },
   {
    "duration": 8,
    "start_time": "2022-03-25T08:14:54.720Z"
   },
   {
    "duration": 40,
    "start_time": "2022-03-25T08:14:54.729Z"
   },
   {
    "duration": 1291,
    "start_time": "2022-03-25T08:14:54.771Z"
   },
   {
    "duration": 11,
    "start_time": "2022-03-25T08:14:56.064Z"
   },
   {
    "duration": 200,
    "start_time": "2022-03-25T08:14:56.076Z"
   },
   {
    "duration": 1267,
    "start_time": "2022-03-25T08:14:56.278Z"
   },
   {
    "duration": 1131,
    "start_time": "2022-03-25T08:14:57.547Z"
   },
   {
    "duration": 1983,
    "start_time": "2022-03-25T08:14:58.680Z"
   },
   {
    "duration": 50,
    "start_time": "2022-03-25T08:15:00.665Z"
   },
   {
    "duration": 7,
    "start_time": "2022-03-25T08:15:00.717Z"
   },
   {
    "duration": 75,
    "start_time": "2022-03-25T08:15:00.726Z"
   },
   {
    "duration": 4,
    "start_time": "2022-03-25T08:15:00.803Z"
   },
   {
    "duration": 20,
    "start_time": "2022-03-25T08:15:00.809Z"
   },
   {
    "duration": 226,
    "start_time": "2022-03-25T08:15:00.830Z"
   },
   {
    "duration": 21,
    "start_time": "2022-03-25T08:15:01.058Z"
   },
   {
    "duration": 18,
    "start_time": "2022-03-25T08:15:01.081Z"
   },
   {
    "duration": 71,
    "start_time": "2022-03-25T08:15:01.101Z"
   },
   {
    "duration": 3,
    "start_time": "2022-03-25T08:15:01.174Z"
   },
   {
    "duration": 61,
    "start_time": "2022-03-25T08:15:01.179Z"
   },
   {
    "duration": 4,
    "start_time": "2022-03-25T08:15:01.241Z"
   },
   {
    "duration": 29,
    "start_time": "2022-03-25T08:15:01.246Z"
   },
   {
    "duration": 232,
    "start_time": "2022-03-25T08:15:01.277Z"
   },
   {
    "duration": 19,
    "start_time": "2022-03-25T08:15:01.511Z"
   },
   {
    "duration": 35,
    "start_time": "2022-03-25T08:15:01.531Z"
   },
   {
    "duration": 59,
    "start_time": "2022-03-25T08:15:01.568Z"
   },
   {
    "duration": 4,
    "start_time": "2022-03-25T08:15:01.628Z"
   },
   {
    "duration": 63,
    "start_time": "2022-03-25T08:15:01.633Z"
   },
   {
    "duration": 4,
    "start_time": "2022-03-25T08:15:01.697Z"
   },
   {
    "duration": 25,
    "start_time": "2022-03-25T08:15:01.702Z"
   },
   {
    "duration": 234,
    "start_time": "2022-03-25T08:15:01.729Z"
   },
   {
    "duration": 18,
    "start_time": "2022-03-25T08:15:01.964Z"
   },
   {
    "duration": 18,
    "start_time": "2022-03-25T08:15:01.983Z"
   },
   {
    "duration": 65,
    "start_time": "2022-03-25T08:15:02.003Z"
   },
   {
    "duration": 4,
    "start_time": "2022-03-25T08:15:02.070Z"
   },
   {
    "duration": 57,
    "start_time": "2022-03-25T08:15:02.075Z"
   },
   {
    "duration": 4,
    "start_time": "2022-03-25T08:15:02.133Z"
   },
   {
    "duration": 30,
    "start_time": "2022-03-25T08:15:02.139Z"
   },
   {
    "duration": 226,
    "start_time": "2022-03-25T08:15:02.171Z"
   },
   {
    "duration": 4,
    "start_time": "2022-03-25T08:15:02.399Z"
   },
   {
    "duration": 9,
    "start_time": "2022-03-25T08:15:02.408Z"
   },
   {
    "duration": 27,
    "start_time": "2022-03-25T08:15:02.419Z"
   },
   {
    "duration": 17,
    "start_time": "2022-03-25T08:15:02.448Z"
   },
   {
    "duration": 238,
    "start_time": "2022-03-25T08:15:02.467Z"
   },
   {
    "duration": 156,
    "start_time": "2022-03-25T08:15:02.707Z"
   },
   {
    "duration": 3,
    "start_time": "2022-03-25T08:15:02.865Z"
   },
   {
    "duration": 45,
    "start_time": "2022-03-25T08:15:02.869Z"
   },
   {
    "duration": 3,
    "start_time": "2022-03-25T08:15:02.916Z"
   },
   {
    "duration": 12,
    "start_time": "2022-03-25T08:15:02.920Z"
   },
   {
    "duration": 234,
    "start_time": "2022-03-25T08:15:02.933Z"
   },
   {
    "duration": 5,
    "start_time": "2022-03-25T08:15:03.168Z"
   }
  ],
  "kernelspec": {
   "display_name": "Python 3 (ipykernel)",
   "language": "python",
   "name": "python3"
  },
  "language_info": {
   "codemirror_mode": {
    "name": "ipython",
    "version": 3
   },
   "file_extension": ".py",
   "mimetype": "text/x-python",
   "name": "python",
   "nbconvert_exporter": "python",
   "pygments_lexer": "ipython3",
   "version": "3.9.5"
  },
  "toc": {
   "base_numbering": 1,
   "nav_menu": {},
   "number_sections": true,
   "sideBar": true,
   "skip_h1_title": false,
   "title_cell": "Table of Contents",
   "title_sidebar": "Contents",
   "toc_cell": false,
   "toc_position": {},
   "toc_section_display": true,
   "toc_window_display": false
  }
 },
 "nbformat": 4,
 "nbformat_minor": 2
}
