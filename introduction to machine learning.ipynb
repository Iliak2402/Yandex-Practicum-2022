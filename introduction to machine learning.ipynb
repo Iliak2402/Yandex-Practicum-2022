{
 "cells": [
  {
   "cell_type": "markdown",
   "metadata": {},
   "source": [
    "**Review**\n",
    "\n",
    "Hi, my name is Dmitry and I will be reviewing your project.\n",
    "  \n",
    "You can find my comments in colored markdown cells:\n",
    "  \n",
    "<div class=\"alert alert-success\">\n",
    "  If everything is done successfully.\n",
    "</div>\n",
    "  \n",
    "<div class=\"alert alert-warning\">\n",
    "  If I have some (optional) suggestions, or questions to think about, or general comments.\n",
    "</div>\n",
    "  \n",
    "<div class=\"alert alert-danger\">\n",
    "  If a section requires some corrections. Work can't be accepted with red comments.\n",
    "</div>\n",
    "  \n",
    "Please don't remove my comments, as it will make further review iterations much harder for me.\n",
    "  \n",
    "Feel free to reply to my comments or ask questions using the following template:\n",
    "  \n",
    "<div class=\"alert alert-info\">\n",
    "  For your comments and questions.\n",
    "</div>\n",
    "  \n",
    "First of all, thank you for turning in the project! You did an excellent job! The project is accepted. Good luck on the next sprint! "
   ]
  },
  {
   "cell_type": "markdown",
   "metadata": {},
   "source": [
    "# Table of Contents"
   ]
  },
  {
   "cell_type": "markdown",
   "metadata": {},
   "source": [
    "# Project description"
   ]
  },
  {
   "cell_type": "markdown",
   "metadata": {},
   "source": [
    "Mobile carrier Megaline has found out that many of their subscribers use legacy plans.\n",
    "\n",
    "They want to develop a model that would analyze subscribers' behavior and recommend one of Megaline's newer plans: Smart or Ultra.\n",
    "\n",
    "You have access to behavior data about subscribers who have already switched to the new plans.\n",
    "\n",
    "For this classification task, you need to develop a model that will pick the right plan.\n",
    "\n",
    "Develop a model with the highest possible accuracy. In this project, the threshold for accuracy is 0.75. Check the accuracy using the test dataset"
   ]
  },
  {
   "cell_type": "markdown",
   "metadata": {},
   "source": [
    "# Data description"
   ]
  },
  {
   "cell_type": "markdown",
   "metadata": {},
   "source": [
    "Every observation in the dataset contains monthly behavior information about one user. The information given is as follows:"
   ]
  },
  {
   "cell_type": "markdown",
   "metadata": {},
   "source": [
    "- сalls - number of calls,\n",
    "- minutes - total call duration in minutes,\n",
    "- messages - number of text messages,\n",
    "- mb_used - Internet traffic used in MB,\n",
    "- is_ultra - plan for the current month (Ultra - 1, Smart - 0)."
   ]
  },
  {
   "cell_type": "markdown",
   "metadata": {},
   "source": [
    "# import libraries\n"
   ]
  },
  {
   "cell_type": "code",
   "execution_count": 1,
   "metadata": {},
   "outputs": [
    {
     "name": "stdout",
     "output_type": "stream",
     "text": [
      "\u001b[33mWARNING: Ignoring invalid distribution -cikit-learn (/opt/conda/lib/python3.9/site-packages)\u001b[0m\n",
      "\u001b[33mWARNING: Ignoring invalid distribution -cikit-learn (/opt/conda/lib/python3.9/site-packages)\u001b[0m\n",
      "Requirement already satisfied: pandas in /opt/conda/lib/python3.9/site-packages (1.2.4)\n",
      "Collecting pandas\n",
      "\u001b[33m  WARNING: Retrying (Retry(total=4, connect=None, read=None, redirect=None, status=None)) after connection broken by 'ReadTimeoutError(\"HTTPSConnectionPool(host='files.pythonhosted.org', port=443): Read timed out. (read timeout=15)\")': /packages/8e/2f/192279e11738420be0fe0907d8751181f77c28ca59b6c29fac1f0d34e2e3/pandas-1.4.1-cp39-cp39-manylinux_2_17_x86_64.manylinux2014_x86_64.whl\u001b[0m\n",
      "\u001b[33m  WARNING: Retrying (Retry(total=3, connect=None, read=None, redirect=None, status=None)) after connection broken by 'ReadTimeoutError(\"HTTPSConnectionPool(host='files.pythonhosted.org', port=443): Read timed out. (read timeout=15)\")': /packages/8e/2f/192279e11738420be0fe0907d8751181f77c28ca59b6c29fac1f0d34e2e3/pandas-1.4.1-cp39-cp39-manylinux_2_17_x86_64.manylinux2014_x86_64.whl\u001b[0m\n",
      "\u001b[33m  WARNING: Retrying (Retry(total=2, connect=None, read=None, redirect=None, status=None)) after connection broken by 'ReadTimeoutError(\"HTTPSConnectionPool(host='files.pythonhosted.org', port=443): Read timed out. (read timeout=15)\")': /packages/8e/2f/192279e11738420be0fe0907d8751181f77c28ca59b6c29fac1f0d34e2e3/pandas-1.4.1-cp39-cp39-manylinux_2_17_x86_64.manylinux2014_x86_64.whl\u001b[0m\n",
      "  Downloading pandas-1.4.1-cp39-cp39-manylinux_2_17_x86_64.manylinux2014_x86_64.whl (11.7 MB)\n",
      "\u001b[K     |████████████████████████████████| 11.7 MB 1.7 MB/s eta 0:00:01\n",
      "\u001b[?25hRequirement already satisfied: pytz>=2020.1 in /opt/conda/lib/python3.9/site-packages (from pandas) (2021.1)\n",
      "Requirement already satisfied: numpy>=1.18.5 in /opt/conda/lib/python3.9/site-packages (from pandas) (1.21.1)\n",
      "Requirement already satisfied: python-dateutil>=2.8.1 in /opt/conda/lib/python3.9/site-packages (from pandas) (2.8.1)\n",
      "Requirement already satisfied: six>=1.5 in /opt/conda/lib/python3.9/site-packages (from python-dateutil>=2.8.1->pandas) (1.16.0)\n",
      "\u001b[33mWARNING: Ignoring invalid distribution -cikit-learn (/opt/conda/lib/python3.9/site-packages)\u001b[0m\n",
      "Installing collected packages: pandas\n",
      "  Attempting uninstall: pandas\n",
      "\u001b[33m    WARNING: Ignoring invalid distribution -cikit-learn (/opt/conda/lib/python3.9/site-packages)\u001b[0m\n",
      "    Found existing installation: pandas 1.2.4\n",
      "    Uninstalling pandas-1.2.4:\n",
      "\u001b[31mERROR: Could not install packages due to an OSError: [Errno 13] Permission denied: 'top_level.txt'\n",
      "Consider using the `--user` option or check the permissions.\n",
      "\u001b[0m\n",
      "\u001b[33mWARNING: Ignoring invalid distribution -cikit-learn (/opt/conda/lib/python3.9/site-packages)\u001b[0m\n",
      "\u001b[33mWARNING: Ignoring invalid distribution -cikit-learn (/opt/conda/lib/python3.9/site-packages)\u001b[0m\n",
      "\u001b[33mWARNING: Ignoring invalid distribution -cikit-learn (/opt/conda/lib/python3.9/site-packages)\u001b[0m\n",
      "\u001b[33mWARNING: Ignoring invalid distribution -andas (/opt/conda/lib/python3.9/site-packages)\u001b[0m\n",
      "\u001b[33mWARNING: Ignoring invalid distribution -cikit-learn (/opt/conda/lib/python3.9/site-packages)\u001b[0m\n",
      "\u001b[33mWARNING: Ignoring invalid distribution -andas (/opt/conda/lib/python3.9/site-packages)\u001b[0m\n",
      "Requirement already satisfied: scikit-learn in /opt/conda/lib/python3.9/site-packages (0.24.1)\n",
      "\u001b[33mWARNING: Retrying (Retry(total=4, connect=None, read=None, redirect=None, status=None)) after connection broken by 'ReadTimeoutError(\"HTTPSConnectionPool(host='pypi.org', port=443): Read timed out. (read timeout=15)\")': /simple/scikit-learn/\u001b[0m\n",
      "\u001b[33mWARNING: Retrying (Retry(total=3, connect=None, read=None, redirect=None, status=None)) after connection broken by 'ReadTimeoutError(\"HTTPSConnectionPool(host='pypi.org', port=443): Read timed out. (read timeout=15)\")': /simple/scikit-learn/\u001b[0m\n",
      "\u001b[33mWARNING: Retrying (Retry(total=2, connect=None, read=None, redirect=None, status=None)) after connection broken by 'ReadTimeoutError(\"HTTPSConnectionPool(host='pypi.org', port=443): Read timed out. (read timeout=15)\")': /simple/scikit-learn/\u001b[0m\n",
      "\u001b[33mWARNING: Retrying (Retry(total=1, connect=None, read=None, redirect=None, status=None)) after connection broken by 'ReadTimeoutError(\"HTTPSConnectionPool(host='pypi.org', port=443): Read timed out. (read timeout=15)\")': /simple/scikit-learn/\u001b[0m\n",
      "\u001b[33mWARNING: Retrying (Retry(total=0, connect=None, read=None, redirect=None, status=None)) after connection broken by 'ReadTimeoutError(\"HTTPSConnectionPool(host='pypi.org', port=443): Read timed out. (read timeout=15)\")': /simple/scikit-learn/\u001b[0m\n",
      "Requirement already satisfied: threadpoolctl>=2.0.0 in /opt/conda/lib/python3.9/site-packages (from scikit-learn) (3.1.0)\n",
      "Requirement already satisfied: scipy>=0.19.1 in /opt/conda/lib/python3.9/site-packages (from scikit-learn) (1.8.0)\n",
      "Requirement already satisfied: joblib>=0.11 in /opt/conda/lib/python3.9/site-packages (from scikit-learn) (1.1.0)\n",
      "Requirement already satisfied: numpy>=1.13.3 in /opt/conda/lib/python3.9/site-packages (from scikit-learn) (1.21.1)\n",
      "\u001b[33mWARNING: Ignoring invalid distribution -cikit-learn (/opt/conda/lib/python3.9/site-packages)\u001b[0m\n",
      "\u001b[33mWARNING: Ignoring invalid distribution -andas (/opt/conda/lib/python3.9/site-packages)\u001b[0m\n",
      "\u001b[33mWARNING: Ignoring invalid distribution -cikit-learn (/opt/conda/lib/python3.9/site-packages)\u001b[0m\n",
      "\u001b[33mWARNING: Ignoring invalid distribution -andas (/opt/conda/lib/python3.9/site-packages)\u001b[0m\n",
      "\u001b[33mWARNING: Ignoring invalid distribution -cikit-learn (/opt/conda/lib/python3.9/site-packages)\u001b[0m\n",
      "\u001b[33mWARNING: Ignoring invalid distribution -andas (/opt/conda/lib/python3.9/site-packages)\u001b[0m\n"
     ]
    }
   ],
   "source": [
    "# update libraries\n",
    "!pip install pandas -U\n",
    "!pip install scikit-learn -U"
   ]
  },
  {
   "cell_type": "code",
   "execution_count": 31,
   "metadata": {},
   "outputs": [],
   "source": [
    "# import libraries\n",
    "import numpy as np\n",
    "import pandas as pd\n",
    "from sklearn.tree import DecisionTreeClassifier\n",
    "from sklearn.ensemble import RandomForestClassifier\n",
    "from sklearn.linear_model import LogisticRegression\n",
    "from sklearn.metrics import accuracy_score\n",
    "from sklearn.model_selection import train_test_split\n",
    "from sklearn.metrics import accuracy_score\n",
    "from sklearn.dummy import DummyClassifier\n",
    "from sklearn.metrics import plot_confusion_matrix"
   ]
  },
  {
   "cell_type": "code",
   "execution_count": 32,
   "metadata": {},
   "outputs": [],
   "source": [
    "# definitions\n",
    "pd.options.display.float_format = '{:,.2f}'.format"
   ]
  },
  {
   "cell_type": "code",
   "execution_count": 33,
   "metadata": {},
   "outputs": [],
   "source": [
    "# delete error messages\n",
    "import sys\n",
    "import warnings\n",
    "if not sys.warnoptions:\n",
    "    warnings.simplefilter(\"ignore\")"
   ]
  },
  {
   "cell_type": "markdown",
   "metadata": {},
   "source": [
    "# Open the data file and study the general information."
   ]
  },
  {
   "cell_type": "code",
   "execution_count": 5,
   "metadata": {},
   "outputs": [],
   "source": [
    "df = pd.read_csv(\"/datasets/users_behavior.csv\", sep=\",\")"
   ]
  },
  {
   "cell_type": "code",
   "execution_count": 6,
   "metadata": {},
   "outputs": [
    {
     "data": {
      "text/html": [
       "<div>\n",
       "<style scoped>\n",
       "    .dataframe tbody tr th:only-of-type {\n",
       "        vertical-align: middle;\n",
       "    }\n",
       "\n",
       "    .dataframe tbody tr th {\n",
       "        vertical-align: top;\n",
       "    }\n",
       "\n",
       "    .dataframe thead th {\n",
       "        text-align: right;\n",
       "    }\n",
       "</style>\n",
       "<table border=\"1\" class=\"dataframe\">\n",
       "  <thead>\n",
       "    <tr style=\"text-align: right;\">\n",
       "      <th></th>\n",
       "      <th>calls</th>\n",
       "      <th>minutes</th>\n",
       "      <th>messages</th>\n",
       "      <th>mb_used</th>\n",
       "      <th>is_ultra</th>\n",
       "    </tr>\n",
       "  </thead>\n",
       "  <tbody>\n",
       "    <tr>\n",
       "      <th>0</th>\n",
       "      <td>40.00</td>\n",
       "      <td>311.90</td>\n",
       "      <td>83.00</td>\n",
       "      <td>19,915.42</td>\n",
       "      <td>0</td>\n",
       "    </tr>\n",
       "    <tr>\n",
       "      <th>1</th>\n",
       "      <td>85.00</td>\n",
       "      <td>516.75</td>\n",
       "      <td>56.00</td>\n",
       "      <td>22,696.96</td>\n",
       "      <td>0</td>\n",
       "    </tr>\n",
       "    <tr>\n",
       "      <th>2</th>\n",
       "      <td>77.00</td>\n",
       "      <td>467.66</td>\n",
       "      <td>86.00</td>\n",
       "      <td>21,060.45</td>\n",
       "      <td>0</td>\n",
       "    </tr>\n",
       "    <tr>\n",
       "      <th>3</th>\n",
       "      <td>106.00</td>\n",
       "      <td>745.53</td>\n",
       "      <td>81.00</td>\n",
       "      <td>8,437.39</td>\n",
       "      <td>1</td>\n",
       "    </tr>\n",
       "    <tr>\n",
       "      <th>4</th>\n",
       "      <td>66.00</td>\n",
       "      <td>418.74</td>\n",
       "      <td>1.00</td>\n",
       "      <td>14,502.75</td>\n",
       "      <td>0</td>\n",
       "    </tr>\n",
       "  </tbody>\n",
       "</table>\n",
       "</div>"
      ],
      "text/plain": [
       "   calls  minutes  messages   mb_used  is_ultra\n",
       "0  40.00   311.90     83.00 19,915.42         0\n",
       "1  85.00   516.75     56.00 22,696.96         0\n",
       "2  77.00   467.66     86.00 21,060.45         0\n",
       "3 106.00   745.53     81.00  8,437.39         1\n",
       "4  66.00   418.74      1.00 14,502.75         0"
      ]
     },
     "execution_count": 6,
     "metadata": {},
     "output_type": "execute_result"
    }
   ],
   "source": [
    "df.head()"
   ]
  },
  {
   "cell_type": "code",
   "execution_count": 7,
   "metadata": {},
   "outputs": [
    {
     "name": "stdout",
     "output_type": "stream",
     "text": [
      "<class 'pandas.core.frame.DataFrame'>\n",
      "RangeIndex: 3214 entries, 0 to 3213\n",
      "Data columns (total 5 columns):\n",
      " #   Column    Non-Null Count  Dtype  \n",
      "---  ------    --------------  -----  \n",
      " 0   calls     3214 non-null   float64\n",
      " 1   minutes   3214 non-null   float64\n",
      " 2   messages  3214 non-null   float64\n",
      " 3   mb_used   3214 non-null   float64\n",
      " 4   is_ultra  3214 non-null   int64  \n",
      "dtypes: float64(4), int64(1)\n",
      "memory usage: 125.7 KB\n"
     ]
    }
   ],
   "source": [
    "df.info()"
   ]
  },
  {
   "cell_type": "markdown",
   "metadata": {},
   "source": [
    "# Check the data frame for missing values and duplicates"
   ]
  },
  {
   "cell_type": "markdown",
   "metadata": {},
   "source": [
    "## checking for missing values"
   ]
  },
  {
   "cell_type": "code",
   "execution_count": 8,
   "metadata": {},
   "outputs": [
    {
     "data": {
      "text/html": [
       "<div>\n",
       "<style scoped>\n",
       "    .dataframe tbody tr th:only-of-type {\n",
       "        vertical-align: middle;\n",
       "    }\n",
       "\n",
       "    .dataframe tbody tr th {\n",
       "        vertical-align: top;\n",
       "    }\n",
       "\n",
       "    .dataframe thead th {\n",
       "        text-align: right;\n",
       "    }\n",
       "</style>\n",
       "<table border=\"1\" class=\"dataframe\">\n",
       "  <thead>\n",
       "    <tr style=\"text-align: right;\">\n",
       "      <th></th>\n",
       "      <th>missing_values</th>\n",
       "      <th>%_of_total</th>\n",
       "    </tr>\n",
       "  </thead>\n",
       "  <tbody>\n",
       "    <tr>\n",
       "      <th>calls</th>\n",
       "      <td>0</td>\n",
       "      <td>0.00</td>\n",
       "    </tr>\n",
       "    <tr>\n",
       "      <th>minutes</th>\n",
       "      <td>0</td>\n",
       "      <td>0.00</td>\n",
       "    </tr>\n",
       "    <tr>\n",
       "      <th>messages</th>\n",
       "      <td>0</td>\n",
       "      <td>0.00</td>\n",
       "    </tr>\n",
       "    <tr>\n",
       "      <th>mb_used</th>\n",
       "      <td>0</td>\n",
       "      <td>0.00</td>\n",
       "    </tr>\n",
       "    <tr>\n",
       "      <th>is_ultra</th>\n",
       "      <td>0</td>\n",
       "      <td>0.00</td>\n",
       "    </tr>\n",
       "  </tbody>\n",
       "</table>\n",
       "</div>"
      ],
      "text/plain": [
       "          missing_values  %_of_total\n",
       "calls                  0        0.00\n",
       "minutes                0        0.00\n",
       "messages               0        0.00\n",
       "mb_used                0        0.00\n",
       "is_ultra               0        0.00"
      ]
     },
     "execution_count": 8,
     "metadata": {},
     "output_type": "execute_result"
    }
   ],
   "source": [
    "# list of all missing values in the Dataset - in total and %\n",
    "report = df.isna().sum().to_frame()\n",
    "report = report.rename(columns={0: \"missing_values\"})\n",
    "report[\"%_of_total\"] = (report[\"missing_values\"] / df.shape[0] * 100).round(2)\n",
    "report.sort_values(by=\"missing_values\", ascending=False)"
   ]
  },
  {
   "cell_type": "markdown",
   "metadata": {},
   "source": [
    "No missing data"
   ]
  },
  {
   "cell_type": "markdown",
   "metadata": {},
   "source": [
    "## checking for duplicates"
   ]
  },
  {
   "cell_type": "code",
   "execution_count": 9,
   "metadata": {},
   "outputs": [
    {
     "name": "stdout",
     "output_type": "stream",
     "text": [
      "<class 'pandas.core.frame.DataFrame'>\n",
      "RangeIndex: 3214 entries, 0 to 3213\n",
      "Data columns (total 5 columns):\n",
      " #   Column    Non-Null Count  Dtype  \n",
      "---  ------    --------------  -----  \n",
      " 0   calls     3214 non-null   float64\n",
      " 1   minutes   3214 non-null   float64\n",
      " 2   messages  3214 non-null   float64\n",
      " 3   mb_used   3214 non-null   float64\n",
      " 4   is_ultra  3214 non-null   int64  \n",
      "dtypes: float64(4), int64(1)\n",
      "memory usage: 125.7 KB\n"
     ]
    }
   ],
   "source": [
    "# checking the data frame columns type\n",
    "df.info()"
   ]
  },
  {
   "cell_type": "code",
   "execution_count": 10,
   "metadata": {},
   "outputs": [],
   "source": [
    "df['calls'] = df['calls'].astype('int64')\n",
    "df['messages'] = df['messages'].astype('int64')"
   ]
  },
  {
   "cell_type": "markdown",
   "metadata": {},
   "source": [
    "<div class=\"alert alert-success\">\n",
    "<b>Reviewer's comment</b>\n",
    "\n",
    "Alright, the data was loaded and inspected!\n",
    "\n",
    "</div>"
   ]
  },
  {
   "cell_type": "markdown",
   "metadata": {},
   "source": [
    "# Split the source data into a training set, a validation set, and a test set"
   ]
  },
  {
   "cell_type": "markdown",
   "metadata": {},
   "source": [
    "I will use 60% for training, 20% for validation and 20% for the test"
   ]
  },
  {
   "cell_type": "code",
   "execution_count": 11,
   "metadata": {},
   "outputs": [],
   "source": [
    "# First, we split to taking 60% of the data and 40%\n",
    "df_train, df_temp = train_test_split(df, test_size=0.4, random_state=12345)"
   ]
  },
  {
   "cell_type": "code",
   "execution_count": 12,
   "metadata": {},
   "outputs": [],
   "source": [
    "# Then we split the temp to validate and test - each 20%\n",
    "df_validate, df_test = train_test_split(\n",
    "    df_temp, test_size=0.5, random_state=12345)"
   ]
  },
  {
   "cell_type": "markdown",
   "metadata": {},
   "source": [
    "<div class=\"alert alert-success\">\n",
    "<b>Reviewer's comment</b>\n",
    "\n",
    "The data split is reasonable!\n",
    "\n",
    "</div>"
   ]
  },
  {
   "cell_type": "markdown",
   "metadata": {},
   "source": [
    "# divide the data to feature and target"
   ]
  },
  {
   "cell_type": "code",
   "execution_count": 13,
   "metadata": {},
   "outputs": [],
   "source": [
    "features_train = df_train.drop(['is_ultra'], axis=1)\n",
    "features_validate = df_validate.drop(['is_ultra'], axis=1)\n",
    "features_test = df_test.drop(['is_ultra'], axis=1)"
   ]
  },
  {
   "cell_type": "code",
   "execution_count": 14,
   "metadata": {},
   "outputs": [],
   "source": [
    "target_train = df_train['is_ultra']\n",
    "target_validate = df_validate['is_ultra']\n",
    "target_test = df_test['is_ultra']"
   ]
  },
  {
   "cell_type": "markdown",
   "metadata": {},
   "source": [
    "<div class=\"alert alert-success\">\n",
    "<b>Reviewer's comment</b>\n",
    "\n",
    "Ok!\n",
    "\n",
    "</div>"
   ]
  },
  {
   "cell_type": "markdown",
   "metadata": {},
   "source": [
    "# Investigate the quality of different models by changing hyperparameters"
   ]
  },
  {
   "cell_type": "markdown",
   "metadata": {},
   "source": [
    "**Decision Tree**"
   ]
  },
  {
   "cell_type": "code",
   "execution_count": 15,
   "metadata": {},
   "outputs": [],
   "source": [
    "model_dt = DecisionTreeClassifier(random_state=12345,  max_depth=3)"
   ]
  },
  {
   "cell_type": "code",
   "execution_count": 16,
   "metadata": {},
   "outputs": [
    {
     "data": {
      "text/plain": [
       "DecisionTreeClassifier(max_depth=3, random_state=12345)"
      ]
     },
     "execution_count": 16,
     "metadata": {},
     "output_type": "execute_result"
    }
   ],
   "source": [
    "model_dt.fit(features_train, target_train)"
   ]
  },
  {
   "cell_type": "code",
   "execution_count": 17,
   "metadata": {},
   "outputs": [],
   "source": [
    "predictions_train = model_dt.predict(features_train)\n",
    "predictions_validate = model_dt.predict(features_validate)"
   ]
  },
  {
   "cell_type": "code",
   "execution_count": 18,
   "metadata": {},
   "outputs": [
    {
     "data": {
      "text/plain": [
       "0.7853810264385692"
      ]
     },
     "execution_count": 18,
     "metadata": {},
     "output_type": "execute_result"
    }
   ],
   "source": [
    "accuracy_dt = accuracy_score(target_validate, predictions_validate)\n",
    "accuracy_dt"
   ]
  },
  {
   "cell_type": "markdown",
   "metadata": {},
   "source": [
    "**conclusion:** when running the model on hyperparameter max__depth = 3, the accuracy score of the model is 0.785"
   ]
  },
  {
   "cell_type": "markdown",
   "metadata": {},
   "source": [
    "optimizing hyperparameters\n",
    "We will try to change the hyperparameter max_depth from 1 to 10 to find out what gives the best accuracy score of the model."
   ]
  },
  {
   "cell_type": "code",
   "execution_count": 19,
   "metadata": {},
   "outputs": [
    {
     "name": "stdout",
     "output_type": "stream",
     "text": [
      "For max_depth = 1,\t accuracy is 0.75428\n",
      "For max_depth = 2,\t accuracy is 0.78227\n",
      "For max_depth = 3,\t accuracy is 0.78538\n",
      "For max_depth = 4,\t accuracy is 0.77916\n",
      "For max_depth = 5,\t accuracy is 0.77916\n",
      "For max_depth = 6,\t accuracy is 0.78383\n",
      "For max_depth = 7,\t accuracy is 0.78227\n",
      "For max_depth = 8,\t accuracy is 0.77916\n",
      "For max_depth = 9,\t accuracy is 0.78227\n",
      "For max_depth = 10,\t accuracy is 0.77449\n"
     ]
    }
   ],
   "source": [
    "for i in range(1, 11):\n",
    "    model_dt = DecisionTreeClassifier(random_state=12345,  max_depth=i)\n",
    "    model_dt.fit(features_train, target_train)\n",
    "    predictions_validate = model_dt.predict(features_validate)\n",
    "    accuracy_dt = accuracy_score(target_validate, predictions_validate)\n",
    "    print(f'For max_depth = {i},\\t accuracy is {accuracy_dt:.5f}')"
   ]
  },
  {
   "cell_type": "markdown",
   "metadata": {},
   "source": [
    "**conclusion:** on checking the model on the validate data, the best accuracy score is max_depth = 3"
   ]
  },
  {
   "cell_type": "markdown",
   "metadata": {},
   "source": [
    "**Random Forest**"
   ]
  },
  {
   "cell_type": "code",
   "execution_count": 20,
   "metadata": {},
   "outputs": [],
   "source": [
    "model_rf = RandomForestClassifier(random_state=12345, n_estimators=3)"
   ]
  },
  {
   "cell_type": "code",
   "execution_count": 21,
   "metadata": {},
   "outputs": [
    {
     "data": {
      "text/plain": [
       "RandomForestClassifier(n_estimators=3, random_state=12345)"
      ]
     },
     "execution_count": 21,
     "metadata": {},
     "output_type": "execute_result"
    }
   ],
   "source": [
    "model_rf.fit(features_train, target_train)"
   ]
  },
  {
   "cell_type": "code",
   "execution_count": 22,
   "metadata": {},
   "outputs": [],
   "source": [
    "predictions_train = model_rf.predict(features_train)\n",
    "predictions_validate = model_rf.predict(features_validate)"
   ]
  },
  {
   "cell_type": "code",
   "execution_count": 23,
   "metadata": {},
   "outputs": [
    {
     "data": {
      "text/plain": [
       "0.7387247278382582"
      ]
     },
     "execution_count": 23,
     "metadata": {},
     "output_type": "execute_result"
    }
   ],
   "source": [
    "accuracy_rf = accuracy_score(target_validate, predictions_validate)\n",
    "accuracy_rf"
   ]
  },
  {
   "cell_type": "markdown",
   "metadata": {},
   "source": [
    "**conclusion:** when running the model on hyperparameter n__estimators = 3, the accuracy score of the model is 0.7387"
   ]
  },
  {
   "cell_type": "markdown",
   "metadata": {},
   "source": [
    "**optimizing hyperparameters**"
   ]
  },
  {
   "cell_type": "markdown",
   "metadata": {},
   "source": [
    "We will try to change the hyperparameter n_estimators from 1 to 10 to find out what gives the best accuracy score of the model."
   ]
  },
  {
   "cell_type": "code",
   "execution_count": 24,
   "metadata": {},
   "outputs": [
    {
     "name": "stdout",
     "output_type": "stream",
     "text": [
      "For n_estimators = 1,\t accuracy is 0.71073\n",
      "For n_estimators = 2,\t accuracy is 0.76361\n",
      "For n_estimators = 3,\t accuracy is 0.73872\n",
      "For n_estimators = 4,\t accuracy is 0.77138\n",
      "For n_estimators = 5,\t accuracy is 0.74961\n",
      "For n_estimators = 6,\t accuracy is 0.78072\n",
      "For n_estimators = 7,\t accuracy is 0.76827\n",
      "For n_estimators = 8,\t accuracy is 0.78227\n",
      "For n_estimators = 9,\t accuracy is 0.77294\n",
      "For n_estimators = 10,\t accuracy is 0.78538\n"
     ]
    }
   ],
   "source": [
    "for i in range(1, 11):\n",
    "    model_rf = RandomForestClassifier(random_state=12345, n_estimators=i)\n",
    "    model_rf.fit(features_train, target_train)\n",
    "    predictions_validate = model_rf.predict(features_validate)\n",
    "    accuracy_rf = accuracy_score(target_validate, predictions_validate)\n",
    "    print(f'For n_estimators = {i},\\t accuracy is {accuracy_rf:.5f}')"
   ]
  },
  {
   "cell_type": "markdown",
   "metadata": {},
   "source": [
    "**conclusion:** on checking the model on the validate data, the best accuracy score is n__estimators = 10"
   ]
  },
  {
   "cell_type": "code",
   "execution_count": 25,
   "metadata": {},
   "outputs": [
    {
     "name": "stdout",
     "output_type": "stream",
     "text": [
      "For n_estimators = 10 on the test data, accuracy is 0.78072\n"
     ]
    }
   ],
   "source": [
    "model_rf = RandomForestClassifier(random_state=12345, n_estimators=10)\n",
    "model_rf.fit(features_train, target_train)\n",
    "predictions_test = model_rf.predict(features_test)\n",
    "accuracy_rf = accuracy_score(target_test, predictions_test)\n",
    "print(f'For n_estimators = 10 on the test data, accuracy is {accuracy_rf:.5f}')"
   ]
  },
  {
   "cell_type": "markdown",
   "metadata": {},
   "source": [
    "**Logistic Regression**"
   ]
  },
  {
   "cell_type": "code",
   "execution_count": 35,
   "metadata": {},
   "outputs": [],
   "source": [
    "model_lr = LogisticRegression(\n",
    "    random_state=12345, solver='liblinear', max_iter=100)"
   ]
  },
  {
   "cell_type": "code",
   "execution_count": 36,
   "metadata": {},
   "outputs": [
    {
     "data": {
      "text/plain": [
       "LogisticRegression(random_state=12345, solver='liblinear')"
      ]
     },
     "execution_count": 36,
     "metadata": {},
     "output_type": "execute_result"
    }
   ],
   "source": [
    "model_lr.fit(features_train, target_train)"
   ]
  },
  {
   "cell_type": "code",
   "execution_count": 37,
   "metadata": {},
   "outputs": [],
   "source": [
    "predictions_train = model_lr.predict(features_train)\n",
    "predictions_validate = model_lr.predict(features_validate)"
   ]
  },
  {
   "cell_type": "code",
   "execution_count": 38,
   "metadata": {},
   "outputs": [
    {
     "data": {
      "text/plain": [
       "0.7091757387247278"
      ]
     },
     "execution_count": 38,
     "metadata": {},
     "output_type": "execute_result"
    }
   ],
   "source": [
    "accuracy_lr = accuracy_score(target_validate, predictions_validate)\n",
    "accuracy_lr"
   ]
  },
  {
   "cell_type": "markdown",
   "metadata": {},
   "source": [
    "**conclusion:** when running the model on hyperparameter solver=liblinear , the accuracy score of the model is 0.7091"
   ]
  },
  {
   "cell_type": "markdown",
   "metadata": {},
   "source": [
    "**optimizing hyperparameters**"
   ]
  },
  {
   "cell_type": "markdown",
   "metadata": {},
   "source": [
    "We will try to change the hyperparameter solver for every option to find out what gives the best accuracy score of the model."
   ]
  },
  {
   "cell_type": "code",
   "execution_count": 30,
   "metadata": {},
   "outputs": [
    {
     "name": "stdout",
     "output_type": "stream",
     "text": [
      "For solver = newton-cg,\t accuracy is 0.75583\n",
      "For solver = lbfgs,\t accuracy is 0.71073\n",
      "For solver = liblinear,\t accuracy is 0.70918\n",
      "For solver = sag,\t accuracy is 0.70607\n",
      "For solver = saga,\t accuracy is 0.70607\n"
     ]
    }
   ],
   "source": [
    "solver = ['newton-cg', 'lbfgs', 'liblinear', 'sag', 'saga']\n",
    "for i in solver:\n",
    "    model_lr = LogisticRegression(random_state=12345, solver=i)\n",
    "    model_lr.fit(features_train, target_train)\n",
    "    predictions_validate = model_lr.predict(features_validate)\n",
    "    accuracy_lr = accuracy_score(target_validate, predictions_validate)\n",
    "    print(f'For solver = {i},\\t accuracy is {accuracy_lr:.5f}')"
   ]
  },
  {
   "cell_type": "markdown",
   "metadata": {},
   "source": [
    "**conclusion:** on checking the model on the validate data, the best accuracy score is solver=newton-cg"
   ]
  },
  {
   "cell_type": "code",
   "execution_count": 40,
   "metadata": {},
   "outputs": [
    {
     "name": "stdout",
     "output_type": "stream",
     "text": [
      "For solver = \"newton-cg\",\t accuracy is 0.73872\n"
     ]
    }
   ],
   "source": [
    "model_lr = LogisticRegression(random_state=12345, solver='newton-cg')\n",
    "model_lr.fit(features_train, target_train)\n",
    "predictions_test = model_lr.predict(features_test)\n",
    "accuracy_lr = accuracy_score(target_test, predictions_test)\n",
    "print(f'For solver = \"newton-cg\",\\t accuracy is {accuracy_lr:.5f}')"
   ]
  },
  {
   "cell_type": "markdown",
   "metadata": {},
   "source": [
    "<div class=\"alert alert-success\">\n",
    "<b>Reviewer's comment</b>\n",
    "\n",
    "Great, you tried a couple of different models, did some hyperparameter tuning using the validation set and evaluated the final models on the test set\n",
    "\n",
    "</div>"
   ]
  },
  {
   "cell_type": "markdown",
   "metadata": {},
   "source": [
    "# Sanity check"
   ]
  },
  {
   "cell_type": "markdown",
   "metadata": {},
   "source": [
    "compare the models to the dummy classifier by using different metrics and the confusion matrix"
   ]
  },
  {
   "cell_type": "code",
   "execution_count": 41,
   "metadata": {},
   "outputs": [],
   "source": [
    "# making the dummy classifier\n",
    "clf_dummy = DummyClassifier(random_state=12345)\n",
    "clf_dummy.fit(features_train, target_train)\n",
    "predictions_test = clf_dummy.predict(features_test)"
   ]
  },
  {
   "cell_type": "code",
   "execution_count": 42,
   "metadata": {},
   "outputs": [
    {
     "data": {
      "text/plain": [
       "<sklearn.metrics._plot.confusion_matrix.ConfusionMatrixDisplay at 0x7fce89e36310>"
      ]
     },
     "execution_count": 42,
     "metadata": {},
     "output_type": "execute_result"
    },
    {
     "data": {
      "image/png": "[encoded data removed]",
      "text/plain": [
       "<Figure size 432x288 with 2 Axes>"
      ]
     },
     "metadata": {
      "needs_background": "light"
     },
     "output_type": "display_data"
    }
   ],
   "source": [
    "# for the test data\n",
    "plot_confusion_matrix(estimator=clf_dummy, X=features_test, y_true=target_test,\n",
    "                      normalize='all', cmap='Blues', display_labels=['plan Smart=0', 'plan Ultra=1'])"
   ]
  },
  {
   "cell_type": "code",
   "execution_count": 43,
   "metadata": {},
   "outputs": [
    {
     "data": {
      "text/plain": [
       "0   0.69\n",
       "1   0.31\n",
       "Name: is_ultra, dtype: float64"
      ]
     },
     "execution_count": 43,
     "metadata": {},
     "output_type": "execute_result"
    }
   ],
   "source": [
    "target_train.value_counts(normalize=True)\n",
    "# plan for the current month (Ultra - 1, Smart - 0)"
   ]
  },
  {
   "cell_type": "markdown",
   "metadata": {},
   "source": [
    "**conclusion:** the data is not balanced. The dummy classifier gives about 70% accuracy only because of the imbalance target data. For this project we will not deal with it but only mention that the accuracy score of every model will start with 70% and give better score from that"
   ]
  },
  {
   "cell_type": "markdown",
   "metadata": {},
   "source": [
    "<div class=\"alert alert-success\">\n",
    "<b>Reviewer's comment</b>\n",
    "\n",
    "Excellent observation! \n",
    "\n",
    "</div>"
   ]
  },
  {
   "cell_type": "markdown",
   "metadata": {},
   "source": [
    "# ploting confusion matrix to the three models"
   ]
  },
  {
   "cell_type": "markdown",
   "metadata": {},
   "source": [
    "**Decision Tree confusion matrix**"
   ]
  },
  {
   "cell_type": "code",
   "execution_count": 45,
   "metadata": {
    "scrolled": true
   },
   "outputs": [
    {
     "data": {
      "text/plain": [
       "<sklearn.metrics._plot.confusion_matrix.ConfusionMatrixDisplay at 0x7fcf0c73c370>"
      ]
     },
     "execution_count": 45,
     "metadata": {},
     "output_type": "execute_result"
    },
    {
     "data": {
      "image/png": "[encoded data removed]",
      "text/plain": [
       "<Figure size 432x288 with 2 Axes>"
      ]
     },
     "metadata": {
      "needs_background": "light"
     },
     "output_type": "display_data"
    }
   ],
   "source": [
    "model_dt = DecisionTreeClassifier(random_state=12345, max_depth=3)\n",
    "model_dt.fit(features_train, target_train)\n",
    "plot_confusion_matrix(estimator=model_dt, X=features_test, y_true=target_test,\n",
    "                      normalize='all', cmap='Blues', display_labels=['plan Smart=0', 'plan Ultra=1'])"
   ]
  },
  {
   "cell_type": "markdown",
   "metadata": {},
   "source": [
    "**Random Forest confusion matrix**"
   ]
  },
  {
   "cell_type": "code",
   "execution_count": 46,
   "metadata": {},
   "outputs": [
    {
     "data": {
      "text/plain": [
       "<sklearn.metrics._plot.confusion_matrix.ConfusionMatrixDisplay at 0x7fcee5798a90>"
      ]
     },
     "execution_count": 46,
     "metadata": {},
     "output_type": "execute_result"
    },
    {
     "data": {
      "image/png": "[encoded data removed]",
      "text/plain": [
       "<Figure size 432x288 with 2 Axes>"
      ]
     },
     "metadata": {
      "needs_background": "light"
     },
     "output_type": "display_data"
    }
   ],
   "source": [
    "model_rf = RandomForestClassifier(random_state=12345, n_estimators=10)\n",
    "model_rf.fit(features_train, target_train)\n",
    "plot_confusion_matrix(estimator=model_rf, X=features_test, y_true=target_test,\n",
    "                      normalize='all', cmap='Blues', display_labels=['plan Smart=0', 'plan Ultra=1'])"
   ]
  },
  {
   "cell_type": "markdown",
   "metadata": {},
   "source": [
    "**Logistic Regression confusion matrix**"
   ]
  },
  {
   "cell_type": "code",
   "execution_count": 47,
   "metadata": {},
   "outputs": [
    {
     "data": {
      "text/plain": [
       "<sklearn.metrics._plot.confusion_matrix.ConfusionMatrixDisplay at 0x7fce89f14a30>"
      ]
     },
     "execution_count": 47,
     "metadata": {},
     "output_type": "execute_result"
    },
    {
     "data": {
      "image/png": "[encoded data removed]",
      "text/plain": [
       "<Figure size 432x288 with 2 Axes>"
      ]
     },
     "metadata": {
      "needs_background": "light"
     },
     "output_type": "display_data"
    }
   ],
   "source": [
    "model_lr = LogisticRegression(random_state=12345, solver='liblinear')\n",
    "model_lr.fit(features_train, target_train)\n",
    "plot_confusion_matrix(estimator=model_lr, X=features_test, y_true=target_test,\n",
    "                      normalize='all', cmap='Blues', display_labels=['plan Smart=0', 'plan Ultra=1'])"
   ]
  },
  {
   "cell_type": "markdown",
   "metadata": {},
   "source": [
    "<div class=\"alert alert-success\">\n",
    "<b>Reviewer's comment</b>\n",
    "\n",
    "Confusion matrix is a good tool for model diagnostics!\n",
    "\n",
    "</div>"
   ]
  },
  {
   "cell_type": "markdown",
   "metadata": {},
   "source": [
    "**conclusion**"
   ]
  },
  {
   "cell_type": "markdown",
   "metadata": {},
   "source": [
    "This project is about training classification model. We have 2 options on the target: '0' and '1'. For selecting the best model, we checked three options: decision tree, random forest and Logistic Regression. To prepare the date, we checked it for duplicates and missing values, we changes the type of the data to appropriate types.\n",
    "\n",
    "We split the data between train date, validate data and test data with the ratio 60%, 20% and 20% respectively. For every split we had feature data for the independent variables and target for the outcome. after running the model, we tried to optimize it by changing one hyperparameter and to fine out what setting returns the best accurate score."
   ]
  },
  {
   "cell_type": "markdown",
   "metadata": {},
   "source": [
    "**The major findings**"
   ]
  },
  {
   "cell_type": "markdown",
   "metadata": {},
   "source": [
    "- The decision tree model\n",
    "    - hyperparameter: max_depth. best value = 3\n",
    "    - accuracy score on test data: 0.77916\n",
    "- The random forest model\n",
    "    - hyperparameter: n_estimators. best value = 10\n",
    "    - accuracy score on test data: 0.78072\n",
    "- The logistic regression model\n",
    "    - hyperparameter: solver. best value = newton-cg\n",
    "    - accuracy score on test data: 0.73872\n",
    "\n",
    "The **random forest model** wins    "
   ]
  },
  {
   "cell_type": "markdown",
   "metadata": {},
   "source": [
    "**Sanity check**"
   ]
  },
  {
   "cell_type": "markdown",
   "metadata": {},
   "source": [
    "To establishing a baseline model that we can compare our model’s performance we checked the data in the dummy classifier and plot confusion matrix. On the dummy classifier, we could find 68% for plan smart('0') and null for plan ultra('1'). We, then, plot confusion matrix.\n",
    "All three models could not predict the ultra plan ('1') correctly. The results are very close to the dummy classifier. This mean we cannot relay on any model.\n",
    "\n",
    "To find out why the results came out incorrect we notice that the data is not balanced. About 70% for '0'. We need to address this problem to get better outcome for the models.\n"
   ]
  },
  {
   "cell_type": "markdown",
   "metadata": {},
   "source": [
    "<div class=\"alert alert-warning\">\n",
    "<b>Reviewer's comment</b>\n",
    "\n",
    "Conclusions look good, although I would say that based on the confusion matrix, for example, random forest looks much better than dummy classfier\n",
    "\n",
    "</div>"
   ]
  }
 ],
 "metadata": {
  "ExecuteTimeLog": [
   {
    "duration": 166,
    "start_time": "2022-04-01T10:37:48.429Z"
   },
   {
    "duration": 12504,
    "start_time": "2022-04-01T10:41:31.250Z"
   },
   {
    "duration": 1683,
    "start_time": "2022-04-01T10:43:37.006Z"
   },
   {
    "duration": 4,
    "start_time": "2022-04-01T10:44:54.129Z"
   },
   {
    "duration": 3,
    "start_time": "2022-04-01T10:44:54.472Z"
   },
   {
    "duration": 16,
    "start_time": "2022-04-01T11:38:58.328Z"
   },
   {
    "duration": 21,
    "start_time": "2022-04-01T11:39:14.642Z"
   },
   {
    "duration": 21,
    "start_time": "2022-04-01T11:39:22.928Z"
   },
   {
    "duration": 10,
    "start_time": "2022-04-01T11:39:24.010Z"
   },
   {
    "duration": 16,
    "start_time": "2022-04-01T11:49:30.137Z"
   },
   {
    "duration": 3,
    "start_time": "2022-04-01T11:50:22.471Z"
   },
   {
    "duration": 20,
    "start_time": "2022-04-01T11:51:35.107Z"
   },
   {
    "duration": 6,
    "start_time": "2022-04-01T11:51:53.557Z"
   },
   {
    "duration": 8,
    "start_time": "2022-04-01T11:52:19.598Z"
   },
   {
    "duration": 11,
    "start_time": "2022-04-01T11:52:46.462Z"
   },
   {
    "duration": 16,
    "start_time": "2022-04-01T11:53:02.596Z"
   },
   {
    "duration": 14,
    "start_time": "2022-04-01T11:54:54.796Z"
   },
   {
    "duration": 6,
    "start_time": "2022-04-01T11:54:58.440Z"
   },
   {
    "duration": 8,
    "start_time": "2022-04-01T11:59:46.200Z"
   },
   {
    "duration": 6,
    "start_time": "2022-04-01T11:59:53.825Z"
   },
   {
    "duration": 7,
    "start_time": "2022-04-01T13:49:29.296Z"
   },
   {
    "duration": 4,
    "start_time": "2022-04-01T14:21:48.075Z"
   },
   {
    "duration": 145,
    "start_time": "2022-04-01T14:21:55.026Z"
   },
   {
    "duration": 5,
    "start_time": "2022-04-01T14:22:08.627Z"
   },
   {
    "duration": 4,
    "start_time": "2022-04-01T14:22:09.249Z"
   },
   {
    "duration": 18,
    "start_time": "2022-04-01T14:22:09.504Z"
   },
   {
    "duration": 9,
    "start_time": "2022-04-01T14:22:17.036Z"
   },
   {
    "duration": 6,
    "start_time": "2022-04-01T14:22:26.120Z"
   },
   {
    "duration": 104,
    "start_time": "2022-04-01T14:24:10.090Z"
   },
   {
    "duration": 97,
    "start_time": "2022-04-01T14:24:57.309Z"
   },
   {
    "duration": 110,
    "start_time": "2022-04-01T14:26:26.977Z"
   },
   {
    "duration": 4,
    "start_time": "2022-04-01T14:29:43.462Z"
   },
   {
    "duration": 25,
    "start_time": "2022-04-01T14:29:50.411Z"
   },
   {
    "duration": 12,
    "start_time": "2022-04-01T14:30:37.973Z"
   },
   {
    "duration": 7,
    "start_time": "2022-04-01T14:30:49.998Z"
   },
   {
    "duration": 355,
    "start_time": "2022-04-01T14:32:24.703Z"
   },
   {
    "duration": 71,
    "start_time": "2022-04-01T14:32:59.073Z"
   },
   {
    "duration": 4,
    "start_time": "2022-04-01T14:33:23.971Z"
   },
   {
    "duration": 22,
    "start_time": "2022-04-01T14:33:32.673Z"
   },
   {
    "duration": 8,
    "start_time": "2022-04-01T14:34:30.327Z"
   },
   {
    "duration": 7,
    "start_time": "2022-04-01T14:34:30.623Z"
   },
   {
    "duration": 170,
    "start_time": "2022-04-01T18:05:03.008Z"
   },
   {
    "duration": 47,
    "start_time": "2022-04-01T19:16:03.812Z"
   },
   {
    "duration": 8,
    "start_time": "2022-04-01T19:50:26.696Z"
   },
   {
    "duration": 7,
    "start_time": "2022-04-01T19:50:45.566Z"
   },
   {
    "duration": 162489,
    "start_time": "2022-04-01T19:55:43.408Z"
   },
   {
    "duration": 35,
    "start_time": "2022-04-01T19:58:27.179Z"
   },
   {
    "duration": 16,
    "start_time": "2022-04-01T19:58:27.216Z"
   },
   {
    "duration": 12,
    "start_time": "2022-04-01T19:58:27.233Z"
   },
   {
    "duration": 13,
    "start_time": "2022-04-01T19:58:27.247Z"
   },
   {
    "duration": 10,
    "start_time": "2022-04-01T19:58:27.262Z"
   },
   {
    "duration": 5,
    "start_time": "2022-04-01T19:58:27.275Z"
   },
   {
    "duration": 6,
    "start_time": "2022-04-01T19:58:27.282Z"
   },
   {
    "duration": 6,
    "start_time": "2022-04-01T19:58:27.290Z"
   },
   {
    "duration": 6,
    "start_time": "2022-04-01T19:58:27.332Z"
   },
   {
    "duration": 6,
    "start_time": "2022-04-01T19:58:27.339Z"
   },
   {
    "duration": 5,
    "start_time": "2022-04-01T19:58:27.347Z"
   },
   {
    "duration": 18,
    "start_time": "2022-04-01T19:58:27.353Z"
   },
   {
    "duration": 7,
    "start_time": "2022-04-01T19:58:27.373Z"
   },
   {
    "duration": 6,
    "start_time": "2022-04-01T19:58:27.382Z"
   },
   {
    "duration": 103,
    "start_time": "2022-04-01T19:58:27.390Z"
   },
   {
    "duration": 2,
    "start_time": "2022-04-01T19:58:27.496Z"
   },
   {
    "duration": 37,
    "start_time": "2022-04-01T19:58:27.500Z"
   },
   {
    "duration": 10,
    "start_time": "2022-04-01T19:58:27.538Z"
   },
   {
    "duration": 4,
    "start_time": "2022-04-01T19:58:27.550Z"
   },
   {
    "duration": 308,
    "start_time": "2022-04-01T19:58:27.556Z"
   },
   {
    "duration": 52,
    "start_time": "2022-04-01T19:58:27.866Z"
   },
   {
    "duration": 3,
    "start_time": "2022-04-01T19:58:27.932Z"
   },
   {
    "duration": 16,
    "start_time": "2022-04-01T19:58:27.937Z"
   },
   {
    "duration": 7,
    "start_time": "2022-04-01T19:58:27.956Z"
   },
   {
    "duration": 8,
    "start_time": "2022-04-01T19:58:27.964Z"
   },
   {
    "duration": 282,
    "start_time": "2022-04-01T19:58:27.974Z"
   },
   {
    "duration": 4,
    "start_time": "2022-04-01T19:58:28.258Z"
   },
   {
    "duration": 6,
    "start_time": "2022-04-01T19:58:28.263Z"
   },
   {
    "duration": 5,
    "start_time": "2022-04-01T19:58:28.270Z"
   },
   {
    "duration": 14,
    "start_time": "2022-04-01T19:59:29.627Z"
   },
   {
    "duration": 3,
    "start_time": "2022-04-01T20:09:35.187Z"
   },
   {
    "duration": 14,
    "start_time": "2022-04-01T20:09:36.162Z"
   },
   {
    "duration": 7,
    "start_time": "2022-04-01T20:09:37.655Z"
   },
   {
    "duration": 5,
    "start_time": "2022-04-01T20:09:38.345Z"
   },
   {
    "duration": 178,
    "start_time": "2022-04-01T20:10:47.209Z"
   },
   {
    "duration": 178,
    "start_time": "2022-04-01T20:11:45.342Z"
   },
   {
    "duration": 4,
    "start_time": "2022-04-01T20:15:07.768Z"
   },
   {
    "duration": 663,
    "start_time": "2022-04-01T20:15:08.676Z"
   },
   {
    "duration": 8,
    "start_time": "2022-04-01T20:16:05.572Z"
   },
   {
    "duration": 182,
    "start_time": "2022-04-01T20:17:11.650Z"
   },
   {
    "duration": 171,
    "start_time": "2022-04-01T20:17:49.871Z"
   },
   {
    "duration": 199,
    "start_time": "2022-04-01T20:17:58.739Z"
   },
   {
    "duration": 168,
    "start_time": "2022-04-01T20:20:32.379Z"
   }
  ],
  "kernelspec": {
   "display_name": "Python 3 (ipykernel)",
   "language": "python",
   "name": "python3"
  },
  "language_info": {
   "codemirror_mode": {
    "name": "ipython",
    "version": 3
   },
   "file_extension": ".py",
   "mimetype": "text/x-python",
   "name": "python",
   "nbconvert_exporter": "python",
   "pygments_lexer": "ipython3",
   "version": "3.9.5"
  },
  "toc": {
   "base_numbering": 1,
   "nav_menu": {},
   "number_sections": true,
   "sideBar": true,
   "skip_h1_title": true,
   "title_cell": "Table of Contents",
   "title_sidebar": "Contents",
   "toc_cell": false,
   "toc_position": {},
   "toc_section_display": true,
   "toc_window_display": false
  }
 },
 "nbformat": 4,
 "nbformat_minor": 2
}
