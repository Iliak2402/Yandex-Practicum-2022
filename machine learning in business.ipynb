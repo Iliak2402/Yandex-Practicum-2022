{
 "cells": [
  {
   "cell_type": "markdown",
   "metadata": {},
   "source": [
    "<div class=\"alert alert-success\">\n",
    "<b>Reviewer's comment V3</b>\n",
    "\n",
    "The project is accepted! Good luck on the next sprint!\n",
    "\n",
    "</div>"
   ]
  },
  {
   "cell_type": "markdown",
   "metadata": {},
   "source": [
    "**Review**\n",
    "\n",
    "Hi, my name is Dmitry and I will be reviewing your project.\n",
    "  \n",
    "You can find my comments in colored markdown cells:\n",
    "  \n",
    "<div class=\"alert alert-success\">\n",
    "  If everything is done successfully.\n",
    "</div>\n",
    "  \n",
    "<div class=\"alert alert-warning\">\n",
    "  If I have some (optional) suggestions, or questions to think about, or general comments.\n",
    "</div>\n",
    "  \n",
    "<div class=\"alert alert-danger\">\n",
    "  If a section requires some corrections. Work can't be accepted with red comments.\n",
    "</div>\n",
    "  \n",
    "Please don't remove my comments, as it will make further review iterations much harder for me.\n",
    "  \n",
    "Feel free to reply to my comments or ask questions using the following template:\n",
    "  \n",
    "<div class=\"alert alert-info\">\n",
    "  For your comments and questions.\n",
    "</div>\n",
    "  \n",
    "First of all, thank you for turning in the project! You did an excellent job! There's just one tiny issue, but if should be pretty straightforward to fix. Let me know if you have any questions!"
   ]
  },
  {
   "cell_type": "markdown",
   "metadata": {},
   "source": [
    "# Best region for oil well development"
   ]
  },
  {
   "cell_type": "markdown",
   "metadata": {},
   "source": [
    "We work for the OilyGiant mining company. Our task is to find the best place for a new well.\n",
    "\n",
    "\n",
    "Steps to choose the location:\n",
    "- Collect the oil well parameters in the selected region: oil quality and volume of reserves;\n",
    "- Build a model for predicting the volume of reserves in the new wells;\n",
    "- Pick the oil wells with the highest estimated values;\n",
    "- Pick the region with the highest total profit for the selected oil wells.\n",
    "\n",
    "\n",
    "We have data on oil samples from three regions. Parameters of each oil well in the region are already known. We will build a model that will help to pick the region with the highest profit margin. We will analyze potential profit and risks using the Bootstrapping technique.\n",
    "\n",
    "**Project goal**: To find the best region for a well development, based on profit and risk analysis of three regions, and provide a model to choose top 200 wells from 500 wells samples. "
   ]
  },
  {
   "cell_type": "code",
   "execution_count": 34,
   "metadata": {},
   "outputs": [],
   "source": [
    "# Loading libraries\n",
    "from scipy import stats as st\n",
    "import numpy as np\n",
    "import pandas as pd\n",
    "import matplotlib.pyplot as plt\n",
    "import math\n",
    "import warnings\n",
    "warnings.filterwarnings(\"ignore\")"
   ]
  },
  {
   "cell_type": "code",
   "execution_count": 35,
   "metadata": {},
   "outputs": [],
   "source": [
    "# load the data into DataFrames: \n",
    "df0 = pd.read_csv('/datasets/geo_data_0.csv')\n",
    "df1 = pd.read_csv('/datasets/geo_data_1.csv')\n",
    "df2 = pd.read_csv('/datasets/geo_data_2.csv')"
   ]
  },
  {
   "cell_type": "code",
   "execution_count": 36,
   "metadata": {},
   "outputs": [
    {
     "data": {
      "text/html": [
       "<div>\n",
       "<style scoped>\n",
       "    .dataframe tbody tr th:only-of-type {\n",
       "        vertical-align: middle;\n",
       "    }\n",
       "\n",
       "    .dataframe tbody tr th {\n",
       "        vertical-align: top;\n",
       "    }\n",
       "\n",
       "    .dataframe thead th {\n",
       "        text-align: right;\n",
       "    }\n",
       "</style>\n",
       "<table border=\"1\" class=\"dataframe\">\n",
       "  <thead>\n",
       "    <tr style=\"text-align: right;\">\n",
       "      <th></th>\n",
       "      <th>id</th>\n",
       "      <th>f0</th>\n",
       "      <th>f1</th>\n",
       "      <th>f2</th>\n",
       "      <th>product</th>\n",
       "    </tr>\n",
       "  </thead>\n",
       "  <tbody>\n",
       "    <tr>\n",
       "      <th>0</th>\n",
       "      <td>txEyH</td>\n",
       "      <td>0.705745</td>\n",
       "      <td>-0.497823</td>\n",
       "      <td>1.221170</td>\n",
       "      <td>105.280062</td>\n",
       "    </tr>\n",
       "    <tr>\n",
       "      <th>1</th>\n",
       "      <td>2acmU</td>\n",
       "      <td>1.334711</td>\n",
       "      <td>-0.340164</td>\n",
       "      <td>4.365080</td>\n",
       "      <td>73.037750</td>\n",
       "    </tr>\n",
       "    <tr>\n",
       "      <th>2</th>\n",
       "      <td>409Wp</td>\n",
       "      <td>1.022732</td>\n",
       "      <td>0.151990</td>\n",
       "      <td>1.419926</td>\n",
       "      <td>85.265647</td>\n",
       "    </tr>\n",
       "    <tr>\n",
       "      <th>3</th>\n",
       "      <td>iJLyR</td>\n",
       "      <td>-0.032172</td>\n",
       "      <td>0.139033</td>\n",
       "      <td>2.978566</td>\n",
       "      <td>168.620776</td>\n",
       "    </tr>\n",
       "    <tr>\n",
       "      <th>4</th>\n",
       "      <td>Xdl7t</td>\n",
       "      <td>1.988431</td>\n",
       "      <td>0.155413</td>\n",
       "      <td>4.751769</td>\n",
       "      <td>154.036647</td>\n",
       "    </tr>\n",
       "    <tr>\n",
       "      <th>...</th>\n",
       "      <td>...</td>\n",
       "      <td>...</td>\n",
       "      <td>...</td>\n",
       "      <td>...</td>\n",
       "      <td>...</td>\n",
       "    </tr>\n",
       "    <tr>\n",
       "      <th>99995</th>\n",
       "      <td>DLsed</td>\n",
       "      <td>0.971957</td>\n",
       "      <td>0.370953</td>\n",
       "      <td>6.075346</td>\n",
       "      <td>110.744026</td>\n",
       "    </tr>\n",
       "    <tr>\n",
       "      <th>99996</th>\n",
       "      <td>QKivN</td>\n",
       "      <td>1.392429</td>\n",
       "      <td>-0.382606</td>\n",
       "      <td>1.273912</td>\n",
       "      <td>122.346843</td>\n",
       "    </tr>\n",
       "    <tr>\n",
       "      <th>99997</th>\n",
       "      <td>3rnvd</td>\n",
       "      <td>1.029585</td>\n",
       "      <td>0.018787</td>\n",
       "      <td>-1.348308</td>\n",
       "      <td>64.375443</td>\n",
       "    </tr>\n",
       "    <tr>\n",
       "      <th>99998</th>\n",
       "      <td>7kl59</td>\n",
       "      <td>0.998163</td>\n",
       "      <td>-0.528582</td>\n",
       "      <td>1.583869</td>\n",
       "      <td>74.040764</td>\n",
       "    </tr>\n",
       "    <tr>\n",
       "      <th>99999</th>\n",
       "      <td>1CWhH</td>\n",
       "      <td>1.764754</td>\n",
       "      <td>-0.266417</td>\n",
       "      <td>5.722849</td>\n",
       "      <td>149.633246</td>\n",
       "    </tr>\n",
       "  </tbody>\n",
       "</table>\n",
       "<p>100000 rows × 5 columns</p>\n",
       "</div>"
      ],
      "text/plain": [
       "          id        f0        f1        f2     product\n",
       "0      txEyH  0.705745 -0.497823  1.221170  105.280062\n",
       "1      2acmU  1.334711 -0.340164  4.365080   73.037750\n",
       "2      409Wp  1.022732  0.151990  1.419926   85.265647\n",
       "3      iJLyR -0.032172  0.139033  2.978566  168.620776\n",
       "4      Xdl7t  1.988431  0.155413  4.751769  154.036647\n",
       "...      ...       ...       ...       ...         ...\n",
       "99995  DLsed  0.971957  0.370953  6.075346  110.744026\n",
       "99996  QKivN  1.392429 -0.382606  1.273912  122.346843\n",
       "99997  3rnvd  1.029585  0.018787 -1.348308   64.375443\n",
       "99998  7kl59  0.998163 -0.528582  1.583869   74.040764\n",
       "99999  1CWhH  1.764754 -0.266417  5.722849  149.633246\n",
       "\n",
       "[100000 rows x 5 columns]"
      ]
     },
     "execution_count": 36,
     "metadata": {},
     "output_type": "execute_result"
    }
   ],
   "source": [
    "# Look at region 0\n",
    "df0"
   ]
  },
  {
   "cell_type": "code",
   "execution_count": 37,
   "metadata": {},
   "outputs": [
    {
     "data": {
      "text/html": [
       "<div>\n",
       "<style scoped>\n",
       "    .dataframe tbody tr th:only-of-type {\n",
       "        vertical-align: middle;\n",
       "    }\n",
       "\n",
       "    .dataframe tbody tr th {\n",
       "        vertical-align: top;\n",
       "    }\n",
       "\n",
       "    .dataframe thead th {\n",
       "        text-align: right;\n",
       "    }\n",
       "</style>\n",
       "<table border=\"1\" class=\"dataframe\">\n",
       "  <thead>\n",
       "    <tr style=\"text-align: right;\">\n",
       "      <th></th>\n",
       "      <th>id</th>\n",
       "      <th>f0</th>\n",
       "      <th>f1</th>\n",
       "      <th>f2</th>\n",
       "      <th>product</th>\n",
       "    </tr>\n",
       "  </thead>\n",
       "  <tbody>\n",
       "    <tr>\n",
       "      <th>0</th>\n",
       "      <td>kBEdx</td>\n",
       "      <td>-15.001348</td>\n",
       "      <td>-8.276000</td>\n",
       "      <td>-0.005876</td>\n",
       "      <td>3.179103</td>\n",
       "    </tr>\n",
       "    <tr>\n",
       "      <th>1</th>\n",
       "      <td>62mP7</td>\n",
       "      <td>14.272088</td>\n",
       "      <td>-3.475083</td>\n",
       "      <td>0.999183</td>\n",
       "      <td>26.953261</td>\n",
       "    </tr>\n",
       "    <tr>\n",
       "      <th>2</th>\n",
       "      <td>vyE1P</td>\n",
       "      <td>6.263187</td>\n",
       "      <td>-5.948386</td>\n",
       "      <td>5.001160</td>\n",
       "      <td>134.766305</td>\n",
       "    </tr>\n",
       "    <tr>\n",
       "      <th>3</th>\n",
       "      <td>KcrkZ</td>\n",
       "      <td>-13.081196</td>\n",
       "      <td>-11.506057</td>\n",
       "      <td>4.999415</td>\n",
       "      <td>137.945408</td>\n",
       "    </tr>\n",
       "    <tr>\n",
       "      <th>4</th>\n",
       "      <td>AHL4O</td>\n",
       "      <td>12.702195</td>\n",
       "      <td>-8.147433</td>\n",
       "      <td>5.004363</td>\n",
       "      <td>134.766305</td>\n",
       "    </tr>\n",
       "    <tr>\n",
       "      <th>...</th>\n",
       "      <td>...</td>\n",
       "      <td>...</td>\n",
       "      <td>...</td>\n",
       "      <td>...</td>\n",
       "      <td>...</td>\n",
       "    </tr>\n",
       "    <tr>\n",
       "      <th>99995</th>\n",
       "      <td>QywKC</td>\n",
       "      <td>9.535637</td>\n",
       "      <td>-6.878139</td>\n",
       "      <td>1.998296</td>\n",
       "      <td>53.906522</td>\n",
       "    </tr>\n",
       "    <tr>\n",
       "      <th>99996</th>\n",
       "      <td>ptvty</td>\n",
       "      <td>-10.160631</td>\n",
       "      <td>-12.558096</td>\n",
       "      <td>5.005581</td>\n",
       "      <td>137.945408</td>\n",
       "    </tr>\n",
       "    <tr>\n",
       "      <th>99997</th>\n",
       "      <td>09gWa</td>\n",
       "      <td>-7.378891</td>\n",
       "      <td>-3.084104</td>\n",
       "      <td>4.998651</td>\n",
       "      <td>137.945408</td>\n",
       "    </tr>\n",
       "    <tr>\n",
       "      <th>99998</th>\n",
       "      <td>rqwUm</td>\n",
       "      <td>0.665714</td>\n",
       "      <td>-6.152593</td>\n",
       "      <td>1.000146</td>\n",
       "      <td>30.132364</td>\n",
       "    </tr>\n",
       "    <tr>\n",
       "      <th>99999</th>\n",
       "      <td>relB0</td>\n",
       "      <td>-3.426139</td>\n",
       "      <td>-7.794274</td>\n",
       "      <td>-0.003299</td>\n",
       "      <td>3.179103</td>\n",
       "    </tr>\n",
       "  </tbody>\n",
       "</table>\n",
       "<p>100000 rows × 5 columns</p>\n",
       "</div>"
      ],
      "text/plain": [
       "          id         f0         f1        f2     product\n",
       "0      kBEdx -15.001348  -8.276000 -0.005876    3.179103\n",
       "1      62mP7  14.272088  -3.475083  0.999183   26.953261\n",
       "2      vyE1P   6.263187  -5.948386  5.001160  134.766305\n",
       "3      KcrkZ -13.081196 -11.506057  4.999415  137.945408\n",
       "4      AHL4O  12.702195  -8.147433  5.004363  134.766305\n",
       "...      ...        ...        ...       ...         ...\n",
       "99995  QywKC   9.535637  -6.878139  1.998296   53.906522\n",
       "99996  ptvty -10.160631 -12.558096  5.005581  137.945408\n",
       "99997  09gWa  -7.378891  -3.084104  4.998651  137.945408\n",
       "99998  rqwUm   0.665714  -6.152593  1.000146   30.132364\n",
       "99999  relB0  -3.426139  -7.794274 -0.003299    3.179103\n",
       "\n",
       "[100000 rows x 5 columns]"
      ]
     },
     "execution_count": 37,
     "metadata": {},
     "output_type": "execute_result"
    }
   ],
   "source": [
    "# Look at region 1\n",
    "df1"
   ]
  },
  {
   "cell_type": "code",
   "execution_count": 38,
   "metadata": {},
   "outputs": [
    {
     "data": {
      "text/html": [
       "<div>\n",
       "<style scoped>\n",
       "    .dataframe tbody tr th:only-of-type {\n",
       "        vertical-align: middle;\n",
       "    }\n",
       "\n",
       "    .dataframe tbody tr th {\n",
       "        vertical-align: top;\n",
       "    }\n",
       "\n",
       "    .dataframe thead th {\n",
       "        text-align: right;\n",
       "    }\n",
       "</style>\n",
       "<table border=\"1\" class=\"dataframe\">\n",
       "  <thead>\n",
       "    <tr style=\"text-align: right;\">\n",
       "      <th></th>\n",
       "      <th>id</th>\n",
       "      <th>f0</th>\n",
       "      <th>f1</th>\n",
       "      <th>f2</th>\n",
       "      <th>product</th>\n",
       "    </tr>\n",
       "  </thead>\n",
       "  <tbody>\n",
       "    <tr>\n",
       "      <th>0</th>\n",
       "      <td>fwXo0</td>\n",
       "      <td>-1.146987</td>\n",
       "      <td>0.963328</td>\n",
       "      <td>-0.828965</td>\n",
       "      <td>27.758673</td>\n",
       "    </tr>\n",
       "    <tr>\n",
       "      <th>1</th>\n",
       "      <td>WJtFt</td>\n",
       "      <td>0.262778</td>\n",
       "      <td>0.269839</td>\n",
       "      <td>-2.530187</td>\n",
       "      <td>56.069697</td>\n",
       "    </tr>\n",
       "    <tr>\n",
       "      <th>2</th>\n",
       "      <td>ovLUW</td>\n",
       "      <td>0.194587</td>\n",
       "      <td>0.289035</td>\n",
       "      <td>-5.586433</td>\n",
       "      <td>62.871910</td>\n",
       "    </tr>\n",
       "    <tr>\n",
       "      <th>3</th>\n",
       "      <td>q6cA6</td>\n",
       "      <td>2.236060</td>\n",
       "      <td>-0.553760</td>\n",
       "      <td>0.930038</td>\n",
       "      <td>114.572842</td>\n",
       "    </tr>\n",
       "    <tr>\n",
       "      <th>4</th>\n",
       "      <td>WPMUX</td>\n",
       "      <td>-0.515993</td>\n",
       "      <td>1.716266</td>\n",
       "      <td>5.899011</td>\n",
       "      <td>149.600746</td>\n",
       "    </tr>\n",
       "    <tr>\n",
       "      <th>...</th>\n",
       "      <td>...</td>\n",
       "      <td>...</td>\n",
       "      <td>...</td>\n",
       "      <td>...</td>\n",
       "      <td>...</td>\n",
       "    </tr>\n",
       "    <tr>\n",
       "      <th>99995</th>\n",
       "      <td>4GxBu</td>\n",
       "      <td>-1.777037</td>\n",
       "      <td>1.125220</td>\n",
       "      <td>6.263374</td>\n",
       "      <td>172.327046</td>\n",
       "    </tr>\n",
       "    <tr>\n",
       "      <th>99996</th>\n",
       "      <td>YKFjq</td>\n",
       "      <td>-1.261523</td>\n",
       "      <td>-0.894828</td>\n",
       "      <td>2.524545</td>\n",
       "      <td>138.748846</td>\n",
       "    </tr>\n",
       "    <tr>\n",
       "      <th>99997</th>\n",
       "      <td>tKPY3</td>\n",
       "      <td>-1.199934</td>\n",
       "      <td>-2.957637</td>\n",
       "      <td>5.219411</td>\n",
       "      <td>157.080080</td>\n",
       "    </tr>\n",
       "    <tr>\n",
       "      <th>99998</th>\n",
       "      <td>nmxp2</td>\n",
       "      <td>-2.419896</td>\n",
       "      <td>2.417221</td>\n",
       "      <td>-5.548444</td>\n",
       "      <td>51.795253</td>\n",
       "    </tr>\n",
       "    <tr>\n",
       "      <th>99999</th>\n",
       "      <td>V9kWn</td>\n",
       "      <td>-2.551421</td>\n",
       "      <td>-2.025625</td>\n",
       "      <td>6.090891</td>\n",
       "      <td>102.775767</td>\n",
       "    </tr>\n",
       "  </tbody>\n",
       "</table>\n",
       "<p>100000 rows × 5 columns</p>\n",
       "</div>"
      ],
      "text/plain": [
       "          id        f0        f1        f2     product\n",
       "0      fwXo0 -1.146987  0.963328 -0.828965   27.758673\n",
       "1      WJtFt  0.262778  0.269839 -2.530187   56.069697\n",
       "2      ovLUW  0.194587  0.289035 -5.586433   62.871910\n",
       "3      q6cA6  2.236060 -0.553760  0.930038  114.572842\n",
       "4      WPMUX -0.515993  1.716266  5.899011  149.600746\n",
       "...      ...       ...       ...       ...         ...\n",
       "99995  4GxBu -1.777037  1.125220  6.263374  172.327046\n",
       "99996  YKFjq -1.261523 -0.894828  2.524545  138.748846\n",
       "99997  tKPY3 -1.199934 -2.957637  5.219411  157.080080\n",
       "99998  nmxp2 -2.419896  2.417221 -5.548444   51.795253\n",
       "99999  V9kWn -2.551421 -2.025625  6.090891  102.775767\n",
       "\n",
       "[100000 rows x 5 columns]"
      ]
     },
     "execution_count": 38,
     "metadata": {},
     "output_type": "execute_result"
    }
   ],
   "source": [
    "# Look at region 2\n",
    "df2"
   ]
  },
  {
   "cell_type": "code",
   "execution_count": 39,
   "metadata": {},
   "outputs": [
    {
     "name": "stdout",
     "output_type": "stream",
     "text": [
      "<class 'pandas.core.frame.DataFrame'>\n",
      "RangeIndex: 100000 entries, 0 to 99999\n",
      "Data columns (total 5 columns):\n",
      " #   Column   Non-Null Count   Dtype  \n",
      "---  ------   --------------   -----  \n",
      " 0   id       100000 non-null  object \n",
      " 1   f0       100000 non-null  float64\n",
      " 2   f1       100000 non-null  float64\n",
      " 3   f2       100000 non-null  float64\n",
      " 4   product  100000 non-null  float64\n",
      "dtypes: float64(4), object(1)\n",
      "memory usage: 3.8+ MB\n"
     ]
    }
   ],
   "source": [
    "# Genaral info of region 0 \n",
    "df0.info()"
   ]
  },
  {
   "cell_type": "code",
   "execution_count": 40,
   "metadata": {},
   "outputs": [
    {
     "name": "stdout",
     "output_type": "stream",
     "text": [
      "<class 'pandas.core.frame.DataFrame'>\n",
      "RangeIndex: 100000 entries, 0 to 99999\n",
      "Data columns (total 5 columns):\n",
      " #   Column   Non-Null Count   Dtype  \n",
      "---  ------   --------------   -----  \n",
      " 0   id       100000 non-null  object \n",
      " 1   f0       100000 non-null  float64\n",
      " 2   f1       100000 non-null  float64\n",
      " 3   f2       100000 non-null  float64\n",
      " 4   product  100000 non-null  float64\n",
      "dtypes: float64(4), object(1)\n",
      "memory usage: 3.8+ MB\n"
     ]
    }
   ],
   "source": [
    "# Genaral info of region 1\n",
    "df1.info()"
   ]
  },
  {
   "cell_type": "code",
   "execution_count": 41,
   "metadata": {},
   "outputs": [
    {
     "name": "stdout",
     "output_type": "stream",
     "text": [
      "<class 'pandas.core.frame.DataFrame'>\n",
      "RangeIndex: 100000 entries, 0 to 99999\n",
      "Data columns (total 5 columns):\n",
      " #   Column   Non-Null Count   Dtype  \n",
      "---  ------   --------------   -----  \n",
      " 0   id       100000 non-null  object \n",
      " 1   f0       100000 non-null  float64\n",
      " 2   f1       100000 non-null  float64\n",
      " 3   f2       100000 non-null  float64\n",
      " 4   product  100000 non-null  float64\n",
      "dtypes: float64(4), object(1)\n",
      "memory usage: 3.8+ MB\n"
     ]
    }
   ],
   "source": [
    "# Genaral info of region 2\n",
    "df2.info()"
   ]
  },
  {
   "cell_type": "markdown",
   "metadata": {},
   "source": [
    "Each region has full 100K entries, each with 5 columns: well id, 3 point features (marked f0, f1, f2), and the target - the product (volume of oil reserves, in thousand barrels). We will make the following **preparations** (for each region): \n",
    "\n",
    "1. Define features(X) and target(y): features will be the three features ('id' has no relevance for predicting oil volume), target will be the product.\n",
    "2. Split the data into a training set and validation set at a ratio of 75:25.\n",
    "3. Standardize the 3 features (scale, all 3 are numeric)\n",
    "\n",
    "These preparations will be included in a unified function, that will also include training a linear regression model, and predicting a well's volume of oil reserves (based on it's 3 features).  "
   ]
  },
  {
   "cell_type": "markdown",
   "metadata": {},
   "source": [
    "<div class=\"alert alert-success\">\n",
    "<b>Reviewer's comment</b>\n",
    "\n",
    "The data was loaded and inspected. The plan looks good!\n",
    "\n",
    "</div>"
   ]
  },
  {
   "cell_type": "markdown",
   "metadata": {},
   "source": [
    "#   Train and test the model for each region:\n",
    "**Split the data into training and validation sets, train the model and make predictions for the validation set - preparation** "
   ]
  },
  {
   "cell_type": "code",
   "execution_count": 42,
   "metadata": {},
   "outputs": [],
   "source": [
    "# A unified function to split, scale, train on linear regression, and predict (later to be applied on each region=df) \n",
    "from sklearn.model_selection import train_test_split\n",
    "from sklearn.preprocessing import StandardScaler\n",
    "from sklearn.linear_model import LinearRegression\n",
    "\n",
    "def split_scale_train_predict (df):\n",
    "    # We want to split the data in 75:25 for train:valid dataset\n",
    "    train_size=0.75\n",
    "    \n",
    "    # For convenience we will symbol 'features' as 'X', and 'target' as 'y'\n",
    "    X = df.drop(['id', 'product'], axis=1)\n",
    "    y = df['product']\n",
    "\n",
    "    # We will split the data in training and validation datasets\n",
    "    X_train, X_valid, target_train, target_valid = train_test_split(X,y, train_size=0.75, random_state=12345)\n",
    "    \n",
    "    # Standardize the numeric features:\n",
    "    # Create an instance of the StandardScaler() class and tune it using the training data.\n",
    "    scaler = StandardScaler()\n",
    "    scaler.fit(X_train)\n",
    "    # Transform train and validation data: \n",
    "    X_train = scaler.transform(X_train)\n",
    "    X_valid = scaler.transform(X_valid)\n",
    "    \n",
    "    # Define the model\n",
    "    model = LinearRegression() \n",
    "    # Train the model on the training set:\n",
    "    model.fit(X_train, target_train)\n",
    "    # Predict on validation set: \n",
    "    predicted_valid = model.predict(X_valid)\n",
    "    \n",
    "    # the return values of the function:\n",
    "    return predicted_valid, target_valid  "
   ]
  },
  {
   "cell_type": "markdown",
   "metadata": {},
   "source": [
    "<div class=\"alert alert-success\">\n",
    "<b>Reviewer's comment</b>\n",
    "\n",
    "Good!\n",
    "\n",
    "</div>"
   ]
  },
  {
   "cell_type": "markdown",
   "metadata": {},
   "source": [
    "**Apply and save the predictions and correct answers for the validation set, and print the average volume of predicted reserves and model RMSE**"
   ]
  },
  {
   "cell_type": "code",
   "execution_count": 43,
   "metadata": {},
   "outputs": [
    {
     "name": "stdout",
     "output_type": "stream",
     "text": [
      "Average volume of predicted reserves Region 0 = 92.59256778438035\n",
      "RMSE of Region 0 = 37.5794217150813\n"
     ]
    }
   ],
   "source": [
    "# Apply the function to region 0, save predictions and correct answers (validation set)\n",
    "# and calculate average volume of predicted reserves and model RMSE:\n",
    "from sklearn.metrics import mean_squared_error\n",
    "\n",
    "predictions_region_0, correct_answers_region_0 = split_scale_train_predict (df0)\n",
    "# Calculate average volume of predicted reserves:\n",
    "av_pred_0 = predictions_region_0.mean()\n",
    "# Calculate RMSE:\n",
    "rmse_0 = mean_squared_error(correct_answers_region_0, predictions_region_0) ** 0.5  \n",
    "\n",
    "print('Average volume of predicted reserves Region 0 =', av_pred_0)\n",
    "print('RMSE of Region 0 =', rmse_0)"
   ]
  },
  {
   "cell_type": "code",
   "execution_count": 44,
   "metadata": {},
   "outputs": [
    {
     "name": "stdout",
     "output_type": "stream",
     "text": [
      "Average volume of predicted reserves Region 1 = 68.728546895446\n",
      "RMSE of Region 1 = 0.893099286775617\n"
     ]
    }
   ],
   "source": [
    "# Apply the function to region 1, save predictions and correct answers (validation set)\n",
    "# and calculate average volume of predicted reserves and model RMSE:\n",
    "from sklearn.metrics import mean_squared_error\n",
    "\n",
    "predictions_region_1, correct_answers_region_1 = split_scale_train_predict (df1)\n",
    "\n",
    "# Calculate average volume of predicted reserves:\n",
    "av_pred_1 = predictions_region_1.mean()\n",
    "# Calculate RMSE:\n",
    "rmse_1 = mean_squared_error(correct_answers_region_1, predictions_region_1) ** 0.5  \n",
    "\n",
    "print('Average volume of predicted reserves Region 1 =', av_pred_1)\n",
    "print('RMSE of Region 1 =', rmse_1)"
   ]
  },
  {
   "cell_type": "code",
   "execution_count": 45,
   "metadata": {},
   "outputs": [
    {
     "name": "stdout",
     "output_type": "stream",
     "text": [
      "Average volume of predicted reserves Region 2 = 94.96504596800489\n",
      "RMSE of Region 2 = 40.02970873393434\n"
     ]
    }
   ],
   "source": [
    "# Apply the function to region 2, save predictions and correct answers (validation set)\n",
    "# and calculate average volume of predicted reserves and model RMSE:\n",
    "from sklearn.metrics import mean_squared_error\n",
    "\n",
    "predictions_region_2, correct_answers_region_2 = split_scale_train_predict (df2)\n",
    "\n",
    "# Calculate average volume of predicted reserves:\n",
    "av_pred_2 = predictions_region_2.mean()\n",
    "# Calculate RMSE:\n",
    "rmse_2 = mean_squared_error(correct_answers_region_2, predictions_region_2) ** 0.5  \n",
    "\n",
    "print('Average volume of predicted reserves Region 2 =', av_pred_2)\n",
    "print('RMSE of Region 2 =', rmse_2)"
   ]
  },
  {
   "cell_type": "markdown",
   "metadata": {},
   "source": [
    "**Analyze the results**\n",
    "When checked on the validation sets (each with 25000 wells) - out of the three regions, two have higher average volume of predicted reserves - region 0 (92.59 product units), and region 2 (94.97 product units), but these regions' RMSEs are pretty high too (37.58 for region 0, 40.03 for region 2). The third region, region 1, has much lower average volume of predicted reserves, only 68.73 product units, but also a very small RMSE (only 0.89). We will compare these results to our results in the following stages, in order to understand their meaning for region choice. "
   ]
  },
  {
   "cell_type": "markdown",
   "metadata": {},
   "source": [
    "<div class=\"alert alert-success\">\n",
    "<b>Reviewer's comment</b>\n",
    "\n",
    "The models were traiend and evalauted correctly!\n",
    "\n",
    "</div>"
   ]
  },
  {
   "cell_type": "markdown",
   "metadata": {},
   "source": [
    "**Prepare for profit calculation:**\n",
    "\n",
    "We will store all key values for calculations in separate variables. Then we will calculate the volume of reserves sufficient for developing a new well without losses (and the same for all 200 wells). Then we wil compare the obtained value with the average volume of reserves in each region, as we found above."
   ]
  },
  {
   "cell_type": "code",
   "execution_count": 46,
   "metadata": {},
   "outputs": [
    {
     "name": "stdout",
     "output_type": "stream",
     "text": [
      "The volume of reserves sufficient for developing a new well without losses: 111.11111111111111 product units\n",
      "The volume of reserves sufficient for developing 200 new wells without losses: 22222.222222222223 product units\n"
     ]
    }
   ],
   "source": [
    "# Store all key values for calculations in separate variables\n",
    "wells_budget = 100000000 \n",
    "wells_count = 200\n",
    "revenue_of_unit_product = 4500\n",
    "new_well_cost = wells_budget / wells_count \n",
    "\n",
    "# Calculate the volume of reserves sufficient for developing a new well without losses\n",
    "break_even_well_volume = new_well_cost / revenue_of_unit_product \n",
    "print('The volume of reserves sufficient for developing a new well without losses:', break_even_well_volume, 'product units')\n",
    "print('The volume of reserves sufficient for developing 200 new wells without losses:',\n",
    "     break_even_well_volume * wells_count, 'product units')"
   ]
  },
  {
   "cell_type": "markdown",
   "metadata": {},
   "source": [
    "As we can see - the volume of reserves sufficient for developing a new well without losses is more than 111 product units, which is more than 15% higher than the average volume of predicted reserves in regions 0 and 2 (~92-95), and more than 60% (!) higher than the average volume of predicted reserves in region 1 (about 69) we will now try to see what happens when we don't look at total average but only at the selected wells with highest values of predictions.  "
   ]
  },
  {
   "cell_type": "markdown",
   "metadata": {},
   "source": [
    "<div class=\"alert alert-success\">\n",
    "<b>Reviewer's comment</b>\n",
    "\n",
    "Yep, calculations and conclusions are correct!\n",
    "\n",
    "</div>"
   ]
  },
  {
   "cell_type": "markdown",
   "metadata": {},
   "source": [
    "**Write a function to calculate profit from a set of selected oil wells and model predictions:**\n",
    "We will pick the wells with the highest values of predictions, then summarize the target volume of reserves in accordance with these predictions. Then we will provide the findings: suggest a region for oil wells' development and justify the choice. And finally calculate the profit for the obtained volume of reserves.|"
   ]
  },
  {
   "cell_type": "code",
   "execution_count": 47,
   "metadata": {},
   "outputs": [],
   "source": [
    "# A function to calculate volume from a set of selected oil wells and model predictions\n",
    "def volume (predictions, answers, count):\n",
    "    predictions = pd.Series(predictions, index=answers.index)\n",
    "    pred_sorted = predictions.sort_values(ascending=False)\n",
    "    selected = answers[pred_sorted.index][:count]\n",
    "    return selected.sum()\n",
    "\n",
    "sum_target_volume_0 = volume (predictions_region_0, correct_answers_region_0, wells_count)"
   ]
  },
  {
   "cell_type": "code",
   "execution_count": 48,
   "metadata": {},
   "outputs": [
    {
     "name": "stdout",
     "output_type": "stream",
     "text": [
      "The sum target volume of 200 highest-predicted wells in region 0 = 29601.83565142189 product units\n",
      "The sum target volume of 200 highest-predicted wells in region 1 = 27589.081548181137 product units\n",
      "The sum target volume of 200 highest-predicted wells in region 2 = 28245.22214133296 product units\n"
     ]
    }
   ],
   "source": [
    "# Apply the function to each region:\n",
    "sum_target_volume_0 = volume (predictions_region_0, correct_answers_region_0, wells_count)\n",
    "sum_target_volume_1 = volume (predictions_region_1, correct_answers_region_1, wells_count)\n",
    "sum_target_volume_2 = volume (predictions_region_2, correct_answers_region_2, wells_count)\n",
    "print(\"The sum target volume of 200 highest-predicted wells in region 0 =\", sum_target_volume_0, 'product units')\n",
    "print(\"The sum target volume of 200 highest-predicted wells in region 1 =\", sum_target_volume_1, 'product units')\n",
    "print(\"The sum target volume of 200 highest-predicted wells in region 2 =\", sum_target_volume_2, 'product units')"
   ]
  },
  {
   "cell_type": "markdown",
   "metadata": {},
   "source": [
    "As we can see - region 0 has the highest sum target volume of the top 200 highest-predicted volume wells (almost 29602 product units), although all three regions provide volumes way above the 'break-even' threshold of 22222.22 product units (that was calculated above). Now we will calculate the profit for the obtained volume of reserves, for the case of region 0. "
   ]
  },
  {
   "cell_type": "code",
   "execution_count": 49,
   "metadata": {},
   "outputs": [
    {
     "data": {
      "text/plain": [
       "33208260.43139851"
      ]
     },
     "execution_count": 49,
     "metadata": {},
     "output_type": "execute_result"
    }
   ],
   "source": [
    "# Calculate the profit for the obtained volume of reserves in region 0:\n",
    "profit_region_0 = (sum_target_volume_0 * revenue_of_unit_product) - wells_budget \n",
    "profit_region_0"
   ]
  },
  {
   "cell_type": "markdown",
   "metadata": {},
   "source": [
    "The profit for the obtained volume of reserves (region 0, 200 top-predicted wells) is 33,208,260 USD. We will move now to risks calculation, also to see if it might change our region's preference.  "
   ]
  },
  {
   "cell_type": "markdown",
   "metadata": {},
   "source": [
    "<div class=\"alert alert-warning\">\n",
    "<b>Reviewer's comment</b>\n",
    "\n",
    "Note that this estimate hangs on the assumption that we're allowed to make the preliminary measurements in 25000 locations, which is not true: we have the budget only for 500 locations, out of which we select the 200 best :)\n",
    "\n",
    "</div>"
   ]
  },
  {
   "cell_type": "markdown",
   "metadata": {},
   "source": [
    "# Calculate risks and profit for each region:\n",
    "Since in reality only 500 wells will be chosen randomly in the chosen region (and the 200 top-predicted wells will be chosen only from these random 500 wells), we will use the bootstrapping technique with 1000 samples to find the distribution of profit in each region, as a critical factor for region choice. \n",
    "We will find average profit, 95% confidence interval and risk of losses. Loss is negative profit, we will calculate it as a probability and then express it as a percentage. Management defined that risk of losses must be lower than 2.5%.\n",
    "\n",
    "**Calculations**\n",
    "\n",
    "First we will define functions to calculate profit and bootstrap for distribution of profit: average, 95% confidence level and risk of losses, and then we will apply it to each region and check and compare results. "
   ]
  },
  {
   "cell_type": "markdown",
   "metadata": {},
   "source": [
    "<div class=\"alert alert-success\">\n",
    "<b>Reviewer's comment</b>\n",
    "\n",
    "Ok, you made the same point yourself :)\n",
    "\n",
    "</div>"
   ]
  },
  {
   "cell_type": "code",
   "execution_count": 50,
   "metadata": {},
   "outputs": [],
   "source": [
    "# Functions to calculate profit and bootstrap for distribution of profit: average, 95% confidence level and risk of losses: \n",
    "def profit (predictions, answers, count, revenue, budget): \n",
    "    profit = (revenue * volume(predictions, answers, count)) - budget \n",
    "    return profit \n",
    "\n",
    "\n",
    "def bootstrap (predictions, answers):\n",
    "    state = np.random.RandomState(12345)\n",
    "    \n",
    "    profits = []\n",
    "    for i in range(1000):\n",
    "        predictions = pd.Series(predictions, index=answers.index)\n",
    "        target_subsample = answers.sample(n=500, replace=True, random_state=state)\n",
    "        preds_subsample = predictions[target_subsample.index]\n",
    "        target_subsample=target_subsample.reset_index(drop=True)\n",
    "        preds_subsample=preds_subsample.reset_index(drop=True)\n",
    "        profits.append(profit(preds_subsample, target_subsample, wells_count, revenue_of_unit_product, wells_budget)) \n",
    "\n",
    "    profits = pd.Series(profits)\n",
    "    mean = profits.mean()\n",
    "    lower = profits.quantile(0.025)\n",
    "    upper = profits.quantile(0.975) \n",
    "    loss = len(profits[profits.values < 0]) / len(profits)\n",
    "    \n",
    "    return mean, lower, upper, loss "
   ]
  },
  {
   "cell_type": "markdown",
   "metadata": {},
   "source": [
    "<div class=\"alert alert-danger\">\n",
    "<s><b>Reviewer's comment</b>\n",
    "\n",
    "The function for bootstrapping is correct, and the code for calculating the 95% confidence interval and risk of losses looks good. One small problem: when we're sampling with replacement, some indices can end up duplicated, which can lead to some slight discrepancies (try sampling 500 wells once manually, and check how many wells end up in `answers[pred_sorted.index]`). To fix this, we can just reset the indices of `target_subsample` and `preds_subsample` before passing them to the profit function\n",
    "\n",
    "</div>"
   ]
  },
  {
   "cell_type": "markdown",
   "metadata": {},
   "source": [
    "<div class=\"alert alert-danger\">\n",
    "<s><b>Reviewer's comment V2</b>\n",
    "\n",
    "`df.reset_index()` returns a copy of `df` with index reset, but doesn't change the original `df`, so we need to overwrite it manually. Also, if `reset_index()` is applied to a pandas series, it returns a dataframe with a new column containing the old index. To return a series without this column, we need to use the keyword `drop=True` \n",
    "\n",
    "</div>"
   ]
  },
  {
   "cell_type": "markdown",
   "metadata": {},
   "source": [
    "<div class=\"alert alert-success\">\n",
    "<b>Reviewer's comment V3</b>\n",
    "\n",
    "Ok, fixed!\n",
    "\n",
    "</div>"
   ]
  },
  {
   "cell_type": "code",
   "execution_count": 51,
   "metadata": {},
   "outputs": [
    {
     "name": "stdout",
     "output_type": "stream",
     "text": [
      "Region 0:\n",
      "Average profit: 3961649.8480237117\n",
      "95% confidence interval: between -1112155.4589049604 and 9097669.41553423\n",
      "Risk of losses: 6.9 %\n"
     ]
    }
   ],
   "source": [
    "# Apply to region 0:\n",
    "region_0_average_profit, region_0_lower, region_0_upper, region_0_loss = bootstrap(\n",
    "    predictions_region_0, correct_answers_region_0)\n",
    "print('Region 0:')\n",
    "print('Average profit:', region_0_average_profit)\n",
    "print('95% confidence interval: between', region_0_lower, 'and', region_0_upper)\n",
    "print('Risk of losses:', region_0_loss * 100, '%')"
   ]
  },
  {
   "cell_type": "code",
   "execution_count": 52,
   "metadata": {},
   "outputs": [
    {
     "name": "stdout",
     "output_type": "stream",
     "text": [
      "Region 1:\n",
      "Average profit: 4560451.057866608\n",
      "95% confidence interval: between 338205.0939898458 and 8522894.538660347\n",
      "Risk of losses: 1.5 %\n"
     ]
    }
   ],
   "source": [
    "# Apply to region 1:\n",
    "region_1_average_profit, region_1_lower, region_1_upper, region_1_loss = bootstrap(\n",
    "    predictions_region_1, correct_answers_region_1)\n",
    "print('Region 1:')\n",
    "print('Average profit:', region_1_average_profit)\n",
    "print('95% confidence interval: between', region_1_lower, 'and', region_1_upper)\n",
    "print('Risk of losses:', region_1_loss * 100, '%')"
   ]
  },
  {
   "cell_type": "code",
   "execution_count": 53,
   "metadata": {},
   "outputs": [
    {
     "name": "stdout",
     "output_type": "stream",
     "text": [
      "Region 2:\n",
      "Average profit: 4044038.665683568\n",
      "95% confidence interval: between -1633504.1339559986 and 9503595.749237997\n",
      "Risk of losses: 7.6 %\n"
     ]
    }
   ],
   "source": [
    "# Apply to region 2:\n",
    "region_2_average_profit, region_2_lower, region_2_upper, region_2_loss = bootstrap(\n",
    "    predictions_region_2, correct_answers_region_2)\n",
    "print('Region 2:')\n",
    "print('Average profit:', region_2_average_profit)\n",
    "print('95% confidence interval: between', region_2_lower, 'and', region_2_upper)\n",
    "print('Risk of losses:', region_2_loss * 100, '%')"
   ]
  },
  {
   "cell_type": "markdown",
   "metadata": {},
   "source": [
    "<div class=\"alert alert-success\">\n",
    "<b>Reviewer's comment</b>\n",
    "\n",
    "Great!\n",
    "\n",
    "</div>"
   ]
  },
  {
   "cell_type": "markdown",
   "metadata": {},
   "source": [
    "# Conclusion\n",
    "\n",
    "Analysis shows that both region 0 and region 2 have 6% (or more) risk of losses, and this fact disqualify these two regions from being chosen for well development. **Region 1** has only 1% risk of losses, which meets management demand for risk lower than 2.5%, so **it is our suggestion for well development**. This low risk for losses fits the low RMSE that was found for the prediction model above, to be used with the samples of the random 500 wells in this region, in order to choose best 200 wells out of the 500 based on their 3 features.\n",
    "\n",
    "The average profit from 200 wells (out of random 500 wells) in region 1 is 5,152,227.73 USD, and we have confidence of 95% that profit will be in the range between 688,732 USD and 9,315,476 USD.   "
   ]
  },
  {
   "cell_type": "markdown",
   "metadata": {},
   "source": [
    "<div class=\"alert alert-success\">\n",
    "<b>Reviewer's comment</b>\n",
    "\n",
    "The choice of the region is correct and justified! Well done!\n",
    "\n",
    "</div>"
   ]
  },
  {
   "cell_type": "code",
   "execution_count": null,
   "metadata": {},
   "outputs": [],
   "source": []
  }
 ],
 "metadata": {
  "ExecuteTimeLog": [
   {
    "duration": 1208,
    "start_time": "2022-04-16T14:31:54.784Z"
   },
   {
    "duration": 413,
    "start_time": "2022-04-16T14:32:07.709Z"
   },
   {
    "duration": 17,
    "start_time": "2022-04-16T14:32:35.495Z"
   },
   {
    "duration": 12,
    "start_time": "2022-04-16T21:36:49.517Z"
   },
   {
    "duration": 11,
    "start_time": "2022-04-16T21:37:31.783Z"
   },
   {
    "duration": 14,
    "start_time": "2022-04-16T21:37:44.184Z"
   },
   {
    "duration": 13,
    "start_time": "2022-04-16T21:37:54.567Z"
   },
   {
    "duration": 14,
    "start_time": "2022-04-16T21:38:10.462Z"
   },
   {
    "duration": 419,
    "start_time": "2022-04-16T21:45:17.542Z"
   },
   {
    "duration": 980,
    "start_time": "2022-04-17T17:39:23.678Z"
   },
   {
    "duration": 81,
    "start_time": "2022-04-17T17:51:22.675Z"
   },
   {
    "duration": 560,
    "start_time": "2022-04-17T17:51:37.392Z"
   },
   {
    "duration": 297,
    "start_time": "2022-04-17T17:51:37.954Z"
   },
   {
    "duration": 15,
    "start_time": "2022-04-17T17:51:38.252Z"
   },
   {
    "duration": 9,
    "start_time": "2022-04-17T17:51:38.270Z"
   },
   {
    "duration": 11,
    "start_time": "2022-04-17T17:51:38.281Z"
   },
   {
    "duration": 36,
    "start_time": "2022-04-17T17:51:38.293Z"
   },
   {
    "duration": 13,
    "start_time": "2022-04-17T17:51:38.331Z"
   },
   {
    "duration": 12,
    "start_time": "2022-04-17T17:51:38.346Z"
   },
   {
    "duration": 9,
    "start_time": "2022-04-17T17:51:38.359Z"
   },
   {
    "duration": 154,
    "start_time": "2022-04-17T17:51:38.370Z"
   },
   {
    "duration": 30,
    "start_time": "2022-04-17T18:12:53.295Z"
   },
   {
    "duration": 28,
    "start_time": "2022-04-17T18:13:11.343Z"
   },
   {
    "duration": 5,
    "start_time": "2022-04-17T20:53:58.051Z"
   },
   {
    "duration": 8,
    "start_time": "2022-04-17T21:13:04.280Z"
   },
   {
    "duration": 17,
    "start_time": "2022-04-17T21:13:16.613Z"
   },
   {
    "duration": 25,
    "start_time": "2022-04-17T21:41:23.929Z"
   },
   {
    "duration": 26,
    "start_time": "2022-04-17T21:43:16.877Z"
   },
   {
    "duration": 31,
    "start_time": "2022-04-17T21:45:39.693Z"
   },
   {
    "duration": 3,
    "start_time": "2022-04-17T22:03:42.152Z"
   },
   {
    "duration": 5,
    "start_time": "2022-04-17T22:17:18.308Z"
   },
   {
    "duration": 1167,
    "start_time": "2022-04-17T22:17:38.361Z"
   },
   {
    "duration": 1246,
    "start_time": "2022-04-17T22:17:47.793Z"
   },
   {
    "duration": 1149,
    "start_time": "2022-04-17T22:17:54.193Z"
   },
   {
    "duration": 1048,
    "start_time": "2022-04-18T13:49:32.853Z"
   },
   {
    "duration": 359,
    "start_time": "2022-04-18T13:49:33.903Z"
   },
   {
    "duration": 15,
    "start_time": "2022-04-18T13:49:34.264Z"
   },
   {
    "duration": 10,
    "start_time": "2022-04-18T13:49:34.282Z"
   },
   {
    "duration": 31,
    "start_time": "2022-04-18T13:49:34.293Z"
   },
   {
    "duration": 14,
    "start_time": "2022-04-18T13:49:34.326Z"
   },
   {
    "duration": 12,
    "start_time": "2022-04-18T13:49:34.341Z"
   },
   {
    "duration": 12,
    "start_time": "2022-04-18T13:49:34.355Z"
   },
   {
    "duration": 31000,
    "start_time": "2022-04-18T13:49:35.024Z"
   },
   {
    "duration": 39,
    "start_time": "2022-04-18T13:50:06.026Z"
   },
   {
    "duration": 118,
    "start_time": "2022-04-18T13:50:06.124Z"
   },
   {
    "duration": 194,
    "start_time": "2022-04-18T13:50:06.244Z"
   },
   {
    "duration": 87,
    "start_time": "2022-04-18T13:50:06.440Z"
   },
   {
    "duration": 108,
    "start_time": "2022-04-18T13:50:06.529Z"
   },
   {
    "duration": 44,
    "start_time": "2022-04-18T13:50:06.639Z"
   },
   {
    "duration": 5,
    "start_time": "2022-04-18T13:50:06.685Z"
   },
   {
    "duration": 1,
    "start_time": "2022-04-18T13:50:06.814Z"
   },
   {
    "duration": 8,
    "start_time": "2022-04-18T13:51:05.558Z"
   },
   {
    "duration": 5,
    "start_time": "2022-04-18T13:51:15.405Z"
   },
   {
    "duration": 5,
    "start_time": "2022-04-18T13:51:21.573Z"
   },
   {
    "duration": 5,
    "start_time": "2022-04-18T13:51:26.293Z"
   },
   {
    "duration": 6,
    "start_time": "2022-04-18T13:51:33.015Z"
   },
   {
    "duration": 5,
    "start_time": "2022-04-18T13:51:39.393Z"
   },
   {
    "duration": 7,
    "start_time": "2022-04-18T13:51:43.247Z"
   },
   {
    "duration": 7,
    "start_time": "2022-04-18T13:52:08.682Z"
   },
   {
    "duration": 6,
    "start_time": "2022-04-18T13:52:11.989Z"
   },
   {
    "duration": 7,
    "start_time": "2022-04-18T13:52:28.949Z"
   },
   {
    "duration": 7,
    "start_time": "2022-04-18T13:52:54.780Z"
   },
   {
    "duration": 7,
    "start_time": "2022-04-18T13:53:15.604Z"
   },
   {
    "duration": 7,
    "start_time": "2022-04-18T13:53:20.721Z"
   },
   {
    "duration": 8,
    "start_time": "2022-04-18T13:55:54.053Z"
   },
   {
    "duration": 1187,
    "start_time": "2022-04-18T22:48:52.857Z"
   },
   {
    "duration": 431,
    "start_time": "2022-04-18T22:48:54.046Z"
   },
   {
    "duration": 15,
    "start_time": "2022-04-18T22:48:54.479Z"
   },
   {
    "duration": 10,
    "start_time": "2022-04-18T22:48:54.496Z"
   },
   {
    "duration": 11,
    "start_time": "2022-04-18T22:48:54.508Z"
   },
   {
    "duration": 39,
    "start_time": "2022-04-18T22:48:54.521Z"
   },
   {
    "duration": 12,
    "start_time": "2022-04-18T22:48:54.562Z"
   },
   {
    "duration": 12,
    "start_time": "2022-04-18T22:48:54.576Z"
   },
   {
    "duration": 305,
    "start_time": "2022-04-18T22:48:54.589Z"
   },
   {
    "duration": 65,
    "start_time": "2022-04-18T22:48:54.897Z"
   },
   {
    "duration": 120,
    "start_time": "2022-04-18T22:48:54.964Z"
   },
   {
    "duration": 100,
    "start_time": "2022-04-18T22:48:55.085Z"
   },
   {
    "duration": 4,
    "start_time": "2022-04-18T22:48:55.187Z"
   },
   {
    "duration": 71,
    "start_time": "2022-04-18T22:48:55.192Z"
   },
   {
    "duration": 23,
    "start_time": "2022-04-18T22:48:55.265Z"
   },
   {
    "duration": 4,
    "start_time": "2022-04-18T22:48:55.290Z"
   },
   {
    "duration": 12,
    "start_time": "2022-04-18T22:48:55.348Z"
   },
   {
    "duration": 114,
    "start_time": "2022-04-18T22:48:55.362Z"
   },
   {
    "duration": 0,
    "start_time": "2022-04-18T22:48:55.477Z"
   },
   {
    "duration": 0,
    "start_time": "2022-04-18T22:48:55.478Z"
   },
   {
    "duration": 3,
    "start_time": "2022-04-18T22:50:45.717Z"
   },
   {
    "duration": 357,
    "start_time": "2022-04-18T22:50:45.722Z"
   },
   {
    "duration": 30,
    "start_time": "2022-04-18T22:50:46.080Z"
   },
   {
    "duration": 18,
    "start_time": "2022-04-18T22:50:46.113Z"
   },
   {
    "duration": 11,
    "start_time": "2022-04-18T22:50:46.133Z"
   },
   {
    "duration": 20,
    "start_time": "2022-04-18T22:50:46.146Z"
   },
   {
    "duration": 15,
    "start_time": "2022-04-18T22:50:46.168Z"
   },
   {
    "duration": 13,
    "start_time": "2022-04-18T22:50:46.185Z"
   },
   {
    "duration": 5,
    "start_time": "2022-04-18T22:50:46.200Z"
   },
   {
    "duration": 52,
    "start_time": "2022-04-18T22:50:46.206Z"
   },
   {
    "duration": 209,
    "start_time": "2022-04-18T22:50:46.260Z"
   },
   {
    "duration": 188,
    "start_time": "2022-04-18T22:50:46.472Z"
   },
   {
    "duration": 4,
    "start_time": "2022-04-18T22:50:46.662Z"
   },
   {
    "duration": 106,
    "start_time": "2022-04-18T22:50:46.749Z"
   },
   {
    "duration": 24,
    "start_time": "2022-04-18T22:50:46.857Z"
   },
   {
    "duration": 3,
    "start_time": "2022-04-18T22:50:46.883Z"
   },
   {
    "duration": 4,
    "start_time": "2022-04-18T22:50:46.888Z"
   },
   {
    "duration": 17,
    "start_time": "2022-04-18T22:50:46.894Z"
   },
   {
    "duration": 0,
    "start_time": "2022-04-18T22:50:46.913Z"
   },
   {
    "duration": 0,
    "start_time": "2022-04-18T22:50:46.914Z"
   },
   {
    "duration": 5,
    "start_time": "2022-04-18T22:51:32.243Z"
   },
   {
    "duration": 1243,
    "start_time": "2022-04-18T22:51:33.204Z"
   },
   {
    "duration": 5,
    "start_time": "2022-04-18T22:52:52.240Z"
   },
   {
    "duration": 27,
    "start_time": "2022-04-18T22:52:55.595Z"
   },
   {
    "duration": 5,
    "start_time": "2022-04-18T22:53:27.528Z"
   },
   {
    "duration": 1208,
    "start_time": "2022-04-18T22:53:28.379Z"
   },
   {
    "duration": 1726,
    "start_time": "2022-04-20T16:53:02.681Z"
   },
   {
    "duration": 567,
    "start_time": "2022-04-20T16:53:04.410Z"
   },
   {
    "duration": 35,
    "start_time": "2022-04-20T16:53:04.980Z"
   },
   {
    "duration": 34,
    "start_time": "2022-04-20T16:53:05.019Z"
   },
   {
    "duration": 19,
    "start_time": "2022-04-20T16:53:05.056Z"
   },
   {
    "duration": 56,
    "start_time": "2022-04-20T16:53:05.078Z"
   },
   {
    "duration": 37,
    "start_time": "2022-04-20T16:53:05.138Z"
   },
   {
    "duration": 27,
    "start_time": "2022-04-20T16:53:05.177Z"
   },
   {
    "duration": 607,
    "start_time": "2022-04-20T16:53:05.206Z"
   },
   {
    "duration": 144,
    "start_time": "2022-04-20T16:53:05.819Z"
   },
   {
    "duration": 285,
    "start_time": "2022-04-20T16:53:05.967Z"
   },
   {
    "duration": 199,
    "start_time": "2022-04-20T16:53:06.255Z"
   },
   {
    "duration": 9,
    "start_time": "2022-04-20T16:53:06.457Z"
   },
   {
    "duration": 26,
    "start_time": "2022-04-20T16:53:06.553Z"
   },
   {
    "duration": 29,
    "start_time": "2022-04-20T16:53:06.581Z"
   },
   {
    "duration": 6,
    "start_time": "2022-04-20T16:53:06.612Z"
   },
   {
    "duration": 34,
    "start_time": "2022-04-20T16:53:06.621Z"
   },
   {
    "duration": 206,
    "start_time": "2022-04-20T16:53:06.657Z"
   },
   {
    "duration": 0,
    "start_time": "2022-04-20T16:53:06.866Z"
   },
   {
    "duration": 0,
    "start_time": "2022-04-20T16:53:06.869Z"
   },
   {
    "duration": 8,
    "start_time": "2022-04-20T16:53:57.106Z"
   },
   {
    "duration": 11,
    "start_time": "2022-04-20T16:54:16.357Z"
   },
   {
    "duration": 663,
    "start_time": "2022-04-20T16:54:16.371Z"
   },
   {
    "duration": 31,
    "start_time": "2022-04-20T16:54:17.036Z"
   },
   {
    "duration": 29,
    "start_time": "2022-04-20T16:54:17.071Z"
   },
   {
    "duration": 51,
    "start_time": "2022-04-20T16:54:17.103Z"
   },
   {
    "duration": 30,
    "start_time": "2022-04-20T16:54:17.157Z"
   },
   {
    "duration": 62,
    "start_time": "2022-04-20T16:54:17.190Z"
   },
   {
    "duration": 28,
    "start_time": "2022-04-20T16:54:17.257Z"
   },
   {
    "duration": 8,
    "start_time": "2022-04-20T16:54:17.288Z"
   },
   {
    "duration": 254,
    "start_time": "2022-04-20T16:54:17.300Z"
   },
   {
    "duration": 107,
    "start_time": "2022-04-20T16:54:17.557Z"
   },
   {
    "duration": 213,
    "start_time": "2022-04-20T16:54:17.667Z"
   },
   {
    "duration": 13,
    "start_time": "2022-04-20T16:54:17.957Z"
   },
   {
    "duration": 115,
    "start_time": "2022-04-20T16:54:17.982Z"
   },
   {
    "duration": 36,
    "start_time": "2022-04-20T16:54:18.099Z"
   },
   {
    "duration": 6,
    "start_time": "2022-04-20T16:54:18.137Z"
   },
   {
    "duration": 13,
    "start_time": "2022-04-20T16:54:18.145Z"
   },
   {
    "duration": 66,
    "start_time": "2022-04-20T16:54:18.161Z"
   },
   {
    "duration": 0,
    "start_time": "2022-04-20T16:54:18.230Z"
   },
   {
    "duration": 0,
    "start_time": "2022-04-20T16:54:18.232Z"
   },
   {
    "duration": 9,
    "start_time": "2022-04-20T16:55:06.676Z"
   },
   {
    "duration": 3386,
    "start_time": "2022-04-20T16:55:07.601Z"
   },
   {
    "duration": 11,
    "start_time": "2022-04-20T16:55:27.678Z"
   },
   {
    "duration": 36,
    "start_time": "2022-04-20T16:55:28.817Z"
   },
   {
    "duration": 8,
    "start_time": "2022-04-20T16:56:02.242Z"
   },
   {
    "duration": 32,
    "start_time": "2022-04-20T16:56:03.275Z"
   },
   {
    "duration": 40,
    "start_time": "2022-04-20T16:58:55.128Z"
   },
   {
    "duration": 11,
    "start_time": "2022-04-20T17:07:22.452Z"
   },
   {
    "duration": 45,
    "start_time": "2022-04-20T17:07:23.635Z"
   },
   {
    "duration": 32,
    "start_time": "2022-04-20T17:07:24.292Z"
   },
   {
    "duration": 31,
    "start_time": "2022-04-20T17:07:45.301Z"
   },
   {
    "duration": 12,
    "start_time": "2022-04-20T17:10:15.092Z"
   },
   {
    "duration": 14,
    "start_time": "2022-04-20T17:10:27.309Z"
   },
   {
    "duration": 13,
    "start_time": "2022-04-20T17:10:31.709Z"
   },
   {
    "duration": 22,
    "start_time": "2022-04-20T17:10:31.967Z"
   },
   {
    "duration": 13,
    "start_time": "2022-04-20T17:10:43.445Z"
   },
   {
    "duration": 14,
    "start_time": "2022-04-20T17:10:43.638Z"
   },
   {
    "duration": 17,
    "start_time": "2022-04-20T17:10:51.942Z"
   },
   {
    "duration": 11,
    "start_time": "2022-04-20T17:17:04.913Z"
   },
   {
    "duration": 29,
    "start_time": "2022-04-20T17:17:05.087Z"
   },
   {
    "duration": 13,
    "start_time": "2022-04-20T17:19:23.532Z"
   },
   {
    "duration": 7866,
    "start_time": "2022-04-20T17:19:24.601Z"
   },
   {
    "duration": 5034,
    "start_time": "2022-04-20T17:19:32.470Z"
   },
   {
    "duration": 4906,
    "start_time": "2022-04-20T17:19:41.336Z"
   },
   {
    "duration": 466,
    "start_time": "2022-04-21T00:37:34.697Z"
   },
   {
    "duration": 10,
    "start_time": "2022-04-21T00:37:38.471Z"
   },
   {
    "duration": 10,
    "start_time": "2022-04-21T00:37:43.581Z"
   },
   {
    "duration": 6,
    "start_time": "2022-04-21T00:38:45.488Z"
   },
   {
    "duration": 10,
    "start_time": "2022-04-21T08:44:59.546Z"
   },
   {
    "duration": 42,
    "start_time": "2022-04-21T08:45:01.038Z"
   },
   {
    "duration": 5,
    "start_time": "2022-04-21T08:46:27.632Z"
   },
   {
    "duration": 6,
    "start_time": "2022-04-21T08:46:29.800Z"
   },
   {
    "duration": 1406,
    "start_time": "2022-04-21T08:47:05.835Z"
   },
   {
    "duration": 415,
    "start_time": "2022-04-21T08:47:07.243Z"
   },
   {
    "duration": 17,
    "start_time": "2022-04-21T08:47:07.659Z"
   },
   {
    "duration": 12,
    "start_time": "2022-04-21T08:47:07.678Z"
   },
   {
    "duration": 13,
    "start_time": "2022-04-21T08:47:07.691Z"
   },
   {
    "duration": 31,
    "start_time": "2022-04-21T08:47:07.706Z"
   },
   {
    "duration": 14,
    "start_time": "2022-04-21T08:47:07.739Z"
   },
   {
    "duration": 14,
    "start_time": "2022-04-21T08:47:07.755Z"
   },
   {
    "duration": 570,
    "start_time": "2022-04-21T08:47:07.771Z"
   },
   {
    "duration": 91,
    "start_time": "2022-04-21T08:47:08.344Z"
   },
   {
    "duration": 112,
    "start_time": "2022-04-21T08:47:08.437Z"
   },
   {
    "duration": 192,
    "start_time": "2022-04-21T08:47:08.551Z"
   },
   {
    "duration": 78,
    "start_time": "2022-04-21T08:47:08.747Z"
   },
   {
    "duration": 99,
    "start_time": "2022-04-21T08:47:08.827Z"
   },
   {
    "duration": 19,
    "start_time": "2022-04-21T08:47:08.928Z"
   },
   {
    "duration": 4,
    "start_time": "2022-04-21T08:47:08.949Z"
   },
   {
    "duration": 6,
    "start_time": "2022-04-21T08:47:08.955Z"
   },
   {
    "duration": 113,
    "start_time": "2022-04-21T08:47:08.963Z"
   },
   {
    "duration": 0,
    "start_time": "2022-04-21T08:47:09.078Z"
   },
   {
    "duration": 0,
    "start_time": "2022-04-21T08:47:09.079Z"
   },
   {
    "duration": 5,
    "start_time": "2022-04-21T08:47:55.895Z"
   },
   {
    "duration": 1189,
    "start_time": "2022-04-21T08:47:57.035Z"
   },
   {
    "duration": 15,
    "start_time": "2022-04-21T09:04:14.348Z"
   },
   {
    "duration": 20,
    "start_time": "2022-04-21T09:05:39.806Z"
   },
   {
    "duration": 17,
    "start_time": "2022-04-21T09:05:51.723Z"
   },
   {
    "duration": 15,
    "start_time": "2022-04-21T09:06:49.290Z"
   },
   {
    "duration": 11,
    "start_time": "2022-04-21T09:06:59.083Z"
   },
   {
    "duration": 6,
    "start_time": "2022-04-21T09:07:24.439Z"
   },
   {
    "duration": 1104,
    "start_time": "2022-04-21T09:07:27.448Z"
   },
   {
    "duration": 1021,
    "start_time": "2022-04-21T09:07:30.572Z"
   },
   {
    "duration": 1007,
    "start_time": "2022-04-21T09:07:32.322Z"
   },
   {
    "duration": 3,
    "start_time": "2022-04-21T09:13:41.451Z"
   },
   {
    "duration": 365,
    "start_time": "2022-04-21T09:13:41.458Z"
   },
   {
    "duration": 12,
    "start_time": "2022-04-21T09:13:41.825Z"
   },
   {
    "duration": 11,
    "start_time": "2022-04-21T09:13:41.838Z"
   },
   {
    "duration": 10,
    "start_time": "2022-04-21T09:13:41.851Z"
   },
   {
    "duration": 14,
    "start_time": "2022-04-21T09:13:41.863Z"
   },
   {
    "duration": 12,
    "start_time": "2022-04-21T09:13:41.879Z"
   },
   {
    "duration": 37,
    "start_time": "2022-04-21T09:13:41.892Z"
   },
   {
    "duration": 5,
    "start_time": "2022-04-21T09:13:41.931Z"
   },
   {
    "duration": 36,
    "start_time": "2022-04-21T09:13:41.937Z"
   },
   {
    "duration": 121,
    "start_time": "2022-04-21T09:13:42.029Z"
   },
   {
    "duration": 186,
    "start_time": "2022-04-21T09:13:42.152Z"
   },
   {
    "duration": 89,
    "start_time": "2022-04-21T09:13:42.340Z"
   },
   {
    "duration": 99,
    "start_time": "2022-04-21T09:13:42.431Z"
   },
   {
    "duration": 19,
    "start_time": "2022-04-21T09:13:42.532Z"
   },
   {
    "duration": 3,
    "start_time": "2022-04-21T09:13:42.553Z"
   },
   {
    "duration": 5,
    "start_time": "2022-04-21T09:13:42.558Z"
   },
   {
    "duration": 1108,
    "start_time": "2022-04-21T09:13:42.565Z"
   },
   {
    "duration": 1061,
    "start_time": "2022-04-21T09:13:43.675Z"
   },
   {
    "duration": 1026,
    "start_time": "2022-04-21T09:13:44.737Z"
   }
  ],
  "kernelspec": {
   "display_name": "Python 3 (ipykernel)",
   "language": "python",
   "name": "python3"
  },
  "language_info": {
   "codemirror_mode": {
    "name": "ipython",
    "version": 3
   },
   "file_extension": ".py",
   "mimetype": "text/x-python",
   "name": "python",
   "nbconvert_exporter": "python",
   "pygments_lexer": "ipython3",
   "version": "3.9.5"
  },
  "toc": {
   "base_numbering": 1,
   "nav_menu": {},
   "number_sections": true,
   "sideBar": true,
   "skip_h1_title": true,
   "title_cell": "Table of Contents",
   "title_sidebar": "Contents",
   "toc_cell": false,
   "toc_position": {},
   "toc_section_display": true,
   "toc_window_display": false
  }
 },
 "nbformat": 4,
 "nbformat_minor": 2
}
