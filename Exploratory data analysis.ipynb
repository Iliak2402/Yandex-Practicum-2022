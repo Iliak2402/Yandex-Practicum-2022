{
 "cells": [
  {
   "cell_type": "markdown",
   "metadata": {},
   "source": [
    "<div style=\"border:solid green 2px; padding: 20px\"> <h1 style=\"color:green; margin-bottom:20px\">Reviewer's comment v1</h1>\n",
    "\n",
    "Hello Ilia, my name is Dmitrii. I'm going to review your project! Nice to meet you! 🙌\n",
    "\n",
    "You can find my comments under the heading **«Review»**. I will categorize my comments in green, blue or red boxes like this:\n",
    "\n",
    "<div class=\"alert alert-success\">\n",
    "    <b>Success:</b> if everything is done successfully\n",
    "</div>\n",
    "<div class=\"alert alert-warning\">\n",
    "    <b>Remarks:</b> if I can give some recommendations or ways to improve the project\n",
    "</div>\n",
    "<div class=\"alert alert-danger\">\n",
    "    <b>Needs fixing:</b> if the block requires some corrections. Work can't be accepted with the red comments\n",
    "</div>\n",
    "\n",
    "Please don't remove my comments :) If you have any questions don't hesitate to respond to my comments in a different section. \n",
    "<div class=\"alert alert-info\"> <b>Student comments:</b> For example like this</div>    \n"
   ]
  },
  {
   "cell_type": "markdown",
   "metadata": {},
   "source": [
    "<div style=\"border:solid green 2px; padding: 20px\">\n",
    "<b>Reviewer's comment v1:</b>\n",
    "    \n",
    "<b>Overall Feedback</b> \n",
    "    \n",
    "    \n",
    "- Overall well done! I can see that a lot of effort has been made! Your project already looks really good and you accomplished impressive results.\n",
    "- It is great that you can use different methods for data processing and apply them to real data and project tasks, keep it up! \n",
    "- There is only one comment to be fixed: \n",
    "  - Add overall conclusions.\n",
    "  - Check missing values in paint_color.\n",
    "\n",
    "I will wait for you to send me a new version of the project :)\n",
    "    \n",
    "</div>"
   ]
  },
  {
   "cell_type": "markdown",
   "metadata": {},
   "source": [
    "<div style=\"border:solid green 2px; padding: 20px\">\n",
    "<b>Reviewer's comment v2:</b>\n",
    "    \n",
    "<b>Overall Feedback</b> \n",
    "    \n",
    "- Thank you for making corrections and improvements in your project.\n",
    "- Now no critial issues left, so your project has been accepted! \n",
    "\n",
    "Please keep up the great work and good luck on the next project! \n",
    "</div>"
   ]
  },
  {
   "cell_type": "markdown",
   "metadata": {},
   "source": [
    "# What sells a car?\n",
    "\n",
    "You're an analyst at Crankshaft List. Hundreds of free advertisements for vehicles are published on your site every day. You need to study data collected over the last few years and determine which factors influence the price of a vehicle."
   ]
  },
  {
   "cell_type": "markdown",
   "metadata": {},
   "source": [
    "[We've provided you with some commentary to guide your thinking as you complete this project. However, make sure to remove all the bracketed comments before submitting your project.]\n",
    "\n",
    "[Before you dive into analyzing your data, explain yourself the purposes of the project and actions you plan to take.]\n",
    "\n",
    "[Please bear in mind that studying, amending and analyzing data is an iterative process. It is normal to return back to previous steps and correct/expand them to allow for further steps.]"
   ]
  },
  {
   "cell_type": "markdown",
   "metadata": {},
   "source": [
    "<div class=\"alert alert-warning\">\n",
    "<b>Reviewer's comment v1:</b>\n",
    "    \n",
    "- It would be great to add additional information about project tasks. It gives an overview of what you are going to achieve in this project.\n",
    "- Also I can advice to keep your project clean and neat and delete all default comments in brackets. \n",
    "</div>"
   ]
  },
  {
   "cell_type": "markdown",
   "metadata": {},
   "source": [
    "## Initialization"
   ]
  },
  {
   "cell_type": "markdown",
   "metadata": {},
   "source": [
    "[Load libraries that you believe are required for the project. You may realise later that you need additional libraries as you go, which is totally fine - just make sure to update this section when you do.]"
   ]
  },
  {
   "cell_type": "code",
   "execution_count": 137,
   "metadata": {},
   "outputs": [],
   "source": [
    "import pandas as pd\n",
    "from pandas.plotting import scatter_matrix\n",
    "import numpy as n\n",
    "\n"
   ]
  },
  {
   "cell_type": "markdown",
   "metadata": {},
   "source": [
    "### Load data"
   ]
  },
  {
   "cell_type": "markdown",
   "metadata": {},
   "source": [
    "[Load the project data and have a look at the general information.]"
   ]
  },
  {
   "cell_type": "code",
   "execution_count": 138,
   "metadata": {},
   "outputs": [],
   "source": [
    "data = pd.read_csv('/datasets/vehicles_us.csv')\n",
    "\n",
    "\n"
   ]
  },
  {
   "cell_type": "code",
   "execution_count": null,
   "metadata": {},
   "outputs": [],
   "source": []
  },
  {
   "cell_type": "markdown",
   "metadata": {},
   "source": [
    "### Explore initial data"
   ]
  },
  {
   "cell_type": "markdown",
   "metadata": {},
   "source": [
    "The dataset contains the following fields:\n",
    "- `price`\n",
    "- `model_year`\n",
    "- `model`\n",
    "- `condition`\n",
    "- `cylinders`\n",
    "- `fuel` — gas, diesel, etc.\n",
    "- `odometer` — the vehicle's mileage when the ad was published\n",
    "- `transmission`\n",
    "- `paint_color`\n",
    "- `is_4wd` — whether the vehicle has 4-wheel drive (Boolean type)\n",
    "- `date_posted` — the date the ad was published\n",
    "- `days_listed` — from publication to removal\n",
    "\n",
    "[Understanding the fields, explore them to make yourself familiar with the data.]"
   ]
  },
  {
   "cell_type": "code",
   "execution_count": 139,
   "metadata": {},
   "outputs": [
    {
     "name": "stdout",
     "output_type": "stream",
     "text": [
      "<class 'pandas.core.frame.DataFrame'>\n",
      "RangeIndex: 51525 entries, 0 to 51524\n",
      "Data columns (total 13 columns):\n",
      "price           51525 non-null int64\n",
      "model_year      47906 non-null float64\n",
      "model           51525 non-null object\n",
      "condition       51525 non-null object\n",
      "cylinders       46265 non-null float64\n",
      "fuel            51525 non-null object\n",
      "odometer        43633 non-null float64\n",
      "transmission    51525 non-null object\n",
      "type            51525 non-null object\n",
      "paint_color     42258 non-null object\n",
      "is_4wd          25572 non-null float64\n",
      "date_posted     51525 non-null object\n",
      "days_listed     51525 non-null int64\n",
      "dtypes: float64(4), int64(2), object(7)\n",
      "memory usage: 5.1+ MB\n"
     ]
    }
   ],
   "source": [
    "data.info()# print the general/summary information about the DataFrame\n",
    "\n"
   ]
  },
  {
   "cell_type": "code",
   "execution_count": 140,
   "metadata": {},
   "outputs": [
    {
     "data": {
      "text/html": [
       "<div>\n",
       "<style scoped>\n",
       "    .dataframe tbody tr th:only-of-type {\n",
       "        vertical-align: middle;\n",
       "    }\n",
       "\n",
       "    .dataframe tbody tr th {\n",
       "        vertical-align: top;\n",
       "    }\n",
       "\n",
       "    .dataframe thead th {\n",
       "        text-align: right;\n",
       "    }\n",
       "</style>\n",
       "<table border=\"1\" class=\"dataframe\">\n",
       "  <thead>\n",
       "    <tr style=\"text-align: right;\">\n",
       "      <th></th>\n",
       "      <th>price</th>\n",
       "      <th>model_year</th>\n",
       "      <th>model</th>\n",
       "      <th>condition</th>\n",
       "      <th>cylinders</th>\n",
       "      <th>fuel</th>\n",
       "      <th>odometer</th>\n",
       "      <th>transmission</th>\n",
       "      <th>type</th>\n",
       "      <th>paint_color</th>\n",
       "      <th>is_4wd</th>\n",
       "      <th>date_posted</th>\n",
       "      <th>days_listed</th>\n",
       "    </tr>\n",
       "  </thead>\n",
       "  <tbody>\n",
       "    <tr>\n",
       "      <td>0</td>\n",
       "      <td>9400</td>\n",
       "      <td>2011.0</td>\n",
       "      <td>bmw x5</td>\n",
       "      <td>good</td>\n",
       "      <td>6.0</td>\n",
       "      <td>gas</td>\n",
       "      <td>145000.0</td>\n",
       "      <td>automatic</td>\n",
       "      <td>SUV</td>\n",
       "      <td>NaN</td>\n",
       "      <td>1.0</td>\n",
       "      <td>2018-06-23</td>\n",
       "      <td>19</td>\n",
       "    </tr>\n",
       "    <tr>\n",
       "      <td>1</td>\n",
       "      <td>25500</td>\n",
       "      <td>NaN</td>\n",
       "      <td>ford f-150</td>\n",
       "      <td>good</td>\n",
       "      <td>6.0</td>\n",
       "      <td>gas</td>\n",
       "      <td>88705.0</td>\n",
       "      <td>automatic</td>\n",
       "      <td>pickup</td>\n",
       "      <td>white</td>\n",
       "      <td>1.0</td>\n",
       "      <td>2018-10-19</td>\n",
       "      <td>50</td>\n",
       "    </tr>\n",
       "    <tr>\n",
       "      <td>2</td>\n",
       "      <td>5500</td>\n",
       "      <td>2013.0</td>\n",
       "      <td>hyundai sonata</td>\n",
       "      <td>like new</td>\n",
       "      <td>4.0</td>\n",
       "      <td>gas</td>\n",
       "      <td>110000.0</td>\n",
       "      <td>automatic</td>\n",
       "      <td>sedan</td>\n",
       "      <td>red</td>\n",
       "      <td>NaN</td>\n",
       "      <td>2019-02-07</td>\n",
       "      <td>79</td>\n",
       "    </tr>\n",
       "    <tr>\n",
       "      <td>3</td>\n",
       "      <td>1500</td>\n",
       "      <td>2003.0</td>\n",
       "      <td>ford f-150</td>\n",
       "      <td>fair</td>\n",
       "      <td>8.0</td>\n",
       "      <td>gas</td>\n",
       "      <td>NaN</td>\n",
       "      <td>automatic</td>\n",
       "      <td>pickup</td>\n",
       "      <td>NaN</td>\n",
       "      <td>NaN</td>\n",
       "      <td>2019-03-22</td>\n",
       "      <td>9</td>\n",
       "    </tr>\n",
       "    <tr>\n",
       "      <td>4</td>\n",
       "      <td>14900</td>\n",
       "      <td>2017.0</td>\n",
       "      <td>chrysler 200</td>\n",
       "      <td>excellent</td>\n",
       "      <td>4.0</td>\n",
       "      <td>gas</td>\n",
       "      <td>80903.0</td>\n",
       "      <td>automatic</td>\n",
       "      <td>sedan</td>\n",
       "      <td>black</td>\n",
       "      <td>NaN</td>\n",
       "      <td>2019-04-02</td>\n",
       "      <td>28</td>\n",
       "    </tr>\n",
       "    <tr>\n",
       "      <td>5</td>\n",
       "      <td>14990</td>\n",
       "      <td>2014.0</td>\n",
       "      <td>chrysler 300</td>\n",
       "      <td>excellent</td>\n",
       "      <td>6.0</td>\n",
       "      <td>gas</td>\n",
       "      <td>57954.0</td>\n",
       "      <td>automatic</td>\n",
       "      <td>sedan</td>\n",
       "      <td>black</td>\n",
       "      <td>1.0</td>\n",
       "      <td>2018-06-20</td>\n",
       "      <td>15</td>\n",
       "    </tr>\n",
       "    <tr>\n",
       "      <td>6</td>\n",
       "      <td>12990</td>\n",
       "      <td>2015.0</td>\n",
       "      <td>toyota camry</td>\n",
       "      <td>excellent</td>\n",
       "      <td>4.0</td>\n",
       "      <td>gas</td>\n",
       "      <td>79212.0</td>\n",
       "      <td>automatic</td>\n",
       "      <td>sedan</td>\n",
       "      <td>white</td>\n",
       "      <td>NaN</td>\n",
       "      <td>2018-12-27</td>\n",
       "      <td>73</td>\n",
       "    </tr>\n",
       "    <tr>\n",
       "      <td>7</td>\n",
       "      <td>15990</td>\n",
       "      <td>2013.0</td>\n",
       "      <td>honda pilot</td>\n",
       "      <td>excellent</td>\n",
       "      <td>6.0</td>\n",
       "      <td>gas</td>\n",
       "      <td>109473.0</td>\n",
       "      <td>automatic</td>\n",
       "      <td>SUV</td>\n",
       "      <td>black</td>\n",
       "      <td>1.0</td>\n",
       "      <td>2019-01-07</td>\n",
       "      <td>68</td>\n",
       "    </tr>\n",
       "    <tr>\n",
       "      <td>8</td>\n",
       "      <td>11500</td>\n",
       "      <td>2012.0</td>\n",
       "      <td>kia sorento</td>\n",
       "      <td>excellent</td>\n",
       "      <td>4.0</td>\n",
       "      <td>gas</td>\n",
       "      <td>104174.0</td>\n",
       "      <td>automatic</td>\n",
       "      <td>SUV</td>\n",
       "      <td>NaN</td>\n",
       "      <td>1.0</td>\n",
       "      <td>2018-07-16</td>\n",
       "      <td>19</td>\n",
       "    </tr>\n",
       "    <tr>\n",
       "      <td>9</td>\n",
       "      <td>9200</td>\n",
       "      <td>2008.0</td>\n",
       "      <td>honda pilot</td>\n",
       "      <td>excellent</td>\n",
       "      <td>NaN</td>\n",
       "      <td>gas</td>\n",
       "      <td>147191.0</td>\n",
       "      <td>automatic</td>\n",
       "      <td>SUV</td>\n",
       "      <td>blue</td>\n",
       "      <td>1.0</td>\n",
       "      <td>2019-02-15</td>\n",
       "      <td>17</td>\n",
       "    </tr>\n",
       "    <tr>\n",
       "      <td>10</td>\n",
       "      <td>19500</td>\n",
       "      <td>2011.0</td>\n",
       "      <td>chevrolet silverado 1500</td>\n",
       "      <td>excellent</td>\n",
       "      <td>8.0</td>\n",
       "      <td>gas</td>\n",
       "      <td>128413.0</td>\n",
       "      <td>automatic</td>\n",
       "      <td>pickup</td>\n",
       "      <td>black</td>\n",
       "      <td>1.0</td>\n",
       "      <td>2018-09-17</td>\n",
       "      <td>38</td>\n",
       "    </tr>\n",
       "    <tr>\n",
       "      <td>11</td>\n",
       "      <td>8990</td>\n",
       "      <td>2012.0</td>\n",
       "      <td>honda accord</td>\n",
       "      <td>excellent</td>\n",
       "      <td>4.0</td>\n",
       "      <td>gas</td>\n",
       "      <td>111142.0</td>\n",
       "      <td>automatic</td>\n",
       "      <td>sedan</td>\n",
       "      <td>grey</td>\n",
       "      <td>NaN</td>\n",
       "      <td>2019-03-28</td>\n",
       "      <td>29</td>\n",
       "    </tr>\n",
       "    <tr>\n",
       "      <td>12</td>\n",
       "      <td>18990</td>\n",
       "      <td>2012.0</td>\n",
       "      <td>ram 1500</td>\n",
       "      <td>excellent</td>\n",
       "      <td>8.0</td>\n",
       "      <td>gas</td>\n",
       "      <td>140742.0</td>\n",
       "      <td>automatic</td>\n",
       "      <td>pickup</td>\n",
       "      <td>NaN</td>\n",
       "      <td>1.0</td>\n",
       "      <td>2019-04-02</td>\n",
       "      <td>37</td>\n",
       "    </tr>\n",
       "    <tr>\n",
       "      <td>13</td>\n",
       "      <td>16500</td>\n",
       "      <td>2018.0</td>\n",
       "      <td>hyundai sonata</td>\n",
       "      <td>excellent</td>\n",
       "      <td>4.0</td>\n",
       "      <td>gas</td>\n",
       "      <td>22104.0</td>\n",
       "      <td>automatic</td>\n",
       "      <td>sedan</td>\n",
       "      <td>silver</td>\n",
       "      <td>NaN</td>\n",
       "      <td>2019-01-14</td>\n",
       "      <td>29</td>\n",
       "    </tr>\n",
       "    <tr>\n",
       "      <td>14</td>\n",
       "      <td>12990</td>\n",
       "      <td>2009.0</td>\n",
       "      <td>gmc yukon</td>\n",
       "      <td>excellent</td>\n",
       "      <td>8.0</td>\n",
       "      <td>gas</td>\n",
       "      <td>132285.0</td>\n",
       "      <td>automatic</td>\n",
       "      <td>SUV</td>\n",
       "      <td>black</td>\n",
       "      <td>1.0</td>\n",
       "      <td>2019-01-31</td>\n",
       "      <td>24</td>\n",
       "    </tr>\n",
       "    <tr>\n",
       "      <td>15</td>\n",
       "      <td>17990</td>\n",
       "      <td>2013.0</td>\n",
       "      <td>ram 1500</td>\n",
       "      <td>excellent</td>\n",
       "      <td>8.0</td>\n",
       "      <td>gas</td>\n",
       "      <td>NaN</td>\n",
       "      <td>automatic</td>\n",
       "      <td>pickup</td>\n",
       "      <td>red</td>\n",
       "      <td>1.0</td>\n",
       "      <td>2018-05-15</td>\n",
       "      <td>111</td>\n",
       "    </tr>\n",
       "    <tr>\n",
       "      <td>16</td>\n",
       "      <td>14990</td>\n",
       "      <td>2010.0</td>\n",
       "      <td>ram 1500</td>\n",
       "      <td>excellent</td>\n",
       "      <td>8.0</td>\n",
       "      <td>gas</td>\n",
       "      <td>130725.0</td>\n",
       "      <td>automatic</td>\n",
       "      <td>pickup</td>\n",
       "      <td>red</td>\n",
       "      <td>1.0</td>\n",
       "      <td>2018-12-30</td>\n",
       "      <td>13</td>\n",
       "    </tr>\n",
       "    <tr>\n",
       "      <td>17</td>\n",
       "      <td>13990</td>\n",
       "      <td>2014.0</td>\n",
       "      <td>jeep cherokee</td>\n",
       "      <td>excellent</td>\n",
       "      <td>6.0</td>\n",
       "      <td>gas</td>\n",
       "      <td>100669.0</td>\n",
       "      <td>automatic</td>\n",
       "      <td>SUV</td>\n",
       "      <td>red</td>\n",
       "      <td>1.0</td>\n",
       "      <td>2018-08-16</td>\n",
       "      <td>25</td>\n",
       "    </tr>\n",
       "    <tr>\n",
       "      <td>18</td>\n",
       "      <td>12500</td>\n",
       "      <td>2013.0</td>\n",
       "      <td>chevrolet traverse</td>\n",
       "      <td>excellent</td>\n",
       "      <td>6.0</td>\n",
       "      <td>gas</td>\n",
       "      <td>128325.0</td>\n",
       "      <td>automatic</td>\n",
       "      <td>SUV</td>\n",
       "      <td>white</td>\n",
       "      <td>1.0</td>\n",
       "      <td>2019-04-09</td>\n",
       "      <td>13</td>\n",
       "    </tr>\n",
       "    <tr>\n",
       "      <td>19</td>\n",
       "      <td>13990</td>\n",
       "      <td>2018.0</td>\n",
       "      <td>hyundai elantra</td>\n",
       "      <td>excellent</td>\n",
       "      <td>4.0</td>\n",
       "      <td>gas</td>\n",
       "      <td>31932.0</td>\n",
       "      <td>automatic</td>\n",
       "      <td>sedan</td>\n",
       "      <td>red</td>\n",
       "      <td>NaN</td>\n",
       "      <td>2018-08-25</td>\n",
       "      <td>27</td>\n",
       "    </tr>\n",
       "  </tbody>\n",
       "</table>\n",
       "</div>"
      ],
      "text/plain": [
       "    price  model_year                     model  condition  cylinders fuel  \\\n",
       "0    9400      2011.0                    bmw x5       good        6.0  gas   \n",
       "1   25500         NaN                ford f-150       good        6.0  gas   \n",
       "2    5500      2013.0            hyundai sonata   like new        4.0  gas   \n",
       "3    1500      2003.0                ford f-150       fair        8.0  gas   \n",
       "4   14900      2017.0              chrysler 200  excellent        4.0  gas   \n",
       "5   14990      2014.0              chrysler 300  excellent        6.0  gas   \n",
       "6   12990      2015.0              toyota camry  excellent        4.0  gas   \n",
       "7   15990      2013.0               honda pilot  excellent        6.0  gas   \n",
       "8   11500      2012.0               kia sorento  excellent        4.0  gas   \n",
       "9    9200      2008.0               honda pilot  excellent        NaN  gas   \n",
       "10  19500      2011.0  chevrolet silverado 1500  excellent        8.0  gas   \n",
       "11   8990      2012.0              honda accord  excellent        4.0  gas   \n",
       "12  18990      2012.0                  ram 1500  excellent        8.0  gas   \n",
       "13  16500      2018.0            hyundai sonata  excellent        4.0  gas   \n",
       "14  12990      2009.0                 gmc yukon  excellent        8.0  gas   \n",
       "15  17990      2013.0                  ram 1500  excellent        8.0  gas   \n",
       "16  14990      2010.0                  ram 1500  excellent        8.0  gas   \n",
       "17  13990      2014.0             jeep cherokee  excellent        6.0  gas   \n",
       "18  12500      2013.0        chevrolet traverse  excellent        6.0  gas   \n",
       "19  13990      2018.0           hyundai elantra  excellent        4.0  gas   \n",
       "\n",
       "    odometer transmission    type paint_color  is_4wd date_posted  days_listed  \n",
       "0   145000.0    automatic     SUV         NaN     1.0  2018-06-23           19  \n",
       "1    88705.0    automatic  pickup       white     1.0  2018-10-19           50  \n",
       "2   110000.0    automatic   sedan         red     NaN  2019-02-07           79  \n",
       "3        NaN    automatic  pickup         NaN     NaN  2019-03-22            9  \n",
       "4    80903.0    automatic   sedan       black     NaN  2019-04-02           28  \n",
       "5    57954.0    automatic   sedan       black     1.0  2018-06-20           15  \n",
       "6    79212.0    automatic   sedan       white     NaN  2018-12-27           73  \n",
       "7   109473.0    automatic     SUV       black     1.0  2019-01-07           68  \n",
       "8   104174.0    automatic     SUV         NaN     1.0  2018-07-16           19  \n",
       "9   147191.0    automatic     SUV        blue     1.0  2019-02-15           17  \n",
       "10  128413.0    automatic  pickup       black     1.0  2018-09-17           38  \n",
       "11  111142.0    automatic   sedan        grey     NaN  2019-03-28           29  \n",
       "12  140742.0    automatic  pickup         NaN     1.0  2019-04-02           37  \n",
       "13   22104.0    automatic   sedan      silver     NaN  2019-01-14           29  \n",
       "14  132285.0    automatic     SUV       black     1.0  2019-01-31           24  \n",
       "15       NaN    automatic  pickup         red     1.0  2018-05-15          111  \n",
       "16  130725.0    automatic  pickup         red     1.0  2018-12-30           13  \n",
       "17  100669.0    automatic     SUV         red     1.0  2018-08-16           25  \n",
       "18  128325.0    automatic     SUV       white     1.0  2019-04-09           13  \n",
       "19   31932.0    automatic   sedan         red     NaN  2018-08-25           27  "
      ]
     },
     "execution_count": 140,
     "metadata": {},
     "output_type": "execute_result"
    }
   ],
   "source": [
    "data.head(20)# print a sample of data\n",
    "\n"
   ]
  },
  {
   "cell_type": "code",
   "execution_count": 141,
   "metadata": {},
   "outputs": [
    {
     "data": {
      "text/html": [
       "<div>\n",
       "<style scoped>\n",
       "    .dataframe tbody tr th:only-of-type {\n",
       "        vertical-align: middle;\n",
       "    }\n",
       "\n",
       "    .dataframe tbody tr th {\n",
       "        vertical-align: top;\n",
       "    }\n",
       "\n",
       "    .dataframe thead th {\n",
       "        text-align: right;\n",
       "    }\n",
       "</style>\n",
       "<table border=\"1\" class=\"dataframe\">\n",
       "  <thead>\n",
       "    <tr style=\"text-align: right;\">\n",
       "      <th></th>\n",
       "      <th>price</th>\n",
       "      <th>model_year</th>\n",
       "      <th>cylinders</th>\n",
       "      <th>odometer</th>\n",
       "      <th>is_4wd</th>\n",
       "      <th>days_listed</th>\n",
       "    </tr>\n",
       "  </thead>\n",
       "  <tbody>\n",
       "    <tr>\n",
       "      <td>count</td>\n",
       "      <td>51525.000000</td>\n",
       "      <td>47906.000000</td>\n",
       "      <td>46265.000000</td>\n",
       "      <td>43633.000000</td>\n",
       "      <td>25572.0</td>\n",
       "      <td>51525.00000</td>\n",
       "    </tr>\n",
       "    <tr>\n",
       "      <td>mean</td>\n",
       "      <td>12132.464920</td>\n",
       "      <td>2009.750470</td>\n",
       "      <td>6.125235</td>\n",
       "      <td>115553.461738</td>\n",
       "      <td>1.0</td>\n",
       "      <td>39.55476</td>\n",
       "    </tr>\n",
       "    <tr>\n",
       "      <td>std</td>\n",
       "      <td>10040.803015</td>\n",
       "      <td>6.282065</td>\n",
       "      <td>1.660360</td>\n",
       "      <td>65094.611341</td>\n",
       "      <td>0.0</td>\n",
       "      <td>28.20427</td>\n",
       "    </tr>\n",
       "    <tr>\n",
       "      <td>min</td>\n",
       "      <td>1.000000</td>\n",
       "      <td>1908.000000</td>\n",
       "      <td>3.000000</td>\n",
       "      <td>0.000000</td>\n",
       "      <td>1.0</td>\n",
       "      <td>0.00000</td>\n",
       "    </tr>\n",
       "    <tr>\n",
       "      <td>25%</td>\n",
       "      <td>5000.000000</td>\n",
       "      <td>2006.000000</td>\n",
       "      <td>4.000000</td>\n",
       "      <td>70000.000000</td>\n",
       "      <td>1.0</td>\n",
       "      <td>19.00000</td>\n",
       "    </tr>\n",
       "    <tr>\n",
       "      <td>50%</td>\n",
       "      <td>9000.000000</td>\n",
       "      <td>2011.000000</td>\n",
       "      <td>6.000000</td>\n",
       "      <td>113000.000000</td>\n",
       "      <td>1.0</td>\n",
       "      <td>33.00000</td>\n",
       "    </tr>\n",
       "    <tr>\n",
       "      <td>75%</td>\n",
       "      <td>16839.000000</td>\n",
       "      <td>2014.000000</td>\n",
       "      <td>8.000000</td>\n",
       "      <td>155000.000000</td>\n",
       "      <td>1.0</td>\n",
       "      <td>53.00000</td>\n",
       "    </tr>\n",
       "    <tr>\n",
       "      <td>max</td>\n",
       "      <td>375000.000000</td>\n",
       "      <td>2019.000000</td>\n",
       "      <td>12.000000</td>\n",
       "      <td>990000.000000</td>\n",
       "      <td>1.0</td>\n",
       "      <td>271.00000</td>\n",
       "    </tr>\n",
       "  </tbody>\n",
       "</table>\n",
       "</div>"
      ],
      "text/plain": [
       "               price    model_year     cylinders       odometer   is_4wd  \\\n",
       "count   51525.000000  47906.000000  46265.000000   43633.000000  25572.0   \n",
       "mean    12132.464920   2009.750470      6.125235  115553.461738      1.0   \n",
       "std     10040.803015      6.282065      1.660360   65094.611341      0.0   \n",
       "min         1.000000   1908.000000      3.000000       0.000000      1.0   \n",
       "25%      5000.000000   2006.000000      4.000000   70000.000000      1.0   \n",
       "50%      9000.000000   2011.000000      6.000000  113000.000000      1.0   \n",
       "75%     16839.000000   2014.000000      8.000000  155000.000000      1.0   \n",
       "max    375000.000000   2019.000000     12.000000  990000.000000      1.0   \n",
       "\n",
       "       days_listed  \n",
       "count  51525.00000  \n",
       "mean      39.55476  \n",
       "std       28.20427  \n",
       "min        0.00000  \n",
       "25%       19.00000  \n",
       "50%       33.00000  \n",
       "75%       53.00000  \n",
       "max      271.00000  "
      ]
     },
     "execution_count": 141,
     "metadata": {},
     "output_type": "execute_result"
    }
   ],
   "source": [
    "data.describe()"
   ]
  },
  {
   "cell_type": "markdown",
   "metadata": {},
   "source": [
    "<div class=\"alert alert-block alert-success\">\n",
    "<b>Reviewer's comment v1:</b>\n",
    "    \n",
    "Good first view on data and great that all imports and data load are grouped in different cells before the project.\n",
    "   \n",
    "    \n",
    "</div>"
   ]
  },
  {
   "cell_type": "markdown",
   "metadata": {},
   "source": [
    "[Describe what you notice in the general information and the printed data sample. Are there any issues that may need further investigation and changes?]"
   ]
  },
  {
   "cell_type": "markdown",
   "metadata": {},
   "source": [
    "missing values should be treated"
   ]
  },
  {
   "cell_type": "code",
   "execution_count": 142,
   "metadata": {},
   "outputs": [],
   "source": [
    "common_year=data.groupby('model')['model_year'].transform(lambda x: x.value_counts().idxmax())"
   ]
  },
  {
   "cell_type": "code",
   "execution_count": 143,
   "metadata": {},
   "outputs": [],
   "source": [
    "data['model_year'].fillna(common_year,inplace=True)"
   ]
  },
  {
   "cell_type": "markdown",
   "metadata": {},
   "source": [
    "<div class=\"alert alert-block alert-success\">\n",
    "<b>Reviewer's comment v1:</b>\n",
    "\n",
    "You have done great work with missing values.\n",
    "It is indeed more beneficial to try to restore missing data, as by deleting it we can lose potentially important insights. \n",
    "\n",
    "**`model_year`**\n",
    "  \n",
    "Potentially model_year could be also correlated with car moder or condition.\n",
    "\n"
   ]
  },
  {
   "cell_type": "markdown",
   "metadata": {},
   "source": [
    "[Are there columns with inappropriate data types?]"
   ]
  },
  {
   "cell_type": "markdown",
   "metadata": {},
   "source": [
    "**Model year,cylinder,is 4wd- are float numbers not appropriate**"
   ]
  },
  {
   "cell_type": "markdown",
   "metadata": {},
   "source": [
    "[Are there missing values across all columns or just a few? What columns contain the most missing values? Briefly describe what you see in 1-2 sentences.]"
   ]
  },
  {
   "cell_type": "markdown",
   "metadata": {},
   "source": [
    "model_year,cylinders,odometer,paint_color,is_4wd-columns with missing values. most missing values-4wd"
   ]
  },
  {
   "cell_type": "markdown",
   "metadata": {},
   "source": [
    "### Conclusions and further steps\n",
    "\n",
    "[Formulate your conclusions regarding the initial data. What do you think looks normal and what does not not?]\n",
    "\n",
    "[Explain your next steps and how they correlate with the conclusions you made so far. Specifically, it should be clear what part of data should be treated to make it more suitable for the required analysis.]"
   ]
  },
  {
   "cell_type": "code",
   "execution_count": null,
   "metadata": {},
   "outputs": [],
   "source": []
  },
  {
   "cell_type": "markdown",
   "metadata": {},
   "source": [
    "## Treat missing values (if any)"
   ]
  },
  {
   "cell_type": "markdown",
   "metadata": {},
   "source": [
    "[Study missing values for each column in more details and decide what to do with them based on meaningful hypotheses.]"
   ]
  },
  {
   "cell_type": "code",
   "execution_count": 144,
   "metadata": {},
   "outputs": [],
   "source": [
    "data['is_4wd'].fillna(value=0,inplace=True)\n"
   ]
  },
  {
   "cell_type": "markdown",
   "metadata": {},
   "source": [
    "<div class=\"alert alert-block alert-success\">\n",
    "<b>Reviewer's comment v1:</b>\n",
    "      \n",
    "Indeed, `is_4wd` contains a boolean type of information (yes/no). So filling missing data with 0 will allow us to keep a potentially useful feature.\n",
    "\n"
   ]
  },
  {
   "cell_type": "code",
   "execution_count": 145,
   "metadata": {
    "scrolled": true
   },
   "outputs": [
    {
     "name": "stdout",
     "output_type": "stream",
     "text": [
      "<class 'pandas.core.frame.DataFrame'>\n",
      "RangeIndex: 51525 entries, 0 to 51524\n",
      "Data columns (total 13 columns):\n",
      "price           51525 non-null int64\n",
      "model_year      51525 non-null float64\n",
      "model           51525 non-null object\n",
      "condition       51525 non-null object\n",
      "cylinders       46265 non-null float64\n",
      "fuel            51525 non-null object\n",
      "odometer        43633 non-null float64\n",
      "transmission    51525 non-null object\n",
      "type            51525 non-null object\n",
      "paint_color     42258 non-null object\n",
      "is_4wd          51525 non-null float64\n",
      "date_posted     51525 non-null object\n",
      "days_listed     51525 non-null int64\n",
      "dtypes: float64(4), int64(2), object(7)\n",
      "memory usage: 5.1+ MB\n"
     ]
    }
   ],
   "source": [
    "data.info()"
   ]
  },
  {
   "cell_type": "code",
   "execution_count": 146,
   "metadata": {},
   "outputs": [
    {
     "data": {
      "text/html": [
       "<div>\n",
       "<style scoped>\n",
       "    .dataframe tbody tr th:only-of-type {\n",
       "        vertical-align: middle;\n",
       "    }\n",
       "\n",
       "    .dataframe tbody tr th {\n",
       "        vertical-align: top;\n",
       "    }\n",
       "\n",
       "    .dataframe thead th {\n",
       "        text-align: right;\n",
       "    }\n",
       "</style>\n",
       "<table border=\"1\" class=\"dataframe\">\n",
       "  <thead>\n",
       "    <tr style=\"text-align: right;\">\n",
       "      <th></th>\n",
       "      <th>price</th>\n",
       "      <th>model_year</th>\n",
       "      <th>model</th>\n",
       "      <th>condition</th>\n",
       "      <th>cylinders</th>\n",
       "      <th>fuel</th>\n",
       "      <th>odometer</th>\n",
       "      <th>transmission</th>\n",
       "      <th>type</th>\n",
       "      <th>paint_color</th>\n",
       "      <th>is_4wd</th>\n",
       "      <th>date_posted</th>\n",
       "      <th>days_listed</th>\n",
       "    </tr>\n",
       "  </thead>\n",
       "  <tbody>\n",
       "    <tr>\n",
       "      <td>0</td>\n",
       "      <td>9400</td>\n",
       "      <td>2011.0</td>\n",
       "      <td>bmw x5</td>\n",
       "      <td>good</td>\n",
       "      <td>6.0</td>\n",
       "      <td>gas</td>\n",
       "      <td>145000.0</td>\n",
       "      <td>automatic</td>\n",
       "      <td>SUV</td>\n",
       "      <td>NaN</td>\n",
       "      <td>1.0</td>\n",
       "      <td>2018-06-23</td>\n",
       "      <td>19</td>\n",
       "    </tr>\n",
       "    <tr>\n",
       "      <td>1</td>\n",
       "      <td>25500</td>\n",
       "      <td>2013.0</td>\n",
       "      <td>ford f-150</td>\n",
       "      <td>good</td>\n",
       "      <td>6.0</td>\n",
       "      <td>gas</td>\n",
       "      <td>88705.0</td>\n",
       "      <td>automatic</td>\n",
       "      <td>pickup</td>\n",
       "      <td>white</td>\n",
       "      <td>1.0</td>\n",
       "      <td>2018-10-19</td>\n",
       "      <td>50</td>\n",
       "    </tr>\n",
       "    <tr>\n",
       "      <td>2</td>\n",
       "      <td>5500</td>\n",
       "      <td>2013.0</td>\n",
       "      <td>hyundai sonata</td>\n",
       "      <td>like new</td>\n",
       "      <td>4.0</td>\n",
       "      <td>gas</td>\n",
       "      <td>110000.0</td>\n",
       "      <td>automatic</td>\n",
       "      <td>sedan</td>\n",
       "      <td>red</td>\n",
       "      <td>0.0</td>\n",
       "      <td>2019-02-07</td>\n",
       "      <td>79</td>\n",
       "    </tr>\n",
       "    <tr>\n",
       "      <td>3</td>\n",
       "      <td>1500</td>\n",
       "      <td>2003.0</td>\n",
       "      <td>ford f-150</td>\n",
       "      <td>fair</td>\n",
       "      <td>8.0</td>\n",
       "      <td>gas</td>\n",
       "      <td>NaN</td>\n",
       "      <td>automatic</td>\n",
       "      <td>pickup</td>\n",
       "      <td>NaN</td>\n",
       "      <td>0.0</td>\n",
       "      <td>2019-03-22</td>\n",
       "      <td>9</td>\n",
       "    </tr>\n",
       "    <tr>\n",
       "      <td>4</td>\n",
       "      <td>14900</td>\n",
       "      <td>2017.0</td>\n",
       "      <td>chrysler 200</td>\n",
       "      <td>excellent</td>\n",
       "      <td>4.0</td>\n",
       "      <td>gas</td>\n",
       "      <td>80903.0</td>\n",
       "      <td>automatic</td>\n",
       "      <td>sedan</td>\n",
       "      <td>black</td>\n",
       "      <td>0.0</td>\n",
       "      <td>2019-04-02</td>\n",
       "      <td>28</td>\n",
       "    </tr>\n",
       "  </tbody>\n",
       "</table>\n",
       "</div>"
      ],
      "text/plain": [
       "   price  model_year           model  condition  cylinders fuel  odometer  \\\n",
       "0   9400      2011.0          bmw x5       good        6.0  gas  145000.0   \n",
       "1  25500      2013.0      ford f-150       good        6.0  gas   88705.0   \n",
       "2   5500      2013.0  hyundai sonata   like new        4.0  gas  110000.0   \n",
       "3   1500      2003.0      ford f-150       fair        8.0  gas       NaN   \n",
       "4  14900      2017.0    chrysler 200  excellent        4.0  gas   80903.0   \n",
       "\n",
       "  transmission    type paint_color  is_4wd date_posted  days_listed  \n",
       "0    automatic     SUV         NaN     1.0  2018-06-23           19  \n",
       "1    automatic  pickup       white     1.0  2018-10-19           50  \n",
       "2    automatic   sedan         red     0.0  2019-02-07           79  \n",
       "3    automatic  pickup         NaN     0.0  2019-03-22            9  \n",
       "4    automatic   sedan       black     0.0  2019-04-02           28  "
      ]
     },
     "execution_count": 146,
     "metadata": {},
     "output_type": "execute_result"
    }
   ],
   "source": [
    "data.head()"
   ]
  },
  {
   "cell_type": "code",
   "execution_count": 147,
   "metadata": {},
   "outputs": [],
   "source": [
    "common_cylinders=data.groupby('model')['cylinders'].transform(lambda x: x.value_counts().idxmax())"
   ]
  },
  {
   "cell_type": "code",
   "execution_count": 148,
   "metadata": {},
   "outputs": [],
   "source": [
    "data['cylinders'].fillna(common_cylinders,inplace=True)"
   ]
  },
  {
   "cell_type": "markdown",
   "metadata": {},
   "source": [
    "<div class=\"alert alert-block alert-success\">\n",
    "<b>Reviewer's comment v1:</b>\n",
    "\n",
    "\n",
    "**`cylinders`** \n",
    "\n",
    "Here indeed either type or car model can be used to find more relevant value. \n",
    "    \n"
   ]
  },
  {
   "cell_type": "code",
   "execution_count": 149,
   "metadata": {},
   "outputs": [],
   "source": [
    "data['paint_color'].fillna('unknown', inplace=True)"
   ]
  },
  {
   "cell_type": "code",
   "execution_count": 150,
   "metadata": {
    "scrolled": true
   },
   "outputs": [
    {
     "name": "stdout",
     "output_type": "stream",
     "text": [
      "<class 'pandas.core.frame.DataFrame'>\n",
      "RangeIndex: 51525 entries, 0 to 51524\n",
      "Data columns (total 13 columns):\n",
      "price           51525 non-null int64\n",
      "model_year      51525 non-null float64\n",
      "model           51525 non-null object\n",
      "condition       51525 non-null object\n",
      "cylinders       51525 non-null float64\n",
      "fuel            51525 non-null object\n",
      "odometer        43633 non-null float64\n",
      "transmission    51525 non-null object\n",
      "type            51525 non-null object\n",
      "paint_color     51525 non-null object\n",
      "is_4wd          51525 non-null float64\n",
      "date_posted     51525 non-null object\n",
      "days_listed     51525 non-null int64\n",
      "dtypes: float64(4), int64(2), object(7)\n",
      "memory usage: 5.1+ MB\n"
     ]
    }
   ],
   "source": [
    "data.info()"
   ]
  },
  {
   "cell_type": "markdown",
   "metadata": {},
   "source": [
    "<div class=\"alert alert-block alert-danger\">\n",
    "<b>Reviewer's comment v1:</b>\n",
    "      \n",
    "Can you please comment missing values in paint_color? \n",
    "\n",
    "For example, you can fill them with any placeholder (e.g. unknown)."
   ]
  },
  {
   "cell_type": "markdown",
   "metadata": {},
   "source": [
    "<div class=\"alert alert-success\">\n",
    "<b>Reviewer's comment v2:</b>\n",
    "\n",
    "Thanks for fixing that. Sometimes it can be helpful to just have this placeholder and aggregate data by it.\n",
    "\n",
    "</div>"
   ]
  },
  {
   "cell_type": "markdown",
   "metadata": {},
   "source": [
    "## Fix data types"
   ]
  },
  {
   "cell_type": "markdown",
   "metadata": {},
   "source": [
    "[As the data is more or less complete now, fix the data types if required.]"
   ]
  },
  {
   "cell_type": "code",
   "execution_count": 151,
   "metadata": {},
   "outputs": [],
   "source": [
    "data['model_year']=data['model_year'].astype('int64')"
   ]
  },
  {
   "cell_type": "code",
   "execution_count": 152,
   "metadata": {},
   "outputs": [],
   "source": [
    "data['cylinders']=data['cylinders'].astype('int64')"
   ]
  },
  {
   "cell_type": "code",
   "execution_count": 153,
   "metadata": {},
   "outputs": [],
   "source": [
    "data['is_4wd ']=data['is_4wd'].astype('bool')"
   ]
  },
  {
   "cell_type": "code",
   "execution_count": 154,
   "metadata": {},
   "outputs": [
    {
     "name": "stdout",
     "output_type": "stream",
     "text": [
      "<class 'pandas.core.frame.DataFrame'>\n",
      "RangeIndex: 51525 entries, 0 to 51524\n",
      "Data columns (total 14 columns):\n",
      "price           51525 non-null int64\n",
      "model_year      51525 non-null int64\n",
      "model           51525 non-null object\n",
      "condition       51525 non-null object\n",
      "cylinders       51525 non-null int64\n",
      "fuel            51525 non-null object\n",
      "odometer        43633 non-null float64\n",
      "transmission    51525 non-null object\n",
      "type            51525 non-null object\n",
      "paint_color     51525 non-null object\n",
      "is_4wd          51525 non-null float64\n",
      "date_posted     51525 non-null object\n",
      "days_listed     51525 non-null int64\n",
      "is_4wd          51525 non-null bool\n",
      "dtypes: bool(1), float64(2), int64(4), object(7)\n",
      "memory usage: 5.2+ MB\n"
     ]
    }
   ],
   "source": [
    "data.info()"
   ]
  },
  {
   "cell_type": "markdown",
   "metadata": {},
   "source": [
    "<div class=\"alert alert-block alert-warning\">\n",
    "<b>Reviewer's comment v1:</b>\n",
    "      \n",
    "Great that you check data types. One minor remark, is_4wd column contains 0/1 information you can change it to the bool data type. \n"
   ]
  },
  {
   "cell_type": "markdown",
   "metadata": {},
   "source": [
    "## Enrich data"
   ]
  },
  {
   "cell_type": "markdown",
   "metadata": {},
   "source": [
    "[Add additional factors to the data to make the analysis easier.]"
   ]
  },
  {
   "cell_type": "code",
   "execution_count": 155,
   "metadata": {},
   "outputs": [],
   "source": [
    "# Add datetime values for when the ad was placed\n",
    "data['model_year']= pd.to_datetime(data['model_year'], format='%Y')\n",
    "data['model_year'] = pd.DatetimeIndex(data['model_year']).year\n",
    "data['date_posted'] = pd.to_datetime(data['date_posted'], format='%Y-%m-%d')\n",
    "data['weekday'] = data['date_posted'].dt.weekday"
   ]
  },
  {
   "cell_type": "code",
   "execution_count": 156,
   "metadata": {
    "scrolled": true
   },
   "outputs": [
    {
     "data": {
      "text/html": [
       "<div>\n",
       "<style scoped>\n",
       "    .dataframe tbody tr th:only-of-type {\n",
       "        vertical-align: middle;\n",
       "    }\n",
       "\n",
       "    .dataframe tbody tr th {\n",
       "        vertical-align: top;\n",
       "    }\n",
       "\n",
       "    .dataframe thead th {\n",
       "        text-align: right;\n",
       "    }\n",
       "</style>\n",
       "<table border=\"1\" class=\"dataframe\">\n",
       "  <thead>\n",
       "    <tr style=\"text-align: right;\">\n",
       "      <th></th>\n",
       "      <th>price</th>\n",
       "      <th>model_year</th>\n",
       "      <th>model</th>\n",
       "      <th>condition</th>\n",
       "      <th>cylinders</th>\n",
       "      <th>fuel</th>\n",
       "      <th>odometer</th>\n",
       "      <th>transmission</th>\n",
       "      <th>type</th>\n",
       "      <th>paint_color</th>\n",
       "      <th>is_4wd</th>\n",
       "      <th>date_posted</th>\n",
       "      <th>days_listed</th>\n",
       "      <th>is_4wd</th>\n",
       "      <th>weekday</th>\n",
       "      <th>vehicle_age</th>\n",
       "    </tr>\n",
       "  </thead>\n",
       "  <tbody>\n",
       "    <tr>\n",
       "      <td>0</td>\n",
       "      <td>9400</td>\n",
       "      <td>2011</td>\n",
       "      <td>bmw x5</td>\n",
       "      <td>good</td>\n",
       "      <td>6</td>\n",
       "      <td>gas</td>\n",
       "      <td>145000.0</td>\n",
       "      <td>automatic</td>\n",
       "      <td>SUV</td>\n",
       "      <td>unknown</td>\n",
       "      <td>1.0</td>\n",
       "      <td>2018-06-23</td>\n",
       "      <td>19</td>\n",
       "      <td>True</td>\n",
       "      <td>5</td>\n",
       "      <td>8</td>\n",
       "    </tr>\n",
       "    <tr>\n",
       "      <td>1</td>\n",
       "      <td>25500</td>\n",
       "      <td>2013</td>\n",
       "      <td>ford f-150</td>\n",
       "      <td>good</td>\n",
       "      <td>6</td>\n",
       "      <td>gas</td>\n",
       "      <td>88705.0</td>\n",
       "      <td>automatic</td>\n",
       "      <td>pickup</td>\n",
       "      <td>white</td>\n",
       "      <td>1.0</td>\n",
       "      <td>2018-10-19</td>\n",
       "      <td>50</td>\n",
       "      <td>True</td>\n",
       "      <td>4</td>\n",
       "      <td>6</td>\n",
       "    </tr>\n",
       "    <tr>\n",
       "      <td>2</td>\n",
       "      <td>5500</td>\n",
       "      <td>2013</td>\n",
       "      <td>hyundai sonata</td>\n",
       "      <td>like new</td>\n",
       "      <td>4</td>\n",
       "      <td>gas</td>\n",
       "      <td>110000.0</td>\n",
       "      <td>automatic</td>\n",
       "      <td>sedan</td>\n",
       "      <td>red</td>\n",
       "      <td>0.0</td>\n",
       "      <td>2019-02-07</td>\n",
       "      <td>79</td>\n",
       "      <td>False</td>\n",
       "      <td>3</td>\n",
       "      <td>7</td>\n",
       "    </tr>\n",
       "    <tr>\n",
       "      <td>3</td>\n",
       "      <td>1500</td>\n",
       "      <td>2003</td>\n",
       "      <td>ford f-150</td>\n",
       "      <td>fair</td>\n",
       "      <td>8</td>\n",
       "      <td>gas</td>\n",
       "      <td>NaN</td>\n",
       "      <td>automatic</td>\n",
       "      <td>pickup</td>\n",
       "      <td>unknown</td>\n",
       "      <td>0.0</td>\n",
       "      <td>2019-03-22</td>\n",
       "      <td>9</td>\n",
       "      <td>False</td>\n",
       "      <td>4</td>\n",
       "      <td>17</td>\n",
       "    </tr>\n",
       "    <tr>\n",
       "      <td>4</td>\n",
       "      <td>14900</td>\n",
       "      <td>2017</td>\n",
       "      <td>chrysler 200</td>\n",
       "      <td>excellent</td>\n",
       "      <td>4</td>\n",
       "      <td>gas</td>\n",
       "      <td>80903.0</td>\n",
       "      <td>automatic</td>\n",
       "      <td>sedan</td>\n",
       "      <td>black</td>\n",
       "      <td>0.0</td>\n",
       "      <td>2019-04-02</td>\n",
       "      <td>28</td>\n",
       "      <td>False</td>\n",
       "      <td>1</td>\n",
       "      <td>3</td>\n",
       "    </tr>\n",
       "  </tbody>\n",
       "</table>\n",
       "</div>"
      ],
      "text/plain": [
       "   price  model_year           model  condition  cylinders fuel  odometer  \\\n",
       "0   9400        2011          bmw x5       good          6  gas  145000.0   \n",
       "1  25500        2013      ford f-150       good          6  gas   88705.0   \n",
       "2   5500        2013  hyundai sonata   like new          4  gas  110000.0   \n",
       "3   1500        2003      ford f-150       fair          8  gas       NaN   \n",
       "4  14900        2017    chrysler 200  excellent          4  gas   80903.0   \n",
       "\n",
       "  transmission    type paint_color  is_4wd date_posted  days_listed  is_4wd   \\\n",
       "0    automatic     SUV     unknown     1.0  2018-06-23           19     True   \n",
       "1    automatic  pickup       white     1.0  2018-10-19           50     True   \n",
       "2    automatic   sedan         red     0.0  2019-02-07           79    False   \n",
       "3    automatic  pickup     unknown     0.0  2019-03-22            9    False   \n",
       "4    automatic   sedan       black     0.0  2019-04-02           28    False   \n",
       "\n",
       "   weekday  vehicle_age  \n",
       "0        5            8  \n",
       "1        4            6  \n",
       "2        3            7  \n",
       "3        4           17  \n",
       "4        1            3  "
      ]
     },
     "execution_count": 156,
     "metadata": {},
     "output_type": "execute_result"
    }
   ],
   "source": [
    "# Add the vehicle's age when the ad was placed\n",
    "data['vehicle_age']=pd.DatetimeIndex(data['date_posted']).year-data['model_year']+1\n",
    "data.head()\n"
   ]
  },
  {
   "cell_type": "markdown",
   "metadata": {},
   "source": [
    "<div class=\"alert alert-warning\">\n",
    "<b>Reviewer's comment v1:</b>\n",
    "    \n",
    "Here you can also add  +1 to the equation above to take into account the current year. Otherwise, it will lead to multiple 0 in `vehicle_age` (as below) and as a result infinite values in `avg_mil`. \n"
   ]
  },
  {
   "cell_type": "code",
   "execution_count": 157,
   "metadata": {
    "scrolled": true
   },
   "outputs": [],
   "source": [
    "#data.groupby(['model_year','model']).mean()"
   ]
  },
  {
   "cell_type": "code",
   "execution_count": 158,
   "metadata": {},
   "outputs": [
    {
     "name": "stderr",
     "output_type": "stream",
     "text": [
      "/opt/conda/lib/python3.7/site-packages/numpy/lib/nanfunctions.py:1111: RuntimeWarning: Mean of empty slice\n",
      "  return np.nanmean(a, axis, out=out, keepdims=keepdims)\n"
     ]
    }
   ],
   "source": [
    "data['odometer'].fillna(data.groupby(['model_year','model'])['odometer'].transform(lambda x:x.median()),inplace=True)\n"
   ]
  },
  {
   "cell_type": "code",
   "execution_count": 159,
   "metadata": {},
   "outputs": [
    {
     "data": {
      "text/html": [
       "<div>\n",
       "<style scoped>\n",
       "    .dataframe tbody tr th:only-of-type {\n",
       "        vertical-align: middle;\n",
       "    }\n",
       "\n",
       "    .dataframe tbody tr th {\n",
       "        vertical-align: top;\n",
       "    }\n",
       "\n",
       "    .dataframe thead th {\n",
       "        text-align: right;\n",
       "    }\n",
       "</style>\n",
       "<table border=\"1\" class=\"dataframe\">\n",
       "  <thead>\n",
       "    <tr style=\"text-align: right;\">\n",
       "      <th></th>\n",
       "      <th>price</th>\n",
       "      <th>model_year</th>\n",
       "      <th>model</th>\n",
       "      <th>condition</th>\n",
       "      <th>cylinders</th>\n",
       "      <th>fuel</th>\n",
       "      <th>odometer</th>\n",
       "      <th>transmission</th>\n",
       "      <th>type</th>\n",
       "      <th>paint_color</th>\n",
       "      <th>is_4wd</th>\n",
       "      <th>date_posted</th>\n",
       "      <th>days_listed</th>\n",
       "      <th>is_4wd</th>\n",
       "      <th>weekday</th>\n",
       "      <th>vehicle_age</th>\n",
       "      <th>av_mil_py</th>\n",
       "    </tr>\n",
       "  </thead>\n",
       "  <tbody>\n",
       "    <tr>\n",
       "      <td>0</td>\n",
       "      <td>9400</td>\n",
       "      <td>2011</td>\n",
       "      <td>bmw x5</td>\n",
       "      <td>good</td>\n",
       "      <td>6</td>\n",
       "      <td>gas</td>\n",
       "      <td>145000.0</td>\n",
       "      <td>automatic</td>\n",
       "      <td>SUV</td>\n",
       "      <td>unknown</td>\n",
       "      <td>1.0</td>\n",
       "      <td>2018-06-23</td>\n",
       "      <td>19</td>\n",
       "      <td>True</td>\n",
       "      <td>5</td>\n",
       "      <td>8</td>\n",
       "      <td>18125.000000</td>\n",
       "    </tr>\n",
       "    <tr>\n",
       "      <td>1</td>\n",
       "      <td>25500</td>\n",
       "      <td>2013</td>\n",
       "      <td>ford f-150</td>\n",
       "      <td>good</td>\n",
       "      <td>6</td>\n",
       "      <td>gas</td>\n",
       "      <td>88705.0</td>\n",
       "      <td>automatic</td>\n",
       "      <td>pickup</td>\n",
       "      <td>white</td>\n",
       "      <td>1.0</td>\n",
       "      <td>2018-10-19</td>\n",
       "      <td>50</td>\n",
       "      <td>True</td>\n",
       "      <td>4</td>\n",
       "      <td>6</td>\n",
       "      <td>14784.166667</td>\n",
       "    </tr>\n",
       "    <tr>\n",
       "      <td>2</td>\n",
       "      <td>5500</td>\n",
       "      <td>2013</td>\n",
       "      <td>hyundai sonata</td>\n",
       "      <td>like new</td>\n",
       "      <td>4</td>\n",
       "      <td>gas</td>\n",
       "      <td>110000.0</td>\n",
       "      <td>automatic</td>\n",
       "      <td>sedan</td>\n",
       "      <td>red</td>\n",
       "      <td>0.0</td>\n",
       "      <td>2019-02-07</td>\n",
       "      <td>79</td>\n",
       "      <td>False</td>\n",
       "      <td>3</td>\n",
       "      <td>7</td>\n",
       "      <td>15714.285714</td>\n",
       "    </tr>\n",
       "    <tr>\n",
       "      <td>3</td>\n",
       "      <td>1500</td>\n",
       "      <td>2003</td>\n",
       "      <td>ford f-150</td>\n",
       "      <td>fair</td>\n",
       "      <td>8</td>\n",
       "      <td>gas</td>\n",
       "      <td>177500.0</td>\n",
       "      <td>automatic</td>\n",
       "      <td>pickup</td>\n",
       "      <td>unknown</td>\n",
       "      <td>0.0</td>\n",
       "      <td>2019-03-22</td>\n",
       "      <td>9</td>\n",
       "      <td>False</td>\n",
       "      <td>4</td>\n",
       "      <td>17</td>\n",
       "      <td>10441.176471</td>\n",
       "    </tr>\n",
       "    <tr>\n",
       "      <td>4</td>\n",
       "      <td>14900</td>\n",
       "      <td>2017</td>\n",
       "      <td>chrysler 200</td>\n",
       "      <td>excellent</td>\n",
       "      <td>4</td>\n",
       "      <td>gas</td>\n",
       "      <td>80903.0</td>\n",
       "      <td>automatic</td>\n",
       "      <td>sedan</td>\n",
       "      <td>black</td>\n",
       "      <td>0.0</td>\n",
       "      <td>2019-04-02</td>\n",
       "      <td>28</td>\n",
       "      <td>False</td>\n",
       "      <td>1</td>\n",
       "      <td>3</td>\n",
       "      <td>26967.666667</td>\n",
       "    </tr>\n",
       "    <tr>\n",
       "      <td>5</td>\n",
       "      <td>14990</td>\n",
       "      <td>2014</td>\n",
       "      <td>chrysler 300</td>\n",
       "      <td>excellent</td>\n",
       "      <td>6</td>\n",
       "      <td>gas</td>\n",
       "      <td>57954.0</td>\n",
       "      <td>automatic</td>\n",
       "      <td>sedan</td>\n",
       "      <td>black</td>\n",
       "      <td>1.0</td>\n",
       "      <td>2018-06-20</td>\n",
       "      <td>15</td>\n",
       "      <td>True</td>\n",
       "      <td>2</td>\n",
       "      <td>5</td>\n",
       "      <td>11590.800000</td>\n",
       "    </tr>\n",
       "    <tr>\n",
       "      <td>6</td>\n",
       "      <td>12990</td>\n",
       "      <td>2015</td>\n",
       "      <td>toyota camry</td>\n",
       "      <td>excellent</td>\n",
       "      <td>4</td>\n",
       "      <td>gas</td>\n",
       "      <td>79212.0</td>\n",
       "      <td>automatic</td>\n",
       "      <td>sedan</td>\n",
       "      <td>white</td>\n",
       "      <td>0.0</td>\n",
       "      <td>2018-12-27</td>\n",
       "      <td>73</td>\n",
       "      <td>False</td>\n",
       "      <td>3</td>\n",
       "      <td>4</td>\n",
       "      <td>19803.000000</td>\n",
       "    </tr>\n",
       "    <tr>\n",
       "      <td>7</td>\n",
       "      <td>15990</td>\n",
       "      <td>2013</td>\n",
       "      <td>honda pilot</td>\n",
       "      <td>excellent</td>\n",
       "      <td>6</td>\n",
       "      <td>gas</td>\n",
       "      <td>109473.0</td>\n",
       "      <td>automatic</td>\n",
       "      <td>SUV</td>\n",
       "      <td>black</td>\n",
       "      <td>1.0</td>\n",
       "      <td>2019-01-07</td>\n",
       "      <td>68</td>\n",
       "      <td>True</td>\n",
       "      <td>0</td>\n",
       "      <td>7</td>\n",
       "      <td>15639.000000</td>\n",
       "    </tr>\n",
       "    <tr>\n",
       "      <td>8</td>\n",
       "      <td>11500</td>\n",
       "      <td>2012</td>\n",
       "      <td>kia sorento</td>\n",
       "      <td>excellent</td>\n",
       "      <td>4</td>\n",
       "      <td>gas</td>\n",
       "      <td>104174.0</td>\n",
       "      <td>automatic</td>\n",
       "      <td>SUV</td>\n",
       "      <td>unknown</td>\n",
       "      <td>1.0</td>\n",
       "      <td>2018-07-16</td>\n",
       "      <td>19</td>\n",
       "      <td>True</td>\n",
       "      <td>0</td>\n",
       "      <td>7</td>\n",
       "      <td>14882.000000</td>\n",
       "    </tr>\n",
       "    <tr>\n",
       "      <td>9</td>\n",
       "      <td>9200</td>\n",
       "      <td>2008</td>\n",
       "      <td>honda pilot</td>\n",
       "      <td>excellent</td>\n",
       "      <td>6</td>\n",
       "      <td>gas</td>\n",
       "      <td>147191.0</td>\n",
       "      <td>automatic</td>\n",
       "      <td>SUV</td>\n",
       "      <td>blue</td>\n",
       "      <td>1.0</td>\n",
       "      <td>2019-02-15</td>\n",
       "      <td>17</td>\n",
       "      <td>True</td>\n",
       "      <td>4</td>\n",
       "      <td>12</td>\n",
       "      <td>12265.916667</td>\n",
       "    </tr>\n",
       "    <tr>\n",
       "      <td>10</td>\n",
       "      <td>19500</td>\n",
       "      <td>2011</td>\n",
       "      <td>chevrolet silverado 1500</td>\n",
       "      <td>excellent</td>\n",
       "      <td>8</td>\n",
       "      <td>gas</td>\n",
       "      <td>128413.0</td>\n",
       "      <td>automatic</td>\n",
       "      <td>pickup</td>\n",
       "      <td>black</td>\n",
       "      <td>1.0</td>\n",
       "      <td>2018-09-17</td>\n",
       "      <td>38</td>\n",
       "      <td>True</td>\n",
       "      <td>0</td>\n",
       "      <td>8</td>\n",
       "      <td>16051.625000</td>\n",
       "    </tr>\n",
       "    <tr>\n",
       "      <td>11</td>\n",
       "      <td>8990</td>\n",
       "      <td>2012</td>\n",
       "      <td>honda accord</td>\n",
       "      <td>excellent</td>\n",
       "      <td>4</td>\n",
       "      <td>gas</td>\n",
       "      <td>111142.0</td>\n",
       "      <td>automatic</td>\n",
       "      <td>sedan</td>\n",
       "      <td>grey</td>\n",
       "      <td>0.0</td>\n",
       "      <td>2019-03-28</td>\n",
       "      <td>29</td>\n",
       "      <td>False</td>\n",
       "      <td>3</td>\n",
       "      <td>8</td>\n",
       "      <td>13892.750000</td>\n",
       "    </tr>\n",
       "    <tr>\n",
       "      <td>12</td>\n",
       "      <td>18990</td>\n",
       "      <td>2012</td>\n",
       "      <td>ram 1500</td>\n",
       "      <td>excellent</td>\n",
       "      <td>8</td>\n",
       "      <td>gas</td>\n",
       "      <td>140742.0</td>\n",
       "      <td>automatic</td>\n",
       "      <td>pickup</td>\n",
       "      <td>unknown</td>\n",
       "      <td>1.0</td>\n",
       "      <td>2019-04-02</td>\n",
       "      <td>37</td>\n",
       "      <td>True</td>\n",
       "      <td>1</td>\n",
       "      <td>8</td>\n",
       "      <td>17592.750000</td>\n",
       "    </tr>\n",
       "    <tr>\n",
       "      <td>13</td>\n",
       "      <td>16500</td>\n",
       "      <td>2018</td>\n",
       "      <td>hyundai sonata</td>\n",
       "      <td>excellent</td>\n",
       "      <td>4</td>\n",
       "      <td>gas</td>\n",
       "      <td>22104.0</td>\n",
       "      <td>automatic</td>\n",
       "      <td>sedan</td>\n",
       "      <td>silver</td>\n",
       "      <td>0.0</td>\n",
       "      <td>2019-01-14</td>\n",
       "      <td>29</td>\n",
       "      <td>False</td>\n",
       "      <td>0</td>\n",
       "      <td>2</td>\n",
       "      <td>11052.000000</td>\n",
       "    </tr>\n",
       "    <tr>\n",
       "      <td>14</td>\n",
       "      <td>12990</td>\n",
       "      <td>2009</td>\n",
       "      <td>gmc yukon</td>\n",
       "      <td>excellent</td>\n",
       "      <td>8</td>\n",
       "      <td>gas</td>\n",
       "      <td>132285.0</td>\n",
       "      <td>automatic</td>\n",
       "      <td>SUV</td>\n",
       "      <td>black</td>\n",
       "      <td>1.0</td>\n",
       "      <td>2019-01-31</td>\n",
       "      <td>24</td>\n",
       "      <td>True</td>\n",
       "      <td>3</td>\n",
       "      <td>11</td>\n",
       "      <td>12025.909091</td>\n",
       "    </tr>\n",
       "    <tr>\n",
       "      <td>15</td>\n",
       "      <td>17990</td>\n",
       "      <td>2013</td>\n",
       "      <td>ram 1500</td>\n",
       "      <td>excellent</td>\n",
       "      <td>8</td>\n",
       "      <td>gas</td>\n",
       "      <td>96100.0</td>\n",
       "      <td>automatic</td>\n",
       "      <td>pickup</td>\n",
       "      <td>red</td>\n",
       "      <td>1.0</td>\n",
       "      <td>2018-05-15</td>\n",
       "      <td>111</td>\n",
       "      <td>True</td>\n",
       "      <td>1</td>\n",
       "      <td>6</td>\n",
       "      <td>16016.666667</td>\n",
       "    </tr>\n",
       "    <tr>\n",
       "      <td>16</td>\n",
       "      <td>14990</td>\n",
       "      <td>2010</td>\n",
       "      <td>ram 1500</td>\n",
       "      <td>excellent</td>\n",
       "      <td>8</td>\n",
       "      <td>gas</td>\n",
       "      <td>130725.0</td>\n",
       "      <td>automatic</td>\n",
       "      <td>pickup</td>\n",
       "      <td>red</td>\n",
       "      <td>1.0</td>\n",
       "      <td>2018-12-30</td>\n",
       "      <td>13</td>\n",
       "      <td>True</td>\n",
       "      <td>6</td>\n",
       "      <td>9</td>\n",
       "      <td>14525.000000</td>\n",
       "    </tr>\n",
       "    <tr>\n",
       "      <td>17</td>\n",
       "      <td>13990</td>\n",
       "      <td>2014</td>\n",
       "      <td>jeep cherokee</td>\n",
       "      <td>excellent</td>\n",
       "      <td>6</td>\n",
       "      <td>gas</td>\n",
       "      <td>100669.0</td>\n",
       "      <td>automatic</td>\n",
       "      <td>SUV</td>\n",
       "      <td>red</td>\n",
       "      <td>1.0</td>\n",
       "      <td>2018-08-16</td>\n",
       "      <td>25</td>\n",
       "      <td>True</td>\n",
       "      <td>3</td>\n",
       "      <td>5</td>\n",
       "      <td>20133.800000</td>\n",
       "    </tr>\n",
       "    <tr>\n",
       "      <td>18</td>\n",
       "      <td>12500</td>\n",
       "      <td>2013</td>\n",
       "      <td>chevrolet traverse</td>\n",
       "      <td>excellent</td>\n",
       "      <td>6</td>\n",
       "      <td>gas</td>\n",
       "      <td>128325.0</td>\n",
       "      <td>automatic</td>\n",
       "      <td>SUV</td>\n",
       "      <td>white</td>\n",
       "      <td>1.0</td>\n",
       "      <td>2019-04-09</td>\n",
       "      <td>13</td>\n",
       "      <td>True</td>\n",
       "      <td>1</td>\n",
       "      <td>7</td>\n",
       "      <td>18332.142857</td>\n",
       "    </tr>\n",
       "    <tr>\n",
       "      <td>19</td>\n",
       "      <td>13990</td>\n",
       "      <td>2018</td>\n",
       "      <td>hyundai elantra</td>\n",
       "      <td>excellent</td>\n",
       "      <td>4</td>\n",
       "      <td>gas</td>\n",
       "      <td>31932.0</td>\n",
       "      <td>automatic</td>\n",
       "      <td>sedan</td>\n",
       "      <td>red</td>\n",
       "      <td>0.0</td>\n",
       "      <td>2018-08-25</td>\n",
       "      <td>27</td>\n",
       "      <td>False</td>\n",
       "      <td>5</td>\n",
       "      <td>1</td>\n",
       "      <td>31932.000000</td>\n",
       "    </tr>\n",
       "  </tbody>\n",
       "</table>\n",
       "</div>"
      ],
      "text/plain": [
       "    price  model_year                     model  condition  cylinders fuel  \\\n",
       "0    9400        2011                    bmw x5       good          6  gas   \n",
       "1   25500        2013                ford f-150       good          6  gas   \n",
       "2    5500        2013            hyundai sonata   like new          4  gas   \n",
       "3    1500        2003                ford f-150       fair          8  gas   \n",
       "4   14900        2017              chrysler 200  excellent          4  gas   \n",
       "5   14990        2014              chrysler 300  excellent          6  gas   \n",
       "6   12990        2015              toyota camry  excellent          4  gas   \n",
       "7   15990        2013               honda pilot  excellent          6  gas   \n",
       "8   11500        2012               kia sorento  excellent          4  gas   \n",
       "9    9200        2008               honda pilot  excellent          6  gas   \n",
       "10  19500        2011  chevrolet silverado 1500  excellent          8  gas   \n",
       "11   8990        2012              honda accord  excellent          4  gas   \n",
       "12  18990        2012                  ram 1500  excellent          8  gas   \n",
       "13  16500        2018            hyundai sonata  excellent          4  gas   \n",
       "14  12990        2009                 gmc yukon  excellent          8  gas   \n",
       "15  17990        2013                  ram 1500  excellent          8  gas   \n",
       "16  14990        2010                  ram 1500  excellent          8  gas   \n",
       "17  13990        2014             jeep cherokee  excellent          6  gas   \n",
       "18  12500        2013        chevrolet traverse  excellent          6  gas   \n",
       "19  13990        2018           hyundai elantra  excellent          4  gas   \n",
       "\n",
       "    odometer transmission    type paint_color  is_4wd date_posted  \\\n",
       "0   145000.0    automatic     SUV     unknown     1.0  2018-06-23   \n",
       "1    88705.0    automatic  pickup       white     1.0  2018-10-19   \n",
       "2   110000.0    automatic   sedan         red     0.0  2019-02-07   \n",
       "3   177500.0    automatic  pickup     unknown     0.0  2019-03-22   \n",
       "4    80903.0    automatic   sedan       black     0.0  2019-04-02   \n",
       "5    57954.0    automatic   sedan       black     1.0  2018-06-20   \n",
       "6    79212.0    automatic   sedan       white     0.0  2018-12-27   \n",
       "7   109473.0    automatic     SUV       black     1.0  2019-01-07   \n",
       "8   104174.0    automatic     SUV     unknown     1.0  2018-07-16   \n",
       "9   147191.0    automatic     SUV        blue     1.0  2019-02-15   \n",
       "10  128413.0    automatic  pickup       black     1.0  2018-09-17   \n",
       "11  111142.0    automatic   sedan        grey     0.0  2019-03-28   \n",
       "12  140742.0    automatic  pickup     unknown     1.0  2019-04-02   \n",
       "13   22104.0    automatic   sedan      silver     0.0  2019-01-14   \n",
       "14  132285.0    automatic     SUV       black     1.0  2019-01-31   \n",
       "15   96100.0    automatic  pickup         red     1.0  2018-05-15   \n",
       "16  130725.0    automatic  pickup         red     1.0  2018-12-30   \n",
       "17  100669.0    automatic     SUV         red     1.0  2018-08-16   \n",
       "18  128325.0    automatic     SUV       white     1.0  2019-04-09   \n",
       "19   31932.0    automatic   sedan         red     0.0  2018-08-25   \n",
       "\n",
       "    days_listed  is_4wd   weekday  vehicle_age     av_mil_py  \n",
       "0            19     True        5            8  18125.000000  \n",
       "1            50     True        4            6  14784.166667  \n",
       "2            79    False        3            7  15714.285714  \n",
       "3             9    False        4           17  10441.176471  \n",
       "4            28    False        1            3  26967.666667  \n",
       "5            15     True        2            5  11590.800000  \n",
       "6            73    False        3            4  19803.000000  \n",
       "7            68     True        0            7  15639.000000  \n",
       "8            19     True        0            7  14882.000000  \n",
       "9            17     True        4           12  12265.916667  \n",
       "10           38     True        0            8  16051.625000  \n",
       "11           29    False        3            8  13892.750000  \n",
       "12           37     True        1            8  17592.750000  \n",
       "13           29    False        0            2  11052.000000  \n",
       "14           24     True        3           11  12025.909091  \n",
       "15          111     True        1            6  16016.666667  \n",
       "16           13     True        6            9  14525.000000  \n",
       "17           25     True        3            5  20133.800000  \n",
       "18           13     True        1            7  18332.142857  \n",
       "19           27    False        5            1  31932.000000  "
      ]
     },
     "execution_count": 159,
     "metadata": {},
     "output_type": "execute_result"
    }
   ],
   "source": [
    "# Add the vehicle's average mileage per year\n",
    "data['av_mil_py']=data['odometer']/data['vehicle_age']\n",
    "data.head(20)"
   ]
  },
  {
   "cell_type": "markdown",
   "metadata": {},
   "source": [
    "<div class=\"alert alert-block alert-success\">\n",
    "<b>Reviewer's comment v1:</b>\n",
    "\n",
    "    \n",
    "**`odometer`** \n",
    "\n",
    "Well done with missing values in odometer! \n",
    "\n",
    "</div>"
   ]
  },
  {
   "cell_type": "code",
   "execution_count": 160,
   "metadata": {},
   "outputs": [],
   "source": [
    "# It might help to replace the condition values with something that can be manipulated more easily\n",
    "def condition_convert(condition):\n",
    "    if condition=='new':\n",
    "        return 5\n",
    "    if condition=='like new':\n",
    "        return 4\n",
    "    if condition=='excellent':\n",
    "        return 3\n",
    "    if condition=='good':\n",
    "        return 2\n",
    "    if condition=='fair':\n",
    "        return 1\n",
    "    return 0\n",
    "\n"
   ]
  },
  {
   "cell_type": "code",
   "execution_count": 161,
   "metadata": {},
   "outputs": [],
   "source": [
    "data['condition']=data['condition'].apply(condition_convert)"
   ]
  },
  {
   "cell_type": "code",
   "execution_count": null,
   "metadata": {},
   "outputs": [],
   "source": []
  },
  {
   "cell_type": "markdown",
   "metadata": {},
   "source": [
    "## Check clean data"
   ]
  },
  {
   "cell_type": "markdown",
   "metadata": {},
   "source": [
    "[Given the data is ready for the analysis, take just another quick look at it. It is helpful to see what exactly you are going to use for the analysis.]"
   ]
  },
  {
   "cell_type": "code",
   "execution_count": 162,
   "metadata": {},
   "outputs": [
    {
     "name": "stdout",
     "output_type": "stream",
     "text": [
      "<class 'pandas.core.frame.DataFrame'>\n",
      "RangeIndex: 51525 entries, 0 to 51524\n",
      "Data columns (total 17 columns):\n",
      "price           51525 non-null int64\n",
      "model_year      51525 non-null int64\n",
      "model           51525 non-null object\n",
      "condition       51525 non-null int64\n",
      "cylinders       51525 non-null int64\n",
      "fuel            51525 non-null object\n",
      "odometer        51442 non-null float64\n",
      "transmission    51525 non-null object\n",
      "type            51525 non-null object\n",
      "paint_color     51525 non-null object\n",
      "is_4wd          51525 non-null float64\n",
      "date_posted     51525 non-null datetime64[ns]\n",
      "days_listed     51525 non-null int64\n",
      "is_4wd          51525 non-null bool\n",
      "weekday         51525 non-null int64\n",
      "vehicle_age     51525 non-null int64\n",
      "av_mil_py       51442 non-null float64\n",
      "dtypes: bool(1), datetime64[ns](1), float64(3), int64(7), object(5)\n",
      "memory usage: 6.3+ MB\n"
     ]
    }
   ],
   "source": [
    "# print the general/summary information about the DataFrame\n",
    "data.info()\n"
   ]
  },
  {
   "cell_type": "code",
   "execution_count": 163,
   "metadata": {
    "scrolled": true
   },
   "outputs": [
    {
     "data": {
      "text/html": [
       "<div>\n",
       "<style scoped>\n",
       "    .dataframe tbody tr th:only-of-type {\n",
       "        vertical-align: middle;\n",
       "    }\n",
       "\n",
       "    .dataframe tbody tr th {\n",
       "        vertical-align: top;\n",
       "    }\n",
       "\n",
       "    .dataframe thead th {\n",
       "        text-align: right;\n",
       "    }\n",
       "</style>\n",
       "<table border=\"1\" class=\"dataframe\">\n",
       "  <thead>\n",
       "    <tr style=\"text-align: right;\">\n",
       "      <th></th>\n",
       "      <th>price</th>\n",
       "      <th>model_year</th>\n",
       "      <th>model</th>\n",
       "      <th>condition</th>\n",
       "      <th>cylinders</th>\n",
       "      <th>fuel</th>\n",
       "      <th>odometer</th>\n",
       "      <th>transmission</th>\n",
       "      <th>type</th>\n",
       "      <th>paint_color</th>\n",
       "      <th>is_4wd</th>\n",
       "      <th>date_posted</th>\n",
       "      <th>days_listed</th>\n",
       "      <th>is_4wd</th>\n",
       "      <th>weekday</th>\n",
       "      <th>vehicle_age</th>\n",
       "      <th>av_mil_py</th>\n",
       "    </tr>\n",
       "  </thead>\n",
       "  <tbody>\n",
       "    <tr>\n",
       "      <td>35905</td>\n",
       "      <td>2750</td>\n",
       "      <td>2003</td>\n",
       "      <td>chevrolet malibu</td>\n",
       "      <td>3</td>\n",
       "      <td>6</td>\n",
       "      <td>gas</td>\n",
       "      <td>184000.0</td>\n",
       "      <td>automatic</td>\n",
       "      <td>sedan</td>\n",
       "      <td>unknown</td>\n",
       "      <td>0.0</td>\n",
       "      <td>2018-05-10</td>\n",
       "      <td>35</td>\n",
       "      <td>False</td>\n",
       "      <td>3</td>\n",
       "      <td>16</td>\n",
       "      <td>11500.000000</td>\n",
       "    </tr>\n",
       "    <tr>\n",
       "      <td>47645</td>\n",
       "      <td>6995</td>\n",
       "      <td>2010</td>\n",
       "      <td>toyota camry</td>\n",
       "      <td>3</td>\n",
       "      <td>4</td>\n",
       "      <td>gas</td>\n",
       "      <td>105000.0</td>\n",
       "      <td>automatic</td>\n",
       "      <td>sedan</td>\n",
       "      <td>grey</td>\n",
       "      <td>0.0</td>\n",
       "      <td>2019-02-05</td>\n",
       "      <td>33</td>\n",
       "      <td>False</td>\n",
       "      <td>1</td>\n",
       "      <td>10</td>\n",
       "      <td>10500.000000</td>\n",
       "    </tr>\n",
       "    <tr>\n",
       "      <td>6387</td>\n",
       "      <td>8995</td>\n",
       "      <td>2011</td>\n",
       "      <td>jeep liberty</td>\n",
       "      <td>2</td>\n",
       "      <td>6</td>\n",
       "      <td>gas</td>\n",
       "      <td>89065.0</td>\n",
       "      <td>automatic</td>\n",
       "      <td>other</td>\n",
       "      <td>brown</td>\n",
       "      <td>1.0</td>\n",
       "      <td>2019-04-08</td>\n",
       "      <td>23</td>\n",
       "      <td>True</td>\n",
       "      <td>0</td>\n",
       "      <td>9</td>\n",
       "      <td>9896.111111</td>\n",
       "    </tr>\n",
       "    <tr>\n",
       "      <td>28402</td>\n",
       "      <td>8200</td>\n",
       "      <td>2010</td>\n",
       "      <td>toyota camry</td>\n",
       "      <td>3</td>\n",
       "      <td>6</td>\n",
       "      <td>gas</td>\n",
       "      <td>81600.0</td>\n",
       "      <td>automatic</td>\n",
       "      <td>sedan</td>\n",
       "      <td>silver</td>\n",
       "      <td>0.0</td>\n",
       "      <td>2018-12-23</td>\n",
       "      <td>37</td>\n",
       "      <td>False</td>\n",
       "      <td>6</td>\n",
       "      <td>9</td>\n",
       "      <td>9066.666667</td>\n",
       "    </tr>\n",
       "    <tr>\n",
       "      <td>40239</td>\n",
       "      <td>8750</td>\n",
       "      <td>2008</td>\n",
       "      <td>toyota highlander</td>\n",
       "      <td>3</td>\n",
       "      <td>6</td>\n",
       "      <td>gas</td>\n",
       "      <td>164250.0</td>\n",
       "      <td>automatic</td>\n",
       "      <td>SUV</td>\n",
       "      <td>black</td>\n",
       "      <td>1.0</td>\n",
       "      <td>2018-11-08</td>\n",
       "      <td>113</td>\n",
       "      <td>True</td>\n",
       "      <td>3</td>\n",
       "      <td>11</td>\n",
       "      <td>14931.818182</td>\n",
       "    </tr>\n",
       "    <tr>\n",
       "      <td>31725</td>\n",
       "      <td>5700</td>\n",
       "      <td>2011</td>\n",
       "      <td>kia soul</td>\n",
       "      <td>2</td>\n",
       "      <td>4</td>\n",
       "      <td>gas</td>\n",
       "      <td>128400.0</td>\n",
       "      <td>automatic</td>\n",
       "      <td>wagon</td>\n",
       "      <td>unknown</td>\n",
       "      <td>0.0</td>\n",
       "      <td>2018-09-23</td>\n",
       "      <td>25</td>\n",
       "      <td>False</td>\n",
       "      <td>6</td>\n",
       "      <td>8</td>\n",
       "      <td>16050.000000</td>\n",
       "    </tr>\n",
       "    <tr>\n",
       "      <td>38636</td>\n",
       "      <td>5300</td>\n",
       "      <td>2004</td>\n",
       "      <td>toyota camry</td>\n",
       "      <td>3</td>\n",
       "      <td>4</td>\n",
       "      <td>gas</td>\n",
       "      <td>77000.0</td>\n",
       "      <td>automatic</td>\n",
       "      <td>sedan</td>\n",
       "      <td>green</td>\n",
       "      <td>0.0</td>\n",
       "      <td>2019-03-03</td>\n",
       "      <td>52</td>\n",
       "      <td>False</td>\n",
       "      <td>6</td>\n",
       "      <td>16</td>\n",
       "      <td>4812.500000</td>\n",
       "    </tr>\n",
       "    <tr>\n",
       "      <td>51273</td>\n",
       "      <td>3000</td>\n",
       "      <td>2010</td>\n",
       "      <td>kia soul</td>\n",
       "      <td>2</td>\n",
       "      <td>4</td>\n",
       "      <td>gas</td>\n",
       "      <td>122050.0</td>\n",
       "      <td>automatic</td>\n",
       "      <td>hatchback</td>\n",
       "      <td>silver</td>\n",
       "      <td>0.0</td>\n",
       "      <td>2018-08-05</td>\n",
       "      <td>55</td>\n",
       "      <td>False</td>\n",
       "      <td>6</td>\n",
       "      <td>9</td>\n",
       "      <td>13561.111111</td>\n",
       "    </tr>\n",
       "    <tr>\n",
       "      <td>44139</td>\n",
       "      <td>2575</td>\n",
       "      <td>2003</td>\n",
       "      <td>jeep grand cherokee</td>\n",
       "      <td>3</td>\n",
       "      <td>6</td>\n",
       "      <td>gas</td>\n",
       "      <td>225943.0</td>\n",
       "      <td>automatic</td>\n",
       "      <td>SUV</td>\n",
       "      <td>red</td>\n",
       "      <td>1.0</td>\n",
       "      <td>2019-02-01</td>\n",
       "      <td>19</td>\n",
       "      <td>True</td>\n",
       "      <td>4</td>\n",
       "      <td>17</td>\n",
       "      <td>13290.764706</td>\n",
       "    </tr>\n",
       "    <tr>\n",
       "      <td>41352</td>\n",
       "      <td>5750</td>\n",
       "      <td>2006</td>\n",
       "      <td>subaru impreza</td>\n",
       "      <td>3</td>\n",
       "      <td>4</td>\n",
       "      <td>gas</td>\n",
       "      <td>134920.0</td>\n",
       "      <td>manual</td>\n",
       "      <td>hatchback</td>\n",
       "      <td>unknown</td>\n",
       "      <td>1.0</td>\n",
       "      <td>2018-07-02</td>\n",
       "      <td>3</td>\n",
       "      <td>True</td>\n",
       "      <td>0</td>\n",
       "      <td>13</td>\n",
       "      <td>10378.461538</td>\n",
       "    </tr>\n",
       "  </tbody>\n",
       "</table>\n",
       "</div>"
      ],
      "text/plain": [
       "       price  model_year                model  condition  cylinders fuel  \\\n",
       "35905   2750        2003     chevrolet malibu          3          6  gas   \n",
       "47645   6995        2010         toyota camry          3          4  gas   \n",
       "6387    8995        2011         jeep liberty          2          6  gas   \n",
       "28402   8200        2010         toyota camry          3          6  gas   \n",
       "40239   8750        2008    toyota highlander          3          6  gas   \n",
       "31725   5700        2011             kia soul          2          4  gas   \n",
       "38636   5300        2004         toyota camry          3          4  gas   \n",
       "51273   3000        2010             kia soul          2          4  gas   \n",
       "44139   2575        2003  jeep grand cherokee          3          6  gas   \n",
       "41352   5750        2006       subaru impreza          3          4  gas   \n",
       "\n",
       "       odometer transmission       type paint_color  is_4wd date_posted  \\\n",
       "35905  184000.0    automatic      sedan     unknown     0.0  2018-05-10   \n",
       "47645  105000.0    automatic      sedan        grey     0.0  2019-02-05   \n",
       "6387    89065.0    automatic      other       brown     1.0  2019-04-08   \n",
       "28402   81600.0    automatic      sedan      silver     0.0  2018-12-23   \n",
       "40239  164250.0    automatic        SUV       black     1.0  2018-11-08   \n",
       "31725  128400.0    automatic      wagon     unknown     0.0  2018-09-23   \n",
       "38636   77000.0    automatic      sedan       green     0.0  2019-03-03   \n",
       "51273  122050.0    automatic  hatchback      silver     0.0  2018-08-05   \n",
       "44139  225943.0    automatic        SUV         red     1.0  2019-02-01   \n",
       "41352  134920.0       manual  hatchback     unknown     1.0  2018-07-02   \n",
       "\n",
       "       days_listed  is_4wd   weekday  vehicle_age     av_mil_py  \n",
       "35905           35    False        3           16  11500.000000  \n",
       "47645           33    False        1           10  10500.000000  \n",
       "6387            23     True        0            9   9896.111111  \n",
       "28402           37    False        6            9   9066.666667  \n",
       "40239          113     True        3           11  14931.818182  \n",
       "31725           25    False        6            8  16050.000000  \n",
       "38636           52    False        6           16   4812.500000  \n",
       "51273           55    False        6            9  13561.111111  \n",
       "44139           19     True        4           17  13290.764706  \n",
       "41352            3     True        0           13  10378.461538  "
      ]
     },
     "execution_count": 163,
     "metadata": {},
     "output_type": "execute_result"
    }
   ],
   "source": [
    "# print a sample of data\n",
    "data.sample(10)\n"
   ]
  },
  {
   "cell_type": "markdown",
   "metadata": {},
   "source": [
    "## Study core parameters\n",
    "\n",
    "[Choose an appropriate approach to study the parameters listed below, pay special attention to how outliers affect the form and readability of the histograms.]\n",
    "\n",
    "The parameters are\n",
    "- Price\n",
    "- The vehicle's age when the ad was placed\n",
    "- Mileage\n",
    "- Number of cylinders\n",
    "- Condition"
   ]
  },
  {
   "cell_type": "markdown",
   "metadata": {},
   "source": [
    "[If you find that you need to repeat the same jobs multiple times, think about what coding instrument might be helpful for such a thing to avoid duplicating your code.]"
   ]
  },
  {
   "cell_type": "markdown",
   "metadata": {},
   "source": [
    "# looking at price"
   ]
  },
  {
   "cell_type": "code",
   "execution_count": 164,
   "metadata": {},
   "outputs": [
    {
     "data": {
      "image/png": "[encoded data removed]",
      "text/plain": [
       "<Figure size 432x288 with 1 Axes>"
      ]
     },
     "metadata": {
      "needs_background": "light"
     },
     "output_type": "display_data"
    }
   ],
   "source": [
    "\n",
    "data.hist('price',bins=30, range=(0,80000));\n"
   ]
  },
  {
   "cell_type": "markdown",
   "metadata": {},
   "source": [
    "<div class=\"alert alert-block alert-warning\">\n",
    "<b>Reviewer's comment v1:</b>\n",
    "    \n",
    "In order not to show auxiliary python outputs like \"matplotlib.axes._subplots.AxesSubplot at 0x7f5feaf7fc90 ', you can add a semicolon or plt.show () at the end of the line."
   ]
  },
  {
   "cell_type": "code",
   "execution_count": 165,
   "metadata": {
    "scrolled": true
   },
   "outputs": [
    {
     "data": {
      "text/plain": [
       "1404"
      ]
     },
     "execution_count": 165,
     "metadata": {},
     "output_type": "execute_result"
    }
   ],
   "source": [
    "data.query('price<1000').shape[0]"
   ]
  },
  {
   "cell_type": "markdown",
   "metadata": {},
   "source": [
    "**There are 1404 cars under the price of 1000 it is very unlikely, seems to be an outlier**"
   ]
  },
  {
   "cell_type": "code",
   "execution_count": 166,
   "metadata": {
    "scrolled": true
   },
   "outputs": [
    {
     "data": {
      "image/png": "[encoded data removed]",
      "text/plain": [
       "<Figure size 432x288 with 1 Axes>"
      ]
     },
     "metadata": {
      "needs_background": "light"
     },
     "output_type": "display_data"
    }
   ],
   "source": [
    "data.hist('vehicle_age',bins=20, range=(0,50));\n",
    "\n"
   ]
  },
  {
   "cell_type": "code",
   "execution_count": 167,
   "metadata": {
    "scrolled": true
   },
   "outputs": [
    {
     "data": {
      "image/png": "[encoded data removed]",
      "text/plain": [
       "<Figure size 432x288 with 1 Axes>"
      ]
     },
     "metadata": {
      "needs_background": "light"
     },
     "output_type": "display_data"
    }
   ],
   "source": [
    "data['av_mil_py'].plot(kind=\"hist\",bins=20, range=(0,110000), title=\"mileage_per_year\");"
   ]
  },
  {
   "cell_type": "code",
   "execution_count": 168,
   "metadata": {
    "scrolled": true
   },
   "outputs": [
    {
     "data": {
      "text/plain": [
       "1011"
      ]
     },
     "execution_count": 168,
     "metadata": {},
     "output_type": "execute_result"
    }
   ],
   "source": [
    "data.query('av_mil_py<1000').shape[0]"
   ]
  },
  {
   "cell_type": "markdown",
   "metadata": {},
   "source": [
    "**There are 916 cars under 1000 milage per year, highly unlikely seems to be an outlier**"
   ]
  },
  {
   "cell_type": "code",
   "execution_count": 169,
   "metadata": {},
   "outputs": [
    {
     "data": {
      "image/png": "[encoded data removed]",
      "text/plain": [
       "<Figure size 432x288 with 1 Axes>"
      ]
     },
     "metadata": {
      "needs_background": "light"
     },
     "output_type": "display_data"
    }
   ],
   "source": [
    "#\n",
    "data.hist('odometer',bins=20, range=(0,450000));\n"
   ]
  },
  {
   "cell_type": "code",
   "execution_count": 170,
   "metadata": {},
   "outputs": [
    {
     "data": {
      "image/png": "[encoded data removed]",
      "text/plain": [
       "<Figure size 432x288 with 1 Axes>"
      ]
     },
     "metadata": {
      "needs_background": "light"
     },
     "output_type": "display_data"
    }
   ],
   "source": [
    "#\n",
    "data.hist('cylinders',bins=8, range=(2,10));\n"
   ]
  },
  {
   "cell_type": "code",
   "execution_count": 171,
   "metadata": {},
   "outputs": [
    {
     "data": {
      "image/png": "[encoded data removed]",
      "text/plain": [
       "<Figure size 432x288 with 1 Axes>"
      ]
     },
     "metadata": {
      "needs_background": "light"
     },
     "output_type": "display_data"
    }
   ],
   "source": [
    "#\n",
    "data.hist('condition',bins=5, range=(0,5));\n"
   ]
  },
  {
   "cell_type": "code",
   "execution_count": 172,
   "metadata": {},
   "outputs": [
    {
     "data": {
      "text/plain": [
       "62"
      ]
     },
     "execution_count": 172,
     "metadata": {},
     "output_type": "execute_result"
    }
   ],
   "source": [
    "\n",
    "data.query(\"model_year<2018 and condition==5\").shape[0]\n",
    "\n"
   ]
  },
  {
   "cell_type": "markdown",
   "metadata": {},
   "source": [
    "**There are 62 cars that are new by condition but are older than 2018 seems to be an outlier**"
   ]
  },
  {
   "cell_type": "markdown",
   "metadata": {},
   "source": [
    "<div class=\"alert alert-block alert-success\">\n",
    "<b>Reviewer's comment v1:</b>\n",
    "    \n",
    "Great! Very detailed data analysis."
   ]
  },
  {
   "cell_type": "markdown",
   "metadata": {},
   "source": [
    "## Study and treat outliers\n",
    "\n",
    "[Given the results above, determine what columns may contain outliers, and create a DataFrame without those outliers. Hint: Outliers can be identified by defining the lower/upper limits for normal range of values.]"
   ]
  },
  {
   "cell_type": "markdown",
   "metadata": {},
   "source": [
    "**outliers- based on abovementioned observations:**\n",
    "- price<1000\n",
    "- milage per year<1000\n",
    "- model_year<2018 and condition==5"
   ]
  },
  {
   "cell_type": "code",
   "execution_count": 173,
   "metadata": {},
   "outputs": [],
   "source": [
    "##good_data=data.query(\"price>=1000 and av_mil_py>=1000 or model_year>=2018 and condition !=5 \")"
   ]
  },
  {
   "cell_type": "code",
   "execution_count": 174,
   "metadata": {},
   "outputs": [
    {
     "data": {
      "text/plain": [
       "49089"
      ]
     },
     "execution_count": 174,
     "metadata": {},
     "output_type": "execute_result"
    }
   ],
   "source": [
    "# Determine the lower limits for outliers\n",
    "good_data=data.query(\"price>=1000 and av_mil_py>=1000\")\n",
    "good_data.shape[0]"
   ]
  },
  {
   "cell_type": "code",
   "execution_count": 175,
   "metadata": {},
   "outputs": [
    {
     "data": {
      "text/plain": [
       "2408"
      ]
     },
     "execution_count": 175,
     "metadata": {},
     "output_type": "execute_result"
    }
   ],
   "source": [
    "# Determine the upper limits for outliers\n",
    "outlier_df=data.loc[(data[\"price\"]<1000) | (data[\"av_mil_py\"]<1000)|((data[\"model_year\"]<2018) & (data[\"condition\"]==5))]\n",
    "outlier_df.shape[0]"
   ]
  },
  {
   "cell_type": "code",
   "execution_count": 176,
   "metadata": {},
   "outputs": [],
   "source": [
    "# Store data without outliers in a separate DataFrame\n",
    "\n"
   ]
  },
  {
   "cell_type": "markdown",
   "metadata": {},
   "source": [
    "## Study core parameters without outliers"
   ]
  },
  {
   "cell_type": "markdown",
   "metadata": {},
   "source": [
    "[Use the filtered data to make new plots. Compare with the earlier ones (that included outliers). Draw conclusions for each.]"
   ]
  },
  {
   "cell_type": "code",
   "execution_count": 177,
   "metadata": {},
   "outputs": [
    {
     "data": {
      "image/png": "[encoded data removed]",
      "text/plain": [
       "<Figure size 432x288 with 1 Axes>"
      ]
     },
     "metadata": {
      "needs_background": "light"
     },
     "output_type": "display_data"
    }
   ],
   "source": [
    "data['price'].hist(bins=30, range=(0,80000));\n",
    "good_data['price'].hist(bins=30, range=(0,80000));"
   ]
  },
  {
   "cell_type": "code",
   "execution_count": 178,
   "metadata": {},
   "outputs": [
    {
     "data": {
      "image/png": "[encoded data removed]",
      "text/plain": [
       "<Figure size 432x288 with 1 Axes>"
      ]
     },
     "metadata": {
      "needs_background": "light"
     },
     "output_type": "display_data"
    }
   ],
   "source": [
    "data['odometer'].hist(bins=30, range=(0,400000));\n",
    "good_data['odometer'].hist(bins=30, range=(0,400000));"
   ]
  },
  {
   "cell_type": "markdown",
   "metadata": {},
   "source": [
    "## Ads lifetime\n",
    "\n",
    "[Study how many days advertisements were displayed (`days_listed`). Calculate the mean and median. Describe the typical lifetime of an ad. Determine when ads were removed quickly, and when they were listed for an abnormally long time.]"
   ]
  },
  {
   "cell_type": "code",
   "execution_count": 179,
   "metadata": {
    "scrolled": true
   },
   "outputs": [
    {
     "data": {
      "image/png": "[encoded data removed]",
      "text/plain": [
       "<Figure size 432x288 with 1 Axes>"
      ]
     },
     "metadata": {
      "needs_background": "light"
     },
     "output_type": "display_data"
    }
   ],
   "source": [
    "good_data['days_listed'].hist(bins=30, range=(0,270));\n",
    "\n"
   ]
  },
  {
   "cell_type": "code",
   "execution_count": 180,
   "metadata": {},
   "outputs": [
    {
     "name": "stdout",
     "output_type": "stream",
     "text": [
      "The mean of days_listed is: 39.59 and the median is: 33.00\n"
     ]
    }
   ],
   "source": [
    "dl_mean=good_data['days_listed'].mean()\n",
    "dl_median=good_data['days_listed'].median()\n",
    "print(f\"The mean of days_listed is: {dl_mean:.2f} and the median is: {dl_median:.2f}\")"
   ]
  },
  {
   "cell_type": "code",
   "execution_count": 181,
   "metadata": {},
   "outputs": [],
   "source": [
    "#Describe the typical lifetime of an ad. \n",
    "#Determine when ads were removed quickly, and when they were listed for an abnormally long time."
   ]
  },
  {
   "cell_type": "code",
   "execution_count": 182,
   "metadata": {},
   "outputs": [
    {
     "data": {
      "text/html": [
       "<div>\n",
       "<style scoped>\n",
       "    .dataframe tbody tr th:only-of-type {\n",
       "        vertical-align: middle;\n",
       "    }\n",
       "\n",
       "    .dataframe tbody tr th {\n",
       "        vertical-align: top;\n",
       "    }\n",
       "\n",
       "    .dataframe thead th {\n",
       "        text-align: right;\n",
       "    }\n",
       "</style>\n",
       "<table border=\"1\" class=\"dataframe\">\n",
       "  <thead>\n",
       "    <tr style=\"text-align: right;\">\n",
       "      <th></th>\n",
       "      <th>price</th>\n",
       "      <th>model_year</th>\n",
       "      <th>model</th>\n",
       "      <th>condition</th>\n",
       "      <th>cylinders</th>\n",
       "      <th>fuel</th>\n",
       "      <th>odometer</th>\n",
       "      <th>transmission</th>\n",
       "      <th>type</th>\n",
       "      <th>paint_color</th>\n",
       "      <th>is_4wd</th>\n",
       "      <th>date_posted</th>\n",
       "      <th>days_listed</th>\n",
       "      <th>is_4wd</th>\n",
       "      <th>weekday</th>\n",
       "      <th>vehicle_age</th>\n",
       "      <th>av_mil_py</th>\n",
       "    </tr>\n",
       "  </thead>\n",
       "  <tbody>\n",
       "    <tr>\n",
       "      <td>1247</td>\n",
       "      <td>14995</td>\n",
       "      <td>2008</td>\n",
       "      <td>chevrolet silverado 1500</td>\n",
       "      <td>3</td>\n",
       "      <td>8</td>\n",
       "      <td>gas</td>\n",
       "      <td>93300.0</td>\n",
       "      <td>automatic</td>\n",
       "      <td>truck</td>\n",
       "      <td>grey</td>\n",
       "      <td>1.0</td>\n",
       "      <td>2018-05-15</td>\n",
       "      <td>0</td>\n",
       "      <td>True</td>\n",
       "      <td>1</td>\n",
       "      <td>11</td>\n",
       "      <td>8481.818182</td>\n",
       "    </tr>\n",
       "    <tr>\n",
       "      <td>1711</td>\n",
       "      <td>59589</td>\n",
       "      <td>2019</td>\n",
       "      <td>chevrolet silverado 2500hd</td>\n",
       "      <td>3</td>\n",
       "      <td>8</td>\n",
       "      <td>diesel</td>\n",
       "      <td>12673.0</td>\n",
       "      <td>automatic</td>\n",
       "      <td>truck</td>\n",
       "      <td>white</td>\n",
       "      <td>1.0</td>\n",
       "      <td>2019-01-13</td>\n",
       "      <td>0</td>\n",
       "      <td>True</td>\n",
       "      <td>6</td>\n",
       "      <td>1</td>\n",
       "      <td>12673.000000</td>\n",
       "    </tr>\n",
       "    <tr>\n",
       "      <td>1983</td>\n",
       "      <td>14000</td>\n",
       "      <td>1999</td>\n",
       "      <td>ford f250</td>\n",
       "      <td>3</td>\n",
       "      <td>8</td>\n",
       "      <td>diesel</td>\n",
       "      <td>137500.0</td>\n",
       "      <td>automatic</td>\n",
       "      <td>truck</td>\n",
       "      <td>red</td>\n",
       "      <td>1.0</td>\n",
       "      <td>2018-09-27</td>\n",
       "      <td>0</td>\n",
       "      <td>True</td>\n",
       "      <td>3</td>\n",
       "      <td>20</td>\n",
       "      <td>6875.000000</td>\n",
       "    </tr>\n",
       "    <tr>\n",
       "      <td>2883</td>\n",
       "      <td>4000</td>\n",
       "      <td>2004</td>\n",
       "      <td>ram 1500</td>\n",
       "      <td>3</td>\n",
       "      <td>8</td>\n",
       "      <td>gas</td>\n",
       "      <td>250000.0</td>\n",
       "      <td>automatic</td>\n",
       "      <td>truck</td>\n",
       "      <td>brown</td>\n",
       "      <td>1.0</td>\n",
       "      <td>2018-08-13</td>\n",
       "      <td>0</td>\n",
       "      <td>True</td>\n",
       "      <td>0</td>\n",
       "      <td>15</td>\n",
       "      <td>16666.666667</td>\n",
       "    </tr>\n",
       "    <tr>\n",
       "      <td>4567</td>\n",
       "      <td>5000</td>\n",
       "      <td>2007</td>\n",
       "      <td>toyota corolla</td>\n",
       "      <td>2</td>\n",
       "      <td>4</td>\n",
       "      <td>gas</td>\n",
       "      <td>223000.0</td>\n",
       "      <td>manual</td>\n",
       "      <td>sedan</td>\n",
       "      <td>silver</td>\n",
       "      <td>0.0</td>\n",
       "      <td>2018-07-11</td>\n",
       "      <td>0</td>\n",
       "      <td>False</td>\n",
       "      <td>2</td>\n",
       "      <td>12</td>\n",
       "      <td>18583.333333</td>\n",
       "    </tr>\n",
       "    <tr>\n",
       "      <td>4901</td>\n",
       "      <td>12500</td>\n",
       "      <td>2001</td>\n",
       "      <td>ram 1500</td>\n",
       "      <td>2</td>\n",
       "      <td>8</td>\n",
       "      <td>gas</td>\n",
       "      <td>99892.0</td>\n",
       "      <td>automatic</td>\n",
       "      <td>truck</td>\n",
       "      <td>black</td>\n",
       "      <td>1.0</td>\n",
       "      <td>2018-05-11</td>\n",
       "      <td>0</td>\n",
       "      <td>True</td>\n",
       "      <td>4</td>\n",
       "      <td>18</td>\n",
       "      <td>5549.555556</td>\n",
       "    </tr>\n",
       "    <tr>\n",
       "      <td>6548</td>\n",
       "      <td>4800</td>\n",
       "      <td>2007</td>\n",
       "      <td>honda odyssey</td>\n",
       "      <td>2</td>\n",
       "      <td>6</td>\n",
       "      <td>gas</td>\n",
       "      <td>152400.0</td>\n",
       "      <td>automatic</td>\n",
       "      <td>mini-van</td>\n",
       "      <td>brown</td>\n",
       "      <td>0.0</td>\n",
       "      <td>2018-09-25</td>\n",
       "      <td>0</td>\n",
       "      <td>False</td>\n",
       "      <td>1</td>\n",
       "      <td>12</td>\n",
       "      <td>12700.000000</td>\n",
       "    </tr>\n",
       "    <tr>\n",
       "      <td>7036</td>\n",
       "      <td>5900</td>\n",
       "      <td>2007</td>\n",
       "      <td>jeep grand cherokee laredo</td>\n",
       "      <td>3</td>\n",
       "      <td>6</td>\n",
       "      <td>gas</td>\n",
       "      <td>132579.5</td>\n",
       "      <td>automatic</td>\n",
       "      <td>SUV</td>\n",
       "      <td>grey</td>\n",
       "      <td>1.0</td>\n",
       "      <td>2018-07-21</td>\n",
       "      <td>0</td>\n",
       "      <td>True</td>\n",
       "      <td>5</td>\n",
       "      <td>12</td>\n",
       "      <td>11048.291667</td>\n",
       "    </tr>\n",
       "    <tr>\n",
       "      <td>9607</td>\n",
       "      <td>4999</td>\n",
       "      <td>2012</td>\n",
       "      <td>nissan sentra</td>\n",
       "      <td>3</td>\n",
       "      <td>4</td>\n",
       "      <td>gas</td>\n",
       "      <td>125000.0</td>\n",
       "      <td>automatic</td>\n",
       "      <td>sedan</td>\n",
       "      <td>silver</td>\n",
       "      <td>0.0</td>\n",
       "      <td>2019-03-26</td>\n",
       "      <td>0</td>\n",
       "      <td>False</td>\n",
       "      <td>1</td>\n",
       "      <td>8</td>\n",
       "      <td>15625.000000</td>\n",
       "    </tr>\n",
       "    <tr>\n",
       "      <td>9732</td>\n",
       "      <td>15000</td>\n",
       "      <td>2003</td>\n",
       "      <td>ford f-150</td>\n",
       "      <td>2</td>\n",
       "      <td>8</td>\n",
       "      <td>gas</td>\n",
       "      <td>90048.0</td>\n",
       "      <td>automatic</td>\n",
       "      <td>truck</td>\n",
       "      <td>black</td>\n",
       "      <td>0.0</td>\n",
       "      <td>2018-09-21</td>\n",
       "      <td>0</td>\n",
       "      <td>False</td>\n",
       "      <td>4</td>\n",
       "      <td>16</td>\n",
       "      <td>5628.000000</td>\n",
       "    </tr>\n",
       "    <tr>\n",
       "      <td>10722</td>\n",
       "      <td>3100</td>\n",
       "      <td>2000</td>\n",
       "      <td>chevrolet silverado</td>\n",
       "      <td>2</td>\n",
       "      <td>8</td>\n",
       "      <td>gas</td>\n",
       "      <td>211000.0</td>\n",
       "      <td>automatic</td>\n",
       "      <td>truck</td>\n",
       "      <td>white</td>\n",
       "      <td>0.0</td>\n",
       "      <td>2018-07-06</td>\n",
       "      <td>0</td>\n",
       "      <td>False</td>\n",
       "      <td>4</td>\n",
       "      <td>19</td>\n",
       "      <td>11105.263158</td>\n",
       "    </tr>\n",
       "    <tr>\n",
       "      <td>12869</td>\n",
       "      <td>21997</td>\n",
       "      <td>2014</td>\n",
       "      <td>honda pilot</td>\n",
       "      <td>3</td>\n",
       "      <td>6</td>\n",
       "      <td>gas</td>\n",
       "      <td>37093.0</td>\n",
       "      <td>automatic</td>\n",
       "      <td>SUV</td>\n",
       "      <td>silver</td>\n",
       "      <td>1.0</td>\n",
       "      <td>2019-03-04</td>\n",
       "      <td>0</td>\n",
       "      <td>True</td>\n",
       "      <td>0</td>\n",
       "      <td>6</td>\n",
       "      <td>6182.166667</td>\n",
       "    </tr>\n",
       "    <tr>\n",
       "      <td>14088</td>\n",
       "      <td>10500</td>\n",
       "      <td>2005</td>\n",
       "      <td>gmc sierra 1500</td>\n",
       "      <td>3</td>\n",
       "      <td>8</td>\n",
       "      <td>gas</td>\n",
       "      <td>190000.0</td>\n",
       "      <td>automatic</td>\n",
       "      <td>pickup</td>\n",
       "      <td>black</td>\n",
       "      <td>1.0</td>\n",
       "      <td>2019-02-06</td>\n",
       "      <td>0</td>\n",
       "      <td>True</td>\n",
       "      <td>2</td>\n",
       "      <td>15</td>\n",
       "      <td>12666.666667</td>\n",
       "    </tr>\n",
       "    <tr>\n",
       "      <td>14446</td>\n",
       "      <td>17995</td>\n",
       "      <td>2011</td>\n",
       "      <td>ford f250</td>\n",
       "      <td>2</td>\n",
       "      <td>8</td>\n",
       "      <td>gas</td>\n",
       "      <td>75465.0</td>\n",
       "      <td>automatic</td>\n",
       "      <td>truck</td>\n",
       "      <td>white</td>\n",
       "      <td>1.0</td>\n",
       "      <td>2018-09-09</td>\n",
       "      <td>0</td>\n",
       "      <td>True</td>\n",
       "      <td>6</td>\n",
       "      <td>8</td>\n",
       "      <td>9433.125000</td>\n",
       "    </tr>\n",
       "    <tr>\n",
       "      <td>16046</td>\n",
       "      <td>8200</td>\n",
       "      <td>2014</td>\n",
       "      <td>honda accord</td>\n",
       "      <td>3</td>\n",
       "      <td>4</td>\n",
       "      <td>gas</td>\n",
       "      <td>121000.0</td>\n",
       "      <td>automatic</td>\n",
       "      <td>sedan</td>\n",
       "      <td>silver</td>\n",
       "      <td>0.0</td>\n",
       "      <td>2018-05-31</td>\n",
       "      <td>0</td>\n",
       "      <td>False</td>\n",
       "      <td>3</td>\n",
       "      <td>5</td>\n",
       "      <td>24200.000000</td>\n",
       "    </tr>\n",
       "    <tr>\n",
       "      <td>16138</td>\n",
       "      <td>3650</td>\n",
       "      <td>2013</td>\n",
       "      <td>kia soul</td>\n",
       "      <td>2</td>\n",
       "      <td>4</td>\n",
       "      <td>gas</td>\n",
       "      <td>108005.0</td>\n",
       "      <td>manual</td>\n",
       "      <td>hatchback</td>\n",
       "      <td>grey</td>\n",
       "      <td>0.0</td>\n",
       "      <td>2019-01-27</td>\n",
       "      <td>0</td>\n",
       "      <td>False</td>\n",
       "      <td>6</td>\n",
       "      <td>7</td>\n",
       "      <td>15429.285714</td>\n",
       "    </tr>\n",
       "    <tr>\n",
       "      <td>16210</td>\n",
       "      <td>13995</td>\n",
       "      <td>2008</td>\n",
       "      <td>toyota 4runner</td>\n",
       "      <td>3</td>\n",
       "      <td>6</td>\n",
       "      <td>gas</td>\n",
       "      <td>166988.0</td>\n",
       "      <td>automatic</td>\n",
       "      <td>SUV</td>\n",
       "      <td>unknown</td>\n",
       "      <td>1.0</td>\n",
       "      <td>2018-07-17</td>\n",
       "      <td>0</td>\n",
       "      <td>True</td>\n",
       "      <td>1</td>\n",
       "      <td>11</td>\n",
       "      <td>15180.727273</td>\n",
       "    </tr>\n",
       "    <tr>\n",
       "      <td>16612</td>\n",
       "      <td>11900</td>\n",
       "      <td>2008</td>\n",
       "      <td>ford f250 super duty</td>\n",
       "      <td>2</td>\n",
       "      <td>8</td>\n",
       "      <td>gas</td>\n",
       "      <td>120971.0</td>\n",
       "      <td>automatic</td>\n",
       "      <td>pickup</td>\n",
       "      <td>white</td>\n",
       "      <td>0.0</td>\n",
       "      <td>2018-06-18</td>\n",
       "      <td>0</td>\n",
       "      <td>False</td>\n",
       "      <td>0</td>\n",
       "      <td>11</td>\n",
       "      <td>10997.363636</td>\n",
       "    </tr>\n",
       "    <tr>\n",
       "      <td>17339</td>\n",
       "      <td>7800</td>\n",
       "      <td>2009</td>\n",
       "      <td>gmc sierra</td>\n",
       "      <td>3</td>\n",
       "      <td>6</td>\n",
       "      <td>gas</td>\n",
       "      <td>142000.0</td>\n",
       "      <td>automatic</td>\n",
       "      <td>truck</td>\n",
       "      <td>red</td>\n",
       "      <td>0.0</td>\n",
       "      <td>2018-07-05</td>\n",
       "      <td>0</td>\n",
       "      <td>False</td>\n",
       "      <td>3</td>\n",
       "      <td>10</td>\n",
       "      <td>14200.000000</td>\n",
       "    </tr>\n",
       "    <tr>\n",
       "      <td>17944</td>\n",
       "      <td>14995</td>\n",
       "      <td>2008</td>\n",
       "      <td>ford f350 super duty</td>\n",
       "      <td>3</td>\n",
       "      <td>8</td>\n",
       "      <td>gas</td>\n",
       "      <td>126650.0</td>\n",
       "      <td>automatic</td>\n",
       "      <td>truck</td>\n",
       "      <td>white</td>\n",
       "      <td>0.0</td>\n",
       "      <td>2019-03-15</td>\n",
       "      <td>0</td>\n",
       "      <td>False</td>\n",
       "      <td>4</td>\n",
       "      <td>12</td>\n",
       "      <td>10554.166667</td>\n",
       "    </tr>\n",
       "    <tr>\n",
       "      <td>19070</td>\n",
       "      <td>29999</td>\n",
       "      <td>2011</td>\n",
       "      <td>ford econoline</td>\n",
       "      <td>4</td>\n",
       "      <td>10</td>\n",
       "      <td>gas</td>\n",
       "      <td>117000.0</td>\n",
       "      <td>automatic</td>\n",
       "      <td>van</td>\n",
       "      <td>white</td>\n",
       "      <td>0.0</td>\n",
       "      <td>2018-08-07</td>\n",
       "      <td>0</td>\n",
       "      <td>False</td>\n",
       "      <td>1</td>\n",
       "      <td>8</td>\n",
       "      <td>14625.000000</td>\n",
       "    </tr>\n",
       "    <tr>\n",
       "      <td>20817</td>\n",
       "      <td>11886</td>\n",
       "      <td>2017</td>\n",
       "      <td>ford fusion se</td>\n",
       "      <td>3</td>\n",
       "      <td>4</td>\n",
       "      <td>gas</td>\n",
       "      <td>72000.0</td>\n",
       "      <td>automatic</td>\n",
       "      <td>sedan</td>\n",
       "      <td>unknown</td>\n",
       "      <td>0.0</td>\n",
       "      <td>2018-10-16</td>\n",
       "      <td>0</td>\n",
       "      <td>False</td>\n",
       "      <td>1</td>\n",
       "      <td>2</td>\n",
       "      <td>36000.000000</td>\n",
       "    </tr>\n",
       "    <tr>\n",
       "      <td>21253</td>\n",
       "      <td>16995</td>\n",
       "      <td>2016</td>\n",
       "      <td>dodge grand caravan</td>\n",
       "      <td>3</td>\n",
       "      <td>6</td>\n",
       "      <td>gas</td>\n",
       "      <td>45677.0</td>\n",
       "      <td>automatic</td>\n",
       "      <td>van</td>\n",
       "      <td>grey</td>\n",
       "      <td>0.0</td>\n",
       "      <td>2018-09-02</td>\n",
       "      <td>0</td>\n",
       "      <td>False</td>\n",
       "      <td>6</td>\n",
       "      <td>3</td>\n",
       "      <td>15225.666667</td>\n",
       "    </tr>\n",
       "    <tr>\n",
       "      <td>21840</td>\n",
       "      <td>2950</td>\n",
       "      <td>2013</td>\n",
       "      <td>chevrolet malibu</td>\n",
       "      <td>2</td>\n",
       "      <td>4</td>\n",
       "      <td>gas</td>\n",
       "      <td>140000.0</td>\n",
       "      <td>automatic</td>\n",
       "      <td>sedan</td>\n",
       "      <td>unknown</td>\n",
       "      <td>0.0</td>\n",
       "      <td>2018-08-27</td>\n",
       "      <td>0</td>\n",
       "      <td>False</td>\n",
       "      <td>0</td>\n",
       "      <td>6</td>\n",
       "      <td>23333.333333</td>\n",
       "    </tr>\n",
       "    <tr>\n",
       "      <td>23195</td>\n",
       "      <td>7995</td>\n",
       "      <td>2013</td>\n",
       "      <td>toyota corolla</td>\n",
       "      <td>3</td>\n",
       "      <td>4</td>\n",
       "      <td>gas</td>\n",
       "      <td>102466.0</td>\n",
       "      <td>automatic</td>\n",
       "      <td>sedan</td>\n",
       "      <td>silver</td>\n",
       "      <td>0.0</td>\n",
       "      <td>2019-03-09</td>\n",
       "      <td>0</td>\n",
       "      <td>False</td>\n",
       "      <td>5</td>\n",
       "      <td>7</td>\n",
       "      <td>14638.000000</td>\n",
       "    </tr>\n",
       "    <tr>\n",
       "      <td>24144</td>\n",
       "      <td>39900</td>\n",
       "      <td>2018</td>\n",
       "      <td>toyota highlander</td>\n",
       "      <td>3</td>\n",
       "      <td>6</td>\n",
       "      <td>gas</td>\n",
       "      <td>7985.0</td>\n",
       "      <td>automatic</td>\n",
       "      <td>SUV</td>\n",
       "      <td>unknown</td>\n",
       "      <td>1.0</td>\n",
       "      <td>2018-05-20</td>\n",
       "      <td>0</td>\n",
       "      <td>True</td>\n",
       "      <td>6</td>\n",
       "      <td>1</td>\n",
       "      <td>7985.000000</td>\n",
       "    </tr>\n",
       "    <tr>\n",
       "      <td>25292</td>\n",
       "      <td>9950</td>\n",
       "      <td>2008</td>\n",
       "      <td>toyota tundra</td>\n",
       "      <td>2</td>\n",
       "      <td>6</td>\n",
       "      <td>gas</td>\n",
       "      <td>229000.0</td>\n",
       "      <td>automatic</td>\n",
       "      <td>truck</td>\n",
       "      <td>red</td>\n",
       "      <td>0.0</td>\n",
       "      <td>2019-04-16</td>\n",
       "      <td>0</td>\n",
       "      <td>False</td>\n",
       "      <td>1</td>\n",
       "      <td>12</td>\n",
       "      <td>19083.333333</td>\n",
       "    </tr>\n",
       "    <tr>\n",
       "      <td>26814</td>\n",
       "      <td>9995</td>\n",
       "      <td>2006</td>\n",
       "      <td>ram 1500</td>\n",
       "      <td>3</td>\n",
       "      <td>8</td>\n",
       "      <td>gas</td>\n",
       "      <td>101750.0</td>\n",
       "      <td>automatic</td>\n",
       "      <td>truck</td>\n",
       "      <td>black</td>\n",
       "      <td>1.0</td>\n",
       "      <td>2018-08-11</td>\n",
       "      <td>0</td>\n",
       "      <td>True</td>\n",
       "      <td>5</td>\n",
       "      <td>13</td>\n",
       "      <td>7826.923077</td>\n",
       "    </tr>\n",
       "    <tr>\n",
       "      <td>26876</td>\n",
       "      <td>8950</td>\n",
       "      <td>2005</td>\n",
       "      <td>chevrolet silverado 1500</td>\n",
       "      <td>2</td>\n",
       "      <td>8</td>\n",
       "      <td>gas</td>\n",
       "      <td>175788.0</td>\n",
       "      <td>automatic</td>\n",
       "      <td>truck</td>\n",
       "      <td>custom</td>\n",
       "      <td>1.0</td>\n",
       "      <td>2019-02-09</td>\n",
       "      <td>0</td>\n",
       "      <td>True</td>\n",
       "      <td>5</td>\n",
       "      <td>15</td>\n",
       "      <td>11719.200000</td>\n",
       "    </tr>\n",
       "    <tr>\n",
       "      <td>27137</td>\n",
       "      <td>10995</td>\n",
       "      <td>2010</td>\n",
       "      <td>chevrolet silverado 1500</td>\n",
       "      <td>2</td>\n",
       "      <td>8</td>\n",
       "      <td>gas</td>\n",
       "      <td>165178.0</td>\n",
       "      <td>automatic</td>\n",
       "      <td>truck</td>\n",
       "      <td>grey</td>\n",
       "      <td>1.0</td>\n",
       "      <td>2019-03-18</td>\n",
       "      <td>0</td>\n",
       "      <td>True</td>\n",
       "      <td>0</td>\n",
       "      <td>10</td>\n",
       "      <td>16517.800000</td>\n",
       "    </tr>\n",
       "    <tr>\n",
       "      <td>27833</td>\n",
       "      <td>2900</td>\n",
       "      <td>2009</td>\n",
       "      <td>honda civic</td>\n",
       "      <td>3</td>\n",
       "      <td>4</td>\n",
       "      <td>gas</td>\n",
       "      <td>190222.0</td>\n",
       "      <td>automatic</td>\n",
       "      <td>sedan</td>\n",
       "      <td>silver</td>\n",
       "      <td>0.0</td>\n",
       "      <td>2018-12-17</td>\n",
       "      <td>0</td>\n",
       "      <td>False</td>\n",
       "      <td>0</td>\n",
       "      <td>10</td>\n",
       "      <td>19022.200000</td>\n",
       "    </tr>\n",
       "    <tr>\n",
       "      <td>29377</td>\n",
       "      <td>9450</td>\n",
       "      <td>2014</td>\n",
       "      <td>kia sorento</td>\n",
       "      <td>3</td>\n",
       "      <td>4</td>\n",
       "      <td>gas</td>\n",
       "      <td>91776.0</td>\n",
       "      <td>automatic</td>\n",
       "      <td>SUV</td>\n",
       "      <td>silver</td>\n",
       "      <td>1.0</td>\n",
       "      <td>2018-08-27</td>\n",
       "      <td>0</td>\n",
       "      <td>True</td>\n",
       "      <td>0</td>\n",
       "      <td>5</td>\n",
       "      <td>18355.200000</td>\n",
       "    </tr>\n",
       "    <tr>\n",
       "      <td>30207</td>\n",
       "      <td>9995</td>\n",
       "      <td>2006</td>\n",
       "      <td>chevrolet silverado 1500</td>\n",
       "      <td>3</td>\n",
       "      <td>8</td>\n",
       "      <td>gas</td>\n",
       "      <td>115000.0</td>\n",
       "      <td>automatic</td>\n",
       "      <td>pickup</td>\n",
       "      <td>grey</td>\n",
       "      <td>1.0</td>\n",
       "      <td>2019-04-11</td>\n",
       "      <td>0</td>\n",
       "      <td>True</td>\n",
       "      <td>3</td>\n",
       "      <td>14</td>\n",
       "      <td>8214.285714</td>\n",
       "    </tr>\n",
       "    <tr>\n",
       "      <td>31268</td>\n",
       "      <td>26900</td>\n",
       "      <td>2014</td>\n",
       "      <td>chevrolet silverado 1500 crew</td>\n",
       "      <td>2</td>\n",
       "      <td>8</td>\n",
       "      <td>gas</td>\n",
       "      <td>68607.0</td>\n",
       "      <td>automatic</td>\n",
       "      <td>pickup</td>\n",
       "      <td>black</td>\n",
       "      <td>1.0</td>\n",
       "      <td>2018-12-31</td>\n",
       "      <td>0</td>\n",
       "      <td>True</td>\n",
       "      <td>0</td>\n",
       "      <td>5</td>\n",
       "      <td>13721.400000</td>\n",
       "    </tr>\n",
       "    <tr>\n",
       "      <td>31370</td>\n",
       "      <td>6200</td>\n",
       "      <td>2014</td>\n",
       "      <td>volkswagen jetta</td>\n",
       "      <td>4</td>\n",
       "      <td>4</td>\n",
       "      <td>gas</td>\n",
       "      <td>54000.0</td>\n",
       "      <td>manual</td>\n",
       "      <td>sedan</td>\n",
       "      <td>unknown</td>\n",
       "      <td>0.0</td>\n",
       "      <td>2018-09-03</td>\n",
       "      <td>0</td>\n",
       "      <td>False</td>\n",
       "      <td>0</td>\n",
       "      <td>5</td>\n",
       "      <td>10800.000000</td>\n",
       "    </tr>\n",
       "    <tr>\n",
       "      <td>32377</td>\n",
       "      <td>12500</td>\n",
       "      <td>2013</td>\n",
       "      <td>chrysler town &amp; country</td>\n",
       "      <td>4</td>\n",
       "      <td>6</td>\n",
       "      <td>gas</td>\n",
       "      <td>63778.0</td>\n",
       "      <td>automatic</td>\n",
       "      <td>mini-van</td>\n",
       "      <td>unknown</td>\n",
       "      <td>0.0</td>\n",
       "      <td>2018-09-23</td>\n",
       "      <td>0</td>\n",
       "      <td>False</td>\n",
       "      <td>6</td>\n",
       "      <td>6</td>\n",
       "      <td>10629.666667</td>\n",
       "    </tr>\n",
       "    <tr>\n",
       "      <td>33873</td>\n",
       "      <td>6995</td>\n",
       "      <td>2009</td>\n",
       "      <td>gmc acadia</td>\n",
       "      <td>2</td>\n",
       "      <td>6</td>\n",
       "      <td>gas</td>\n",
       "      <td>177676.0</td>\n",
       "      <td>automatic</td>\n",
       "      <td>SUV</td>\n",
       "      <td>custom</td>\n",
       "      <td>0.0</td>\n",
       "      <td>2018-09-16</td>\n",
       "      <td>0</td>\n",
       "      <td>False</td>\n",
       "      <td>6</td>\n",
       "      <td>10</td>\n",
       "      <td>17767.600000</td>\n",
       "    </tr>\n",
       "    <tr>\n",
       "      <td>35605</td>\n",
       "      <td>1500</td>\n",
       "      <td>1992</td>\n",
       "      <td>honda accord</td>\n",
       "      <td>2</td>\n",
       "      <td>4</td>\n",
       "      <td>gas</td>\n",
       "      <td>239199.0</td>\n",
       "      <td>automatic</td>\n",
       "      <td>sedan</td>\n",
       "      <td>red</td>\n",
       "      <td>0.0</td>\n",
       "      <td>2018-08-02</td>\n",
       "      <td>0</td>\n",
       "      <td>False</td>\n",
       "      <td>3</td>\n",
       "      <td>27</td>\n",
       "      <td>8859.222222</td>\n",
       "    </tr>\n",
       "    <tr>\n",
       "      <td>36265</td>\n",
       "      <td>24500</td>\n",
       "      <td>2018</td>\n",
       "      <td>chevrolet silverado</td>\n",
       "      <td>3</td>\n",
       "      <td>8</td>\n",
       "      <td>gas</td>\n",
       "      <td>30000.0</td>\n",
       "      <td>automatic</td>\n",
       "      <td>pickup</td>\n",
       "      <td>silver</td>\n",
       "      <td>1.0</td>\n",
       "      <td>2019-01-21</td>\n",
       "      <td>0</td>\n",
       "      <td>True</td>\n",
       "      <td>0</td>\n",
       "      <td>2</td>\n",
       "      <td>15000.000000</td>\n",
       "    </tr>\n",
       "    <tr>\n",
       "      <td>38822</td>\n",
       "      <td>17495</td>\n",
       "      <td>2018</td>\n",
       "      <td>chevrolet malibu</td>\n",
       "      <td>4</td>\n",
       "      <td>4</td>\n",
       "      <td>gas</td>\n",
       "      <td>16505.0</td>\n",
       "      <td>automatic</td>\n",
       "      <td>sedan</td>\n",
       "      <td>white</td>\n",
       "      <td>0.0</td>\n",
       "      <td>2018-06-12</td>\n",
       "      <td>0</td>\n",
       "      <td>False</td>\n",
       "      <td>1</td>\n",
       "      <td>1</td>\n",
       "      <td>16505.000000</td>\n",
       "    </tr>\n",
       "    <tr>\n",
       "      <td>39040</td>\n",
       "      <td>1900</td>\n",
       "      <td>2005</td>\n",
       "      <td>toyota prius</td>\n",
       "      <td>1</td>\n",
       "      <td>4</td>\n",
       "      <td>gas</td>\n",
       "      <td>160000.0</td>\n",
       "      <td>automatic</td>\n",
       "      <td>hatchback</td>\n",
       "      <td>grey</td>\n",
       "      <td>0.0</td>\n",
       "      <td>2018-05-29</td>\n",
       "      <td>0</td>\n",
       "      <td>False</td>\n",
       "      <td>1</td>\n",
       "      <td>14</td>\n",
       "      <td>11428.571429</td>\n",
       "    </tr>\n",
       "    <tr>\n",
       "      <td>39304</td>\n",
       "      <td>21100</td>\n",
       "      <td>2017</td>\n",
       "      <td>chevrolet camaro lt coupe 2d</td>\n",
       "      <td>2</td>\n",
       "      <td>6</td>\n",
       "      <td>gas</td>\n",
       "      <td>24510.0</td>\n",
       "      <td>other</td>\n",
       "      <td>coupe</td>\n",
       "      <td>red</td>\n",
       "      <td>0.0</td>\n",
       "      <td>2019-03-23</td>\n",
       "      <td>0</td>\n",
       "      <td>False</td>\n",
       "      <td>5</td>\n",
       "      <td>3</td>\n",
       "      <td>8170.000000</td>\n",
       "    </tr>\n",
       "    <tr>\n",
       "      <td>40101</td>\n",
       "      <td>5995</td>\n",
       "      <td>2003</td>\n",
       "      <td>jeep grand cherokee laredo</td>\n",
       "      <td>2</td>\n",
       "      <td>6</td>\n",
       "      <td>gas</td>\n",
       "      <td>137252.0</td>\n",
       "      <td>automatic</td>\n",
       "      <td>SUV</td>\n",
       "      <td>blue</td>\n",
       "      <td>1.0</td>\n",
       "      <td>2018-07-31</td>\n",
       "      <td>0</td>\n",
       "      <td>True</td>\n",
       "      <td>1</td>\n",
       "      <td>16</td>\n",
       "      <td>8578.250000</td>\n",
       "    </tr>\n",
       "    <tr>\n",
       "      <td>41369</td>\n",
       "      <td>2200</td>\n",
       "      <td>2000</td>\n",
       "      <td>toyota sienna</td>\n",
       "      <td>4</td>\n",
       "      <td>6</td>\n",
       "      <td>gas</td>\n",
       "      <td>152600.0</td>\n",
       "      <td>automatic</td>\n",
       "      <td>van</td>\n",
       "      <td>custom</td>\n",
       "      <td>0.0</td>\n",
       "      <td>2018-11-30</td>\n",
       "      <td>0</td>\n",
       "      <td>False</td>\n",
       "      <td>4</td>\n",
       "      <td>19</td>\n",
       "      <td>8031.578947</td>\n",
       "    </tr>\n",
       "    <tr>\n",
       "      <td>41940</td>\n",
       "      <td>1800</td>\n",
       "      <td>2002</td>\n",
       "      <td>honda civic</td>\n",
       "      <td>2</td>\n",
       "      <td>4</td>\n",
       "      <td>gas</td>\n",
       "      <td>238155.0</td>\n",
       "      <td>automatic</td>\n",
       "      <td>sedan</td>\n",
       "      <td>silver</td>\n",
       "      <td>0.0</td>\n",
       "      <td>2018-09-28</td>\n",
       "      <td>0</td>\n",
       "      <td>False</td>\n",
       "      <td>4</td>\n",
       "      <td>17</td>\n",
       "      <td>14009.117647</td>\n",
       "    </tr>\n",
       "    <tr>\n",
       "      <td>43581</td>\n",
       "      <td>12900</td>\n",
       "      <td>1987</td>\n",
       "      <td>chevrolet camaro</td>\n",
       "      <td>3</td>\n",
       "      <td>8</td>\n",
       "      <td>gas</td>\n",
       "      <td>107000.0</td>\n",
       "      <td>manual</td>\n",
       "      <td>coupe</td>\n",
       "      <td>black</td>\n",
       "      <td>0.0</td>\n",
       "      <td>2018-07-30</td>\n",
       "      <td>0</td>\n",
       "      <td>False</td>\n",
       "      <td>0</td>\n",
       "      <td>32</td>\n",
       "      <td>3343.750000</td>\n",
       "    </tr>\n",
       "    <tr>\n",
       "      <td>43590</td>\n",
       "      <td>2800</td>\n",
       "      <td>2003</td>\n",
       "      <td>ford mustang</td>\n",
       "      <td>1</td>\n",
       "      <td>6</td>\n",
       "      <td>gas</td>\n",
       "      <td>181000.0</td>\n",
       "      <td>automatic</td>\n",
       "      <td>coupe</td>\n",
       "      <td>silver</td>\n",
       "      <td>0.0</td>\n",
       "      <td>2018-10-23</td>\n",
       "      <td>0</td>\n",
       "      <td>False</td>\n",
       "      <td>1</td>\n",
       "      <td>16</td>\n",
       "      <td>11312.500000</td>\n",
       "    </tr>\n",
       "    <tr>\n",
       "      <td>44083</td>\n",
       "      <td>28699</td>\n",
       "      <td>2013</td>\n",
       "      <td>jeep wrangler unlimited</td>\n",
       "      <td>4</td>\n",
       "      <td>6</td>\n",
       "      <td>gas</td>\n",
       "      <td>34000.0</td>\n",
       "      <td>automatic</td>\n",
       "      <td>SUV</td>\n",
       "      <td>white</td>\n",
       "      <td>1.0</td>\n",
       "      <td>2018-08-12</td>\n",
       "      <td>0</td>\n",
       "      <td>True</td>\n",
       "      <td>6</td>\n",
       "      <td>6</td>\n",
       "      <td>5666.666667</td>\n",
       "    </tr>\n",
       "    <tr>\n",
       "      <td>44942</td>\n",
       "      <td>7600</td>\n",
       "      <td>2017</td>\n",
       "      <td>hyundai elantra</td>\n",
       "      <td>3</td>\n",
       "      <td>4</td>\n",
       "      <td>gas</td>\n",
       "      <td>50000.0</td>\n",
       "      <td>automatic</td>\n",
       "      <td>sedan</td>\n",
       "      <td>blue</td>\n",
       "      <td>0.0</td>\n",
       "      <td>2018-10-30</td>\n",
       "      <td>0</td>\n",
       "      <td>False</td>\n",
       "      <td>1</td>\n",
       "      <td>2</td>\n",
       "      <td>25000.000000</td>\n",
       "    </tr>\n",
       "    <tr>\n",
       "      <td>48843</td>\n",
       "      <td>12000</td>\n",
       "      <td>2015</td>\n",
       "      <td>toyota rav4</td>\n",
       "      <td>3</td>\n",
       "      <td>4</td>\n",
       "      <td>gas</td>\n",
       "      <td>116000.0</td>\n",
       "      <td>automatic</td>\n",
       "      <td>hatchback</td>\n",
       "      <td>blue</td>\n",
       "      <td>1.0</td>\n",
       "      <td>2018-08-19</td>\n",
       "      <td>0</td>\n",
       "      <td>True</td>\n",
       "      <td>6</td>\n",
       "      <td>4</td>\n",
       "      <td>29000.000000</td>\n",
       "    </tr>\n",
       "    <tr>\n",
       "      <td>51359</td>\n",
       "      <td>2999</td>\n",
       "      <td>2004</td>\n",
       "      <td>ford taurus</td>\n",
       "      <td>2</td>\n",
       "      <td>6</td>\n",
       "      <td>gas</td>\n",
       "      <td>136000.0</td>\n",
       "      <td>automatic</td>\n",
       "      <td>sedan</td>\n",
       "      <td>unknown</td>\n",
       "      <td>0.0</td>\n",
       "      <td>2018-10-22</td>\n",
       "      <td>0</td>\n",
       "      <td>False</td>\n",
       "      <td>0</td>\n",
       "      <td>15</td>\n",
       "      <td>9066.666667</td>\n",
       "    </tr>\n",
       "  </tbody>\n",
       "</table>\n",
       "</div>"
      ],
      "text/plain": [
       "       price  model_year                          model  condition  cylinders  \\\n",
       "1247   14995        2008       chevrolet silverado 1500          3          8   \n",
       "1711   59589        2019     chevrolet silverado 2500hd          3          8   \n",
       "1983   14000        1999                      ford f250          3          8   \n",
       "2883    4000        2004                       ram 1500          3          8   \n",
       "4567    5000        2007                 toyota corolla          2          4   \n",
       "4901   12500        2001                       ram 1500          2          8   \n",
       "6548    4800        2007                  honda odyssey          2          6   \n",
       "7036    5900        2007     jeep grand cherokee laredo          3          6   \n",
       "9607    4999        2012                  nissan sentra          3          4   \n",
       "9732   15000        2003                     ford f-150          2          8   \n",
       "10722   3100        2000            chevrolet silverado          2          8   \n",
       "12869  21997        2014                    honda pilot          3          6   \n",
       "14088  10500        2005                gmc sierra 1500          3          8   \n",
       "14446  17995        2011                      ford f250          2          8   \n",
       "16046   8200        2014                   honda accord          3          4   \n",
       "16138   3650        2013                       kia soul          2          4   \n",
       "16210  13995        2008                 toyota 4runner          3          6   \n",
       "16612  11900        2008           ford f250 super duty          2          8   \n",
       "17339   7800        2009                     gmc sierra          3          6   \n",
       "17944  14995        2008           ford f350 super duty          3          8   \n",
       "19070  29999        2011                 ford econoline          4         10   \n",
       "20817  11886        2017                 ford fusion se          3          4   \n",
       "21253  16995        2016            dodge grand caravan          3          6   \n",
       "21840   2950        2013               chevrolet malibu          2          4   \n",
       "23195   7995        2013                 toyota corolla          3          4   \n",
       "24144  39900        2018              toyota highlander          3          6   \n",
       "25292   9950        2008                  toyota tundra          2          6   \n",
       "26814   9995        2006                       ram 1500          3          8   \n",
       "26876   8950        2005       chevrolet silverado 1500          2          8   \n",
       "27137  10995        2010       chevrolet silverado 1500          2          8   \n",
       "27833   2900        2009                    honda civic          3          4   \n",
       "29377   9450        2014                    kia sorento          3          4   \n",
       "30207   9995        2006       chevrolet silverado 1500          3          8   \n",
       "31268  26900        2014  chevrolet silverado 1500 crew          2          8   \n",
       "31370   6200        2014               volkswagen jetta          4          4   \n",
       "32377  12500        2013        chrysler town & country          4          6   \n",
       "33873   6995        2009                     gmc acadia          2          6   \n",
       "35605   1500        1992                   honda accord          2          4   \n",
       "36265  24500        2018            chevrolet silverado          3          8   \n",
       "38822  17495        2018               chevrolet malibu          4          4   \n",
       "39040   1900        2005                   toyota prius          1          4   \n",
       "39304  21100        2017   chevrolet camaro lt coupe 2d          2          6   \n",
       "40101   5995        2003     jeep grand cherokee laredo          2          6   \n",
       "41369   2200        2000                  toyota sienna          4          6   \n",
       "41940   1800        2002                    honda civic          2          4   \n",
       "43581  12900        1987               chevrolet camaro          3          8   \n",
       "43590   2800        2003                   ford mustang          1          6   \n",
       "44083  28699        2013        jeep wrangler unlimited          4          6   \n",
       "44942   7600        2017                hyundai elantra          3          4   \n",
       "48843  12000        2015                    toyota rav4          3          4   \n",
       "51359   2999        2004                    ford taurus          2          6   \n",
       "\n",
       "         fuel  odometer transmission       type paint_color  is_4wd  \\\n",
       "1247      gas   93300.0    automatic      truck        grey     1.0   \n",
       "1711   diesel   12673.0    automatic      truck       white     1.0   \n",
       "1983   diesel  137500.0    automatic      truck         red     1.0   \n",
       "2883      gas  250000.0    automatic      truck       brown     1.0   \n",
       "4567      gas  223000.0       manual      sedan      silver     0.0   \n",
       "4901      gas   99892.0    automatic      truck       black     1.0   \n",
       "6548      gas  152400.0    automatic   mini-van       brown     0.0   \n",
       "7036      gas  132579.5    automatic        SUV        grey     1.0   \n",
       "9607      gas  125000.0    automatic      sedan      silver     0.0   \n",
       "9732      gas   90048.0    automatic      truck       black     0.0   \n",
       "10722     gas  211000.0    automatic      truck       white     0.0   \n",
       "12869     gas   37093.0    automatic        SUV      silver     1.0   \n",
       "14088     gas  190000.0    automatic     pickup       black     1.0   \n",
       "14446     gas   75465.0    automatic      truck       white     1.0   \n",
       "16046     gas  121000.0    automatic      sedan      silver     0.0   \n",
       "16138     gas  108005.0       manual  hatchback        grey     0.0   \n",
       "16210     gas  166988.0    automatic        SUV     unknown     1.0   \n",
       "16612     gas  120971.0    automatic     pickup       white     0.0   \n",
       "17339     gas  142000.0    automatic      truck         red     0.0   \n",
       "17944     gas  126650.0    automatic      truck       white     0.0   \n",
       "19070     gas  117000.0    automatic        van       white     0.0   \n",
       "20817     gas   72000.0    automatic      sedan     unknown     0.0   \n",
       "21253     gas   45677.0    automatic        van        grey     0.0   \n",
       "21840     gas  140000.0    automatic      sedan     unknown     0.0   \n",
       "23195     gas  102466.0    automatic      sedan      silver     0.0   \n",
       "24144     gas    7985.0    automatic        SUV     unknown     1.0   \n",
       "25292     gas  229000.0    automatic      truck         red     0.0   \n",
       "26814     gas  101750.0    automatic      truck       black     1.0   \n",
       "26876     gas  175788.0    automatic      truck      custom     1.0   \n",
       "27137     gas  165178.0    automatic      truck        grey     1.0   \n",
       "27833     gas  190222.0    automatic      sedan      silver     0.0   \n",
       "29377     gas   91776.0    automatic        SUV      silver     1.0   \n",
       "30207     gas  115000.0    automatic     pickup        grey     1.0   \n",
       "31268     gas   68607.0    automatic     pickup       black     1.0   \n",
       "31370     gas   54000.0       manual      sedan     unknown     0.0   \n",
       "32377     gas   63778.0    automatic   mini-van     unknown     0.0   \n",
       "33873     gas  177676.0    automatic        SUV      custom     0.0   \n",
       "35605     gas  239199.0    automatic      sedan         red     0.0   \n",
       "36265     gas   30000.0    automatic     pickup      silver     1.0   \n",
       "38822     gas   16505.0    automatic      sedan       white     0.0   \n",
       "39040     gas  160000.0    automatic  hatchback        grey     0.0   \n",
       "39304     gas   24510.0        other      coupe         red     0.0   \n",
       "40101     gas  137252.0    automatic        SUV        blue     1.0   \n",
       "41369     gas  152600.0    automatic        van      custom     0.0   \n",
       "41940     gas  238155.0    automatic      sedan      silver     0.0   \n",
       "43581     gas  107000.0       manual      coupe       black     0.0   \n",
       "43590     gas  181000.0    automatic      coupe      silver     0.0   \n",
       "44083     gas   34000.0    automatic        SUV       white     1.0   \n",
       "44942     gas   50000.0    automatic      sedan        blue     0.0   \n",
       "48843     gas  116000.0    automatic  hatchback        blue     1.0   \n",
       "51359     gas  136000.0    automatic      sedan     unknown     0.0   \n",
       "\n",
       "      date_posted  days_listed  is_4wd   weekday  vehicle_age     av_mil_py  \n",
       "1247   2018-05-15            0     True        1           11   8481.818182  \n",
       "1711   2019-01-13            0     True        6            1  12673.000000  \n",
       "1983   2018-09-27            0     True        3           20   6875.000000  \n",
       "2883   2018-08-13            0     True        0           15  16666.666667  \n",
       "4567   2018-07-11            0    False        2           12  18583.333333  \n",
       "4901   2018-05-11            0     True        4           18   5549.555556  \n",
       "6548   2018-09-25            0    False        1           12  12700.000000  \n",
       "7036   2018-07-21            0     True        5           12  11048.291667  \n",
       "9607   2019-03-26            0    False        1            8  15625.000000  \n",
       "9732   2018-09-21            0    False        4           16   5628.000000  \n",
       "10722  2018-07-06            0    False        4           19  11105.263158  \n",
       "12869  2019-03-04            0     True        0            6   6182.166667  \n",
       "14088  2019-02-06            0     True        2           15  12666.666667  \n",
       "14446  2018-09-09            0     True        6            8   9433.125000  \n",
       "16046  2018-05-31            0    False        3            5  24200.000000  \n",
       "16138  2019-01-27            0    False        6            7  15429.285714  \n",
       "16210  2018-07-17            0     True        1           11  15180.727273  \n",
       "16612  2018-06-18            0    False        0           11  10997.363636  \n",
       "17339  2018-07-05            0    False        3           10  14200.000000  \n",
       "17944  2019-03-15            0    False        4           12  10554.166667  \n",
       "19070  2018-08-07            0    False        1            8  14625.000000  \n",
       "20817  2018-10-16            0    False        1            2  36000.000000  \n",
       "21253  2018-09-02            0    False        6            3  15225.666667  \n",
       "21840  2018-08-27            0    False        0            6  23333.333333  \n",
       "23195  2019-03-09            0    False        5            7  14638.000000  \n",
       "24144  2018-05-20            0     True        6            1   7985.000000  \n",
       "25292  2019-04-16            0    False        1           12  19083.333333  \n",
       "26814  2018-08-11            0     True        5           13   7826.923077  \n",
       "26876  2019-02-09            0     True        5           15  11719.200000  \n",
       "27137  2019-03-18            0     True        0           10  16517.800000  \n",
       "27833  2018-12-17            0    False        0           10  19022.200000  \n",
       "29377  2018-08-27            0     True        0            5  18355.200000  \n",
       "30207  2019-04-11            0     True        3           14   8214.285714  \n",
       "31268  2018-12-31            0     True        0            5  13721.400000  \n",
       "31370  2018-09-03            0    False        0            5  10800.000000  \n",
       "32377  2018-09-23            0    False        6            6  10629.666667  \n",
       "33873  2018-09-16            0    False        6           10  17767.600000  \n",
       "35605  2018-08-02            0    False        3           27   8859.222222  \n",
       "36265  2019-01-21            0     True        0            2  15000.000000  \n",
       "38822  2018-06-12            0    False        1            1  16505.000000  \n",
       "39040  2018-05-29            0    False        1           14  11428.571429  \n",
       "39304  2019-03-23            0    False        5            3   8170.000000  \n",
       "40101  2018-07-31            0     True        1           16   8578.250000  \n",
       "41369  2018-11-30            0    False        4           19   8031.578947  \n",
       "41940  2018-09-28            0    False        4           17  14009.117647  \n",
       "43581  2018-07-30            0    False        0           32   3343.750000  \n",
       "43590  2018-10-23            0    False        1           16  11312.500000  \n",
       "44083  2018-08-12            0     True        6            6   5666.666667  \n",
       "44942  2018-10-30            0    False        1            2  25000.000000  \n",
       "48843  2018-08-19            0     True        6            4  29000.000000  \n",
       "51359  2018-10-22            0    False        0           15   9066.666667  "
      ]
     },
     "execution_count": 182,
     "metadata": {},
     "output_type": "execute_result"
    }
   ],
   "source": [
    "#Lets check ads listed 0 or 1 day only. Is something common to them?\n",
    "good_data.query(\"days_listed <1\")"
   ]
  },
  {
   "cell_type": "code",
   "execution_count": 183,
   "metadata": {},
   "outputs": [],
   "source": [
    "#nothing pop out. It is impossible to advertise and delete the ad the same day. It must be publication error\n",
    "#I will delete them\n",
    "good_data=good_data.loc[good_data[\"days_listed\"]!=0]"
   ]
  },
  {
   "cell_type": "code",
   "execution_count": 184,
   "metadata": {
    "scrolled": true
   },
   "outputs": [
    {
     "data": {
      "text/plain": [
       "count    49038.000000\n",
       "mean        39.632020\n",
       "std         28.234972\n",
       "min          1.000000\n",
       "25%         19.000000\n",
       "50%         33.000000\n",
       "75%         53.000000\n",
       "max        271.000000\n",
       "Name: days_listed, dtype: float64"
      ]
     },
     "execution_count": 184,
     "metadata": {},
     "output_type": "execute_result"
    }
   ],
   "source": [
    "good_data[\"days_listed\"].describe()"
   ]
  },
  {
   "cell_type": "code",
   "execution_count": 185,
   "metadata": {
    "scrolled": true
   },
   "outputs": [
    {
     "data": {
      "image/png": "[encoded data removed]",
      "text/plain": [
       "<Figure size 360x360 with 1 Axes>"
      ]
     },
     "metadata": {
      "needs_background": "light"
     },
     "output_type": "display_data"
    }
   ],
   "source": [
    "#finding the outliers: first the box graph\n",
    "good_data[\"days_listed\"].plot(kind=\"box\",figsize=(5,5));"
   ]
  },
  {
   "cell_type": "code",
   "execution_count": 186,
   "metadata": {},
   "outputs": [
    {
     "data": {
      "text/plain": [
       "104.0"
      ]
     },
     "execution_count": 186,
     "metadata": {},
     "output_type": "execute_result"
    }
   ],
   "source": [
    "#finding the upper limit:\n",
    "#(75%-25%)*1.5+75%\n",
    "upper_limit=(53-19)*1.5+53\n",
    "upper_limit"
   ]
  },
  {
   "cell_type": "markdown",
   "metadata": {},
   "source": [
    "<div class=\"alert alert-block alert-success\">\n",
    "<b>Reviewer's comment v1:</b>\n",
    "    \n",
    "Well done! You perfectly identified and handled outliers. You can additionally check a nice article about working with outliers:\n",
    "- https://www.pluralsight.com/guides/cleaning-up-data-from-outliers\n",
    "</div>"
   ]
  },
  {
   "cell_type": "markdown",
   "metadata": {},
   "source": [
    "## Average price per each type of vehicle"
   ]
  },
  {
   "cell_type": "markdown",
   "metadata": {},
   "source": [
    "[Analyze the number of ads and the average price for each type of vehicle. Plot a graph showing the dependence of the number of ads on the vehicle type. Select the two types with the greatest number of ads.]"
   ]
  },
  {
   "cell_type": "code",
   "execution_count": 187,
   "metadata": {
    "scrolled": true
   },
   "outputs": [
    {
     "data": {
      "text/html": [
       "<div>\n",
       "<style scoped>\n",
       "    .dataframe tbody tr th:only-of-type {\n",
       "        vertical-align: middle;\n",
       "    }\n",
       "\n",
       "    .dataframe tbody tr th {\n",
       "        vertical-align: top;\n",
       "    }\n",
       "\n",
       "    .dataframe thead th {\n",
       "        text-align: right;\n",
       "    }\n",
       "</style>\n",
       "<table border=\"1\" class=\"dataframe\">\n",
       "  <thead>\n",
       "    <tr style=\"text-align: right;\">\n",
       "      <th></th>\n",
       "      <th>number_of_ads</th>\n",
       "      <th>average_price</th>\n",
       "    </tr>\n",
       "    <tr>\n",
       "      <th>type</th>\n",
       "      <th></th>\n",
       "      <th></th>\n",
       "    </tr>\n",
       "  </thead>\n",
       "  <tbody>\n",
       "    <tr>\n",
       "      <td>SUV</td>\n",
       "      <td>11819</td>\n",
       "      <td>11524.560623</td>\n",
       "    </tr>\n",
       "    <tr>\n",
       "      <td>bus</td>\n",
       "      <td>24</td>\n",
       "      <td>17135.666667</td>\n",
       "    </tr>\n",
       "    <tr>\n",
       "      <td>convertible</td>\n",
       "      <td>403</td>\n",
       "      <td>13378.131514</td>\n",
       "    </tr>\n",
       "    <tr>\n",
       "      <td>coupe</td>\n",
       "      <td>2097</td>\n",
       "      <td>14578.323319</td>\n",
       "    </tr>\n",
       "    <tr>\n",
       "      <td>hatchback</td>\n",
       "      <td>988</td>\n",
       "      <td>7022.825911</td>\n",
       "    </tr>\n",
       "    <tr>\n",
       "      <td>mini-van</td>\n",
       "      <td>1132</td>\n",
       "      <td>8282.999117</td>\n",
       "    </tr>\n",
       "    <tr>\n",
       "      <td>offroad</td>\n",
       "      <td>207</td>\n",
       "      <td>14066.285024</td>\n",
       "    </tr>\n",
       "    <tr>\n",
       "      <td>other</td>\n",
       "      <td>246</td>\n",
       "      <td>10836.447154</td>\n",
       "    </tr>\n",
       "    <tr>\n",
       "      <td>pickup</td>\n",
       "      <td>6838</td>\n",
       "      <td>16215.746271</td>\n",
       "    </tr>\n",
       "    <tr>\n",
       "      <td>sedan</td>\n",
       "      <td>11453</td>\n",
       "      <td>7196.139003</td>\n",
       "    </tr>\n",
       "    <tr>\n",
       "      <td>truck</td>\n",
       "      <td>11796</td>\n",
       "      <td>17243.313496</td>\n",
       "    </tr>\n",
       "    <tr>\n",
       "      <td>van</td>\n",
       "      <td>556</td>\n",
       "      <td>9278.048561</td>\n",
       "    </tr>\n",
       "    <tr>\n",
       "      <td>wagon</td>\n",
       "      <td>1479</td>\n",
       "      <td>9271.488844</td>\n",
       "    </tr>\n",
       "  </tbody>\n",
       "</table>\n",
       "</div>"
      ],
      "text/plain": [
       "             number_of_ads  average_price\n",
       "type                                     \n",
       "SUV                  11819   11524.560623\n",
       "bus                     24   17135.666667\n",
       "convertible            403   13378.131514\n",
       "coupe                 2097   14578.323319\n",
       "hatchback              988    7022.825911\n",
       "mini-van              1132    8282.999117\n",
       "offroad                207   14066.285024\n",
       "other                  246   10836.447154\n",
       "pickup                6838   16215.746271\n",
       "sedan                11453    7196.139003\n",
       "truck                11796   17243.313496\n",
       "van                    556    9278.048561\n",
       "wagon                 1479    9271.488844"
      ]
     },
     "execution_count": 187,
     "metadata": {},
     "output_type": "execute_result"
    }
   ],
   "source": [
    "#Analyze the number of ads and the average price for each type of vehicle. \n",
    "#Plot a graph showing the dependence of the number of ads on the vehicle type. \n",
    "#Select the two types with the greatest number of ads. \"\n",
    "table_type = good_data.pivot_table(index=\"type\",values=\"price\",aggfunc=[\"count\", \"mean\"])\n",
    "table_type.columns=[\"number_of_ads\",\"average_price\"]\n",
    "table_type"
   ]
  },
  {
   "cell_type": "code",
   "execution_count": 188,
   "metadata": {
    "scrolled": true
   },
   "outputs": [
    {
     "data": {
      "image/png": "[encoded data removed]",
      "text/plain": [
       "<Figure size 864x720 with 1 Axes>"
      ]
     },
     "metadata": {
      "needs_background": "light"
     },
     "output_type": "display_data"
    }
   ],
   "source": [
    "table_type[\"number_of_ads\"].plot(kind=\"bar\",by=\"type\", figsize=(12,10));"
   ]
  },
  {
   "cell_type": "code",
   "execution_count": 189,
   "metadata": {},
   "outputs": [
    {
     "data": {
      "image/png": "[encoded data removed]",
      "text/plain": [
       "<Figure size 576x432 with 1 Axes>"
      ]
     },
     "metadata": {
      "needs_background": "light"
     },
     "output_type": "display_data"
    }
   ],
   "source": [
    "#Select the two types with the greatest number of ads\"\n",
    "table_type.query(\"type in ['SUV','truck']\")[\"number_of_ads\"].plot(kind=\"bar\",by=\"type\", figsize=(8,6));"
   ]
  },
  {
   "cell_type": "markdown",
   "metadata": {},
   "source": [
    "## Price factors"
   ]
  },
  {
   "cell_type": "markdown",
   "metadata": {},
   "source": [
    "[What factors impact the price most? Take each of the popular types you detected at the previous stage and study whether the price depends on age, mileage, condition, transmission type, and color. For categorical variables (transmission type and color), plot box-and-whisker charts, and create scatterplots for the rest. When analyzing categorical variables, note that the categories must have at least 50 ads; otherwise, their parameters won't be valid for analysis.]"
   ]
  },
  {
   "cell_type": "markdown",
   "metadata": {},
   "source": [
    "[Make use of correlation matrix and correlation plots]"
   ]
  },
  {
   "cell_type": "code",
   "execution_count": 190,
   "metadata": {},
   "outputs": [],
   "source": [
    "# separating the trucks and SUV each in separate data set\n",
    "data_truck = good_data.query(\"type == 'truck'\")\n",
    "data_suv = good_data.query(\"type == 'SUV'\")\n",
    "#list of numeric variables\n",
    "numeric_featurs = [\"vehicle_age\",\"odometer\",\"condition\"]\n",
    "categorical_featurs = [\"transmission\", \"paint_color\"]\n",
    "numeric_featurs1 = [\"price\",\"vehicle_age\",\"odometer\",\"condition\"]"
   ]
  },
  {
   "cell_type": "markdown",
   "metadata": {},
   "source": [
    "**truck**"
   ]
  },
  {
   "cell_type": "code",
   "execution_count": 191,
   "metadata": {
    "scrolled": true
   },
   "outputs": [
    {
     "data": {
      "image/png": "[encoded data removed]",
      "text/plain": [
       "<Figure size 648x648 with 16 Axes>"
      ]
     },
     "metadata": {
      "needs_background": "light"
     },
     "output_type": "display_data"
    }
   ],
   "source": [
    "#getting the big picture\n",
    "pd.plotting.scatter_matrix(data_truck[numeric_featurs1],figsize=(9,9));"
   ]
  },
  {
   "cell_type": "code",
   "execution_count": 192,
   "metadata": {
    "scrolled": true
   },
   "outputs": [
    {
     "data": {
      "image/png": "[encoded data removed]",
      "text/plain": [
       "<Figure size 576x432 with 1 Axes>"
      ]
     },
     "metadata": {
      "needs_background": "light"
     },
     "output_type": "display_data"
    },
    {
     "data": {
      "image/png": "[encoded data removed]",
      "text/plain": [
       "<Figure size 576x432 with 1 Axes>"
      ]
     },
     "metadata": {
      "needs_background": "light"
     },
     "output_type": "display_data"
    },
    {
     "data": {
      "image/png": "[encoded data removed]",
      "text/plain": [
       "<Figure size 576x432 with 1 Axes>"
      ]
     },
     "metadata": {
      "needs_background": "light"
     },
     "output_type": "display_data"
    }
   ],
   "source": [
    "#plotting scatter plot for each numeric variable against the price\n",
    "for pl in numeric_featurs:\n",
    "    data_truck.plot(kind=\"scatter\",x=pl,y=\"price\",grid=True,alpha=0.25,figsize=(8,6));"
   ]
  },
  {
   "cell_type": "code",
   "execution_count": 193,
   "metadata": {
    "scrolled": true
   },
   "outputs": [
    {
     "name": "stderr",
     "output_type": "stream",
     "text": [
      "/opt/conda/lib/python3.7/site-packages/numpy/core/_asarray.py:83: VisibleDeprecationWarning: Creating an ndarray from ragged nested sequences (which is a list-or-tuple of lists-or-tuples-or ndarrays with different lengths or shapes) is deprecated. If you meant to do this, you must specify 'dtype=object' when creating the ndarray\n",
      "  return array(a, dtype, copy=False, order=order)\n"
     ]
    },
    {
     "data": {
      "image/png": "[encoded data removed]",
      "text/plain": [
       "<Figure size 864x360 with 1 Axes>"
      ]
     },
     "metadata": {
      "needs_background": "light"
     },
     "output_type": "display_data"
    }
   ],
   "source": [
    "#comparing the color to the price\n",
    "data_truck.boxplot(column=\"price\", by=\"paint_color\",figsize=(12,5));"
   ]
  },
  {
   "cell_type": "code",
   "execution_count": 194,
   "metadata": {
    "scrolled": true
   },
   "outputs": [
    {
     "name": "stderr",
     "output_type": "stream",
     "text": [
      "/opt/conda/lib/python3.7/site-packages/numpy/core/_asarray.py:83: VisibleDeprecationWarning: Creating an ndarray from ragged nested sequences (which is a list-or-tuple of lists-or-tuples-or ndarrays with different lengths or shapes) is deprecated. If you meant to do this, you must specify 'dtype=object' when creating the ndarray\n",
      "  return array(a, dtype, copy=False, order=order)\n"
     ]
    },
    {
     "data": {
      "image/png": "[encoded data removed]",
      "text/plain": [
       "<Figure size 864x360 with 1 Axes>"
      ]
     },
     "metadata": {
      "needs_background": "light"
     },
     "output_type": "display_data"
    }
   ],
   "source": [
    "data_truck.boxplot(column=\"price\", by=\"transmission\",figsize=(12,5));"
   ]
  },
  {
   "cell_type": "markdown",
   "metadata": {},
   "source": [
    "**conclusion**\n",
    "1. In numeric variable there is a negative correlation to the price on age and odometer.\n",
    "2. on categorical variable, on transmission, most of the outliers are on automatic transmission because most of the data are   \n",
    "   there.\n",
    "3. on body color, some colors doesn't show outliers, because these colors are rare: green and purple"
   ]
  },
  {
   "cell_type": "markdown",
   "metadata": {},
   "source": [
    "**SUV**"
   ]
  },
  {
   "cell_type": "code",
   "execution_count": 195,
   "metadata": {},
   "outputs": [
    {
     "data": {
      "image/png": "[encoded data removed]",
      "text/plain": [
       "<Figure size 648x648 with 16 Axes>"
      ]
     },
     "metadata": {
      "needs_background": "light"
     },
     "output_type": "display_data"
    }
   ],
   "source": [
    "#getting the big picture\n",
    "pd.plotting.scatter_matrix(data_suv[numeric_featurs1],figsize=(9,9));"
   ]
  },
  {
   "cell_type": "code",
   "execution_count": 196,
   "metadata": {
    "scrolled": true
   },
   "outputs": [
    {
     "data": {
      "image/png": "[encoded data removed]",
      "text/plain": [
       "<Figure size 576x432 with 1 Axes>"
      ]
     },
     "metadata": {
      "needs_background": "light"
     },
     "output_type": "display_data"
    },
    {
     "data": {
      "image/png": "[encoded data removed]",
      "text/plain": [
       "<Figure size 576x432 with 1 Axes>"
      ]
     },
     "metadata": {
      "needs_background": "light"
     },
     "output_type": "display_data"
    },
    {
     "data": {
      "image/png": "[encoded data removed]",
      "text/plain": [
       "<Figure size 576x432 with 1 Axes>"
      ]
     },
     "metadata": {
      "needs_background": "light"
     },
     "output_type": "display_data"
    }
   ],
   "source": [
    "#plotting scatter plot for each numeric variable against the price\n",
    "for pl in numeric_featurs:\n",
    "    data_suv.plot(kind=\"scatter\",x=pl,y=\"price\",grid=True,alpha=0.25,figsize=(8,6));"
   ]
  },
  {
   "cell_type": "code",
   "execution_count": 197,
   "metadata": {
    "scrolled": true
   },
   "outputs": [
    {
     "name": "stderr",
     "output_type": "stream",
     "text": [
      "/opt/conda/lib/python3.7/site-packages/numpy/core/_asarray.py:83: VisibleDeprecationWarning: Creating an ndarray from ragged nested sequences (which is a list-or-tuple of lists-or-tuples-or ndarrays with different lengths or shapes) is deprecated. If you meant to do this, you must specify 'dtype=object' when creating the ndarray\n",
      "  return array(a, dtype, copy=False, order=order)\n"
     ]
    },
    {
     "data": {
      "image/png": "[encoded data removed]",
      "text/plain": [
       "<Figure size 864x360 with 1 Axes>"
      ]
     },
     "metadata": {
      "needs_background": "light"
     },
     "output_type": "display_data"
    }
   ],
   "source": [
    "#comparing the color to the price\n",
    "data_suv.boxplot(column=\"price\", by=\"paint_color\",figsize=(12,5));"
   ]
  },
  {
   "cell_type": "code",
   "execution_count": 198,
   "metadata": {
    "scrolled": true
   },
   "outputs": [
    {
     "name": "stderr",
     "output_type": "stream",
     "text": [
      "/opt/conda/lib/python3.7/site-packages/numpy/core/_asarray.py:83: VisibleDeprecationWarning: Creating an ndarray from ragged nested sequences (which is a list-or-tuple of lists-or-tuples-or ndarrays with different lengths or shapes) is deprecated. If you meant to do this, you must specify 'dtype=object' when creating the ndarray\n",
      "  return array(a, dtype, copy=False, order=order)\n"
     ]
    },
    {
     "data": {
      "image/png": "[encoded data removed]",
      "text/plain": [
       "<Figure size 864x360 with 1 Axes>"
      ]
     },
     "metadata": {
      "needs_background": "light"
     },
     "output_type": "display_data"
    }
   ],
   "source": [
    "data_suv.boxplot(column=\"price\", by=\"transmission\",figsize=(12,5));"
   ]
  },
  {
   "cell_type": "markdown",
   "metadata": {},
   "source": [
    "**conclusion**\n",
    "\n",
    "In the SUV's category, the finding are different from the trucks. It tell us that types behave differently and should be tried apart from the others\n",
    "\n",
    "1. In numeric variable the is a negative correlation to the price on age and odometer.\n",
    "2. on categorical variable, on transmission, most of the outliers are on automatic transmission because most of the data are there.\n",
    "3. on body color, there is no different behavior like in the trucks"
   ]
  },
  {
   "cell_type": "markdown",
   "metadata": {},
   "source": [
    "<div class=\"alert alert-block alert-success\">\n",
    "<b>Reviewer's comment v1:</b>\n",
    "    \n",
    "Overall an excellent data analysis with correct conclusions and different graph types.\n",
    "\n",
    "Aadditionally you can also create a correlation matrix together with a heatmap to check the correlation of different features.\n",
    "\n",
    "</div>"
   ]
  },
  {
   "cell_type": "markdown",
   "metadata": {},
   "source": [
    "## General conclusion\n",
    "\n",
    "I checked the data set of advertisements list. I started with getting to understand the data, then started data preprocessing, fixing missing data, changing the type of the data. I added columns to the table: day of the week  the ad was placed,the vehicle's average mileage per year. As I did the EDA, I checked connection between variables as price, remove outliers from the main table to other tables. I concentrated on the two most common car types in the list: trucks and SUVs. For each, I tried to understand the correlation between parameters and price. I then found out that each group price derive from different parameters."
   ]
  },
  {
   "cell_type": "markdown",
   "metadata": {},
   "source": [
    "<div class=\"alert alert-success\">\n",
    "<b>Reviewer's comment v2:</b>\n",
    "\n",
    "Thanks for extending your analysis and adding general conclusions.   \n",
    "</div>"
   ]
  },
  {
   "cell_type": "markdown",
   "metadata": {},
   "source": [
    "<div class=\"alert alert-danger\">\n",
    "<b>Reviewer's comment v1:</b>\n",
    " \n",
    "Overall you did a great research. However general conclusion represents an important part of the project. \n",
    "    \n",
    "A small tip regarding overall conclusion: \n",
    "    It represents the overall work progress that you achieved. On a real project, this is probably the only thing the business will read. Therefore, it is crucial to indicate in a structured way all conclusions that you made on each step in the project.\n",
    "\n",
    "For example:\n",
    "\n",
    "- Replaced missing values in the following data with the following method.\n",
    "- Replaced data types in the following columns.\n",
    "- etc.\n",
    "- We observe that ... factors impact ... \n",
    "- My analysis show ...\n",
    "- I can recomend the following next steps / activities ...\n",
    "\n",
    "It is also important to provide explanations and interpretations that will be interesting for business based on your analysis.\n",
    "    \n",
    "Can you please add general conclusion?\n",
    "\n",
    "</div>"
   ]
  }
 ],
 "metadata": {
  "ExecuteTimeLog": [
   {
    "duration": 828,
    "start_time": "2021-11-16T09:21:11.304Z"
   },
   {
    "duration": 893,
    "start_time": "2021-11-16T09:21:17.728Z"
   },
   {
    "duration": 1150,
    "start_time": "2021-11-16T09:21:29.568Z"
   },
   {
    "duration": 3,
    "start_time": "2021-11-16T09:24:14.495Z"
   },
   {
    "duration": 120,
    "start_time": "2021-11-16T09:24:46.630Z"
   },
   {
    "duration": 3,
    "start_time": "2021-11-16T09:28:27.882Z"
   },
   {
    "duration": 4,
    "start_time": "2021-11-16T09:29:54.281Z"
   },
   {
    "duration": 3,
    "start_time": "2021-11-16T09:30:45.936Z"
   },
   {
    "duration": 4,
    "start_time": "2021-11-16T09:31:06.300Z"
   },
   {
    "duration": 113,
    "start_time": "2021-11-16T09:31:37.208Z"
   },
   {
    "duration": 143,
    "start_time": "2021-11-16T09:31:48.656Z"
   },
   {
    "duration": 98,
    "start_time": "2021-11-16T09:31:55.678Z"
   },
   {
    "duration": 3,
    "start_time": "2021-11-16T09:32:08.535Z"
   },
   {
    "duration": 111,
    "start_time": "2021-11-16T09:32:10.120Z"
   },
   {
    "duration": 3,
    "start_time": "2021-11-16T09:32:15.732Z"
   },
   {
    "duration": 4,
    "start_time": "2021-11-16T09:32:29.423Z"
   },
   {
    "duration": 3,
    "start_time": "2021-11-16T10:03:03.074Z"
   },
   {
    "duration": 3,
    "start_time": "2021-11-16T10:10:01.288Z"
   },
   {
    "duration": 3,
    "start_time": "2021-11-16T10:10:46.923Z"
   },
   {
    "duration": 121,
    "start_time": "2021-11-16T10:37:46.494Z"
   },
   {
    "duration": 125,
    "start_time": "2021-11-16T10:38:20.632Z"
   },
   {
    "duration": 112,
    "start_time": "2021-11-16T10:46:53.001Z"
   },
   {
    "duration": 110,
    "start_time": "2021-11-16T10:48:25.775Z"
   },
   {
    "duration": 3,
    "start_time": "2021-11-16T10:50:18.720Z"
   },
   {
    "duration": 4,
    "start_time": "2021-11-16T10:50:37.649Z"
   },
   {
    "duration": 2,
    "start_time": "2021-11-16T10:50:51.884Z"
   },
   {
    "duration": 3,
    "start_time": "2021-11-16T10:51:56.237Z"
   },
   {
    "duration": 101,
    "start_time": "2021-11-16T10:53:13.791Z"
   },
   {
    "duration": 3,
    "start_time": "2021-11-16T10:55:59.186Z"
   },
   {
    "duration": 3,
    "start_time": "2021-11-16T10:56:10.751Z"
   },
   {
    "duration": 3,
    "start_time": "2021-11-16T10:56:49.038Z"
   },
   {
    "duration": 3,
    "start_time": "2021-11-16T10:56:49.174Z"
   },
   {
    "duration": 4,
    "start_time": "2021-11-16T10:56:49.414Z"
   },
   {
    "duration": 3,
    "start_time": "2021-11-16T10:56:49.680Z"
   },
   {
    "duration": 3,
    "start_time": "2021-11-16T10:56:50.370Z"
   },
   {
    "duration": 114,
    "start_time": "2021-11-16T10:59:34.518Z"
   },
   {
    "duration": 3,
    "start_time": "2021-11-16T11:01:41.201Z"
   },
   {
    "duration": 116,
    "start_time": "2021-11-16T11:01:48.754Z"
   },
   {
    "duration": 3,
    "start_time": "2021-11-16T11:02:16.685Z"
   },
   {
    "duration": 3,
    "start_time": "2021-11-16T11:02:19.479Z"
   },
   {
    "duration": 3,
    "start_time": "2021-11-16T11:02:47.067Z"
   },
   {
    "duration": 3,
    "start_time": "2021-11-16T11:02:49.353Z"
   },
   {
    "duration": 3,
    "start_time": "2021-11-16T11:03:07.835Z"
   },
   {
    "duration": 3,
    "start_time": "2021-11-16T11:03:07.953Z"
   },
   {
    "duration": 112,
    "start_time": "2021-11-16T11:07:52.072Z"
   },
   {
    "duration": 187,
    "start_time": "2021-11-16T11:09:23.468Z"
   },
   {
    "duration": 4,
    "start_time": "2021-11-16T11:10:01.455Z"
   },
   {
    "duration": 3,
    "start_time": "2021-11-16T11:10:05.069Z"
   },
   {
    "duration": 4,
    "start_time": "2021-11-16T11:10:13.376Z"
   },
   {
    "duration": 3,
    "start_time": "2021-11-16T11:10:14.434Z"
   },
   {
    "duration": 3,
    "start_time": "2021-11-16T11:10:22.853Z"
   },
   {
    "duration": 4,
    "start_time": "2021-11-16T11:27:29.279Z"
   },
   {
    "duration": 4,
    "start_time": "2021-11-16T11:29:08.919Z"
   },
   {
    "duration": 118,
    "start_time": "2021-11-16T11:29:46.703Z"
   },
   {
    "duration": 437,
    "start_time": "2021-11-16T11:36:02.181Z"
   },
   {
    "duration": 157,
    "start_time": "2021-11-16T11:36:14.388Z"
   },
   {
    "duration": 207,
    "start_time": "2021-11-16T11:47:15.898Z"
   },
   {
    "duration": 3,
    "start_time": "2021-11-16T11:53:52.092Z"
   },
   {
    "duration": 3,
    "start_time": "2021-11-16T11:53:52.236Z"
   },
   {
    "duration": 3,
    "start_time": "2021-11-16T11:59:12.005Z"
   },
   {
    "duration": 112,
    "start_time": "2021-11-16T12:00:33.446Z"
   },
   {
    "duration": 3,
    "start_time": "2021-11-16T12:02:14.453Z"
   },
   {
    "duration": 3,
    "start_time": "2021-11-16T12:02:39.512Z"
   },
   {
    "duration": 106,
    "start_time": "2021-11-16T12:03:03.460Z"
   },
   {
    "duration": 52,
    "start_time": "2022-01-15T14:27:12.212Z"
   },
   {
    "duration": 652,
    "start_time": "2022-01-15T14:27:19.660Z"
   },
   {
    "duration": 84,
    "start_time": "2022-01-15T14:27:41.668Z"
   },
   {
    "duration": 97,
    "start_time": "2022-01-15T14:39:08.020Z"
   },
   {
    "duration": 94,
    "start_time": "2022-01-15T14:39:19.468Z"
   },
   {
    "duration": 101,
    "start_time": "2022-01-15T14:39:34.248Z"
   },
   {
    "duration": 104,
    "start_time": "2022-01-15T14:40:18.457Z"
   },
   {
    "duration": 104,
    "start_time": "2022-01-15T14:40:27.103Z"
   },
   {
    "duration": 32,
    "start_time": "2022-01-15T14:40:41.684Z"
   },
   {
    "duration": 95,
    "start_time": "2022-01-15T14:40:44.746Z"
   },
   {
    "duration": 93,
    "start_time": "2022-01-15T18:10:24.828Z"
   },
   {
    "duration": 103,
    "start_time": "2022-01-15T18:10:53.355Z"
   },
   {
    "duration": 125,
    "start_time": "2022-01-15T18:11:19.298Z"
   },
   {
    "duration": 103,
    "start_time": "2022-01-15T18:11:52.783Z"
   },
   {
    "duration": 94,
    "start_time": "2022-01-15T18:12:08.777Z"
   },
   {
    "duration": 20,
    "start_time": "2022-01-15T18:21:12.186Z"
   },
   {
    "duration": 18,
    "start_time": "2022-01-15T18:21:31.139Z"
   },
   {
    "duration": 39,
    "start_time": "2022-01-15T18:34:26.248Z"
   },
   {
    "duration": 5,
    "start_time": "2022-01-15T19:31:05.411Z"
   },
   {
    "duration": 21,
    "start_time": "2022-01-15T19:31:15.454Z"
   },
   {
    "duration": 5,
    "start_time": "2022-01-15T19:31:22.891Z"
   },
   {
    "duration": 38,
    "start_time": "2022-01-15T20:13:55.192Z"
   },
   {
    "duration": 35,
    "start_time": "2022-01-15T20:16:18.728Z"
   },
   {
    "duration": 241,
    "start_time": "2022-01-15T21:35:32.498Z"
   },
   {
    "duration": 177,
    "start_time": "2022-01-15T21:36:05.486Z"
   },
   {
    "duration": 5,
    "start_time": "2022-01-15T21:36:15.647Z"
   },
   {
    "duration": 183,
    "start_time": "2022-01-15T21:36:22.747Z"
   },
   {
    "duration": 5,
    "start_time": "2022-01-15T21:37:50.109Z"
   },
   {
    "duration": 44,
    "start_time": "2022-01-15T21:38:08.744Z"
   },
   {
    "duration": 4,
    "start_time": "2022-01-15T21:38:37.587Z"
   },
   {
    "duration": 5,
    "start_time": "2022-01-15T21:38:41.945Z"
   },
   {
    "duration": 10,
    "start_time": "2022-01-15T21:38:47.369Z"
   },
   {
    "duration": 185,
    "start_time": "2022-01-15T21:38:56.529Z"
   },
   {
    "duration": 9,
    "start_time": "2022-01-15T21:39:27.564Z"
   },
   {
    "duration": 4,
    "start_time": "2022-01-15T21:40:15.297Z"
   },
   {
    "duration": 5,
    "start_time": "2022-01-15T21:40:17.741Z"
   },
   {
    "duration": 10,
    "start_time": "2022-01-15T21:41:25.090Z"
   },
   {
    "duration": 33,
    "start_time": "2022-01-15T21:43:05.139Z"
   },
   {
    "duration": 48,
    "start_time": "2022-01-15T21:43:38.999Z"
   },
   {
    "duration": 168,
    "start_time": "2022-01-15T21:44:14.410Z"
   },
   {
    "duration": 21,
    "start_time": "2022-01-15T21:47:30.204Z"
   },
   {
    "duration": 658,
    "start_time": "2022-01-15T21:51:25.758Z"
   },
   {
    "duration": 6,
    "start_time": "2022-01-15T21:52:04.496Z"
   },
   {
    "duration": 263,
    "start_time": "2022-01-15T21:52:42.554Z"
   },
   {
    "duration": 24,
    "start_time": "2022-01-15T21:53:29.858Z"
   },
   {
    "duration": 43,
    "start_time": "2022-01-15T21:53:47.558Z"
   },
   {
    "duration": 179,
    "start_time": "2022-01-15T21:58:42.139Z"
   },
   {
    "duration": 191,
    "start_time": "2022-01-15T22:03:44.744Z"
   },
   {
    "duration": 57,
    "start_time": "2022-01-15T22:08:25.361Z"
   },
   {
    "duration": 18,
    "start_time": "2022-01-15T22:08:28.401Z"
   },
   {
    "duration": 21,
    "start_time": "2022-01-15T22:09:10.988Z"
   },
   {
    "duration": 17,
    "start_time": "2022-01-15T22:09:17.961Z"
   },
   {
    "duration": 178,
    "start_time": "2022-01-15T22:10:29.176Z"
   },
   {
    "duration": 178,
    "start_time": "2022-01-15T22:11:29.880Z"
   },
   {
    "duration": 5,
    "start_time": "2022-01-15T22:12:13.073Z"
   },
   {
    "duration": 26,
    "start_time": "2022-01-15T22:12:36.282Z"
   },
   {
    "duration": 22,
    "start_time": "2022-01-15T22:13:15.920Z"
   },
   {
    "duration": 58,
    "start_time": "2022-01-15T22:13:32.610Z"
   },
   {
    "duration": 52,
    "start_time": "2022-01-15T22:13:44.943Z"
   },
   {
    "duration": 260,
    "start_time": "2022-01-15T22:20:08.956Z"
   },
   {
    "duration": 312,
    "start_time": "2022-01-15T22:20:28.426Z"
   },
   {
    "duration": 17,
    "start_time": "2022-01-15T22:20:55.731Z"
   },
   {
    "duration": 186,
    "start_time": "2022-01-15T22:21:23.466Z"
   },
   {
    "duration": 18,
    "start_time": "2022-01-15T22:21:46.412Z"
   },
   {
    "duration": 23,
    "start_time": "2022-01-15T22:22:40.124Z"
   },
   {
    "duration": 18,
    "start_time": "2022-01-15T22:22:47.479Z"
   },
   {
    "duration": 193,
    "start_time": "2022-01-15T22:23:10.085Z"
   },
   {
    "duration": 19,
    "start_time": "2022-01-15T22:23:16.925Z"
   },
   {
    "duration": -1419,
    "start_time": "2022-01-15T22:23:52.733Z"
   },
   {
    "duration": -1160,
    "start_time": "2022-01-15T22:24:01.641Z"
   },
   {
    "duration": 4623,
    "start_time": "2022-01-15T22:24:02.595Z"
   },
   {
    "duration": 19,
    "start_time": "2022-01-15T22:24:17.275Z"
   },
   {
    "duration": 455,
    "start_time": "2022-01-15T22:24:32.166Z"
   },
   {
    "duration": 24,
    "start_time": "2022-01-15T22:24:41.572Z"
   },
   {
    "duration": 18,
    "start_time": "2022-01-15T22:25:52.098Z"
   },
   {
    "duration": 19,
    "start_time": "2022-01-15T22:25:56.646Z"
   },
   {
    "duration": 17,
    "start_time": "2022-01-15T22:30:49.833Z"
   },
   {
    "duration": 5,
    "start_time": "2022-01-15T22:31:50.884Z"
   },
   {
    "duration": 195,
    "start_time": "2022-01-15T22:32:11.032Z"
   },
   {
    "duration": 18,
    "start_time": "2022-01-15T22:32:39.013Z"
   },
   {
    "duration": 4649,
    "start_time": "2022-01-15T22:37:22.769Z"
   },
   {
    "duration": 17,
    "start_time": "2022-01-15T22:37:35.276Z"
   },
   {
    "duration": 680,
    "start_time": "2022-01-16T19:36:01.810Z"
   },
   {
    "duration": 708,
    "start_time": "2022-01-16T19:36:15.508Z"
   },
   {
    "duration": 507,
    "start_time": "2022-01-16T19:36:17.050Z"
   },
   {
    "duration": 22,
    "start_time": "2022-01-16T19:36:21.588Z"
   },
   {
    "duration": 27,
    "start_time": "2022-01-16T19:36:24.359Z"
   },
   {
    "duration": 40,
    "start_time": "2022-01-16T19:36:25.374Z"
   },
   {
    "duration": 105,
    "start_time": "2022-01-16T19:36:28.064Z"
   },
   {
    "duration": 279,
    "start_time": "2022-01-16T19:38:25.934Z"
   },
   {
    "duration": 321,
    "start_time": "2022-01-16T19:38:47.014Z"
   },
   {
    "duration": 106,
    "start_time": "2022-01-16T19:38:51.462Z"
   },
   {
    "duration": 68,
    "start_time": "2022-01-16T19:38:54.346Z"
   },
   {
    "duration": 51,
    "start_time": "2022-01-16T19:39:05.655Z"
   },
   {
    "duration": 14,
    "start_time": "2022-01-16T19:39:33.628Z"
   },
   {
    "duration": 51,
    "start_time": "2022-01-16T19:39:42.605Z"
   },
   {
    "duration": 13,
    "start_time": "2022-01-16T19:39:43.185Z"
   },
   {
    "duration": 49,
    "start_time": "2022-01-16T19:39:57.435Z"
   },
   {
    "duration": 13,
    "start_time": "2022-01-16T19:39:57.958Z"
   },
   {
    "duration": 3,
    "start_time": "2022-01-16T19:40:37.244Z"
   },
   {
    "duration": 92,
    "start_time": "2022-01-16T19:40:37.249Z"
   },
   {
    "duration": 19,
    "start_time": "2022-01-16T19:40:37.343Z"
   },
   {
    "duration": 18,
    "start_time": "2022-01-16T19:40:37.364Z"
   },
   {
    "duration": 47,
    "start_time": "2022-01-16T19:40:37.383Z"
   },
   {
    "duration": 117,
    "start_time": "2022-01-16T19:40:37.432Z"
   },
   {
    "duration": 54,
    "start_time": "2022-01-16T19:40:37.550Z"
   },
   {
    "duration": 14,
    "start_time": "2022-01-16T19:40:37.606Z"
   },
   {
    "duration": 4,
    "start_time": "2022-01-16T19:40:37.623Z"
   },
   {
    "duration": 4,
    "start_time": "2022-01-16T19:40:37.629Z"
   },
   {
    "duration": 4,
    "start_time": "2022-01-16T19:40:37.635Z"
   },
   {
    "duration": 4,
    "start_time": "2022-01-16T19:40:37.641Z"
   },
   {
    "duration": 5,
    "start_time": "2022-01-16T19:40:37.647Z"
   },
   {
    "duration": 5,
    "start_time": "2022-01-16T19:40:37.654Z"
   },
   {
    "duration": 5,
    "start_time": "2022-01-16T19:40:37.660Z"
   },
   {
    "duration": 10,
    "start_time": "2022-01-16T19:40:37.667Z"
   },
   {
    "duration": 7,
    "start_time": "2022-01-16T19:40:37.699Z"
   },
   {
    "duration": 7,
    "start_time": "2022-01-16T19:40:37.707Z"
   },
   {
    "duration": 5,
    "start_time": "2022-01-16T19:40:37.716Z"
   },
   {
    "duration": 4,
    "start_time": "2022-01-16T19:40:37.723Z"
   },
   {
    "duration": 5,
    "start_time": "2022-01-16T19:40:37.729Z"
   },
   {
    "duration": 5,
    "start_time": "2022-01-16T19:40:37.735Z"
   },
   {
    "duration": 5,
    "start_time": "2022-01-16T19:40:37.741Z"
   },
   {
    "duration": 5,
    "start_time": "2022-01-16T19:40:37.747Z"
   },
   {
    "duration": 4,
    "start_time": "2022-01-16T19:42:15.632Z"
   },
   {
    "duration": 5,
    "start_time": "2022-01-16T19:42:16.081Z"
   },
   {
    "duration": 267,
    "start_time": "2022-01-16T19:42:21.701Z"
   },
   {
    "duration": 3591,
    "start_time": "2022-01-16T19:42:22.392Z"
   },
   {
    "duration": 4,
    "start_time": "2022-01-16T19:42:38.722Z"
   },
   {
    "duration": 87,
    "start_time": "2022-01-16T19:42:38.728Z"
   },
   {
    "duration": 25,
    "start_time": "2022-01-16T19:42:38.818Z"
   },
   {
    "duration": 25,
    "start_time": "2022-01-16T19:42:38.845Z"
   },
   {
    "duration": 60,
    "start_time": "2022-01-16T19:42:38.872Z"
   },
   {
    "duration": 217,
    "start_time": "2022-01-16T19:42:38.934Z"
   },
   {
    "duration": 5,
    "start_time": "2022-01-16T19:42:39.154Z"
   },
   {
    "duration": 11,
    "start_time": "2022-01-16T19:42:39.161Z"
   },
   {
    "duration": 3363,
    "start_time": "2022-01-16T19:42:39.175Z"
   },
   {
    "duration": -148,
    "start_time": "2022-01-16T19:42:42.688Z"
   },
   {
    "duration": -151,
    "start_time": "2022-01-16T19:42:42.692Z"
   },
   {
    "duration": -156,
    "start_time": "2022-01-16T19:42:42.698Z"
   },
   {
    "duration": -158,
    "start_time": "2022-01-16T19:42:42.701Z"
   },
   {
    "duration": -161,
    "start_time": "2022-01-16T19:42:42.705Z"
   },
   {
    "duration": -163,
    "start_time": "2022-01-16T19:42:42.708Z"
   },
   {
    "duration": -168,
    "start_time": "2022-01-16T19:42:42.714Z"
   },
   {
    "duration": -170,
    "start_time": "2022-01-16T19:42:42.717Z"
   },
   {
    "duration": -173,
    "start_time": "2022-01-16T19:42:42.721Z"
   },
   {
    "duration": -175,
    "start_time": "2022-01-16T19:42:42.724Z"
   },
   {
    "duration": -178,
    "start_time": "2022-01-16T19:42:42.728Z"
   },
   {
    "duration": -180,
    "start_time": "2022-01-16T19:42:42.731Z"
   },
   {
    "duration": -183,
    "start_time": "2022-01-16T19:42:42.735Z"
   },
   {
    "duration": -186,
    "start_time": "2022-01-16T19:42:42.739Z"
   },
   {
    "duration": -188,
    "start_time": "2022-01-16T19:42:42.742Z"
   },
   {
    "duration": 3592,
    "start_time": "2022-01-16T19:43:29.274Z"
   },
   {
    "duration": -179,
    "start_time": "2022-01-16T19:43:33.047Z"
   },
   {
    "duration": 3,
    "start_time": "2022-01-16T19:43:48.832Z"
   },
   {
    "duration": 78,
    "start_time": "2022-01-16T19:43:48.839Z"
   },
   {
    "duration": 20,
    "start_time": "2022-01-16T19:43:48.919Z"
   },
   {
    "duration": 17,
    "start_time": "2022-01-16T19:43:48.941Z"
   },
   {
    "duration": 60,
    "start_time": "2022-01-16T19:43:48.960Z"
   },
   {
    "duration": 120,
    "start_time": "2022-01-16T19:43:49.022Z"
   },
   {
    "duration": 263,
    "start_time": "2022-01-16T19:43:49.143Z"
   },
   {
    "duration": -218,
    "start_time": "2022-01-16T19:43:49.627Z"
   },
   {
    "duration": -229,
    "start_time": "2022-01-16T19:43:49.639Z"
   },
   {
    "duration": -236,
    "start_time": "2022-01-16T19:43:49.648Z"
   },
   {
    "duration": -256,
    "start_time": "2022-01-16T19:43:49.670Z"
   },
   {
    "duration": -262,
    "start_time": "2022-01-16T19:43:49.677Z"
   },
   {
    "duration": -285,
    "start_time": "2022-01-16T19:43:49.701Z"
   },
   {
    "duration": -286,
    "start_time": "2022-01-16T19:43:49.704Z"
   },
   {
    "duration": -287,
    "start_time": "2022-01-16T19:43:49.706Z"
   },
   {
    "duration": -292,
    "start_time": "2022-01-16T19:43:49.713Z"
   },
   {
    "duration": -294,
    "start_time": "2022-01-16T19:43:49.716Z"
   },
   {
    "duration": -296,
    "start_time": "2022-01-16T19:43:49.720Z"
   },
   {
    "duration": -298,
    "start_time": "2022-01-16T19:43:49.723Z"
   },
   {
    "duration": -302,
    "start_time": "2022-01-16T19:43:49.729Z"
   },
   {
    "duration": -301,
    "start_time": "2022-01-16T19:43:49.731Z"
   },
   {
    "duration": -304,
    "start_time": "2022-01-16T19:43:49.735Z"
   },
   {
    "duration": -305,
    "start_time": "2022-01-16T19:43:49.738Z"
   },
   {
    "duration": -310,
    "start_time": "2022-01-16T19:43:49.744Z"
   },
   {
    "duration": 4,
    "start_time": "2022-01-16T19:44:09.322Z"
   },
   {
    "duration": 14,
    "start_time": "2022-01-16T19:44:11.261Z"
   },
   {
    "duration": 105,
    "start_time": "2022-01-16T19:46:10.955Z"
   },
   {
    "duration": 17,
    "start_time": "2022-01-16T19:50:32.653Z"
   },
   {
    "duration": 13,
    "start_time": "2022-01-16T19:51:20.168Z"
   },
   {
    "duration": 19,
    "start_time": "2022-01-16T20:25:23.246Z"
   },
   {
    "duration": 4,
    "start_time": "2022-01-16T20:25:44.301Z"
   },
   {
    "duration": 2,
    "start_time": "2022-01-16T20:25:53.398Z"
   },
   {
    "duration": 83,
    "start_time": "2022-01-16T20:25:53.402Z"
   },
   {
    "duration": 20,
    "start_time": "2022-01-16T20:25:53.487Z"
   },
   {
    "duration": 17,
    "start_time": "2022-01-16T20:25:53.509Z"
   },
   {
    "duration": 38,
    "start_time": "2022-01-16T20:25:53.528Z"
   },
   {
    "duration": 124,
    "start_time": "2022-01-16T20:25:53.568Z"
   },
   {
    "duration": 5,
    "start_time": "2022-01-16T20:25:53.694Z"
   },
   {
    "duration": 15,
    "start_time": "2022-01-16T20:25:53.701Z"
   },
   {
    "duration": 4,
    "start_time": "2022-01-16T20:25:58.607Z"
   },
   {
    "duration": 20,
    "start_time": "2022-01-16T20:25:59.048Z"
   },
   {
    "duration": 14,
    "start_time": "2022-01-16T20:26:49.335Z"
   },
   {
    "duration": 104,
    "start_time": "2022-01-16T20:33:27.693Z"
   },
   {
    "duration": 104,
    "start_time": "2022-01-16T20:35:21.912Z"
   },
   {
    "duration": 4,
    "start_time": "2022-01-16T20:35:22.882Z"
   },
   {
    "duration": 628,
    "start_time": "2022-01-16T20:36:15.207Z"
   },
   {
    "duration": 99,
    "start_time": "2022-01-16T20:36:21.323Z"
   },
   {
    "duration": 5,
    "start_time": "2022-01-16T20:36:22.140Z"
   },
   {
    "duration": 19,
    "start_time": "2022-01-16T20:36:40.743Z"
   },
   {
    "duration": 19,
    "start_time": "2022-01-16T20:36:56.209Z"
   },
   {
    "duration": 4,
    "start_time": "2022-01-16T21:00:52.751Z"
   },
   {
    "duration": 20,
    "start_time": "2022-01-16T21:00:53.325Z"
   },
   {
    "duration": 253,
    "start_time": "2022-01-16T21:04:45.343Z"
   },
   {
    "duration": 4,
    "start_time": "2022-01-16T21:04:55.101Z"
   },
   {
    "duration": 4,
    "start_time": "2022-01-16T21:06:03.075Z"
   },
   {
    "duration": 4,
    "start_time": "2022-01-16T21:06:40.738Z"
   },
   {
    "duration": 24,
    "start_time": "2022-01-16T21:06:56.482Z"
   },
   {
    "duration": 18,
    "start_time": "2022-01-16T21:07:00.778Z"
   },
   {
    "duration": 255,
    "start_time": "2022-01-16T21:59:55.117Z"
   },
   {
    "duration": 6601,
    "start_time": "2022-01-16T22:00:30.950Z"
   },
   {
    "duration": 6553,
    "start_time": "2022-01-16T22:00:52.202Z"
   },
   {
    "duration": 6739,
    "start_time": "2022-01-16T22:02:19.292Z"
   },
   {
    "duration": 13,
    "start_time": "2022-01-16T22:02:55.521Z"
   },
   {
    "duration": 286,
    "start_time": "2022-01-16T22:03:35.224Z"
   },
   {
    "duration": 11,
    "start_time": "2022-01-16T22:03:53.075Z"
   },
   {
    "duration": 15,
    "start_time": "2022-01-16T22:24:58.914Z"
   },
   {
    "duration": 5,
    "start_time": "2022-01-16T22:25:08.224Z"
   },
   {
    "duration": 18,
    "start_time": "2022-01-16T22:25:20.846Z"
   },
   {
    "duration": 18,
    "start_time": "2022-01-16T23:12:28.179Z"
   },
   {
    "duration": 276,
    "start_time": "2022-01-16T23:12:30.839Z"
   },
   {
    "duration": 15,
    "start_time": "2022-01-16T23:12:51.485Z"
   },
   {
    "duration": 21,
    "start_time": "2022-01-16T23:16:28.153Z"
   },
   {
    "duration": 30,
    "start_time": "2022-01-16T23:19:15.047Z"
   },
   {
    "duration": 4,
    "start_time": "2022-01-16T23:20:13.557Z"
   },
   {
    "duration": 17,
    "start_time": "2022-01-16T23:20:21.846Z"
   },
   {
    "duration": 388,
    "start_time": "2022-01-17T16:01:53.645Z"
   },
   {
    "duration": 782,
    "start_time": "2022-01-17T16:02:03.545Z"
   },
   {
    "duration": 108,
    "start_time": "2022-01-17T16:02:04.330Z"
   },
   {
    "duration": 117,
    "start_time": "2022-01-17T16:02:04.441Z"
   },
   {
    "duration": 185,
    "start_time": "2022-01-17T16:02:04.563Z"
   },
   {
    "duration": 210,
    "start_time": "2022-01-17T16:02:04.750Z"
   },
   {
    "duration": 353,
    "start_time": "2022-01-17T16:02:04.962Z"
   },
   {
    "duration": 7,
    "start_time": "2022-01-17T16:02:05.318Z"
   },
   {
    "duration": 172,
    "start_time": "2022-01-17T16:02:05.330Z"
   },
   {
    "duration": 175,
    "start_time": "2022-01-17T16:02:05.506Z"
   },
   {
    "duration": 172,
    "start_time": "2022-01-17T16:02:05.684Z"
   },
   {
    "duration": 347,
    "start_time": "2022-01-17T16:02:05.858Z"
   },
   {
    "duration": 11,
    "start_time": "2022-01-17T16:02:06.208Z"
   },
   {
    "duration": 157,
    "start_time": "2022-01-17T16:02:06.223Z"
   },
   {
    "duration": 207,
    "start_time": "2022-01-17T16:02:06.382Z"
   },
   {
    "duration": 189,
    "start_time": "2022-01-17T16:02:06.591Z"
   },
   {
    "duration": 218,
    "start_time": "2022-01-17T16:02:06.782Z"
   },
   {
    "duration": 188,
    "start_time": "2022-01-17T16:02:07.003Z"
   },
   {
    "duration": 227,
    "start_time": "2022-01-17T16:02:07.193Z"
   },
   {
    "duration": 140,
    "start_time": "2022-01-17T16:02:07.422Z"
   },
   {
    "duration": 264,
    "start_time": "2022-01-17T16:02:07.564Z"
   },
   {
    "duration": -1281,
    "start_time": "2022-01-17T16:02:09.112Z"
   },
   {
    "duration": -1284,
    "start_time": "2022-01-17T16:02:09.117Z"
   },
   {
    "duration": 5,
    "start_time": "2022-01-17T16:02:34.454Z"
   },
   {
    "duration": 34,
    "start_time": "2022-01-17T16:02:35.488Z"
   },
   {
    "duration": 23,
    "start_time": "2022-01-17T16:02:35.906Z"
   },
   {
    "duration": 29,
    "start_time": "2022-01-17T16:03:45.294Z"
   },
   {
    "duration": 21,
    "start_time": "2022-01-17T16:04:03.569Z"
   },
   {
    "duration": 26,
    "start_time": "2022-01-17T16:04:13.744Z"
   },
   {
    "duration": 54,
    "start_time": "2022-01-17T17:58:27.872Z"
   },
   {
    "duration": 101,
    "start_time": "2022-01-17T18:19:04.893Z"
   },
   {
    "duration": 1842,
    "start_time": "2022-01-17T18:19:24.397Z"
   },
   {
    "duration": 4,
    "start_time": "2022-01-17T18:19:46.895Z"
   },
   {
    "duration": 303,
    "start_time": "2022-01-17T18:19:46.902Z"
   },
   {
    "duration": 28,
    "start_time": "2022-01-17T18:19:47.209Z"
   },
   {
    "duration": 28,
    "start_time": "2022-01-17T18:19:47.240Z"
   },
   {
    "duration": 87,
    "start_time": "2022-01-17T18:19:47.271Z"
   },
   {
    "duration": 191,
    "start_time": "2022-01-17T18:19:47.361Z"
   },
   {
    "duration": 4,
    "start_time": "2022-01-17T18:19:47.556Z"
   },
   {
    "duration": 9,
    "start_time": "2022-01-17T18:19:47.563Z"
   },
   {
    "duration": 29,
    "start_time": "2022-01-17T18:19:47.575Z"
   },
   {
    "duration": 35,
    "start_time": "2022-01-17T18:19:47.607Z"
   },
   {
    "duration": 198,
    "start_time": "2022-01-17T18:19:47.644Z"
   },
   {
    "duration": 5,
    "start_time": "2022-01-17T18:19:47.844Z"
   },
   {
    "duration": 6,
    "start_time": "2022-01-17T18:19:47.852Z"
   },
   {
    "duration": 7,
    "start_time": "2022-01-17T18:19:47.861Z"
   },
   {
    "duration": 7,
    "start_time": "2022-01-17T18:19:47.871Z"
   },
   {
    "duration": 78,
    "start_time": "2022-01-17T18:19:47.881Z"
   },
   {
    "duration": 46,
    "start_time": "2022-01-17T18:19:47.962Z"
   },
   {
    "duration": 39,
    "start_time": "2022-01-17T18:19:48.025Z"
   },
   {
    "duration": 3,
    "start_time": "2022-01-17T18:19:48.069Z"
   },
   {
    "duration": 1917,
    "start_time": "2022-01-17T18:19:48.077Z"
   },
   {
    "duration": 4,
    "start_time": "2022-01-17T18:20:31.670Z"
   },
   {
    "duration": 131,
    "start_time": "2022-01-17T18:20:31.678Z"
   },
   {
    "duration": 33,
    "start_time": "2022-01-17T18:20:31.812Z"
   },
   {
    "duration": 26,
    "start_time": "2022-01-17T18:20:31.848Z"
   },
   {
    "duration": 93,
    "start_time": "2022-01-17T18:20:31.877Z"
   },
   {
    "duration": 191,
    "start_time": "2022-01-17T18:20:31.972Z"
   },
   {
    "duration": 4,
    "start_time": "2022-01-17T18:20:32.165Z"
   },
   {
    "duration": 14,
    "start_time": "2022-01-17T18:20:32.172Z"
   },
   {
    "duration": 37,
    "start_time": "2022-01-17T18:20:32.189Z"
   },
   {
    "duration": 19,
    "start_time": "2022-01-17T18:20:32.230Z"
   },
   {
    "duration": 279,
    "start_time": "2022-01-17T18:20:32.253Z"
   },
   {
    "duration": 6,
    "start_time": "2022-01-17T18:20:32.535Z"
   },
   {
    "duration": 7,
    "start_time": "2022-01-17T18:20:32.544Z"
   },
   {
    "duration": 7,
    "start_time": "2022-01-17T18:20:32.554Z"
   },
   {
    "duration": 10,
    "start_time": "2022-01-17T18:20:32.564Z"
   },
   {
    "duration": 59,
    "start_time": "2022-01-17T18:20:32.577Z"
   },
   {
    "duration": 47,
    "start_time": "2022-01-17T18:20:32.639Z"
   },
   {
    "duration": 60,
    "start_time": "2022-01-17T18:20:32.689Z"
   },
   {
    "duration": 3,
    "start_time": "2022-01-17T18:20:32.751Z"
   },
   {
    "duration": 2054,
    "start_time": "2022-01-17T18:20:32.757Z"
   },
   {
    "duration": 30,
    "start_time": "2022-01-17T18:20:34.814Z"
   },
   {
    "duration": 7,
    "start_time": "2022-01-17T18:20:34.846Z"
   },
   {
    "duration": 36,
    "start_time": "2022-01-17T18:20:34.855Z"
   },
   {
    "duration": 53,
    "start_time": "2022-01-17T18:20:34.893Z"
   },
   {
    "duration": 26,
    "start_time": "2022-01-17T18:20:34.948Z"
   },
   {
    "duration": 3,
    "start_time": "2022-01-17T18:27:55.403Z"
   },
   {
    "duration": 143,
    "start_time": "2022-01-17T18:27:55.409Z"
   },
   {
    "duration": 26,
    "start_time": "2022-01-17T18:27:55.555Z"
   },
   {
    "duration": 44,
    "start_time": "2022-01-17T18:27:55.584Z"
   },
   {
    "duration": 56,
    "start_time": "2022-01-17T18:27:55.631Z"
   },
   {
    "duration": 214,
    "start_time": "2022-01-17T18:27:55.690Z"
   },
   {
    "duration": 5,
    "start_time": "2022-01-17T18:27:55.906Z"
   },
   {
    "duration": 5,
    "start_time": "2022-01-17T18:27:55.925Z"
   },
   {
    "duration": 29,
    "start_time": "2022-01-17T18:27:55.933Z"
   },
   {
    "duration": 20,
    "start_time": "2022-01-17T18:27:55.965Z"
   },
   {
    "duration": 220,
    "start_time": "2022-01-17T18:27:55.987Z"
   },
   {
    "duration": 14,
    "start_time": "2022-01-17T18:27:56.209Z"
   },
   {
    "duration": 5,
    "start_time": "2022-01-17T18:27:56.225Z"
   },
   {
    "duration": 7,
    "start_time": "2022-01-17T18:27:56.232Z"
   },
   {
    "duration": 6,
    "start_time": "2022-01-17T18:27:56.241Z"
   },
   {
    "duration": 28,
    "start_time": "2022-01-17T18:27:56.250Z"
   },
   {
    "duration": 70,
    "start_time": "2022-01-17T18:27:56.281Z"
   },
   {
    "duration": 29,
    "start_time": "2022-01-17T18:27:56.354Z"
   },
   {
    "duration": 3,
    "start_time": "2022-01-17T18:27:56.385Z"
   },
   {
    "duration": 2068,
    "start_time": "2022-01-17T18:27:56.391Z"
   },
   {
    "duration": 35,
    "start_time": "2022-01-17T18:27:58.462Z"
   },
   {
    "duration": 26,
    "start_time": "2022-01-17T18:27:58.500Z"
   },
   {
    "duration": 38,
    "start_time": "2022-01-17T18:27:58.531Z"
   },
   {
    "duration": 27,
    "start_time": "2022-01-17T18:27:58.572Z"
   },
   {
    "duration": 42,
    "start_time": "2022-01-17T18:27:58.602Z"
   },
   {
    "duration": 9,
    "start_time": "2022-01-17T18:27:58.647Z"
   },
   {
    "duration": 15,
    "start_time": "2022-01-17T18:27:58.658Z"
   },
   {
    "duration": 13,
    "start_time": "2022-01-17T18:27:58.676Z"
   },
   {
    "duration": 19,
    "start_time": "2022-01-17T18:27:58.692Z"
   },
   {
    "duration": 6,
    "start_time": "2022-01-17T18:27:58.713Z"
   },
   {
    "duration": 6,
    "start_time": "2022-01-17T18:27:58.722Z"
   },
   {
    "duration": 6,
    "start_time": "2022-01-17T18:27:58.730Z"
   },
   {
    "duration": 7,
    "start_time": "2022-01-17T18:27:58.738Z"
   },
   {
    "duration": 5,
    "start_time": "2022-01-17T18:27:58.747Z"
   },
   {
    "duration": 473,
    "start_time": "2022-01-17T18:49:14.620Z"
   },
   {
    "duration": 332,
    "start_time": "2022-01-17T19:17:10.350Z"
   },
   {
    "duration": 332,
    "start_time": "2022-01-17T19:17:24.237Z"
   },
   {
    "duration": 335,
    "start_time": "2022-01-17T19:18:29.771Z"
   },
   {
    "duration": 334,
    "start_time": "2022-01-17T19:18:44.278Z"
   },
   {
    "duration": 329,
    "start_time": "2022-01-17T19:22:19.894Z"
   },
   {
    "duration": 411,
    "start_time": "2022-01-17T19:22:31.873Z"
   },
   {
    "duration": 343,
    "start_time": "2022-01-17T19:22:55.396Z"
   },
   {
    "duration": 338,
    "start_time": "2022-01-17T19:23:04.433Z"
   },
   {
    "duration": 343,
    "start_time": "2022-01-17T19:23:20.310Z"
   },
   {
    "duration": 337,
    "start_time": "2022-01-17T19:24:11.980Z"
   },
   {
    "duration": 356,
    "start_time": "2022-01-17T19:24:21.135Z"
   },
   {
    "duration": 321,
    "start_time": "2022-01-17T19:24:33.262Z"
   },
   {
    "duration": 271,
    "start_time": "2022-01-17T19:44:37.507Z"
   },
   {
    "duration": 560,
    "start_time": "2022-01-17T20:50:00.625Z"
   },
   {
    "duration": 319,
    "start_time": "2022-01-17T20:50:46.024Z"
   },
   {
    "duration": 21,
    "start_time": "2022-01-17T21:21:07.704Z"
   },
   {
    "duration": 2345,
    "start_time": "2022-01-17T21:21:12.745Z"
   },
   {
    "duration": 8,
    "start_time": "2022-01-17T23:11:15.332Z"
   },
   {
    "duration": 411,
    "start_time": "2022-01-17T23:13:23.234Z"
   },
   {
    "duration": 34,
    "start_time": "2022-01-17T23:20:06.095Z"
   },
   {
    "duration": 39,
    "start_time": "2022-01-17T23:20:23.089Z"
   },
   {
    "duration": 3,
    "start_time": "2022-01-17T23:21:33.474Z"
   },
   {
    "duration": 110,
    "start_time": "2022-01-17T23:21:33.483Z"
   },
   {
    "duration": 37,
    "start_time": "2022-01-17T23:21:33.596Z"
   },
   {
    "duration": 26,
    "start_time": "2022-01-17T23:21:33.636Z"
   },
   {
    "duration": 89,
    "start_time": "2022-01-17T23:21:33.665Z"
   },
   {
    "duration": 187,
    "start_time": "2022-01-17T23:21:33.757Z"
   },
   {
    "duration": 5,
    "start_time": "2022-01-17T23:21:33.946Z"
   },
   {
    "duration": 13,
    "start_time": "2022-01-17T23:21:33.953Z"
   },
   {
    "duration": 28,
    "start_time": "2022-01-17T23:21:33.970Z"
   },
   {
    "duration": 36,
    "start_time": "2022-01-17T23:21:34.001Z"
   },
   {
    "duration": 199,
    "start_time": "2022-01-17T23:21:34.040Z"
   },
   {
    "duration": 6,
    "start_time": "2022-01-17T23:21:34.242Z"
   },
   {
    "duration": 7,
    "start_time": "2022-01-17T23:21:34.250Z"
   },
   {
    "duration": 5,
    "start_time": "2022-01-17T23:21:34.259Z"
   },
   {
    "duration": 5,
    "start_time": "2022-01-17T23:21:34.266Z"
   },
   {
    "duration": 58,
    "start_time": "2022-01-17T23:21:34.273Z"
   },
   {
    "duration": 34,
    "start_time": "2022-01-17T23:21:34.333Z"
   },
   {
    "duration": 28,
    "start_time": "2022-01-17T23:21:34.369Z"
   },
   {
    "duration": 25,
    "start_time": "2022-01-17T23:21:34.399Z"
   },
   {
    "duration": 1630,
    "start_time": "2022-01-17T23:21:34.427Z"
   },
   {
    "duration": 30,
    "start_time": "2022-01-17T23:21:36.059Z"
   },
   {
    "duration": 6,
    "start_time": "2022-01-17T23:21:36.091Z"
   },
   {
    "duration": 52,
    "start_time": "2022-01-17T23:21:36.099Z"
   },
   {
    "duration": 28,
    "start_time": "2022-01-17T23:21:36.156Z"
   },
   {
    "duration": 41,
    "start_time": "2022-01-17T23:21:36.186Z"
   },
   {
    "duration": 361,
    "start_time": "2022-01-17T23:21:36.230Z"
   },
   {
    "duration": 338,
    "start_time": "2022-01-17T23:21:36.594Z"
   },
   {
    "duration": 345,
    "start_time": "2022-01-17T23:21:36.934Z"
   },
   {
    "duration": 334,
    "start_time": "2022-01-17T23:21:37.282Z"
   },
   {
    "duration": 302,
    "start_time": "2022-01-17T23:21:37.619Z"
   },
   {
    "duration": 3,
    "start_time": "2022-01-17T23:21:37.925Z"
   },
   {
    "duration": 7,
    "start_time": "2022-01-17T23:21:37.931Z"
   },
   {
    "duration": 5,
    "start_time": "2022-01-17T23:21:37.941Z"
   },
   {
    "duration": 6,
    "start_time": "2022-01-17T23:21:37.948Z"
   },
   {
    "duration": 341,
    "start_time": "2022-01-17T23:29:57.821Z"
   },
   {
    "duration": 555,
    "start_time": "2022-01-17T23:32:21.271Z"
   },
   {
    "duration": 460,
    "start_time": "2022-01-17T23:32:49.348Z"
   },
   {
    "duration": 340,
    "start_time": "2022-01-17T23:33:16.588Z"
   },
   {
    "duration": 358,
    "start_time": "2022-01-17T23:35:30.793Z"
   },
   {
    "duration": 17,
    "start_time": "2022-01-17T23:38:11.594Z"
   },
   {
    "duration": 425,
    "start_time": "2022-01-17T23:43:55.712Z"
   },
   {
    "duration": 622,
    "start_time": "2022-01-17T23:44:25.524Z"
   },
   {
    "duration": 464,
    "start_time": "2022-01-18T18:54:01.316Z"
   },
   {
    "duration": 1016,
    "start_time": "2022-01-18T18:54:12.490Z"
   },
   {
    "duration": 152,
    "start_time": "2022-01-18T18:54:13.510Z"
   },
   {
    "duration": 42,
    "start_time": "2022-01-18T18:54:13.666Z"
   },
   {
    "duration": 67,
    "start_time": "2022-01-18T18:54:13.711Z"
   },
   {
    "duration": 108,
    "start_time": "2022-01-18T18:54:13.781Z"
   },
   {
    "duration": 263,
    "start_time": "2022-01-18T18:54:13.892Z"
   },
   {
    "duration": 7,
    "start_time": "2022-01-18T18:54:14.158Z"
   },
   {
    "duration": 5,
    "start_time": "2022-01-18T18:54:14.171Z"
   },
   {
    "duration": 68,
    "start_time": "2022-01-18T18:54:14.180Z"
   },
   {
    "duration": 20,
    "start_time": "2022-01-18T18:54:14.250Z"
   },
   {
    "duration": 226,
    "start_time": "2022-01-18T18:54:14.273Z"
   },
   {
    "duration": 5,
    "start_time": "2022-01-18T18:54:14.501Z"
   },
   {
    "duration": 22,
    "start_time": "2022-01-18T18:54:14.509Z"
   },
   {
    "duration": 5,
    "start_time": "2022-01-18T18:54:14.533Z"
   },
   {
    "duration": 13,
    "start_time": "2022-01-18T18:54:14.540Z"
   },
   {
    "duration": 69,
    "start_time": "2022-01-18T18:54:14.555Z"
   },
   {
    "duration": 39,
    "start_time": "2022-01-18T18:54:14.627Z"
   },
   {
    "duration": 44,
    "start_time": "2022-01-18T18:54:14.669Z"
   },
   {
    "duration": 9,
    "start_time": "2022-01-18T18:54:14.715Z"
   },
   {
    "duration": 1729,
    "start_time": "2022-01-18T18:54:14.727Z"
   },
   {
    "duration": 37,
    "start_time": "2022-01-18T18:54:16.459Z"
   },
   {
    "duration": 4,
    "start_time": "2022-01-18T18:54:16.498Z"
   },
   {
    "duration": 37,
    "start_time": "2022-01-18T18:54:16.527Z"
   },
   {
    "duration": 68,
    "start_time": "2022-01-18T18:54:16.568Z"
   },
   {
    "duration": 37,
    "start_time": "2022-01-18T18:54:16.639Z"
   },
   {
    "duration": 561,
    "start_time": "2022-01-18T18:54:16.679Z"
   },
   {
    "duration": 2239,
    "start_time": "2022-01-18T18:54:17.243Z"
   },
   {
    "duration": 2769,
    "start_time": "2022-01-18T18:54:36.042Z"
   },
   {
    "duration": 759,
    "start_time": "2022-01-19T05:38:53.531Z"
   },
   {
    "duration": 105,
    "start_time": "2022-01-19T05:38:54.293Z"
   },
   {
    "duration": 29,
    "start_time": "2022-01-19T05:38:54.401Z"
   },
   {
    "duration": 34,
    "start_time": "2022-01-19T05:38:54.433Z"
   },
   {
    "duration": 77,
    "start_time": "2022-01-19T05:38:54.470Z"
   },
   {
    "duration": 177,
    "start_time": "2022-01-19T05:38:54.549Z"
   },
   {
    "duration": 6,
    "start_time": "2022-01-19T05:38:54.729Z"
   },
   {
    "duration": 4,
    "start_time": "2022-01-19T05:38:54.741Z"
   },
   {
    "duration": 25,
    "start_time": "2022-01-19T05:38:54.748Z"
   },
   {
    "duration": 56,
    "start_time": "2022-01-19T05:38:54.775Z"
   },
   {
    "duration": 182,
    "start_time": "2022-01-19T05:38:54.833Z"
   },
   {
    "duration": 8,
    "start_time": "2022-01-19T05:38:55.017Z"
   },
   {
    "duration": 7,
    "start_time": "2022-01-19T05:38:55.027Z"
   },
   {
    "duration": 5,
    "start_time": "2022-01-19T05:38:55.037Z"
   },
   {
    "duration": 6,
    "start_time": "2022-01-19T05:38:55.044Z"
   },
   {
    "duration": 28,
    "start_time": "2022-01-19T05:38:55.053Z"
   },
   {
    "duration": 74,
    "start_time": "2022-01-19T05:38:55.084Z"
   },
   {
    "duration": 32,
    "start_time": "2022-01-19T05:38:55.160Z"
   },
   {
    "duration": 2,
    "start_time": "2022-01-19T05:38:55.195Z"
   },
   {
    "duration": 2103,
    "start_time": "2022-01-19T05:38:55.223Z"
   },
   {
    "duration": 33,
    "start_time": "2022-01-19T05:38:57.328Z"
   },
   {
    "duration": 14,
    "start_time": "2022-01-19T05:38:57.363Z"
   },
   {
    "duration": 49,
    "start_time": "2022-01-19T05:38:57.382Z"
   },
   {
    "duration": 31,
    "start_time": "2022-01-19T05:38:57.434Z"
   },
   {
    "duration": 28,
    "start_time": "2022-01-19T05:38:57.468Z"
   },
   {
    "duration": 505,
    "start_time": "2022-01-19T05:38:57.524Z"
   },
   {
    "duration": 15,
    "start_time": "2022-01-19T05:38:58.032Z"
   },
   {
    "duration": 658,
    "start_time": "2022-01-19T05:38:58.050Z"
   },
   {
    "duration": 343,
    "start_time": "2022-01-19T05:38:58.710Z"
   },
   {
    "duration": 343,
    "start_time": "2022-01-19T05:38:59.055Z"
   },
   {
    "duration": 330,
    "start_time": "2022-01-19T05:38:59.401Z"
   },
   {
    "duration": 296,
    "start_time": "2022-01-19T05:38:59.733Z"
   },
   {
    "duration": 4,
    "start_time": "2022-01-19T05:39:00.032Z"
   },
   {
    "duration": 6,
    "start_time": "2022-01-19T05:39:00.039Z"
   },
   {
    "duration": 7,
    "start_time": "2022-01-19T05:39:00.048Z"
   },
   {
    "duration": 7,
    "start_time": "2022-01-19T05:39:00.058Z"
   },
   {
    "duration": 19,
    "start_time": "2022-01-19T05:56:41.629Z"
   },
   {
    "duration": 18,
    "start_time": "2022-01-19T05:56:54.980Z"
   },
   {
    "duration": 12,
    "start_time": "2022-01-19T05:57:21.196Z"
   },
   {
    "duration": 12,
    "start_time": "2022-01-19T05:57:40.260Z"
   },
   {
    "duration": 11,
    "start_time": "2022-01-19T05:57:46.732Z"
   },
   {
    "duration": 12,
    "start_time": "2022-01-19T05:57:53.466Z"
   },
   {
    "duration": 13,
    "start_time": "2022-01-19T05:58:24.425Z"
   },
   {
    "duration": 20,
    "start_time": "2022-01-19T05:59:34.461Z"
   },
   {
    "duration": 12,
    "start_time": "2022-01-19T05:59:40.268Z"
   },
   {
    "duration": 15,
    "start_time": "2022-01-19T06:04:55.246Z"
   },
   {
    "duration": 382,
    "start_time": "2022-01-19T06:14:28.161Z"
   },
   {
    "duration": 338,
    "start_time": "2022-01-19T06:23:22.981Z"
   },
   {
    "duration": 443,
    "start_time": "2022-01-19T06:23:43.098Z"
   },
   {
    "duration": 337,
    "start_time": "2022-01-19T06:24:43.423Z"
   },
   {
    "duration": 409,
    "start_time": "2022-01-19T06:24:51.797Z"
   },
   {
    "duration": 352,
    "start_time": "2022-01-19T06:25:09.062Z"
   },
   {
    "duration": 506,
    "start_time": "2022-01-19T06:25:19.556Z"
   },
   {
    "duration": 352,
    "start_time": "2022-01-19T06:25:32.137Z"
   },
   {
    "duration": 363,
    "start_time": "2022-01-19T06:25:39.917Z"
   },
   {
    "duration": 449,
    "start_time": "2022-01-19T09:02:18.232Z"
   },
   {
    "duration": 583,
    "start_time": "2022-01-19T10:12:08.008Z"
   },
   {
    "duration": 377,
    "start_time": "2022-01-19T10:12:24.206Z"
   },
   {
    "duration": 415,
    "start_time": "2022-01-19T10:14:47.844Z"
   },
   {
    "duration": 13,
    "start_time": "2022-01-19T10:15:08.166Z"
   },
   {
    "duration": 12,
    "start_time": "2022-01-19T10:22:05.380Z"
   },
   {
    "duration": 11,
    "start_time": "2022-01-19T10:22:11.028Z"
   },
   {
    "duration": 12,
    "start_time": "2022-01-19T10:26:40.290Z"
   },
   {
    "duration": 118,
    "start_time": "2022-01-19T12:23:14.379Z"
   },
   {
    "duration": 113,
    "start_time": "2022-01-19T12:24:30.976Z"
   },
   {
    "duration": 21,
    "start_time": "2022-01-19T12:24:49.576Z"
   },
   {
    "duration": 321,
    "start_time": "2022-01-19T15:36:31.291Z"
   },
   {
    "duration": 268,
    "start_time": "2022-01-19T15:37:07.442Z"
   },
   {
    "duration": 767,
    "start_time": "2022-01-19T15:37:12.932Z"
   },
   {
    "duration": 112,
    "start_time": "2022-01-19T15:37:13.702Z"
   },
   {
    "duration": 26,
    "start_time": "2022-01-19T15:37:13.817Z"
   },
   {
    "duration": 50,
    "start_time": "2022-01-19T15:37:13.846Z"
   },
   {
    "duration": 71,
    "start_time": "2022-01-19T15:37:13.899Z"
   },
   {
    "duration": 192,
    "start_time": "2022-01-19T15:37:13.973Z"
   },
   {
    "duration": 5,
    "start_time": "2022-01-19T15:37:14.167Z"
   },
   {
    "duration": 5,
    "start_time": "2022-01-19T15:37:14.175Z"
   },
   {
    "duration": 27,
    "start_time": "2022-01-19T15:37:14.185Z"
   },
   {
    "duration": 19,
    "start_time": "2022-01-19T15:37:14.215Z"
   },
   {
    "duration": 223,
    "start_time": "2022-01-19T15:37:14.237Z"
   },
   {
    "duration": 6,
    "start_time": "2022-01-19T15:37:14.463Z"
   },
   {
    "duration": 6,
    "start_time": "2022-01-19T15:37:14.471Z"
   },
   {
    "duration": 7,
    "start_time": "2022-01-19T15:37:14.479Z"
   },
   {
    "duration": 9,
    "start_time": "2022-01-19T15:37:14.488Z"
   },
   {
    "duration": 35,
    "start_time": "2022-01-19T15:37:14.499Z"
   },
   {
    "duration": 70,
    "start_time": "2022-01-19T15:37:14.537Z"
   },
   {
    "duration": 36,
    "start_time": "2022-01-19T15:37:14.609Z"
   },
   {
    "duration": 4,
    "start_time": "2022-01-19T15:37:14.669Z"
   },
   {
    "duration": 1650,
    "start_time": "2022-01-19T15:37:14.675Z"
   },
   {
    "duration": 43,
    "start_time": "2022-01-19T15:37:16.328Z"
   },
   {
    "duration": 6,
    "start_time": "2022-01-19T15:37:16.374Z"
   },
   {
    "duration": 45,
    "start_time": "2022-01-19T15:37:16.383Z"
   },
   {
    "duration": 60,
    "start_time": "2022-01-19T15:37:16.431Z"
   },
   {
    "duration": 31,
    "start_time": "2022-01-19T15:37:16.494Z"
   },
   {
    "duration": 543,
    "start_time": "2022-01-19T15:37:16.528Z"
   },
   {
    "duration": 12,
    "start_time": "2022-01-19T15:37:17.076Z"
   },
   {
    "duration": 22,
    "start_time": "2022-01-19T15:37:17.091Z"
   },
   {
    "duration": 933,
    "start_time": "2022-01-19T15:37:17.115Z"
   },
   {
    "duration": -736,
    "start_time": "2022-01-19T15:37:18.787Z"
   },
   {
    "duration": -738,
    "start_time": "2022-01-19T15:37:18.791Z"
   },
   {
    "duration": -741,
    "start_time": "2022-01-19T15:37:18.795Z"
   },
   {
    "duration": -729,
    "start_time": "2022-01-19T15:37:18.798Z"
   },
   {
    "duration": -731,
    "start_time": "2022-01-19T15:37:18.803Z"
   },
   {
    "duration": -733,
    "start_time": "2022-01-19T15:37:18.807Z"
   },
   {
    "duration": -734,
    "start_time": "2022-01-19T15:37:18.811Z"
   },
   {
    "duration": -735,
    "start_time": "2022-01-19T15:37:18.814Z"
   },
   {
    "duration": -735,
    "start_time": "2022-01-19T15:37:18.817Z"
   },
   {
    "duration": -737,
    "start_time": "2022-01-19T15:37:18.821Z"
   },
   {
    "duration": 354,
    "start_time": "2022-01-19T15:38:08.166Z"
   },
   {
    "duration": 721,
    "start_time": "2022-01-19T15:38:29.238Z"
   },
   {
    "duration": 354,
    "start_time": "2022-01-19T15:39:00.034Z"
   },
   {
    "duration": 10,
    "start_time": "2022-01-19T15:39:01.388Z"
   },
   {
    "duration": 348,
    "start_time": "2022-01-19T15:39:09.199Z"
   },
   {
    "duration": 338,
    "start_time": "2022-01-19T15:39:10.563Z"
   },
   {
    "duration": 278,
    "start_time": "2022-01-19T15:39:13.896Z"
   },
   {
    "duration": 11,
    "start_time": "2022-01-19T15:39:16.780Z"
   },
   {
    "duration": 19,
    "start_time": "2022-01-19T15:39:24.993Z"
   },
   {
    "duration": 11,
    "start_time": "2022-01-19T15:39:25.914Z"
   },
   {
    "duration": 83,
    "start_time": "2022-01-19T15:46:48.522Z"
   },
   {
    "duration": 94,
    "start_time": "2022-01-19T15:47:09.167Z"
   },
   {
    "duration": 10,
    "start_time": "2022-01-19T15:48:18.153Z"
   },
   {
    "duration": 285,
    "start_time": "2022-01-19T17:00:19.335Z"
   },
   {
    "duration": 21,
    "start_time": "2022-01-19T17:01:14.979Z"
   },
   {
    "duration": 103,
    "start_time": "2022-01-19T17:02:03.589Z"
   },
   {
    "duration": 117,
    "start_time": "2022-01-19T17:02:36.482Z"
   },
   {
    "duration": 159,
    "start_time": "2022-01-19T17:03:05.139Z"
   },
   {
    "duration": 99,
    "start_time": "2022-01-19T17:03:53.018Z"
   },
   {
    "duration": 82,
    "start_time": "2022-01-19T17:03:57.602Z"
   },
   {
    "duration": 14,
    "start_time": "2022-01-19T17:04:20.420Z"
   },
   {
    "duration": 13,
    "start_time": "2022-01-19T17:04:51.582Z"
   },
   {
    "duration": 17,
    "start_time": "2022-01-19T17:19:42.344Z"
   },
   {
    "duration": 49,
    "start_time": "2022-01-19T17:19:51.051Z"
   },
   {
    "duration": 18,
    "start_time": "2022-01-19T17:19:58.216Z"
   },
   {
    "duration": 20,
    "start_time": "2022-01-19T17:20:06.595Z"
   },
   {
    "duration": 18,
    "start_time": "2022-01-19T17:21:44.697Z"
   },
   {
    "duration": 19,
    "start_time": "2022-01-19T17:21:50.342Z"
   },
   {
    "duration": 17,
    "start_time": "2022-01-19T17:22:30.853Z"
   },
   {
    "duration": 292,
    "start_time": "2022-01-19T17:36:18.063Z"
   },
   {
    "duration": 301,
    "start_time": "2022-01-19T17:36:40.536Z"
   },
   {
    "duration": 21,
    "start_time": "2022-01-19T17:36:59.524Z"
   },
   {
    "duration": 65,
    "start_time": "2022-01-19T17:37:11.247Z"
   },
   {
    "duration": 21,
    "start_time": "2022-01-19T17:37:17.819Z"
   },
   {
    "duration": 122,
    "start_time": "2022-01-19T17:52:16.664Z"
   },
   {
    "duration": 25,
    "start_time": "2022-01-19T17:52:38.160Z"
   },
   {
    "duration": 366,
    "start_time": "2022-01-19T18:36:34.203Z"
   },
   {
    "duration": 570,
    "start_time": "2022-01-19T18:37:24.005Z"
   },
   {
    "duration": 21,
    "start_time": "2022-01-19T18:38:46.981Z"
   },
   {
    "duration": 15,
    "start_time": "2022-01-19T18:38:49.832Z"
   },
   {
    "duration": 3,
    "start_time": "2022-01-19T18:38:50.591Z"
   },
   {
    "duration": 484,
    "start_time": "2022-01-19T18:38:51.771Z"
   },
   {
    "duration": 478,
    "start_time": "2022-01-19T18:43:57.851Z"
   },
   {
    "duration": 376,
    "start_time": "2022-01-19T18:44:14.197Z"
   },
   {
    "duration": 18,
    "start_time": "2022-01-19T18:45:08.118Z"
   },
   {
    "duration": 15,
    "start_time": "2022-01-19T18:45:09.106Z"
   },
   {
    "duration": 4,
    "start_time": "2022-01-19T18:45:10.715Z"
   },
   {
    "duration": 367,
    "start_time": "2022-01-19T18:45:11.790Z"
   },
   {
    "duration": 405,
    "start_time": "2022-01-19T18:46:04.983Z"
   },
   {
    "duration": 366,
    "start_time": "2022-01-19T18:46:19.926Z"
   },
   {
    "duration": 462,
    "start_time": "2022-01-19T18:46:31.388Z"
   },
   {
    "duration": 617,
    "start_time": "2022-01-19T19:16:07.400Z"
   },
   {
    "duration": 642,
    "start_time": "2022-01-19T19:16:19.562Z"
   },
   {
    "duration": 533,
    "start_time": "2022-01-19T19:16:25.338Z"
   },
   {
    "duration": 622,
    "start_time": "2022-01-19T19:16:49.235Z"
   },
   {
    "duration": 448,
    "start_time": "2022-01-19T19:17:18.718Z"
   },
   {
    "duration": 459,
    "start_time": "2022-01-19T19:21:16.317Z"
   },
   {
    "duration": 593,
    "start_time": "2022-01-19T19:21:31.565Z"
   },
   {
    "duration": 453,
    "start_time": "2022-01-19T19:21:40.147Z"
   },
   {
    "duration": 367,
    "start_time": "2022-01-19T19:23:51.710Z"
   },
   {
    "duration": 372,
    "start_time": "2022-01-19T19:24:18.586Z"
   },
   {
    "duration": 370,
    "start_time": "2022-01-19T19:24:22.064Z"
   },
   {
    "duration": 399,
    "start_time": "2022-01-19T19:27:58.277Z"
   },
   {
    "duration": 404,
    "start_time": "2022-01-19T19:28:36.624Z"
   },
   {
    "duration": 363,
    "start_time": "2022-01-19T19:29:23.828Z"
   },
   {
    "duration": 7,
    "start_time": "2022-01-19T19:29:48.966Z"
   },
   {
    "duration": 9,
    "start_time": "2022-01-19T19:30:08.259Z"
   },
   {
    "duration": 257,
    "start_time": "2022-01-19T20:36:24.909Z"
   },
   {
    "duration": 9,
    "start_time": "2022-01-19T20:36:42.953Z"
   },
   {
    "duration": 416,
    "start_time": "2022-01-19T20:37:42.145Z"
   },
   {
    "duration": 495,
    "start_time": "2022-01-19T20:38:37.137Z"
   },
   {
    "duration": 4,
    "start_time": "2022-01-19T20:40:52.175Z"
   },
   {
    "duration": 448,
    "start_time": "2022-01-19T20:41:02.916Z"
   },
   {
    "duration": 552,
    "start_time": "2022-01-19T20:41:17.435Z"
   },
   {
    "duration": 51,
    "start_time": "2022-01-19T20:41:34.014Z"
   },
   {
    "duration": 334,
    "start_time": "2022-01-19T20:43:35.327Z"
   },
   {
    "duration": 17,
    "start_time": "2022-01-19T20:44:31.757Z"
   },
   {
    "duration": 11,
    "start_time": "2022-01-19T20:46:10.134Z"
   },
   {
    "duration": 213,
    "start_time": "2022-01-19T20:47:07.797Z"
   },
   {
    "duration": 409,
    "start_time": "2022-01-19T21:21:23.749Z"
   },
   {
    "duration": 215,
    "start_time": "2022-01-19T21:21:30.404Z"
   },
   {
    "duration": 5,
    "start_time": "2022-01-19T21:22:06.335Z"
   },
   {
    "duration": 644,
    "start_time": "2022-01-19T21:28:23.802Z"
   },
   {
    "duration": 267,
    "start_time": "2022-01-19T21:28:36.743Z"
   },
   {
    "duration": 38,
    "start_time": "2022-01-19T21:28:51.501Z"
   },
   {
    "duration": 483,
    "start_time": "2022-01-19T21:42:04.868Z"
   },
   {
    "duration": 255,
    "start_time": "2022-01-19T21:44:38.183Z"
   },
   {
    "duration": 12,
    "start_time": "2022-01-19T21:52:15.487Z"
   },
   {
    "duration": 1831,
    "start_time": "2022-01-19T21:52:42.866Z"
   },
   {
    "duration": 270,
    "start_time": "2022-01-19T21:52:55.371Z"
   },
   {
    "duration": 11,
    "start_time": "2022-01-19T21:53:00.860Z"
   },
   {
    "duration": 13,
    "start_time": "2022-01-19T21:53:09.890Z"
   },
   {
    "duration": 284,
    "start_time": "2022-01-19T21:53:20.972Z"
   },
   {
    "duration": 344,
    "start_time": "2022-01-19T22:07:13.981Z"
   },
   {
    "duration": 265,
    "start_time": "2022-01-19T22:07:21.093Z"
   },
   {
    "duration": 16,
    "start_time": "2022-01-19T22:07:47.343Z"
   },
   {
    "duration": 5715,
    "start_time": "2022-01-19T22:07:48.100Z"
   },
   {
    "duration": 1864,
    "start_time": "2022-01-19T22:17:25.697Z"
   },
   {
    "duration": 260,
    "start_time": "2022-01-19T22:24:18.231Z"
   },
   {
    "duration": 342,
    "start_time": "2022-01-19T22:25:00.763Z"
   },
   {
    "duration": 316,
    "start_time": "2022-01-19T22:25:29.407Z"
   },
   {
    "duration": 4,
    "start_time": "2022-01-19T22:25:54.042Z"
   },
   {
    "duration": 283,
    "start_time": "2022-01-19T22:26:00.286Z"
   },
   {
    "duration": 287,
    "start_time": "2022-01-19T22:26:01.178Z"
   },
   {
    "duration": 280,
    "start_time": "2022-01-19T22:26:10.185Z"
   },
   {
    "duration": 20689,
    "start_time": "2022-01-19T22:26:54.201Z"
   },
   {
    "duration": 2117,
    "start_time": "2022-01-19T22:27:29.986Z"
   },
   {
    "duration": 286,
    "start_time": "2022-01-19T22:27:32.106Z"
   },
   {
    "duration": 303,
    "start_time": "2022-01-19T22:27:39.196Z"
   },
   {
    "duration": 274,
    "start_time": "2022-01-19T22:27:40.975Z"
   },
   {
    "duration": 276,
    "start_time": "2022-01-19T22:27:48.932Z"
   },
   {
    "duration": 3,
    "start_time": "2022-01-19T22:29:29.969Z"
   },
   {
    "duration": 7711,
    "start_time": "2022-01-19T22:29:31.560Z"
   },
   {
    "duration": 4,
    "start_time": "2022-01-19T22:29:49.608Z"
   },
   {
    "duration": 7723,
    "start_time": "2022-01-19T22:29:49.616Z"
   },
   {
    "duration": 122,
    "start_time": "2022-01-19T22:29:57.342Z"
   },
   {
    "duration": 28,
    "start_time": "2022-01-19T22:29:57.466Z"
   },
   {
    "duration": 27,
    "start_time": "2022-01-19T22:29:57.497Z"
   },
   {
    "duration": 80,
    "start_time": "2022-01-19T22:29:57.526Z"
   },
   {
    "duration": 187,
    "start_time": "2022-01-19T22:29:57.610Z"
   },
   {
    "duration": 4,
    "start_time": "2022-01-19T22:29:57.800Z"
   },
   {
    "duration": 9,
    "start_time": "2022-01-19T22:29:57.807Z"
   },
   {
    "duration": 24,
    "start_time": "2022-01-19T22:29:57.818Z"
   },
   {
    "duration": 40,
    "start_time": "2022-01-19T22:29:57.844Z"
   },
   {
    "duration": 198,
    "start_time": "2022-01-19T22:29:57.886Z"
   },
   {
    "duration": 5,
    "start_time": "2022-01-19T22:29:58.086Z"
   },
   {
    "duration": 6,
    "start_time": "2022-01-19T22:29:58.093Z"
   },
   {
    "duration": 5,
    "start_time": "2022-01-19T22:29:58.101Z"
   },
   {
    "duration": 8,
    "start_time": "2022-01-19T22:29:58.108Z"
   },
   {
    "duration": 56,
    "start_time": "2022-01-19T22:29:58.118Z"
   },
   {
    "duration": 37,
    "start_time": "2022-01-19T22:29:58.176Z"
   },
   {
    "duration": 51,
    "start_time": "2022-01-19T22:29:58.218Z"
   },
   {
    "duration": 3,
    "start_time": "2022-01-19T22:29:58.273Z"
   },
   {
    "duration": 1760,
    "start_time": "2022-01-19T22:29:58.278Z"
   },
   {
    "duration": 45,
    "start_time": "2022-01-19T22:30:00.040Z"
   },
   {
    "duration": 6,
    "start_time": "2022-01-19T22:30:00.088Z"
   },
   {
    "duration": 48,
    "start_time": "2022-01-19T22:30:00.096Z"
   },
   {
    "duration": 43,
    "start_time": "2022-01-19T22:30:00.146Z"
   },
   {
    "duration": 26,
    "start_time": "2022-01-19T22:30:00.192Z"
   },
   {
    "duration": 416,
    "start_time": "2022-01-19T22:30:00.220Z"
   },
   {
    "duration": 13,
    "start_time": "2022-01-19T22:30:00.639Z"
   },
   {
    "duration": 364,
    "start_time": "2022-01-19T22:30:00.670Z"
   },
   {
    "duration": 380,
    "start_time": "2022-01-19T22:30:01.036Z"
   },
   {
    "duration": 11,
    "start_time": "2022-01-19T22:30:01.419Z"
   },
   {
    "duration": 369,
    "start_time": "2022-01-19T22:30:01.432Z"
   },
   {
    "duration": 337,
    "start_time": "2022-01-19T22:30:01.803Z"
   },
   {
    "duration": 297,
    "start_time": "2022-01-19T22:30:02.143Z"
   },
   {
    "duration": 10,
    "start_time": "2022-01-19T22:30:02.443Z"
   },
   {
    "duration": 2,
    "start_time": "2022-01-19T22:30:02.470Z"
   },
   {
    "duration": 29,
    "start_time": "2022-01-19T22:30:02.474Z"
   },
   {
    "duration": 12,
    "start_time": "2022-01-19T22:30:02.505Z"
   },
   {
    "duration": 8,
    "start_time": "2022-01-19T22:30:02.520Z"
   },
   {
    "duration": 471,
    "start_time": "2022-01-19T22:30:02.530Z"
   },
   {
    "duration": 473,
    "start_time": "2022-01-19T22:30:03.003Z"
   },
   {
    "duration": 381,
    "start_time": "2022-01-19T22:30:03.478Z"
   },
   {
    "duration": 11,
    "start_time": "2022-01-19T22:30:03.861Z"
   },
   {
    "duration": 8,
    "start_time": "2022-01-19T22:30:03.875Z"
   },
   {
    "duration": 53,
    "start_time": "2022-01-19T22:30:03.886Z"
   },
   {
    "duration": 41,
    "start_time": "2022-01-19T22:30:03.941Z"
   },
   {
    "duration": 13,
    "start_time": "2022-01-19T22:30:03.985Z"
   },
   {
    "duration": 394,
    "start_time": "2022-01-19T22:30:04.001Z"
   },
   {
    "duration": 6,
    "start_time": "2022-01-19T22:30:04.397Z"
   },
   {
    "duration": 37,
    "start_time": "2022-01-19T22:30:04.405Z"
   },
   {
    "duration": 578,
    "start_time": "2022-01-19T22:30:04.469Z"
   },
   {
    "duration": 267,
    "start_time": "2022-01-19T22:30:05.049Z"
   },
   {
    "duration": 17,
    "start_time": "2022-01-19T22:30:05.318Z"
   },
   {
    "duration": 5499,
    "start_time": "2022-01-19T22:30:05.337Z"
   },
   {
    "duration": 1835,
    "start_time": "2022-01-19T22:30:10.842Z"
   },
   {
    "duration": 447,
    "start_time": "2022-01-19T22:30:12.679Z"
   },
   {
    "duration": -371,
    "start_time": "2022-01-19T22:30:13.499Z"
   },
   {
    "duration": 256,
    "start_time": "2022-01-19T22:32:09.668Z"
   },
   {
    "duration": 581,
    "start_time": "2022-01-19T22:36:21.990Z"
   },
   {
    "duration": 558,
    "start_time": "2022-01-19T22:36:49.332Z"
   },
   {
    "duration": 614,
    "start_time": "2022-01-19T22:39:59.884Z"
   },
   {
    "duration": 575,
    "start_time": "2022-01-19T22:40:49.683Z"
   },
   {
    "duration": 807,
    "start_time": "2022-01-19T22:40:59.091Z"
   },
   {
    "duration": 726,
    "start_time": "2022-01-19T22:42:20.348Z"
   },
   {
    "duration": 619,
    "start_time": "2022-01-19T22:42:27.157Z"
   },
   {
    "duration": 622,
    "start_time": "2022-01-19T22:42:33.055Z"
   },
   {
    "duration": 263,
    "start_time": "2022-01-19T22:43:02.219Z"
   },
   {
    "duration": 379,
    "start_time": "2022-01-19T22:43:56.292Z"
   },
   {
    "duration": 16,
    "start_time": "2022-01-19T22:45:59.581Z"
   },
   {
    "duration": 6318,
    "start_time": "2022-01-19T22:46:01.340Z"
   },
   {
    "duration": 2025,
    "start_time": "2022-01-19T22:46:07.669Z"
   },
   {
    "duration": 625,
    "start_time": "2022-01-19T22:46:09.697Z"
   },
   {
    "duration": 381,
    "start_time": "2022-01-19T22:46:10.324Z"
   },
   {
    "duration": 3202,
    "start_time": "2022-01-19T22:47:40.901Z"
   },
   {
    "duration": 5708,
    "start_time": "2022-01-19T22:48:03.653Z"
   },
   {
    "duration": 3219,
    "start_time": "2022-01-19T22:48:30.085Z"
   },
   {
    "duration": 270,
    "start_time": "2022-01-19T22:48:43.422Z"
   },
   {
    "duration": 19,
    "start_time": "2022-01-19T22:49:06.761Z"
   },
   {
    "duration": 290,
    "start_time": "2022-01-19T22:49:25.245Z"
   },
   {
    "duration": 6374,
    "start_time": "2022-01-19T22:49:32.772Z"
   },
   {
    "duration": 1846,
    "start_time": "2022-01-19T22:49:42.839Z"
   },
   {
    "duration": 281,
    "start_time": "2022-01-19T22:50:04.198Z"
   },
   {
    "duration": 615,
    "start_time": "2022-01-19T22:50:33.295Z"
   },
   {
    "duration": 367,
    "start_time": "2022-01-19T22:51:13.235Z"
   },
   {
    "duration": 4,
    "start_time": "2022-01-19T22:53:52.169Z"
   },
   {
    "duration": 7627,
    "start_time": "2022-01-19T22:53:52.175Z"
   },
   {
    "duration": 122,
    "start_time": "2022-01-19T22:53:59.806Z"
   },
   {
    "duration": 38,
    "start_time": "2022-01-19T22:53:59.931Z"
   },
   {
    "duration": 27,
    "start_time": "2022-01-19T22:53:59.972Z"
   },
   {
    "duration": 74,
    "start_time": "2022-01-19T22:54:00.002Z"
   },
   {
    "duration": 298,
    "start_time": "2022-01-19T22:54:00.079Z"
   },
   {
    "duration": 5,
    "start_time": "2022-01-19T22:54:00.380Z"
   },
   {
    "duration": 13,
    "start_time": "2022-01-19T22:54:00.387Z"
   },
   {
    "duration": 30,
    "start_time": "2022-01-19T22:54:00.402Z"
   },
   {
    "duration": 42,
    "start_time": "2022-01-19T22:54:00.434Z"
   },
   {
    "duration": 194,
    "start_time": "2022-01-19T22:54:00.478Z"
   },
   {
    "duration": 5,
    "start_time": "2022-01-19T22:54:00.674Z"
   },
   {
    "duration": 19,
    "start_time": "2022-01-19T22:54:00.681Z"
   },
   {
    "duration": 13,
    "start_time": "2022-01-19T22:54:00.702Z"
   },
   {
    "duration": 12,
    "start_time": "2022-01-19T22:54:00.717Z"
   },
   {
    "duration": 40,
    "start_time": "2022-01-19T22:54:00.731Z"
   },
   {
    "duration": 36,
    "start_time": "2022-01-19T22:54:00.773Z"
   },
   {
    "duration": 30,
    "start_time": "2022-01-19T22:54:00.815Z"
   },
   {
    "duration": 3,
    "start_time": "2022-01-19T22:54:00.871Z"
   },
   {
    "duration": 1972,
    "start_time": "2022-01-19T22:54:00.877Z"
   },
   {
    "duration": 43,
    "start_time": "2022-01-19T22:54:02.851Z"
   },
   {
    "duration": 5,
    "start_time": "2022-01-19T22:54:02.897Z"
   },
   {
    "duration": 38,
    "start_time": "2022-01-19T22:54:02.905Z"
   },
   {
    "duration": 49,
    "start_time": "2022-01-19T22:54:02.946Z"
   },
   {
    "duration": 27,
    "start_time": "2022-01-19T22:54:02.997Z"
   },
   {
    "duration": 396,
    "start_time": "2022-01-19T22:54:03.026Z"
   },
   {
    "duration": 10,
    "start_time": "2022-01-19T22:54:03.424Z"
   },
   {
    "duration": 359,
    "start_time": "2022-01-19T22:54:03.437Z"
   },
   {
    "duration": 363,
    "start_time": "2022-01-19T22:54:03.798Z"
   },
   {
    "duration": 16,
    "start_time": "2022-01-19T22:54:04.163Z"
   },
   {
    "duration": 467,
    "start_time": "2022-01-19T22:54:04.181Z"
   },
   {
    "duration": 337,
    "start_time": "2022-01-19T22:54:04.651Z"
   },
   {
    "duration": 292,
    "start_time": "2022-01-19T22:54:04.990Z"
   },
   {
    "duration": 11,
    "start_time": "2022-01-19T22:54:05.285Z"
   },
   {
    "duration": 3,
    "start_time": "2022-01-19T22:54:05.298Z"
   },
   {
    "duration": 20,
    "start_time": "2022-01-19T22:54:05.303Z"
   },
   {
    "duration": 50,
    "start_time": "2022-01-19T22:54:05.325Z"
   },
   {
    "duration": 2,
    "start_time": "2022-01-19T22:54:05.377Z"
   },
   {
    "duration": 469,
    "start_time": "2022-01-19T22:54:05.382Z"
   },
   {
    "duration": 475,
    "start_time": "2022-01-19T22:54:05.854Z"
   },
   {
    "duration": 384,
    "start_time": "2022-01-19T22:54:06.332Z"
   },
   {
    "duration": 8,
    "start_time": "2022-01-19T22:54:06.718Z"
   },
   {
    "duration": 3,
    "start_time": "2022-01-19T22:54:06.728Z"
   },
   {
    "duration": 75,
    "start_time": "2022-01-19T22:54:06.734Z"
   },
   {
    "duration": 16,
    "start_time": "2022-01-19T22:54:06.811Z"
   },
   {
    "duration": 12,
    "start_time": "2022-01-19T22:54:06.829Z"
   },
   {
    "duration": 225,
    "start_time": "2022-01-19T22:54:06.868Z"
   },
   {
    "duration": 6,
    "start_time": "2022-01-19T22:54:07.095Z"
   },
   {
    "duration": 39,
    "start_time": "2022-01-19T22:54:07.103Z"
   },
   {
    "duration": 500,
    "start_time": "2022-01-19T22:54:07.145Z"
   },
   {
    "duration": 293,
    "start_time": "2022-01-19T22:54:07.648Z"
   },
   {
    "duration": 28,
    "start_time": "2022-01-19T22:54:07.943Z"
   },
   {
    "duration": 5668,
    "start_time": "2022-01-19T22:54:07.973Z"
   },
   {
    "duration": 1796,
    "start_time": "2022-01-19T22:54:13.647Z"
   },
   {
    "duration": 666,
    "start_time": "2022-01-19T22:54:15.446Z"
   },
   {
    "duration": 389,
    "start_time": "2022-01-19T22:54:16.114Z"
   },
   {
    "duration": 5398,
    "start_time": "2022-01-19T22:54:16.505Z"
   },
   {
    "duration": 1842,
    "start_time": "2022-01-19T22:54:21.905Z"
   },
   {
    "duration": 651,
    "start_time": "2022-01-19T22:54:23.750Z"
   },
   {
    "duration": 391,
    "start_time": "2022-01-19T22:54:24.403Z"
   },
   {
    "duration": 4,
    "start_time": "2022-01-19T22:57:40.075Z"
   },
   {
    "duration": 130,
    "start_time": "2022-01-19T22:57:40.081Z"
   },
   {
    "duration": 26,
    "start_time": "2022-01-19T22:57:40.214Z"
   },
   {
    "duration": 51,
    "start_time": "2022-01-19T22:57:40.243Z"
   },
   {
    "duration": 79,
    "start_time": "2022-01-19T22:57:40.297Z"
   },
   {
    "duration": 202,
    "start_time": "2022-01-19T22:57:40.379Z"
   },
   {
    "duration": 4,
    "start_time": "2022-01-19T22:57:40.585Z"
   },
   {
    "duration": 6,
    "start_time": "2022-01-19T22:57:40.592Z"
   },
   {
    "duration": 28,
    "start_time": "2022-01-19T22:57:40.600Z"
   },
   {
    "duration": 45,
    "start_time": "2022-01-19T22:57:40.630Z"
   },
   {
    "duration": 200,
    "start_time": "2022-01-19T22:57:40.678Z"
   },
   {
    "duration": 5,
    "start_time": "2022-01-19T22:57:40.880Z"
   },
   {
    "duration": 11,
    "start_time": "2022-01-19T22:57:40.887Z"
   },
   {
    "duration": 13,
    "start_time": "2022-01-19T22:57:40.901Z"
   },
   {
    "duration": 7,
    "start_time": "2022-01-19T22:57:40.916Z"
   },
   {
    "duration": 62,
    "start_time": "2022-01-19T22:57:40.925Z"
   },
   {
    "duration": 52,
    "start_time": "2022-01-19T22:57:40.990Z"
   },
   {
    "duration": 50,
    "start_time": "2022-01-19T22:57:41.045Z"
   },
   {
    "duration": 3,
    "start_time": "2022-01-19T22:57:41.100Z"
   },
   {
    "duration": 1751,
    "start_time": "2022-01-19T22:57:41.106Z"
   },
   {
    "duration": 35,
    "start_time": "2022-01-19T22:57:42.860Z"
   },
   {
    "duration": 7,
    "start_time": "2022-01-19T22:57:42.898Z"
   },
   {
    "duration": 38,
    "start_time": "2022-01-19T22:57:42.907Z"
   },
   {
    "duration": 47,
    "start_time": "2022-01-19T22:57:42.948Z"
   },
   {
    "duration": 26,
    "start_time": "2022-01-19T22:57:42.998Z"
   },
   {
    "duration": 404,
    "start_time": "2022-01-19T22:57:43.026Z"
   },
   {
    "duration": 10,
    "start_time": "2022-01-19T22:57:43.432Z"
   },
   {
    "duration": 652,
    "start_time": "2022-01-19T22:57:43.444Z"
   },
   {
    "duration": 373,
    "start_time": "2022-01-19T22:57:44.099Z"
   },
   {
    "duration": 10,
    "start_time": "2022-01-19T22:57:44.474Z"
   },
   {
    "duration": 357,
    "start_time": "2022-01-19T22:57:44.486Z"
   },
   {
    "duration": 343,
    "start_time": "2022-01-19T22:57:44.845Z"
   },
   {
    "duration": 300,
    "start_time": "2022-01-19T22:57:45.190Z"
   },
   {
    "duration": 10,
    "start_time": "2022-01-19T22:57:45.492Z"
   },
   {
    "duration": 3,
    "start_time": "2022-01-19T22:57:45.505Z"
   },
   {
    "duration": 19,
    "start_time": "2022-01-19T22:57:45.510Z"
   },
   {
    "duration": 47,
    "start_time": "2022-01-19T22:57:45.531Z"
   },
   {
    "duration": 3,
    "start_time": "2022-01-19T22:57:45.580Z"
   },
   {
    "duration": 514,
    "start_time": "2022-01-19T22:57:45.585Z"
   },
   {
    "duration": 493,
    "start_time": "2022-01-19T22:57:46.101Z"
   },
   {
    "duration": 379,
    "start_time": "2022-01-19T22:57:46.597Z"
   },
   {
    "duration": 6,
    "start_time": "2022-01-19T22:57:46.979Z"
   },
   {
    "duration": 3,
    "start_time": "2022-01-19T22:57:46.988Z"
   },
   {
    "duration": 78,
    "start_time": "2022-01-19T22:57:46.994Z"
   },
   {
    "duration": 14,
    "start_time": "2022-01-19T22:57:47.074Z"
   },
   {
    "duration": 13,
    "start_time": "2022-01-19T22:57:47.091Z"
   },
   {
    "duration": 250,
    "start_time": "2022-01-19T22:57:47.106Z"
   },
   {
    "duration": 12,
    "start_time": "2022-01-19T22:57:47.359Z"
   },
   {
    "duration": 37,
    "start_time": "2022-01-19T22:57:47.374Z"
   },
   {
    "duration": 550,
    "start_time": "2022-01-19T22:57:47.414Z"
   },
   {
    "duration": 298,
    "start_time": "2022-01-19T22:57:47.966Z"
   },
   {
    "duration": 20,
    "start_time": "2022-01-19T22:57:48.266Z"
   },
   {
    "duration": 5744,
    "start_time": "2022-01-19T22:57:48.289Z"
   },
   {
    "duration": 1793,
    "start_time": "2022-01-19T22:57:54.037Z"
   },
   {
    "duration": 635,
    "start_time": "2022-01-19T22:57:55.836Z"
   },
   {
    "duration": 641,
    "start_time": "2022-01-19T22:57:56.474Z"
   },
   {
    "duration": 5633,
    "start_time": "2022-01-19T22:57:57.117Z"
   },
   {
    "duration": 1819,
    "start_time": "2022-01-19T22:58:02.752Z"
   },
   {
    "duration": 635,
    "start_time": "2022-01-19T22:58:04.573Z"
   },
   {
    "duration": 403,
    "start_time": "2022-01-19T22:58:05.210Z"
   },
   {
    "duration": 668,
    "start_time": "2022-01-20T17:33:14.645Z"
   },
   {
    "duration": 87,
    "start_time": "2022-01-20T17:33:15.314Z"
   },
   {
    "duration": 20,
    "start_time": "2022-01-20T17:33:15.403Z"
   },
   {
    "duration": 23,
    "start_time": "2022-01-20T17:33:15.425Z"
   },
   {
    "duration": 38,
    "start_time": "2022-01-20T17:33:15.461Z"
   },
   {
    "duration": 121,
    "start_time": "2022-01-20T17:33:15.501Z"
   },
   {
    "duration": 4,
    "start_time": "2022-01-20T17:33:15.624Z"
   },
   {
    "duration": 13,
    "start_time": "2022-01-20T17:33:15.632Z"
   },
   {
    "duration": 34,
    "start_time": "2022-01-20T17:33:15.647Z"
   },
   {
    "duration": 16,
    "start_time": "2022-01-20T17:33:15.684Z"
   },
   {
    "duration": 118,
    "start_time": "2022-01-20T17:33:15.701Z"
   },
   {
    "duration": 3,
    "start_time": "2022-01-20T17:33:15.821Z"
   },
   {
    "duration": 19,
    "start_time": "2022-01-20T17:33:15.826Z"
   },
   {
    "duration": 6,
    "start_time": "2022-01-20T17:33:15.846Z"
   },
   {
    "duration": 5,
    "start_time": "2022-01-20T17:33:15.854Z"
   },
   {
    "duration": 24,
    "start_time": "2022-01-20T17:33:15.860Z"
   },
   {
    "duration": 27,
    "start_time": "2022-01-20T17:33:15.886Z"
   },
   {
    "duration": 23,
    "start_time": "2022-01-20T17:33:15.915Z"
   },
   {
    "duration": 2,
    "start_time": "2022-01-20T17:33:15.940Z"
   },
   {
    "duration": 946,
    "start_time": "2022-01-20T17:33:15.943Z"
   },
   {
    "duration": 20,
    "start_time": "2022-01-20T17:33:16.891Z"
   },
   {
    "duration": 4,
    "start_time": "2022-01-20T17:33:16.913Z"
   },
   {
    "duration": 42,
    "start_time": "2022-01-20T17:33:16.921Z"
   },
   {
    "duration": 24,
    "start_time": "2022-01-20T17:33:16.965Z"
   },
   {
    "duration": 17,
    "start_time": "2022-01-20T17:33:16.991Z"
   },
   {
    "duration": 339,
    "start_time": "2022-01-20T17:33:17.010Z"
   },
   {
    "duration": 16,
    "start_time": "2022-01-20T17:33:17.351Z"
   },
   {
    "duration": 298,
    "start_time": "2022-01-20T17:33:17.369Z"
   },
   {
    "duration": 230,
    "start_time": "2022-01-20T17:33:17.669Z"
   },
   {
    "duration": 8,
    "start_time": "2022-01-20T17:33:17.901Z"
   },
   {
    "duration": 218,
    "start_time": "2022-01-20T17:33:17.910Z"
   },
   {
    "duration": 203,
    "start_time": "2022-01-20T17:33:18.130Z"
   },
   {
    "duration": 174,
    "start_time": "2022-01-20T17:33:18.335Z"
   },
   {
    "duration": 7,
    "start_time": "2022-01-20T17:33:18.510Z"
   },
   {
    "duration": 6,
    "start_time": "2022-01-20T17:33:18.519Z"
   },
   {
    "duration": 19,
    "start_time": "2022-01-20T17:33:18.526Z"
   },
   {
    "duration": 22,
    "start_time": "2022-01-20T17:33:18.547Z"
   },
   {
    "duration": 6,
    "start_time": "2022-01-20T17:33:18.571Z"
   },
   {
    "duration": 292,
    "start_time": "2022-01-20T17:33:18.579Z"
   },
   {
    "duration": 289,
    "start_time": "2022-01-20T17:33:18.873Z"
   },
   {
    "duration": 231,
    "start_time": "2022-01-20T17:33:19.164Z"
   },
   {
    "duration": 6,
    "start_time": "2022-01-20T17:33:19.396Z"
   },
   {
    "duration": 5,
    "start_time": "2022-01-20T17:33:19.404Z"
   },
   {
    "duration": 52,
    "start_time": "2022-01-20T17:33:19.410Z"
   },
   {
    "duration": 11,
    "start_time": "2022-01-20T17:33:19.464Z"
   },
   {
    "duration": 9,
    "start_time": "2022-01-20T17:33:19.477Z"
   },
   {
    "duration": 213,
    "start_time": "2022-01-20T17:33:19.487Z"
   },
   {
    "duration": 3,
    "start_time": "2022-01-20T17:33:19.702Z"
   },
   {
    "duration": 36,
    "start_time": "2022-01-20T17:33:19.707Z"
   },
   {
    "duration": 310,
    "start_time": "2022-01-20T17:33:19.744Z"
   },
   {
    "duration": 165,
    "start_time": "2022-01-20T17:33:20.055Z"
   },
   {
    "duration": 14,
    "start_time": "2022-01-20T17:33:20.222Z"
   },
   {
    "duration": 4062,
    "start_time": "2022-01-20T17:33:20.237Z"
   },
   {
    "duration": 1300,
    "start_time": "2022-01-20T17:33:24.300Z"
   },
   {
    "duration": 507,
    "start_time": "2022-01-20T17:33:25.602Z"
   },
   {
    "duration": 244,
    "start_time": "2022-01-20T17:33:26.111Z"
   },
   {
    "duration": 3497,
    "start_time": "2022-01-20T17:33:26.358Z"
   },
   {
    "duration": 1223,
    "start_time": "2022-01-20T17:33:29.860Z"
   },
   {
    "duration": 468,
    "start_time": "2022-01-20T17:33:31.085Z"
   },
   {
    "duration": 232,
    "start_time": "2022-01-20T17:33:31.555Z"
   },
   {
    "duration": 24,
    "start_time": "2022-01-20T17:40:56.690Z"
   },
   {
    "duration": 286,
    "start_time": "2022-01-21T22:02:02.623Z"
   },
   {
    "duration": 652,
    "start_time": "2022-01-21T22:02:10.522Z"
   },
   {
    "duration": 128,
    "start_time": "2022-01-21T22:02:11.176Z"
   },
   {
    "duration": 20,
    "start_time": "2022-01-21T22:02:11.306Z"
   },
   {
    "duration": 46,
    "start_time": "2022-01-21T22:02:11.329Z"
   },
   {
    "duration": 58,
    "start_time": "2022-01-21T22:02:11.376Z"
   },
   {
    "duration": 103,
    "start_time": "2022-01-21T22:02:11.436Z"
   },
   {
    "duration": 4,
    "start_time": "2022-01-21T22:02:11.541Z"
   },
   {
    "duration": 38,
    "start_time": "2022-01-21T22:02:11.548Z"
   },
   {
    "duration": 43,
    "start_time": "2022-01-21T22:02:11.589Z"
   },
   {
    "duration": 15,
    "start_time": "2022-01-21T22:02:11.634Z"
   },
   {
    "duration": 138,
    "start_time": "2022-01-21T22:02:11.651Z"
   },
   {
    "duration": 4,
    "start_time": "2022-01-21T22:02:11.791Z"
   },
   {
    "duration": 47,
    "start_time": "2022-01-21T22:02:11.797Z"
   },
   {
    "duration": 7,
    "start_time": "2022-01-21T22:02:11.846Z"
   },
   {
    "duration": 34,
    "start_time": "2022-01-21T22:02:11.854Z"
   },
   {
    "duration": 31,
    "start_time": "2022-01-21T22:02:11.890Z"
   },
   {
    "duration": 39,
    "start_time": "2022-01-21T22:02:11.923Z"
   },
   {
    "duration": 33,
    "start_time": "2022-01-21T22:02:11.964Z"
   },
   {
    "duration": 27,
    "start_time": "2022-01-21T22:02:11.998Z"
   },
   {
    "duration": 2,
    "start_time": "2022-01-21T22:02:12.026Z"
   },
   {
    "duration": 958,
    "start_time": "2022-01-21T22:02:12.030Z"
   },
   {
    "duration": 22,
    "start_time": "2022-01-21T22:02:12.990Z"
   },
   {
    "duration": 13,
    "start_time": "2022-01-21T22:02:13.016Z"
   },
   {
    "duration": 65,
    "start_time": "2022-01-21T22:02:13.031Z"
   },
   {
    "duration": 44,
    "start_time": "2022-01-21T22:02:13.097Z"
   },
   {
    "duration": 19,
    "start_time": "2022-01-21T22:02:13.143Z"
   },
   {
    "duration": 368,
    "start_time": "2022-01-21T22:02:13.164Z"
   },
   {
    "duration": 10,
    "start_time": "2022-01-21T22:02:13.534Z"
   },
   {
    "duration": 231,
    "start_time": "2022-01-21T22:02:13.546Z"
   },
   {
    "duration": 216,
    "start_time": "2022-01-21T22:02:13.779Z"
   },
   {
    "duration": 8,
    "start_time": "2022-01-21T22:02:13.997Z"
   },
   {
    "duration": 222,
    "start_time": "2022-01-21T22:02:14.007Z"
   },
   {
    "duration": 199,
    "start_time": "2022-01-21T22:02:14.231Z"
   },
   {
    "duration": 186,
    "start_time": "2022-01-21T22:02:14.432Z"
   },
   {
    "duration": 7,
    "start_time": "2022-01-21T22:02:14.620Z"
   },
   {
    "duration": 10,
    "start_time": "2022-01-21T22:02:14.629Z"
   },
   {
    "duration": 28,
    "start_time": "2022-01-21T22:02:14.641Z"
   },
   {
    "duration": 9,
    "start_time": "2022-01-21T22:02:14.670Z"
   },
   {
    "duration": 2,
    "start_time": "2022-01-21T22:02:14.681Z"
   },
   {
    "duration": 281,
    "start_time": "2022-01-21T22:02:14.685Z"
   },
   {
    "duration": 288,
    "start_time": "2022-01-21T22:02:14.968Z"
   },
   {
    "duration": 219,
    "start_time": "2022-01-21T22:02:15.260Z"
   },
   {
    "duration": 6,
    "start_time": "2022-01-21T22:02:15.480Z"
   },
   {
    "duration": 3,
    "start_time": "2022-01-21T22:02:15.488Z"
   },
   {
    "duration": 35,
    "start_time": "2022-01-21T22:02:15.493Z"
   },
   {
    "duration": 31,
    "start_time": "2022-01-21T22:02:15.530Z"
   },
   {
    "duration": 10,
    "start_time": "2022-01-21T22:02:15.563Z"
   },
   {
    "duration": 213,
    "start_time": "2022-01-21T22:02:15.575Z"
   },
   {
    "duration": 3,
    "start_time": "2022-01-21T22:02:15.790Z"
   },
   {
    "duration": 43,
    "start_time": "2022-01-21T22:02:15.795Z"
   },
   {
    "duration": 290,
    "start_time": "2022-01-21T22:02:15.840Z"
   },
   {
    "duration": 156,
    "start_time": "2022-01-21T22:02:16.132Z"
   },
   {
    "duration": 14,
    "start_time": "2022-01-21T22:02:16.290Z"
   },
   {
    "duration": 3532,
    "start_time": "2022-01-21T22:02:16.306Z"
   },
   {
    "duration": 1238,
    "start_time": "2022-01-21T22:02:19.840Z"
   },
   {
    "duration": 489,
    "start_time": "2022-01-21T22:02:21.080Z"
   },
   {
    "duration": 248,
    "start_time": "2022-01-21T22:02:21.571Z"
   },
   {
    "duration": 4050,
    "start_time": "2022-01-21T22:02:21.820Z"
   },
   {
    "duration": 1466,
    "start_time": "2022-01-21T22:02:25.872Z"
   },
   {
    "duration": 506,
    "start_time": "2022-01-21T22:02:27.340Z"
   },
   {
    "duration": 245,
    "start_time": "2022-01-21T22:02:27.847Z"
   },
   {
    "duration": 6,
    "start_time": "2022-01-21T22:09:41.073Z"
   },
   {
    "duration": 18,
    "start_time": "2022-01-21T22:09:45.417Z"
   },
   {
    "duration": 21,
    "start_time": "2022-01-21T22:31:49.648Z"
   },
   {
    "duration": 4,
    "start_time": "2022-01-21T22:31:59.518Z"
   },
   {
    "duration": 96,
    "start_time": "2022-01-21T22:31:59.523Z"
   },
   {
    "duration": 22,
    "start_time": "2022-01-21T22:31:59.621Z"
   },
   {
    "duration": 19,
    "start_time": "2022-01-21T22:31:59.661Z"
   },
   {
    "duration": 43,
    "start_time": "2022-01-21T22:31:59.681Z"
   },
   {
    "duration": 152,
    "start_time": "2022-01-21T22:31:59.726Z"
   },
   {
    "duration": 4,
    "start_time": "2022-01-21T22:31:59.879Z"
   },
   {
    "duration": 10,
    "start_time": "2022-01-21T22:31:59.885Z"
   },
   {
    "duration": 21,
    "start_time": "2022-01-21T22:31:59.897Z"
   },
   {
    "duration": 13,
    "start_time": "2022-01-21T22:31:59.919Z"
   },
   {
    "duration": 130,
    "start_time": "2022-01-21T22:31:59.934Z"
   },
   {
    "duration": 4,
    "start_time": "2022-01-21T22:32:00.066Z"
   },
   {
    "duration": 17,
    "start_time": "2022-01-21T22:32:00.072Z"
   },
   {
    "duration": 37,
    "start_time": "2022-01-21T22:32:00.090Z"
   },
   {
    "duration": 3,
    "start_time": "2022-01-21T22:32:00.129Z"
   },
   {
    "duration": 13,
    "start_time": "2022-01-21T22:32:00.134Z"
   },
   {
    "duration": 9,
    "start_time": "2022-01-21T22:32:00.149Z"
   },
   {
    "duration": 28,
    "start_time": "2022-01-21T22:32:00.160Z"
   },
   {
    "duration": 27,
    "start_time": "2022-01-21T22:32:00.190Z"
   },
   {
    "duration": 35,
    "start_time": "2022-01-21T22:32:00.219Z"
   },
   {
    "duration": 4,
    "start_time": "2022-01-21T22:32:00.259Z"
   },
   {
    "duration": 927,
    "start_time": "2022-01-21T22:32:00.265Z"
   },
   {
    "duration": 21,
    "start_time": "2022-01-21T22:32:01.197Z"
   },
   {
    "duration": 4,
    "start_time": "2022-01-21T22:32:01.221Z"
   },
   {
    "duration": 48,
    "start_time": "2022-01-21T22:32:01.227Z"
   },
   {
    "duration": 24,
    "start_time": "2022-01-21T22:32:01.277Z"
   },
   {
    "duration": 19,
    "start_time": "2022-01-21T22:32:01.303Z"
   },
   {
    "duration": 244,
    "start_time": "2022-01-21T22:32:01.324Z"
   },
   {
    "duration": 8,
    "start_time": "2022-01-21T22:32:01.571Z"
   },
   {
    "duration": 242,
    "start_time": "2022-01-21T22:32:01.581Z"
   },
   {
    "duration": 238,
    "start_time": "2022-01-21T22:32:01.825Z"
   },
   {
    "duration": 9,
    "start_time": "2022-01-21T22:32:02.065Z"
   },
   {
    "duration": 248,
    "start_time": "2022-01-21T22:32:02.076Z"
   },
   {
    "duration": 301,
    "start_time": "2022-01-21T22:32:02.326Z"
   },
   {
    "duration": 201,
    "start_time": "2022-01-21T22:32:02.629Z"
   },
   {
    "duration": 8,
    "start_time": "2022-01-21T22:32:02.832Z"
   },
   {
    "duration": 3,
    "start_time": "2022-01-21T22:32:02.841Z"
   },
   {
    "duration": 12,
    "start_time": "2022-01-21T22:32:02.861Z"
   },
   {
    "duration": 9,
    "start_time": "2022-01-21T22:32:02.875Z"
   },
   {
    "duration": 2,
    "start_time": "2022-01-21T22:32:02.885Z"
   },
   {
    "duration": 301,
    "start_time": "2022-01-21T22:32:02.889Z"
   },
   {
    "duration": 271,
    "start_time": "2022-01-21T22:32:03.192Z"
   },
   {
    "duration": 241,
    "start_time": "2022-01-21T22:32:03.465Z"
   },
   {
    "duration": 5,
    "start_time": "2022-01-21T22:32:03.708Z"
   },
   {
    "duration": 10,
    "start_time": "2022-01-21T22:32:03.715Z"
   },
   {
    "duration": 50,
    "start_time": "2022-01-21T22:32:03.727Z"
   },
   {
    "duration": 12,
    "start_time": "2022-01-21T22:32:03.779Z"
   },
   {
    "duration": 52,
    "start_time": "2022-01-21T22:32:03.793Z"
   },
   {
    "duration": 167,
    "start_time": "2022-01-21T22:32:03.847Z"
   },
   {
    "duration": 4,
    "start_time": "2022-01-21T22:32:04.016Z"
   },
   {
    "duration": 43,
    "start_time": "2022-01-21T22:32:04.021Z"
   },
   {
    "duration": 281,
    "start_time": "2022-01-21T22:32:04.066Z"
   },
   {
    "duration": 166,
    "start_time": "2022-01-21T22:32:04.349Z"
   },
   {
    "duration": 13,
    "start_time": "2022-01-21T22:32:04.518Z"
   },
   {
    "duration": 4090,
    "start_time": "2022-01-21T22:32:04.533Z"
   },
   {
    "duration": 1360,
    "start_time": "2022-01-21T22:32:08.625Z"
   },
   {
    "duration": 392,
    "start_time": "2022-01-21T22:32:09.987Z"
   },
   {
    "duration": 230,
    "start_time": "2022-01-21T22:32:10.381Z"
   },
   {
    "duration": 4105,
    "start_time": "2022-01-21T22:32:10.613Z"
   },
   {
    "duration": 1396,
    "start_time": "2022-01-21T22:32:14.719Z"
   },
   {
    "duration": 404,
    "start_time": "2022-01-21T22:32:16.117Z"
   },
   {
    "duration": 243,
    "start_time": "2022-01-21T22:32:16.523Z"
   },
   {
    "duration": 224,
    "start_time": "2022-01-21T22:34:00.484Z"
   },
   {
    "duration": 196,
    "start_time": "2022-01-21T22:34:11.367Z"
   },
   {
    "duration": 347,
    "start_time": "2022-01-21T22:34:13.838Z"
   },
   {
    "duration": 189,
    "start_time": "2022-01-21T22:34:20.231Z"
   },
   {
    "duration": 181,
    "start_time": "2022-01-21T22:34:25.513Z"
   },
   {
    "duration": 161,
    "start_time": "2022-01-21T22:34:29.156Z"
   },
   {
    "duration": 264,
    "start_time": "2022-01-21T22:34:45.213Z"
   },
   {
    "duration": 261,
    "start_time": "2022-01-21T22:34:51.940Z"
   },
   {
    "duration": 214,
    "start_time": "2022-01-21T22:34:56.329Z"
   },
   {
    "duration": 3,
    "start_time": "2022-01-21T22:35:54.808Z"
   },
   {
    "duration": 89,
    "start_time": "2022-01-21T22:35:54.816Z"
   },
   {
    "duration": 20,
    "start_time": "2022-01-21T22:35:54.907Z"
   },
   {
    "duration": 39,
    "start_time": "2022-01-21T22:35:54.929Z"
   },
   {
    "duration": 40,
    "start_time": "2022-01-21T22:35:54.970Z"
   },
   {
    "duration": 134,
    "start_time": "2022-01-21T22:35:55.012Z"
   },
   {
    "duration": 15,
    "start_time": "2022-01-21T22:35:55.147Z"
   },
   {
    "duration": 16,
    "start_time": "2022-01-21T22:35:55.163Z"
   },
   {
    "duration": 34,
    "start_time": "2022-01-21T22:35:55.181Z"
   },
   {
    "duration": 22,
    "start_time": "2022-01-21T22:35:55.217Z"
   },
   {
    "duration": 118,
    "start_time": "2022-01-21T22:35:55.241Z"
   },
   {
    "duration": 4,
    "start_time": "2022-01-21T22:35:55.360Z"
   },
   {
    "duration": 12,
    "start_time": "2022-01-21T22:35:55.365Z"
   },
   {
    "duration": 41,
    "start_time": "2022-01-21T22:35:55.378Z"
   },
   {
    "duration": 3,
    "start_time": "2022-01-21T22:35:55.421Z"
   },
   {
    "duration": 11,
    "start_time": "2022-01-21T22:35:55.426Z"
   },
   {
    "duration": 26,
    "start_time": "2022-01-21T22:35:55.439Z"
   },
   {
    "duration": 24,
    "start_time": "2022-01-21T22:35:55.466Z"
   },
   {
    "duration": 25,
    "start_time": "2022-01-21T22:35:55.492Z"
   },
   {
    "duration": 19,
    "start_time": "2022-01-21T22:35:55.519Z"
   },
   {
    "duration": 23,
    "start_time": "2022-01-21T22:35:55.539Z"
   },
   {
    "duration": 950,
    "start_time": "2022-01-21T22:35:55.564Z"
   },
   {
    "duration": 20,
    "start_time": "2022-01-21T22:35:56.516Z"
   },
   {
    "duration": 21,
    "start_time": "2022-01-21T22:35:56.540Z"
   },
   {
    "duration": 45,
    "start_time": "2022-01-21T22:35:56.563Z"
   },
   {
    "duration": 48,
    "start_time": "2022-01-21T22:35:56.610Z"
   },
   {
    "duration": 23,
    "start_time": "2022-01-21T22:35:56.660Z"
   },
   {
    "duration": 314,
    "start_time": "2022-01-21T22:35:56.685Z"
   },
   {
    "duration": 7,
    "start_time": "2022-01-21T22:35:57.001Z"
   },
   {
    "duration": 341,
    "start_time": "2022-01-21T22:35:57.009Z"
   },
   {
    "duration": 203,
    "start_time": "2022-01-21T22:35:57.352Z"
   },
   {
    "duration": 10,
    "start_time": "2022-01-21T22:35:57.556Z"
   },
   {
    "duration": 212,
    "start_time": "2022-01-21T22:35:57.568Z"
   },
   {
    "duration": 195,
    "start_time": "2022-01-21T22:35:57.782Z"
   },
   {
    "duration": 171,
    "start_time": "2022-01-21T22:35:57.979Z"
   },
   {
    "duration": 9,
    "start_time": "2022-01-21T22:35:58.160Z"
   },
   {
    "duration": 26,
    "start_time": "2022-01-21T22:35:58.171Z"
   },
   {
    "duration": 38,
    "start_time": "2022-01-21T22:35:58.199Z"
   },
   {
    "duration": 32,
    "start_time": "2022-01-21T22:35:58.239Z"
   },
   {
    "duration": 28,
    "start_time": "2022-01-21T22:35:58.272Z"
   },
   {
    "duration": 291,
    "start_time": "2022-01-21T22:35:58.302Z"
   },
   {
    "duration": 375,
    "start_time": "2022-01-21T22:35:58.595Z"
   },
   {
    "duration": 219,
    "start_time": "2022-01-21T22:35:58.972Z"
   },
   {
    "duration": 7,
    "start_time": "2022-01-21T22:35:59.193Z"
   },
   {
    "duration": 28,
    "start_time": "2022-01-21T22:35:59.202Z"
   },
   {
    "duration": 47,
    "start_time": "2022-01-21T22:35:59.232Z"
   },
   {
    "duration": 12,
    "start_time": "2022-01-21T22:35:59.281Z"
   },
   {
    "duration": 28,
    "start_time": "2022-01-21T22:35:59.295Z"
   },
   {
    "duration": 137,
    "start_time": "2022-01-21T22:35:59.325Z"
   },
   {
    "duration": 3,
    "start_time": "2022-01-21T22:35:59.464Z"
   },
   {
    "duration": 56,
    "start_time": "2022-01-21T22:35:59.469Z"
   },
   {
    "duration": 290,
    "start_time": "2022-01-21T22:35:59.527Z"
   },
   {
    "duration": 173,
    "start_time": "2022-01-21T22:35:59.819Z"
   },
   {
    "duration": 15,
    "start_time": "2022-01-21T22:35:59.994Z"
   },
   {
    "duration": 4108,
    "start_time": "2022-01-21T22:36:00.011Z"
   },
   {
    "duration": 1165,
    "start_time": "2022-01-21T22:36:04.121Z"
   },
   {
    "duration": 398,
    "start_time": "2022-01-21T22:36:05.288Z"
   },
   {
    "duration": 236,
    "start_time": "2022-01-21T22:36:05.689Z"
   },
   {
    "duration": 3586,
    "start_time": "2022-01-21T22:36:05.927Z"
   },
   {
    "duration": 1177,
    "start_time": "2022-01-21T22:36:09.515Z"
   },
   {
    "duration": 421,
    "start_time": "2022-01-21T22:36:10.694Z"
   },
   {
    "duration": 227,
    "start_time": "2022-01-21T22:36:11.117Z"
   }
  ],
  "kernelspec": {
   "display_name": "Python 3 (ipykernel)",
   "language": "python",
   "name": "python3"
  },
  "language_info": {
   "codemirror_mode": {
    "name": "ipython",
    "version": 3
   },
   "file_extension": ".py",
   "mimetype": "text/x-python",
   "name": "python",
   "nbconvert_exporter": "python",
   "pygments_lexer": "ipython3",
   "version": "3.9.5"
  },
  "toc": {
   "base_numbering": 1,
   "nav_menu": {},
   "number_sections": true,
   "sideBar": true,
   "skip_h1_title": false,
   "title_cell": "Table of Contents",
   "title_sidebar": "Contents",
   "toc_cell": false,
   "toc_position": {
    "height": "calc(100% - 180px)",
    "left": "10px",
    "top": "150px",
    "width": "341.594px"
   },
   "toc_section_display": true,
   "toc_window_display": false
  }
 },
 "nbformat": 4,
 "nbformat_minor": 2
}
